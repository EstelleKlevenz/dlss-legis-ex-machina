{
  "cells": [
    {
      "cell_type": "markdown",
      "id": "c1f1e0cb",
      "metadata": {
        "id": "c1f1e0cb"
      },
      "source": [
        "# Fine-tuning Classifier LLM\n"
      ]
    },
    {
      "cell_type": "code",
      "execution_count": 4,
      "id": "605d0b0a",
      "metadata": {
        "colab": {
          "base_uri": "https://localhost:8080/"
        },
        "id": "605d0b0a",
        "outputId": "0ea3b554-eb04-40af-db96-3855180c182c"
      },
      "outputs": [
        {
          "name": "stdout",
          "output_type": "stream",
          "text": [
            "cpu\n"
          ]
        }
      ],
      "source": [
        "# setup - load packages\n",
        "import pandas as pd\n",
        "from datasets import Dataset\n",
        "import torch\n",
        "import numpy as np\n",
        "from transformers import AutoTokenizer, AutoModelForSequenceClassification\n",
        "import torch.nn.functional as F\n",
        "from sklearn.metrics import (\n",
        "    accuracy_score,\n",
        "    classification_report,\n",
        "    confusion_matrix,\n",
        "    f1_score,\n",
        "    precision_score,\n",
        "    recall_score,\n",
        "    balanced_accuracy_score\n",
        ")\n",
        "import matplotlib.pyplot as plt\n",
        "import seaborn as sns\n",
        "from transformers import TrainingArguments, Trainer\n",
        "\n",
        "# Set up device (is available use GPU to speed up computations)\n",
        "device = torch.device(\"cuda\" if torch.cuda.is_available() else \"cpu\")\n",
        "print(device)\n",
        "\n",
        "seed = 13"
      ]
    },
    {
      "cell_type": "code",
      "execution_count": 5,
      "id": "9124e7b1",
      "metadata": {},
      "outputs": [
        {
          "name": "stdout",
          "output_type": "stream",
          "text": [
            "Training samples party: 25281\n",
            "Test samples party: 5418\n",
            "Validation samples party: 5418\n"
          ]
        }
      ],
      "source": [
        "classifier_data = pd.read_csv(\"../data/classifier_data_A.csv\")\n",
        "# converting to huggingface dataset format\n",
        "data = Dataset.from_pandas(classifier_data)\n",
        "# splitting into train, test and validation sets\n",
        "# party data\n",
        "raw_dataset = data.shuffle(seed=seed)\n",
        "\n",
        "# 70% train, 15% test, 15% validation data\n",
        "split = raw_dataset.train_test_split(test_size=0.3, seed=seed)\n",
        "train_data = split[\"train\"]\n",
        "text_and_val_data = split[\"test\"]\n",
        "split = text_and_val_data.train_test_split(test_size=0.5, seed=seed)\n",
        "test_data = split[\"train\"]\n",
        "val_data = split[\"test\"]\n",
        "\n",
        "print(f\"Training samples party: {len(train_data)}\")\n",
        "print(f\"Test samples party: {len(test_data)}\")\n",
        "print(f\"Validation samples party: {len(val_data)}\")\n",
        "\n",
        "\n",
        "\n",
        "# data balancing??\n"
      ]
    },
    {
      "cell_type": "code",
      "execution_count": 14,
      "id": "39264e18",
      "metadata": {},
      "outputs": [],
      "source": [
        "from transformers import AutoTokenizer\n",
        "from datasets import load_dataset\n",
        "from typing import Union\n",
        "from typing import Mapping"
      ]
    },
    {
      "cell_type": "code",
      "execution_count": 6,
      "id": "e176c9d3",
      "metadata": {},
      "outputs": [],
      "source": [
        "WINDOW_LENGTH = 512\n",
        "STRIDE = 256"
      ]
    },
    {
      "cell_type": "code",
      "execution_count": 16,
      "id": "fd8bc2b5",
      "metadata": {
        "colab": {
          "base_uri": "https://localhost:8080/"
        },
        "id": "fd8bc2b5",
        "outputId": "55ab4fb4-4e66-4b0a-ed3a-4258ba8ef30f"
      },
      "outputs": [],
      "source": [
        "# Load Tokenizer\n",
        "model_name = \"bert-base-german-cased\"\n",
        "num_labels = 6\n",
        "tokenizer = AutoTokenizer.from_pretrained(\n",
        "    model_name,\n",
        "    model_max_length=WINDOW_LENGTH\n",
        ")\n"
      ]
    },
    {
      "cell_type": "code",
      "execution_count": 17,
      "id": "58a3ea65",
      "metadata": {},
      "outputs": [],
      "source": [
        "label_names = ['CDU/CSU', 'SPD', 'GRÜNE', 'FDP', 'AfD', 'LINKE']\n",
        "label2id = {label: i for i, label in enumerate(sorted(label_names))}\n",
        "id2label = {i: label for label, i in label2id.items()}"
      ]
    },
    {
      "cell_type": "code",
      "execution_count": 18,
      "id": "9f3ed929",
      "metadata": {},
      "outputs": [],
      "source": [
        "def sliding_window_tokenize(batch: Mapping[str, list]):\n",
        "    texts = batch[\"speech_text\"]\n",
        "    labels = batch[\"label\"]\n",
        "    \n",
        "    tokenized = tokenizer(\n",
        "        texts,\n",
        "        truncation=True,\n",
        "        padding=\"max_length\",\n",
        "        max_length=WINDOW_LENGTH,\n",
        "        stride=STRIDE,\n",
        "        return_overflowing_tokens=True,\n",
        "        return_offsets_mapping=False\n",
        "    )\n",
        "    tokenized[\"labels\"] = [labels[i] for i in tokenized[\"overflow_to_sample_mapping\"]]\n",
        "    return tokenized"
      ]
    },
    {
      "cell_type": "code",
      "execution_count": 20,
      "id": "15808c33",
      "metadata": {},
      "outputs": [
        {
          "name": "stderr",
          "output_type": "stream",
          "text": [
            "Map: 100%|██████████| 2000/2000 [00:01<00:00, 1110.56 examples/s]\n"
          ]
        }
      ],
      "source": [
        "from datasets import Dataset\n",
        "\n",
        "# Beispiel: Kürzung auf 2000 Beispiele\n",
        "small_dataset = data.select(range(2000))\n",
        "tokenized_dataset = small_dataset.map(\n",
        "    sliding_window_tokenize,\n",
        "    batched=True,\n",
        "    remove_columns=small_dataset.column_names\n",
        ")"
      ]
    },
    {
      "cell_type": "code",
      "execution_count": 21,
      "id": "943e95d6",
      "metadata": {},
      "outputs": [
        {
          "name": "stdout",
          "output_type": "stream",
          "text": [
            "Collecting evaluate\n",
            "  Downloading evaluate-0.4.5-py3-none-any.whl.metadata (9.5 kB)\n",
            "Requirement already satisfied: datasets>=2.0.0 in c:\\users\\estelle\\miniconda3\\envs\\deeplearn\\lib\\site-packages (from evaluate) (4.0.0)\n",
            "Requirement already satisfied: numpy>=1.17 in c:\\users\\estelle\\miniconda3\\envs\\deeplearn\\lib\\site-packages (from evaluate) (2.2.5)\n",
            "Requirement already satisfied: dill in c:\\users\\estelle\\miniconda3\\envs\\deeplearn\\lib\\site-packages (from evaluate) (0.3.8)\n",
            "Requirement already satisfied: pandas in c:\\users\\estelle\\miniconda3\\envs\\deeplearn\\lib\\site-packages (from evaluate) (2.2.3)\n",
            "Requirement already satisfied: requests>=2.19.0 in c:\\users\\estelle\\miniconda3\\envs\\deeplearn\\lib\\site-packages (from evaluate) (2.32.4)\n",
            "Requirement already satisfied: tqdm>=4.62.1 in c:\\users\\estelle\\miniconda3\\envs\\deeplearn\\lib\\site-packages (from evaluate) (4.67.1)\n",
            "Requirement already satisfied: xxhash in c:\\users\\estelle\\miniconda3\\envs\\deeplearn\\lib\\site-packages (from evaluate) (3.5.0)\n",
            "Requirement already satisfied: multiprocess in c:\\users\\estelle\\miniconda3\\envs\\deeplearn\\lib\\site-packages (from evaluate) (0.70.16)\n",
            "Requirement already satisfied: fsspec>=2021.05.0 in c:\\users\\estelle\\miniconda3\\envs\\deeplearn\\lib\\site-packages (from fsspec[http]>=2021.05.0->evaluate) (2025.3.0)\n",
            "Requirement already satisfied: huggingface-hub>=0.7.0 in c:\\users\\estelle\\miniconda3\\envs\\deeplearn\\lib\\site-packages (from evaluate) (0.33.2)\n",
            "Requirement already satisfied: packaging in c:\\users\\estelle\\miniconda3\\envs\\deeplearn\\lib\\site-packages (from evaluate) (25.0)\n",
            "Requirement already satisfied: filelock in c:\\users\\estelle\\miniconda3\\envs\\deeplearn\\lib\\site-packages (from datasets>=2.0.0->evaluate) (3.18.0)\n",
            "Requirement already satisfied: pyarrow>=15.0.0 in c:\\users\\estelle\\miniconda3\\envs\\deeplearn\\lib\\site-packages (from datasets>=2.0.0->evaluate) (20.0.0)\n",
            "Requirement already satisfied: pyyaml>=5.1 in c:\\users\\estelle\\miniconda3\\envs\\deeplearn\\lib\\site-packages (from datasets>=2.0.0->evaluate) (6.0.2)\n",
            "Requirement already satisfied: aiohttp!=4.0.0a0,!=4.0.0a1 in c:\\users\\estelle\\miniconda3\\envs\\deeplearn\\lib\\site-packages (from fsspec[http]>=2021.05.0->evaluate) (3.12.13)\n",
            "Requirement already satisfied: typing-extensions>=3.7.4.3 in c:\\users\\estelle\\miniconda3\\envs\\deeplearn\\lib\\site-packages (from huggingface-hub>=0.7.0->evaluate) (4.13.2)\n",
            "Requirement already satisfied: charset_normalizer<4,>=2 in c:\\users\\estelle\\miniconda3\\envs\\deeplearn\\lib\\site-packages (from requests>=2.19.0->evaluate) (3.4.2)\n",
            "Requirement already satisfied: idna<4,>=2.5 in c:\\users\\estelle\\miniconda3\\envs\\deeplearn\\lib\\site-packages (from requests>=2.19.0->evaluate) (3.10)\n",
            "Requirement already satisfied: urllib3<3,>=1.21.1 in c:\\users\\estelle\\miniconda3\\envs\\deeplearn\\lib\\site-packages (from requests>=2.19.0->evaluate) (2.5.0)\n",
            "Requirement already satisfied: certifi>=2017.4.17 in c:\\users\\estelle\\miniconda3\\envs\\deeplearn\\lib\\site-packages (from requests>=2.19.0->evaluate) (2025.6.15)\n",
            "Requirement already satisfied: colorama in c:\\users\\estelle\\miniconda3\\envs\\deeplearn\\lib\\site-packages (from tqdm>=4.62.1->evaluate) (0.4.6)\n",
            "Requirement already satisfied: python-dateutil>=2.8.2 in c:\\users\\estelle\\miniconda3\\envs\\deeplearn\\lib\\site-packages (from pandas->evaluate) (2.9.0.post0)\n",
            "Requirement already satisfied: pytz>=2020.1 in c:\\users\\estelle\\miniconda3\\envs\\deeplearn\\lib\\site-packages (from pandas->evaluate) (2025.2)\n",
            "Requirement already satisfied: tzdata>=2022.7 in c:\\users\\estelle\\miniconda3\\envs\\deeplearn\\lib\\site-packages (from pandas->evaluate) (2025.2)\n",
            "Requirement already satisfied: aiohappyeyeballs>=2.5.0 in c:\\users\\estelle\\miniconda3\\envs\\deeplearn\\lib\\site-packages (from aiohttp!=4.0.0a0,!=4.0.0a1->fsspec[http]>=2021.05.0->evaluate) (2.6.1)\n",
            "Requirement already satisfied: aiosignal>=1.1.2 in c:\\users\\estelle\\miniconda3\\envs\\deeplearn\\lib\\site-packages (from aiohttp!=4.0.0a0,!=4.0.0a1->fsspec[http]>=2021.05.0->evaluate) (1.3.2)\n",
            "Requirement already satisfied: attrs>=17.3.0 in c:\\users\\estelle\\miniconda3\\envs\\deeplearn\\lib\\site-packages (from aiohttp!=4.0.0a0,!=4.0.0a1->fsspec[http]>=2021.05.0->evaluate) (25.3.0)\n",
            "Requirement already satisfied: frozenlist>=1.1.1 in c:\\users\\estelle\\miniconda3\\envs\\deeplearn\\lib\\site-packages (from aiohttp!=4.0.0a0,!=4.0.0a1->fsspec[http]>=2021.05.0->evaluate) (1.7.0)\n",
            "Requirement already satisfied: multidict<7.0,>=4.5 in c:\\users\\estelle\\miniconda3\\envs\\deeplearn\\lib\\site-packages (from aiohttp!=4.0.0a0,!=4.0.0a1->fsspec[http]>=2021.05.0->evaluate) (6.5.0)\n",
            "Requirement already satisfied: propcache>=0.2.0 in c:\\users\\estelle\\miniconda3\\envs\\deeplearn\\lib\\site-packages (from aiohttp!=4.0.0a0,!=4.0.0a1->fsspec[http]>=2021.05.0->evaluate) (0.3.2)\n",
            "Requirement already satisfied: yarl<2.0,>=1.17.0 in c:\\users\\estelle\\miniconda3\\envs\\deeplearn\\lib\\site-packages (from aiohttp!=4.0.0a0,!=4.0.0a1->fsspec[http]>=2021.05.0->evaluate) (1.20.1)\n",
            "Requirement already satisfied: six>=1.5 in c:\\users\\estelle\\miniconda3\\envs\\deeplearn\\lib\\site-packages (from python-dateutil>=2.8.2->pandas->evaluate) (1.17.0)\n",
            "Downloading evaluate-0.4.5-py3-none-any.whl (84 kB)\n",
            "Installing collected packages: evaluate\n",
            "Successfully installed evaluate-0.4.5\n",
            "Note: you may need to restart the kernel to use updated packages.\n"
          ]
        }
      ],
      "source": [
        "%pip install evaluate"
      ]
    },
    {
      "cell_type": "code",
      "execution_count": 24,
      "id": "c5bfef97",
      "metadata": {},
      "outputs": [
        {
          "name": "stderr",
          "output_type": "stream",
          "text": [
            "Some weights of BertForSequenceClassification were not initialized from the model checkpoint at bert-base-german-cased and are newly initialized: ['classifier.bias', 'classifier.weight']\n",
            "You should probably TRAIN this model on a down-stream task to be able to use it for predictions and inference.\n",
            "C:\\Users\\Estelle\\AppData\\Local\\Temp\\ipykernel_19236\\667101789.py:38: FutureWarning: `tokenizer` is deprecated and will be removed in version 5.0.0 for `Trainer.__init__`. Use `processing_class` instead.\n",
            "  trainer = Trainer(\n"
          ]
        },
        {
          "ename": "ValueError",
          "evalue": "Unable to create tensor, you should probably activate truncation and/or padding with 'padding=True' 'truncation=True' to have batched tensors with the same length. Perhaps your features (`labels` in this case) have excessive nesting (inputs type `list` where type `int` is expected).",
          "output_type": "error",
          "traceback": [
            "\u001b[31m---------------------------------------------------------------------------\u001b[39m",
            "\u001b[31mValueError\u001b[39m                                Traceback (most recent call last)",
            "\u001b[36mFile \u001b[39m\u001b[32mc:\\Users\\Estelle\\miniconda3\\envs\\DeepLearn\\Lib\\site-packages\\transformers\\tokenization_utils_base.py:767\u001b[39m, in \u001b[36mBatchEncoding.convert_to_tensors\u001b[39m\u001b[34m(self, tensor_type, prepend_batch_axis)\u001b[39m\n\u001b[32m    766\u001b[39m \u001b[38;5;28;01mif\u001b[39;00m \u001b[38;5;129;01mnot\u001b[39;00m is_tensor(value):\n\u001b[32m--> \u001b[39m\u001b[32m767\u001b[39m     tensor = \u001b[43mas_tensor\u001b[49m\u001b[43m(\u001b[49m\u001b[43mvalue\u001b[49m\u001b[43m)\u001b[49m\n\u001b[32m    769\u001b[39m     \u001b[38;5;66;03m# Removing this for now in favor of controlling the shape with `prepend_batch_axis`\u001b[39;00m\n\u001b[32m    770\u001b[39m     \u001b[38;5;66;03m# # at-least2d\u001b[39;00m\n\u001b[32m    771\u001b[39m     \u001b[38;5;66;03m# if tensor.ndim > 2:\u001b[39;00m\n\u001b[32m    772\u001b[39m     \u001b[38;5;66;03m#     tensor = tensor.squeeze(0)\u001b[39;00m\n\u001b[32m    773\u001b[39m     \u001b[38;5;66;03m# elif tensor.ndim < 2:\u001b[39;00m\n\u001b[32m    774\u001b[39m     \u001b[38;5;66;03m#     tensor = tensor[None, :]\u001b[39;00m\n",
            "\u001b[36mFile \u001b[39m\u001b[32mc:\\Users\\Estelle\\miniconda3\\envs\\DeepLearn\\Lib\\site-packages\\transformers\\tokenization_utils_base.py:729\u001b[39m, in \u001b[36mBatchEncoding.convert_to_tensors.<locals>.as_tensor\u001b[39m\u001b[34m(value, dtype)\u001b[39m\n\u001b[32m    728\u001b[39m     \u001b[38;5;28;01mreturn\u001b[39;00m torch.from_numpy(np.array(value))\n\u001b[32m--> \u001b[39m\u001b[32m729\u001b[39m \u001b[38;5;28;01mreturn\u001b[39;00m \u001b[43mtorch\u001b[49m\u001b[43m.\u001b[49m\u001b[43mtensor\u001b[49m\u001b[43m(\u001b[49m\u001b[43mvalue\u001b[49m\u001b[43m)\u001b[49m\n",
            "\u001b[31mValueError\u001b[39m: too many dimensions 'str'",
            "\nThe above exception was the direct cause of the following exception:\n",
            "\u001b[31mValueError\u001b[39m                                Traceback (most recent call last)",
            "\u001b[36mCell\u001b[39m\u001b[36m \u001b[39m\u001b[32mIn[24]\u001b[39m\u001b[32m, line 48\u001b[39m\n\u001b[32m     25\u001b[39m training_args = TrainingArguments(\n\u001b[32m     26\u001b[39m     output_dir=\u001b[33m\"\u001b[39m\u001b[33m./results\u001b[39m\u001b[33m\"\u001b[39m,\n\u001b[32m     27\u001b[39m     eval_strategy=\u001b[33m\"\u001b[39m\u001b[33mepoch\u001b[39m\u001b[33m\"\u001b[39m,\n\u001b[32m   (...)\u001b[39m\u001b[32m     35\u001b[39m     fp16=torch.cuda.is_available(),\n\u001b[32m     36\u001b[39m )\n\u001b[32m     38\u001b[39m trainer = Trainer(\n\u001b[32m     39\u001b[39m     model=model,\n\u001b[32m     40\u001b[39m     args=training_args,\n\u001b[32m   (...)\u001b[39m\u001b[32m     45\u001b[39m     compute_metrics=compute_metrics,\n\u001b[32m     46\u001b[39m )\n\u001b[32m---> \u001b[39m\u001b[32m48\u001b[39m \u001b[43mtrainer\u001b[49m\u001b[43m.\u001b[49m\u001b[43mtrain\u001b[49m\u001b[43m(\u001b[49m\u001b[43m)\u001b[49m\n",
            "\u001b[36mFile \u001b[39m\u001b[32mc:\\Users\\Estelle\\miniconda3\\envs\\DeepLearn\\Lib\\site-packages\\transformers\\trainer.py:2206\u001b[39m, in \u001b[36mTrainer.train\u001b[39m\u001b[34m(self, resume_from_checkpoint, trial, ignore_keys_for_eval, **kwargs)\u001b[39m\n\u001b[32m   2204\u001b[39m         hf_hub_utils.enable_progress_bars()\n\u001b[32m   2205\u001b[39m \u001b[38;5;28;01melse\u001b[39;00m:\n\u001b[32m-> \u001b[39m\u001b[32m2206\u001b[39m     \u001b[38;5;28;01mreturn\u001b[39;00m \u001b[43minner_training_loop\u001b[49m\u001b[43m(\u001b[49m\n\u001b[32m   2207\u001b[39m \u001b[43m        \u001b[49m\u001b[43margs\u001b[49m\u001b[43m=\u001b[49m\u001b[43margs\u001b[49m\u001b[43m,\u001b[49m\n\u001b[32m   2208\u001b[39m \u001b[43m        \u001b[49m\u001b[43mresume_from_checkpoint\u001b[49m\u001b[43m=\u001b[49m\u001b[43mresume_from_checkpoint\u001b[49m\u001b[43m,\u001b[49m\n\u001b[32m   2209\u001b[39m \u001b[43m        \u001b[49m\u001b[43mtrial\u001b[49m\u001b[43m=\u001b[49m\u001b[43mtrial\u001b[49m\u001b[43m,\u001b[49m\n\u001b[32m   2210\u001b[39m \u001b[43m        \u001b[49m\u001b[43mignore_keys_for_eval\u001b[49m\u001b[43m=\u001b[49m\u001b[43mignore_keys_for_eval\u001b[49m\u001b[43m,\u001b[49m\n\u001b[32m   2211\u001b[39m \u001b[43m    \u001b[49m\u001b[43m)\u001b[49m\n",
            "\u001b[36mFile \u001b[39m\u001b[32mc:\\Users\\Estelle\\miniconda3\\envs\\DeepLearn\\Lib\\site-packages\\transformers\\trainer.py:2502\u001b[39m, in \u001b[36mTrainer._inner_training_loop\u001b[39m\u001b[34m(self, batch_size, args, resume_from_checkpoint, trial, ignore_keys_for_eval)\u001b[39m\n\u001b[32m   2500\u001b[39m update_step += \u001b[32m1\u001b[39m\n\u001b[32m   2501\u001b[39m num_batches = args.gradient_accumulation_steps \u001b[38;5;28;01mif\u001b[39;00m update_step != (total_updates - \u001b[32m1\u001b[39m) \u001b[38;5;28;01melse\u001b[39;00m remainder\n\u001b[32m-> \u001b[39m\u001b[32m2502\u001b[39m batch_samples, num_items_in_batch = \u001b[38;5;28;43mself\u001b[39;49m\u001b[43m.\u001b[49m\u001b[43mget_batch_samples\u001b[49m\u001b[43m(\u001b[49m\u001b[43mepoch_iterator\u001b[49m\u001b[43m,\u001b[49m\u001b[43m \u001b[49m\u001b[43mnum_batches\u001b[49m\u001b[43m,\u001b[49m\u001b[43m \u001b[49m\u001b[43margs\u001b[49m\u001b[43m.\u001b[49m\u001b[43mdevice\u001b[49m\u001b[43m)\u001b[49m\n\u001b[32m   2503\u001b[39m \u001b[38;5;28;01mfor\u001b[39;00m i, inputs \u001b[38;5;129;01min\u001b[39;00m \u001b[38;5;28menumerate\u001b[39m(batch_samples):\n\u001b[32m   2504\u001b[39m     step += \u001b[32m1\u001b[39m\n",
            "\u001b[36mFile \u001b[39m\u001b[32mc:\\Users\\Estelle\\miniconda3\\envs\\DeepLearn\\Lib\\site-packages\\transformers\\trainer.py:5300\u001b[39m, in \u001b[36mTrainer.get_batch_samples\u001b[39m\u001b[34m(self, epoch_iterator, num_batches, device)\u001b[39m\n\u001b[32m   5298\u001b[39m \u001b[38;5;28;01mfor\u001b[39;00m _ \u001b[38;5;129;01min\u001b[39;00m \u001b[38;5;28mrange\u001b[39m(num_batches):\n\u001b[32m   5299\u001b[39m     \u001b[38;5;28;01mtry\u001b[39;00m:\n\u001b[32m-> \u001b[39m\u001b[32m5300\u001b[39m         batch_samples.append(\u001b[38;5;28;43mnext\u001b[39;49m\u001b[43m(\u001b[49m\u001b[43mepoch_iterator\u001b[49m\u001b[43m)\u001b[49m)\n\u001b[32m   5301\u001b[39m     \u001b[38;5;28;01mexcept\u001b[39;00m \u001b[38;5;167;01mStopIteration\u001b[39;00m:\n\u001b[32m   5302\u001b[39m         \u001b[38;5;28;01mbreak\u001b[39;00m\n",
            "\u001b[36mFile \u001b[39m\u001b[32mc:\\Users\\Estelle\\miniconda3\\envs\\DeepLearn\\Lib\\site-packages\\accelerate\\data_loader.py:567\u001b[39m, in \u001b[36mDataLoaderShard.__iter__\u001b[39m\u001b[34m(self)\u001b[39m\n\u001b[32m    565\u001b[39m \u001b[38;5;66;03m# We iterate one batch ahead to check when we are at the end\u001b[39;00m\n\u001b[32m    566\u001b[39m \u001b[38;5;28;01mtry\u001b[39;00m:\n\u001b[32m--> \u001b[39m\u001b[32m567\u001b[39m     current_batch = \u001b[38;5;28;43mnext\u001b[39;49m\u001b[43m(\u001b[49m\u001b[43mdataloader_iter\u001b[49m\u001b[43m)\u001b[49m\n\u001b[32m    568\u001b[39m \u001b[38;5;28;01mexcept\u001b[39;00m \u001b[38;5;167;01mStopIteration\u001b[39;00m:\n\u001b[32m    569\u001b[39m     \u001b[38;5;28;01myield\u001b[39;00m\n",
            "\u001b[36mFile \u001b[39m\u001b[32mc:\\Users\\Estelle\\miniconda3\\envs\\DeepLearn\\Lib\\site-packages\\torch\\utils\\data\\dataloader.py:733\u001b[39m, in \u001b[36m_BaseDataLoaderIter.__next__\u001b[39m\u001b[34m(self)\u001b[39m\n\u001b[32m    730\u001b[39m \u001b[38;5;28;01mif\u001b[39;00m \u001b[38;5;28mself\u001b[39m._sampler_iter \u001b[38;5;129;01mis\u001b[39;00m \u001b[38;5;28;01mNone\u001b[39;00m:\n\u001b[32m    731\u001b[39m     \u001b[38;5;66;03m# TODO(https://github.com/pytorch/pytorch/issues/76750)\u001b[39;00m\n\u001b[32m    732\u001b[39m     \u001b[38;5;28mself\u001b[39m._reset()  \u001b[38;5;66;03m# type: ignore[call-arg]\u001b[39;00m\n\u001b[32m--> \u001b[39m\u001b[32m733\u001b[39m data = \u001b[38;5;28;43mself\u001b[39;49m\u001b[43m.\u001b[49m\u001b[43m_next_data\u001b[49m\u001b[43m(\u001b[49m\u001b[43m)\u001b[49m\n\u001b[32m    734\u001b[39m \u001b[38;5;28mself\u001b[39m._num_yielded += \u001b[32m1\u001b[39m\n\u001b[32m    735\u001b[39m \u001b[38;5;28;01mif\u001b[39;00m (\n\u001b[32m    736\u001b[39m     \u001b[38;5;28mself\u001b[39m._dataset_kind == _DatasetKind.Iterable\n\u001b[32m    737\u001b[39m     \u001b[38;5;129;01mand\u001b[39;00m \u001b[38;5;28mself\u001b[39m._IterableDataset_len_called \u001b[38;5;129;01mis\u001b[39;00m \u001b[38;5;129;01mnot\u001b[39;00m \u001b[38;5;28;01mNone\u001b[39;00m\n\u001b[32m    738\u001b[39m     \u001b[38;5;129;01mand\u001b[39;00m \u001b[38;5;28mself\u001b[39m._num_yielded > \u001b[38;5;28mself\u001b[39m._IterableDataset_len_called\n\u001b[32m    739\u001b[39m ):\n",
            "\u001b[36mFile \u001b[39m\u001b[32mc:\\Users\\Estelle\\miniconda3\\envs\\DeepLearn\\Lib\\site-packages\\torch\\utils\\data\\dataloader.py:789\u001b[39m, in \u001b[36m_SingleProcessDataLoaderIter._next_data\u001b[39m\u001b[34m(self)\u001b[39m\n\u001b[32m    787\u001b[39m \u001b[38;5;28;01mdef\u001b[39;00m\u001b[38;5;250m \u001b[39m\u001b[34m_next_data\u001b[39m(\u001b[38;5;28mself\u001b[39m):\n\u001b[32m    788\u001b[39m     index = \u001b[38;5;28mself\u001b[39m._next_index()  \u001b[38;5;66;03m# may raise StopIteration\u001b[39;00m\n\u001b[32m--> \u001b[39m\u001b[32m789\u001b[39m     data = \u001b[38;5;28;43mself\u001b[39;49m\u001b[43m.\u001b[49m\u001b[43m_dataset_fetcher\u001b[49m\u001b[43m.\u001b[49m\u001b[43mfetch\u001b[49m\u001b[43m(\u001b[49m\u001b[43mindex\u001b[49m\u001b[43m)\u001b[49m  \u001b[38;5;66;03m# may raise StopIteration\u001b[39;00m\n\u001b[32m    790\u001b[39m     \u001b[38;5;28;01mif\u001b[39;00m \u001b[38;5;28mself\u001b[39m._pin_memory:\n\u001b[32m    791\u001b[39m         data = _utils.pin_memory.pin_memory(data, \u001b[38;5;28mself\u001b[39m._pin_memory_device)\n",
            "\u001b[36mFile \u001b[39m\u001b[32mc:\\Users\\Estelle\\miniconda3\\envs\\DeepLearn\\Lib\\site-packages\\torch\\utils\\data\\_utils\\fetch.py:55\u001b[39m, in \u001b[36m_MapDatasetFetcher.fetch\u001b[39m\u001b[34m(self, possibly_batched_index)\u001b[39m\n\u001b[32m     53\u001b[39m \u001b[38;5;28;01melse\u001b[39;00m:\n\u001b[32m     54\u001b[39m     data = \u001b[38;5;28mself\u001b[39m.dataset[possibly_batched_index]\n\u001b[32m---> \u001b[39m\u001b[32m55\u001b[39m \u001b[38;5;28;01mreturn\u001b[39;00m \u001b[38;5;28;43mself\u001b[39;49m\u001b[43m.\u001b[49m\u001b[43mcollate_fn\u001b[49m\u001b[43m(\u001b[49m\u001b[43mdata\u001b[49m\u001b[43m)\u001b[49m\n",
            "\u001b[36mFile \u001b[39m\u001b[32mc:\\Users\\Estelle\\miniconda3\\envs\\DeepLearn\\Lib\\site-packages\\transformers\\data\\data_collator.py:272\u001b[39m, in \u001b[36mDataCollatorWithPadding.__call__\u001b[39m\u001b[34m(self, features)\u001b[39m\n\u001b[32m    271\u001b[39m \u001b[38;5;28;01mdef\u001b[39;00m\u001b[38;5;250m \u001b[39m\u001b[34m__call__\u001b[39m(\u001b[38;5;28mself\u001b[39m, features: \u001b[38;5;28mlist\u001b[39m[\u001b[38;5;28mdict\u001b[39m[\u001b[38;5;28mstr\u001b[39m, Any]]) -> \u001b[38;5;28mdict\u001b[39m[\u001b[38;5;28mstr\u001b[39m, Any]:\n\u001b[32m--> \u001b[39m\u001b[32m272\u001b[39m     batch = \u001b[43mpad_without_fast_tokenizer_warning\u001b[49m\u001b[43m(\u001b[49m\n\u001b[32m    273\u001b[39m \u001b[43m        \u001b[49m\u001b[38;5;28;43mself\u001b[39;49m\u001b[43m.\u001b[49m\u001b[43mtokenizer\u001b[49m\u001b[43m,\u001b[49m\n\u001b[32m    274\u001b[39m \u001b[43m        \u001b[49m\u001b[43mfeatures\u001b[49m\u001b[43m,\u001b[49m\n\u001b[32m    275\u001b[39m \u001b[43m        \u001b[49m\u001b[43mpadding\u001b[49m\u001b[43m=\u001b[49m\u001b[38;5;28;43mself\u001b[39;49m\u001b[43m.\u001b[49m\u001b[43mpadding\u001b[49m\u001b[43m,\u001b[49m\n\u001b[32m    276\u001b[39m \u001b[43m        \u001b[49m\u001b[43mmax_length\u001b[49m\u001b[43m=\u001b[49m\u001b[38;5;28;43mself\u001b[39;49m\u001b[43m.\u001b[49m\u001b[43mmax_length\u001b[49m\u001b[43m,\u001b[49m\n\u001b[32m    277\u001b[39m \u001b[43m        \u001b[49m\u001b[43mpad_to_multiple_of\u001b[49m\u001b[43m=\u001b[49m\u001b[38;5;28;43mself\u001b[39;49m\u001b[43m.\u001b[49m\u001b[43mpad_to_multiple_of\u001b[49m\u001b[43m,\u001b[49m\n\u001b[32m    278\u001b[39m \u001b[43m        \u001b[49m\u001b[43mreturn_tensors\u001b[49m\u001b[43m=\u001b[49m\u001b[38;5;28;43mself\u001b[39;49m\u001b[43m.\u001b[49m\u001b[43mreturn_tensors\u001b[49m\u001b[43m,\u001b[49m\n\u001b[32m    279\u001b[39m \u001b[43m    \u001b[49m\u001b[43m)\u001b[49m\n\u001b[32m    280\u001b[39m     \u001b[38;5;28;01mif\u001b[39;00m \u001b[33m\"\u001b[39m\u001b[33mlabel\u001b[39m\u001b[33m\"\u001b[39m \u001b[38;5;129;01min\u001b[39;00m batch:\n\u001b[32m    281\u001b[39m         batch[\u001b[33m\"\u001b[39m\u001b[33mlabels\u001b[39m\u001b[33m\"\u001b[39m] = batch[\u001b[33m\"\u001b[39m\u001b[33mlabel\u001b[39m\u001b[33m\"\u001b[39m]\n",
            "\u001b[36mFile \u001b[39m\u001b[32mc:\\Users\\Estelle\\miniconda3\\envs\\DeepLearn\\Lib\\site-packages\\transformers\\data\\data_collator.py:67\u001b[39m, in \u001b[36mpad_without_fast_tokenizer_warning\u001b[39m\u001b[34m(tokenizer, *pad_args, **pad_kwargs)\u001b[39m\n\u001b[32m     64\u001b[39m tokenizer.deprecation_warnings[\u001b[33m\"\u001b[39m\u001b[33mAsking-to-pad-a-fast-tokenizer\u001b[39m\u001b[33m\"\u001b[39m] = \u001b[38;5;28;01mTrue\u001b[39;00m\n\u001b[32m     66\u001b[39m \u001b[38;5;28;01mtry\u001b[39;00m:\n\u001b[32m---> \u001b[39m\u001b[32m67\u001b[39m     padded = \u001b[43mtokenizer\u001b[49m\u001b[43m.\u001b[49m\u001b[43mpad\u001b[49m\u001b[43m(\u001b[49m\u001b[43m*\u001b[49m\u001b[43mpad_args\u001b[49m\u001b[43m,\u001b[49m\u001b[43m \u001b[49m\u001b[43m*\u001b[49m\u001b[43m*\u001b[49m\u001b[43mpad_kwargs\u001b[49m\u001b[43m)\u001b[49m\n\u001b[32m     68\u001b[39m \u001b[38;5;28;01mfinally\u001b[39;00m:\n\u001b[32m     69\u001b[39m     \u001b[38;5;66;03m# Restore the state of the warning.\u001b[39;00m\n\u001b[32m     70\u001b[39m     tokenizer.deprecation_warnings[\u001b[33m\"\u001b[39m\u001b[33mAsking-to-pad-a-fast-tokenizer\u001b[39m\u001b[33m\"\u001b[39m] = warning_state\n",
            "\u001b[36mFile \u001b[39m\u001b[32mc:\\Users\\Estelle\\miniconda3\\envs\\DeepLearn\\Lib\\site-packages\\transformers\\tokenization_utils_base.py:3374\u001b[39m, in \u001b[36mPreTrainedTokenizerBase.pad\u001b[39m\u001b[34m(self, encoded_inputs, padding, max_length, pad_to_multiple_of, padding_side, return_attention_mask, return_tensors, verbose)\u001b[39m\n\u001b[32m   3371\u001b[39m             batch_outputs[key] = []\n\u001b[32m   3372\u001b[39m         batch_outputs[key].append(value)\n\u001b[32m-> \u001b[39m\u001b[32m3374\u001b[39m \u001b[38;5;28;01mreturn\u001b[39;00m \u001b[43mBatchEncoding\u001b[49m\u001b[43m(\u001b[49m\u001b[43mbatch_outputs\u001b[49m\u001b[43m,\u001b[49m\u001b[43m \u001b[49m\u001b[43mtensor_type\u001b[49m\u001b[43m=\u001b[49m\u001b[43mreturn_tensors\u001b[49m\u001b[43m)\u001b[49m\n",
            "\u001b[36mFile \u001b[39m\u001b[32mc:\\Users\\Estelle\\miniconda3\\envs\\DeepLearn\\Lib\\site-packages\\transformers\\tokenization_utils_base.py:240\u001b[39m, in \u001b[36mBatchEncoding.__init__\u001b[39m\u001b[34m(self, data, encoding, tensor_type, prepend_batch_axis, n_sequences)\u001b[39m\n\u001b[32m    236\u001b[39m     n_sequences = encoding[\u001b[32m0\u001b[39m].n_sequences\n\u001b[32m    238\u001b[39m \u001b[38;5;28mself\u001b[39m._n_sequences = n_sequences\n\u001b[32m--> \u001b[39m\u001b[32m240\u001b[39m \u001b[38;5;28;43mself\u001b[39;49m\u001b[43m.\u001b[49m\u001b[43mconvert_to_tensors\u001b[49m\u001b[43m(\u001b[49m\u001b[43mtensor_type\u001b[49m\u001b[43m=\u001b[49m\u001b[43mtensor_type\u001b[49m\u001b[43m,\u001b[49m\u001b[43m \u001b[49m\u001b[43mprepend_batch_axis\u001b[49m\u001b[43m=\u001b[49m\u001b[43mprepend_batch_axis\u001b[49m\u001b[43m)\u001b[49m\n",
            "\u001b[36mFile \u001b[39m\u001b[32mc:\\Users\\Estelle\\miniconda3\\envs\\DeepLearn\\Lib\\site-packages\\transformers\\tokenization_utils_base.py:783\u001b[39m, in \u001b[36mBatchEncoding.convert_to_tensors\u001b[39m\u001b[34m(self, tensor_type, prepend_batch_axis)\u001b[39m\n\u001b[32m    778\u001b[39m         \u001b[38;5;28;01mif\u001b[39;00m key == \u001b[33m\"\u001b[39m\u001b[33moverflowing_tokens\u001b[39m\u001b[33m\"\u001b[39m:\n\u001b[32m    779\u001b[39m             \u001b[38;5;28;01mraise\u001b[39;00m \u001b[38;5;167;01mValueError\u001b[39;00m(\n\u001b[32m    780\u001b[39m                 \u001b[33m\"\u001b[39m\u001b[33mUnable to create tensor returning overflowing tokens of different lengths. \u001b[39m\u001b[33m\"\u001b[39m\n\u001b[32m    781\u001b[39m                 \u001b[33m\"\u001b[39m\u001b[33mPlease see if a fast version of this tokenizer is available to have this feature available.\u001b[39m\u001b[33m\"\u001b[39m\n\u001b[32m    782\u001b[39m             ) \u001b[38;5;28;01mfrom\u001b[39;00m\u001b[38;5;250m \u001b[39m\u001b[34;01me\u001b[39;00m\n\u001b[32m--> \u001b[39m\u001b[32m783\u001b[39m         \u001b[38;5;28;01mraise\u001b[39;00m \u001b[38;5;167;01mValueError\u001b[39;00m(\n\u001b[32m    784\u001b[39m             \u001b[33m\"\u001b[39m\u001b[33mUnable to create tensor, you should probably activate truncation and/or padding with\u001b[39m\u001b[33m\"\u001b[39m\n\u001b[32m    785\u001b[39m             \u001b[33m\"\u001b[39m\u001b[33m \u001b[39m\u001b[33m'\u001b[39m\u001b[33mpadding=True\u001b[39m\u001b[33m'\u001b[39m\u001b[33m \u001b[39m\u001b[33m'\u001b[39m\u001b[33mtruncation=True\u001b[39m\u001b[33m'\u001b[39m\u001b[33m to have batched tensors with the same length. Perhaps your\u001b[39m\u001b[33m\"\u001b[39m\n\u001b[32m    786\u001b[39m             \u001b[33mf\u001b[39m\u001b[33m\"\u001b[39m\u001b[33m features (`\u001b[39m\u001b[38;5;132;01m{\u001b[39;00mkey\u001b[38;5;132;01m}\u001b[39;00m\u001b[33m` in this case) have excessive nesting (inputs type `list` where type `int` is\u001b[39m\u001b[33m\"\u001b[39m\n\u001b[32m    787\u001b[39m             \u001b[33m\"\u001b[39m\u001b[33m expected).\u001b[39m\u001b[33m\"\u001b[39m\n\u001b[32m    788\u001b[39m         ) \u001b[38;5;28;01mfrom\u001b[39;00m\u001b[38;5;250m \u001b[39m\u001b[34;01me\u001b[39;00m\n\u001b[32m    790\u001b[39m \u001b[38;5;28;01mreturn\u001b[39;00m \u001b[38;5;28mself\u001b[39m\n",
            "\u001b[31mValueError\u001b[39m: Unable to create tensor, you should probably activate truncation and/or padding with 'padding=True' 'truncation=True' to have batched tensors with the same length. Perhaps your features (`labels` in this case) have excessive nesting (inputs type `list` where type `int` is expected)."
          ]
        }
      ],
      "source": [
        "from transformers import AutoModelForSequenceClassification, TrainingArguments, Trainer\n",
        "from transformers import DataCollatorWithPadding\n",
        "import numpy as np\n",
        "import evaluate\n",
        "\n",
        "\n",
        "model = AutoModelForSequenceClassification.from_pretrained(\n",
        "    \"bert-base-german-cased\",\n",
        "    num_labels=len(label_names),\n",
        "    id2label=id2label,\n",
        "    label2id=label2id\n",
        ")\n",
        "\n",
        "accuracy_metric = evaluate.load(\"accuracy\")\n",
        "f1_metric = evaluate.load(\"f1\")\n",
        "\n",
        "def compute_metrics(eval_pred):\n",
        "    logits, labels = eval_pred\n",
        "    preds = np.argmax(logits, axis=1)\n",
        "    return {\n",
        "        \"accuracy\": accuracy_metric.compute(predictions=preds, references=labels)[\"accuracy\"],\n",
        "        \"f1\": f1_metric.compute(predictions=preds, references=labels, average=\"macro\")[\"f1\"]\n",
        "    }\n",
        "\n",
        "training_args = TrainingArguments(\n",
        "    output_dir=\"./results\",\n",
        "    eval_strategy=\"epoch\",\n",
        "    save_strategy=\"epoch\",\n",
        "    learning_rate=2e-5,\n",
        "    per_device_train_batch_size=8,\n",
        "    per_device_eval_batch_size=16,\n",
        "    num_train_epochs=3,\n",
        "    weight_decay=0.01,\n",
        "    load_best_model_at_end=True,\n",
        "    fp16=torch.cuda.is_available(),\n",
        ")\n",
        "\n",
        "trainer = Trainer(\n",
        "    model=model,\n",
        "    args=training_args,\n",
        "    train_dataset=tokenized_dataset.train_test_split(test_size=0.1)[\"train\"],\n",
        "    eval_dataset=tokenized_dataset.train_test_split(test_size=0.1)[\"test\"],\n",
        "    tokenizer=tokenizer,\n",
        "    data_collator=DataCollatorWithPadding(tokenizer),\n",
        "    compute_metrics=compute_metrics,\n",
        ")\n",
        "\n",
        "trainer.train()\n"
      ]
    },
    {
      "cell_type": "code",
      "execution_count": null,
      "id": "42bade2f",
      "metadata": {},
      "outputs": [],
      "source": [
        "trainer.save_model(\"./bert_german_speech_classifier\")"
      ]
    },
    {
      "cell_type": "markdown",
      "id": "4ea023b1",
      "metadata": {},
      "source": [
        "# ____\n",
        "# Ella"
      ]
    },
    {
      "cell_type": "code",
      "execution_count": null,
      "id": "794e5296",
      "metadata": {
        "id": "794e5296"
      },
      "outputs": [],
      "source": [
        "def predicting_probs(model, speech):\n",
        "    # Put model in eval mode\n",
        "    model.eval()\n",
        "\n",
        "    #  Tokenize input speeches\n",
        "    tokens = tokenizer(speech, return_tensors=\"pt\", truncation=False)[\"input_ids\"][0]\n",
        "\n",
        "    chunks = [tokens[i:i+max_length] for i in range(0, len(tokens), max_length)]\n",
        "\n",
        "    all_probs = []\n",
        "    i = 0\n",
        "    for chunk in chunks:\n",
        "        input_dict = {\"input_ids\": chunk.unsqueeze(0)}  # Add batch dimension\n",
        "        # Add attention mask\n",
        "        input_dict[\"attention_mask\"] = (chunk != tokenizer.pad_token_id).unsqueeze(0)\n",
        "\n",
        "\n",
        "        # Run model to predict baseline\n",
        "        with torch.no_grad():\n",
        "            outputs = model(**input_dict)\n",
        "            logits = outputs.logits\n",
        "            probabilities = F.softmax(logits, dim=1)\n",
        "            all_probs.append(probabilities)\n",
        "            i+=1\n",
        "    # averaging probabilites over all probabilities in speech parts\n",
        "    avg_probs = torch.mean(torch.cat(all_probs, dim=0), dim=0)\n",
        "    print(i , avg_probs)\n",
        "\n",
        "    return avg_probs\n",
        "\n",
        "\n",
        "def predicting_probs_to_preds(model, speech):\n",
        "    # get probabilites\n",
        "    probabilities = predicting_probs(model, speech)\n",
        "    # convert to predictions\n",
        "    predictions_nr = torch.argmax(probabilities).item()\n",
        "    predictions = label_names[predictions_nr]\n",
        "    return predictions, probabilities\n",
        "\n"
      ]
    },
    {
      "cell_type": "code",
      "execution_count": null,
      "id": "bd13f334",
      "metadata": {
        "id": "bd13f334"
      },
      "outputs": [],
      "source": [
        "# collect evaluation data\n",
        "def evaluate_model(model, data):\n",
        "    prediction_list = []\n",
        "    probability_list = []\n",
        "    true_label_list = []\n",
        "\n",
        "    for i, row in enumerate(data):\n",
        "        speech = row[\"speech_text\"]\n",
        "        pred, probs = predicting_probs_to_preds(model, speech)\n",
        "        true_label = row[\"label\"]\n",
        "        prediction_list.append(pred)\n",
        "        probability_list.append(probs)\n",
        "        true_label_list.append(true_label)\n",
        "\n",
        "        if (i+1) % 100 == 0:\n",
        "            print(f\"Processed samples {i+1} of {len(data)} samples.\")\n",
        "\n",
        "    return prediction_list, probability_list, true_label_list\n",
        "\n",
        "\n",
        "# define function to display eval metrics\n",
        "def get_metrics(true_labels, preds):\n",
        "    metrics_summary = {}\n",
        "\n",
        "    acc = accuracy_score(true_labels, preds)\n",
        "    bal_acc = balanced_accuracy_score(true_labels, preds)\n",
        "\n",
        "    precision = precision_score(true_labels, preds, average='macro', zero_division=0)\n",
        "    recall = recall_score(true_labels, preds, average='macro', zero_division=0)\n",
        "    f1 = f1_score(true_labels, preds, average='macro', zero_division=0)\n",
        "\n",
        "    label_order = sorted(set(true_labels).union(set(preds)))\n",
        "    report = classification_report(true_labels, preds, labels=label_order, zero_division=0)\n",
        "    metrics_summary[model_name] = {\n",
        "        'acc': acc,\n",
        "        'bal_acc': bal_acc,\n",
        "        'precision': precision,\n",
        "        'recall': recall,\n",
        "        'f1': f1\n",
        "    }\n",
        "    # print metrics\n",
        "    print(f\"Model: {model_name}\")\n",
        "    print(f\"  Accuracy: {acc}\")\n",
        "    print(f\"  Balanced Accuracy: {bal_acc}\")\n",
        "    print(f\"  Precision: {precision}\")\n",
        "    print(f\"  Recall: {recall}\")\n",
        "    print(f\"  F1-score: {f1}\")\n",
        "    print(f\"  Classification Report:\\n{report}\")\n",
        "\n",
        "\n",
        "    # Confusion Matrix\n",
        "    label_order = sorted(set(true_labels).union(set(preds)))\n",
        "    cm = confusion_matrix(true_labels, preds, labels=label_order)\n",
        "    cm_df = pd.DataFrame(cm, index=label_order, columns=label_order)\n",
        "\n",
        "    plt.figure(figsize=(8, 6))\n",
        "    sns.heatmap(cm_df, annot=True, fmt='d', cmap='Blues')\n",
        "    plt.title(f\"Confusion Matrix - {model_name}\")\n",
        "    plt.ylabel(\"True Label\")\n",
        "    plt.xlabel(\"Predicted Label\")\n",
        "    plt.tight_layout()\n",
        "    plt.show()\n",
        "\n",
        "\n",
        "    return metrics_summary\n",
        "\n",
        "\n",
        "\n",
        "\n",
        "\n"
      ]
    },
    {
      "cell_type": "code",
      "execution_count": null,
      "id": "76ef73a1",
      "metadata": {
        "id": "76ef73a1",
        "outputId": "354d72ef-886a-4c49-e075-bea7b70fae9f"
      },
      "outputs": [
        {
          "name": "stdout",
          "output_type": "stream",
          "text": [
            "2 tensor([0.1638, 0.1763, 0.1356, 0.1829, 0.1976, 0.1439])\n",
            "2 tensor([0.1672, 0.1794, 0.1407, 0.1917, 0.1851, 0.1359])\n",
            "4 tensor([0.1416, 0.1736, 0.1349, 0.1676, 0.2092, 0.1731])\n",
            "1 tensor([0.1766, 0.1864, 0.1316, 0.1716, 0.1737, 0.1600])\n",
            "2 tensor([0.1714, 0.1774, 0.1366, 0.1686, 0.1937, 0.1523])\n",
            "3 tensor([0.1592, 0.1944, 0.1489, 0.1750, 0.1919, 0.1307])\n",
            "2 tensor([0.1515, 0.1829, 0.1564, 0.1505, 0.2032, 0.1556])\n",
            "2 tensor([0.1481, 0.1805, 0.1386, 0.1783, 0.2015, 0.1530])\n",
            "2 tensor([0.1567, 0.1791, 0.1503, 0.1910, 0.1812, 0.1417])\n",
            "2 tensor([0.1830, 0.1787, 0.1432, 0.1813, 0.1825, 0.1314])\n",
            "2 tensor([0.1488, 0.1712, 0.1350, 0.1757, 0.2253, 0.1440])\n",
            "1 tensor([0.1555, 0.1856, 0.1391, 0.1738, 0.2094, 0.1366])\n",
            "3 tensor([0.1610, 0.1727, 0.1535, 0.1758, 0.1915, 0.1454])\n",
            "2 tensor([0.1663, 0.1954, 0.1321, 0.1807, 0.1814, 0.1442])\n",
            "2 tensor([0.1624, 0.1677, 0.1351, 0.1836, 0.2178, 0.1335])\n",
            "3 tensor([0.1588, 0.1871, 0.1419, 0.1819, 0.1936, 0.1367])\n",
            "2 tensor([0.1479, 0.1596, 0.1451, 0.1900, 0.2028, 0.1545])\n",
            "2 tensor([0.1501, 0.1819, 0.1434, 0.1694, 0.1910, 0.1641])\n",
            "3 tensor([0.1663, 0.1714, 0.1433, 0.1874, 0.1898, 0.1418])\n",
            "3 tensor([0.1525, 0.1745, 0.1439, 0.1830, 0.1939, 0.1522])\n",
            "[tensor([0.1638, 0.1763, 0.1356, 0.1829, 0.1976, 0.1439]), tensor([0.1672, 0.1794, 0.1407, 0.1917, 0.1851, 0.1359]), tensor([0.1416, 0.1736, 0.1349, 0.1676, 0.2092, 0.1731]), tensor([0.1766, 0.1864, 0.1316, 0.1716, 0.1737, 0.1600]), tensor([0.1714, 0.1774, 0.1366, 0.1686, 0.1937, 0.1523]), tensor([0.1592, 0.1944, 0.1489, 0.1750, 0.1919, 0.1307]), tensor([0.1515, 0.1829, 0.1564, 0.1505, 0.2032, 0.1556]), tensor([0.1481, 0.1805, 0.1386, 0.1783, 0.2015, 0.1530]), tensor([0.1567, 0.1791, 0.1503, 0.1910, 0.1812, 0.1417]), tensor([0.1830, 0.1787, 0.1432, 0.1813, 0.1825, 0.1314]), tensor([0.1488, 0.1712, 0.1350, 0.1757, 0.2253, 0.1440]), tensor([0.1555, 0.1856, 0.1391, 0.1738, 0.2094, 0.1366]), tensor([0.1610, 0.1727, 0.1535, 0.1758, 0.1915, 0.1454]), tensor([0.1663, 0.1954, 0.1321, 0.1807, 0.1814, 0.1442]), tensor([0.1624, 0.1677, 0.1351, 0.1836, 0.2178, 0.1335]), tensor([0.1588, 0.1871, 0.1419, 0.1819, 0.1936, 0.1367]), tensor([0.1479, 0.1596, 0.1451, 0.1900, 0.2028, 0.1545]), tensor([0.1501, 0.1819, 0.1434, 0.1694, 0.1910, 0.1641]), tensor([0.1663, 0.1714, 0.1433, 0.1874, 0.1898, 0.1418]), tensor([0.1525, 0.1745, 0.1439, 0.1830, 0.1939, 0.1522])]\n",
            "Model: bert-base-german-cased\n",
            "  Accuracy: 0.1\n",
            "  Balanced Accuracy: 0.1\n",
            "  Precision: 0.02857142857142857\n",
            "  Recall: 0.1\n",
            "  F1-score: 0.044444444444444446\n",
            "  Classification Report:\n",
            "              precision    recall  f1-score   support\n",
            "\n",
            "         AfD       0.14      0.50      0.22         4\n",
            "     CDU/CSU       0.00      0.00      0.00         4\n",
            "         FDP       0.00      0.00      0.00         2\n",
            "       GRÜNE       0.00      0.00      0.00         6\n",
            "         SPD       0.00      0.00      0.00         4\n",
            "\n",
            "    accuracy                           0.10        20\n",
            "   macro avg       0.03      0.10      0.04        20\n",
            "weighted avg       0.03      0.10      0.04        20\n",
            "\n"
          ]
        },
        {
          "data": {
            "image/png": "[encoded data removed]",
            "text/plain": [
              "<Figure size 800x600 with 2 Axes>"
            ]
          },
          "metadata": {},
          "output_type": "display_data"
        },
        {
          "data": {
            "text/plain": [
              "{'bert-base-german-cased': {'acc': 0.1,\n",
              "  'bal_acc': 0.1,\n",
              "  'precision': 0.02857142857142857,\n",
              "  'recall': 0.1,\n",
              "  'f1': 0.044444444444444446}}"
            ]
          },
          "execution_count": 91,
          "metadata": {},
          "output_type": "execute_result"
        }
      ],
      "source": [
        "# Get zero-shot example performance\n",
        "prediction_list, probability_list, true_label_list = evaluate_model(model, val_data)\n",
        "print(probability_list)\n",
        "get_metrics(true_label_list, prediction_list)"
      ]
    },
    {
      "cell_type": "code",
      "execution_count": 15,
      "id": "HrW5F9eWTam9",
      "metadata": {
        "id": "HrW5F9eWTam9"
      },
      "outputs": [],
      "source": [
        "classifier_data = classifier_data[:2000]"
      ]
    },
    {
      "cell_type": "code",
      "execution_count": 22,
      "id": "e9ce2f8b",
      "metadata": {},
      "outputs": [
        {
          "data": {
            "application/vnd.microsoft.datawrangler.viewer.v0+json": {
              "columns": [
                {
                  "name": "index",
                  "rawType": "int64",
                  "type": "integer"
                },
                {
                  "name": "speech_text",
                  "rawType": "object",
                  "type": "string"
                },
                {
                  "name": "label",
                  "rawType": "int64",
                  "type": "integer"
                }
              ],
              "ref": "65aa5ecd-96b4-490f-9845-4df75776d7c2",
              "rows": [
                [
                  "0",
                  "Herr Präsident! Kolleginnen und Kollegen! Die Bankenunion ist einer von drei Bausteinen, die dem Euro-System mehr Stabilität geben sollen. Wie wichtig mehr Stabilität ist, haben die Erfahrungen mit der Euro-Schuldenkrise gezeigt. Diese ist vom Deutschen Bundestag und mit einem großen Gemeinschaftsgeist in Deutschland erfolgreich bewältigt worden. Wir haben die Einlagen der Sparer gerettet, wir haben die richtigen Regulierungen getroffen und haben in fraktionsübergreifender Gemeinschaft im Deutschen Bundestag rund um die Uhr Schlimmeres verhindert. Das ist die Tatsache, meine Damen und Herren. Fazit ist: Stabilität erreicht man nur, wenn die Maßnahmen richtig und sachbezogen ausgestaltet werden. Dabei steht aus Sicht der Union ein Grundsatz ganz oben: Risiko und Haftung dürfen nicht voneinander getrennt werden. Dieses Prinzip, dieser Grundsatz muss zum Maßstab genommen werden. Das muss gerade auch für die Bankenunion gelten. Vor allem aber müssen die Risiken abgebaut werden, bevor eine Vollendung der Bankenunion tatsächlich verantwortet werden kann. Risiken, meine Damen und Herren, gibt es leider noch zuhauf. Das ist natürlich auch wahr. Da ist zum einen die anhaltend hohe Verschuldung einer ganzen Reihe von Mitgliedstaaten. Da gibt es zum anderen faule Kredite in erheblichem Umfang in den Bankenbilanzen. Das möchte ich noch einmal klar und deutlich hervorheben. Es ist klar: Der Steuerzahler und die Sparer müssen geschützt werden. Und Voraussetzung bleibt: Stabilität erreicht man nicht durch eine bloße Vergemeinschaftung von Schulden. Deshalb ist klar: Vor der Installierung einer europäischen Bankenunion müssen faule Kredite abgebaut werden. Hierzu gibt es eine Benchmark: Anteil der faulen Kredite in den USA 2 Prozent, in Deutschland 2,5 Prozent. Das ist etwas schlechter, aber es gibt auch Länder, bei denen der Anteil der faulen Kredite bei 15, 20 oder gar 50 Prozent liegt. Da muss gehandelt werden. Darauf müssen wir hinwirken. Das werden wir auch tun, indem wir in der Gemeinschaft dafür sorgen, dass das Stabilitätsbewusstsein stärker verankert wird. Dazu gehört natürlich auch, dass wir Staatsanleihen risikoadäquat behandeln; denn Staatsanleihen sind eben nicht risikofrei. Wir mussten immer wieder lernen, dass die Aufkäufe angeblich risikofreier Staatsanleihen oder deren Finanzierung schon ein Risiko bedeuten. Wir haben es für den richtigen Weg gehalten, die Finanzierung von Staatsanleihen in Zukunft mit Eigenkapital zu unterlegen. Wir haben es hier sicher mit einer komplexen Frage zu tun. Deshalb: Ehrgeizige Zeitpläne sind gut, aber Sorgfalt muss natürlich auch hier vor Schnelligkeit gehen. Meine Damen und Herren, wir müssen alles dafür tun, dass zunächst einmal bei den Banken gehandelt wird. Eine Eigenkapitalquote von 8 Prozent der Bilanzsumme als Sicherheit ist sicher ein richtiger Weg, um Stabilität in den Banken zu erreichen, um Vertrauen bei den Finanzmarktkunden zu schaffen. Das ist unabdingbar; denn die Eigentümer, Gläubiger und die nationale Einlagensicherung sind vor Ort gefragt, wenn die Banken in irgendeine Schieflage kommen, nicht eine Vergemeinschaftung. Wir sind richtig beraten, eine Bankenunion mit Augenmaß mit den großen Aufgaben der Regulierung zu verbinden. Wir werden darauf achten, dass die Sparer, die Finanzmarktkunden in Deutschland nicht in Haftung genommen werden. Die Steuerzahler dürfen nicht in Haftung genommen werden. Das ist die Voraussetzung für eine Bankenunion auf europäischer Ebene. Herzlichen Dank.",
                  "1"
                ],
                [
                  "1",
                  "Sehr geehrter Herr Präsident! Liebe Kolleginnen! Liebe Kollegen! Liebe Gäste auf der Tribüne! Ich finde es schön von der FDP, dass man der neuen Vorsitzenden des Finanzausschusses gleich die Möglichkeit gibt, eine Rede zu halten. Man hat überlegt: Wie schafft man das am besten? Man macht eine Aktuelle Stunde. – Es hätte heute viele Themen für eine Aktuelle Stunde gegeben. Man hätte beispielsweise über den Stand der Sondierungen zum Thema „Steuern und Finanzen“ reden können. Man hätte über die Boni der Deutschen Bank reden können. Man hätte über das Fehlen von Grundschullehrern und die finanziellen Auswirkungen auf die Haushalte reden können. Man hätte über die Hausdurchsuchungen des Zolls reden können. Sogar über die Sturm- und Hochwasserschäden der letzten Wochen hätten wir reden können. Wir hätten auch über die aktuelle Besetzung des Finanzausschusses reden können. Aber ich habe mir wirklich die Frage gestellt: Was ist an dem Thema der von Ihnen beantragten Aktuellen Stunde „Positionierung der Bundesregierung zu einer europäischen Bankenunion“ aktuell? Es ist deswegen nicht aktuell, weil wir eine geschäftsführende Bundesregierung haben, die alles das umsetzt, was wir in der Vergangenheit beschlossen haben. Ich habe heute bei den Nachrichtenagenturen und in Tickerberichten nachgesehen, aber ich habe nichts Aktuelles gefunden, und es kam ja auch nichts Aktuelles. Es gibt also in dieser Woche nichts richtig Aktuelles. Sie sind länger nicht hier gewesen, aber Aktuelle Stunden beinhalten in der Regel aktuelle Themen. – Nein, das ist nicht peinlich. Ich will etwas zur Bankenunion sagen. – Das hätten Sie auch beantragen können, haben Sie aber nicht. Deswegen rede ich jetzt zu Ihrem Antrag. Die EZB hat, so wie wir alle es mitbeschlossen haben, im November 2014 die Verantwortung für den Einheitlichen Europäischen Bankenaufsichtsmechanismus übernommen; das wissen wir alle. Das ist, wie gesagt, schon mehrere Jahre her. Seitdem ist sie für signifikante Banken zuständig. Das sind Banken, deren Bilanzsumme mindestens 30 Milliarden Euro oder 20 Prozent des BIP des Mitgliedstaates umfasst und die zu den drei größten Banken des jeweiligen Mitgliedstaats gehören. Nicht signifikante Banken werden weiterhin von nationalen Aufsichtsbehörden überwacht. Wir haben einen Einheitlichen Abwicklungsmechanismus. Das heißt, diese eben von mir angesprochenen Banken und große, grenzüberschreitende Banken werden jetzt auf europäischer Ebene einheitlich abgewickelt. Risiko und Haftung haben bei uns von Anfang an zusammengehört. Wir haben von Anfang an gesagt: Wir müssen das zusammen betrachten. Was haben wir für Banken vor uns, welche Risiken gehen sie ein, und wie müssen sie abgewickelt werden? – Bis zum 31. Dezember 2023 soll ein gemeinsamer Abwicklungsfonds eingerichtet werden, der mit 55 Milliarden Euro ausgestattet wird. Vorrangig werden Anteilseigner und Gläubiger herangezogen – das sogenannte Bail-in –, dann erst der Staat. Es gibt also keine Gemeinschaftshaftung der teilnehmenden Mitgliedstaaten durch den Fonds. Das war uns allen sehr wichtig. Auch in den Sondierungspapieren, über die Sie ja heute nicht reden wollten, steht das drin. Wir haben mit der CDU/CSU noch einmal aufgeschrieben, dass wir Haftung und Risiko nicht auseinanderfallen lassen wollen. Gerade laufen die Koalitionsverhandlungen zum Thema „Finanzen und Steuern“. Ich kann Ihnen nicht sagen, was dort gerade neu verhandelt wird; aber das können wir zu gegebener Zeit hier weiter diskutieren. Der geschäftsführende Finanzminister Altmaier hat Schwachstellen in der europäischen Währungsunion angesprochen. Er hat auch darauf hingewiesen – Kollegin Tillmann hat es angesprochen –, dass auf dem EU-Gipfel im Juni wichtige Entscheidungen für die Architektur der Euro-Zone gefällt werden müssen. Wir haben auch die Bedenken von Sparkassen und Volksbanken immer sehr ernst genommen. Dass sie ein eigenes Absicherungssystem haben und am liebsten überhaupt nicht in irgendeiner anderen Form in Anspruch genommen werden wollen, haben wir immer berücksichtigen wollen, und wir haben auch versucht, das nach Brüssel zu tragen. Dazu gibt es Anträge und Resolutionen; da haben wir in den letzten vier Jahren eine ganze Menge gemacht. Trotzdem brauchen wir eine Risikoabsicherung. Wir brauchen auch einen einheitlichen Mechanismus. Wir wollen alle zusammen in Europa weiter vorankommen. Dafür ist es wichtig, dass wir eine gute Zusammenarbeit im Euro-Raum haben. Sie können sicher sein: Der nächste Finanzminister oder die nächste Finanzministerin wird diese erfolgreiche Politik fortführen. Ich freue mich darauf. Freuen würde ich mich auch, wenn Sie nächstes Mal eine etwas aktuellere Thematik für Ihre Aktuelle Stunde aussuchen würden. Vielen Dank für Ihre Aufmerksamkeit.",
                  "5"
                ],
                [
                  "2",
                  "Herr Präsident! Liebe Kolleginnen und Kollegen! Sehr geehrte Frau Kollegin Stark-Watzinger, es ist keineswegs so, dass das Thema Bankenunion bisher hinter verschlossenen Türen diskutiert worden wäre. Auch ohne die FDP hat es dieser Deutsche Bundestag in der letzten Legislaturperiode geschafft, sich in zwei Beschlüssen mit der Einlagensicherung zu befassen. Ich empfehle Ihnen die Beschlüsse vom 4. November 2015 und vom 23. Februar 2016. Da haben wir intensiv darüber diskutiert und uns natürlich auch mit den Problemen der Bankenunion beschäftigt. Das werden wir auch weiterhin tun. Im Gegensatz zu Ihnen mit Ihrer sehr kritischen Rede sind wir aber fest davon überzeugt: Wir brauchen Europa, wir wollen Europa. Wir waren in Europa auch schon auf einem sehr guten Weg zur Regulierung der Finanzmarktkrise. – Wenn Sie kurz zuhören, will ich Ihnen gerne sagen, was wir schon alles an Positivem erreicht haben. Wir haben mit dem Stresstest begonnen. Über 130 Banken sind von der EZB geprüft worden. 25 Banken haben eine Kapitalunterdeckung aufgewiesen. Diese 25 Banken haben Kapital herangeschafft, sodass es zu einer Risikominderung gekommen ist. Wir haben eine europäische Aufsicht. Diese Aufsicht funktioniert immer besser und so gut, dass wir darüber nachdenken, ob man über eine Small Banking Box diese Regulierung bei kleineren Banken erleichtern könnte. Den Bankenabwicklungsmechanismus haben Sie beschrieben. Wir haben die Regelung, dass Steuerzahler in Europa nur noch in Ausnahmefällen für Abwicklungsbanken bezahlen müssen. Das haben wir über einen Mechanismus sichergestellt, den Bail-in, wonach Eigentümer und Anteilseigner vorrangig haften. Wir haben einen Abwicklungsfonds mit bis zu 55 Milliarden Euro installiert, der schon zu einem Drittel angespart wurde. Auch da haben wir Sicherheit in die Finanzmärkte gebracht. Wir haben die Einleger über eine Einlagensicherung geschützt. Alle Banken Europas müssen einem nationalen Einlagensicherungssystem angehören. Das ist ein Riesenschritt in die richtige Richtung. Einlegern können bis zu 100 000 Euro grenzüberschreitend ausgezahlt werden, in Sondersituationen sogar bis 500 000 Euro. Das ist ein guter Schritt in Europa. Ich finde, es gehört zu einer ehrlichen Debatte, zu sagen, dass wir massive Fortschritte für Einleger erreicht haben. Natürlich weiß ich, dass es noch eine Menge zu tun gibt. Sie haben zu Recht darauf hingewiesen, dass der Ecofin-Rat am 17. Juni 2016 genau das gesagt hat. Wir haben die ersten Schritte gemacht; ihnen müssen weitere folgen. Der wichtigste nächste Schritt ist die Risikoreduzierung, der Abbau notleidender Kredite. Eine Quote von durchschnittlich 4,6 Prozent an Non-Performing Loans in Europa ist zu viel; einige Staaten weisen sogar eine Quote von 46 Prozent auf. Wir brauchen europäische Benchmarks, mit denen die durchschnittliche Quote der Non-Performing Loans in Europa reduziert wird. Wir müssen auch das Insolvenzrecht harmonisieren. Wir brauchen europäische Vorgaben, wie bei faulen Krediten in Sicherheiten vollstreckt werden kann. In manchen Staaten geht das recht zügig; andere Staaten brauchen Jahre, bis in die Sicherheiten vollstreckt werden kann. Wir merken, dass der Bail-in-Puffer in Europa schon wieder infrage gestellt wird. Wir werden aber darauf bestehen; darin sind wir uns mit unserem ehemaligen Finanzminister Schäuble und unserem jetzigen Finanzminister Altmaier einig. Unser Staatssekretär kämpft auf allen Ebenen in Europa dafür, dass die von uns eingeführte Grenze nicht wieder infrage gestellt wird. Ich erwähne die latenten Steuern; das haben Sie noch gar nicht genannt. Natürlich dürfen Nationalstaaten über die Behandlung von latenten Steuern nicht weitere Risiken in die Bankbilanzen schieben. Bei Staatsanleihen geht es um dasselbe Thema. Wir müssen uns über die Risikogewichtung von Staatsanleihen unterhalten und dabei aber auch im Blick behalten, dass die Staaten, die dank des Rettungsschirms wieder gut dastehen, nicht zusätzliche Probleme bekommen. Ich teile Ihre Auffassung, dass es noch viel zu tun gibt. Ich teile nicht Ihre Auffassung, dass wir uns bisher nicht erfolgreich auf den Weg gemacht haben. Ich glaube, es macht keinen Sinn, alles schlechtzureden und die schlechten Seiten in den Vordergrund zu stellen. Es macht vielmehr Sinn, unserem künftigen Finanzminister gemeinsam mit auf den Weg zu geben, was wir wollen. Wir wollen zuerst eine Risikoreduktion, danach kann der zweite Schritt erfolgen. Das werden wir schaffen, das werden wir tun, und zwar öffentlich, wie immer in diesem Haus. Vielleicht gucken Sie einmal in die Anträge. Wir sollten sie dem neuen Finanzminister für seine Diskussionen auf europäischer Ebene mit auf den Weg geben. Aber ich bleibe dabei: Europa ist wichtig für Deutschland. Wir wollen eine europäische Harmonisierung. Dafür kämpfen wir mit aller Macht. Danke schön.",
                  "1"
                ],
                [
                  "3",
                  "Herr Präsident! Liebe Kolleginnen und Kollegen! Ich will jetzt gar nicht auf das eingehen, was Sie, Kollege Weyel, gesagt haben. Ich glaube, es war deutlich, dass sich selbst große Teile Ihrer eigenen Fraktion für das geschämt haben, was Sie hier dargeboten haben. Ich würde auch sagen, Frau Arndt-Brauer: Es ist durchaus ein aktuelles Thema, das man diskutieren kann. Es ist zwar der Vorwurf falsch, dass wir nicht darüber geredet haben – so wird ja gesagt, bloß weil die FDP nicht dabei war –, aber es ist in der Tat ein Thema, das in Europa auf der Tagesordnung ist und womit sich der Deutsche Bundestag beschäftigen sollte. Was in dieser Debatte problematisch ist, ist der Eindruck, den Sie, Frau Stark-Watzinger, in Ihrer Rede erweckt haben, dass nämlich diese faulen Kredite in Höhe von 950 Milliarden Euro in Europa jetzt vergemeinschaftet werden sollen. Darum geht es nicht. Niemand will das. Sie deuten das an, um die Leute vor Angst auf die Palme zu treiben. Dabei geht es doch darum, die Risiken zu reduzieren und Europa stabil zu machen. Das sollte man nicht in so eine Ecke stellen. Sie landen nämlich sonst da, wo die britischen Tories gelandet sind. Inzwischen sagen die Studien aus dem Brexit-freundlichen Haus von Theresa May: Egal wie verhandelt wird, es wird ökonomisch schlechter sein für Großbritannien. – Wer in Europa nicht mitmachen will, wird schlechter dastehen. So wird es auch uns gehen, wenn wir bei dieser Frage nur Nein sagen. Das ist keine Lösung. Sie vermitteln den Eindruck, als hätten wir immer noch nationale Bankenmärkte und als hätten wir mit den Banken in anderen Ländern überhaupt nichts zu tun. Wenn es so wäre, dann könnte man sagen: Jedem sein Einlagensicherungstöpfchen! – Aber die Welt ist schon lange nicht mehr so. Es gibt einen Finanzbinnenmarkt. Da gibt es spanische Banken, die in Deutschland Business machen. Da gibt es italienische und französische Banken. Zu meinen, dass wir in Deutschland dann, wenn es woanders ein Problem mit der Einlagensicherung gibt, nicht massiv darunter zu leiden hätten, ist einfach ökonomisch völliger Humbug. Deswegen brauchen wir eine Stabilisierung in Europa. Das ist eine notwendige Ergänzung. Um was geht es? Es geht darum, dass man für den Fall, dass der Einlagensicherungstopf eines anderen Mitgliedstaates bei einer Krise nicht ausreicht, eine Lösung hat. Jetzt schlägt die Kommission einen Weg vor – bis zu einer gemeinsamen Einlagensicherung. Da muss man einfach einmal zur Kenntnis nehmen, dass die USA mit genau einer solchen Regelung ein hervorragendes Beispiel dafür haben, dass der Steuerzahler geschützt wird. Darüber, dass das dem Schutz der Steuerzahler dient und dass es nicht darum geht, ihn zur Kasse zu bitten, haben Sie kein Wort verloren. Sie sagen: Da gibt es so viele Probleme in anderen Ländern. – Ja bitte! Schauen Sie sich doch die Zahlen an! Unsere Banken waren keinen Deut besser. Man weiß nicht, wer bei der nächsten Krise von dem gemeinsamen System profitieren würde. Vielleicht wäre es Deutschland. Unsere Banken waren in der letzten Krise nicht stabiler als die anderen. Vielleicht sind sie es auch in der nächsten Krise nicht. Nicht so eine deutsche Hybris! Das hat in Europa keinen guten Klang. Wir wissen doch, wie Versicherungen funktionieren. Ich muss doch nicht mit allen Mitgliedern der Versicherung, bei der ich Kunde bin, befreundet sein. Darunter sind viele, die ganz dumme Sachen machen. Aber die Versicherung ist für mich gut, um mich vor einem Schaden zu schützen. So würde ein Rückversicherungssystem zwischen den Einlagensystemen in Europa auch und gerade unser deutsches System stabiler machen. Deswegen sollten wir uns dem nicht verweigern, sondern daran konstruktiv mitarbeiten. In diesem Zusammenhang und nur in diesem Zusammenhang werden wir es auch schaffen, das hinzubekommen, worüber wir uns scheinbar einig sind, nämlich eine wirkliche Risikoreduzierung. Da muss noch einiges gemacht werden. Das muss man jetzt gemeinsam mit den europäischen Partnern auf den Weg bringen. So muss man bei dem Punkt, dass Banken viele Staatsanleihen eines Staates in ihren Büchern haben und damit ein Klumpenrisiko tragen, etwas tun. Da gibt es gute Vorschläge, etwa für eine stärkere Eigenkapitalunterlegung zu sorgen, bestimmte Grenzen einzuziehen. Natürlich brauchen wir das. Wir brauchen auch – ich bin gespannt, ob die bankenfreundliche FDP dabei mitmacht – eine höhere Eigenkapitalquote, also in Richtung 10 Prozent. Damit wäre das System stabiler. Aber da sind Ihre Freunde in den Banken dagegen, und deswegen wollen Sie da nicht ran, obwohl das das Problem lösen würde, dass die Banken auf zu wackligen Füßen stehen. Danke.",
                  "3"
                ],
                [
                  "4",
                  "Liebe Kolleginnen und Kollegen! Es ist vorhin von der Kollegin Arndt-Brauer gesagt worden, es sei hier immer wieder über das Thema Einlagensicherung und Bankenunion debattiert worden. Das mag so sein. Aber wenn man sich in dieser Debatte einmal anhört, welche Einigkeit zwischen CDU/CSU, SPD und Grünen bei diesem Thema besteht, dann sage ich: Eine lebendige Debatte kann das nicht gewesen sein. Dass diese Debatte aktuell ist, Frau Kollegin, zeigen die Reaktionen aus der Fachwelt. Sie hat geschrieben: Dadurch sind unsere Arbeitsplätze in Gefahr. Es ist eine Gefahr für die Arbeitsplätze, insbesondere bei den Sparkassen. – Das sagt Verdi. Wenn Verdi recht hat, dann darf man Verdi auch einmal erwähnen. Recht hat sie. Der Städtetag sagt Ähnliches. Die Volksbanken sprechen von einer existenziellen Gefahr für alle Verbundsysteme. Deswegen, Kollege Schick, sind es insbesondere die kleinen Banken, die Sorgen haben, und nicht die großen, wie Sie hier insinuiert haben. Die kleinen Banken haben die größten Sorgen vor einer einheitlichen europäischen Einlagensicherung. Um eines aus unserer Sicht klarzustellen: Bankenunion ist eine gute und richtige Idee. Aber Bankenunion funktioniert auch ohne eine einheitliche Einlagensicherung auf europäischer Ebene. Man kann sie machen, aber man muss sie nicht machen. Es ist nicht so, dass es ein elementarer und unverzichtbarer Bestandteil dessen wäre. Bankenunion ist heute Bankenaufsicht unter dem Dach der EZB und eine einheitliche Abwicklung von Banken durch eine einheitliche europäische Abwicklungsbehörde. Beides kann man noch besser machen; aber beides funktioniert für sich genommen sehr gut. Das hat mit der Einlagensicherung indirekt zu tun; aber Sie können das auf die eine wie die andere Weise lösen. Deshalb können wir hier debattieren und unterschiedlicher Meinung sein; es ist jetzt jedoch kein zwangsläufiger Weg, wie manche hier den Eindruck erwecken, in einer einheitlichen Einlagensicherung vorgezeichnet. Ich will noch einmal etwas zur Einlagensicherung bei kleinen Banken sagen. Wenn eine kleine Bank pleite ist, dann kann das nationale Einlagensicherungssystem ohne Probleme einschreiten, auch in Zukunft, es kann den Fall lösen. Interessant wird es, wenn in Zukunft bei einer einheitlichen Einlagensicherung eine große Bank nach europäischen Regeln abgewickelt werden muss. Dann entschädigt nämlich das nationale Einlagensicherungssystem den einheitlichen Abwicklungsfonds; das heißt, die Gelder, die auch die kleinen Banken eingezahlt haben, gehen dann in die Abwicklung der großen, sollen die Lasten finanzieren. Ich will einmal wissen, warum das gerechtfertigt ist und wie man es rechtfertigen kann, dass die kleinen Banken für die Abwicklung der großen zahlen sollen. Dazu habe ich heute nichts gehört, wird oft übersehen, ist aber der falsche Weg, liebe Kolleginnen und Kollegen. Wenn man über die Vollendung der Bankenunion diskutiert, dann liest man in den Papieren hauptsächlich etwas zum Thema „Einlagensicherung“. Aber die wirklich wichtigen Dinge, die in der Bankenunion zu optimieren und zu verbessern sind, finden sich in den entsprechenden Planungen nirgends. Es ist eine rein auf die Einlagensicherung beschränkte Debatte. Jedenfalls lese ich in den Papieren nicht sehr viel von anderen Dingen. – Ich will Ihnen einmal einige Beispiele nennen, bevor Sie mir widersprechen, Herr Kollege Schick. Die drei italienischen Banken, Banca Monte dei Paschi di Siena, die älteste Bank der Welt, Banca Popolare di Vicenza und die Veneto Banca, sind trotz des einheitlichen Abwicklungsmechanismus erneut mit Steuergeldern gerettet worden. Warum war das so? Weil es in den entsprechenden Rechtsgrundlagen einige Schlupflöcher gibt, die prompt beim ersten, zweiten und dritten Anwendungsfall genutzt worden sind. Nun müsste man doch zuallererst diese Schlupflöcher stopfen, damit Banken abgewickelt und nicht gerettet werden. Das wäre doch das Wichtigste. Und das erwarte ich von der Bundesregierung. Wir könnten weitermachen. Wo lese ich etwas über einen Umschuldungsmechanismus für Staaten? Den brauchen wir – Stichwort: Gläubigerhaftung. Wo lese ich etwas über Eigenkapitalunterlegung bei Staatsanleihen? Das höre ich immer wieder. Wenn man über die Fortschreibung der Bankenunion spricht, Kollege Michelbach, dann wäre das ein Beitrag zur Lösung. Ich erwarte, dass Herr Altmaier mit seinem französischen Kollegen darüber spricht und nicht zuerst über die Einlagensicherung. Im Übrigen, Kollege Schick, ist es aus meiner Sicht nicht so, wie Sie es gesagt haben, dass der Binnenmarkt für Finanzdienstleistungen bereits so gut funktioniert, dass das alles grenzüberschreitend prima möglich wäre. Es muss darauf geachtet werden, dass der Binnenmarkt besser funktioniert. Ich habe viele digitale Geschäftsmodelle von Banken gesehen, die versucht haben, ein Produkt digital im Internet zu vertreiben und es in verschiedenen europäischen Ländern anzubieten. Das scheitert noch immer sehr oft. Das wären doch Aufgaben für eine Integration der Bankenmärkte in Europa und nicht zuerst die Einlagensicherung. Die einheitliche Einlagensicherung hat erhebliche Nachteile. Sie wird für die Banken hier in Deutschland teurer. Sie ist auch mit dem Risiko verbunden, dass die Absicherung schlechter wird. Bei den Verbundsystemen und bei der Institutssicherung der Volksbanken und Sparkassen ist das evident. Ich erinnere auch an die freiwillige Einlagensicherung der Privatbanken, die natürlich ebenfalls infrage steht. Das ist doch mehr als das, was gesetzlich gefordert ist. Das ist in Gefahr, wenn man alles in eine einheitliche Einlagensicherung überführt. Das heißt, die Absicherung kann auch noch schlechter werden. Da muss man erst einmal begründen, dass das wirklich ein Fortschritt ist. Ich bin davon nicht überzeugt. Deswegen halte ich es für wichtig, dass sich die Bundesregierung hier anders positioniert, als es bisher der Fall war.",
                  "2"
                ]
              ],
              "shape": {
                "columns": 2,
                "rows": 5
              }
            },
            "text/html": [
              "<div>\n",
              "<style scoped>\n",
              "    .dataframe tbody tr th:only-of-type {\n",
              "        vertical-align: middle;\n",
              "    }\n",
              "\n",
              "    .dataframe tbody tr th {\n",
              "        vertical-align: top;\n",
              "    }\n",
              "\n",
              "    .dataframe thead th {\n",
              "        text-align: right;\n",
              "    }\n",
              "</style>\n",
              "<table border=\"1\" class=\"dataframe\">\n",
              "  <thead>\n",
              "    <tr style=\"text-align: right;\">\n",
              "      <th></th>\n",
              "      <th>speech_text</th>\n",
              "      <th>label</th>\n",
              "    </tr>\n",
              "  </thead>\n",
              "  <tbody>\n",
              "    <tr>\n",
              "      <th>0</th>\n",
              "      <td>Herr Präsident! Kolleginnen und Kollegen! Die ...</td>\n",
              "      <td>1</td>\n",
              "    </tr>\n",
              "    <tr>\n",
              "      <th>1</th>\n",
              "      <td>Sehr geehrter Herr Präsident! Liebe Kolleginne...</td>\n",
              "      <td>5</td>\n",
              "    </tr>\n",
              "    <tr>\n",
              "      <th>2</th>\n",
              "      <td>Herr Präsident! Liebe Kolleginnen und Kollegen...</td>\n",
              "      <td>1</td>\n",
              "    </tr>\n",
              "    <tr>\n",
              "      <th>3</th>\n",
              "      <td>Herr Präsident! Liebe Kolleginnen und Kollegen...</td>\n",
              "      <td>3</td>\n",
              "    </tr>\n",
              "    <tr>\n",
              "      <th>4</th>\n",
              "      <td>Liebe Kolleginnen und Kollegen! Es ist vorhin ...</td>\n",
              "      <td>2</td>\n",
              "    </tr>\n",
              "  </tbody>\n",
              "</table>\n",
              "</div>"
            ],
            "text/plain": [
              "                                         speech_text  label\n",
              "0  Herr Präsident! Kolleginnen und Kollegen! Die ...      1\n",
              "1  Sehr geehrter Herr Präsident! Liebe Kolleginne...      5\n",
              "2  Herr Präsident! Liebe Kolleginnen und Kollegen...      1\n",
              "3  Herr Präsident! Liebe Kolleginnen und Kollegen...      3\n",
              "4  Liebe Kolleginnen und Kollegen! Es ist vorhin ...      2"
            ]
          },
          "execution_count": 22,
          "metadata": {},
          "output_type": "execute_result"
        }
      ],
      "source": [
        "classifier_data.head()"
      ]
    },
    {
      "cell_type": "code",
      "execution_count": 17,
      "id": "f3689de4",
      "metadata": {},
      "outputs": [],
      "source": [
        "party_to_id = {party: i for i, party in enumerate(sorted(classifier_data['label'].unique()))}"
      ]
    },
    {
      "cell_type": "code",
      "execution_count": 18,
      "id": "3943e5b3",
      "metadata": {},
      "outputs": [
        {
          "data": {
            "text/plain": [
              "{'AfD': 0, 'CDU/CSU': 1, 'FDP': 2, 'GRÜNE': 3, 'LINKE': 4, 'SPD': 5}"
            ]
          },
          "execution_count": 18,
          "metadata": {},
          "output_type": "execute_result"
        }
      ],
      "source": [
        "party_to_id"
      ]
    },
    {
      "cell_type": "code",
      "execution_count": 19,
      "id": "556d1025",
      "metadata": {},
      "outputs": [
        {
          "name": "stderr",
          "output_type": "stream",
          "text": [
            "C:\\Users\\Estelle\\AppData\\Local\\Temp\\ipykernel_27120\\3929469336.py:1: SettingWithCopyWarning: \n",
            "A value is trying to be set on a copy of a slice from a DataFrame.\n",
            "Try using .loc[row_indexer,col_indexer] = value instead\n",
            "\n",
            "See the caveats in the documentation: https://pandas.pydata.org/pandas-docs/stable/user_guide/indexing.html#returning-a-view-versus-a-copy\n",
            "  classifier_data['label'] = classifier_data['label'].map(party_to_id)\n"
          ]
        }
      ],
      "source": [
        "classifier_data['label'] = classifier_data['label'].map(party_to_id)"
      ]
    },
    {
      "cell_type": "code",
      "execution_count": 21,
      "id": "d99c36d6",
      "metadata": {},
      "outputs": [
        {
          "data": {
            "application/vnd.microsoft.datawrangler.viewer.v0+json": {
              "columns": [
                {
                  "name": "index",
                  "rawType": "int64",
                  "type": "integer"
                },
                {
                  "name": "speech_text",
                  "rawType": "object",
                  "type": "string"
                },
                {
                  "name": "label",
                  "rawType": "int64",
                  "type": "integer"
                }
              ],
              "ref": "65441ed5-9648-4d22-aebd-7f8c56cd0e8f",
              "rows": [
                [
                  "0",
                  "Herr Präsident! Kolleginnen und Kollegen! Die Bankenunion ist einer von drei Bausteinen, die dem Euro-System mehr Stabilität geben sollen. Wie wichtig mehr Stabilität ist, haben die Erfahrungen mit der Euro-Schuldenkrise gezeigt. Diese ist vom Deutschen Bundestag und mit einem großen Gemeinschaftsgeist in Deutschland erfolgreich bewältigt worden. Wir haben die Einlagen der Sparer gerettet, wir haben die richtigen Regulierungen getroffen und haben in fraktionsübergreifender Gemeinschaft im Deutschen Bundestag rund um die Uhr Schlimmeres verhindert. Das ist die Tatsache, meine Damen und Herren. Fazit ist: Stabilität erreicht man nur, wenn die Maßnahmen richtig und sachbezogen ausgestaltet werden. Dabei steht aus Sicht der Union ein Grundsatz ganz oben: Risiko und Haftung dürfen nicht voneinander getrennt werden. Dieses Prinzip, dieser Grundsatz muss zum Maßstab genommen werden. Das muss gerade auch für die Bankenunion gelten. Vor allem aber müssen die Risiken abgebaut werden, bevor eine Vollendung der Bankenunion tatsächlich verantwortet werden kann. Risiken, meine Damen und Herren, gibt es leider noch zuhauf. Das ist natürlich auch wahr. Da ist zum einen die anhaltend hohe Verschuldung einer ganzen Reihe von Mitgliedstaaten. Da gibt es zum anderen faule Kredite in erheblichem Umfang in den Bankenbilanzen. Das möchte ich noch einmal klar und deutlich hervorheben. Es ist klar: Der Steuerzahler und die Sparer müssen geschützt werden. Und Voraussetzung bleibt: Stabilität erreicht man nicht durch eine bloße Vergemeinschaftung von Schulden. Deshalb ist klar: Vor der Installierung einer europäischen Bankenunion müssen faule Kredite abgebaut werden. Hierzu gibt es eine Benchmark: Anteil der faulen Kredite in den USA 2 Prozent, in Deutschland 2,5 Prozent. Das ist etwas schlechter, aber es gibt auch Länder, bei denen der Anteil der faulen Kredite bei 15, 20 oder gar 50 Prozent liegt. Da muss gehandelt werden. Darauf müssen wir hinwirken. Das werden wir auch tun, indem wir in der Gemeinschaft dafür sorgen, dass das Stabilitätsbewusstsein stärker verankert wird. Dazu gehört natürlich auch, dass wir Staatsanleihen risikoadäquat behandeln; denn Staatsanleihen sind eben nicht risikofrei. Wir mussten immer wieder lernen, dass die Aufkäufe angeblich risikofreier Staatsanleihen oder deren Finanzierung schon ein Risiko bedeuten. Wir haben es für den richtigen Weg gehalten, die Finanzierung von Staatsanleihen in Zukunft mit Eigenkapital zu unterlegen. Wir haben es hier sicher mit einer komplexen Frage zu tun. Deshalb: Ehrgeizige Zeitpläne sind gut, aber Sorgfalt muss natürlich auch hier vor Schnelligkeit gehen. Meine Damen und Herren, wir müssen alles dafür tun, dass zunächst einmal bei den Banken gehandelt wird. Eine Eigenkapitalquote von 8 Prozent der Bilanzsumme als Sicherheit ist sicher ein richtiger Weg, um Stabilität in den Banken zu erreichen, um Vertrauen bei den Finanzmarktkunden zu schaffen. Das ist unabdingbar; denn die Eigentümer, Gläubiger und die nationale Einlagensicherung sind vor Ort gefragt, wenn die Banken in irgendeine Schieflage kommen, nicht eine Vergemeinschaftung. Wir sind richtig beraten, eine Bankenunion mit Augenmaß mit den großen Aufgaben der Regulierung zu verbinden. Wir werden darauf achten, dass die Sparer, die Finanzmarktkunden in Deutschland nicht in Haftung genommen werden. Die Steuerzahler dürfen nicht in Haftung genommen werden. Das ist die Voraussetzung für eine Bankenunion auf europäischer Ebene. Herzlichen Dank.",
                  "1"
                ],
                [
                  "1",
                  "Sehr geehrter Herr Präsident! Liebe Kolleginnen! Liebe Kollegen! Liebe Gäste auf der Tribüne! Ich finde es schön von der FDP, dass man der neuen Vorsitzenden des Finanzausschusses gleich die Möglichkeit gibt, eine Rede zu halten. Man hat überlegt: Wie schafft man das am besten? Man macht eine Aktuelle Stunde. – Es hätte heute viele Themen für eine Aktuelle Stunde gegeben. Man hätte beispielsweise über den Stand der Sondierungen zum Thema „Steuern und Finanzen“ reden können. Man hätte über die Boni der Deutschen Bank reden können. Man hätte über das Fehlen von Grundschullehrern und die finanziellen Auswirkungen auf die Haushalte reden können. Man hätte über die Hausdurchsuchungen des Zolls reden können. Sogar über die Sturm- und Hochwasserschäden der letzten Wochen hätten wir reden können. Wir hätten auch über die aktuelle Besetzung des Finanzausschusses reden können. Aber ich habe mir wirklich die Frage gestellt: Was ist an dem Thema der von Ihnen beantragten Aktuellen Stunde „Positionierung der Bundesregierung zu einer europäischen Bankenunion“ aktuell? Es ist deswegen nicht aktuell, weil wir eine geschäftsführende Bundesregierung haben, die alles das umsetzt, was wir in der Vergangenheit beschlossen haben. Ich habe heute bei den Nachrichtenagenturen und in Tickerberichten nachgesehen, aber ich habe nichts Aktuelles gefunden, und es kam ja auch nichts Aktuelles. Es gibt also in dieser Woche nichts richtig Aktuelles. Sie sind länger nicht hier gewesen, aber Aktuelle Stunden beinhalten in der Regel aktuelle Themen. – Nein, das ist nicht peinlich. Ich will etwas zur Bankenunion sagen. – Das hätten Sie auch beantragen können, haben Sie aber nicht. Deswegen rede ich jetzt zu Ihrem Antrag. Die EZB hat, so wie wir alle es mitbeschlossen haben, im November 2014 die Verantwortung für den Einheitlichen Europäischen Bankenaufsichtsmechanismus übernommen; das wissen wir alle. Das ist, wie gesagt, schon mehrere Jahre her. Seitdem ist sie für signifikante Banken zuständig. Das sind Banken, deren Bilanzsumme mindestens 30 Milliarden Euro oder 20 Prozent des BIP des Mitgliedstaates umfasst und die zu den drei größten Banken des jeweiligen Mitgliedstaats gehören. Nicht signifikante Banken werden weiterhin von nationalen Aufsichtsbehörden überwacht. Wir haben einen Einheitlichen Abwicklungsmechanismus. Das heißt, diese eben von mir angesprochenen Banken und große, grenzüberschreitende Banken werden jetzt auf europäischer Ebene einheitlich abgewickelt. Risiko und Haftung haben bei uns von Anfang an zusammengehört. Wir haben von Anfang an gesagt: Wir müssen das zusammen betrachten. Was haben wir für Banken vor uns, welche Risiken gehen sie ein, und wie müssen sie abgewickelt werden? – Bis zum 31. Dezember 2023 soll ein gemeinsamer Abwicklungsfonds eingerichtet werden, der mit 55 Milliarden Euro ausgestattet wird. Vorrangig werden Anteilseigner und Gläubiger herangezogen – das sogenannte Bail-in –, dann erst der Staat. Es gibt also keine Gemeinschaftshaftung der teilnehmenden Mitgliedstaaten durch den Fonds. Das war uns allen sehr wichtig. Auch in den Sondierungspapieren, über die Sie ja heute nicht reden wollten, steht das drin. Wir haben mit der CDU/CSU noch einmal aufgeschrieben, dass wir Haftung und Risiko nicht auseinanderfallen lassen wollen. Gerade laufen die Koalitionsverhandlungen zum Thema „Finanzen und Steuern“. Ich kann Ihnen nicht sagen, was dort gerade neu verhandelt wird; aber das können wir zu gegebener Zeit hier weiter diskutieren. Der geschäftsführende Finanzminister Altmaier hat Schwachstellen in der europäischen Währungsunion angesprochen. Er hat auch darauf hingewiesen – Kollegin Tillmann hat es angesprochen –, dass auf dem EU-Gipfel im Juni wichtige Entscheidungen für die Architektur der Euro-Zone gefällt werden müssen. Wir haben auch die Bedenken von Sparkassen und Volksbanken immer sehr ernst genommen. Dass sie ein eigenes Absicherungssystem haben und am liebsten überhaupt nicht in irgendeiner anderen Form in Anspruch genommen werden wollen, haben wir immer berücksichtigen wollen, und wir haben auch versucht, das nach Brüssel zu tragen. Dazu gibt es Anträge und Resolutionen; da haben wir in den letzten vier Jahren eine ganze Menge gemacht. Trotzdem brauchen wir eine Risikoabsicherung. Wir brauchen auch einen einheitlichen Mechanismus. Wir wollen alle zusammen in Europa weiter vorankommen. Dafür ist es wichtig, dass wir eine gute Zusammenarbeit im Euro-Raum haben. Sie können sicher sein: Der nächste Finanzminister oder die nächste Finanzministerin wird diese erfolgreiche Politik fortführen. Ich freue mich darauf. Freuen würde ich mich auch, wenn Sie nächstes Mal eine etwas aktuellere Thematik für Ihre Aktuelle Stunde aussuchen würden. Vielen Dank für Ihre Aufmerksamkeit.",
                  "5"
                ],
                [
                  "2",
                  "Herr Präsident! Liebe Kolleginnen und Kollegen! Sehr geehrte Frau Kollegin Stark-Watzinger, es ist keineswegs so, dass das Thema Bankenunion bisher hinter verschlossenen Türen diskutiert worden wäre. Auch ohne die FDP hat es dieser Deutsche Bundestag in der letzten Legislaturperiode geschafft, sich in zwei Beschlüssen mit der Einlagensicherung zu befassen. Ich empfehle Ihnen die Beschlüsse vom 4. November 2015 und vom 23. Februar 2016. Da haben wir intensiv darüber diskutiert und uns natürlich auch mit den Problemen der Bankenunion beschäftigt. Das werden wir auch weiterhin tun. Im Gegensatz zu Ihnen mit Ihrer sehr kritischen Rede sind wir aber fest davon überzeugt: Wir brauchen Europa, wir wollen Europa. Wir waren in Europa auch schon auf einem sehr guten Weg zur Regulierung der Finanzmarktkrise. – Wenn Sie kurz zuhören, will ich Ihnen gerne sagen, was wir schon alles an Positivem erreicht haben. Wir haben mit dem Stresstest begonnen. Über 130 Banken sind von der EZB geprüft worden. 25 Banken haben eine Kapitalunterdeckung aufgewiesen. Diese 25 Banken haben Kapital herangeschafft, sodass es zu einer Risikominderung gekommen ist. Wir haben eine europäische Aufsicht. Diese Aufsicht funktioniert immer besser und so gut, dass wir darüber nachdenken, ob man über eine Small Banking Box diese Regulierung bei kleineren Banken erleichtern könnte. Den Bankenabwicklungsmechanismus haben Sie beschrieben. Wir haben die Regelung, dass Steuerzahler in Europa nur noch in Ausnahmefällen für Abwicklungsbanken bezahlen müssen. Das haben wir über einen Mechanismus sichergestellt, den Bail-in, wonach Eigentümer und Anteilseigner vorrangig haften. Wir haben einen Abwicklungsfonds mit bis zu 55 Milliarden Euro installiert, der schon zu einem Drittel angespart wurde. Auch da haben wir Sicherheit in die Finanzmärkte gebracht. Wir haben die Einleger über eine Einlagensicherung geschützt. Alle Banken Europas müssen einem nationalen Einlagensicherungssystem angehören. Das ist ein Riesenschritt in die richtige Richtung. Einlegern können bis zu 100 000 Euro grenzüberschreitend ausgezahlt werden, in Sondersituationen sogar bis 500 000 Euro. Das ist ein guter Schritt in Europa. Ich finde, es gehört zu einer ehrlichen Debatte, zu sagen, dass wir massive Fortschritte für Einleger erreicht haben. Natürlich weiß ich, dass es noch eine Menge zu tun gibt. Sie haben zu Recht darauf hingewiesen, dass der Ecofin-Rat am 17. Juni 2016 genau das gesagt hat. Wir haben die ersten Schritte gemacht; ihnen müssen weitere folgen. Der wichtigste nächste Schritt ist die Risikoreduzierung, der Abbau notleidender Kredite. Eine Quote von durchschnittlich 4,6 Prozent an Non-Performing Loans in Europa ist zu viel; einige Staaten weisen sogar eine Quote von 46 Prozent auf. Wir brauchen europäische Benchmarks, mit denen die durchschnittliche Quote der Non-Performing Loans in Europa reduziert wird. Wir müssen auch das Insolvenzrecht harmonisieren. Wir brauchen europäische Vorgaben, wie bei faulen Krediten in Sicherheiten vollstreckt werden kann. In manchen Staaten geht das recht zügig; andere Staaten brauchen Jahre, bis in die Sicherheiten vollstreckt werden kann. Wir merken, dass der Bail-in-Puffer in Europa schon wieder infrage gestellt wird. Wir werden aber darauf bestehen; darin sind wir uns mit unserem ehemaligen Finanzminister Schäuble und unserem jetzigen Finanzminister Altmaier einig. Unser Staatssekretär kämpft auf allen Ebenen in Europa dafür, dass die von uns eingeführte Grenze nicht wieder infrage gestellt wird. Ich erwähne die latenten Steuern; das haben Sie noch gar nicht genannt. Natürlich dürfen Nationalstaaten über die Behandlung von latenten Steuern nicht weitere Risiken in die Bankbilanzen schieben. Bei Staatsanleihen geht es um dasselbe Thema. Wir müssen uns über die Risikogewichtung von Staatsanleihen unterhalten und dabei aber auch im Blick behalten, dass die Staaten, die dank des Rettungsschirms wieder gut dastehen, nicht zusätzliche Probleme bekommen. Ich teile Ihre Auffassung, dass es noch viel zu tun gibt. Ich teile nicht Ihre Auffassung, dass wir uns bisher nicht erfolgreich auf den Weg gemacht haben. Ich glaube, es macht keinen Sinn, alles schlechtzureden und die schlechten Seiten in den Vordergrund zu stellen. Es macht vielmehr Sinn, unserem künftigen Finanzminister gemeinsam mit auf den Weg zu geben, was wir wollen. Wir wollen zuerst eine Risikoreduktion, danach kann der zweite Schritt erfolgen. Das werden wir schaffen, das werden wir tun, und zwar öffentlich, wie immer in diesem Haus. Vielleicht gucken Sie einmal in die Anträge. Wir sollten sie dem neuen Finanzminister für seine Diskussionen auf europäischer Ebene mit auf den Weg geben. Aber ich bleibe dabei: Europa ist wichtig für Deutschland. Wir wollen eine europäische Harmonisierung. Dafür kämpfen wir mit aller Macht. Danke schön.",
                  "1"
                ],
                [
                  "3",
                  "Herr Präsident! Liebe Kolleginnen und Kollegen! Ich will jetzt gar nicht auf das eingehen, was Sie, Kollege Weyel, gesagt haben. Ich glaube, es war deutlich, dass sich selbst große Teile Ihrer eigenen Fraktion für das geschämt haben, was Sie hier dargeboten haben. Ich würde auch sagen, Frau Arndt-Brauer: Es ist durchaus ein aktuelles Thema, das man diskutieren kann. Es ist zwar der Vorwurf falsch, dass wir nicht darüber geredet haben – so wird ja gesagt, bloß weil die FDP nicht dabei war –, aber es ist in der Tat ein Thema, das in Europa auf der Tagesordnung ist und womit sich der Deutsche Bundestag beschäftigen sollte. Was in dieser Debatte problematisch ist, ist der Eindruck, den Sie, Frau Stark-Watzinger, in Ihrer Rede erweckt haben, dass nämlich diese faulen Kredite in Höhe von 950 Milliarden Euro in Europa jetzt vergemeinschaftet werden sollen. Darum geht es nicht. Niemand will das. Sie deuten das an, um die Leute vor Angst auf die Palme zu treiben. Dabei geht es doch darum, die Risiken zu reduzieren und Europa stabil zu machen. Das sollte man nicht in so eine Ecke stellen. Sie landen nämlich sonst da, wo die britischen Tories gelandet sind. Inzwischen sagen die Studien aus dem Brexit-freundlichen Haus von Theresa May: Egal wie verhandelt wird, es wird ökonomisch schlechter sein für Großbritannien. – Wer in Europa nicht mitmachen will, wird schlechter dastehen. So wird es auch uns gehen, wenn wir bei dieser Frage nur Nein sagen. Das ist keine Lösung. Sie vermitteln den Eindruck, als hätten wir immer noch nationale Bankenmärkte und als hätten wir mit den Banken in anderen Ländern überhaupt nichts zu tun. Wenn es so wäre, dann könnte man sagen: Jedem sein Einlagensicherungstöpfchen! – Aber die Welt ist schon lange nicht mehr so. Es gibt einen Finanzbinnenmarkt. Da gibt es spanische Banken, die in Deutschland Business machen. Da gibt es italienische und französische Banken. Zu meinen, dass wir in Deutschland dann, wenn es woanders ein Problem mit der Einlagensicherung gibt, nicht massiv darunter zu leiden hätten, ist einfach ökonomisch völliger Humbug. Deswegen brauchen wir eine Stabilisierung in Europa. Das ist eine notwendige Ergänzung. Um was geht es? Es geht darum, dass man für den Fall, dass der Einlagensicherungstopf eines anderen Mitgliedstaates bei einer Krise nicht ausreicht, eine Lösung hat. Jetzt schlägt die Kommission einen Weg vor – bis zu einer gemeinsamen Einlagensicherung. Da muss man einfach einmal zur Kenntnis nehmen, dass die USA mit genau einer solchen Regelung ein hervorragendes Beispiel dafür haben, dass der Steuerzahler geschützt wird. Darüber, dass das dem Schutz der Steuerzahler dient und dass es nicht darum geht, ihn zur Kasse zu bitten, haben Sie kein Wort verloren. Sie sagen: Da gibt es so viele Probleme in anderen Ländern. – Ja bitte! Schauen Sie sich doch die Zahlen an! Unsere Banken waren keinen Deut besser. Man weiß nicht, wer bei der nächsten Krise von dem gemeinsamen System profitieren würde. Vielleicht wäre es Deutschland. Unsere Banken waren in der letzten Krise nicht stabiler als die anderen. Vielleicht sind sie es auch in der nächsten Krise nicht. Nicht so eine deutsche Hybris! Das hat in Europa keinen guten Klang. Wir wissen doch, wie Versicherungen funktionieren. Ich muss doch nicht mit allen Mitgliedern der Versicherung, bei der ich Kunde bin, befreundet sein. Darunter sind viele, die ganz dumme Sachen machen. Aber die Versicherung ist für mich gut, um mich vor einem Schaden zu schützen. So würde ein Rückversicherungssystem zwischen den Einlagensystemen in Europa auch und gerade unser deutsches System stabiler machen. Deswegen sollten wir uns dem nicht verweigern, sondern daran konstruktiv mitarbeiten. In diesem Zusammenhang und nur in diesem Zusammenhang werden wir es auch schaffen, das hinzubekommen, worüber wir uns scheinbar einig sind, nämlich eine wirkliche Risikoreduzierung. Da muss noch einiges gemacht werden. Das muss man jetzt gemeinsam mit den europäischen Partnern auf den Weg bringen. So muss man bei dem Punkt, dass Banken viele Staatsanleihen eines Staates in ihren Büchern haben und damit ein Klumpenrisiko tragen, etwas tun. Da gibt es gute Vorschläge, etwa für eine stärkere Eigenkapitalunterlegung zu sorgen, bestimmte Grenzen einzuziehen. Natürlich brauchen wir das. Wir brauchen auch – ich bin gespannt, ob die bankenfreundliche FDP dabei mitmacht – eine höhere Eigenkapitalquote, also in Richtung 10 Prozent. Damit wäre das System stabiler. Aber da sind Ihre Freunde in den Banken dagegen, und deswegen wollen Sie da nicht ran, obwohl das das Problem lösen würde, dass die Banken auf zu wackligen Füßen stehen. Danke.",
                  "3"
                ],
                [
                  "4",
                  "Liebe Kolleginnen und Kollegen! Es ist vorhin von der Kollegin Arndt-Brauer gesagt worden, es sei hier immer wieder über das Thema Einlagensicherung und Bankenunion debattiert worden. Das mag so sein. Aber wenn man sich in dieser Debatte einmal anhört, welche Einigkeit zwischen CDU/CSU, SPD und Grünen bei diesem Thema besteht, dann sage ich: Eine lebendige Debatte kann das nicht gewesen sein. Dass diese Debatte aktuell ist, Frau Kollegin, zeigen die Reaktionen aus der Fachwelt. Sie hat geschrieben: Dadurch sind unsere Arbeitsplätze in Gefahr. Es ist eine Gefahr für die Arbeitsplätze, insbesondere bei den Sparkassen. – Das sagt Verdi. Wenn Verdi recht hat, dann darf man Verdi auch einmal erwähnen. Recht hat sie. Der Städtetag sagt Ähnliches. Die Volksbanken sprechen von einer existenziellen Gefahr für alle Verbundsysteme. Deswegen, Kollege Schick, sind es insbesondere die kleinen Banken, die Sorgen haben, und nicht die großen, wie Sie hier insinuiert haben. Die kleinen Banken haben die größten Sorgen vor einer einheitlichen europäischen Einlagensicherung. Um eines aus unserer Sicht klarzustellen: Bankenunion ist eine gute und richtige Idee. Aber Bankenunion funktioniert auch ohne eine einheitliche Einlagensicherung auf europäischer Ebene. Man kann sie machen, aber man muss sie nicht machen. Es ist nicht so, dass es ein elementarer und unverzichtbarer Bestandteil dessen wäre. Bankenunion ist heute Bankenaufsicht unter dem Dach der EZB und eine einheitliche Abwicklung von Banken durch eine einheitliche europäische Abwicklungsbehörde. Beides kann man noch besser machen; aber beides funktioniert für sich genommen sehr gut. Das hat mit der Einlagensicherung indirekt zu tun; aber Sie können das auf die eine wie die andere Weise lösen. Deshalb können wir hier debattieren und unterschiedlicher Meinung sein; es ist jetzt jedoch kein zwangsläufiger Weg, wie manche hier den Eindruck erwecken, in einer einheitlichen Einlagensicherung vorgezeichnet. Ich will noch einmal etwas zur Einlagensicherung bei kleinen Banken sagen. Wenn eine kleine Bank pleite ist, dann kann das nationale Einlagensicherungssystem ohne Probleme einschreiten, auch in Zukunft, es kann den Fall lösen. Interessant wird es, wenn in Zukunft bei einer einheitlichen Einlagensicherung eine große Bank nach europäischen Regeln abgewickelt werden muss. Dann entschädigt nämlich das nationale Einlagensicherungssystem den einheitlichen Abwicklungsfonds; das heißt, die Gelder, die auch die kleinen Banken eingezahlt haben, gehen dann in die Abwicklung der großen, sollen die Lasten finanzieren. Ich will einmal wissen, warum das gerechtfertigt ist und wie man es rechtfertigen kann, dass die kleinen Banken für die Abwicklung der großen zahlen sollen. Dazu habe ich heute nichts gehört, wird oft übersehen, ist aber der falsche Weg, liebe Kolleginnen und Kollegen. Wenn man über die Vollendung der Bankenunion diskutiert, dann liest man in den Papieren hauptsächlich etwas zum Thema „Einlagensicherung“. Aber die wirklich wichtigen Dinge, die in der Bankenunion zu optimieren und zu verbessern sind, finden sich in den entsprechenden Planungen nirgends. Es ist eine rein auf die Einlagensicherung beschränkte Debatte. Jedenfalls lese ich in den Papieren nicht sehr viel von anderen Dingen. – Ich will Ihnen einmal einige Beispiele nennen, bevor Sie mir widersprechen, Herr Kollege Schick. Die drei italienischen Banken, Banca Monte dei Paschi di Siena, die älteste Bank der Welt, Banca Popolare di Vicenza und die Veneto Banca, sind trotz des einheitlichen Abwicklungsmechanismus erneut mit Steuergeldern gerettet worden. Warum war das so? Weil es in den entsprechenden Rechtsgrundlagen einige Schlupflöcher gibt, die prompt beim ersten, zweiten und dritten Anwendungsfall genutzt worden sind. Nun müsste man doch zuallererst diese Schlupflöcher stopfen, damit Banken abgewickelt und nicht gerettet werden. Das wäre doch das Wichtigste. Und das erwarte ich von der Bundesregierung. Wir könnten weitermachen. Wo lese ich etwas über einen Umschuldungsmechanismus für Staaten? Den brauchen wir – Stichwort: Gläubigerhaftung. Wo lese ich etwas über Eigenkapitalunterlegung bei Staatsanleihen? Das höre ich immer wieder. Wenn man über die Fortschreibung der Bankenunion spricht, Kollege Michelbach, dann wäre das ein Beitrag zur Lösung. Ich erwarte, dass Herr Altmaier mit seinem französischen Kollegen darüber spricht und nicht zuerst über die Einlagensicherung. Im Übrigen, Kollege Schick, ist es aus meiner Sicht nicht so, wie Sie es gesagt haben, dass der Binnenmarkt für Finanzdienstleistungen bereits so gut funktioniert, dass das alles grenzüberschreitend prima möglich wäre. Es muss darauf geachtet werden, dass der Binnenmarkt besser funktioniert. Ich habe viele digitale Geschäftsmodelle von Banken gesehen, die versucht haben, ein Produkt digital im Internet zu vertreiben und es in verschiedenen europäischen Ländern anzubieten. Das scheitert noch immer sehr oft. Das wären doch Aufgaben für eine Integration der Bankenmärkte in Europa und nicht zuerst die Einlagensicherung. Die einheitliche Einlagensicherung hat erhebliche Nachteile. Sie wird für die Banken hier in Deutschland teurer. Sie ist auch mit dem Risiko verbunden, dass die Absicherung schlechter wird. Bei den Verbundsystemen und bei der Institutssicherung der Volksbanken und Sparkassen ist das evident. Ich erinnere auch an die freiwillige Einlagensicherung der Privatbanken, die natürlich ebenfalls infrage steht. Das ist doch mehr als das, was gesetzlich gefordert ist. Das ist in Gefahr, wenn man alles in eine einheitliche Einlagensicherung überführt. Das heißt, die Absicherung kann auch noch schlechter werden. Da muss man erst einmal begründen, dass das wirklich ein Fortschritt ist. Ich bin davon nicht überzeugt. Deswegen halte ich es für wichtig, dass sich die Bundesregierung hier anders positioniert, als es bisher der Fall war.",
                  "2"
                ]
              ],
              "shape": {
                "columns": 2,
                "rows": 5
              }
            },
            "text/html": [
              "<div>\n",
              "<style scoped>\n",
              "    .dataframe tbody tr th:only-of-type {\n",
              "        vertical-align: middle;\n",
              "    }\n",
              "\n",
              "    .dataframe tbody tr th {\n",
              "        vertical-align: top;\n",
              "    }\n",
              "\n",
              "    .dataframe thead th {\n",
              "        text-align: right;\n",
              "    }\n",
              "</style>\n",
              "<table border=\"1\" class=\"dataframe\">\n",
              "  <thead>\n",
              "    <tr style=\"text-align: right;\">\n",
              "      <th></th>\n",
              "      <th>speech_text</th>\n",
              "      <th>label</th>\n",
              "    </tr>\n",
              "  </thead>\n",
              "  <tbody>\n",
              "    <tr>\n",
              "      <th>0</th>\n",
              "      <td>Herr Präsident! Kolleginnen und Kollegen! Die ...</td>\n",
              "      <td>1</td>\n",
              "    </tr>\n",
              "    <tr>\n",
              "      <th>1</th>\n",
              "      <td>Sehr geehrter Herr Präsident! Liebe Kolleginne...</td>\n",
              "      <td>5</td>\n",
              "    </tr>\n",
              "    <tr>\n",
              "      <th>2</th>\n",
              "      <td>Herr Präsident! Liebe Kolleginnen und Kollegen...</td>\n",
              "      <td>1</td>\n",
              "    </tr>\n",
              "    <tr>\n",
              "      <th>3</th>\n",
              "      <td>Herr Präsident! Liebe Kolleginnen und Kollegen...</td>\n",
              "      <td>3</td>\n",
              "    </tr>\n",
              "    <tr>\n",
              "      <th>4</th>\n",
              "      <td>Liebe Kolleginnen und Kollegen! Es ist vorhin ...</td>\n",
              "      <td>2</td>\n",
              "    </tr>\n",
              "  </tbody>\n",
              "</table>\n",
              "</div>"
            ],
            "text/plain": [
              "                                         speech_text  label\n",
              "0  Herr Präsident! Kolleginnen und Kollegen! Die ...      1\n",
              "1  Sehr geehrter Herr Präsident! Liebe Kolleginne...      5\n",
              "2  Herr Präsident! Liebe Kolleginnen und Kollegen...      1\n",
              "3  Herr Präsident! Liebe Kolleginnen und Kollegen...      3\n",
              "4  Liebe Kolleginnen und Kollegen! Es ist vorhin ...      2"
            ]
          },
          "execution_count": 21,
          "metadata": {},
          "output_type": "execute_result"
        }
      ],
      "source": [
        "classifier_data.head()"
      ]
    },
    {
      "cell_type": "code",
      "execution_count": null,
      "id": "1e33c6f7",
      "metadata": {
        "colab": {
          "base_uri": "https://localhost:8080/",
          "height": 49,
          "referenced_widgets": [
            "82fb3c74149549548fa0978404b28325",
            "694f85eb9d41453ea6a15663cc77d904",
            "f1f30762e0ee45c5ae0546c9f28ab80e",
            "6930ad9c33554cb58eca93d56e18bafe",
            "9bebe5cafdb24289bd757def59ef2d0f",
            "10b0f660d8f84900bc9c17f84fa1a848",
            "e411ce98cfc2494ea81e0f571d87a683",
            "4244d8904a824677b0a8e813691bd8a2",
            "8e78d00a6096452b9359418790989408",
            "122df21abbff4c62b25a394694a45790",
            "3eddf7ad5a8349eea83a0f7b9cc38b08"
          ]
        },
        "id": "1e33c6f7",
        "outputId": "208c61b3-b742-4ad1-d2ab-0912b250cf97"
      },
      "outputs": [
        {
          "data": {
            "application/vnd.jupyter.widget-view+json": {
              "model_id": "82fb3c74149549548fa0978404b28325",
              "version_major": 2,
              "version_minor": 0
            },
            "text/plain": [
              "Map:   0%|          | 0/36117 [00:00<?, ? examples/s]"
            ]
          },
          "metadata": {},
          "output_type": "display_data"
        }
      ],
      "source": [
        "# Convert to Hugging Face Dataset\n",
        "dataset = Dataset.from_pandas(classifier_data)\n",
        "\n",
        "# Tokenize\n",
        "def tokenize(batch):\n",
        "    return tokenizer(batch['speech_text'], truncation=True, padding='max_length', max_length=max_length)\n",
        "\n",
        "dataset = dataset.map(tokenize, batched=True)\n",
        "dataset = dataset.rename_column(\"label\", \"labels\")  # required name\n",
        "dataset.set_format(type='torch', columns=['input_ids', 'attention_mask', 'labels'])\n",
        "\n",
        "dataset = dataset.train_test_split(test_size=0.3)  # 90% train, 10% val\n",
        "train_dataset = dataset['train']\n",
        "val_and_test_dataset = dataset['test']\n",
        "val_and_test_dataset = val_and_test_dataset.train_test_split(test_size=0.5)  # 90% train, 10% val\n",
        "val_dataset = val_and_test_dataset['train']\n",
        "test_dataset = val_and_test_dataset['test']"
      ]
    },
    {
      "cell_type": "code",
      "execution_count": 35,
      "id": "a1a9a357",
      "metadata": {
        "id": "a1a9a357"
      },
      "outputs": [],
      "source": [
        "# fine-tunen\n",
        "training_args = TrainingArguments(\n",
        "    output_dir=\"./bert-finetuned\",\n",
        "    eval_strategy=\"epoch\",\n",
        "    save_strategy=\"epoch\",\n",
        "    learning_rate=2e-5,\n",
        "    per_device_train_batch_size=8,\n",
        "    per_device_eval_batch_size=8,\n",
        "    num_train_epochs=3,\n",
        "    weight_decay=0.01,\n",
        "    logging_dir=\"./logs\",\n",
        "    load_best_model_at_end=True,\n",
        "    metric_for_best_model=\"accuracy\"\n",
        ")\n",
        "\n",
        "\n",
        "import evaluate\n",
        "accuracy = evaluate.load(\"accuracy\")\n",
        "\n",
        "def compute_metrics(eval_pred):\n",
        "    logits, labels = eval_pred\n",
        "    predictions = logits.argmax(axis=-1)\n",
        "    return accuracy.compute(predictions=predictions, references=labels)\n"
      ]
    },
    {
      "cell_type": "code",
      "execution_count": 36,
      "id": "47c2a569",
      "metadata": {
        "colab": {
          "base_uri": "https://localhost:8080/",
          "height": 375
        },
        "id": "47c2a569",
        "outputId": "5af1b6db-2028-48f3-b4b7-7e5e99248237"
      },
      "outputs": [
        {
          "name": "stderr",
          "output_type": "stream",
          "text": [
            "/tmp/ipython-input-1549188525.py:1: FutureWarning: `tokenizer` is deprecated and will be removed in version 5.0.0 for `Trainer.__init__`. Use `processing_class` instead.\n",
            "  trainer = Trainer(\n",
            "/usr/local/lib/python3.11/dist-packages/torch/nn/modules/module.py:1750: FutureWarning: `encoder_attention_mask` is deprecated and will be removed in version 4.55.0 for `BertSdpaSelfAttention.forward`.\n",
            "  return forward_call(*args, **kwargs)\n"
          ]
        },
        {
          "data": {
            "text/html": [
              "\n",
              "    <div>\n",
              "      \n",
              "      <progress value='9483' max='9483' style='width:300px; height:20px; vertical-align: middle;'></progress>\n",
              "      [9483/9483 28:25, Epoch 3/3]\n",
              "    </div>\n",
              "    <table border=\"1\" class=\"dataframe\">\n",
              "  <thead>\n",
              " <tr style=\"text-align: left;\">\n",
              "      <th>Epoch</th>\n",
              "      <th>Training Loss</th>\n",
              "      <th>Validation Loss</th>\n",
              "      <th>Accuracy</th>\n",
              "    </tr>\n",
              "  </thead>\n",
              "  <tbody>\n",
              "    <tr>\n",
              "      <td>1</td>\n",
              "      <td>0.949800</td>\n",
              "      <td>0.873547</td>\n",
              "      <td>0.659468</td>\n",
              "    </tr>\n",
              "    <tr>\n",
              "      <td>2</td>\n",
              "      <td>0.672300</td>\n",
              "      <td>0.771991</td>\n",
              "      <td>0.706165</td>\n",
              "    </tr>\n",
              "    <tr>\n",
              "      <td>3</td>\n",
              "      <td>0.396900</td>\n",
              "      <td>0.857263</td>\n",
              "      <td>0.717977</td>\n",
              "    </tr>\n",
              "  </tbody>\n",
              "</table><p>"
            ],
            "text/plain": [
              "<IPython.core.display.HTML object>"
            ]
          },
          "metadata": {},
          "output_type": "display_data"
        },
        {
          "name": "stderr",
          "output_type": "stream",
          "text": [
            "/usr/local/lib/python3.11/dist-packages/torch/nn/modules/module.py:1750: FutureWarning: `encoder_attention_mask` is deprecated and will be removed in version 4.55.0 for `BertSdpaSelfAttention.forward`.\n",
            "  return forward_call(*args, **kwargs)\n",
            "/usr/local/lib/python3.11/dist-packages/torch/nn/modules/module.py:1750: FutureWarning: `encoder_attention_mask` is deprecated and will be removed in version 4.55.0 for `BertSdpaSelfAttention.forward`.\n",
            "  return forward_call(*args, **kwargs)\n"
          ]
        },
        {
          "data": {
            "text/plain": [
              "TrainOutput(global_step=9483, training_loss=0.7657745885884197, metrics={'train_runtime': 1706.159, 'train_samples_per_second': 44.452, 'train_steps_per_second': 5.558, 'total_flos': 1.9955848447973376e+16, 'train_loss': 0.7657745885884197, 'epoch': 3.0})"
            ]
          },
          "execution_count": 36,
          "metadata": {},
          "output_type": "execute_result"
        }
      ],
      "source": [
        "trainer = Trainer(\n",
        "    model=model,\n",
        "    args=training_args,\n",
        "    train_dataset=train_dataset,\n",
        "    eval_dataset=val_dataset,\n",
        "    tokenizer=tokenizer,\n",
        "    compute_metrics=compute_metrics\n",
        ")\n",
        "\n",
        "# train\n",
        "trainer.train()\n"
      ]
    },
    {
      "cell_type": "code",
      "execution_count": 37,
      "id": "3fd06889",
      "metadata": {
        "colab": {
          "base_uri": "https://localhost:8080/",
          "height": 206
        },
        "id": "3fd06889",
        "outputId": "0dcf4e2c-301e-4669-c380-1171194f6d7d"
      },
      "outputs": [
        {
          "name": "stderr",
          "output_type": "stream",
          "text": [
            "/usr/local/lib/python3.11/dist-packages/torch/nn/modules/module.py:1750: FutureWarning: `encoder_attention_mask` is deprecated and will be removed in version 4.55.0 for `BertSdpaSelfAttention.forward`.\n",
            "  return forward_call(*args, **kwargs)\n"
          ]
        },
        {
          "data": {
            "text/html": [
              "\n",
              "    <div>\n",
              "      \n",
              "      <progress value='678' max='678' style='width:300px; height:20px; vertical-align: middle;'></progress>\n",
              "      [678/678 00:35]\n",
              "    </div>\n",
              "    "
            ],
            "text/plain": [
              "<IPython.core.display.HTML object>"
            ]
          },
          "metadata": {},
          "output_type": "display_data"
        },
        {
          "data": {
            "text/plain": [
              "{'eval_loss': 0.8572631478309631,\n",
              " 'eval_accuracy': 0.7179771133259505,\n",
              " 'eval_runtime': 35.9672,\n",
              " 'eval_samples_per_second': 150.637,\n",
              " 'eval_steps_per_second': 18.851,\n",
              " 'epoch': 3.0}"
            ]
          },
          "execution_count": 37,
          "metadata": {},
          "output_type": "execute_result"
        }
      ],
      "source": [
        "# validaten\n",
        "\n",
        "trainer.evaluate()"
      ]
    },
    {
      "cell_type": "code",
      "execution_count": null,
      "id": "eefcb924",
      "metadata": {
        "id": "eefcb924"
      },
      "outputs": [],
      "source": [
        "# compare 2 versions (erinnern!)\n",
        "\n"
      ]
    },
    {
      "cell_type": "code",
      "execution_count": null,
      "id": "657c9d90",
      "metadata": {
        "id": "657c9d90"
      },
      "outputs": [],
      "source": [
        "# outcomes test data conf matrix, accuracy\n",
        "\n"
      ]
    },
    {
      "cell_type": "code",
      "execution_count": null,
      "id": "272215fe",
      "metadata": {
        "id": "272215fe"
      },
      "outputs": [],
      "source": [
        "# save model for futher tests on LLM generated speeches\n",
        "\n"
      ]
    },
    {
      "cell_type": "markdown",
      "id": "40d23ef6",
      "metadata": {
        "id": "40d23ef6"
      },
      "source": [
        "__________________________________________________________________________________\n",
        "\n",
        "Old to save\n",
        "__________________________________________________________________________________"
      ]
    },
    {
      "cell_type": "code",
      "execution_count": null,
      "id": "1994e316",
      "metadata": {
        "id": "1994e316"
      },
      "outputs": [],
      "source": [
        "# Load Model\n",
        "model_name = \"bert-base-german-cased\"\n",
        "num_labels = 6\n",
        "max_length = 512\n",
        "tokenizer = AutoTokenizer.from_pretrained(model_name)\n",
        "model = AutoModelForSequenceClassification.from_pretrained(model_name, num_labels= num_labels) # classification head with one linear layer and num_label outputs is added on top of model here.\n",
        "\n",
        "print(f\"Model parameters: {model.num_parameters():,}\")\n",
        "\n",
        "# Put model in eval mode\n",
        "model.eval()\n",
        "\n",
        "# Define possible label names\n",
        "label_names = ['CDU/CSU', 'SPD', 'GRÜNE', 'FDP', 'AfD', 'LINKE']\n",
        "\n",
        "#  Tokenize input speeches\n",
        "inputs = tokenizer(val_data_subset[\"speech_text\"], return_tensors=\"pt\", padding=True, truncation=False) # padding pads all speeches to the same length and truncation cuts all speeches to 512 tokens\n",
        "\n",
        "# Run model to predict basline\n",
        "with torch.no_grad(): # turns of gradient tracking, since we are not training\n",
        "    outputs = model(**inputs) # passes tokenized inputs into model, returns output dict\n",
        "    logits = outputs.logits # output dict contains logits\n",
        "    probabilities = F.softmax(logits, dim=1) # logits to probabilities\n",
        "    predictions = torch.argmax(probabilities, dim=1) # probabilities to predictions (i.e. highest probability)\n",
        "\n",
        "# 7. Print prediction examples\n",
        "for i, pred in enumerate(predictions):\n",
        "    print(f\"Speech {i+1}: predicted party = {label_names[pred]}\")\n",
        "print(logits)\n",
        "\n",
        "for i, probs in enumerate(probabilities):\n",
        "    print(f\"Speech {i+1} prediction:\")\n",
        "    for label, prob in zip(label_names, probs):\n",
        "        print(f\"  {label:7s}: {prob.item():.2%}\")"
      ]
    }
  ],
  "metadata": {
    "accelerator": "GPU",
    "colab": {
      "gpuType": "A100",
      "machine_shape": "hm",
      "provenance": []
    },
    "kernelspec": {
      "display_name": "DeepLearn",
      "language": "python",
      "name": "python3"
    },
    "language_info": {
      "codemirror_mode": {
        "name": "ipython",
        "version": 3
      },
      "file_extension": ".py",
      "mimetype": "text/x-python",
      "name": "python",
      "nbconvert_exporter": "python",
      "pygments_lexer": "ipython3",
      "version": "3.13.2"
    },
    "widgets": {
      "application/vnd.jupyter.widget-state+json": {
        "10b0f660d8f84900bc9c17f84fa1a848": {
          "model_module": "@jupyter-widgets/base",
          "model_module_version": "1.2.0",
          "model_name": "LayoutModel",
          "state": {
            "_model_module": "@jupyter-widgets/base",
            "_model_module_version": "1.2.0",
            "_model_name": "LayoutModel",
            "_view_count": null,
            "_view_module": "@jupyter-widgets/base",
            "_view_module_version": "1.2.0",
            "_view_name": "LayoutView",
            "align_content": null,
            "align_items": null,
            "align_self": null,
            "border": null,
            "bottom": null,
            "display": null,
            "flex": null,
            "flex_flow": null,
            "grid_area": null,
            "grid_auto_columns": null,
            "grid_auto_flow": null,
            "grid_auto_rows": null,
            "grid_column": null,
            "grid_gap": null,
            "grid_row": null,
            "grid_template_areas": null,
            "grid_template_columns": null,
            "grid_template_rows": null,
            "height": null,
            "justify_content": null,
            "justify_items": null,
            "left": null,
            "margin": null,
            "max_height": null,
            "max_width": null,
            "min_height": null,
            "min_width": null,
            "object_fit": null,
            "object_position": null,
            "order": null,
            "overflow": null,
            "overflow_x": null,
            "overflow_y": null,
            "padding": null,
            "right": null,
            "top": null,
            "visibility": null,
            "width": null
          }
        },
        "122df21abbff4c62b25a394694a45790": {
          "model_module": "@jupyter-widgets/base",
          "model_module_version": "1.2.0",
          "model_name": "LayoutModel",
          "state": {
            "_model_module": "@jupyter-widgets/base",
            "_model_module_version": "1.2.0",
            "_model_name": "LayoutModel",
            "_view_count": null,
            "_view_module": "@jupyter-widgets/base",
            "_view_module_version": "1.2.0",
            "_view_name": "LayoutView",
            "align_content": null,
            "align_items": null,
            "align_self": null,
            "border": null,
            "bottom": null,
            "display": null,
            "flex": null,
            "flex_flow": null,
            "grid_area": null,
            "grid_auto_columns": null,
            "grid_auto_flow": null,
            "grid_auto_rows": null,
            "grid_column": null,
            "grid_gap": null,
            "grid_row": null,
            "grid_template_areas": null,
            "grid_template_columns": null,
            "grid_template_rows": null,
            "height": null,
            "justify_content": null,
            "justify_items": null,
            "left": null,
            "margin": null,
            "max_height": null,
            "max_width": null,
            "min_height": null,
            "min_width": null,
            "object_fit": null,
            "object_position": null,
            "order": null,
            "overflow": null,
            "overflow_x": null,
            "overflow_y": null,
            "padding": null,
            "right": null,
            "top": null,
            "visibility": null,
            "width": null
          }
        },
        "3eddf7ad5a8349eea83a0f7b9cc38b08": {
          "model_module": "@jupyter-widgets/controls",
          "model_module_version": "1.5.0",
          "model_name": "DescriptionStyleModel",
          "state": {
            "_model_module": "@jupyter-widgets/controls",
            "_model_module_version": "1.5.0",
            "_model_name": "DescriptionStyleModel",
            "_view_count": null,
            "_view_module": "@jupyter-widgets/base",
            "_view_module_version": "1.2.0",
            "_view_name": "StyleView",
            "description_width": ""
          }
        },
        "4244d8904a824677b0a8e813691bd8a2": {
          "model_module": "@jupyter-widgets/base",
          "model_module_version": "1.2.0",
          "model_name": "LayoutModel",
          "state": {
            "_model_module": "@jupyter-widgets/base",
            "_model_module_version": "1.2.0",
            "_model_name": "LayoutModel",
            "_view_count": null,
            "_view_module": "@jupyter-widgets/base",
            "_view_module_version": "1.2.0",
            "_view_name": "LayoutView",
            "align_content": null,
            "align_items": null,
            "align_self": null,
            "border": null,
            "bottom": null,
            "display": null,
            "flex": null,
            "flex_flow": null,
            "grid_area": null,
            "grid_auto_columns": null,
            "grid_auto_flow": null,
            "grid_auto_rows": null,
            "grid_column": null,
            "grid_gap": null,
            "grid_row": null,
            "grid_template_areas": null,
            "grid_template_columns": null,
            "grid_template_rows": null,
            "height": null,
            "justify_content": null,
            "justify_items": null,
            "left": null,
            "margin": null,
            "max_height": null,
            "max_width": null,
            "min_height": null,
            "min_width": null,
            "object_fit": null,
            "object_position": null,
            "order": null,
            "overflow": null,
            "overflow_x": null,
            "overflow_y": null,
            "padding": null,
            "right": null,
            "top": null,
            "visibility": null,
            "width": null
          }
        },
        "6930ad9c33554cb58eca93d56e18bafe": {
          "model_module": "@jupyter-widgets/controls",
          "model_module_version": "1.5.0",
          "model_name": "HTMLModel",
          "state": {
            "_dom_classes": [],
            "_model_module": "@jupyter-widgets/controls",
            "_model_module_version": "1.5.0",
            "_model_name": "HTMLModel",
            "_view_count": null,
            "_view_module": "@jupyter-widgets/controls",
            "_view_module_version": "1.5.0",
            "_view_name": "HTMLView",
            "description": "",
            "description_tooltip": null,
            "layout": "IPY_MODEL_122df21abbff4c62b25a394694a45790",
            "placeholder": "​",
            "style": "IPY_MODEL_3eddf7ad5a8349eea83a0f7b9cc38b08",
            "value": " 36117/36117 [00:24&lt;00:00, 1386.94 examples/s]"
          }
        },
        "694f85eb9d41453ea6a15663cc77d904": {
          "model_module": "@jupyter-widgets/controls",
          "model_module_version": "1.5.0",
          "model_name": "HTMLModel",
          "state": {
            "_dom_classes": [],
            "_model_module": "@jupyter-widgets/controls",
            "_model_module_version": "1.5.0",
            "_model_name": "HTMLModel",
            "_view_count": null,
            "_view_module": "@jupyter-widgets/controls",
            "_view_module_version": "1.5.0",
            "_view_name": "HTMLView",
            "description": "",
            "description_tooltip": null,
            "layout": "IPY_MODEL_10b0f660d8f84900bc9c17f84fa1a848",
            "placeholder": "​",
            "style": "IPY_MODEL_e411ce98cfc2494ea81e0f571d87a683",
            "value": "Map: 100%"
          }
        },
        "82fb3c74149549548fa0978404b28325": {
          "model_module": "@jupyter-widgets/controls",
          "model_module_version": "1.5.0",
          "model_name": "HBoxModel",
          "state": {
            "_dom_classes": [],
            "_model_module": "@jupyter-widgets/controls",
            "_model_module_version": "1.5.0",
            "_model_name": "HBoxModel",
            "_view_count": null,
            "_view_module": "@jupyter-widgets/controls",
            "_view_module_version": "1.5.0",
            "_view_name": "HBoxView",
            "box_style": "",
            "children": [
              "IPY_MODEL_694f85eb9d41453ea6a15663cc77d904",
              "IPY_MODEL_f1f30762e0ee45c5ae0546c9f28ab80e",
              "IPY_MODEL_6930ad9c33554cb58eca93d56e18bafe"
            ],
            "layout": "IPY_MODEL_9bebe5cafdb24289bd757def59ef2d0f"
          }
        },
        "8e78d00a6096452b9359418790989408": {
          "model_module": "@jupyter-widgets/controls",
          "model_module_version": "1.5.0",
          "model_name": "ProgressStyleModel",
          "state": {
            "_model_module": "@jupyter-widgets/controls",
            "_model_module_version": "1.5.0",
            "_model_name": "ProgressStyleModel",
            "_view_count": null,
            "_view_module": "@jupyter-widgets/base",
            "_view_module_version": "1.2.0",
            "_view_name": "StyleView",
            "bar_color": null,
            "description_width": ""
          }
        },
        "9bebe5cafdb24289bd757def59ef2d0f": {
          "model_module": "@jupyter-widgets/base",
          "model_module_version": "1.2.0",
          "model_name": "LayoutModel",
          "state": {
            "_model_module": "@jupyter-widgets/base",
            "_model_module_version": "1.2.0",
            "_model_name": "LayoutModel",
            "_view_count": null,
            "_view_module": "@jupyter-widgets/base",
            "_view_module_version": "1.2.0",
            "_view_name": "LayoutView",
            "align_content": null,
            "align_items": null,
            "align_self": null,
            "border": null,
            "bottom": null,
            "display": null,
            "flex": null,
            "flex_flow": null,
            "grid_area": null,
            "grid_auto_columns": null,
            "grid_auto_flow": null,
            "grid_auto_rows": null,
            "grid_column": null,
            "grid_gap": null,
            "grid_row": null,
            "grid_template_areas": null,
            "grid_template_columns": null,
            "grid_template_rows": null,
            "height": null,
            "justify_content": null,
            "justify_items": null,
            "left": null,
            "margin": null,
            "max_height": null,
            "max_width": null,
            "min_height": null,
            "min_width": null,
            "object_fit": null,
            "object_position": null,
            "order": null,
            "overflow": null,
            "overflow_x": null,
            "overflow_y": null,
            "padding": null,
            "right": null,
            "top": null,
            "visibility": null,
            "width": null
          }
        },
        "e411ce98cfc2494ea81e0f571d87a683": {
          "model_module": "@jupyter-widgets/controls",
          "model_module_version": "1.5.0",
          "model_name": "DescriptionStyleModel",
          "state": {
            "_model_module": "@jupyter-widgets/controls",
            "_model_module_version": "1.5.0",
            "_model_name": "DescriptionStyleModel",
            "_view_count": null,
            "_view_module": "@jupyter-widgets/base",
            "_view_module_version": "1.2.0",
            "_view_name": "StyleView",
            "description_width": ""
          }
        },
        "f1f30762e0ee45c5ae0546c9f28ab80e": {
          "model_module": "@jupyter-widgets/controls",
          "model_module_version": "1.5.0",
          "model_name": "FloatProgressModel",
          "state": {
            "_dom_classes": [],
            "_model_module": "@jupyter-widgets/controls",
            "_model_module_version": "1.5.0",
            "_model_name": "FloatProgressModel",
            "_view_count": null,
            "_view_module": "@jupyter-widgets/controls",
            "_view_module_version": "1.5.0",
            "_view_name": "ProgressView",
            "bar_style": "success",
            "description": "",
            "description_tooltip": null,
            "layout": "IPY_MODEL_4244d8904a824677b0a8e813691bd8a2",
            "max": 36117,
            "min": 0,
            "orientation": "horizontal",
            "style": "IPY_MODEL_8e78d00a6096452b9359418790989408",
            "value": 36117
          }
        }
      }
    }
  },
  "nbformat": 4,
  "nbformat_minor": 5
}
