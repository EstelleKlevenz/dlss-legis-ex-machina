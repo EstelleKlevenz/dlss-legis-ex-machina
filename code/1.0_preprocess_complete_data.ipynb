{
 "cells": [
  {
   "cell_type": "markdown",
   "id": "25d03b8f",
   "metadata": {},
   "source": [
    "# Explore Parliament Speeches"
   ]
  },
  {
   "cell_type": "markdown",
   "id": "97093173",
   "metadata": {},
   "source": [
    "1. remove duplicates\n",
    "2. handle missings\n",
    "3.. procedural or otherwise nonimportant speeches? - DONE"
   ]
  },
  {
   "cell_type": "code",
   "execution_count": 1,
   "id": "060cb7e0",
   "metadata": {},
   "outputs": [],
   "source": [
    "import pandas as pd"
   ]
  },
  {
   "cell_type": "markdown",
   "id": "e79c7e1b",
   "metadata": {},
   "source": [
    "### Import complete dataset of speeches"
   ]
  },
  {
   "cell_type": "code",
   "execution_count": 39,
   "id": "de3acbc6",
   "metadata": {},
   "outputs": [
    {
     "name": "stdout",
     "output_type": "stream",
     "text": [
      "The history saving thread hit an unexpected error (OperationalError('database is locked')).History will not be written to the database.\n"
     ]
    }
   ],
   "source": [
    "data = pd.read_csv(\"../data/complete_data.csv\")"
   ]
  },
  {
   "cell_type": "code",
   "execution_count": 40,
   "id": "87c7f1d4",
   "metadata": {},
   "outputs": [
    {
     "data": {
      "text/plain": [
       "44716"
      ]
     },
     "execution_count": 40,
     "metadata": {},
     "output_type": "execute_result"
    }
   ],
   "source": [
    "len(data)"
   ]
  },
  {
   "cell_type": "code",
   "execution_count": 3,
   "id": "fb62e873",
   "metadata": {},
   "outputs": [
    {
     "data": {
      "application/vnd.microsoft.datawrangler.viewer.v0+json": {
       "columns": [
        {
         "name": "index",
         "rawType": "int64",
         "type": "integer"
        },
        {
         "name": "speech_id",
         "rawType": "object",
         "type": "string"
        },
        {
         "name": "speaker_id",
         "rawType": "int64",
         "type": "integer"
        },
        {
         "name": "speech_text",
         "rawType": "object",
         "type": "string"
        },
        {
         "name": "legislative_period",
         "rawType": "int64",
         "type": "integer"
        },
        {
         "name": "protocol_nr",
         "rawType": "int64",
         "type": "integer"
        },
        {
         "name": "agenda_item_number",
         "rawType": "int64",
         "type": "integer"
        },
        {
         "name": "speakerId",
         "rawType": "int64",
         "type": "integer"
        },
        {
         "name": "firstName",
         "rawType": "object",
         "type": "string"
        },
        {
         "name": "lastName",
         "rawType": "object",
         "type": "string"
        },
        {
         "name": "party",
         "rawType": "object",
         "type": "string"
        },
        {
         "name": "fraction",
         "rawType": "object",
         "type": "unknown"
        }
       ],
       "ref": "0726a235-c3e8-440c-8e17-f597e299efa9",
       "rows": [
        [
         "0",
         "f7f58b13-85f3-424a-6864-08da102a68d8",
         "11001235",
         "Herr Präsident, ich nehme die Wahl an.\nDann beglückwünsche ich auch Sie im Namen des Hauses und freue mich auf gute Zusammenarbeit.\n",
         "19",
         "1",
         "6",
         "11001235",
         "Wolfgang",
         "Kubicki",
         "FDP",
         "FDP"
        ],
        [
         "1",
         "d0c84378-49ab-47ce-61aa-08da102a68d8",
         "11001938",
         "Das ist der Fall. – Ich sehe keine weiteren Vorschläge.\nDann bitte ich jetzt um Ihre Aufmerksamkeit für einige Hinweise zum Wahlverfahren – das sind technische Hinweise, die aber wichtig sind, damit Sie an der Wahl erfolgreich teilnehmen können –: Die Wahl findet mit verdeckten Stimmkarten, also geheim, statt. Gewählt ist, wer die Stimmen der Mehrheit der Mitglieder des Bundestages, also mindestens 355 Stimmen, erhält. Für diese Wahl und für die spätere Wahl der Vizepräsidentinnen und Vizepräsidenten benötigen Sie Ihre Wahlausweise aus den Stimmkartenfächern in der Lobby. Für die Wahl des Präsidenten sind der Wahlausweis und die Stimmkarte gelb. Bitte kontrollieren Sie, ob dieser Wahlausweis Ihren Namen trägt. Die gelbe Stimmkarte und den amtlichen Wahlumschlag erhalten Sie nach Aufruf Ihres Namens von den Schriftführerinnen und Schriftführern an den Ausgabetischen hier oben neben den Wahlkabinen.\nNachdem Sie die Stimmkarte in einer Wahlkabine gekennzeichnet und dort in den Wahlumschlag gelegt haben, gehen Sie bitte zu den Wahlurnen hier vor dem Rednerpult. Sie dürfen Ihre Stimmkarte nur in der Wahlkabine ankreuzen und müssen ebenfalls noch in der Wahlkabine die Stimmkarte in den Umschlag legen. Die Schriftführerinnen und Schriftführer sind verpflichtet, jeden, der seine Stimmkarte außerhalb der Wahlkabine kennzeichnet oder in den Umschlag legt, zurückzuweisen. Die Stimmabgabe kann in diesem Falle jedoch vorschriftsmäßig wiederholt werden.\nGültig sind nur Stimmkarten mit einem Kreuz bei „Ja“, „Nein“ oder „Enthalte mich“. Ungültig sind Stimmen auf nichtamtlichen Stimmkarten sowie Stimmkarten, die mehr als ein Kreuz, kein Kreuz, andere Namen oder Zusätze enthalten.\nBevor Sie die Stimmkarte in eine der Wahlurnen werfen, übergeben Sie bitte Ihren Wahlausweis einer der Schriftführerinnen oder einem der Schriftführer an der Wahlurne. Der Nachweis der Teilnahme an der Wahl kann nur durch die Abgabe des Wahlausweises erbracht werden.\nIch bitte jetzt die eingeteilten Schriftführerinnen und Schriftführer, die vorgesehenen Plätze einzunehmen. – Die beiden Schriftführer neben mir werden nun Ihre Namen in alphabetischer Reihenfolge aufrufen. Ich bitte Sie, den Namensaufruf zu verfolgen und sich nach dem Aufruf Ihres Namens zur Entgegennahme der Stimmkarte zu den Ausgabetischen vor den Wahlkabinen zu begeben.\nHaben alle Schriftführerinnen und Schriftführer die Plätze eingenommen? – Ich eröffne die Wahl und bitte, mit dem Aufruf der Namen zu beginnen.\nDer Namensaufruf ist beendet. Ich darf fragen, ob alle Mitglieder des Hauses, auch die Schriftführerinnen und Schriftführer, ihre Stimme abgegeben haben. – Nein, da kommt noch jemand.\nHaben jetzt alle Mitglieder des Hauses ihre Stimme abgegeben? – Das scheint der Fall zu sein. Ich schließe die Wahl und bitte die Schriftführerinnen und Schriftführer, mit der Auszählung zu beginnen. Zur Auszählung unterbreche ich die Sitzung für etwa 30 Minuten. Der Wiederbeginn der Sitzung wird rechtzeitig durch Klingelsignal angekündigt.\nDie unterbrochene Sitzung ist wieder eröffnet. Liebe Kolleginnen und Kollegen, nehmen Sie bitte Platz, damit wir fortfahren können.\nIch gebe das Ergebnis der Wahl des Präsidenten des 19. Deutschen Bundestages bekannt: abgegebene Stimmen 705, ungültige Stimmen 1, gültige Stimmen 704. Mit Ja haben gestimmt 501 Kolleginnen und Kollegen.\nMit Nein haben gestimmt 173 Kolleginnen und Kollegen, Enthaltungen gab es 30. Herr Dr. Wolfgang Schäuble hat die erforderliche Mehrheit erhalten und ist zum Präsidenten des 19. Deutschen Bundestages gewählt.\nIch frage Sie, Herr Schäuble: Nehmen Sie die Wahl an?\nHerr Präsident, ich nehme die Wahl an.\nHerr Präsident, ich darf Ihnen im Namen des ganzen Hauses sehr herzlich zu Ihrer Wahl gratulieren. Ich wünsche Ihnen eine glückliche Hand. Verstand muss ich Ihnen nicht wünschen, den haben Sie sowieso. Ich bitte Sie jetzt, das Amt zu übernehmen.\nVielen Dank.\n",
         "19",
         "1",
         "3",
         "11001938",
         "Dr. Wolfgang",
         "Schäuble",
         "CDU",
         null
        ],
        [
         "2",
         "9aff56c3-41cd-4e6b-633b-08da0f22a008",
         "11002190",
         "Guten Morgen, liebe Kolleginnen und Kollegen! Nehmen Sie bitte Platz.\nMeine sehr verehrten Damen und Herren! Liebe Kolleginnen und Kollegen! Ich begrüße Sie zur konstituierenden Sitzung des 19. Deutschen Bundestages. Es entspricht der ständigen Übung, zu Beginn der konstituierenden Sitzung nach den Regelungen der bisherigen Geschäftsordnung des Deutschen Bundestages zu verfahren.\n§ 1 Absatz 2 der Geschäftsordnung des Deutschen Bundestages sieht vor, dass das am längsten dem Bundestag angehörende Mitglied, das hierzu bereit ist, den Vorsitz übernimmt, bis der Deutsche Bundestag einen Präsidenten gewählt hat.\nDie Fraktion der AfD widerspricht diesem Verfahren und hat auf Drucksache 19/2 beantragt, einen Versammlungsleiter zu wählen, der die konstituierende Sitzung eröffnen soll. Über diesen Antrag lasse ich sofort abstimmen. Wer dem Antrag der Fraktion der AfD zustimmt, den bitte ich um sein Handzeichen. – Gegenstimmen? –\nEnthaltungen? – Der Antrag ist damit mit den Stimmen aller Fraktionen bei Zustimmung der AfD-Fraktion abgelehnt.\nWir verfahren nunmehr entsprechend § 1 Absatz 2 der bisherigen Geschäftsordnung. Herr Dr. Wolfgang Schäuble ist das Mitglied, das dem Deutschen Bundestag am längsten angehört. Er hat jedoch auf das Amt des Alterspräsidenten verzichtet. Damit rückt das am zweitlängsten dem Bundestag angehörende Mitglied nach. Ich war von 1980 bis 2013, also 33 Jahre, Mitglied des Deutschen Bundestages. Ist jemand unter Ihnen, der dem Bundestag länger angehört? –\nDas scheint offenkundig nicht der Fall zu sein. Dann trifft es also tatsächlich zu, dass die Rolle des Alterspräsidenten auf mich zukommt. Es ist mir eine Ehre und Freude zugleich, den Vorsitz bis zur Amtsübernahme durch den neugewählten Präsidenten des Deutschen Bundestages zu übernehmen.\nDamit rufe ich nun den Tagesordnungspunkt 1 auf:\nEröffnung der Sitzung durch den Alterspräsidenten\n",
         "19",
         "1",
         "1",
         "11002190",
         "Alterspräsident Dr. Hermann",
         "Otto Solms",
         "FDP",
         null
        ],
        [
         "3",
         "05ebe489-0cff-4575-661e-08da0f22a008",
         "11002190",
         "Die unterbrochene Sitzung ist wieder eröffnet.\nLiebe Kolleginnen und Kollegen, ich darf Sie bitten, wieder Platz zu nehmen. Mir liegt das Ergebnis des dritten Wahlgangs vor. Sobald Sie Platz genommen haben, werde ich es Ihnen mitteilen.\nIm dritten Wahlgang für die Wahl einer Stellvertreterin/eines Stellvertreters des Präsidenten wurden 685 Stimmen abgegeben. 685 Stimmen waren gültig. Mit Ja haben gestimmt 114, mit Nein haben gestimmt 545, Enthaltungen 26. Der Abgeordnete Glaser hat damit nicht die erforderliche Mehrheit erhalten.2 Namensverzeichnis der Teilnehmer an der Wahl siehe Anlage 5\nGemäß § 2 Absatz 3 unserer Geschäftsordnung findet kein weiterer Wahlgang mit einem im dritten Wahlgang erfolglosen Kandidaten statt, es sei denn, ein weiterer Wahlgang wird im Ältestenrat vereinbart. Wird ein neuer Bewerber vorgeschlagen, so ist in ein neues Wahlverfahren einzutreten. Es wäre also wieder ein erster Wahlgang mit den entsprechenden Mehrheitserfordernissen durchzuführen. In beiden Fällen muss aber erst vereinbart werden, an welchem Tag die Wahl durchgeführt werden soll.\nDie Geschäftsführerinnen und Geschäftsführer der Fraktionen haben mir signalisiert, dass es kein Einvernehmen über die Durchführung weiterer Wahlgänge am heutigen Tag gibt. Damit ist dieser Tagesordnungspunkt abgeschlossen.\nDamit darf ich Sie bitten, sich zu unserer Nationalhymne von Ihren Sitzen zu erheben.\nLiebe Kolleginnen und Kollegen, wir sind damit am Schluss unserer heutigen Tagesordnung. Die nächste Sitzung findet in der 47. Kalenderwoche, also in der Woche vom 20. November, statt. Der genaue Tag der Sitzung wird noch bestimmt und Ihnen bekannt gegeben.\nBevor ich die Sitzung schließe, darf ich Sie herzlich zu einem kleinen Empfang auf der Fraktionsebene einladen.\nDie Sitzung ist geschlossen.\n",
         "19",
         "1",
         "6",
         "11002190",
         "Alterspräsident Dr. Hermann",
         "Otto Solms",
         "FDP",
         null
        ],
        [
         "4",
         "901e2196-b575-4fea-5fd2-08da102a68d8",
         "11002190",
         "Herr Bundespräsident! Verehrte Kolleginnen und Kollegen!\n– Muss ich selber drücken?\nAller Anfang ist schwer; also fangen wir noch einmal von vorne an.\nHerr Bundespräsident! Liebe Kolleginnen und Kollegen! Meine sehr verehrten Damen und Herren! Ich habe zunächst zu danken. Ich danke Ihnen für das Vertrauen, das Sie mir mit der Wahl zum Bundestagspräsidenten entgegenbringen. Ich danke Hermann Otto Solms. Mit seiner langen parlamentarischen Erfahrung hat er die von mir übernommene Aufgabe, diesen 19. Deutschen Bundestag als dienstältester Abgeordneter zu eröffnen, mit großer Umsicht wahrgenommen. Und er hat die Herausforderungen für unser Parlament klar umrissen.\nIch möchte den vielen ausgeschiedenen Kolleginnen und Kollegen danken. Sie schauen zum Teil auf jahrzehntelanges parlamentarisches Wirken zurück. Ich nenne stellvertretend Heinz Riesenhuber. Er war gleich zweimal Alterspräsident, bei den konstituierenden Sitzungen der beiden zurückliegenden Legislaturperioden. Ich danke aus dem Präsidium des 18. Deutschen Bundestages den ausgeschiedenen Vizepräsidenten Edelgard Bulmahn und Johannes Singhammer. Ich danke natürlich auch den beiden Vizepräsidentinnen, die dem nächsten Präsidium vermutlich nicht angehören werden. Damit nehme ich jetzt die Wahl vorweg; das ist ein bisschen schwierig.\nVor allen Dingen aber, meine sehr verehrten Damen und Herren, möchte ich Norbert Lammert danken. Er war zwölf Jahre ein großartiger Bundestagspräsident.\nLieber Herr Lammert, Sie hatten eine ganz besondere Begabung als Redner, und Sie hatten immer klare Vorstellungen davon, was dieses Parlament leisten soll und was es leisten kann, wenn es denn will.\nLiebe Kolleginnen und Kollegen, ich freue mich auf die neue Aufgabe. Im Parlament schlägt das Herz unserer Demokratie. Ich freue mich auf die Zusammenarbeit mit Ihnen, liebe Kolleginnen und Kollegen, wie mit allen Mitarbeiterinnen und Mitarbeitern, die diesem Haus dienen.\nIch bin Parlamentarier aus Leidenschaft. Ich habe meine Abgeordnetentätigkeit immer als hohe Verantwortung und das Mandat als meine demokratische Legitimation verstanden. Ich habe im Übrigen im Deutschen Bundestag beides erlebt: Abgeordneter zu sein in der Opposition wie in einer Regierungsfraktion.\nZunächst war ich zehn Jahre in der Opposition. Als ich 1972 zum ersten Mal als Abgeordneter im Deutschen Bundestag saß, wurde um die Ostverträge gestritten – mit leidenschaftlichen Debatten, damals in Bonn. Die Stimmung war aufgeladen. Überhaupt prägte seinerzeit eine extrem spannungsvolle Atmosphäre dieses Land. Die Gesellschaft der Bundesrepublik hatte sich seit Mitte der 60er-Jahre in einem bis dahin nicht gekannten Maße politisiert, mobilisiert und polarisiert. Geschadet hat es nicht, genauso wenig wie die Erregung Anfang der 80er-Jahre. Da war ich Abgeordneter in der großen Regierungsfraktion, als es etwa um den NATO-Doppelbeschluss ging. Sieben Jahre später fiel dann die Mauer. Veränderung war also immer, und vieles wird im Übrigen in der Rückschau anders bewertet als mitten im Streit. Auch deshalb, also weil ich aus eigenem Erleben weiß, dass Erregung und Krisengefühle so neu nicht wirklich sind, sehe ich mit Gelassenheit den Auseinandersetzungen entgegen, die wir in den kommenden Jahren führen werden und die wir im Parlament zu führen haben, stellvertretend für die Gesellschaft, aus der heraus wir gewählt sind. Denn diese Gesellschaft müssen wir nicht nur in ihrem Grundkonsens, sondern auch in ihrer Vielheit und Verschiedenheit repräsentieren. Wir dürfen das eine nicht gegen das andere ausspielen.\nIn einem demokratischen Gemeinwesen ist kein Thema es wert, über den Streit das Gemeinsame in Vergessenheit geraten zu lassen. 289 Abgeordnete ziehen heute erstmals ins Parlament ein – das sind gut 40 Prozent aller Mitglieder dieses Hauses. Selten unterschied sich ein Bundestag so sehr von seinem Vorgänger wie dieser. Sieben Parteien und sechs Fraktionen – so viele gab es seit 60 Jahren nicht mehr.\nDiese neue Konstellation hier im Haus spiegelt die Veränderungen wider, die unsere Gesellschaft erlebt: Verunsicherungen wachsen angesichts des raschen Wandels durch Globalisierung und Digitalisierung. Zusammenhänge lösen sich auf, Zugehörigkeiten brechen auf und neue entstehen. Alte Gewissheiten und Identitäten werden infrage gestellt, und neue, vermeintliche Gewissheiten werden in Stellung gebracht gegen zunehmende Sorgen und Zweifel.\nDas menschliche Bedürfnis nach Geborgenheit in vertrauten Lebensräumen trifft auf eine zunehmend als ungemütlich empfundene Welt voller Konflikte, Krisen, Kriege und medial präsentem Schrecken. Vor diesem Hintergrund verschärft sich die Tonlage der gesellschaftlichen Debatten. All das können wir übrigens vielerorts in Europa beobachten.\nMit dem ungeheuer schnellen gesellschaftlichen Wandel, den wir erleben, geht eine Fragmentierung unserer Debatten und Aufmerksamkeiten einher. Das stellt die politische Ordnung, die demokratischen Institutionen und Verfahren vor große Herausforderungen. Jedem erscheint etwas anderes wichtig. Jeder scheint gelegentlich nur noch seine eigenen Probleme wahrzunehmen. Es gibt nicht mehr das eine Thema.\nDas Überhandnehmen von Möglichkeiten und Optionen kann auch überfordern. Über dieses „Unbehagen im Kapitalismus“ hat Uwe Jean Heuser schon 2000 geschrieben. Wie alles ist auch Freiheit durch Übermaß gefährdet. Deswegen müssen wir immer wieder die richtige Balance auch im Umgang mit Freiheit lernen.\nHinzu kommt der Wandel der Medien und ihrer Nutzung durch die Veränderungen in der Informationstechnologie. Die Zersplitterung in viele Teilöffentlichkeiten führt dazu, dass uns eine erkennbar gemeinsame Sicht auf politische Prioritäten verloren geht. Da kann dieses Parlament ein Ort der Bündelung, der Fokussierung, der Konzentration auf die wichtigen Fragen unserer gesellschaftlichen Zukunft in Deutschland wie in Europa sein.\nWir Abgeordnete, liebe Kolleginnen und Kollegen, sind für die Mitbürger im Wahlkreis manchmal fast eine Art Ombudsmann. Mit unserer Arbeit und unseren Begegnungen vor Ort vermitteln wir diese Wirklichkeit auf die Ebene der Bundespolitik. Unsere Vielzahl an Erfahrungen und Qualifikationen aus beruflicher, sozialer, ehrenamtlicher Tätigkeit bildet eine ganze Menge Expertise. Vielleicht wissen und fühlen wir Abgeordnete durch unsere Verwurzelung bei den Menschen manchmal besser als die Forschungsinstitute, was die Menschen wirklich bewegt.\nZugleich sind wir alle, wie Artikel 38 unseres Grundgesetzes sagt, Abgeordnete des ganzen Volkes. Dazu müssen wir diese Vielzahl von Interessen, Meinungen, Befindlichkeiten mit den Begrenztheiten und der Endlichkeit der Realität zusammenbringen, und das zwingt zu Kompromissen und zu Entscheidungen durch Mehrheit. Je besser das gelingt, umso weniger fühlen sich Menschen in der demokratischen Wirklichkeit zurückgelassen.\nImmanuel Kant, dem wir viele Gedanken von Rechtsstaat und Republik verdanken, hat gesagt – ich drücke es halb mit meinen Worten aus –: Handle stets so, dass das Prinzip Deiner Handlung immer auch das Prinzip der Handlungen aller anderen sein könnte, dass es immer auch allgemeines Gesetz sein könnte. – Also: Handle so, dass menschliches Miteinander nicht zusammenbräche, wenn alle so handelten wie Du selbst.\nDas, verehrte Kolleginnen und Kollegen, gilt gerade auch für Parlamentsabgeordnete, und das ist eine gute Maxime für unser repräsentatives System.\nAuch die Vertretung partikularer Interessen darf, wie alles, nicht exzessiv werden. Andere Demokratien in der Welt sind da übrigens schon weit auf die abschüssige Bahn geraten.\nWas aber sehr wohl sein darf und sein muss, ist, dass der parlamentarische Prozess hier im Hause sichtbar macht, wie schwierig sowohl die Durchsetzung als auch der Ausgleich von Interessen in einer liberalen Demokratie sind. Da darf Streit nicht nur sein; das geht nur über Streit. Den müssen wir führen, und den müssen wir aushalten, ertragen. Demokratischer Streit ist notwendig, aber es ist ein Streit nach Regeln, und es ist mit der Bereitschaft verbunden, die demokratischen Verfahren zu achten und die dann und so zustandegekommenen Mehrheitsentscheidungen nicht als illegitim oder verräterisch oder sonst wie zu denunzieren,\nsondern die Beschlüsse der Mehrheit zu akzeptieren. Das ist parlamentarische Kultur.\nUnd da kommt es dann auch auf den Stil an, in dem wir uns hier streiten und in dem wir füreinander Respekt signalisieren können.\nEs gab in den vergangenen Monaten in unserem Land Töne der Verächtlichmachung und Erniedrigung. Ich finde, das hat keinen Platz in einem zivilisierten Miteinander.\nDie überwältigende Mehrheit der Bürgerinnen und Bürger in diesem Land will ein zivilisiertes Miteinander. In aufgewühlten Zeiten wie unseren wächst das Bedürfnis nach Formen des Verhaltens, über die man lange nicht mehr geredet hat, weil man sie als selbstverständlich ansah. Es wird wieder über Anstand gesprochen – sogar Bücher werden darüber geschrieben und kommen auf die Bestsellerlisten –, und es wird auch über die Frage gesprochen, wie wir in der Gesellschaft miteinander umgehen sollen: Respekt füreinander haben, nicht jeden persönlichen Spielraum maximal ausnutzen, ein offenes Ohr haben für die Argumente des anderen, ihn anerkennen mit seiner anderen Meinung.\nEs geht um Fairness. Hundertprozentige Gerechtigkeit gibt es nicht, aber Fairness ist möglich in dem Sinne, dass sich möglichst alle angesprochen fühlen und nicht ausgeschlossen bleiben.\nDie Art, wie wir hier miteinander reden, kann vorbildlich sein für die gesellschaftliche Debatte. Prügeln sollten wir uns hier nicht, wie es ja zum Teil auch in Europa in anderen Parlamenten bisweilen geschieht.\nWir sollten das übrigens auch nicht verbal tun. Wir können vielmehr zeigen, dass man sich streiten kann, ohne dass es unanständig wird. Dazu müssen wir zeigen, dass auch ein Bundestag mit sechs Fraktionen schafft, wozu er da ist: Entscheidungen herbeizuführen, die als legitim empfunden werden.\nDas Parlament besteht aus Abgeordneten, und diese Abgeordneten sind nicht „abgehoben“, wie so gern oberflächlich dahingeredet wird. Wir sind aus der Mitte der Bürgerinnen und Bürger gewählt.\nAber niemand vertritt alleine das Volk. So etwas wie Volkswille entsteht überhaupt erst in und mit unseren parlamentarischen Entscheidungen.\nDeswegen haben wir die Pflicht, diesen Ort wertzuhalten, als Ort des nachvollziehbaren sachlichen wie auch emotionalen Streits – ja, auch Gefühle gehören dazu –, stellvertretend für die Mitbürgerinnen und Mitbürger die Dinge, die alle angehen, argumentativ gegeneinander oder miteinander auszumachen und dann mit Mehrheit zu entscheiden.\nWir müssen das Vertrauen in das repräsentative Prinzip wieder stärken. Das ist übrigens keine nur nationale Frage. Die europäischen oder westlichen Werte, die Grundlage unserer verfassungsmäßigen Ordnung sind, wirken vielerorts fragil und erfreuen sich doch zugleich weltweit großer Attraktivität. Freiheit, Rechtsstaatlichkeit, sozialer Zusammenhalt, ökologische Nachhaltigkeit: Ohne Parlamentarismus geht all das nicht.\nNach ernsthaftem Streit der Meinungen stellvertretend für alle Bürgerinnen und Bürger Entscheidungen zu treffen: Die befriedende Wirkung, die das hat, wenn es gelingt, brauchen wir überall in der Welt – in einer Welt, wo ja überall immer mehr Menschen nicht nur Anspruch auf wirtschaftliche Teilhabe, sondern auch auf politische Mitsprache erheben.\nIn Zeiten zunehmender Globalisierung heißt das auch, die Kompliziertheit unserer Welt auszuhalten. Aber wir haben zugleich auch die Chance, der Welt, die sich uns nähert, zu zeigen, dass der Parlamentarismus etwas taugt, dass er funktioniert und dass er zu Lösungen für die Probleme und Herausforderungen fähig ist.\nNorbert Lammert hat immer sehr elegant die Tage, an denen er sprach, danach befragt, was an ihnen in vergangenen Jahren und Jahrhunderten geschah und an was uns das erinnern sollte. Ich will das heute noch einmal im Sinne einer kleinen Hommage tun. Um es chronologisch rückwärts zu machen: Dieser 24. Oktober ist der Tag der Vereinten Nationen. 1945 trat am 24. Oktober die Charta der Vereinten Nationen in Kraft. Am 24. Oktober 1929 endete am Schwarzen Donnerstag die jahrelange Hausse der New Yorker Börse, und es begann die Weltwirtschaftskrise mit all ihren Folgen.\nUnd am 24. Oktober 1648 wurde der Westfälische Frieden zur Beendigung des Dreißigjährigen Krieges unterzeichnet, eines Krieges, an dessen Beginn wir uns kommendes Jahr erinnern. Herfried Münkler hat ihm gerade ein Opus Magnum gewidmet, in dem er zeigt, dass dieser bis heute längste Krieg auf deutschem Boden – zugleich übrigens der erste im vollen Sinne europäische Krieg – uns besser als alle späteren Konflikte die Kriege unserer Gegenwart verstehen lässt. Wer es nicht glaubt, der lese noch einmal im „Simplicissimus“ von ­Grimmelshausen nach. Er ist übrigens in meinem Wahlkreis geschrieben worden.\nAll das, liebe Kolleginnen und Kollegen, erinnert uns an den Charakter der Aufgaben, die vor uns liegen. Es erinnert uns daran, dass wir die Entscheidungen, die wir hier treffen, in weltpolitische Zusammenhänge einzubetten haben.\nEuropa und die Globalisierung: Das ist heute der Rahmen für das, was wir hier debattieren und entscheiden. Das hat nichts mit einem Aufgeben nationaler Selbstbestimmung zu tun, schon gar nichts mit einem Aufgeben des Anspruchs, dass dies hier der Ort ist, an dem immer wieder neu die Souveränität des deutschen Volkes greifbar und wirklich wird. Vielmehr beschreibt es die Aufgabe, der wir gerecht werden müssen, den Weg einer selbstbewussten Einordnung in immer weitere Zusammenhänge zu finden, mit dem Ziel, dazu beizutragen, in dieser Welt unsere Zukunft gestalten zu können.\nDass wir uns in solcher Öffnung zur Welt und Einordnung noch selbst erkennen, dass wir bleiben, was wir irgendwie fühlen, das wir sind – im Guten, wie zum Beispiel unserer parlamentarischen Ordnung, wie im Schlechten, das wir als nationale Schicksalsgemeinschaft nicht werden abstreifen können und aus dem wir doch immer wieder neues Gutes zu entwickeln uns bemühen –, dass wir all das bleiben, ohne uns abzuschotten oder uns bequem rauszuhalten, darum, liebe Kolleginnen und Kollegen, geht es.\nIn der Präambel unseres Grundgesetzes von 1949, die wir 1990 im wiedervereinten Deutschland fortgeschrieben haben, heißt es:\n… von dem Willen beseelt, als gleichberechtigtes Glied in einem vereinten Europa dem Frieden der Welt zu dienen, hat sich das Deutsche Volk kraft seiner verfassungsgebenden Gewalt dieses Grundgesetz gegeben.\nDies hier, liebe Kolleginnen und Kollegen, ist der Ort, an dem wir diesem Willen Gestalt geben.\nDafür hat uns eine wieder gewachsene Zahl von Bürgerinnen und Bürgern gewählt. Der Trend zur höheren Wahlbeteiligung bei den letzten Landtagswahlen hat sich auch im Bund fortgesetzt. Ich denke, das zeigt, dass Erwartungen gestiegen sind. Wenn wir diese Erwartungen einigermaßen erfüllen, können wir unserem Land einen großen Dienst erweisen. Steigende Erwartungen sind also eine Chance, auch wenn es zur Wahrheit gehört, dass in dieser Welt immer neuer Akteure und immer dichterer Verflechtungen die Realität komplizierter wird und unsere Handlungsspielräume nicht immer nur wachsen. Zwischen beidem müssen wir als Parlament unseren Weg finden.\nIch freue mich auf unsere Arbeit hier in den kommenden vier Jahren.\n",
         "19",
         "1",
         "4",
         "11002190",
         "Alterspräsident Dr. Hermann",
         "Otto Solms",
         "FDP",
         null
        ]
       ],
       "shape": {
        "columns": 11,
        "rows": 5
       }
      },
      "text/html": [
       "<div>\n",
       "<style scoped>\n",
       "    .dataframe tbody tr th:only-of-type {\n",
       "        vertical-align: middle;\n",
       "    }\n",
       "\n",
       "    .dataframe tbody tr th {\n",
       "        vertical-align: top;\n",
       "    }\n",
       "\n",
       "    .dataframe thead th {\n",
       "        text-align: right;\n",
       "    }\n",
       "</style>\n",
       "<table border=\"1\" class=\"dataframe\">\n",
       "  <thead>\n",
       "    <tr style=\"text-align: right;\">\n",
       "      <th></th>\n",
       "      <th>speech_id</th>\n",
       "      <th>speaker_id</th>\n",
       "      <th>speech_text</th>\n",
       "      <th>legislative_period</th>\n",
       "      <th>protocol_nr</th>\n",
       "      <th>agenda_item_number</th>\n",
       "      <th>speakerId</th>\n",
       "      <th>firstName</th>\n",
       "      <th>lastName</th>\n",
       "      <th>party</th>\n",
       "      <th>fraction</th>\n",
       "    </tr>\n",
       "  </thead>\n",
       "  <tbody>\n",
       "    <tr>\n",
       "      <th>0</th>\n",
       "      <td>f7f58b13-85f3-424a-6864-08da102a68d8</td>\n",
       "      <td>11001235</td>\n",
       "      <td>Herr Präsident, ich nehme die Wahl an.\\nDann b...</td>\n",
       "      <td>19</td>\n",
       "      <td>1</td>\n",
       "      <td>6</td>\n",
       "      <td>11001235</td>\n",
       "      <td>Wolfgang</td>\n",
       "      <td>Kubicki</td>\n",
       "      <td>FDP</td>\n",
       "      <td>FDP</td>\n",
       "    </tr>\n",
       "    <tr>\n",
       "      <th>1</th>\n",
       "      <td>d0c84378-49ab-47ce-61aa-08da102a68d8</td>\n",
       "      <td>11001938</td>\n",
       "      <td>Das ist der Fall. – Ich sehe keine weiteren Vo...</td>\n",
       "      <td>19</td>\n",
       "      <td>1</td>\n",
       "      <td>3</td>\n",
       "      <td>11001938</td>\n",
       "      <td>Dr. Wolfgang</td>\n",
       "      <td>Schäuble</td>\n",
       "      <td>CDU</td>\n",
       "      <td>NaN</td>\n",
       "    </tr>\n",
       "    <tr>\n",
       "      <th>2</th>\n",
       "      <td>9aff56c3-41cd-4e6b-633b-08da0f22a008</td>\n",
       "      <td>11002190</td>\n",
       "      <td>Guten Morgen, liebe Kolleginnen und Kollegen! ...</td>\n",
       "      <td>19</td>\n",
       "      <td>1</td>\n",
       "      <td>1</td>\n",
       "      <td>11002190</td>\n",
       "      <td>Alterspräsident Dr. Hermann</td>\n",
       "      <td>Otto Solms</td>\n",
       "      <td>FDP</td>\n",
       "      <td>NaN</td>\n",
       "    </tr>\n",
       "    <tr>\n",
       "      <th>3</th>\n",
       "      <td>05ebe489-0cff-4575-661e-08da0f22a008</td>\n",
       "      <td>11002190</td>\n",
       "      <td>Die unterbrochene Sitzung ist wieder eröffnet....</td>\n",
       "      <td>19</td>\n",
       "      <td>1</td>\n",
       "      <td>6</td>\n",
       "      <td>11002190</td>\n",
       "      <td>Alterspräsident Dr. Hermann</td>\n",
       "      <td>Otto Solms</td>\n",
       "      <td>FDP</td>\n",
       "      <td>NaN</td>\n",
       "    </tr>\n",
       "    <tr>\n",
       "      <th>4</th>\n",
       "      <td>901e2196-b575-4fea-5fd2-08da102a68d8</td>\n",
       "      <td>11002190</td>\n",
       "      <td>Herr Bundespräsident! Verehrte Kolleginnen und...</td>\n",
       "      <td>19</td>\n",
       "      <td>1</td>\n",
       "      <td>4</td>\n",
       "      <td>11002190</td>\n",
       "      <td>Alterspräsident Dr. Hermann</td>\n",
       "      <td>Otto Solms</td>\n",
       "      <td>FDP</td>\n",
       "      <td>NaN</td>\n",
       "    </tr>\n",
       "  </tbody>\n",
       "</table>\n",
       "</div>"
      ],
      "text/plain": [
       "                              speech_id  speaker_id  \\\n",
       "0  f7f58b13-85f3-424a-6864-08da102a68d8    11001235   \n",
       "1  d0c84378-49ab-47ce-61aa-08da102a68d8    11001938   \n",
       "2  9aff56c3-41cd-4e6b-633b-08da0f22a008    11002190   \n",
       "3  05ebe489-0cff-4575-661e-08da0f22a008    11002190   \n",
       "4  901e2196-b575-4fea-5fd2-08da102a68d8    11002190   \n",
       "\n",
       "                                         speech_text  legislative_period  \\\n",
       "0  Herr Präsident, ich nehme die Wahl an.\\nDann b...                  19   \n",
       "1  Das ist der Fall. – Ich sehe keine weiteren Vo...                  19   \n",
       "2  Guten Morgen, liebe Kolleginnen und Kollegen! ...                  19   \n",
       "3  Die unterbrochene Sitzung ist wieder eröffnet....                  19   \n",
       "4  Herr Bundespräsident! Verehrte Kolleginnen und...                  19   \n",
       "\n",
       "   protocol_nr  agenda_item_number  speakerId                    firstName  \\\n",
       "0            1                   6   11001235                     Wolfgang   \n",
       "1            1                   3   11001938                 Dr. Wolfgang   \n",
       "2            1                   1   11002190  Alterspräsident Dr. Hermann   \n",
       "3            1                   6   11002190  Alterspräsident Dr. Hermann   \n",
       "4            1                   4   11002190  Alterspräsident Dr. Hermann   \n",
       "\n",
       "     lastName party fraction  \n",
       "0     Kubicki   FDP      FDP  \n",
       "1    Schäuble   CDU      NaN  \n",
       "2  Otto Solms   FDP      NaN  \n",
       "3  Otto Solms   FDP      NaN  \n",
       "4  Otto Solms   FDP      NaN  "
      ]
     },
     "execution_count": 3,
     "metadata": {},
     "output_type": "execute_result"
    }
   ],
   "source": [
    "data.head()"
   ]
  },
  {
   "cell_type": "code",
   "execution_count": 4,
   "id": "2c34e187",
   "metadata": {},
   "outputs": [],
   "source": [
    "import string\n",
    "# defining normalization of text: converting to lowercase and removing punctuation\n",
    "def normalize_text(input_str:str):\n",
    "    return input_str.lower().translate(str.maketrans('','', string.punctuation))\n"
   ]
  },
  {
   "cell_type": "markdown",
   "id": "15e2c476",
   "metadata": {},
   "source": [
    "### Create some helper columns for identification of speeches to include"
   ]
  },
  {
   "cell_type": "code",
   "execution_count": 5,
   "id": "ce88c4c8",
   "metadata": {},
   "outputs": [],
   "source": [
    "# normalize (remove punctuation, to lower)\n",
    "data['normalized'] = data['speech_text'].apply(normalize_text)\n",
    "# Tokenized speech\n",
    "data['tokenized'] = data['normalized'].str.split()\n",
    "# length of speech\n",
    "data['speech_length'] = data['tokenized'].apply(len)"
   ]
  },
  {
   "cell_type": "markdown",
   "id": "58809334",
   "metadata": {},
   "source": [
    "### Initial inspection"
   ]
  },
  {
   "cell_type": "code",
   "execution_count": 6,
   "id": "aca1d4cc",
   "metadata": {},
   "outputs": [
    {
     "name": "stdout",
     "output_type": "stream",
     "text": [
      "Total number of speech: 44716\n",
      "Average speech length (words): 563.07\n",
      "Max speech length: 9349 words\n",
      "Min speech length: 1 words\n",
      "Total word count: 25178388\n",
      "Vocabulary size: 333593\n"
     ]
    }
   ],
   "source": [
    "tokenized = data['tokenized'].dropna()\n",
    "\n",
    "# 1. Total number of speeches\n",
    "num_speeches = len(tokenized)\n",
    "\n",
    "# 2. Average speech length (in words)\n",
    "avg_length = tokenized.apply(len).mean()\n",
    "\n",
    "# 3. Maximum and minimum speech length\n",
    "max_length = tokenized.apply(len).max()\n",
    "min_length = tokenized.apply(len).min()\n",
    "\n",
    "# 4. Vocabulary size (unique words across all utterances)\n",
    "all_words = [word for sublist in tokenized for word in sublist]\n",
    "vocab_size = len(set(all_words))\n",
    "\n",
    "# 5. Total word count\n",
    "total_words = len(all_words)\n",
    "\n",
    "# Show results\n",
    "print(f\"Total number of speech: {num_speeches}\")\n",
    "print(f\"Average speech length (words): {avg_length:.2f}\")\n",
    "print(f\"Max speech length: {max_length} words\")\n",
    "print(f\"Min speech length: {min_length} words\")\n",
    "print(f\"Total word count: {total_words}\")\n",
    "print(f\"Vocabulary size: {vocab_size}\")\n"
   ]
  },
  {
   "cell_type": "markdown",
   "id": "f168842e",
   "metadata": {},
   "source": [
    "### Duplicates?"
   ]
  },
  {
   "cell_type": "code",
   "execution_count": 7,
   "id": "e0779642",
   "metadata": {},
   "outputs": [
    {
     "name": "stdout",
     "output_type": "stream",
     "text": [
      "44716\n",
      "44716\n"
     ]
    }
   ],
   "source": [
    "print(len(data['speech_id'].unique())) # unique speech identifier\n",
    "print(len(data))"
   ]
  },
  {
   "cell_type": "markdown",
   "id": "f23bcf00",
   "metadata": {},
   "source": [
    "-> no duplicates"
   ]
  },
  {
   "cell_type": "markdown",
   "id": "9772b49c",
   "metadata": {},
   "source": [
    "### Missings?"
   ]
  },
  {
   "cell_type": "code",
   "execution_count": 8,
   "id": "92017eec",
   "metadata": {},
   "outputs": [
    {
     "name": "stdout",
     "output_type": "stream",
     "text": [
      "party         60\n",
      "fraction    4414\n",
      "dtype: int64\n"
     ]
    }
   ],
   "source": [
    "na_counts = data.isna().sum()\n",
    "na_counts = na_counts[na_counts > 0]\n",
    "print(na_counts)"
   ]
  },
  {
   "cell_type": "markdown",
   "id": "34fc78fc",
   "metadata": {},
   "source": [
    "-> keep only rows with party info (30 rows without party info are no relevant loss to the dataset), fraction information won't be needed"
   ]
  },
  {
   "cell_type": "code",
   "execution_count": 9,
   "id": "fcfcdd65",
   "metadata": {},
   "outputs": [],
   "source": [
    "data = data[data['party'].notna()].reset_index(drop=True)"
   ]
  },
  {
   "cell_type": "markdown",
   "id": "e389558a",
   "metadata": {},
   "source": [
    "### Importing meta information to speeches"
   ]
  },
  {
   "cell_type": "code",
   "execution_count": 10,
   "id": "cade257f",
   "metadata": {},
   "outputs": [],
   "source": [
    "df_agenda = pd.read_csv(\"../data/agenda_item_info.csv\")"
   ]
  },
  {
   "cell_type": "markdown",
   "id": "35d27fa6",
   "metadata": {},
   "source": [
    "### Collection of Speeches to be excluded"
   ]
  },
  {
   "cell_type": "markdown",
   "id": "849538c0",
   "metadata": {},
   "source": [
    "#### identify via keywords in agenda item title"
   ]
  },
  {
   "cell_type": "code",
   "execution_count": 11,
   "id": "bdd46219",
   "metadata": {},
   "outputs": [],
   "source": [
    "contains_matches = df_agenda['AgendaItemTitle'].str.contains(\n",
    "    \"Wahl|Eröffnung|Eidesleistung|Bekanntgabe|Fragestunde|Befragung|Nationalhymne|Geschäftsordnung\", na=False # formal / procedural content\n",
    ")\n",
    "\n",
    "# filter mask\n",
    "mask = contains_matches\n",
    "\n",
    "# store matches in new df\n",
    "to_drop = df_agenda.loc[mask, [\n",
    "    'AgendaItemTitle', \n",
    "    'LegislaturePeriod', \n",
    "    'Number', \n",
    "    'AgendaItemNumber', \n",
    "    'Order', \n",
    "    'DateOnly'\n",
    "]].rename(columns={\n",
    "    'LegislaturePeriod': 'Legislature',\n",
    "    'Number': 'Protocol_Nr'\n",
    "}).reset_index(drop=True)\n"
   ]
  },
  {
   "cell_type": "code",
   "execution_count": 12,
   "id": "eb567c1d",
   "metadata": {},
   "outputs": [
    {
     "data": {
      "application/vnd.microsoft.datawrangler.viewer.v0+json": {
       "columns": [
        {
         "name": "index",
         "rawType": "int64",
         "type": "integer"
        },
        {
         "name": "AgendaItemTitle",
         "rawType": "object",
         "type": "string"
        },
        {
         "name": "Legislature",
         "rawType": "int64",
         "type": "integer"
        },
        {
         "name": "Protocol_Nr",
         "rawType": "int64",
         "type": "integer"
        },
        {
         "name": "AgendaItemNumber",
         "rawType": "object",
         "type": "string"
        },
        {
         "name": "Order",
         "rawType": "int64",
         "type": "integer"
        },
        {
         "name": "DateOnly",
         "rawType": "object",
         "type": "string"
        }
       ],
       "ref": "b3f6eb60-00a4-4db6-9e6b-3ae3a681738d",
       "rows": [
        [
         "0",
         "Eröffnung der Sitzung durch den Alterspräsidenten",
         "19",
         "1",
         "1",
         "1",
         "2017-10-24"
        ],
        [
         "1",
         "Beschlussfassung über die Geschäftsordnung",
         "19",
         "1",
         "2",
         "2",
         "2017-10-24"
        ],
        [
         "2",
         "Wahl des Präsidenten",
         "19",
         "1",
         "3",
         "3",
         "2017-10-24"
        ],
        [
         "3",
         "Wahl der Stellvertreter des Präsidenten",
         "19",
         "1",
         "6",
         "6",
         "2017-10-24"
        ],
        [
         "4",
         "Nationalhymne",
         "19",
         "1",
         "7",
         "7",
         "2017-10-24"
        ],
        [
         "5",
         "Befragung der Bundesregierung",
         "19",
         "10",
         "1",
         "1",
         "2018-01-31"
        ],
        [
         "6",
         "Fragestunde",
         "19",
         "10",
         "2",
         "2",
         "2018-01-31"
        ],
        [
         "7",
         "Befragung der Bundesregierung",
         "19",
         "100",
         "1",
         "1",
         "2019-05-15"
        ],
        [
         "8",
         "Fragestunde",
         "19",
         "100",
         "2",
         "2",
         "2019-05-15"
        ],
        [
         "9",
         "2. Wahlgang - Stellvertreter des Präsidenten",
         "19",
         "101",
         "ZP 4",
         "7",
         "2019-05-16"
        ],
        [
         "10",
         "Befragung der Bundesregierung",
         "19",
         "103",
         "1",
         "1",
         "2019-06-05"
        ],
        [
         "11",
         "Fragestunde",
         "19",
         "103",
         "2",
         "2",
         "2019-06-05"
        ],
        [
         "12",
         "3. Wahlgang - Stellvertreter des Präsidenten",
         "19",
         "104",
         "ZP 7",
         "8",
         "2019-06-06"
        ],
        [
         "13",
         "Befragung der Bundesregierung",
         "19",
         "106",
         "1",
         "1",
         "2019-06-26"
        ],
        [
         "14",
         "Fragestunde",
         "19",
         "106",
         "3",
         "3",
         "2019-06-26"
        ],
        [
         "15",
         "Eidesleistung der Bundesministerin der Justiz und für Verbraucherschutz",
         "19",
         "107",
         "ZP 3",
         "1",
         "2019-06-27"
        ],
        [
         "16",
         "Wahlen zu Gremien",
         "19",
         "107",
         "ZP 12",
         "9",
         "2019-06-27"
        ],
        [
         "17",
         "Eidesleistung der Bundesministerin der Verteidigung",
         "19",
         "109",
         "1",
         "1",
         "2019-07-24"
        ],
        [
         "18",
         "Wahl: Parlamentarisches Kontrollgremium",
         "19",
         "11",
         "ZP 2",
         "2",
         "2018-02-01"
        ],
        [
         "19",
         "Befragung der Bundesregierung",
         "19",
         "114",
         "1",
         "1",
         "2019-09-25"
        ],
        [
         "20",
         "Fragestunde",
         "19",
         "114",
         "2",
         "2",
         "2019-09-25"
        ],
        [
         "21",
         "Wahlgang – Stellvertreter des Präsidenten",
         "19",
         "115",
         "ZP 9",
         "8",
         "2019-09-26"
        ],
        [
         "22",
         "Befragung der Bundesregierung",
         "19",
         "117",
         "4",
         "2",
         "2019-10-16"
        ],
        [
         "23",
         "Fragestunde",
         "19",
         "117",
         "5",
         "3",
         "2019-10-16"
        ],
        [
         "24",
         "Wahlen zu Gremien",
         "19",
         "118",
         "ZP 6",
         "8",
         "2019-10-17"
        ],
        [
         "25",
         "Wahlrechtsreform",
         "19",
         "118",
         "16",
         "15",
         "2019-10-17"
        ],
        [
         "26",
         "Befragung der Bundesregierung",
         "19",
         "120",
         "1",
         "1",
         "2019-10-23"
        ],
        [
         "27",
         "Fragestunde",
         "19",
         "120",
         "2",
         "2",
         "2019-10-23"
        ],
        [
         "28",
         "Befragung der Bundesregierung",
         "19",
         "123",
         "1",
         "1",
         "2019-11-06"
        ],
        [
         "29",
         "Fragestunde",
         "19",
         "123",
         "2",
         "2",
         "2019-11-06"
        ],
        [
         "30",
         "2. Wahlgang – Stellvertreter des Präsidenten",
         "19",
         "124",
         "ZP 4",
         "8",
         "2019-11-07"
        ],
        [
         "31",
         "Wahl - Parlamentarisches Kontrollgremium",
         "19",
         "124",
         "ZP 5",
         "9",
         "2019-11-07"
        ],
        [
         "32",
         "Änderung der Geschäftsordnung - Petitionen -",
         "19",
         "125",
         "31",
         "6",
         "2019-11-08"
        ],
        [
         "33",
         "Befragung der Bundesregierung",
         "19",
         "126",
         "6",
         "2",
         "2019-11-13"
        ],
        [
         "34",
         "Fragestunde",
         "19",
         "126",
         "7",
         "3",
         "2019-11-13"
        ],
        [
         "35",
         "Befragung der Bundesregierung",
         "19",
         "13",
         "1",
         "1",
         "2018-02-21"
        ],
        [
         "36",
         "Fragestunde",
         "19",
         "13",
         "2",
         "2",
         "2018-02-21"
        ],
        [
         "37",
         "Befragung der Bundesregierung",
         "19",
         "133",
         "2",
         "2",
         "2019-12-11"
        ],
        [
         "38",
         "Fragestunde",
         "19",
         "133",
         "3",
         "3",
         "2019-12-11"
        ],
        [
         "39",
         "3. Wahlgang - Stellvertreter des Präsidenten",
         "19",
         "134",
         "13",
         "7",
         "2019-12-12"
        ],
        [
         "40",
         "Wahlen zu Gremien",
         "19",
         "134",
         "14, ZP 5",
         "8",
         "2019-12-12"
        ],
        [
         "41",
         "Befragung der Bundesregierung",
         "19",
         "136",
         "1",
         "1",
         "2019-12-18"
        ],
        [
         "42",
         "Fragestunde",
         "19",
         "136",
         "2",
         "2",
         "2019-12-18"
        ],
        [
         "43",
         "Befragung der Bundesregierung",
         "19",
         "139",
         "1",
         "1",
         "2020-01-15"
        ],
        [
         "44",
         "Fragestunde",
         "19",
         "139",
         "2",
         "2",
         "2020-01-15"
        ],
        [
         "45",
         "Wahlen zu Gremien",
         "19",
         "14",
         "10",
         "10",
         "2018-02-22"
        ],
        [
         "46",
         "1. Wahlgang - Stellvertreter des Präsidenten",
         "19",
         "140",
         "ZP 5",
         "7",
         "2020-01-16"
        ],
        [
         "47",
         "Wahlen zu Gremien",
         "19",
         "140",
         "ZP 6",
         "8",
         "2020-01-16"
        ],
        [
         "48",
         "Befragung der Bundesregierung",
         "19",
         "142",
         "1",
         "1",
         "2020-01-29"
        ],
        [
         "49",
         "Fragestunde",
         "19",
         "142",
         "2",
         "2",
         "2020-01-29"
        ]
       ],
       "shape": {
        "columns": 6,
        "rows": 380
       }
      },
      "text/html": [
       "<div>\n",
       "<style scoped>\n",
       "    .dataframe tbody tr th:only-of-type {\n",
       "        vertical-align: middle;\n",
       "    }\n",
       "\n",
       "    .dataframe tbody tr th {\n",
       "        vertical-align: top;\n",
       "    }\n",
       "\n",
       "    .dataframe thead th {\n",
       "        text-align: right;\n",
       "    }\n",
       "</style>\n",
       "<table border=\"1\" class=\"dataframe\">\n",
       "  <thead>\n",
       "    <tr style=\"text-align: right;\">\n",
       "      <th></th>\n",
       "      <th>AgendaItemTitle</th>\n",
       "      <th>Legislature</th>\n",
       "      <th>Protocol_Nr</th>\n",
       "      <th>AgendaItemNumber</th>\n",
       "      <th>Order</th>\n",
       "      <th>DateOnly</th>\n",
       "    </tr>\n",
       "  </thead>\n",
       "  <tbody>\n",
       "    <tr>\n",
       "      <th>0</th>\n",
       "      <td>Eröffnung der Sitzung durch den Alterspräsidenten</td>\n",
       "      <td>19</td>\n",
       "      <td>1</td>\n",
       "      <td>1</td>\n",
       "      <td>1</td>\n",
       "      <td>2017-10-24</td>\n",
       "    </tr>\n",
       "    <tr>\n",
       "      <th>1</th>\n",
       "      <td>Beschlussfassung über die Geschäftsordnung</td>\n",
       "      <td>19</td>\n",
       "      <td>1</td>\n",
       "      <td>2</td>\n",
       "      <td>2</td>\n",
       "      <td>2017-10-24</td>\n",
       "    </tr>\n",
       "    <tr>\n",
       "      <th>2</th>\n",
       "      <td>Wahl des Präsidenten</td>\n",
       "      <td>19</td>\n",
       "      <td>1</td>\n",
       "      <td>3</td>\n",
       "      <td>3</td>\n",
       "      <td>2017-10-24</td>\n",
       "    </tr>\n",
       "    <tr>\n",
       "      <th>3</th>\n",
       "      <td>Wahl der Stellvertreter des Präsidenten</td>\n",
       "      <td>19</td>\n",
       "      <td>1</td>\n",
       "      <td>6</td>\n",
       "      <td>6</td>\n",
       "      <td>2017-10-24</td>\n",
       "    </tr>\n",
       "    <tr>\n",
       "      <th>4</th>\n",
       "      <td>Nationalhymne</td>\n",
       "      <td>19</td>\n",
       "      <td>1</td>\n",
       "      <td>7</td>\n",
       "      <td>7</td>\n",
       "      <td>2017-10-24</td>\n",
       "    </tr>\n",
       "    <tr>\n",
       "      <th>...</th>\n",
       "      <td>...</td>\n",
       "      <td>...</td>\n",
       "      <td>...</td>\n",
       "      <td>...</td>\n",
       "      <td>...</td>\n",
       "      <td>...</td>\n",
       "    </tr>\n",
       "    <tr>\n",
       "      <th>375</th>\n",
       "      <td>Befragung der Bundesregierung AA und BMBF</td>\n",
       "      <td>20</td>\n",
       "      <td>96</td>\n",
       "      <td>1</td>\n",
       "      <td>1</td>\n",
       "      <td>2023-04-19</td>\n",
       "    </tr>\n",
       "    <tr>\n",
       "      <th>376</th>\n",
       "      <td>Fragestunde</td>\n",
       "      <td>20</td>\n",
       "      <td>96</td>\n",
       "      <td>2</td>\n",
       "      <td>2</td>\n",
       "      <td>2023-04-19</td>\n",
       "    </tr>\n",
       "    <tr>\n",
       "      <th>377</th>\n",
       "      <td>Wahlen zu Gremien</td>\n",
       "      <td>20</td>\n",
       "      <td>97</td>\n",
       "      <td>11, 12</td>\n",
       "      <td>7</td>\n",
       "      <td>2023-04-20</td>\n",
       "    </tr>\n",
       "    <tr>\n",
       "      <th>378</th>\n",
       "      <td>Befragung der Bundesregierung BMJ und BMUV</td>\n",
       "      <td>20</td>\n",
       "      <td>99</td>\n",
       "      <td>1</td>\n",
       "      <td>1</td>\n",
       "      <td>2023-04-26</td>\n",
       "    </tr>\n",
       "    <tr>\n",
       "      <th>379</th>\n",
       "      <td>Fragestunde</td>\n",
       "      <td>20</td>\n",
       "      <td>99</td>\n",
       "      <td>2</td>\n",
       "      <td>2</td>\n",
       "      <td>2023-04-26</td>\n",
       "    </tr>\n",
       "  </tbody>\n",
       "</table>\n",
       "<p>380 rows × 6 columns</p>\n",
       "</div>"
      ],
      "text/plain": [
       "                                       AgendaItemTitle  Legislature  \\\n",
       "0    Eröffnung der Sitzung durch den Alterspräsidenten           19   \n",
       "1           Beschlussfassung über die Geschäftsordnung           19   \n",
       "2                                 Wahl des Präsidenten           19   \n",
       "3              Wahl der Stellvertreter des Präsidenten           19   \n",
       "4                                        Nationalhymne           19   \n",
       "..                                                 ...          ...   \n",
       "375          Befragung der Bundesregierung AA und BMBF           20   \n",
       "376                                        Fragestunde           20   \n",
       "377                                  Wahlen zu Gremien           20   \n",
       "378         Befragung der Bundesregierung BMJ und BMUV           20   \n",
       "379                                        Fragestunde           20   \n",
       "\n",
       "     Protocol_Nr AgendaItemNumber  Order    DateOnly  \n",
       "0              1                1      1  2017-10-24  \n",
       "1              1                2      2  2017-10-24  \n",
       "2              1                3      3  2017-10-24  \n",
       "3              1                6      6  2017-10-24  \n",
       "4              1                7      7  2017-10-24  \n",
       "..           ...              ...    ...         ...  \n",
       "375           96                1      1  2023-04-19  \n",
       "376           96                2      2  2023-04-19  \n",
       "377           97           11, 12      7  2023-04-20  \n",
       "378           99                1      1  2023-04-26  \n",
       "379           99                2      2  2023-04-26  \n",
       "\n",
       "[380 rows x 6 columns]"
      ]
     },
     "execution_count": 12,
     "metadata": {},
     "output_type": "execute_result"
    }
   ],
   "source": [
    "to_drop"
   ]
  },
  {
   "cell_type": "markdown",
   "id": "eac802f7",
   "metadata": {},
   "source": [
    "#### match titles via lagislature, protocol and agendaitemnumber/order to speech content"
   ]
  },
  {
   "cell_type": "code",
   "execution_count": 13,
   "id": "1f54a834",
   "metadata": {},
   "outputs": [],
   "source": [
    "# MultiIndex-Mask\n",
    "mask = data.set_index(['legislative_period', 'protocol_nr', 'agenda_item_number']).index.isin(\n",
    "    to_drop.set_index(['Legislature', 'Protocol_Nr', 'Order']).index\n",
    ")\n",
    "\n",
    "matched_data = data[mask].reset_index(drop=True)\n"
   ]
  },
  {
   "cell_type": "code",
   "execution_count": 14,
   "id": "5a97c412",
   "metadata": {},
   "outputs": [
    {
     "data": {
      "application/vnd.microsoft.datawrangler.viewer.v0+json": {
       "columns": [
        {
         "name": "index",
         "rawType": "int64",
         "type": "integer"
        },
        {
         "name": "speech_id",
         "rawType": "object",
         "type": "string"
        },
        {
         "name": "speaker_id",
         "rawType": "int64",
         "type": "integer"
        },
        {
         "name": "speech_text",
         "rawType": "object",
         "type": "string"
        },
        {
         "name": "legislative_period",
         "rawType": "int64",
         "type": "integer"
        },
        {
         "name": "protocol_nr",
         "rawType": "int64",
         "type": "integer"
        },
        {
         "name": "agenda_item_number",
         "rawType": "int64",
         "type": "integer"
        },
        {
         "name": "speakerId",
         "rawType": "int64",
         "type": "integer"
        },
        {
         "name": "firstName",
         "rawType": "object",
         "type": "string"
        },
        {
         "name": "lastName",
         "rawType": "object",
         "type": "string"
        },
        {
         "name": "party",
         "rawType": "object",
         "type": "string"
        },
        {
         "name": "fraction",
         "rawType": "object",
         "type": "unknown"
        },
        {
         "name": "normalized",
         "rawType": "object",
         "type": "string"
        },
        {
         "name": "tokenized",
         "rawType": "object",
         "type": "unknown"
        },
        {
         "name": "speech_length",
         "rawType": "int64",
         "type": "integer"
        }
       ],
       "ref": "850e71ff-e15a-4853-8436-46502e08231d",
       "rows": [
        [
         "0",
         "f7f58b13-85f3-424a-6864-08da102a68d8",
         "11001235",
         "Herr Präsident, ich nehme die Wahl an.\nDann beglückwünsche ich auch Sie im Namen des Hauses und freue mich auf gute Zusammenarbeit.\n",
         "19",
         "1",
         "6",
         "11001235",
         "Wolfgang",
         "Kubicki",
         "FDP",
         "FDP",
         "herr präsident ich nehme die wahl an\ndann beglückwünsche ich auch sie im namen des hauses und freue mich auf gute zusammenarbeit\n",
         "['herr', 'präsident', 'ich', 'nehme', 'die', 'wahl', 'an', 'dann', 'beglückwünsche', 'ich', 'auch', 'sie', 'im', 'namen', 'des', 'hauses', 'und', 'freue', 'mich', 'auf', 'gute', 'zusammenarbeit']",
         "22"
        ],
        [
         "1",
         "d0c84378-49ab-47ce-61aa-08da102a68d8",
         "11001938",
         "Das ist der Fall. – Ich sehe keine weiteren Vorschläge.\nDann bitte ich jetzt um Ihre Aufmerksamkeit für einige Hinweise zum Wahlverfahren – das sind technische Hinweise, die aber wichtig sind, damit Sie an der Wahl erfolgreich teilnehmen können –: Die Wahl findet mit verdeckten Stimmkarten, also geheim, statt. Gewählt ist, wer die Stimmen der Mehrheit der Mitglieder des Bundestages, also mindestens 355 Stimmen, erhält. Für diese Wahl und für die spätere Wahl der Vizepräsidentinnen und Vizepräsidenten benötigen Sie Ihre Wahlausweise aus den Stimmkartenfächern in der Lobby. Für die Wahl des Präsidenten sind der Wahlausweis und die Stimmkarte gelb. Bitte kontrollieren Sie, ob dieser Wahlausweis Ihren Namen trägt. Die gelbe Stimmkarte und den amtlichen Wahlumschlag erhalten Sie nach Aufruf Ihres Namens von den Schriftführerinnen und Schriftführern an den Ausgabetischen hier oben neben den Wahlkabinen.\nNachdem Sie die Stimmkarte in einer Wahlkabine gekennzeichnet und dort in den Wahlumschlag gelegt haben, gehen Sie bitte zu den Wahlurnen hier vor dem Rednerpult. Sie dürfen Ihre Stimmkarte nur in der Wahlkabine ankreuzen und müssen ebenfalls noch in der Wahlkabine die Stimmkarte in den Umschlag legen. Die Schriftführerinnen und Schriftführer sind verpflichtet, jeden, der seine Stimmkarte außerhalb der Wahlkabine kennzeichnet oder in den Umschlag legt, zurückzuweisen. Die Stimmabgabe kann in diesem Falle jedoch vorschriftsmäßig wiederholt werden.\nGültig sind nur Stimmkarten mit einem Kreuz bei „Ja“, „Nein“ oder „Enthalte mich“. Ungültig sind Stimmen auf nichtamtlichen Stimmkarten sowie Stimmkarten, die mehr als ein Kreuz, kein Kreuz, andere Namen oder Zusätze enthalten.\nBevor Sie die Stimmkarte in eine der Wahlurnen werfen, übergeben Sie bitte Ihren Wahlausweis einer der Schriftführerinnen oder einem der Schriftführer an der Wahlurne. Der Nachweis der Teilnahme an der Wahl kann nur durch die Abgabe des Wahlausweises erbracht werden.\nIch bitte jetzt die eingeteilten Schriftführerinnen und Schriftführer, die vorgesehenen Plätze einzunehmen. – Die beiden Schriftführer neben mir werden nun Ihre Namen in alphabetischer Reihenfolge aufrufen. Ich bitte Sie, den Namensaufruf zu verfolgen und sich nach dem Aufruf Ihres Namens zur Entgegennahme der Stimmkarte zu den Ausgabetischen vor den Wahlkabinen zu begeben.\nHaben alle Schriftführerinnen und Schriftführer die Plätze eingenommen? – Ich eröffne die Wahl und bitte, mit dem Aufruf der Namen zu beginnen.\nDer Namensaufruf ist beendet. Ich darf fragen, ob alle Mitglieder des Hauses, auch die Schriftführerinnen und Schriftführer, ihre Stimme abgegeben haben. – Nein, da kommt noch jemand.\nHaben jetzt alle Mitglieder des Hauses ihre Stimme abgegeben? – Das scheint der Fall zu sein. Ich schließe die Wahl und bitte die Schriftführerinnen und Schriftführer, mit der Auszählung zu beginnen. Zur Auszählung unterbreche ich die Sitzung für etwa 30 Minuten. Der Wiederbeginn der Sitzung wird rechtzeitig durch Klingelsignal angekündigt.\nDie unterbrochene Sitzung ist wieder eröffnet. Liebe Kolleginnen und Kollegen, nehmen Sie bitte Platz, damit wir fortfahren können.\nIch gebe das Ergebnis der Wahl des Präsidenten des 19. Deutschen Bundestages bekannt: abgegebene Stimmen 705, ungültige Stimmen 1, gültige Stimmen 704. Mit Ja haben gestimmt 501 Kolleginnen und Kollegen.\nMit Nein haben gestimmt 173 Kolleginnen und Kollegen, Enthaltungen gab es 30. Herr Dr. Wolfgang Schäuble hat die erforderliche Mehrheit erhalten und ist zum Präsidenten des 19. Deutschen Bundestages gewählt.\nIch frage Sie, Herr Schäuble: Nehmen Sie die Wahl an?\nHerr Präsident, ich nehme die Wahl an.\nHerr Präsident, ich darf Ihnen im Namen des ganzen Hauses sehr herzlich zu Ihrer Wahl gratulieren. Ich wünsche Ihnen eine glückliche Hand. Verstand muss ich Ihnen nicht wünschen, den haben Sie sowieso. Ich bitte Sie jetzt, das Amt zu übernehmen.\nVielen Dank.\n",
         "19",
         "1",
         "3",
         "11001938",
         "Dr. Wolfgang",
         "Schäuble",
         "CDU",
         null,
         "das ist der fall – ich sehe keine weiteren vorschläge\ndann bitte ich jetzt um ihre aufmerksamkeit für einige hinweise zum wahlverfahren – das sind technische hinweise die aber wichtig sind damit sie an der wahl erfolgreich teilnehmen können – die wahl findet mit verdeckten stimmkarten also geheim statt gewählt ist wer die stimmen der mehrheit der mitglieder des bundestages also mindestens 355 stimmen erhält für diese wahl und für die spätere wahl der vizepräsidentinnen und vizepräsidenten benötigen sie ihre wahlausweise aus den stimmkartenfächern in der lobby für die wahl des präsidenten sind der wahlausweis und die stimmkarte gelb bitte kontrollieren sie ob dieser wahlausweis ihren namen trägt die gelbe stimmkarte und den amtlichen wahlumschlag erhalten sie nach aufruf ihres namens von den schriftführerinnen und schriftführern an den ausgabetischen hier oben neben den wahlkabinen\nnachdem sie die stimmkarte in einer wahlkabine gekennzeichnet und dort in den wahlumschlag gelegt haben gehen sie bitte zu den wahlurnen hier vor dem rednerpult sie dürfen ihre stimmkarte nur in der wahlkabine ankreuzen und müssen ebenfalls noch in der wahlkabine die stimmkarte in den umschlag legen die schriftführerinnen und schriftführer sind verpflichtet jeden der seine stimmkarte außerhalb der wahlkabine kennzeichnet oder in den umschlag legt zurückzuweisen die stimmabgabe kann in diesem falle jedoch vorschriftsmäßig wiederholt werden\ngültig sind nur stimmkarten mit einem kreuz bei „ja“ „nein“ oder „enthalte mich“ ungültig sind stimmen auf nichtamtlichen stimmkarten sowie stimmkarten die mehr als ein kreuz kein kreuz andere namen oder zusätze enthalten\nbevor sie die stimmkarte in eine der wahlurnen werfen übergeben sie bitte ihren wahlausweis einer der schriftführerinnen oder einem der schriftführer an der wahlurne der nachweis der teilnahme an der wahl kann nur durch die abgabe des wahlausweises erbracht werden\nich bitte jetzt die eingeteilten schriftführerinnen und schriftführer die vorgesehenen plätze einzunehmen – die beiden schriftführer neben mir werden nun ihre namen in alphabetischer reihenfolge aufrufen ich bitte sie den namensaufruf zu verfolgen und sich nach dem aufruf ihres namens zur entgegennahme der stimmkarte zu den ausgabetischen vor den wahlkabinen zu begeben\nhaben alle schriftführerinnen und schriftführer die plätze eingenommen – ich eröffne die wahl und bitte mit dem aufruf der namen zu beginnen\nder namensaufruf ist beendet ich darf fragen ob alle mitglieder des hauses auch die schriftführerinnen und schriftführer ihre stimme abgegeben haben – nein da kommt noch jemand\nhaben jetzt alle mitglieder des hauses ihre stimme abgegeben – das scheint der fall zu sein ich schließe die wahl und bitte die schriftführerinnen und schriftführer mit der auszählung zu beginnen zur auszählung unterbreche ich die sitzung für etwa 30 minuten der wiederbeginn der sitzung wird rechtzeitig durch klingelsignal angekündigt\ndie unterbrochene sitzung ist wieder eröffnet liebe kolleginnen und kollegen nehmen sie bitte platz damit wir fortfahren können\nich gebe das ergebnis der wahl des präsidenten des 19 deutschen bundestages bekannt abgegebene stimmen 705 ungültige stimmen 1 gültige stimmen 704 mit ja haben gestimmt 501 kolleginnen und kollegen\nmit nein haben gestimmt 173 kolleginnen und kollegen enthaltungen gab es 30 herr dr wolfgang schäuble hat die erforderliche mehrheit erhalten und ist zum präsidenten des 19 deutschen bundestages gewählt\nich frage sie herr schäuble nehmen sie die wahl an\nherr präsident ich nehme die wahl an\nherr präsident ich darf ihnen im namen des ganzen hauses sehr herzlich zu ihrer wahl gratulieren ich wünsche ihnen eine glückliche hand verstand muss ich ihnen nicht wünschen den haben sie sowieso ich bitte sie jetzt das amt zu übernehmen\nvielen dank\n",
         "['das', 'ist', 'der', 'fall', '–', 'ich', 'sehe', 'keine', 'weiteren', 'vorschläge', 'dann', 'bitte', 'ich', 'jetzt', 'um', 'ihre', 'aufmerksamkeit', 'für', 'einige', 'hinweise', 'zum', 'wahlverfahren', '–', 'das', 'sind', 'technische', 'hinweise', 'die', 'aber', 'wichtig', 'sind', 'damit', 'sie', 'an', 'der', 'wahl', 'erfolgreich', 'teilnehmen', 'können', '–', 'die', 'wahl', 'findet', 'mit', 'verdeckten', 'stimmkarten', 'also', 'geheim', 'statt', 'gewählt', 'ist', 'wer', 'die', 'stimmen', 'der', 'mehrheit', 'der', 'mitglieder', 'des', 'bundestages', 'also', 'mindestens', '355', 'stimmen', 'erhält', 'für', 'diese', 'wahl', 'und', 'für', 'die', 'spätere', 'wahl', 'der', 'vizepräsidentinnen', 'und', 'vizepräsidenten', 'benötigen', 'sie', 'ihre', 'wahlausweise', 'aus', 'den', 'stimmkartenfächern', 'in', 'der', 'lobby', 'für', 'die', 'wahl', 'des', 'präsidenten', 'sind', 'der', 'wahlausweis', 'und', 'die', 'stimmkarte', 'gelb', 'bitte', 'kontrollieren', 'sie', 'ob', 'dieser', 'wahlausweis', 'ihren', 'namen', 'trägt', 'die', 'gelbe', 'stimmkarte', 'und', 'den', 'amtlichen', 'wahlumschlag', 'erhalten', 'sie', 'nach', 'aufruf', 'ihres', 'namens', 'von', 'den', 'schriftführerinnen', 'und', 'schriftführern', 'an', 'den', 'ausgabetischen', 'hier', 'oben', 'neben', 'den', 'wahlkabinen', 'nachdem', 'sie', 'die', 'stimmkarte', 'in', 'einer', 'wahlkabine', 'gekennzeichnet', 'und', 'dort', 'in', 'den', 'wahlumschlag', 'gelegt', 'haben', 'gehen', 'sie', 'bitte', 'zu', 'den', 'wahlurnen', 'hier', 'vor', 'dem', 'rednerpult', 'sie', 'dürfen', 'ihre', 'stimmkarte', 'nur', 'in', 'der', 'wahlkabine', 'ankreuzen', 'und', 'müssen', 'ebenfalls', 'noch', 'in', 'der', 'wahlkabine', 'die', 'stimmkarte', 'in', 'den', 'umschlag', 'legen', 'die', 'schriftführerinnen', 'und', 'schriftführer', 'sind', 'verpflichtet', 'jeden', 'der', 'seine', 'stimmkarte', 'außerhalb', 'der', 'wahlkabine', 'kennzeichnet', 'oder', 'in', 'den', 'umschlag', 'legt', 'zurückzuweisen', 'die', 'stimmabgabe', 'kann', 'in', 'diesem', 'falle', 'jedoch', 'vorschriftsmäßig', 'wiederholt', 'werden', 'gültig', 'sind', 'nur', 'stimmkarten', 'mit', 'einem', 'kreuz', 'bei', '„ja“', '„nein“', 'oder', '„enthalte', 'mich“', 'ungültig', 'sind', 'stimmen', 'auf', 'nichtamtlichen', 'stimmkarten', 'sowie', 'stimmkarten', 'die', 'mehr', 'als', 'ein', 'kreuz', 'kein', 'kreuz', 'andere', 'namen', 'oder', 'zusätze', 'enthalten', 'bevor', 'sie', 'die', 'stimmkarte', 'in', 'eine', 'der', 'wahlurnen', 'werfen', 'übergeben', 'sie', 'bitte', 'ihren', 'wahlausweis', 'einer', 'der', 'schriftführerinnen', 'oder', 'einem', 'der', 'schriftführer', 'an', 'der', 'wahlurne', 'der', 'nachweis', 'der', 'teilnahme', 'an', 'der', 'wahl', 'kann', 'nur', 'durch', 'die', 'abgabe', 'des', 'wahlausweises', 'erbracht', 'werden', 'ich', 'bitte', 'jetzt', 'die', 'eingeteilten', 'schriftführerinnen', 'und', 'schriftführer', 'die', 'vorgesehenen', 'plätze', 'einzunehmen', '–', 'die', 'beiden', 'schriftführer', 'neben', 'mir', 'werden', 'nun', 'ihre', 'namen', 'in', 'alphabetischer', 'reihenfolge', 'aufrufen', 'ich', 'bitte', 'sie', 'den', 'namensaufruf', 'zu', 'verfolgen', 'und', 'sich', 'nach', 'dem', 'aufruf', 'ihres', 'namens', 'zur', 'entgegennahme', 'der', 'stimmkarte', 'zu', 'den', 'ausgabetischen', 'vor', 'den', 'wahlkabinen', 'zu', 'begeben', 'haben', 'alle', 'schriftführerinnen', 'und', 'schriftführer', 'die', 'plätze', 'eingenommen', '–', 'ich', 'eröffne', 'die', 'wahl', 'und', 'bitte', 'mit', 'dem', 'aufruf', 'der', 'namen', 'zu', 'beginnen', 'der', 'namensaufruf', 'ist', 'beendet', 'ich', 'darf', 'fragen', 'ob', 'alle', 'mitglieder', 'des', 'hauses', 'auch', 'die', 'schriftführerinnen', 'und', 'schriftführer', 'ihre', 'stimme', 'abgegeben', 'haben', '–', 'nein', 'da', 'kommt', 'noch', 'jemand', 'haben', 'jetzt', 'alle', 'mitglieder', 'des', 'hauses', 'ihre', 'stimme', 'abgegeben', '–', 'das', 'scheint', 'der', 'fall', 'zu', 'sein', 'ich', 'schließe', 'die', 'wahl', 'und', 'bitte', 'die', 'schriftführerinnen', 'und', 'schriftführer', 'mit', 'der', 'auszählung', 'zu', 'beginnen', 'zur', 'auszählung', 'unterbreche', 'ich', 'die', 'sitzung', 'für', 'etwa', '30', 'minuten', 'der', 'wiederbeginn', 'der', 'sitzung', 'wird', 'rechtzeitig', 'durch', 'klingelsignal', 'angekündigt', 'die', 'unterbrochene', 'sitzung', 'ist', 'wieder', 'eröffnet', 'liebe', 'kolleginnen', 'und', 'kollegen', 'nehmen', 'sie', 'bitte', 'platz', 'damit', 'wir', 'fortfahren', 'können', 'ich', 'gebe', 'das', 'ergebnis', 'der', 'wahl', 'des', 'präsidenten', 'des', '19', 'deutschen', 'bundestages', 'bekannt', 'abgegebene', 'stimmen', '705', 'ungültige', 'stimmen', '1', 'gültige', 'stimmen', '704', 'mit', 'ja', 'haben', 'gestimmt', '501', 'kolleginnen', 'und', 'kollegen', 'mit', 'nein', 'haben', 'gestimmt', '173', 'kolleginnen', 'und', 'kollegen', 'enthaltungen', 'gab', 'es', '30', 'herr', 'dr', 'wolfgang', 'schäuble', 'hat', 'die', 'erforderliche', 'mehrheit', 'erhalten', 'und', 'ist', 'zum', 'präsidenten', 'des', '19', 'deutschen', 'bundestages', 'gewählt', 'ich', 'frage', 'sie', 'herr', 'schäuble', 'nehmen', 'sie', 'die', 'wahl', 'an', 'herr', 'präsident', 'ich', 'nehme', 'die', 'wahl', 'an', 'herr', 'präsident', 'ich', 'darf', 'ihnen', 'im', 'namen', 'des', 'ganzen', 'hauses', 'sehr', 'herzlich', 'zu', 'ihrer', 'wahl', 'gratulieren', 'ich', 'wünsche', 'ihnen', 'eine', 'glückliche', 'hand', 'verstand', 'muss', 'ich', 'ihnen', 'nicht', 'wünschen', 'den', 'haben', 'sie', 'sowieso', 'ich', 'bitte', 'sie', 'jetzt', 'das', 'amt', 'zu', 'übernehmen', 'vielen', 'dank']",
         "572"
        ],
        [
         "2",
         "9aff56c3-41cd-4e6b-633b-08da0f22a008",
         "11002190",
         "Guten Morgen, liebe Kolleginnen und Kollegen! Nehmen Sie bitte Platz.\nMeine sehr verehrten Damen und Herren! Liebe Kolleginnen und Kollegen! Ich begrüße Sie zur konstituierenden Sitzung des 19. Deutschen Bundestages. Es entspricht der ständigen Übung, zu Beginn der konstituierenden Sitzung nach den Regelungen der bisherigen Geschäftsordnung des Deutschen Bundestages zu verfahren.\n§ 1 Absatz 2 der Geschäftsordnung des Deutschen Bundestages sieht vor, dass das am längsten dem Bundestag angehörende Mitglied, das hierzu bereit ist, den Vorsitz übernimmt, bis der Deutsche Bundestag einen Präsidenten gewählt hat.\nDie Fraktion der AfD widerspricht diesem Verfahren und hat auf Drucksache 19/2 beantragt, einen Versammlungsleiter zu wählen, der die konstituierende Sitzung eröffnen soll. Über diesen Antrag lasse ich sofort abstimmen. Wer dem Antrag der Fraktion der AfD zustimmt, den bitte ich um sein Handzeichen. – Gegenstimmen? –\nEnthaltungen? – Der Antrag ist damit mit den Stimmen aller Fraktionen bei Zustimmung der AfD-Fraktion abgelehnt.\nWir verfahren nunmehr entsprechend § 1 Absatz 2 der bisherigen Geschäftsordnung. Herr Dr. Wolfgang Schäuble ist das Mitglied, das dem Deutschen Bundestag am längsten angehört. Er hat jedoch auf das Amt des Alterspräsidenten verzichtet. Damit rückt das am zweitlängsten dem Bundestag angehörende Mitglied nach. Ich war von 1980 bis 2013, also 33 Jahre, Mitglied des Deutschen Bundestages. Ist jemand unter Ihnen, der dem Bundestag länger angehört? –\nDas scheint offenkundig nicht der Fall zu sein. Dann trifft es also tatsächlich zu, dass die Rolle des Alterspräsidenten auf mich zukommt. Es ist mir eine Ehre und Freude zugleich, den Vorsitz bis zur Amtsübernahme durch den neugewählten Präsidenten des Deutschen Bundestages zu übernehmen.\nDamit rufe ich nun den Tagesordnungspunkt 1 auf:\nEröffnung der Sitzung durch den Alterspräsidenten\n",
         "19",
         "1",
         "1",
         "11002190",
         "Alterspräsident Dr. Hermann",
         "Otto Solms",
         "FDP",
         null,
         "guten morgen liebe kolleginnen und kollegen nehmen sie bitte platz\nmeine sehr verehrten damen und herren liebe kolleginnen und kollegen ich begrüße sie zur konstituierenden sitzung des 19 deutschen bundestages es entspricht der ständigen übung zu beginn der konstituierenden sitzung nach den regelungen der bisherigen geschäftsordnung des deutschen bundestages zu verfahren\n§ 1 absatz 2 der geschäftsordnung des deutschen bundestages sieht vor dass das am längsten dem bundestag angehörende mitglied das hierzu bereit ist den vorsitz übernimmt bis der deutsche bundestag einen präsidenten gewählt hat\ndie fraktion der afd widerspricht diesem verfahren und hat auf drucksache 192 beantragt einen versammlungsleiter zu wählen der die konstituierende sitzung eröffnen soll über diesen antrag lasse ich sofort abstimmen wer dem antrag der fraktion der afd zustimmt den bitte ich um sein handzeichen – gegenstimmen –\nenthaltungen – der antrag ist damit mit den stimmen aller fraktionen bei zustimmung der afdfraktion abgelehnt\nwir verfahren nunmehr entsprechend § 1 absatz 2 der bisherigen geschäftsordnung herr dr wolfgang schäuble ist das mitglied das dem deutschen bundestag am längsten angehört er hat jedoch auf das amt des alterspräsidenten verzichtet damit rückt das am zweitlängsten dem bundestag angehörende mitglied nach ich war von 1980 bis 2013 also 33 jahre mitglied des deutschen bundestages ist jemand unter ihnen der dem bundestag länger angehört –\ndas scheint offenkundig nicht der fall zu sein dann trifft es also tatsächlich zu dass die rolle des alterspräsidenten auf mich zukommt es ist mir eine ehre und freude zugleich den vorsitz bis zur amtsübernahme durch den neugewählten präsidenten des deutschen bundestages zu übernehmen\ndamit rufe ich nun den tagesordnungspunkt 1 auf\neröffnung der sitzung durch den alterspräsidenten\n",
         "['guten', 'morgen', 'liebe', 'kolleginnen', 'und', 'kollegen', 'nehmen', 'sie', 'bitte', 'platz', 'meine', 'sehr', 'verehrten', 'damen', 'und', 'herren', 'liebe', 'kolleginnen', 'und', 'kollegen', 'ich', 'begrüße', 'sie', 'zur', 'konstituierenden', 'sitzung', 'des', '19', 'deutschen', 'bundestages', 'es', 'entspricht', 'der', 'ständigen', 'übung', 'zu', 'beginn', 'der', 'konstituierenden', 'sitzung', 'nach', 'den', 'regelungen', 'der', 'bisherigen', 'geschäftsordnung', 'des', 'deutschen', 'bundestages', 'zu', 'verfahren', '§', '1', 'absatz', '2', 'der', 'geschäftsordnung', 'des', 'deutschen', 'bundestages', 'sieht', 'vor', 'dass', 'das', 'am', 'längsten', 'dem', 'bundestag', 'angehörende', 'mitglied', 'das', 'hierzu', 'bereit', 'ist', 'den', 'vorsitz', 'übernimmt', 'bis', 'der', 'deutsche', 'bundestag', 'einen', 'präsidenten', 'gewählt', 'hat', 'die', 'fraktion', 'der', 'afd', 'widerspricht', 'diesem', 'verfahren', 'und', 'hat', 'auf', 'drucksache', '192', 'beantragt', 'einen', 'versammlungsleiter', 'zu', 'wählen', 'der', 'die', 'konstituierende', 'sitzung', 'eröffnen', 'soll', 'über', 'diesen', 'antrag', 'lasse', 'ich', 'sofort', 'abstimmen', 'wer', 'dem', 'antrag', 'der', 'fraktion', 'der', 'afd', 'zustimmt', 'den', 'bitte', 'ich', 'um', 'sein', 'handzeichen', '–', 'gegenstimmen', '–', 'enthaltungen', '–', 'der', 'antrag', 'ist', 'damit', 'mit', 'den', 'stimmen', 'aller', 'fraktionen', 'bei', 'zustimmung', 'der', 'afdfraktion', 'abgelehnt', 'wir', 'verfahren', 'nunmehr', 'entsprechend', '§', '1', 'absatz', '2', 'der', 'bisherigen', 'geschäftsordnung', 'herr', 'dr', 'wolfgang', 'schäuble', 'ist', 'das', 'mitglied', 'das', 'dem', 'deutschen', 'bundestag', 'am', 'längsten', 'angehört', 'er', 'hat', 'jedoch', 'auf', 'das', 'amt', 'des', 'alterspräsidenten', 'verzichtet', 'damit', 'rückt', 'das', 'am', 'zweitlängsten', 'dem', 'bundestag', 'angehörende', 'mitglied', 'nach', 'ich', 'war', 'von', '1980', 'bis', '2013', 'also', '33', 'jahre', 'mitglied', 'des', 'deutschen', 'bundestages', 'ist', 'jemand', 'unter', 'ihnen', 'der', 'dem', 'bundestag', 'länger', 'angehört', '–', 'das', 'scheint', 'offenkundig', 'nicht', 'der', 'fall', 'zu', 'sein', 'dann', 'trifft', 'es', 'also', 'tatsächlich', 'zu', 'dass', 'die', 'rolle', 'des', 'alterspräsidenten', 'auf', 'mich', 'zukommt', 'es', 'ist', 'mir', 'eine', 'ehre', 'und', 'freude', 'zugleich', 'den', 'vorsitz', 'bis', 'zur', 'amtsübernahme', 'durch', 'den', 'neugewählten', 'präsidenten', 'des', 'deutschen', 'bundestages', 'zu', 'übernehmen', 'damit', 'rufe', 'ich', 'nun', 'den', 'tagesordnungspunkt', '1', 'auf', 'eröffnung', 'der', 'sitzung', 'durch', 'den', 'alterspräsidenten']",
         "273"
        ],
        [
         "3",
         "05ebe489-0cff-4575-661e-08da0f22a008",
         "11002190",
         "Die unterbrochene Sitzung ist wieder eröffnet.\nLiebe Kolleginnen und Kollegen, ich darf Sie bitten, wieder Platz zu nehmen. Mir liegt das Ergebnis des dritten Wahlgangs vor. Sobald Sie Platz genommen haben, werde ich es Ihnen mitteilen.\nIm dritten Wahlgang für die Wahl einer Stellvertreterin/eines Stellvertreters des Präsidenten wurden 685 Stimmen abgegeben. 685 Stimmen waren gültig. Mit Ja haben gestimmt 114, mit Nein haben gestimmt 545, Enthaltungen 26. Der Abgeordnete Glaser hat damit nicht die erforderliche Mehrheit erhalten.2 Namensverzeichnis der Teilnehmer an der Wahl siehe Anlage 5\nGemäß § 2 Absatz 3 unserer Geschäftsordnung findet kein weiterer Wahlgang mit einem im dritten Wahlgang erfolglosen Kandidaten statt, es sei denn, ein weiterer Wahlgang wird im Ältestenrat vereinbart. Wird ein neuer Bewerber vorgeschlagen, so ist in ein neues Wahlverfahren einzutreten. Es wäre also wieder ein erster Wahlgang mit den entsprechenden Mehrheitserfordernissen durchzuführen. In beiden Fällen muss aber erst vereinbart werden, an welchem Tag die Wahl durchgeführt werden soll.\nDie Geschäftsführerinnen und Geschäftsführer der Fraktionen haben mir signalisiert, dass es kein Einvernehmen über die Durchführung weiterer Wahlgänge am heutigen Tag gibt. Damit ist dieser Tagesordnungspunkt abgeschlossen.\nDamit darf ich Sie bitten, sich zu unserer Nationalhymne von Ihren Sitzen zu erheben.\nLiebe Kolleginnen und Kollegen, wir sind damit am Schluss unserer heutigen Tagesordnung. Die nächste Sitzung findet in der 47. Kalenderwoche, also in der Woche vom 20. November, statt. Der genaue Tag der Sitzung wird noch bestimmt und Ihnen bekannt gegeben.\nBevor ich die Sitzung schließe, darf ich Sie herzlich zu einem kleinen Empfang auf der Fraktionsebene einladen.\nDie Sitzung ist geschlossen.\n",
         "19",
         "1",
         "6",
         "11002190",
         "Alterspräsident Dr. Hermann",
         "Otto Solms",
         "FDP",
         null,
         "die unterbrochene sitzung ist wieder eröffnet\nliebe kolleginnen und kollegen ich darf sie bitten wieder platz zu nehmen mir liegt das ergebnis des dritten wahlgangs vor sobald sie platz genommen haben werde ich es ihnen mitteilen\nim dritten wahlgang für die wahl einer stellvertreterineines stellvertreters des präsidenten wurden 685 stimmen abgegeben 685 stimmen waren gültig mit ja haben gestimmt 114 mit nein haben gestimmt 545 enthaltungen 26 der abgeordnete glaser hat damit nicht die erforderliche mehrheit erhalten2 namensverzeichnis der teilnehmer an der wahl siehe anlage 5\ngemäß § 2 absatz 3 unserer geschäftsordnung findet kein weiterer wahlgang mit einem im dritten wahlgang erfolglosen kandidaten statt es sei denn ein weiterer wahlgang wird im ältestenrat vereinbart wird ein neuer bewerber vorgeschlagen so ist in ein neues wahlverfahren einzutreten es wäre also wieder ein erster wahlgang mit den entsprechenden mehrheitserfordernissen durchzuführen in beiden fällen muss aber erst vereinbart werden an welchem tag die wahl durchgeführt werden soll\ndie geschäftsführerinnen und geschäftsführer der fraktionen haben mir signalisiert dass es kein einvernehmen über die durchführung weiterer wahlgänge am heutigen tag gibt damit ist dieser tagesordnungspunkt abgeschlossen\ndamit darf ich sie bitten sich zu unserer nationalhymne von ihren sitzen zu erheben\nliebe kolleginnen und kollegen wir sind damit am schluss unserer heutigen tagesordnung die nächste sitzung findet in der 47 kalenderwoche also in der woche vom 20 november statt der genaue tag der sitzung wird noch bestimmt und ihnen bekannt gegeben\nbevor ich die sitzung schließe darf ich sie herzlich zu einem kleinen empfang auf der fraktionsebene einladen\ndie sitzung ist geschlossen\n",
         "['die', 'unterbrochene', 'sitzung', 'ist', 'wieder', 'eröffnet', 'liebe', 'kolleginnen', 'und', 'kollegen', 'ich', 'darf', 'sie', 'bitten', 'wieder', 'platz', 'zu', 'nehmen', 'mir', 'liegt', 'das', 'ergebnis', 'des', 'dritten', 'wahlgangs', 'vor', 'sobald', 'sie', 'platz', 'genommen', 'haben', 'werde', 'ich', 'es', 'ihnen', 'mitteilen', 'im', 'dritten', 'wahlgang', 'für', 'die', 'wahl', 'einer', 'stellvertreterineines', 'stellvertreters', 'des', 'präsidenten', 'wurden', '685', 'stimmen', 'abgegeben', '685', 'stimmen', 'waren', 'gültig', 'mit', 'ja', 'haben', 'gestimmt', '114', 'mit', 'nein', 'haben', 'gestimmt', '545', 'enthaltungen', '26', 'der', 'abgeordnete', 'glaser', 'hat', 'damit', 'nicht', 'die', 'erforderliche', 'mehrheit', 'erhalten2', 'namensverzeichnis', 'der', 'teilnehmer', 'an', 'der', 'wahl', 'siehe', 'anlage', '5', 'gemäß', '§', '2', 'absatz', '3', 'unserer', 'geschäftsordnung', 'findet', 'kein', 'weiterer', 'wahlgang', 'mit', 'einem', 'im', 'dritten', 'wahlgang', 'erfolglosen', 'kandidaten', 'statt', 'es', 'sei', 'denn', 'ein', 'weiterer', 'wahlgang', 'wird', 'im', 'ältestenrat', 'vereinbart', 'wird', 'ein', 'neuer', 'bewerber', 'vorgeschlagen', 'so', 'ist', 'in', 'ein', 'neues', 'wahlverfahren', 'einzutreten', 'es', 'wäre', 'also', 'wieder', 'ein', 'erster', 'wahlgang', 'mit', 'den', 'entsprechenden', 'mehrheitserfordernissen', 'durchzuführen', 'in', 'beiden', 'fällen', 'muss', 'aber', 'erst', 'vereinbart', 'werden', 'an', 'welchem', 'tag', 'die', 'wahl', 'durchgeführt', 'werden', 'soll', 'die', 'geschäftsführerinnen', 'und', 'geschäftsführer', 'der', 'fraktionen', 'haben', 'mir', 'signalisiert', 'dass', 'es', 'kein', 'einvernehmen', 'über', 'die', 'durchführung', 'weiterer', 'wahlgänge', 'am', 'heutigen', 'tag', 'gibt', 'damit', 'ist', 'dieser', 'tagesordnungspunkt', 'abgeschlossen', 'damit', 'darf', 'ich', 'sie', 'bitten', 'sich', 'zu', 'unserer', 'nationalhymne', 'von', 'ihren', 'sitzen', 'zu', 'erheben', 'liebe', 'kolleginnen', 'und', 'kollegen', 'wir', 'sind', 'damit', 'am', 'schluss', 'unserer', 'heutigen', 'tagesordnung', 'die', 'nächste', 'sitzung', 'findet', 'in', 'der', '47', 'kalenderwoche', 'also', 'in', 'der', 'woche', 'vom', '20', 'november', 'statt', 'der', 'genaue', 'tag', 'der', 'sitzung', 'wird', 'noch', 'bestimmt', 'und', 'ihnen', 'bekannt', 'gegeben', 'bevor', 'ich', 'die', 'sitzung', 'schließe', 'darf', 'ich', 'sie', 'herzlich', 'zu', 'einem', 'kleinen', 'empfang', 'auf', 'der', 'fraktionsebene', 'einladen', 'die', 'sitzung', 'ist', 'geschlossen']",
         "257"
        ],
        [
         "4",
         "917c3517-5bc1-4763-5c38-08da0f22a008",
         "11003124",
         "Herr Präsident, ich nehme die Wahl an.\nDann beglückwünsche ich Sie, Herr Kollege Friedrich.\n",
         "19",
         "1",
         "6",
         "11003124",
         "Hans-Peter",
         "Friedrich",
         "CSU",
         "CDU/CSU",
         "herr präsident ich nehme die wahl an\ndann beglückwünsche ich sie herr kollege friedrich\n",
         "['herr', 'präsident', 'ich', 'nehme', 'die', 'wahl', 'an', 'dann', 'beglückwünsche', 'ich', 'sie', 'herr', 'kollege', 'friedrich']",
         "14"
        ],
        [
         "5",
         "e30ac687-16cf-4e14-6149-08da0f22a008",
         "11003206",
         "Herr Präsident, ich nehme die Wahl an und freue mich auf die Zusammenarbeit.\nHerzlichen Glückwunsch, Frau Pau. Auch ich freue mich auf die Zusammenarbeit.\n",
         "19",
         "1",
         "6",
         "11003206",
         "Petra",
         "Pau",
         "DIE LINKE.",
         "Die Linke",
         "herr präsident ich nehme die wahl an und freue mich auf die zusammenarbeit\nherzlichen glückwunsch frau pau auch ich freue mich auf die zusammenarbeit\n",
         "['herr', 'präsident', 'ich', 'nehme', 'die', 'wahl', 'an', 'und', 'freue', 'mich', 'auf', 'die', 'zusammenarbeit', 'herzlichen', 'glückwunsch', 'frau', 'pau', 'auch', 'ich', 'freue', 'mich', 'auf', 'die', 'zusammenarbeit']",
         "24"
        ],
        [
         "6",
         "af60e2b9-33bf-40b7-28c7-08da0d9e2391",
         "11003212",
         "Ja, ich nehme die Wahl mit großer Freude an und freue mich auch auf die Zusammenarbeit.\nDie Freude ist unübersehbar. Ich beglückwünsche Sie im Namen des ganzen Hauses, Frau Kollegin Roth.\nIch wünsche Ihnen allen im Namen des Hauses Glück und Erfolg für das verantwortungsvolle Amt.\nDa der Kollege Glaser nicht die erforderliche Mehrheit der Mitglieder des Hauses erhalten hat, ist nach der Geschäftsordnung ein zweiter Wahlgang erforderlich. Wir führen diesen zweiten Wahlgang jetzt unmittelbar durch.\nFür diesen zweiten Wahlgang schlägt die Fraktion der AfD den Kollegen Glaser vor. Auch im zweiten Wahlgang ist nach unserer Geschäftsordnung die Mehrheit der Mitglieder des Bundestages, also 355 Stimmen, erforderlich. Die Wahl ist wiederum geheim. Wahlausweise und Stimmkarte für diesen Wahlgang sind blau. Die Stimmkarte erhalten Sie wieder vor den Wahlkabinen. – Jetzt bitte ich Sie – genauso wie zuvor –, sich die Wahlunterlagen zu besorgen und in den Kabinen Ihr Kreuz zu machen. Wir beginnen mit der Wahl. Sind alle Urnen besetzt? – Das ist der Fall. Dann ist die Wahl eröffnet.\nLiebe Kolleginnen und Kollegen, darf ich fragen, ob jemand nicht die Möglichkeit hatte, seine Stimme abzugeben? – Das ist offensichtlich nicht der Fall. Dann schließe ich die Wahl. Ich bitte die Schriftführerinnen und Schriftführer, mit der Auszählung zu beginnen.\nIch unterbreche die Sitzung für etwa eine halbe Stunde. Der Wiederbeginn wird rechtzeitig durch Klingelsi­gnal angekündigt.\n(Unterbrechung von 15.55 bis 16.15 Uhr)\nLiebe Kolleginnen und Kollegen, die unterbrochene Sitzung ist wieder eröffnet. Ich darf Sie bitten, Platz zu nehmen.\nIch teile Ihnen das Ergebnis des zweiten Wahlgangs zur Wahl eines Stellvertreters des Präsidenten mit: abgegebene Stimmen 697, ungültige Stimmen 1, gültige Stimmen 696. Mit Ja haben gestimmt 123, mit Nein haben gestimmt 549, Enthaltungen 24. Der Abgeordnete Glaser hat damit die erforderliche Mehrheit nicht erhalten.1  Namensverzeichnis der Teilnehmer an der Wahl siehe Anlage 4\nJetzt schaue ich den Kollegen Baumann an. – Die Fraktion der AfD beantragt, einen dritten Wahlgang durchzuführen. Es gibt keinen neuen Kandidaten.\nIch würde Ihnen gerne noch erläutern, wie der dritte Wahlgang abläuft. Nach unserer Geschäftsordnung ist im dritten Wahlgang der Kandidat Herr Glaser gewählt, wenn er die Mehrheit der abgegebenen Stimmen auf sich vereinigt, also die Zahl der Jastimmen größer ist als die Zahl der Neinstimmen. Enthaltungen bleiben insofern unberücksichtigt. Die Wahl ist wiederum geheim. Wahlausweis und Stimmkarte für diesen Wahlgang sind rot. Alles andere, Wahlkabine etc., läuft so ab wie bei den ersten beiden Wahlgängen auch.\nIch bitte, die Wahlunterlagen in Empfang zu nehmen und die Urnen zu besetzen. Dazu brauchen wir Schriftführer. – Die Urnen sind besetzt. Ich eröffne den dritten Wahlgang.\n",
         "19",
         "1",
         "6",
         "11003212",
         "Claudia",
         "Roth",
         "BÜNDNIS 90/DIE GRÜNEN",
         "Bündnis 90 / Die Grünen",
         "ja ich nehme die wahl mit großer freude an und freue mich auch auf die zusammenarbeit\ndie freude ist unübersehbar ich beglückwünsche sie im namen des ganzen hauses frau kollegin roth\nich wünsche ihnen allen im namen des hauses glück und erfolg für das verantwortungsvolle amt\nda der kollege glaser nicht die erforderliche mehrheit der mitglieder des hauses erhalten hat ist nach der geschäftsordnung ein zweiter wahlgang erforderlich wir führen diesen zweiten wahlgang jetzt unmittelbar durch\nfür diesen zweiten wahlgang schlägt die fraktion der afd den kollegen glaser vor auch im zweiten wahlgang ist nach unserer geschäftsordnung die mehrheit der mitglieder des bundestages also 355 stimmen erforderlich die wahl ist wiederum geheim wahlausweise und stimmkarte für diesen wahlgang sind blau die stimmkarte erhalten sie wieder vor den wahlkabinen – jetzt bitte ich sie – genauso wie zuvor – sich die wahlunterlagen zu besorgen und in den kabinen ihr kreuz zu machen wir beginnen mit der wahl sind alle urnen besetzt – das ist der fall dann ist die wahl eröffnet\nliebe kolleginnen und kollegen darf ich fragen ob jemand nicht die möglichkeit hatte seine stimme abzugeben – das ist offensichtlich nicht der fall dann schließe ich die wahl ich bitte die schriftführerinnen und schriftführer mit der auszählung zu beginnen\nich unterbreche die sitzung für etwa eine halbe stunde der wiederbeginn wird rechtzeitig durch klingelsi­gnal angekündigt\nunterbrechung von 1555 bis 1615 uhr\nliebe kolleginnen und kollegen die unterbrochene sitzung ist wieder eröffnet ich darf sie bitten platz zu nehmen\nich teile ihnen das ergebnis des zweiten wahlgangs zur wahl eines stellvertreters des präsidenten mit abgegebene stimmen 697 ungültige stimmen 1 gültige stimmen 696 mit ja haben gestimmt 123 mit nein haben gestimmt 549 enthaltungen 24 der abgeordnete glaser hat damit die erforderliche mehrheit nicht erhalten1  namensverzeichnis der teilnehmer an der wahl siehe anlage 4\njetzt schaue ich den kollegen baumann an – die fraktion der afd beantragt einen dritten wahlgang durchzuführen es gibt keinen neuen kandidaten\nich würde ihnen gerne noch erläutern wie der dritte wahlgang abläuft nach unserer geschäftsordnung ist im dritten wahlgang der kandidat herr glaser gewählt wenn er die mehrheit der abgegebenen stimmen auf sich vereinigt also die zahl der jastimmen größer ist als die zahl der neinstimmen enthaltungen bleiben insofern unberücksichtigt die wahl ist wiederum geheim wahlausweis und stimmkarte für diesen wahlgang sind rot alles andere wahlkabine etc läuft so ab wie bei den ersten beiden wahlgängen auch\nich bitte die wahlunterlagen in empfang zu nehmen und die urnen zu besetzen dazu brauchen wir schriftführer – die urnen sind besetzt ich eröffne den dritten wahlgang\n",
         "['ja', 'ich', 'nehme', 'die', 'wahl', 'mit', 'großer', 'freude', 'an', 'und', 'freue', 'mich', 'auch', 'auf', 'die', 'zusammenarbeit', 'die', 'freude', 'ist', 'unübersehbar', 'ich', 'beglückwünsche', 'sie', 'im', 'namen', 'des', 'ganzen', 'hauses', 'frau', 'kollegin', 'roth', 'ich', 'wünsche', 'ihnen', 'allen', 'im', 'namen', 'des', 'hauses', 'glück', 'und', 'erfolg', 'für', 'das', 'verantwortungsvolle', 'amt', 'da', 'der', 'kollege', 'glaser', 'nicht', 'die', 'erforderliche', 'mehrheit', 'der', 'mitglieder', 'des', 'hauses', 'erhalten', 'hat', 'ist', 'nach', 'der', 'geschäftsordnung', 'ein', 'zweiter', 'wahlgang', 'erforderlich', 'wir', 'führen', 'diesen', 'zweiten', 'wahlgang', 'jetzt', 'unmittelbar', 'durch', 'für', 'diesen', 'zweiten', 'wahlgang', 'schlägt', 'die', 'fraktion', 'der', 'afd', 'den', 'kollegen', 'glaser', 'vor', 'auch', 'im', 'zweiten', 'wahlgang', 'ist', 'nach', 'unserer', 'geschäftsordnung', 'die', 'mehrheit', 'der', 'mitglieder', 'des', 'bundestages', 'also', '355', 'stimmen', 'erforderlich', 'die', 'wahl', 'ist', 'wiederum', 'geheim', 'wahlausweise', 'und', 'stimmkarte', 'für', 'diesen', 'wahlgang', 'sind', 'blau', 'die', 'stimmkarte', 'erhalten', 'sie', 'wieder', 'vor', 'den', 'wahlkabinen', '–', 'jetzt', 'bitte', 'ich', 'sie', '–', 'genauso', 'wie', 'zuvor', '–', 'sich', 'die', 'wahlunterlagen', 'zu', 'besorgen', 'und', 'in', 'den', 'kabinen', 'ihr', 'kreuz', 'zu', 'machen', 'wir', 'beginnen', 'mit', 'der', 'wahl', 'sind', 'alle', 'urnen', 'besetzt', '–', 'das', 'ist', 'der', 'fall', 'dann', 'ist', 'die', 'wahl', 'eröffnet', 'liebe', 'kolleginnen', 'und', 'kollegen', 'darf', 'ich', 'fragen', 'ob', 'jemand', 'nicht', 'die', 'möglichkeit', 'hatte', 'seine', 'stimme', 'abzugeben', '–', 'das', 'ist', 'offensichtlich', 'nicht', 'der', 'fall', 'dann', 'schließe', 'ich', 'die', 'wahl', 'ich', 'bitte', 'die', 'schriftführerinnen', 'und', 'schriftführer', 'mit', 'der', 'auszählung', 'zu', 'beginnen', 'ich', 'unterbreche', 'die', 'sitzung', 'für', 'etwa', 'eine', 'halbe', 'stunde', 'der', 'wiederbeginn', 'wird', 'rechtzeitig', 'durch', 'klingelsi\\xadgnal', 'angekündigt', 'unterbrechung', 'von', '1555', 'bis', '1615', 'uhr', 'liebe', 'kolleginnen', 'und', 'kollegen', 'die', 'unterbrochene', 'sitzung', 'ist', 'wieder', 'eröffnet', 'ich', 'darf', 'sie', 'bitten', 'platz', 'zu', 'nehmen', 'ich', 'teile', 'ihnen', 'das', 'ergebnis', 'des', 'zweiten', 'wahlgangs', 'zur', 'wahl', 'eines', 'stellvertreters', 'des', 'präsidenten', 'mit', 'abgegebene', 'stimmen', '697', 'ungültige', 'stimmen', '1', 'gültige', 'stimmen', '696', 'mit', 'ja', 'haben', 'gestimmt', '123', 'mit', 'nein', 'haben', 'gestimmt', '549', 'enthaltungen', '24', 'der', 'abgeordnete', 'glaser', 'hat', 'damit', 'die', 'erforderliche', 'mehrheit', 'nicht', 'erhalten1', 'namensverzeichnis', 'der', 'teilnehmer', 'an', 'der', 'wahl', 'siehe', 'anlage', '4', 'jetzt', 'schaue', 'ich', 'den', 'kollegen', 'baumann', 'an', '–', 'die', 'fraktion', 'der', 'afd', 'beantragt', 'einen', 'dritten', 'wahlgang', 'durchzuführen', 'es', 'gibt', 'keinen', 'neuen', 'kandidaten', 'ich', 'würde', 'ihnen', 'gerne', 'noch', 'erläutern', 'wie', 'der', 'dritte', 'wahlgang', 'abläuft', 'nach', 'unserer', 'geschäftsordnung', 'ist', 'im', 'dritten', 'wahlgang', 'der', 'kandidat', 'herr', 'glaser', 'gewählt', 'wenn', 'er', 'die', 'mehrheit', 'der', 'abgegebenen', 'stimmen', 'auf', 'sich', 'vereinigt', 'also', 'die', 'zahl', 'der', 'jastimmen', 'größer', 'ist', 'als', 'die', 'zahl', 'der', 'neinstimmen', 'enthaltungen', 'bleiben', 'insofern', 'unberücksichtigt', 'die', 'wahl', 'ist', 'wiederum', 'geheim', 'wahlausweis', 'und', 'stimmkarte', 'für', 'diesen', 'wahlgang', 'sind', 'rot', 'alles', 'andere', 'wahlkabine', 'etc', 'läuft', 'so', 'ab', 'wie', 'bei', 'den', 'ersten', 'beiden', 'wahlgängen', 'auch', 'ich', 'bitte', 'die', 'wahlunterlagen', 'in', 'empfang', 'zu', 'nehmen', 'und', 'die', 'urnen', 'zu', 'besetzen', 'dazu', 'brauchen', 'wir', 'schriftführer', '–', 'die', 'urnen', 'sind', 'besetzt', 'ich', 'eröffne', 'den', 'dritten', 'wahlgang']",
         "428"
        ],
        [
         "7",
         "f355f1e1-6b62-4950-fc27-08da0daf380d",
         "11003218",
         "Sehr geehrter Herr Präsident! Sehr geehrte Kolleginnen und Kollegen! Mit der heutigen Konstituierung nimmt der Deutsche Bundestag zum 19. Mal seine Arbeit auf. Er ist die wichtigste Institution im Parlamentarismus in Deutschland, und er ist zugleich die Herzkammer unserer Demokratie; denn nur wir Abgeordneten sind vom Volk gewählt und damit unmittelbar legitimiert.\nIn diesem Haus debattieren wir über die besten politischen Lösungen, streiten um die besten Argumente und ringen um Mehrheiten. Alle vier Jahre tun wir das in Wahlkämpfen, dazwischen aber hier. Debatten im Bundestag sind daher das Thermometer für die Lebendigkeit unserer Demokratie. Nur dann, wenn sich die Bürgerinnen und Bürger in unseren Debatten wiederfinden, identifizieren sie sich auch mit unserem Parlament. Wenn aber am Küchentisch zu Hause oder am Stammtisch heftige politische Diskussionen stattfinden, die sich im Bundestag so nicht wiederfinden, dann verlieren wir als Abgeordnete unseren Rückhalt in der Bevölkerung. Selbstkritisch füge ich hinzu: Das war durchaus in den letzten Jahren der Fall und muss sich dringend ändern.\nDer Bundestag muss wieder zur zentralen Bühne der politischen Auseinandersetzung werden – und nicht Talkshows im Fernsehen oder Einzelinterviews von Journalisten, Frau Bundeskanzlerin.\nIhr Politikstil, Frau Merkel, ist ein Grund dafür, dass wir heute eine rechtspopulistische Partei hier im Bundestag haben.\nSie haben in diesem Wahlkampf jeden politischen Streit um die besseren Ideen und Konzepte, jede Debatte um die besten Argumente verweigert.\nDiese Vernebelungsstrategie mag in den vergangenen beiden Wahlkämpfen funktioniert haben.\nDiesmal führte sie aber dazu, dass die politischen Ränder stärker wurden denn je.\nDeshalb, liebe Kolleginnen und Kollegen, muss der Bundestag wieder lebendiger werden. Er braucht keine Regierung, um zu arbeiten – im Gegenteil: wir halten uns eine Regierung –, aber er braucht Regeln, die wir uns hier mit der gleich zu beschließenden Geschäftsordnung selbst geben werden. Diese Regeln müssen dem Anspruch des Parlaments, die Herzkammer der Demokratie zu sein, gerecht werden und diesen auch abbilden. Dass diese Regeln reformbedürftig sind, ist nicht neu. Daran haben wir bereits in der vergangenen Legislaturperiode gearbeitet und waren uns auch in vielen Punkten einig.\nGleichwohl hat Ihre Fraktion, Frau Bundeskanzlerin, die Union – wenn man denn noch von einer Union sprechen kann –,\nam Ende eine Einigung blockiert.\nDoch wir wollen heute nach vorne schauen. Deshalb beantragen wir, dass die Frau Bundeskanzlerin, so sie denn im Bundestag gewählt wird, sich viermal im Jahr einer direkten Befragung im Parlament stellt. Viermal im Jahr ist nicht zu viel.\nUnd – eigentlich eine Selbstverständlichkeit –: Wir wollen selbst festlegen, wozu wir die Regierung in der Regierungsbefragung befragen. Meine Damen und Herren, dagegen kann doch niemand sein.\nOhne die Blockade der Union in der letzten Legislatur hätten wir diese Meilensteine schon längst beschlossen. Ich gebe zu: Wir waren an einen Koalitionsvertrag gebunden. Deswegen, weil die Union das verhindert hat, haben wir das nicht beschließen können.\n– Selbstkritik gehört dazu.\nWir haben jetzt allerdings keinen Koalitionsvertrag. Oder haben wir den schon, meine Damen und Herren?\nWir geben uns heute hier eine Geschäftsordnung, in freier Entscheidung, und Sie haben die Möglichkeit, heute frei darüber zu entscheiden. Springen Sie auch!\nMachen wir heute einen Neustart, und geben wir uns Regeln, die das Parlament stärken!\nDer Bundestag hat mehr Kompetenzen als die meisten anderen Parlamente in Europa. Deswegen schauen auch viele in Europa auf uns. Bei unseren Kompetenzen sind wir Vorbild. Bei der Art und Weise, wie wir hier debattieren, müssen wir noch besser werden.\nVielen Dank.\n",
         "19",
         "1",
         "2",
         "11003218",
         "Carsten",
         "Schneider",
         "SPD",
         "SPD",
         "sehr geehrter herr präsident sehr geehrte kolleginnen und kollegen mit der heutigen konstituierung nimmt der deutsche bundestag zum 19 mal seine arbeit auf er ist die wichtigste institution im parlamentarismus in deutschland und er ist zugleich die herzkammer unserer demokratie denn nur wir abgeordneten sind vom volk gewählt und damit unmittelbar legitimiert\nin diesem haus debattieren wir über die besten politischen lösungen streiten um die besten argumente und ringen um mehrheiten alle vier jahre tun wir das in wahlkämpfen dazwischen aber hier debatten im bundestag sind daher das thermometer für die lebendigkeit unserer demokratie nur dann wenn sich die bürgerinnen und bürger in unseren debatten wiederfinden identifizieren sie sich auch mit unserem parlament wenn aber am küchentisch zu hause oder am stammtisch heftige politische diskussionen stattfinden die sich im bundestag so nicht wiederfinden dann verlieren wir als abgeordnete unseren rückhalt in der bevölkerung selbstkritisch füge ich hinzu das war durchaus in den letzten jahren der fall und muss sich dringend ändern\nder bundestag muss wieder zur zentralen bühne der politischen auseinandersetzung werden – und nicht talkshows im fernsehen oder einzelinterviews von journalisten frau bundeskanzlerin\nihr politikstil frau merkel ist ein grund dafür dass wir heute eine rechtspopulistische partei hier im bundestag haben\nsie haben in diesem wahlkampf jeden politischen streit um die besseren ideen und konzepte jede debatte um die besten argumente verweigert\ndiese vernebelungsstrategie mag in den vergangenen beiden wahlkämpfen funktioniert haben\ndiesmal führte sie aber dazu dass die politischen ränder stärker wurden denn je\ndeshalb liebe kolleginnen und kollegen muss der bundestag wieder lebendiger werden er braucht keine regierung um zu arbeiten – im gegenteil wir halten uns eine regierung – aber er braucht regeln die wir uns hier mit der gleich zu beschließenden geschäftsordnung selbst geben werden diese regeln müssen dem anspruch des parlaments die herzkammer der demokratie zu sein gerecht werden und diesen auch abbilden dass diese regeln reformbedürftig sind ist nicht neu daran haben wir bereits in der vergangenen legislaturperiode gearbeitet und waren uns auch in vielen punkten einig\ngleichwohl hat ihre fraktion frau bundeskanzlerin die union – wenn man denn noch von einer union sprechen kann –\nam ende eine einigung blockiert\ndoch wir wollen heute nach vorne schauen deshalb beantragen wir dass die frau bundeskanzlerin so sie denn im bundestag gewählt wird sich viermal im jahr einer direkten befragung im parlament stellt viermal im jahr ist nicht zu viel\nund – eigentlich eine selbstverständlichkeit – wir wollen selbst festlegen wozu wir die regierung in der regierungsbefragung befragen meine damen und herren dagegen kann doch niemand sein\nohne die blockade der union in der letzten legislatur hätten wir diese meilensteine schon längst beschlossen ich gebe zu wir waren an einen koalitionsvertrag gebunden deswegen weil die union das verhindert hat haben wir das nicht beschließen können\n– selbstkritik gehört dazu\nwir haben jetzt allerdings keinen koalitionsvertrag oder haben wir den schon meine damen und herren\nwir geben uns heute hier eine geschäftsordnung in freier entscheidung und sie haben die möglichkeit heute frei darüber zu entscheiden springen sie auch\nmachen wir heute einen neustart und geben wir uns regeln die das parlament stärken\nder bundestag hat mehr kompetenzen als die meisten anderen parlamente in europa deswegen schauen auch viele in europa auf uns bei unseren kompetenzen sind wir vorbild bei der art und weise wie wir hier debattieren müssen wir noch besser werden\nvielen dank\n",
         "['sehr', 'geehrter', 'herr', 'präsident', 'sehr', 'geehrte', 'kolleginnen', 'und', 'kollegen', 'mit', 'der', 'heutigen', 'konstituierung', 'nimmt', 'der', 'deutsche', 'bundestag', 'zum', '19', 'mal', 'seine', 'arbeit', 'auf', 'er', 'ist', 'die', 'wichtigste', 'institution', 'im', 'parlamentarismus', 'in', 'deutschland', 'und', 'er', 'ist', 'zugleich', 'die', 'herzkammer', 'unserer', 'demokratie', 'denn', 'nur', 'wir', 'abgeordneten', 'sind', 'vom', 'volk', 'gewählt', 'und', 'damit', 'unmittelbar', 'legitimiert', 'in', 'diesem', 'haus', 'debattieren', 'wir', 'über', 'die', 'besten', 'politischen', 'lösungen', 'streiten', 'um', 'die', 'besten', 'argumente', 'und', 'ringen', 'um', 'mehrheiten', 'alle', 'vier', 'jahre', 'tun', 'wir', 'das', 'in', 'wahlkämpfen', 'dazwischen', 'aber', 'hier', 'debatten', 'im', 'bundestag', 'sind', 'daher', 'das', 'thermometer', 'für', 'die', 'lebendigkeit', 'unserer', 'demokratie', 'nur', 'dann', 'wenn', 'sich', 'die', 'bürgerinnen', 'und', 'bürger', 'in', 'unseren', 'debatten', 'wiederfinden', 'identifizieren', 'sie', 'sich', 'auch', 'mit', 'unserem', 'parlament', 'wenn', 'aber', 'am', 'küchentisch', 'zu', 'hause', 'oder', 'am', 'stammtisch', 'heftige', 'politische', 'diskussionen', 'stattfinden', 'die', 'sich', 'im', 'bundestag', 'so', 'nicht', 'wiederfinden', 'dann', 'verlieren', 'wir', 'als', 'abgeordnete', 'unseren', 'rückhalt', 'in', 'der', 'bevölkerung', 'selbstkritisch', 'füge', 'ich', 'hinzu', 'das', 'war', 'durchaus', 'in', 'den', 'letzten', 'jahren', 'der', 'fall', 'und', 'muss', 'sich', 'dringend', 'ändern', 'der', 'bundestag', 'muss', 'wieder', 'zur', 'zentralen', 'bühne', 'der', 'politischen', 'auseinandersetzung', 'werden', '–', 'und', 'nicht', 'talkshows', 'im', 'fernsehen', 'oder', 'einzelinterviews', 'von', 'journalisten', 'frau', 'bundeskanzlerin', 'ihr', 'politikstil', 'frau', 'merkel', 'ist', 'ein', 'grund', 'dafür', 'dass', 'wir', 'heute', 'eine', 'rechtspopulistische', 'partei', 'hier', 'im', 'bundestag', 'haben', 'sie', 'haben', 'in', 'diesem', 'wahlkampf', 'jeden', 'politischen', 'streit', 'um', 'die', 'besseren', 'ideen', 'und', 'konzepte', 'jede', 'debatte', 'um', 'die', 'besten', 'argumente', 'verweigert', 'diese', 'vernebelungsstrategie', 'mag', 'in', 'den', 'vergangenen', 'beiden', 'wahlkämpfen', 'funktioniert', 'haben', 'diesmal', 'führte', 'sie', 'aber', 'dazu', 'dass', 'die', 'politischen', 'ränder', 'stärker', 'wurden', 'denn', 'je', 'deshalb', 'liebe', 'kolleginnen', 'und', 'kollegen', 'muss', 'der', 'bundestag', 'wieder', 'lebendiger', 'werden', 'er', 'braucht', 'keine', 'regierung', 'um', 'zu', 'arbeiten', '–', 'im', 'gegenteil', 'wir', 'halten', 'uns', 'eine', 'regierung', '–', 'aber', 'er', 'braucht', 'regeln', 'die', 'wir', 'uns', 'hier', 'mit', 'der', 'gleich', 'zu', 'beschließenden', 'geschäftsordnung', 'selbst', 'geben', 'werden', 'diese', 'regeln', 'müssen', 'dem', 'anspruch', 'des', 'parlaments', 'die', 'herzkammer', 'der', 'demokratie', 'zu', 'sein', 'gerecht', 'werden', 'und', 'diesen', 'auch', 'abbilden', 'dass', 'diese', 'regeln', 'reformbedürftig', 'sind', 'ist', 'nicht', 'neu', 'daran', 'haben', 'wir', 'bereits', 'in', 'der', 'vergangenen', 'legislaturperiode', 'gearbeitet', 'und', 'waren', 'uns', 'auch', 'in', 'vielen', 'punkten', 'einig', 'gleichwohl', 'hat', 'ihre', 'fraktion', 'frau', 'bundeskanzlerin', 'die', 'union', '–', 'wenn', 'man', 'denn', 'noch', 'von', 'einer', 'union', 'sprechen', 'kann', '–', 'am', 'ende', 'eine', 'einigung', 'blockiert', 'doch', 'wir', 'wollen', 'heute', 'nach', 'vorne', 'schauen', 'deshalb', 'beantragen', 'wir', 'dass', 'die', 'frau', 'bundeskanzlerin', 'so', 'sie', 'denn', 'im', 'bundestag', 'gewählt', 'wird', 'sich', 'viermal', 'im', 'jahr', 'einer', 'direkten', 'befragung', 'im', 'parlament', 'stellt', 'viermal', 'im', 'jahr', 'ist', 'nicht', 'zu', 'viel', 'und', '–', 'eigentlich', 'eine', 'selbstverständlichkeit', '–', 'wir', 'wollen', 'selbst', 'festlegen', 'wozu', 'wir', 'die', 'regierung', 'in', 'der', 'regierungsbefragung', 'befragen', 'meine', 'damen', 'und', 'herren', 'dagegen', 'kann', 'doch', 'niemand', 'sein', 'ohne', 'die', 'blockade', 'der', 'union', 'in', 'der', 'letzten', 'legislatur', 'hätten', 'wir', 'diese', 'meilensteine', 'schon', 'längst', 'beschlossen', 'ich', 'gebe', 'zu', 'wir', 'waren', 'an', 'einen', 'koalitionsvertrag', 'gebunden', 'deswegen', 'weil', 'die', 'union', 'das', 'verhindert', 'hat', 'haben', 'wir', 'das', 'nicht', 'beschließen', 'können', '–', 'selbstkritik', 'gehört', 'dazu', 'wir', 'haben', 'jetzt', 'allerdings', 'keinen', 'koalitionsvertrag', 'oder', 'haben', 'wir', 'den', 'schon', 'meine', 'damen', 'und', 'herren', 'wir', 'geben', 'uns', 'heute', 'hier', 'eine', 'geschäftsordnung', 'in', 'freier', 'entscheidung', 'und', 'sie', 'haben', 'die', 'möglichkeit', 'heute', 'frei', 'darüber', 'zu', 'entscheiden', 'springen', 'sie', 'auch', 'machen', 'wir', 'heute', 'einen', 'neustart', 'und', 'geben', 'wir', 'uns', 'regeln', 'die', 'das', 'parlament', 'stärken', 'der', 'bundestag', 'hat', 'mehr', 'kompetenzen', 'als', 'die', 'meisten', 'anderen', 'parlamente', 'in', 'europa', 'deswegen', 'schauen', 'auch', 'viele', 'in', 'europa', 'auf', 'uns', 'bei', 'unseren', 'kompetenzen', 'sind', 'wir', 'vorbild', 'bei', 'der', 'art', 'und', 'weise', 'wie', 'wir', 'hier', 'debattieren', 'müssen', 'wir', 'noch', 'besser', 'werden', 'vielen', 'dank']",
         "559"
        ],
        [
         "8",
         "c3cd4f9f-691c-4fea-9816-08da0ffa5a12",
         "11003541",
         "Herr Präsident! Sehr verehrte Gäste! Meine lieben Kolleginnen und Kollegen! Lieber Kollege Schneider, ich verstehe, dass man mit 20 Prozent als Bundestagswahlergebnis nach einem Schuldigen sucht. Ich empfehle, nicht immer nur ins Kanzleramt zu gucken.\nSuchen Sie im Willy-Brandt-Haus! Dort ist der Erfolg größer, dass Sie einen Schuldigen finden. Das geht dann vor allen Dingen auch schneller.\nDavon abgesehen stehen wir heute am Beginn einer Legislaturperiode. Wir haben bald – sofort nach der Konstituierung – Arbeitsfähigkeit hergestellt. Wir haben 289 Kolleginnen und Kollegen als neu gewählte Abgeordnete unter uns, die in der letzten Legislaturperiode diesem Bundestag nicht angehört haben. Zwei Fraktionen sind neu ins Parlament gezogen. Diese neuen Abgeordneten werden jetzt mit teils umfangreichen Änderungsanträgen zur Geschäftsordnung begrüßt.\nIch halte das weder für besonders stilvoll noch für sachlich gerechtfertigt und fair.\nDie neuen Kolleginnen und Kollegen hatten weder die Gelegenheit, sich mit Ihren Anträgen auseinanderzusetzen,\nnoch hatten sie Gelegenheit, jemals live eine Regierungsbefragung oder das, was Sie ändern wollen, überhaupt zur Kenntnis zu nehmen oder zu erfahren.\nDeswegen sagen wir: Ungeachtet der Möglichkeit, etwas zu ändern, wollen wir nicht, dass heute über die Anträge abgestimmt wird. Wir wollen sie überweisen, damit sie in Ruhe und mit der gebotenen Sachlichkeit beraten werden können.\nInsofern soll sich zunächst der Ältestenrat damit beschäftigen.\nWeil wir am Anfang der Beratungen stehen, möchte ich nur ein paar Anmerkungen machen.\nErstens: zum Änderungsantrag der AfD bezüglich des Alterspräsidenten. Hermann Otto Solms hat heute bewiesen, dass es sinnvoll ist, nicht nur auf Lebensalter zu setzen, sondern auch auf politische Erfahrung. Deswegen sehe ich da keinen Änderungsbedarf.\nZweitens: zu den Anträgen von SPD und Linken zu Änderungen bei der Regierungsbefragung. Sie wollen eine lebendige und informative Regierungsbefragung. Gar keine Frage, das wollen wir auch. Das Fragerecht muss aber Instrument der parlamentarischen Kontrolle bleiben und sollte nicht Kampfinstrument der Opposition werden. Ich glaube, es liegt in unserem gemeinsamen Interesse,\ndass wir sachlich argumentieren und nicht versuchen, nur persönlich zu attackieren. Deswegen habe ich da Bedenken. Aber um auch das klar zu sagen: Wir sind bereit, darüber zu reden – in der gebotenen Sachlichkeit und nicht im Hauruckverfahren. Ich kann verstehen, Herr Kollege Schneider, dass die SPD möglichst schnell in die Opposition will.\nWir werden Sie dabei unterstützen, aber dieses Antrags bedarf es dazu nicht.\nDrittens: zum Antrag der Linken auf unmittelbare Einsetzung der vier im Grundgesetz genannten Ausschüsse. Ich möchte betonen: Dieser Bundestag, der 19. Deutsche Bundestag, ist ab heute jederzeit in der Lage, zu arbeiten und Entscheidungen zu treffen, er ist arbeitsfähig und entscheidungsfähig, um das einmal klar zu sagen. Sie haben hier suggeriert, wir müssten diese Ausschüsse einsetzen. Das müssen wir nicht.\nEs gibt keine Fristen im Grundgesetz oder sonst wo, die uns vorgeben, diese Ausschüsse heute einzusetzen. Wir haben eine parlamentarische Gepflogenheit, Ausschüsse spiegelbildlich zu den vorhandenen Ministerien einzusetzen.\nWenn die aber noch nicht da sind, wird es schwierig mit dieser parlamentarischen Gepflogenheit. Deswegen bin ich dafür: Wir machen es so, wie es sich bewährt hat.\nIch denke, der parlamentarischen Praxis ist hier erneut Vorrang einzuräumen. Einzelne Fachausschüsse vorzuziehen, dieses Schrittes bedarf es nicht.\nAbschließend zum Antrag der AfD zu Minderheitenrechten. Aufgrund einer starken Großen Koalition bestand in der 18. Wahlperiode Anlass, darüber nachzudenken, ob Minderheitenrechte in ausreichendem Maße gewährleistet werden können, zugegeben bei einer damals recht kleinen Opposition. Die Minderheitenrechte waren Reaktion auf Mehrheitsverhältnisse, und es gibt deshalb auch keinen Grund, sie zu verlängern. Die ­GroKo ist nicht mehr vorhanden. Interessant ist ja auch, dass die AfD das Quorum auf 65 Abgeordnete senken will. Möglicherweise ist das die vorbeugende Reaktion auf weitere Austritte aus Ihrer Fraktion. Das weiß ich nicht.\nMal sehen, ob bei 65 Schluss ist. Sie haben ja noch ausreichend Zeit.\nMeine Damen und Herren, liebe Kolleginnen und Kollegen, die Anträge, die wir hier vorgestellt bekommen haben, gehören nicht in die konstituierende Sitzung. Wir haben viel Wichtigeres zu tun. Sie gehören in Ruhe beraten, damit man sich auch fachlich damit auseinandersetzen kann. Dafür sorgen wir als CDU/CSU-Bundestagsfraktion.\nVielen Dank.\n",
         "19",
         "1",
         "2",
         "11003541",
         "Michael",
         "Grosse-Brömer",
         "CDU",
         "CDU/CSU",
         "herr präsident sehr verehrte gäste meine lieben kolleginnen und kollegen lieber kollege schneider ich verstehe dass man mit 20 prozent als bundestagswahlergebnis nach einem schuldigen sucht ich empfehle nicht immer nur ins kanzleramt zu gucken\nsuchen sie im willybrandthaus dort ist der erfolg größer dass sie einen schuldigen finden das geht dann vor allen dingen auch schneller\ndavon abgesehen stehen wir heute am beginn einer legislaturperiode wir haben bald – sofort nach der konstituierung – arbeitsfähigkeit hergestellt wir haben 289 kolleginnen und kollegen als neu gewählte abgeordnete unter uns die in der letzten legislaturperiode diesem bundestag nicht angehört haben zwei fraktionen sind neu ins parlament gezogen diese neuen abgeordneten werden jetzt mit teils umfangreichen änderungsanträgen zur geschäftsordnung begrüßt\nich halte das weder für besonders stilvoll noch für sachlich gerechtfertigt und fair\ndie neuen kolleginnen und kollegen hatten weder die gelegenheit sich mit ihren anträgen auseinanderzusetzen\nnoch hatten sie gelegenheit jemals live eine regierungsbefragung oder das was sie ändern wollen überhaupt zur kenntnis zu nehmen oder zu erfahren\ndeswegen sagen wir ungeachtet der möglichkeit etwas zu ändern wollen wir nicht dass heute über die anträge abgestimmt wird wir wollen sie überweisen damit sie in ruhe und mit der gebotenen sachlichkeit beraten werden können\ninsofern soll sich zunächst der ältestenrat damit beschäftigen\nweil wir am anfang der beratungen stehen möchte ich nur ein paar anmerkungen machen\nerstens zum änderungsantrag der afd bezüglich des alterspräsidenten hermann otto solms hat heute bewiesen dass es sinnvoll ist nicht nur auf lebensalter zu setzen sondern auch auf politische erfahrung deswegen sehe ich da keinen änderungsbedarf\nzweitens zu den anträgen von spd und linken zu änderungen bei der regierungsbefragung sie wollen eine lebendige und informative regierungsbefragung gar keine frage das wollen wir auch das fragerecht muss aber instrument der parlamentarischen kontrolle bleiben und sollte nicht kampfinstrument der opposition werden ich glaube es liegt in unserem gemeinsamen interesse\ndass wir sachlich argumentieren und nicht versuchen nur persönlich zu attackieren deswegen habe ich da bedenken aber um auch das klar zu sagen wir sind bereit darüber zu reden – in der gebotenen sachlichkeit und nicht im hauruckverfahren ich kann verstehen herr kollege schneider dass die spd möglichst schnell in die opposition will\nwir werden sie dabei unterstützen aber dieses antrags bedarf es dazu nicht\ndrittens zum antrag der linken auf unmittelbare einsetzung der vier im grundgesetz genannten ausschüsse ich möchte betonen dieser bundestag der 19 deutsche bundestag ist ab heute jederzeit in der lage zu arbeiten und entscheidungen zu treffen er ist arbeitsfähig und entscheidungsfähig um das einmal klar zu sagen sie haben hier suggeriert wir müssten diese ausschüsse einsetzen das müssen wir nicht\nes gibt keine fristen im grundgesetz oder sonst wo die uns vorgeben diese ausschüsse heute einzusetzen wir haben eine parlamentarische gepflogenheit ausschüsse spiegelbildlich zu den vorhandenen ministerien einzusetzen\nwenn die aber noch nicht da sind wird es schwierig mit dieser parlamentarischen gepflogenheit deswegen bin ich dafür wir machen es so wie es sich bewährt hat\nich denke der parlamentarischen praxis ist hier erneut vorrang einzuräumen einzelne fachausschüsse vorzuziehen dieses schrittes bedarf es nicht\nabschließend zum antrag der afd zu minderheitenrechten aufgrund einer starken großen koalition bestand in der 18 wahlperiode anlass darüber nachzudenken ob minderheitenrechte in ausreichendem maße gewährleistet werden können zugegeben bei einer damals recht kleinen opposition die minderheitenrechte waren reaktion auf mehrheitsverhältnisse und es gibt deshalb auch keinen grund sie zu verlängern die ­groko ist nicht mehr vorhanden interessant ist ja auch dass die afd das quorum auf 65 abgeordnete senken will möglicherweise ist das die vorbeugende reaktion auf weitere austritte aus ihrer fraktion das weiß ich nicht\nmal sehen ob bei 65 schluss ist sie haben ja noch ausreichend zeit\nmeine damen und herren liebe kolleginnen und kollegen die anträge die wir hier vorgestellt bekommen haben gehören nicht in die konstituierende sitzung wir haben viel wichtigeres zu tun sie gehören in ruhe beraten damit man sich auch fachlich damit auseinandersetzen kann dafür sorgen wir als cducsubundestagsfraktion\nvielen dank\n",
         "['herr', 'präsident', 'sehr', 'verehrte', 'gäste', 'meine', 'lieben', 'kolleginnen', 'und', 'kollegen', 'lieber', 'kollege', 'schneider', 'ich', 'verstehe', 'dass', 'man', 'mit', '20', 'prozent', 'als', 'bundestagswahlergebnis', 'nach', 'einem', 'schuldigen', 'sucht', 'ich', 'empfehle', 'nicht', 'immer', 'nur', 'ins', 'kanzleramt', 'zu', 'gucken', 'suchen', 'sie', 'im', 'willybrandthaus', 'dort', 'ist', 'der', 'erfolg', 'größer', 'dass', 'sie', 'einen', 'schuldigen', 'finden', 'das', 'geht', 'dann', 'vor', 'allen', 'dingen', 'auch', 'schneller', 'davon', 'abgesehen', 'stehen', 'wir', 'heute', 'am', 'beginn', 'einer', 'legislaturperiode', 'wir', 'haben', 'bald', '–', 'sofort', 'nach', 'der', 'konstituierung', '–', 'arbeitsfähigkeit', 'hergestellt', 'wir', 'haben', '289', 'kolleginnen', 'und', 'kollegen', 'als', 'neu', 'gewählte', 'abgeordnete', 'unter', 'uns', 'die', 'in', 'der', 'letzten', 'legislaturperiode', 'diesem', 'bundestag', 'nicht', 'angehört', 'haben', 'zwei', 'fraktionen', 'sind', 'neu', 'ins', 'parlament', 'gezogen', 'diese', 'neuen', 'abgeordneten', 'werden', 'jetzt', 'mit', 'teils', 'umfangreichen', 'änderungsanträgen', 'zur', 'geschäftsordnung', 'begrüßt', 'ich', 'halte', 'das', 'weder', 'für', 'besonders', 'stilvoll', 'noch', 'für', 'sachlich', 'gerechtfertigt', 'und', 'fair', 'die', 'neuen', 'kolleginnen', 'und', 'kollegen', 'hatten', 'weder', 'die', 'gelegenheit', 'sich', 'mit', 'ihren', 'anträgen', 'auseinanderzusetzen', 'noch', 'hatten', 'sie', 'gelegenheit', 'jemals', 'live', 'eine', 'regierungsbefragung', 'oder', 'das', 'was', 'sie', 'ändern', 'wollen', 'überhaupt', 'zur', 'kenntnis', 'zu', 'nehmen', 'oder', 'zu', 'erfahren', 'deswegen', 'sagen', 'wir', 'ungeachtet', 'der', 'möglichkeit', 'etwas', 'zu', 'ändern', 'wollen', 'wir', 'nicht', 'dass', 'heute', 'über', 'die', 'anträge', 'abgestimmt', 'wird', 'wir', 'wollen', 'sie', 'überweisen', 'damit', 'sie', 'in', 'ruhe', 'und', 'mit', 'der', 'gebotenen', 'sachlichkeit', 'beraten', 'werden', 'können', 'insofern', 'soll', 'sich', 'zunächst', 'der', 'ältestenrat', 'damit', 'beschäftigen', 'weil', 'wir', 'am', 'anfang', 'der', 'beratungen', 'stehen', 'möchte', 'ich', 'nur', 'ein', 'paar', 'anmerkungen', 'machen', 'erstens', 'zum', 'änderungsantrag', 'der', 'afd', 'bezüglich', 'des', 'alterspräsidenten', 'hermann', 'otto', 'solms', 'hat', 'heute', 'bewiesen', 'dass', 'es', 'sinnvoll', 'ist', 'nicht', 'nur', 'auf', 'lebensalter', 'zu', 'setzen', 'sondern', 'auch', 'auf', 'politische', 'erfahrung', 'deswegen', 'sehe', 'ich', 'da', 'keinen', 'änderungsbedarf', 'zweitens', 'zu', 'den', 'anträgen', 'von', 'spd', 'und', 'linken', 'zu', 'änderungen', 'bei', 'der', 'regierungsbefragung', 'sie', 'wollen', 'eine', 'lebendige', 'und', 'informative', 'regierungsbefragung', 'gar', 'keine', 'frage', 'das', 'wollen', 'wir', 'auch', 'das', 'fragerecht', 'muss', 'aber', 'instrument', 'der', 'parlamentarischen', 'kontrolle', 'bleiben', 'und', 'sollte', 'nicht', 'kampfinstrument', 'der', 'opposition', 'werden', 'ich', 'glaube', 'es', 'liegt', 'in', 'unserem', 'gemeinsamen', 'interesse', 'dass', 'wir', 'sachlich', 'argumentieren', 'und', 'nicht', 'versuchen', 'nur', 'persönlich', 'zu', 'attackieren', 'deswegen', 'habe', 'ich', 'da', 'bedenken', 'aber', 'um', 'auch', 'das', 'klar', 'zu', 'sagen', 'wir', 'sind', 'bereit', 'darüber', 'zu', 'reden', '–', 'in', 'der', 'gebotenen', 'sachlichkeit', 'und', 'nicht', 'im', 'hauruckverfahren', 'ich', 'kann', 'verstehen', 'herr', 'kollege', 'schneider', 'dass', 'die', 'spd', 'möglichst', 'schnell', 'in', 'die', 'opposition', 'will', 'wir', 'werden', 'sie', 'dabei', 'unterstützen', 'aber', 'dieses', 'antrags', 'bedarf', 'es', 'dazu', 'nicht', 'drittens', 'zum', 'antrag', 'der', 'linken', 'auf', 'unmittelbare', 'einsetzung', 'der', 'vier', 'im', 'grundgesetz', 'genannten', 'ausschüsse', 'ich', 'möchte', 'betonen', 'dieser', 'bundestag', 'der', '19', 'deutsche', 'bundestag', 'ist', 'ab', 'heute', 'jederzeit', 'in', 'der', 'lage', 'zu', 'arbeiten', 'und', 'entscheidungen', 'zu', 'treffen', 'er', 'ist', 'arbeitsfähig', 'und', 'entscheidungsfähig', 'um', 'das', 'einmal', 'klar', 'zu', 'sagen', 'sie', 'haben', 'hier', 'suggeriert', 'wir', 'müssten', 'diese', 'ausschüsse', 'einsetzen', 'das', 'müssen', 'wir', 'nicht', 'es', 'gibt', 'keine', 'fristen', 'im', 'grundgesetz', 'oder', 'sonst', 'wo', 'die', 'uns', 'vorgeben', 'diese', 'ausschüsse', 'heute', 'einzusetzen', 'wir', 'haben', 'eine', 'parlamentarische', 'gepflogenheit', 'ausschüsse', 'spiegelbildlich', 'zu', 'den', 'vorhandenen', 'ministerien', 'einzusetzen', 'wenn', 'die', 'aber', 'noch', 'nicht', 'da', 'sind', 'wird', 'es', 'schwierig', 'mit', 'dieser', 'parlamentarischen', 'gepflogenheit', 'deswegen', 'bin', 'ich', 'dafür', 'wir', 'machen', 'es', 'so', 'wie', 'es', 'sich', 'bewährt', 'hat', 'ich', 'denke', 'der', 'parlamentarischen', 'praxis', 'ist', 'hier', 'erneut', 'vorrang', 'einzuräumen', 'einzelne', 'fachausschüsse', 'vorzuziehen', 'dieses', 'schrittes', 'bedarf', 'es', 'nicht', 'abschließend', 'zum', 'antrag', 'der', 'afd', 'zu', 'minderheitenrechten', 'aufgrund', 'einer', 'starken', 'großen', 'koalition', 'bestand', 'in', 'der', '18', 'wahlperiode', 'anlass', 'darüber', 'nachzudenken', 'ob', 'minderheitenrechte', 'in', 'ausreichendem', 'maße', 'gewährleistet', 'werden', 'können', 'zugegeben', 'bei', 'einer', 'damals', 'recht', 'kleinen', 'opposition', 'die', 'minderheitenrechte', 'waren', 'reaktion', 'auf', 'mehrheitsverhältnisse', 'und', 'es', 'gibt', 'deshalb', 'auch', 'keinen', 'grund', 'sie', 'zu', 'verlängern', 'die', '\\xadgroko', 'ist', 'nicht', 'mehr', 'vorhanden', 'interessant', 'ist', 'ja', 'auch', 'dass', 'die', 'afd', 'das', 'quorum', 'auf', '65', 'abgeordnete', 'senken', 'will', 'möglicherweise', 'ist', 'das', 'die', 'vorbeugende', 'reaktion', 'auf', 'weitere', 'austritte', 'aus', 'ihrer', 'fraktion', 'das', 'weiß', 'ich', 'nicht', 'mal', 'sehen', 'ob', 'bei', '65', 'schluss', 'ist', 'sie', 'haben', 'ja', 'noch', 'ausreichend', 'zeit', 'meine', 'damen', 'und', 'herren', 'liebe', 'kolleginnen', 'und', 'kollegen', 'die', 'anträge', 'die', 'wir', 'hier', 'vorgestellt', 'bekommen', 'haben', 'gehören', 'nicht', 'in', 'die', 'konstituierende', 'sitzung', 'wir', 'haben', 'viel', 'wichtigeres', 'zu', 'tun', 'sie', 'gehören', 'in', 'ruhe', 'beraten', 'damit', 'man', 'sich', 'auch', 'fachlich', 'damit', 'auseinandersetzen', 'kann', 'dafür', 'sorgen', 'wir', 'als', 'cducsubundestagsfraktion', 'vielen', 'dank']",
         "656"
        ],
        [
         "9",
         "5f5b69d6-028a-4233-612b-08da102a68d8",
         "11003764",
         "Sehr geehrter Herr Präsident! Meine Damen und Herren! Kommen wir einmal zum Kern der Debatte zurück.\nEs geht um das Thema Parlamentsrechte. Das, was wir in den letzten vier Jahren erlebt haben, war kein Glanzstück parlamentarischer Auseinandersetzung, wenn damit inhaltliche Debatten gemeint sind.\nDeshalb ist es gut, wenn wir uns alle wechselseitig daran erinnern – auch die, die heute vielleicht andere Rollen einnehmen, und all die, die noch nicht wissen, welche Rolle sie einnehmen werden –, was für ermüdende und langatmige Debatten wir hier in Zeiten dieser so Großen Koalition geführt haben. Ich kann mich sehr gut an die vielen Vorstöße aus unserer Fraktion erinnern, das Thema „Rechte des Parlaments stärken“ hier mehrheitsfähig zu machen. Wir sind leider immer wieder damit gescheitert; ich nenne nur: das Thema Parlamentskultur, die Frage der Debattenkultur, die Frage nach Transparenz und Öffentlichkeit von Ausschüssen und auch das Fragerecht oder die Regierungsbefragung. Außer mit dem Bundestagspräsidenten a. D., der auf der Tribüne sitzt, und vielleicht Einzelnen aus den Fraktionen gab es keine Übereinstimmung in dieser Frage. Und deshalb ist die Regierungsbefragung so, wie sie immer war, auch heute noch. Da braucht es dringend eine Änderung. Das sehen auch Bündnis 90/Die Grünen so.\nMeine Damen und Herren, ich wüsste nicht – deshalb kann ich das Gefeixe aus den Reihen der SPD gar nicht verstehen –, warum wir heute einfach Ihrem Antrag oder aber – es liegen ja zwei Anträge vor – dem Antrag der Linken folgen sollten, der wiederum anders ist. Auch wir haben Vorschläge zur Regierungsbefragung und zur Fragestunde gemacht. Im Antrag der SPD finden sich unsere Punkte nicht in Gänze wieder. Warum haben Sie in Ihrem Antrag zum Beispiel auf die Abschaffung der Konsumtionsregel verzichtet? Das ist doch ein wichtiges Instrument, gerade für die Opposition, meine Damen und Herren.\nOder warum wollen Sie die Dringlichen Fragen abschaffen?\nDas ist ein super Instrument für die Opposition; das würde ich mir noch mal überlegen.\nDie Frage ist auch: Warum wollen Sie eigentlich keine Befragung zu europäischen Themen?\nWir haben doch hier im Parlament den Anspruch, europäische Themen zu beraten, meine Damen und Herren.\nAlso jetzt mal Karten auf den Tisch: Warum sind all diese Sachen in Ihrem Antrag nicht enthalten?\nWarum die Lacherei darüber, dass Sie uns hier heute vorführen wollen? Das ist doch absurd. Ich möchte mit Ihnen darüber diskutieren, warum Sie auf all diese wesentlichen Sachen verzichten wollen.\nIch möchte mit der CDU/CSU darüber diskutieren, dass bei diesem Thema – auch bei der CDU/CSU – mal langsam ein bisschen Bewegung aufkommen muss, dass wir hier eine Veränderung brauchen. Herr Buschmann hat ja schon für die FDP erklärt, dass auch sie sich beim Thema Regierungsbefragung und Fragestunde etwas anderes vorstellt.\nDeshalb habe ich kein Verständnis dafür, liebe Kolleginnen und Kollegen von SPD und Linken, warum Sie meinem Vorschlag im Vor-Ältestenrat nicht gefolgt sind, es zu überweisen, sich alle Vorschläge aller Fraktionen im Deutschen Bundestag anzuschauen und dann sehr zeitnah darüber zu reden, wie wir es wirklich ändern.\nSie wollten uns mit der Geschichte heute einfach vorführen, und da machen wir nicht mit – deshalb der Antrag auf Überweisung.\nIch meine das sehr ernst und sehr eindrücklich: Ich wünsche mir, dass wir zur Stärkung des Parlamentes etwas verändern, dass wir beim Thema Transparenz etwas verändern. Dazu gehört die Regierungsbefragung, dazu hat unsere Fraktion auch noch weiter gehende Vorstellungen. Ich fände es toll, wir berieten das sehr zeitnah und in Ruhe, meine Damen und Herren.\nJetzt noch zum Antrag auf Einsetzung der Ausschüsse. Jan Korte, es ist ja nicht so, dass Sie den Antrag stellen, Ausschüsse einzusetzen. Nein, Sie beantragen, dass vier Ausschüsse in der Geschäftsordnung zwingend festgelegt werden. Wir sollten mal in Ruhe darüber diskutieren, warum es eigentlich diese vier Ausschüsse sein sollen, deren Einsetzung Sie heute fordern,\nwarum es zum Beispiel nicht der Geschäftsordnungs- und der Immunitätsausschuss sind.\nEs gibt ab heute hier im Haus allein zwei oder drei Mitglieder – das habe ich der Presse entnommen –, deren Angelegenheiten wir im Immunitätsausschuss zwingend diskutieren müssten, nicht hier im Plenum.\nIch fände es gut, wenn wir darüber mal in Ruhe redeten.\nMeine Damen und Herren, ich finde, wir sollten uns im Deutschen Bundestag sehr zeitnah wieder mit der Frage der Änderungen bei Transparenz und Parlamentsrechten befassen, nachdem alle Fraktionen ihre Vorstellungen eingebracht haben, damit wir es dann hoffentlich sehr schnell zu einem Ergebnis führen.\nDanke.\nWir kommen nun zur Abstimmung.\nÄnderungsantrag der Fraktion der SPD auf Drucksache 19/8 mit dem Titel „Weitergeltung von Geschäftsordnungsrecht“ – Fragestunde und Befragung der Bundesregierung. Die Fraktion der SPD wünscht Abstimmung in der Sache. Die Fraktionen der CDU/CSU, des Bündnisses 90/Die Grünen und der FDP wünschen Überweisung an den Ältestenrat.\nWir stimmen nach ständiger Übung zuerst über den Antrag auf Ausschussüberweisung ab. Ich frage deshalb: Wer stimmt für den Antrag der drei genannten Fraktionen auf Überweisung in den Ältestenrat? – Gegenstimmen? – Enthaltungen? – Damit ist der Antrag mit den Stimmen der Fraktionen der CDU/CSU, der FDP und des Bündnisses 90/Die Grünen gegen die Stimmen der SPD, der AfD und der Linken angenommen.\nDamit stimmen wir heute über den Antrag auf Drucksache 19/8 nicht in der Sache ab.\nÄnderungsantrag der Fraktion der AfD auf Drucksache 19/4 mit dem Titel „Weitergeltung von Geschäftsordnungsrecht (Alterspräsident)“. Die Fraktion der AfD wünscht, über ihren Antrag in der Sache abzustimmen. Die Fraktionen CDU/CSU, Bündnis 90/Die Grünen und FDP wünschen Überweisung an den Ältestenrat.\nWir stimmen nach ständiger Übung zuerst über den Antrag auf Überweisung ab. Wer stimmt dem Antrag auf Überweisung zu? – Gegenstimmen? – Enthaltungen? – Der Antrag ist angenommen mit den Stimmen der CDU/CSU-Fraktion, FDP-Fraktion, der Linken und Grünen bei Gegenstimmen bei AfD und SPD und bei Enthaltung der Fraktionslosen.\nÄnderungsantrag der Fraktion der AfD auf Drucksache 19/5 mit dem Titel „Weitergeltung von Geschäftsordnungsrecht (Minderheitenrechte)“. Die Fraktionen der CDU/CSU, des Bündnisses 90/Die Grünen und der FDP wünschen Überweisung an den Ältestenrat. Die Fraktion der AfD wünscht Überweisung an den Ausschuss für Wahlprüfung, Immunität und Geschäftsordnung.\nIch lasse zuerst abstimmen über den Antrag der Fraktion der AfD auf Überweisung an den Ausschuss für Wahlprüfung, Immunität und Geschäftsordnung. Wer stimmt für diesen Überweisungsvorschlag? – Wer stimmt dagegen? – Enthaltungen? – Der Überweisungsvorschlag ist mit den Stimmen aller Fraktionen gegen die Stimmen der Fraktion der AfD bei Enthaltung der Fraktionslosen abgelehnt worden.\nIch lasse nun abstimmen über den Überweisungsvorschlag der Fraktionen der CDU/CSU, der FDP und des Bündnisses 90/Die Grünen. Wer stimmt für diesen Überweisungsvorschlag? – Gegenstimmen? – Enthaltungen? – Der Überweisungsvorschlag ist angenommen mit den Stimmen der CDU/CSU, der FDP, des Bündnisses 90/Die Grünen und der Fraktion Die Linke bei Gegenstimmen der SPD-Fraktion und Enthaltung der AfD – sowie der beiden fraktionslosen Abgeordneten; die sehe ich immer nicht.\nÄnderungsantrag der Fraktion Die Linke auf Drucksache 19/6 mit dem Titel „Weitergeltung von Geschäftsordnungsrecht (Einsetzung der vom Grundgesetz vorgeschriebenen Ausschüsse in der konstituierenden Sitzung)“. Die Fraktion Die Linke wünscht Abstimmung in der Sache. Die Fraktionen CDU/CSU, FDP und Bündnis 90/Die Grünen wünschen Überweisung an den Ältestenrat.\nAuch hier stimmen wir nach ständiger Übung zuerst über den Antrag auf Ausschussüberweisung ab. Ich frage deshalb: Wer stimmt für die beantragte Überweisung? – Gegenstimmen? – Enthaltungen? – Die Überweisung ist angenommen mit den Stimmen der Fraktionen CDU/CSU, FDP und Bündnis 90/Die Grünen bei Gegenstimmen von SPD, AfD und der Fraktion Die Linke und – jetzt sehe ich sie – bei Enthaltung der zwei fraktionslosen Abgeordneten.\nÄnderungsantrag der Fraktion Die Linke auf Drucksache 19/7 mit dem Titel „Weitergeltung von Geschäftsordnungsrecht (Fragestunde und Befragung der Bundesregierung)“. Die Fraktion Die Linke wünscht Abstimmung in der Sache. Die Fraktionen CDU/CSU, FDP und Bündnis 90/Die Grünen wünschen Überweisung an den Ältestenrat. Wer stimmt für diesen Überweisungsvorschlag? – Gegenstimmen? – Enthaltungen? – Dann ist der Antrag angenommen mit den Stimmen von CDU/CSU, FDP und Bündnis 90/Die Grünen gegen die Stimmen der anderen Fraktionen, keine Enthaltungen.\n",
         "19",
         "1",
         "2",
         "11003764",
         "Britta",
         "Haßelmann",
         "BÜNDNIS 90/DIE GRÜNEN",
         "Bündnis 90 / Die Grünen",
         "sehr geehrter herr präsident meine damen und herren kommen wir einmal zum kern der debatte zurück\nes geht um das thema parlamentsrechte das was wir in den letzten vier jahren erlebt haben war kein glanzstück parlamentarischer auseinandersetzung wenn damit inhaltliche debatten gemeint sind\ndeshalb ist es gut wenn wir uns alle wechselseitig daran erinnern – auch die die heute vielleicht andere rollen einnehmen und all die die noch nicht wissen welche rolle sie einnehmen werden – was für ermüdende und langatmige debatten wir hier in zeiten dieser so großen koalition geführt haben ich kann mich sehr gut an die vielen vorstöße aus unserer fraktion erinnern das thema „rechte des parlaments stärken“ hier mehrheitsfähig zu machen wir sind leider immer wieder damit gescheitert ich nenne nur das thema parlamentskultur die frage der debattenkultur die frage nach transparenz und öffentlichkeit von ausschüssen und auch das fragerecht oder die regierungsbefragung außer mit dem bundestagspräsidenten a d der auf der tribüne sitzt und vielleicht einzelnen aus den fraktionen gab es keine übereinstimmung in dieser frage und deshalb ist die regierungsbefragung so wie sie immer war auch heute noch da braucht es dringend eine änderung das sehen auch bündnis 90die grünen so\nmeine damen und herren ich wüsste nicht – deshalb kann ich das gefeixe aus den reihen der spd gar nicht verstehen – warum wir heute einfach ihrem antrag oder aber – es liegen ja zwei anträge vor – dem antrag der linken folgen sollten der wiederum anders ist auch wir haben vorschläge zur regierungsbefragung und zur fragestunde gemacht im antrag der spd finden sich unsere punkte nicht in gänze wieder warum haben sie in ihrem antrag zum beispiel auf die abschaffung der konsumtionsregel verzichtet das ist doch ein wichtiges instrument gerade für die opposition meine damen und herren\noder warum wollen sie die dringlichen fragen abschaffen\ndas ist ein super instrument für die opposition das würde ich mir noch mal überlegen\ndie frage ist auch warum wollen sie eigentlich keine befragung zu europäischen themen\nwir haben doch hier im parlament den anspruch europäische themen zu beraten meine damen und herren\nalso jetzt mal karten auf den tisch warum sind all diese sachen in ihrem antrag nicht enthalten\nwarum die lacherei darüber dass sie uns hier heute vorführen wollen das ist doch absurd ich möchte mit ihnen darüber diskutieren warum sie auf all diese wesentlichen sachen verzichten wollen\nich möchte mit der cducsu darüber diskutieren dass bei diesem thema – auch bei der cducsu – mal langsam ein bisschen bewegung aufkommen muss dass wir hier eine veränderung brauchen herr buschmann hat ja schon für die fdp erklärt dass auch sie sich beim thema regierungsbefragung und fragestunde etwas anderes vorstellt\ndeshalb habe ich kein verständnis dafür liebe kolleginnen und kollegen von spd und linken warum sie meinem vorschlag im vorältestenrat nicht gefolgt sind es zu überweisen sich alle vorschläge aller fraktionen im deutschen bundestag anzuschauen und dann sehr zeitnah darüber zu reden wie wir es wirklich ändern\nsie wollten uns mit der geschichte heute einfach vorführen und da machen wir nicht mit – deshalb der antrag auf überweisung\nich meine das sehr ernst und sehr eindrücklich ich wünsche mir dass wir zur stärkung des parlamentes etwas verändern dass wir beim thema transparenz etwas verändern dazu gehört die regierungsbefragung dazu hat unsere fraktion auch noch weiter gehende vorstellungen ich fände es toll wir berieten das sehr zeitnah und in ruhe meine damen und herren\njetzt noch zum antrag auf einsetzung der ausschüsse jan korte es ist ja nicht so dass sie den antrag stellen ausschüsse einzusetzen nein sie beantragen dass vier ausschüsse in der geschäftsordnung zwingend festgelegt werden wir sollten mal in ruhe darüber diskutieren warum es eigentlich diese vier ausschüsse sein sollen deren einsetzung sie heute fordern\nwarum es zum beispiel nicht der geschäftsordnungs und der immunitätsausschuss sind\nes gibt ab heute hier im haus allein zwei oder drei mitglieder – das habe ich der presse entnommen – deren angelegenheiten wir im immunitätsausschuss zwingend diskutieren müssten nicht hier im plenum\nich fände es gut wenn wir darüber mal in ruhe redeten\nmeine damen und herren ich finde wir sollten uns im deutschen bundestag sehr zeitnah wieder mit der frage der änderungen bei transparenz und parlamentsrechten befassen nachdem alle fraktionen ihre vorstellungen eingebracht haben damit wir es dann hoffentlich sehr schnell zu einem ergebnis führen\ndanke\nwir kommen nun zur abstimmung\nänderungsantrag der fraktion der spd auf drucksache 198 mit dem titel „weitergeltung von geschäftsordnungsrecht“ – fragestunde und befragung der bundesregierung die fraktion der spd wünscht abstimmung in der sache die fraktionen der cducsu des bündnisses 90die grünen und der fdp wünschen überweisung an den ältestenrat\nwir stimmen nach ständiger übung zuerst über den antrag auf ausschussüberweisung ab ich frage deshalb wer stimmt für den antrag der drei genannten fraktionen auf überweisung in den ältestenrat – gegenstimmen – enthaltungen – damit ist der antrag mit den stimmen der fraktionen der cducsu der fdp und des bündnisses 90die grünen gegen die stimmen der spd der afd und der linken angenommen\ndamit stimmen wir heute über den antrag auf drucksache 198 nicht in der sache ab\nänderungsantrag der fraktion der afd auf drucksache 194 mit dem titel „weitergeltung von geschäftsordnungsrecht alterspräsident“ die fraktion der afd wünscht über ihren antrag in der sache abzustimmen die fraktionen cducsu bündnis 90die grünen und fdp wünschen überweisung an den ältestenrat\nwir stimmen nach ständiger übung zuerst über den antrag auf überweisung ab wer stimmt dem antrag auf überweisung zu – gegenstimmen – enthaltungen – der antrag ist angenommen mit den stimmen der cducsufraktion fdpfraktion der linken und grünen bei gegenstimmen bei afd und spd und bei enthaltung der fraktionslosen\nänderungsantrag der fraktion der afd auf drucksache 195 mit dem titel „weitergeltung von geschäftsordnungsrecht minderheitenrechte“ die fraktionen der cducsu des bündnisses 90die grünen und der fdp wünschen überweisung an den ältestenrat die fraktion der afd wünscht überweisung an den ausschuss für wahlprüfung immunität und geschäftsordnung\nich lasse zuerst abstimmen über den antrag der fraktion der afd auf überweisung an den ausschuss für wahlprüfung immunität und geschäftsordnung wer stimmt für diesen überweisungsvorschlag – wer stimmt dagegen – enthaltungen – der überweisungsvorschlag ist mit den stimmen aller fraktionen gegen die stimmen der fraktion der afd bei enthaltung der fraktionslosen abgelehnt worden\nich lasse nun abstimmen über den überweisungsvorschlag der fraktionen der cducsu der fdp und des bündnisses 90die grünen wer stimmt für diesen überweisungsvorschlag – gegenstimmen – enthaltungen – der überweisungsvorschlag ist angenommen mit den stimmen der cducsu der fdp des bündnisses 90die grünen und der fraktion die linke bei gegenstimmen der spdfraktion und enthaltung der afd – sowie der beiden fraktionslosen abgeordneten die sehe ich immer nicht\nänderungsantrag der fraktion die linke auf drucksache 196 mit dem titel „weitergeltung von geschäftsordnungsrecht einsetzung der vom grundgesetz vorgeschriebenen ausschüsse in der konstituierenden sitzung“ die fraktion die linke wünscht abstimmung in der sache die fraktionen cducsu fdp und bündnis 90die grünen wünschen überweisung an den ältestenrat\nauch hier stimmen wir nach ständiger übung zuerst über den antrag auf ausschussüberweisung ab ich frage deshalb wer stimmt für die beantragte überweisung – gegenstimmen – enthaltungen – die überweisung ist angenommen mit den stimmen der fraktionen cducsu fdp und bündnis 90die grünen bei gegenstimmen von spd afd und der fraktion die linke und – jetzt sehe ich sie – bei enthaltung der zwei fraktionslosen abgeordneten\nänderungsantrag der fraktion die linke auf drucksache 197 mit dem titel „weitergeltung von geschäftsordnungsrecht fragestunde und befragung der bundesregierung“ die fraktion die linke wünscht abstimmung in der sache die fraktionen cducsu fdp und bündnis 90die grünen wünschen überweisung an den ältestenrat wer stimmt für diesen überweisungsvorschlag – gegenstimmen – enthaltungen – dann ist der antrag angenommen mit den stimmen von cducsu fdp und bündnis 90die grünen gegen die stimmen der anderen fraktionen keine enthaltungen\n",
         "['sehr', 'geehrter', 'herr', 'präsident', 'meine', 'damen', 'und', 'herren', 'kommen', 'wir', 'einmal', 'zum', 'kern', 'der', 'debatte', 'zurück', 'es', 'geht', 'um', 'das', 'thema', 'parlamentsrechte', 'das', 'was', 'wir', 'in', 'den', 'letzten', 'vier', 'jahren', 'erlebt', 'haben', 'war', 'kein', 'glanzstück', 'parlamentarischer', 'auseinandersetzung', 'wenn', 'damit', 'inhaltliche', 'debatten', 'gemeint', 'sind', 'deshalb', 'ist', 'es', 'gut', 'wenn', 'wir', 'uns', 'alle', 'wechselseitig', 'daran', 'erinnern', '–', 'auch', 'die', 'die', 'heute', 'vielleicht', 'andere', 'rollen', 'einnehmen', 'und', 'all', 'die', 'die', 'noch', 'nicht', 'wissen', 'welche', 'rolle', 'sie', 'einnehmen', 'werden', '–', 'was', 'für', 'ermüdende', 'und', 'langatmige', 'debatten', 'wir', 'hier', 'in', 'zeiten', 'dieser', 'so', 'großen', 'koalition', 'geführt', 'haben', 'ich', 'kann', 'mich', 'sehr', 'gut', 'an', 'die', 'vielen', 'vorstöße', 'aus', 'unserer', 'fraktion', 'erinnern', 'das', 'thema', '„rechte', 'des', 'parlaments', 'stärken“', 'hier', 'mehrheitsfähig', 'zu', 'machen', 'wir', 'sind', 'leider', 'immer', 'wieder', 'damit', 'gescheitert', 'ich', 'nenne', 'nur', 'das', 'thema', 'parlamentskultur', 'die', 'frage', 'der', 'debattenkultur', 'die', 'frage', 'nach', 'transparenz', 'und', 'öffentlichkeit', 'von', 'ausschüssen', 'und', 'auch', 'das', 'fragerecht', 'oder', 'die', 'regierungsbefragung', 'außer', 'mit', 'dem', 'bundestagspräsidenten', 'a', 'd', 'der', 'auf', 'der', 'tribüne', 'sitzt', 'und', 'vielleicht', 'einzelnen', 'aus', 'den', 'fraktionen', 'gab', 'es', 'keine', 'übereinstimmung', 'in', 'dieser', 'frage', 'und', 'deshalb', 'ist', 'die', 'regierungsbefragung', 'so', 'wie', 'sie', 'immer', 'war', 'auch', 'heute', 'noch', 'da', 'braucht', 'es', 'dringend', 'eine', 'änderung', 'das', 'sehen', 'auch', 'bündnis', '90die', 'grünen', 'so', 'meine', 'damen', 'und', 'herren', 'ich', 'wüsste', 'nicht', '–', 'deshalb', 'kann', 'ich', 'das', 'gefeixe', 'aus', 'den', 'reihen', 'der', 'spd', 'gar', 'nicht', 'verstehen', '–', 'warum', 'wir', 'heute', 'einfach', 'ihrem', 'antrag', 'oder', 'aber', '–', 'es', 'liegen', 'ja', 'zwei', 'anträge', 'vor', '–', 'dem', 'antrag', 'der', 'linken', 'folgen', 'sollten', 'der', 'wiederum', 'anders', 'ist', 'auch', 'wir', 'haben', 'vorschläge', 'zur', 'regierungsbefragung', 'und', 'zur', 'fragestunde', 'gemacht', 'im', 'antrag', 'der', 'spd', 'finden', 'sich', 'unsere', 'punkte', 'nicht', 'in', 'gänze', 'wieder', 'warum', 'haben', 'sie', 'in', 'ihrem', 'antrag', 'zum', 'beispiel', 'auf', 'die', 'abschaffung', 'der', 'konsumtionsregel', 'verzichtet', 'das', 'ist', 'doch', 'ein', 'wichtiges', 'instrument', 'gerade', 'für', 'die', 'opposition', 'meine', 'damen', 'und', 'herren', 'oder', 'warum', 'wollen', 'sie', 'die', 'dringlichen', 'fragen', 'abschaffen', 'das', 'ist', 'ein', 'super', 'instrument', 'für', 'die', 'opposition', 'das', 'würde', 'ich', 'mir', 'noch', 'mal', 'überlegen', 'die', 'frage', 'ist', 'auch', 'warum', 'wollen', 'sie', 'eigentlich', 'keine', 'befragung', 'zu', 'europäischen', 'themen', 'wir', 'haben', 'doch', 'hier', 'im', 'parlament', 'den', 'anspruch', 'europäische', 'themen', 'zu', 'beraten', 'meine', 'damen', 'und', 'herren', 'also', 'jetzt', 'mal', 'karten', 'auf', 'den', 'tisch', 'warum', 'sind', 'all', 'diese', 'sachen', 'in', 'ihrem', 'antrag', 'nicht', 'enthalten', 'warum', 'die', 'lacherei', 'darüber', 'dass', 'sie', 'uns', 'hier', 'heute', 'vorführen', 'wollen', 'das', 'ist', 'doch', 'absurd', 'ich', 'möchte', 'mit', 'ihnen', 'darüber', 'diskutieren', 'warum', 'sie', 'auf', 'all', 'diese', 'wesentlichen', 'sachen', 'verzichten', 'wollen', 'ich', 'möchte', 'mit', 'der', 'cducsu', 'darüber', 'diskutieren', 'dass', 'bei', 'diesem', 'thema', '–', 'auch', 'bei', 'der', 'cducsu', '–', 'mal', 'langsam', 'ein', 'bisschen', 'bewegung', 'aufkommen', 'muss', 'dass', 'wir', 'hier', 'eine', 'veränderung', 'brauchen', 'herr', 'buschmann', 'hat', 'ja', 'schon', 'für', 'die', 'fdp', 'erklärt', 'dass', 'auch', 'sie', 'sich', 'beim', 'thema', 'regierungsbefragung', 'und', 'fragestunde', 'etwas', 'anderes', 'vorstellt', 'deshalb', 'habe', 'ich', 'kein', 'verständnis', 'dafür', 'liebe', 'kolleginnen', 'und', 'kollegen', 'von', 'spd', 'und', 'linken', 'warum', 'sie', 'meinem', 'vorschlag', 'im', 'vorältestenrat', 'nicht', 'gefolgt', 'sind', 'es', 'zu', 'überweisen', 'sich', 'alle', 'vorschläge', 'aller', 'fraktionen', 'im', 'deutschen', 'bundestag', 'anzuschauen', 'und', 'dann', 'sehr', 'zeitnah', 'darüber', 'zu', 'reden', 'wie', 'wir', 'es', 'wirklich', 'ändern', 'sie', 'wollten', 'uns', 'mit', 'der', 'geschichte', 'heute', 'einfach', 'vorführen', 'und', 'da', 'machen', 'wir', 'nicht', 'mit', '–', 'deshalb', 'der', 'antrag', 'auf', 'überweisung', 'ich', 'meine', 'das', 'sehr', 'ernst', 'und', 'sehr', 'eindrücklich', 'ich', 'wünsche', 'mir', 'dass', 'wir', 'zur', 'stärkung', 'des', 'parlamentes', 'etwas', 'verändern', 'dass', 'wir', 'beim', 'thema', 'transparenz', 'etwas', 'verändern', 'dazu', 'gehört', 'die', 'regierungsbefragung', 'dazu', 'hat', 'unsere', 'fraktion', 'auch', 'noch', 'weiter', 'gehende', 'vorstellungen', 'ich', 'fände', 'es', 'toll', 'wir', 'berieten', 'das', 'sehr', 'zeitnah', 'und', 'in', 'ruhe', 'meine', 'damen', 'und', 'herren', 'jetzt', 'noch', 'zum', 'antrag', 'auf', 'einsetzung', 'der', 'ausschüsse', 'jan', 'korte', 'es', 'ist', 'ja', 'nicht', 'so', 'dass', 'sie', 'den', 'antrag', 'stellen', 'ausschüsse', 'einzusetzen', 'nein', 'sie', 'beantragen', 'dass', 'vier', 'ausschüsse', 'in', 'der', 'geschäftsordnung', 'zwingend', 'festgelegt', 'werden', 'wir', 'sollten', 'mal', 'in', 'ruhe', 'darüber', 'diskutieren', 'warum', 'es', 'eigentlich', 'diese', 'vier', 'ausschüsse', 'sein', 'sollen', 'deren', 'einsetzung', 'sie', 'heute', 'fordern', 'warum', 'es', 'zum', 'beispiel', 'nicht', 'der', 'geschäftsordnungs', 'und', 'der', 'immunitätsausschuss', 'sind', 'es', 'gibt', 'ab', 'heute', 'hier', 'im', 'haus', 'allein', 'zwei', 'oder', 'drei', 'mitglieder', '–', 'das', 'habe', 'ich', 'der', 'presse', 'entnommen', '–', 'deren', 'angelegenheiten', 'wir', 'im', 'immunitätsausschuss', 'zwingend', 'diskutieren', 'müssten', 'nicht', 'hier', 'im', 'plenum', 'ich', 'fände', 'es', 'gut', 'wenn', 'wir', 'darüber', 'mal', 'in', 'ruhe', 'redeten', 'meine', 'damen', 'und', 'herren', 'ich', 'finde', 'wir', 'sollten', 'uns', 'im', 'deutschen', 'bundestag', 'sehr', 'zeitnah', 'wieder', 'mit', 'der', 'frage', 'der', 'änderungen', 'bei', 'transparenz', 'und', 'parlamentsrechten', 'befassen', 'nachdem', 'alle', 'fraktionen', 'ihre', 'vorstellungen', 'eingebracht', 'haben', 'damit', 'wir', 'es', 'dann', 'hoffentlich', 'sehr', 'schnell', 'zu', 'einem', 'ergebnis', 'führen', 'danke', 'wir', 'kommen', 'nun', 'zur', 'abstimmung', 'änderungsantrag', 'der', 'fraktion', 'der', 'spd', 'auf', 'drucksache', '198', 'mit', 'dem', 'titel', '„weitergeltung', 'von', 'geschäftsordnungsrecht“', '–', 'fragestunde', 'und', 'befragung', 'der', 'bundesregierung', 'die', 'fraktion', 'der', 'spd', 'wünscht', 'abstimmung', 'in', 'der', 'sache', 'die', 'fraktionen', 'der', 'cducsu', 'des', 'bündnisses', '90die', 'grünen', 'und', 'der', 'fdp', 'wünschen', 'überweisung', 'an', 'den', 'ältestenrat', 'wir', 'stimmen', 'nach', 'ständiger', 'übung', 'zuerst', 'über', 'den', 'antrag', 'auf', 'ausschussüberweisung', 'ab', 'ich', 'frage', 'deshalb', 'wer', 'stimmt', 'für', 'den', 'antrag', 'der', 'drei', 'genannten', 'fraktionen', 'auf', 'überweisung', 'in', 'den', 'ältestenrat', '–', 'gegenstimmen', '–', 'enthaltungen', '–', 'damit', 'ist', 'der', 'antrag', 'mit', 'den', 'stimmen', 'der', 'fraktionen', 'der', 'cducsu', 'der', 'fdp', 'und', 'des', 'bündnisses', '90die', 'grünen', 'gegen', 'die', 'stimmen', 'der', 'spd', 'der', 'afd', 'und', 'der', 'linken', 'angenommen', 'damit', 'stimmen', 'wir', 'heute', 'über', 'den', 'antrag', 'auf', 'drucksache', '198', 'nicht', 'in', 'der', 'sache', 'ab', 'änderungsantrag', 'der', 'fraktion', 'der', 'afd', 'auf', 'drucksache', '194', 'mit', 'dem', 'titel', '„weitergeltung', 'von', 'geschäftsordnungsrecht', 'alterspräsident“', 'die', 'fraktion', 'der', 'afd', 'wünscht', 'über', 'ihren', 'antrag', 'in', 'der', 'sache', 'abzustimmen', 'die', 'fraktionen', 'cducsu', 'bündnis', '90die', 'grünen', 'und', 'fdp', 'wünschen', 'überweisung', 'an', 'den', 'ältestenrat', 'wir', 'stimmen', 'nach', 'ständiger', 'übung', 'zuerst', 'über', 'den', 'antrag', 'auf', 'überweisung', 'ab', 'wer', 'stimmt', 'dem', 'antrag', 'auf', 'überweisung', 'zu', '–', 'gegenstimmen', '–', 'enthaltungen', '–', 'der', 'antrag', 'ist', 'angenommen', 'mit', 'den', 'stimmen', 'der', 'cducsufraktion', 'fdpfraktion', 'der', 'linken', 'und', 'grünen', 'bei', 'gegenstimmen', 'bei', 'afd', 'und', 'spd', 'und', 'bei', 'enthaltung', 'der', 'fraktionslosen', 'änderungsantrag', 'der', 'fraktion', 'der', 'afd', 'auf', 'drucksache', '195', 'mit', 'dem', 'titel', '„weitergeltung', 'von', 'geschäftsordnungsrecht', 'minderheitenrechte“', 'die', 'fraktionen', 'der', 'cducsu', 'des', 'bündnisses', '90die', 'grünen', 'und', 'der', 'fdp', 'wünschen', 'überweisung', 'an', 'den', 'ältestenrat', 'die', 'fraktion', 'der', 'afd', 'wünscht', 'überweisung', 'an', 'den', 'ausschuss', 'für', 'wahlprüfung', 'immunität', 'und', 'geschäftsordnung', 'ich', 'lasse', 'zuerst', 'abstimmen', 'über', 'den', 'antrag', 'der', 'fraktion', 'der', 'afd', 'auf', 'überweisung', 'an', 'den', 'ausschuss', 'für', 'wahlprüfung', 'immunität', 'und', 'geschäftsordnung', 'wer', 'stimmt', 'für', 'diesen', 'überweisungsvorschlag', '–', 'wer', 'stimmt', 'dagegen', '–', 'enthaltungen', '–', 'der', 'überweisungsvorschlag', 'ist', 'mit', 'den', 'stimmen', 'aller', 'fraktionen', 'gegen', 'die', 'stimmen', 'der', 'fraktion', 'der', 'afd', 'bei', 'enthaltung', 'der', 'fraktionslosen', 'abgelehnt', 'worden', 'ich', 'lasse', 'nun', 'abstimmen', 'über', 'den', 'überweisungsvorschlag', 'der', 'fraktionen', 'der', 'cducsu', 'der', 'fdp', 'und', 'des', 'bündnisses', '90die', 'grünen', 'wer', 'stimmt', 'für', 'diesen', 'überweisungsvorschlag', '–', 'gegenstimmen', '–', 'enthaltungen', '–', 'der', 'überweisungsvorschlag', 'ist', 'angenommen', 'mit', 'den', 'stimmen', 'der', 'cducsu', 'der', 'fdp', 'des', 'bündnisses', '90die', 'grünen', 'und', 'der', 'fraktion', 'die', 'linke', 'bei', 'gegenstimmen', 'der', 'spdfraktion', 'und', 'enthaltung', 'der', 'afd', '–', 'sowie', 'der', 'beiden', 'fraktionslosen', 'abgeordneten', 'die', 'sehe', 'ich', 'immer', 'nicht', 'änderungsantrag', 'der', 'fraktion', 'die', 'linke', 'auf', 'drucksache', '196', 'mit', 'dem', 'titel', '„weitergeltung', 'von', 'geschäftsordnungsrecht', 'einsetzung', 'der', 'vom', 'grundgesetz', 'vorgeschriebenen', 'ausschüsse', 'in', 'der', 'konstituierenden', 'sitzung“', 'die', 'fraktion', 'die', 'linke', 'wünscht', 'abstimmung', 'in', 'der', 'sache', 'die', 'fraktionen', 'cducsu', 'fdp', 'und', 'bündnis', '90die', 'grünen', 'wünschen', 'überweisung', 'an', 'den', 'ältestenrat', 'auch', 'hier', 'stimmen', 'wir', 'nach', 'ständiger', 'übung', 'zuerst', 'über', 'den', 'antrag', 'auf', 'ausschussüberweisung', 'ab', 'ich', 'frage', 'deshalb', 'wer', 'stimmt', 'für', 'die', 'beantragte', 'überweisung', '–', 'gegenstimmen', '–', 'enthaltungen', '–', 'die', 'überweisung', 'ist', 'angenommen', 'mit', 'den', 'stimmen', 'der', 'fraktionen', 'cducsu', 'fdp', 'und', 'bündnis', '90die', 'grünen', 'bei', 'gegenstimmen', 'von', 'spd', 'afd', 'und', 'der', 'fraktion', 'die', 'linke', 'und', '–', 'jetzt', 'sehe', 'ich', 'sie', '–', 'bei', 'enthaltung', 'der', 'zwei', 'fraktionslosen', 'abgeordneten', 'änderungsantrag', 'der', 'fraktion', 'die', 'linke', 'auf', 'drucksache', '197', 'mit', 'dem', 'titel', '„weitergeltung', 'von', 'geschäftsordnungsrecht', 'fragestunde', 'und', 'befragung', 'der', 'bundesregierung“', 'die', 'fraktion', 'die', 'linke', 'wünscht', 'abstimmung', 'in', 'der', 'sache', 'die', 'fraktionen', 'cducsu', 'fdp', 'und', 'bündnis', '90die', 'grünen', 'wünschen', 'überweisung', 'an', 'den', 'ältestenrat', 'wer', 'stimmt', 'für', 'diesen', 'überweisungsvorschlag', '–', 'gegenstimmen', '–', 'enthaltungen', '–', 'dann', 'ist', 'der', 'antrag', 'angenommen', 'mit', 'den', 'stimmen', 'von', 'cducsu', 'fdp', 'und', 'bündnis', '90die', 'grünen', 'gegen', 'die', 'stimmen', 'der', 'anderen', 'fraktionen', 'keine', 'enthaltungen']",
         "1289"
        ],
        [
         "10",
         "f7a0c67b-013b-4c14-0624-08da0f05b642",
         "11003790",
         "Herr Präsident! Liebe Kolleginnen und Kollegen! Sehr geehrte Damen und Herren! Bei aller Kritik an der parlamentarischen Demokratie, der Geschäftsordnung und vielem anderen mehr will ich zumindest an eines erinnern: Wir sitzen hier aufgrund von freien Wahlen. Das haben Millionen andere nicht.\nUnd wir sind dem Grundgesetz verpflichtet, das nicht einfach irgendein Gesetz ist, sondern das die humane und demokratische Antwort auf die Verheerung und die Leichenberge des NS-Faschismus gewesen ist. Das gilt es jeden Tag zu verteidigen.\nAber es gibt natürlich auch berechtigte Kritik an unserem Verfahren hier, am Parlamentarismus. Dieser müssen wir uns stellen, und wir müssen das bessern. Deswegen haben wir als Linke zwei Änderungsanträge eingebracht, die ich kurz vorstellen will.\nWir wollen das Ganze lebendiger machen. Wir brauchen natürlich wirklich eine bessere Kontrolle des Regierungshandelns, und wir müssen die Abgeordnetenrechte und den Bundestag als solchen stärken. Jeder, der einmal die Regierungsbefragung und die Fragestunde gesehen hat – oder besser gesagt: ertragen musste –, entweder live hier oder bei Phoenix, weiß, dass wir diese grundlegend reformieren müssen. Dazu hat der geschätzte Präsident Lammert viel Richtiges gesagt.\nDazu gehört zwingend, dass die Fraktionen, besonders natürlich die Oppositionsfraktionen, hier Themen vorschlagen können, die zum Beispiel – so sie denn gewählt ist – der Bundeskanzlerin und der Bundesregierung sehr unangenehm sind. Das ist ganz zentral.\nIch will eines sagen: Was wirklich nicht geht, ist, dass es eine Befragung der Bundeskanzlerin lediglich in der Bundespressekonferenz gibt. Das geht nicht, liebe Kolleginnen und Kollegen.\nIch glaube, wir sollten das auch noch aus einem anderen Grunde tun: Erstens wollen wir hier besser werden: besser arbeiten, bessern streiten, wofür man übrigens Sachargumente und viele Stunden Zeit braucht. Ich glaube ferner, dass es auch politisch sinnvoll ist, heute ein Zeichen an diejenigen zu senden, die sich abgewandt haben, die gar keine Teilhabe an dieser Demokratie mehr haben, die nicht mehr wählen gehen, die damit nichts mehr zu tun haben wollen. Dafür ist es, finde ich, das Mindeste, zu versuchen, es besser zu machen.\nIn diesem Zusammenhang komme ich zum zweiten Antrag, den meine Fraktion, Die Linke, einbringt. Wir möchten – so wie es im Grundgesetz vorgeschrieben ist – sofort, also heute, die vier im Grundgesetz zwingend vorgeschriebenen Ausschüsse des Bundestages einsetzen. Das sind der Auswärtige Ausschuss, der Europaausschuss, der Verteidigungsausschuss und der Petitionsausschuss.\nWarum? Erstens. Wir alle hier – deswegen sitzen wir zusammen – sind gewählt. Das hat nichts mit Koalitionsverhandlungen zu tun. Der Bundestag ist gewählt! Wir sollten mit der Arbeit beginnen, liebe Kolleginnen und Kollegen.\nZweitens. Wählerinnen und Wähler haben logischerweise gerade in diesen Zeiten einen Anspruch darauf, dass das Parlament arbeitet, dass wir miteinander streiten und ringen. Wir müssen in den nächsten Monaten Auslandseinsätze der Bundeswehr verlängern, besser: ablehnen. Aber dafür muss man beraten und Expertise einholen. Das ist doch eigentlich völlig logisch.\nOb Jamaika nun kommt oder nicht, werden wir alles sehen. Aber die Verhandlungen können doch nicht allen Ernstes dazu führen, dass wir monatelang den Bundestag in Geiselhaft nehmen, bis Sie Ihre Befindlichkeiten in Ihrer Koalition gelöst haben; das geht nicht. Lassen Sie uns als Bundestag arbeiten und streiten!\nDer letzte Punkt, den ich ansprechen möchte, ist: Das hat auch etwas mit dem Selbstbild des Bundestages zu tun. Sind wir als Abgeordnete so selbstbewusst, zu sagen: „Die innere Organisation des Bundestages hängt nicht an Koalitionsverhandlungen, egal wie sie aussehen“? Ich finde, dieses Selbstbewusstsein sollten wir haben, liebe Kolleginnen und Kollegen.\nDeswegen zielen unsere Anträge auf die Stärkung des Bundestages, auf mehr Diskurs in diesem Bundestag und heute vor allem als ein Zeichen an diejenigen, die sich abgewandt haben, aber für die wir auch hier sitzen und die wir zurückgewinnen müssen, für demokratische Lösungen, für Streit, für die Menschenwürde und für das Kenntlichmachen, wo in diesem Haus die fundamentalen Unterschiede liegen. Dafür ist erforderlich, dass wir als Bundestag beginnen, zu arbeiten. Das müsste doch eigentlich auf der Hand liegen. Deshalb bitte ich um Zustimmung für unsere Änderungsanträge.\n",
         "19",
         "1",
         "2",
         "11003790",
         "Jan",
         "Korte",
         "DIE LINKE.",
         null,
         "herr präsident liebe kolleginnen und kollegen sehr geehrte damen und herren bei aller kritik an der parlamentarischen demokratie der geschäftsordnung und vielem anderen mehr will ich zumindest an eines erinnern wir sitzen hier aufgrund von freien wahlen das haben millionen andere nicht\nund wir sind dem grundgesetz verpflichtet das nicht einfach irgendein gesetz ist sondern das die humane und demokratische antwort auf die verheerung und die leichenberge des nsfaschismus gewesen ist das gilt es jeden tag zu verteidigen\naber es gibt natürlich auch berechtigte kritik an unserem verfahren hier am parlamentarismus dieser müssen wir uns stellen und wir müssen das bessern deswegen haben wir als linke zwei änderungsanträge eingebracht die ich kurz vorstellen will\nwir wollen das ganze lebendiger machen wir brauchen natürlich wirklich eine bessere kontrolle des regierungshandelns und wir müssen die abgeordnetenrechte und den bundestag als solchen stärken jeder der einmal die regierungsbefragung und die fragestunde gesehen hat – oder besser gesagt ertragen musste – entweder live hier oder bei phoenix weiß dass wir diese grundlegend reformieren müssen dazu hat der geschätzte präsident lammert viel richtiges gesagt\ndazu gehört zwingend dass die fraktionen besonders natürlich die oppositionsfraktionen hier themen vorschlagen können die zum beispiel – so sie denn gewählt ist – der bundeskanzlerin und der bundesregierung sehr unangenehm sind das ist ganz zentral\nich will eines sagen was wirklich nicht geht ist dass es eine befragung der bundeskanzlerin lediglich in der bundespressekonferenz gibt das geht nicht liebe kolleginnen und kollegen\nich glaube wir sollten das auch noch aus einem anderen grunde tun erstens wollen wir hier besser werden besser arbeiten bessern streiten wofür man übrigens sachargumente und viele stunden zeit braucht ich glaube ferner dass es auch politisch sinnvoll ist heute ein zeichen an diejenigen zu senden die sich abgewandt haben die gar keine teilhabe an dieser demokratie mehr haben die nicht mehr wählen gehen die damit nichts mehr zu tun haben wollen dafür ist es finde ich das mindeste zu versuchen es besser zu machen\nin diesem zusammenhang komme ich zum zweiten antrag den meine fraktion die linke einbringt wir möchten – so wie es im grundgesetz vorgeschrieben ist – sofort also heute die vier im grundgesetz zwingend vorgeschriebenen ausschüsse des bundestages einsetzen das sind der auswärtige ausschuss der europaausschuss der verteidigungsausschuss und der petitionsausschuss\nwarum erstens wir alle hier – deswegen sitzen wir zusammen – sind gewählt das hat nichts mit koalitionsverhandlungen zu tun der bundestag ist gewählt wir sollten mit der arbeit beginnen liebe kolleginnen und kollegen\nzweitens wählerinnen und wähler haben logischerweise gerade in diesen zeiten einen anspruch darauf dass das parlament arbeitet dass wir miteinander streiten und ringen wir müssen in den nächsten monaten auslandseinsätze der bundeswehr verlängern besser ablehnen aber dafür muss man beraten und expertise einholen das ist doch eigentlich völlig logisch\nob jamaika nun kommt oder nicht werden wir alles sehen aber die verhandlungen können doch nicht allen ernstes dazu führen dass wir monatelang den bundestag in geiselhaft nehmen bis sie ihre befindlichkeiten in ihrer koalition gelöst haben das geht nicht lassen sie uns als bundestag arbeiten und streiten\nder letzte punkt den ich ansprechen möchte ist das hat auch etwas mit dem selbstbild des bundestages zu tun sind wir als abgeordnete so selbstbewusst zu sagen „die innere organisation des bundestages hängt nicht an koalitionsverhandlungen egal wie sie aussehen“ ich finde dieses selbstbewusstsein sollten wir haben liebe kolleginnen und kollegen\ndeswegen zielen unsere anträge auf die stärkung des bundestages auf mehr diskurs in diesem bundestag und heute vor allem als ein zeichen an diejenigen die sich abgewandt haben aber für die wir auch hier sitzen und die wir zurückgewinnen müssen für demokratische lösungen für streit für die menschenwürde und für das kenntlichmachen wo in diesem haus die fundamentalen unterschiede liegen dafür ist erforderlich dass wir als bundestag beginnen zu arbeiten das müsste doch eigentlich auf der hand liegen deshalb bitte ich um zustimmung für unsere änderungsanträge\n",
         "['herr', 'präsident', 'liebe', 'kolleginnen', 'und', 'kollegen', 'sehr', 'geehrte', 'damen', 'und', 'herren', 'bei', 'aller', 'kritik', 'an', 'der', 'parlamentarischen', 'demokratie', 'der', 'geschäftsordnung', 'und', 'vielem', 'anderen', 'mehr', 'will', 'ich', 'zumindest', 'an', 'eines', 'erinnern', 'wir', 'sitzen', 'hier', 'aufgrund', 'von', 'freien', 'wahlen', 'das', 'haben', 'millionen', 'andere', 'nicht', 'und', 'wir', 'sind', 'dem', 'grundgesetz', 'verpflichtet', 'das', 'nicht', 'einfach', 'irgendein', 'gesetz', 'ist', 'sondern', 'das', 'die', 'humane', 'und', 'demokratische', 'antwort', 'auf', 'die', 'verheerung', 'und', 'die', 'leichenberge', 'des', 'nsfaschismus', 'gewesen', 'ist', 'das', 'gilt', 'es', 'jeden', 'tag', 'zu', 'verteidigen', 'aber', 'es', 'gibt', 'natürlich', 'auch', 'berechtigte', 'kritik', 'an', 'unserem', 'verfahren', 'hier', 'am', 'parlamentarismus', 'dieser', 'müssen', 'wir', 'uns', 'stellen', 'und', 'wir', 'müssen', 'das', 'bessern', 'deswegen', 'haben', 'wir', 'als', 'linke', 'zwei', 'änderungsanträge', 'eingebracht', 'die', 'ich', 'kurz', 'vorstellen', 'will', 'wir', 'wollen', 'das', 'ganze', 'lebendiger', 'machen', 'wir', 'brauchen', 'natürlich', 'wirklich', 'eine', 'bessere', 'kontrolle', 'des', 'regierungshandelns', 'und', 'wir', 'müssen', 'die', 'abgeordnetenrechte', 'und', 'den', 'bundestag', 'als', 'solchen', 'stärken', 'jeder', 'der', 'einmal', 'die', 'regierungsbefragung', 'und', 'die', 'fragestunde', 'gesehen', 'hat', '–', 'oder', 'besser', 'gesagt', 'ertragen', 'musste', '–', 'entweder', 'live', 'hier', 'oder', 'bei', 'phoenix', 'weiß', 'dass', 'wir', 'diese', 'grundlegend', 'reformieren', 'müssen', 'dazu', 'hat', 'der', 'geschätzte', 'präsident', 'lammert', 'viel', 'richtiges', 'gesagt', 'dazu', 'gehört', 'zwingend', 'dass', 'die', 'fraktionen', 'besonders', 'natürlich', 'die', 'oppositionsfraktionen', 'hier', 'themen', 'vorschlagen', 'können', 'die', 'zum', 'beispiel', '–', 'so', 'sie', 'denn', 'gewählt', 'ist', '–', 'der', 'bundeskanzlerin', 'und', 'der', 'bundesregierung', 'sehr', 'unangenehm', 'sind', 'das', 'ist', 'ganz', 'zentral', 'ich', 'will', 'eines', 'sagen', 'was', 'wirklich', 'nicht', 'geht', 'ist', 'dass', 'es', 'eine', 'befragung', 'der', 'bundeskanzlerin', 'lediglich', 'in', 'der', 'bundespressekonferenz', 'gibt', 'das', 'geht', 'nicht', 'liebe', 'kolleginnen', 'und', 'kollegen', 'ich', 'glaube', 'wir', 'sollten', 'das', 'auch', 'noch', 'aus', 'einem', 'anderen', 'grunde', 'tun', 'erstens', 'wollen', 'wir', 'hier', 'besser', 'werden', 'besser', 'arbeiten', 'bessern', 'streiten', 'wofür', 'man', 'übrigens', 'sachargumente', 'und', 'viele', 'stunden', 'zeit', 'braucht', 'ich', 'glaube', 'ferner', 'dass', 'es', 'auch', 'politisch', 'sinnvoll', 'ist', 'heute', 'ein', 'zeichen', 'an', 'diejenigen', 'zu', 'senden', 'die', 'sich', 'abgewandt', 'haben', 'die', 'gar', 'keine', 'teilhabe', 'an', 'dieser', 'demokratie', 'mehr', 'haben', 'die', 'nicht', 'mehr', 'wählen', 'gehen', 'die', 'damit', 'nichts', 'mehr', 'zu', 'tun', 'haben', 'wollen', 'dafür', 'ist', 'es', 'finde', 'ich', 'das', 'mindeste', 'zu', 'versuchen', 'es', 'besser', 'zu', 'machen', 'in', 'diesem', 'zusammenhang', 'komme', 'ich', 'zum', 'zweiten', 'antrag', 'den', 'meine', 'fraktion', 'die', 'linke', 'einbringt', 'wir', 'möchten', '–', 'so', 'wie', 'es', 'im', 'grundgesetz', 'vorgeschrieben', 'ist', '–', 'sofort', 'also', 'heute', 'die', 'vier', 'im', 'grundgesetz', 'zwingend', 'vorgeschriebenen', 'ausschüsse', 'des', 'bundestages', 'einsetzen', 'das', 'sind', 'der', 'auswärtige', 'ausschuss', 'der', 'europaausschuss', 'der', 'verteidigungsausschuss', 'und', 'der', 'petitionsausschuss', 'warum', 'erstens', 'wir', 'alle', 'hier', '–', 'deswegen', 'sitzen', 'wir', 'zusammen', '–', 'sind', 'gewählt', 'das', 'hat', 'nichts', 'mit', 'koalitionsverhandlungen', 'zu', 'tun', 'der', 'bundestag', 'ist', 'gewählt', 'wir', 'sollten', 'mit', 'der', 'arbeit', 'beginnen', 'liebe', 'kolleginnen', 'und', 'kollegen', 'zweitens', 'wählerinnen', 'und', 'wähler', 'haben', 'logischerweise', 'gerade', 'in', 'diesen', 'zeiten', 'einen', 'anspruch', 'darauf', 'dass', 'das', 'parlament', 'arbeitet', 'dass', 'wir', 'miteinander', 'streiten', 'und', 'ringen', 'wir', 'müssen', 'in', 'den', 'nächsten', 'monaten', 'auslandseinsätze', 'der', 'bundeswehr', 'verlängern', 'besser', 'ablehnen', 'aber', 'dafür', 'muss', 'man', 'beraten', 'und', 'expertise', 'einholen', 'das', 'ist', 'doch', 'eigentlich', 'völlig', 'logisch', 'ob', 'jamaika', 'nun', 'kommt', 'oder', 'nicht', 'werden', 'wir', 'alles', 'sehen', 'aber', 'die', 'verhandlungen', 'können', 'doch', 'nicht', 'allen', 'ernstes', 'dazu', 'führen', 'dass', 'wir', 'monatelang', 'den', 'bundestag', 'in', 'geiselhaft', 'nehmen', 'bis', 'sie', 'ihre', 'befindlichkeiten', 'in', 'ihrer', 'koalition', 'gelöst', 'haben', 'das', 'geht', 'nicht', 'lassen', 'sie', 'uns', 'als', 'bundestag', 'arbeiten', 'und', 'streiten', 'der', 'letzte', 'punkt', 'den', 'ich', 'ansprechen', 'möchte', 'ist', 'das', 'hat', 'auch', 'etwas', 'mit', 'dem', 'selbstbild', 'des', 'bundestages', 'zu', 'tun', 'sind', 'wir', 'als', 'abgeordnete', 'so', 'selbstbewusst', 'zu', 'sagen', '„die', 'innere', 'organisation', 'des', 'bundestages', 'hängt', 'nicht', 'an', 'koalitionsverhandlungen', 'egal', 'wie', 'sie', 'aussehen“', 'ich', 'finde', 'dieses', 'selbstbewusstsein', 'sollten', 'wir', 'haben', 'liebe', 'kolleginnen', 'und', 'kollegen', 'deswegen', 'zielen', 'unsere', 'anträge', 'auf', 'die', 'stärkung', 'des', 'bundestages', 'auf', 'mehr', 'diskurs', 'in', 'diesem', 'bundestag', 'und', 'heute', 'vor', 'allem', 'als', 'ein', 'zeichen', 'an', 'diejenigen', 'die', 'sich', 'abgewandt', 'haben', 'aber', 'für', 'die', 'wir', 'auch', 'hier', 'sitzen', 'und', 'die', 'wir', 'zurückgewinnen', 'müssen', 'für', 'demokratische', 'lösungen', 'für', 'streit', 'für', 'die', 'menschenwürde', 'und', 'für', 'das', 'kenntlichmachen', 'wo', 'in', 'diesem', 'haus', 'die', 'fundamentalen', 'unterschiede', 'liegen', 'dafür', 'ist', 'erforderlich', 'dass', 'wir', 'als', 'bundestag', 'beginnen', 'zu', 'arbeiten', 'das', 'müsste', 'doch', 'eigentlich', 'auf', 'der', 'hand', 'liegen', 'deshalb', 'bitte', 'ich', 'um', 'zustimmung', 'für', 'unsere', 'änderungsanträge']",
         "646"
        ],
        [
         "11",
         "743d40e1-86b1-475d-53b7-08da0f22a008",
         "11003820",
         "Jawohl, Herr Präsident, ich nehme die Wahl an.\nIch beglückwünsche Sie und freue mich auf gute Zusammenarbeit.\n",
         "19",
         "1",
         "6",
         "11003820",
         "Thomas",
         "Oppermann",
         "SPD",
         "SPD",
         "jawohl herr präsident ich nehme die wahl an\nich beglückwünsche sie und freue mich auf gute zusammenarbeit\n",
         "['jawohl', 'herr', 'präsident', 'ich', 'nehme', 'die', 'wahl', 'an', 'ich', 'beglückwünsche', 'sie', 'und', 'freue', 'mich', 'auf', 'gute', 'zusammenarbeit']",
         "17"
        ],
        [
         "12",
         "a3b115af-558e-4034-56c1-08da0f22a008",
         "11004023",
         "Herr Präsident! Meine lieben Kolleginnen und Kollegen! Die konstituierende Sitzung des Deutschen Bundestages ist eines der schönsten Hochämter der deutschen Demokratie. Es gibt kaum einen größeren, einen bedeutenderen Anlass als diesen, wo wir uns gemeinsam hinter dem Prinzip der repräsentativen Demokratie versammeln. So groß, wie dieser Anlass ist, so klein muss man denken, wenn man diese Sitzung als Bühne für die Sucht nach Aufmerksamkeit und Öffentlichkeit missbrauchen möchte.\nGenau das tun aber alle Antragsteller. Alle wollen sie ihre eingeübten Rollen spielen.\nDie AfD geriert sich – ganz bewährt – als Opfer einer finsteren Verschwörung. Das kennen wir zur Genüge, das haben wir oft genug erlebt. Ich wollte dazu eigentlich gar nichts mehr sagen.\nAber, lieber Herr Kollege Dr. Baumann, indem Sie sich hier ernsthaft mit den O pfern Hermann Görings verglichen haben, haben Sie sich an Geschmacklosigkeit wieder selbst übertroffen.\nAuch Die Linke hat ihre bewährte Rolle. Sie gibt hier die Scheinheilige. Herr Korte trägt vor, es ginge darum, das Parlament schnell arbeitsfähig zu machen. Sie kennen die Praxis des Parlamentarismus in Deutschland ganz genau. Wir wissen heute nicht, welche Ausschüsse es insgesamt geben wird, wie groß sie sein werden, welche Kollegen wohin gehen müssen. Dass das in den Fraktionen natürlich besprochen werden muss, ist Ihnen bekannt.\nEs geht Ihnen um nichts anderes, als hier wieder ein Stück Aufmerksamkeit für sich in Anspruch zu nehmen. Darin unterscheiden Sie sich mit Ihrem Anliegen kein bisschen von der AfD.\nWissen Sie, dass die extreme Rechte und die extreme Linke\nversuchen, diese Bühne zu missbrauchen, war gewissermaßen sogar erwartbar. Aber dass die altehrwürdige SPD\nin diesen Chor einstimmt, kann einen wirklich nur verwundern.\nAuch bei uns gibt es zahlreiche Ideen dazu, wie man diese Geschäftsordnung verbessern kann. Wir sind sehr für mehr Transparenz, wir haben auch Ideen, die darüber hinausgehen. Aber dass man versucht, in der konstituierenden Sitzung in ein komplexes Regelwerk einzusteigen, ohne vernünftige Beratung, ohne Austausch, ohne Arbeit am Detail leisten zu können, zeigt doch in Wahrheit, dass es Ihnen gar nicht um die Sache geht. Es geht Ihnen in Wahrheit doch um etwas ganz anderes.\nWir wissen auch, worum es Ihnen dabei geht. Es geht Ihnen um nichts anderes – Sie haben zum Teil wortgleiche Initiativen der Fraktion Bündnis 90/Die Grünen übernommen –, als die Grünenkollegen in eine peinliche Situation zu bringen. Sie wollen erzwingen, dass die ihre eigenen Anträge ablehnen. Das ist offen gestanden für die konstituierende Sitzung des Deutschen Bundestages eine ganz kleine parteipolitische Münze. Das hat dieses Hohe Haus nicht verdient, meine Damen und Herren.\nLiebe Kolleginnen und Kollegen, ich kann Ihnen zum heutigen Tage nicht sagen, ob die Fraktion der Freien Demokraten eine Regierung tragen wird oder den Gang in die Opposition antreten wird.\nAber ich kann Ihnen eines sagen: Wenn wir den Gang in die Opposition antreten, dann nicht mit solcher Effekthascherei. Das hat das deutsche Volk und das haben die Wähler nicht verdient.\n",
         "19",
         "1",
         "2",
         "11004023",
         "Marco",
         "Buschmann",
         "FDP",
         "FDP",
         "herr präsident meine lieben kolleginnen und kollegen die konstituierende sitzung des deutschen bundestages ist eines der schönsten hochämter der deutschen demokratie es gibt kaum einen größeren einen bedeutenderen anlass als diesen wo wir uns gemeinsam hinter dem prinzip der repräsentativen demokratie versammeln so groß wie dieser anlass ist so klein muss man denken wenn man diese sitzung als bühne für die sucht nach aufmerksamkeit und öffentlichkeit missbrauchen möchte\ngenau das tun aber alle antragsteller alle wollen sie ihre eingeübten rollen spielen\ndie afd geriert sich – ganz bewährt – als opfer einer finsteren verschwörung das kennen wir zur genüge das haben wir oft genug erlebt ich wollte dazu eigentlich gar nichts mehr sagen\naber lieber herr kollege dr baumann indem sie sich hier ernsthaft mit den o pfern hermann görings verglichen haben haben sie sich an geschmacklosigkeit wieder selbst übertroffen\nauch die linke hat ihre bewährte rolle sie gibt hier die scheinheilige herr korte trägt vor es ginge darum das parlament schnell arbeitsfähig zu machen sie kennen die praxis des parlamentarismus in deutschland ganz genau wir wissen heute nicht welche ausschüsse es insgesamt geben wird wie groß sie sein werden welche kollegen wohin gehen müssen dass das in den fraktionen natürlich besprochen werden muss ist ihnen bekannt\nes geht ihnen um nichts anderes als hier wieder ein stück aufmerksamkeit für sich in anspruch zu nehmen darin unterscheiden sie sich mit ihrem anliegen kein bisschen von der afd\nwissen sie dass die extreme rechte und die extreme linke\nversuchen diese bühne zu missbrauchen war gewissermaßen sogar erwartbar aber dass die altehrwürdige spd\nin diesen chor einstimmt kann einen wirklich nur verwundern\nauch bei uns gibt es zahlreiche ideen dazu wie man diese geschäftsordnung verbessern kann wir sind sehr für mehr transparenz wir haben auch ideen die darüber hinausgehen aber dass man versucht in der konstituierenden sitzung in ein komplexes regelwerk einzusteigen ohne vernünftige beratung ohne austausch ohne arbeit am detail leisten zu können zeigt doch in wahrheit dass es ihnen gar nicht um die sache geht es geht ihnen in wahrheit doch um etwas ganz anderes\nwir wissen auch worum es ihnen dabei geht es geht ihnen um nichts anderes – sie haben zum teil wortgleiche initiativen der fraktion bündnis 90die grünen übernommen – als die grünenkollegen in eine peinliche situation zu bringen sie wollen erzwingen dass die ihre eigenen anträge ablehnen das ist offen gestanden für die konstituierende sitzung des deutschen bundestages eine ganz kleine parteipolitische münze das hat dieses hohe haus nicht verdient meine damen und herren\nliebe kolleginnen und kollegen ich kann ihnen zum heutigen tage nicht sagen ob die fraktion der freien demokraten eine regierung tragen wird oder den gang in die opposition antreten wird\naber ich kann ihnen eines sagen wenn wir den gang in die opposition antreten dann nicht mit solcher effekthascherei das hat das deutsche volk und das haben die wähler nicht verdient\n",
         "['herr', 'präsident', 'meine', 'lieben', 'kolleginnen', 'und', 'kollegen', 'die', 'konstituierende', 'sitzung', 'des', 'deutschen', 'bundestages', 'ist', 'eines', 'der', 'schönsten', 'hochämter', 'der', 'deutschen', 'demokratie', 'es', 'gibt', 'kaum', 'einen', 'größeren', 'einen', 'bedeutenderen', 'anlass', 'als', 'diesen', 'wo', 'wir', 'uns', 'gemeinsam', 'hinter', 'dem', 'prinzip', 'der', 'repräsentativen', 'demokratie', 'versammeln', 'so', 'groß', 'wie', 'dieser', 'anlass', 'ist', 'so', 'klein', 'muss', 'man', 'denken', 'wenn', 'man', 'diese', 'sitzung', 'als', 'bühne', 'für', 'die', 'sucht', 'nach', 'aufmerksamkeit', 'und', 'öffentlichkeit', 'missbrauchen', 'möchte', 'genau', 'das', 'tun', 'aber', 'alle', 'antragsteller', 'alle', 'wollen', 'sie', 'ihre', 'eingeübten', 'rollen', 'spielen', 'die', 'afd', 'geriert', 'sich', '–', 'ganz', 'bewährt', '–', 'als', 'opfer', 'einer', 'finsteren', 'verschwörung', 'das', 'kennen', 'wir', 'zur', 'genüge', 'das', 'haben', 'wir', 'oft', 'genug', 'erlebt', 'ich', 'wollte', 'dazu', 'eigentlich', 'gar', 'nichts', 'mehr', 'sagen', 'aber', 'lieber', 'herr', 'kollege', 'dr', 'baumann', 'indem', 'sie', 'sich', 'hier', 'ernsthaft', 'mit', 'den', 'o', 'pfern', 'hermann', 'görings', 'verglichen', 'haben', 'haben', 'sie', 'sich', 'an', 'geschmacklosigkeit', 'wieder', 'selbst', 'übertroffen', 'auch', 'die', 'linke', 'hat', 'ihre', 'bewährte', 'rolle', 'sie', 'gibt', 'hier', 'die', 'scheinheilige', 'herr', 'korte', 'trägt', 'vor', 'es', 'ginge', 'darum', 'das', 'parlament', 'schnell', 'arbeitsfähig', 'zu', 'machen', 'sie', 'kennen', 'die', 'praxis', 'des', 'parlamentarismus', 'in', 'deutschland', 'ganz', 'genau', 'wir', 'wissen', 'heute', 'nicht', 'welche', 'ausschüsse', 'es', 'insgesamt', 'geben', 'wird', 'wie', 'groß', 'sie', 'sein', 'werden', 'welche', 'kollegen', 'wohin', 'gehen', 'müssen', 'dass', 'das', 'in', 'den', 'fraktionen', 'natürlich', 'besprochen', 'werden', 'muss', 'ist', 'ihnen', 'bekannt', 'es', 'geht', 'ihnen', 'um', 'nichts', 'anderes', 'als', 'hier', 'wieder', 'ein', 'stück', 'aufmerksamkeit', 'für', 'sich', 'in', 'anspruch', 'zu', 'nehmen', 'darin', 'unterscheiden', 'sie', 'sich', 'mit', 'ihrem', 'anliegen', 'kein', 'bisschen', 'von', 'der', 'afd', 'wissen', 'sie', 'dass', 'die', 'extreme', 'rechte', 'und', 'die', 'extreme', 'linke', 'versuchen', 'diese', 'bühne', 'zu', 'missbrauchen', 'war', 'gewissermaßen', 'sogar', 'erwartbar', 'aber', 'dass', 'die', 'altehrwürdige', 'spd', 'in', 'diesen', 'chor', 'einstimmt', 'kann', 'einen', 'wirklich', 'nur', 'verwundern', 'auch', 'bei', 'uns', 'gibt', 'es', 'zahlreiche', 'ideen', 'dazu', 'wie', 'man', 'diese', 'geschäftsordnung', 'verbessern', 'kann', 'wir', 'sind', 'sehr', 'für', 'mehr', 'transparenz', 'wir', 'haben', 'auch', 'ideen', 'die', 'darüber', 'hinausgehen', 'aber', 'dass', 'man', 'versucht', 'in', 'der', 'konstituierenden', 'sitzung', 'in', 'ein', 'komplexes', 'regelwerk', 'einzusteigen', 'ohne', 'vernünftige', 'beratung', 'ohne', 'austausch', 'ohne', 'arbeit', 'am', 'detail', 'leisten', 'zu', 'können', 'zeigt', 'doch', 'in', 'wahrheit', 'dass', 'es', 'ihnen', 'gar', 'nicht', 'um', 'die', 'sache', 'geht', 'es', 'geht', 'ihnen', 'in', 'wahrheit', 'doch', 'um', 'etwas', 'ganz', 'anderes', 'wir', 'wissen', 'auch', 'worum', 'es', 'ihnen', 'dabei', 'geht', 'es', 'geht', 'ihnen', 'um', 'nichts', 'anderes', '–', 'sie', 'haben', 'zum', 'teil', 'wortgleiche', 'initiativen', 'der', 'fraktion', 'bündnis', '90die', 'grünen', 'übernommen', '–', 'als', 'die', 'grünenkollegen', 'in', 'eine', 'peinliche', 'situation', 'zu', 'bringen', 'sie', 'wollen', 'erzwingen', 'dass', 'die', 'ihre', 'eigenen', 'anträge', 'ablehnen', 'das', 'ist', 'offen', 'gestanden', 'für', 'die', 'konstituierende', 'sitzung', 'des', 'deutschen', 'bundestages', 'eine', 'ganz', 'kleine', 'parteipolitische', 'münze', 'das', 'hat', 'dieses', 'hohe', 'haus', 'nicht', 'verdient', 'meine', 'damen', 'und', 'herren', 'liebe', 'kolleginnen', 'und', 'kollegen', 'ich', 'kann', 'ihnen', 'zum', 'heutigen', 'tage', 'nicht', 'sagen', 'ob', 'die', 'fraktion', 'der', 'freien', 'demokraten', 'eine', 'regierung', 'tragen', 'wird', 'oder', 'den', 'gang', 'in', 'die', 'opposition', 'antreten', 'wird', 'aber', 'ich', 'kann', 'ihnen', 'eines', 'sagen', 'wenn', 'wir', 'den', 'gang', 'in', 'die', 'opposition', 'antreten', 'dann', 'nicht', 'mit', 'solcher', 'effekthascherei', 'das', 'hat', 'das', 'deutsche', 'volk', 'und', 'das', 'haben', 'die', 'wähler', 'nicht', 'verdient']",
         "479"
        ],
        [
         "13",
         "ae654b1e-284d-4340-6c93-08da0f22a008",
         "11004662",
         "Herr Präsident! Meine Damen und Herren! Immer deutlicher zeigte sich im Verlauf dieses Jahres, dass die AfD in den Bundestag einziehen würde und dass sie auch den Alterspräsidenten stellen würde, weil sie neben vielen jungen Abgeordneten eben auch den ältesten Abgeordneten mit an Bord hatte.\nAls dies deutlich wurde, änderten Sie hier im alten Bundestag ganz schnell die Geschäftsordnung – knapp vor der Wahl, zwei Wochen vor Ende Sitzungsperiode. Meine Damen und Herren, das war ein so durchsichtiges Manöver; das lassen wir Ihnen hier nicht durchgehen!\nEine List, mit der Sie die AfD ausgrenzen wollten! Das kann so nicht weitergehen!\nDie AfD hatte gerade den 13. Wahlsieg in Folge erzielt – eine Triumphserie bei Landtagswahlen, die so zuvor keine Partei nach ihrer Gründung erzielt hatte.\nDer alte Bundestag aber änderte die Geschäftsordnung plötzlich so, dass nicht mehr der älteste Abgeordnete, sondern der mit der längsten Dienstzeit die erste Sitzung als Alterspräsident eröffnen sollte. Und das würde dann nicht mehr ein AfD-Abgeordneter sein. Sie begründeten dies damit, dass nur der dienstälteste Abgeordnete eine korrekte Sitzungsleitung sicherstellen könne. Das war das Argument. Aber, meine Damen und Herren, seit 1848 ist in Deutschland Tradition, dass die konstituierende Sitzung natürlich vom ältesten Mitglied der Versammlung eröffnet wird.\nDas war eine Tradition von der Frankfurter Paulskirche bis Gustav Stresemann, von Adenauer über Brandt bis Kohl, ja bis zu der ersten Regierung Merkel. Alle Reichstage, alle Bundestage konnten dem Argument „Dienstalter“ nichts abgewinnen. Das ist ja auch klar. In 150 Jahren Parlamentsgeschichte blieb die Regel des Alterspräsidenten unangetastet.\nUnangetastet? Es gab eine Ausnahme: 1933 hat Hermann Göring die Regel gebrochen, weil er politische Gegner ausgrenzen wollte, damals Clara Zetkin.\nWollen Sie sich auf solch schiefe Bahn begeben? Kommen Sie zurück auf die Linie der großen deutschen Demokraten! Dazu fordere ich Sie hier auf.\nDenn stets eröffnete der Parlamentarier, der aufgrund von Lebenserfahrung und Altersweisheit Versammlungen besonders umsichtig eröffnen konnte. Das waren die Idee und die Tradition über 150 Jahre. Denn zur bloßen Eröffnung ist ja kein geballtes Geschäftsordnungswissen vonnöten. Es wird sofort ein Versammlungspräsident gewählt, der versiert in der Sache ist. Auch deshalb ist Ihr Argument, der Dienstälteste müsse aus fachlichen Gründen eröffnen, schlichtweg unsinnig, meine Damen und Herren.\nSelbst die Presse, die uns ja nicht durchgängig gewogen ist, warnte, dass dieses Manöver gegen die AfD durchsichtig sei, und sprach von Lex AfD. Der „Tagesspiegel“ sprach von „Trickserei“. „Focus“ resümierte:\nDie Entscheidung wirft kein gutes Licht auf die parlamentarische Kultur in Deutschland.\nRecht hat er, meine Damen und Herren!\nWie groß, frage ich Sie, muss die Angst vor der AfD und ihren Wählern sein, wenn Sie zu solchen Mitteln greifen?\nDeswegen fordere ich Sie auf: Kehren Sie um! Vertrauen Sie wie wir den bewährten Traditionen des deutschen Parlamentarismus! Stimmen Sie unserem Antrag zu!\nMeine Damen und Herren, nehmen Sie zur Kenntnis: Der alte Bundestag, in dem Sie alles untereinander regeln und die Konkurrenz wegdrücken konnten wie hier bei der Frage des Alterspräsidenten, wurde abgewählt. Das Volk hat entschieden. Nun beginnt eine neue Epoche.\nVon dieser Stunde an werden hier Themen neu verhandelt, nicht nur Ihre Manöver und Tricks bei der Geschäftsordnung, sondern künftig auch Euro, gigantische Schuldenübernahmen, riesige Einwanderungszahlen, offene Grenzen und immer brutalere Kriminalität auf unseren Straßen, meine Damen und Herren.\n",
         "19",
         "1",
         "2",
         "11004662",
         "Bernd",
         "Baumann",
         "AfD",
         "AfD",
         "herr präsident meine damen und herren immer deutlicher zeigte sich im verlauf dieses jahres dass die afd in den bundestag einziehen würde und dass sie auch den alterspräsidenten stellen würde weil sie neben vielen jungen abgeordneten eben auch den ältesten abgeordneten mit an bord hatte\nals dies deutlich wurde änderten sie hier im alten bundestag ganz schnell die geschäftsordnung – knapp vor der wahl zwei wochen vor ende sitzungsperiode meine damen und herren das war ein so durchsichtiges manöver das lassen wir ihnen hier nicht durchgehen\neine list mit der sie die afd ausgrenzen wollten das kann so nicht weitergehen\ndie afd hatte gerade den 13 wahlsieg in folge erzielt – eine triumphserie bei landtagswahlen die so zuvor keine partei nach ihrer gründung erzielt hatte\nder alte bundestag aber änderte die geschäftsordnung plötzlich so dass nicht mehr der älteste abgeordnete sondern der mit der längsten dienstzeit die erste sitzung als alterspräsident eröffnen sollte und das würde dann nicht mehr ein afdabgeordneter sein sie begründeten dies damit dass nur der dienstälteste abgeordnete eine korrekte sitzungsleitung sicherstellen könne das war das argument aber meine damen und herren seit 1848 ist in deutschland tradition dass die konstituierende sitzung natürlich vom ältesten mitglied der versammlung eröffnet wird\ndas war eine tradition von der frankfurter paulskirche bis gustav stresemann von adenauer über brandt bis kohl ja bis zu der ersten regierung merkel alle reichstage alle bundestage konnten dem argument „dienstalter“ nichts abgewinnen das ist ja auch klar in 150 jahren parlamentsgeschichte blieb die regel des alterspräsidenten unangetastet\nunangetastet es gab eine ausnahme 1933 hat hermann göring die regel gebrochen weil er politische gegner ausgrenzen wollte damals clara zetkin\nwollen sie sich auf solch schiefe bahn begeben kommen sie zurück auf die linie der großen deutschen demokraten dazu fordere ich sie hier auf\ndenn stets eröffnete der parlamentarier der aufgrund von lebenserfahrung und altersweisheit versammlungen besonders umsichtig eröffnen konnte das waren die idee und die tradition über 150 jahre denn zur bloßen eröffnung ist ja kein geballtes geschäftsordnungswissen vonnöten es wird sofort ein versammlungspräsident gewählt der versiert in der sache ist auch deshalb ist ihr argument der dienstälteste müsse aus fachlichen gründen eröffnen schlichtweg unsinnig meine damen und herren\nselbst die presse die uns ja nicht durchgängig gewogen ist warnte dass dieses manöver gegen die afd durchsichtig sei und sprach von lex afd der „tagesspiegel“ sprach von „trickserei“ „focus“ resümierte\ndie entscheidung wirft kein gutes licht auf die parlamentarische kultur in deutschland\nrecht hat er meine damen und herren\nwie groß frage ich sie muss die angst vor der afd und ihren wählern sein wenn sie zu solchen mitteln greifen\ndeswegen fordere ich sie auf kehren sie um vertrauen sie wie wir den bewährten traditionen des deutschen parlamentarismus stimmen sie unserem antrag zu\nmeine damen und herren nehmen sie zur kenntnis der alte bundestag in dem sie alles untereinander regeln und die konkurrenz wegdrücken konnten wie hier bei der frage des alterspräsidenten wurde abgewählt das volk hat entschieden nun beginnt eine neue epoche\nvon dieser stunde an werden hier themen neu verhandelt nicht nur ihre manöver und tricks bei der geschäftsordnung sondern künftig auch euro gigantische schuldenübernahmen riesige einwanderungszahlen offene grenzen und immer brutalere kriminalität auf unseren straßen meine damen und herren\n",
         "['herr', 'präsident', 'meine', 'damen', 'und', 'herren', 'immer', 'deutlicher', 'zeigte', 'sich', 'im', 'verlauf', 'dieses', 'jahres', 'dass', 'die', 'afd', 'in', 'den', 'bundestag', 'einziehen', 'würde', 'und', 'dass', 'sie', 'auch', 'den', 'alterspräsidenten', 'stellen', 'würde', 'weil', 'sie', 'neben', 'vielen', 'jungen', 'abgeordneten', 'eben', 'auch', 'den', 'ältesten', 'abgeordneten', 'mit', 'an', 'bord', 'hatte', 'als', 'dies', 'deutlich', 'wurde', 'änderten', 'sie', 'hier', 'im', 'alten', 'bundestag', 'ganz', 'schnell', 'die', 'geschäftsordnung', '–', 'knapp', 'vor', 'der', 'wahl', 'zwei', 'wochen', 'vor', 'ende', 'sitzungsperiode', 'meine', 'damen', 'und', 'herren', 'das', 'war', 'ein', 'so', 'durchsichtiges', 'manöver', 'das', 'lassen', 'wir', 'ihnen', 'hier', 'nicht', 'durchgehen', 'eine', 'list', 'mit', 'der', 'sie', 'die', 'afd', 'ausgrenzen', 'wollten', 'das', 'kann', 'so', 'nicht', 'weitergehen', 'die', 'afd', 'hatte', 'gerade', 'den', '13', 'wahlsieg', 'in', 'folge', 'erzielt', '–', 'eine', 'triumphserie', 'bei', 'landtagswahlen', 'die', 'so', 'zuvor', 'keine', 'partei', 'nach', 'ihrer', 'gründung', 'erzielt', 'hatte', 'der', 'alte', 'bundestag', 'aber', 'änderte', 'die', 'geschäftsordnung', 'plötzlich', 'so', 'dass', 'nicht', 'mehr', 'der', 'älteste', 'abgeordnete', 'sondern', 'der', 'mit', 'der', 'längsten', 'dienstzeit', 'die', 'erste', 'sitzung', 'als', 'alterspräsident', 'eröffnen', 'sollte', 'und', 'das', 'würde', 'dann', 'nicht', 'mehr', 'ein', 'afdabgeordneter', 'sein', 'sie', 'begründeten', 'dies', 'damit', 'dass', 'nur', 'der', 'dienstälteste', 'abgeordnete', 'eine', 'korrekte', 'sitzungsleitung', 'sicherstellen', 'könne', 'das', 'war', 'das', 'argument', 'aber', 'meine', 'damen', 'und', 'herren', 'seit', '1848', 'ist', 'in', 'deutschland', 'tradition', 'dass', 'die', 'konstituierende', 'sitzung', 'natürlich', 'vom', 'ältesten', 'mitglied', 'der', 'versammlung', 'eröffnet', 'wird', 'das', 'war', 'eine', 'tradition', 'von', 'der', 'frankfurter', 'paulskirche', 'bis', 'gustav', 'stresemann', 'von', 'adenauer', 'über', 'brandt', 'bis', 'kohl', 'ja', 'bis', 'zu', 'der', 'ersten', 'regierung', 'merkel', 'alle', 'reichstage', 'alle', 'bundestage', 'konnten', 'dem', 'argument', '„dienstalter“', 'nichts', 'abgewinnen', 'das', 'ist', 'ja', 'auch', 'klar', 'in', '150', 'jahren', 'parlamentsgeschichte', 'blieb', 'die', 'regel', 'des', 'alterspräsidenten', 'unangetastet', 'unangetastet', 'es', 'gab', 'eine', 'ausnahme', '1933', 'hat', 'hermann', 'göring', 'die', 'regel', 'gebrochen', 'weil', 'er', 'politische', 'gegner', 'ausgrenzen', 'wollte', 'damals', 'clara', 'zetkin', 'wollen', 'sie', 'sich', 'auf', 'solch', 'schiefe', 'bahn', 'begeben', 'kommen', 'sie', 'zurück', 'auf', 'die', 'linie', 'der', 'großen', 'deutschen', 'demokraten', 'dazu', 'fordere', 'ich', 'sie', 'hier', 'auf', 'denn', 'stets', 'eröffnete', 'der', 'parlamentarier', 'der', 'aufgrund', 'von', 'lebenserfahrung', 'und', 'altersweisheit', 'versammlungen', 'besonders', 'umsichtig', 'eröffnen', 'konnte', 'das', 'waren', 'die', 'idee', 'und', 'die', 'tradition', 'über', '150', 'jahre', 'denn', 'zur', 'bloßen', 'eröffnung', 'ist', 'ja', 'kein', 'geballtes', 'geschäftsordnungswissen', 'vonnöten', 'es', 'wird', 'sofort', 'ein', 'versammlungspräsident', 'gewählt', 'der', 'versiert', 'in', 'der', 'sache', 'ist', 'auch', 'deshalb', 'ist', 'ihr', 'argument', 'der', 'dienstälteste', 'müsse', 'aus', 'fachlichen', 'gründen', 'eröffnen', 'schlichtweg', 'unsinnig', 'meine', 'damen', 'und', 'herren', 'selbst', 'die', 'presse', 'die', 'uns', 'ja', 'nicht', 'durchgängig', 'gewogen', 'ist', 'warnte', 'dass', 'dieses', 'manöver', 'gegen', 'die', 'afd', 'durchsichtig', 'sei', 'und', 'sprach', 'von', 'lex', 'afd', 'der', '„tagesspiegel“', 'sprach', 'von', '„trickserei“', '„focus“', 'resümierte', 'die', 'entscheidung', 'wirft', 'kein', 'gutes', 'licht', 'auf', 'die', 'parlamentarische', 'kultur', 'in', 'deutschland', 'recht', 'hat', 'er', 'meine', 'damen', 'und', 'herren', 'wie', 'groß', 'frage', 'ich', 'sie', 'muss', 'die', 'angst', 'vor', 'der', 'afd', 'und', 'ihren', 'wählern', 'sein', 'wenn', 'sie', 'zu', 'solchen', 'mitteln', 'greifen', 'deswegen', 'fordere', 'ich', 'sie', 'auf', 'kehren', 'sie', 'um', 'vertrauen', 'sie', 'wie', 'wir', 'den', 'bewährten', 'traditionen', 'des', 'deutschen', 'parlamentarismus', 'stimmen', 'sie', 'unserem', 'antrag', 'zu', 'meine', 'damen', 'und', 'herren', 'nehmen', 'sie', 'zur', 'kenntnis', 'der', 'alte', 'bundestag', 'in', 'dem', 'sie', 'alles', 'untereinander', 'regeln', 'und', 'die', 'konkurrenz', 'wegdrücken', 'konnten', 'wie', 'hier', 'bei', 'der', 'frage', 'des', 'alterspräsidenten', 'wurde', 'abgewählt', 'das', 'volk', 'hat', 'entschieden', 'nun', 'beginnt', 'eine', 'neue', 'epoche', 'von', 'dieser', 'stunde', 'an', 'werden', 'hier', 'themen', 'neu', 'verhandelt', 'nicht', 'nur', 'ihre', 'manöver', 'und', 'tricks', 'bei', 'der', 'geschäftsordnung', 'sondern', 'künftig', 'auch', 'euro', 'gigantische', 'schuldenübernahmen', 'riesige', 'einwanderungszahlen', 'offene', 'grenzen', 'und', 'immer', 'brutalere', 'kriminalität', 'auf', 'unseren', 'straßen', 'meine', 'damen', 'und', 'herren']",
         "536"
        ],
        [
         "14",
         "70607058-fd20-45c0-5b6f-08da0f22a008",
         "11002733",
         "Vielen Dank, Frau Präsidentin. – Ja, die Personengesellschaften in Deutschland unterliegen der Einkommensteuer. Wir haben für die Personengesellschaften, die sehr hohe Erträge zu versteuern haben, die Möglichkeit der Thesaurierungsrücklage geschaffen. Daher können diese Unternehmen ihre Einkünfte zu einem Steuersatz versteuern, der dem von Körperschaften vergleichbar ist.\nFür die Personengesellschaften, die niedrigere Erträge haben, wird eine Entlastung erfolgen, wenn die Koalition die Überlegung, niedrige Einkommen bei der Einkommensteuer zu entlasten, realisiert.\n",
         "19",
         "10",
         "1",
         "11002733",
         "Michael",
         "Meister",
         "CDU",
         null,
         "vielen dank frau präsidentin – ja die personengesellschaften in deutschland unterliegen der einkommensteuer wir haben für die personengesellschaften die sehr hohe erträge zu versteuern haben die möglichkeit der thesaurierungsrücklage geschaffen daher können diese unternehmen ihre einkünfte zu einem steuersatz versteuern der dem von körperschaften vergleichbar ist\nfür die personengesellschaften die niedrigere erträge haben wird eine entlastung erfolgen wenn die koalition die überlegung niedrige einkommen bei der einkommensteuer zu entlasten realisiert\n",
         "['vielen', 'dank', 'frau', 'präsidentin', '–', 'ja', 'die', 'personengesellschaften', 'in', 'deutschland', 'unterliegen', 'der', 'einkommensteuer', 'wir', 'haben', 'für', 'die', 'personengesellschaften', 'die', 'sehr', 'hohe', 'erträge', 'zu', 'versteuern', 'haben', 'die', 'möglichkeit', 'der', 'thesaurierungsrücklage', 'geschaffen', 'daher', 'können', 'diese', 'unternehmen', 'ihre', 'einkünfte', 'zu', 'einem', 'steuersatz', 'versteuern', 'der', 'dem', 'von', 'körperschaften', 'vergleichbar', 'ist', 'für', 'die', 'personengesellschaften', 'die', 'niedrigere', 'erträge', 'haben', 'wird', 'eine', 'entlastung', 'erfolgen', 'wenn', 'die', 'koalition', 'die', 'überlegung', 'niedrige', 'einkommen', 'bei', 'der', 'einkommensteuer', 'zu', 'entlasten', 'realisiert']",
         "70"
        ],
        [
         "15",
         "4a211069-069b-4548-645c-08da0f22a008",
         "11002733",
         "Herr Kollege, wir haben in der vergangenen Wahlperiode nicht mit Blick auf die Waldbesitzer, sondern mit Blick auf die Landwirte, die ja ihre Betriebe auf unterschiedliche Ertragslagen aufgrund der Wetterlagen einstellen mussten, hier im Haus die Entscheidung getroffen, dass ein Mehrjahresausgleich und damit eine Glättung der Einkünfte vorgenommen werden kann. Dieses Gesetz muss allerdings aufgrund europarechtlicher Vorgaben notifiziert werden. Wir haben es deshalb zur Notifizierung bei der Kommission vorgelegt. Diese Notifizierung ist aber bisher nicht abgeschlossen.\nLiebe Kolleginnen und Kollegen, wir sind jetzt am Schluss der für die Befragung der Bundesregierung festgesetzten Zeit, aber ich habe noch sieben Wortmeldungen. Ich verweise auf unsere Regel: eine Minute Frage, eine Minute Antwort. Ich lasse diese sieben Fragen und Antworten noch zu, achte aber genau auf die Einhaltung der Redezeit. Nach unseren Regeln verkürzt sich damit – für alle zur Erinnerung – die Zeit für die darauffolgende Fragestunde.\n",
         "19",
         "10",
         "1",
         "11002733",
         "Michael",
         "Meister",
         "CDU",
         null,
         "herr kollege wir haben in der vergangenen wahlperiode nicht mit blick auf die waldbesitzer sondern mit blick auf die landwirte die ja ihre betriebe auf unterschiedliche ertragslagen aufgrund der wetterlagen einstellen mussten hier im haus die entscheidung getroffen dass ein mehrjahresausgleich und damit eine glättung der einkünfte vorgenommen werden kann dieses gesetz muss allerdings aufgrund europarechtlicher vorgaben notifiziert werden wir haben es deshalb zur notifizierung bei der kommission vorgelegt diese notifizierung ist aber bisher nicht abgeschlossen\nliebe kolleginnen und kollegen wir sind jetzt am schluss der für die befragung der bundesregierung festgesetzten zeit aber ich habe noch sieben wortmeldungen ich verweise auf unsere regel eine minute frage eine minute antwort ich lasse diese sieben fragen und antworten noch zu achte aber genau auf die einhaltung der redezeit nach unseren regeln verkürzt sich damit – für alle zur erinnerung – die zeit für die darauffolgende fragestunde\n",
         "['herr', 'kollege', 'wir', 'haben', 'in', 'der', 'vergangenen', 'wahlperiode', 'nicht', 'mit', 'blick', 'auf', 'die', 'waldbesitzer', 'sondern', 'mit', 'blick', 'auf', 'die', 'landwirte', 'die', 'ja', 'ihre', 'betriebe', 'auf', 'unterschiedliche', 'ertragslagen', 'aufgrund', 'der', 'wetterlagen', 'einstellen', 'mussten', 'hier', 'im', 'haus', 'die', 'entscheidung', 'getroffen', 'dass', 'ein', 'mehrjahresausgleich', 'und', 'damit', 'eine', 'glättung', 'der', 'einkünfte', 'vorgenommen', 'werden', 'kann', 'dieses', 'gesetz', 'muss', 'allerdings', 'aufgrund', 'europarechtlicher', 'vorgaben', 'notifiziert', 'werden', 'wir', 'haben', 'es', 'deshalb', 'zur', 'notifizierung', 'bei', 'der', 'kommission', 'vorgelegt', 'diese', 'notifizierung', 'ist', 'aber', 'bisher', 'nicht', 'abgeschlossen', 'liebe', 'kolleginnen', 'und', 'kollegen', 'wir', 'sind', 'jetzt', 'am', 'schluss', 'der', 'für', 'die', 'befragung', 'der', 'bundesregierung', 'festgesetzten', 'zeit', 'aber', 'ich', 'habe', 'noch', 'sieben', 'wortmeldungen', 'ich', 'verweise', 'auf', 'unsere', 'regel', 'eine', 'minute', 'frage', 'eine', 'minute', 'antwort', 'ich', 'lasse', 'diese', 'sieben', 'fragen', 'und', 'antworten', 'noch', 'zu', 'achte', 'aber', 'genau', 'auf', 'die', 'einhaltung', 'der', 'redezeit', 'nach', 'unseren', 'regeln', 'verkürzt', 'sich', 'damit', '–', 'für', 'alle', 'zur', 'erinnerung', '–', 'die', 'zeit', 'für', 'die', 'darauffolgende', 'fragestunde']",
         "145"
        ],
        [
         "16",
         "4deb995f-0d74-4bf4-6bcb-08da0f22a008",
         "11003033",
         "Vielen Dank, Herr Abgeordneter. – Zu diesem Thema stand das Ministerium für Verkehr und digitale Infrastruktur in Kontakt mit den zuständigen europäischen Stellen; da gab es Verhandlungen. Das war um die Weihnachtsfeiertage und den Jahreswechsel herum. Wir haben bisher ein Verhandlungsergebnis dahin gehend erreicht, dass wir dafür Sorge tragen wollen, dass in diesen Fragen der Parlamentsvorbehalt erhalten bleibt. Die nationalen Parlamente werden also immer mit einbezogen werden, wenn es um Entscheidungen geht.\n",
         "19",
         "10",
         "1",
         "11003033",
         "Norbert",
         "Barthle",
         "CDU",
         null,
         "vielen dank herr abgeordneter – zu diesem thema stand das ministerium für verkehr und digitale infrastruktur in kontakt mit den zuständigen europäischen stellen da gab es verhandlungen das war um die weihnachtsfeiertage und den jahreswechsel herum wir haben bisher ein verhandlungsergebnis dahin gehend erreicht dass wir dafür sorge tragen wollen dass in diesen fragen der parlamentsvorbehalt erhalten bleibt die nationalen parlamente werden also immer mit einbezogen werden wenn es um entscheidungen geht\n",
         "['vielen', 'dank', 'herr', 'abgeordneter', '–', 'zu', 'diesem', 'thema', 'stand', 'das', 'ministerium', 'für', 'verkehr', 'und', 'digitale', 'infrastruktur', 'in', 'kontakt', 'mit', 'den', 'zuständigen', 'europäischen', 'stellen', 'da', 'gab', 'es', 'verhandlungen', 'das', 'war', 'um', 'die', 'weihnachtsfeiertage', 'und', 'den', 'jahreswechsel', 'herum', 'wir', 'haben', 'bisher', 'ein', 'verhandlungsergebnis', 'dahin', 'gehend', 'erreicht', 'dass', 'wir', 'dafür', 'sorge', 'tragen', 'wollen', 'dass', 'in', 'diesen', 'fragen', 'der', 'parlamentsvorbehalt', 'erhalten', 'bleibt', 'die', 'nationalen', 'parlamente', 'werden', 'also', 'immer', 'mit', 'einbezogen', 'werden', 'wenn', 'es', 'um', 'entscheidungen', 'geht']",
         "72"
        ],
        [
         "17",
         "58de2c86-0ba0-4880-64e6-08da0f22a008",
         "11003493",
         "Vielen Dank für den Bericht. – Ich habe eine Frage an Sie, Frau Ministerin, im Hinblick auf die Rolle des Klimaschutzes und der Umweltpolitik im Rahmen Ihrer Tätigkeit als Wirtschaftsministerin.\nSie werden aus der Industrie heraus ja vermehrt dazu aufgefordert, Klimaschutz als bedeutende Chance zu sehen. Sie werden zum Beispiel vom VW-Chef Müller aufgefordert, die Dieselsubventionen abzubauen. Die Industrie scheint hier also deutlich weiter zu sein als die Bundesregierung, weil sich die Bundesregierung ihrerseits vom Klimaziel 2020 verabschiedet, was wir für ein fatales Signal halten.\nIch möchte von Ihnen wissen, inwieweit Sie als Ministerin für eine ökologische Industrie- und Wirtschaftspolitik stehen, die auch international eine Vorreiterrolle übernehmen kann und sich eben nicht von den entsprechenden Zielen verabschiedet, sondern versucht, diese mit aller Kraft zu erreichen.\n",
         "19",
         "10",
         "1",
         "11003493",
         "Kerstin",
         "Andreae",
         "BÜNDNIS 90/DIE GRÜNEN",
         "Bündnis 90 / Die Grünen",
         "vielen dank für den bericht – ich habe eine frage an sie frau ministerin im hinblick auf die rolle des klimaschutzes und der umweltpolitik im rahmen ihrer tätigkeit als wirtschaftsministerin\nsie werden aus der industrie heraus ja vermehrt dazu aufgefordert klimaschutz als bedeutende chance zu sehen sie werden zum beispiel vom vwchef müller aufgefordert die dieselsubventionen abzubauen die industrie scheint hier also deutlich weiter zu sein als die bundesregierung weil sich die bundesregierung ihrerseits vom klimaziel 2020 verabschiedet was wir für ein fatales signal halten\nich möchte von ihnen wissen inwieweit sie als ministerin für eine ökologische industrie und wirtschaftspolitik stehen die auch international eine vorreiterrolle übernehmen kann und sich eben nicht von den entsprechenden zielen verabschiedet sondern versucht diese mit aller kraft zu erreichen\n",
         "['vielen', 'dank', 'für', 'den', 'bericht', '–', 'ich', 'habe', 'eine', 'frage', 'an', 'sie', 'frau', 'ministerin', 'im', 'hinblick', 'auf', 'die', 'rolle', 'des', 'klimaschutzes', 'und', 'der', 'umweltpolitik', 'im', 'rahmen', 'ihrer', 'tätigkeit', 'als', 'wirtschaftsministerin', 'sie', 'werden', 'aus', 'der', 'industrie', 'heraus', 'ja', 'vermehrt', 'dazu', 'aufgefordert', 'klimaschutz', 'als', 'bedeutende', 'chance', 'zu', 'sehen', 'sie', 'werden', 'zum', 'beispiel', 'vom', 'vwchef', 'müller', 'aufgefordert', 'die', 'dieselsubventionen', 'abzubauen', 'die', 'industrie', 'scheint', 'hier', 'also', 'deutlich', 'weiter', 'zu', 'sein', 'als', 'die', 'bundesregierung', 'weil', 'sich', 'die', 'bundesregierung', 'ihrerseits', 'vom', 'klimaziel', '2020', 'verabschiedet', 'was', 'wir', 'für', 'ein', 'fatales', 'signal', 'halten', 'ich', 'möchte', 'von', 'ihnen', 'wissen', 'inwieweit', 'sie', 'als', 'ministerin', 'für', 'eine', 'ökologische', 'industrie', 'und', 'wirtschaftspolitik', 'stehen', 'die', 'auch', 'international', 'eine', 'vorreiterrolle', 'übernehmen', 'kann', 'und', 'sich', 'eben', 'nicht', 'von', 'den', 'entsprechenden', 'zielen', 'verabschiedet', 'sondern', 'versucht', 'diese', 'mit', 'aller', 'kraft', 'zu', 'erreichen']",
         "125"
        ],
        [
         "18",
         "e1a116e1-d9b7-4184-579a-08da0f22a008",
         "11003547",
         "Ich möchte die Bundesregierung zum Thema Familiennachzug fragen, wie ich ihre Aussage zu verstehen habe, dass die Definition eines Härtefalls Gegenstand von Gesetzgebungsprozessen ist und es keine Überlegungen gibt, sich hinsichtlich einer Definition an der Härtefallregelung des Landes Berlin zu orientieren. Gestern wurde aber im Hauptausschuss den Abgeordneten genau das Gegenteil als Überlegung bekannt gegeben. Wie passt das zusammen?\n",
         "19",
         "10",
         "1",
         "11003547",
         "Anja",
         "Hajduk",
         "BÜNDNIS 90/DIE GRÜNEN",
         "Bündnis 90 / Die Grünen",
         "ich möchte die bundesregierung zum thema familiennachzug fragen wie ich ihre aussage zu verstehen habe dass die definition eines härtefalls gegenstand von gesetzgebungsprozessen ist und es keine überlegungen gibt sich hinsichtlich einer definition an der härtefallregelung des landes berlin zu orientieren gestern wurde aber im hauptausschuss den abgeordneten genau das gegenteil als überlegung bekannt gegeben wie passt das zusammen\n",
         "['ich', 'möchte', 'die', 'bundesregierung', 'zum', 'thema', 'familiennachzug', 'fragen', 'wie', 'ich', 'ihre', 'aussage', 'zu', 'verstehen', 'habe', 'dass', 'die', 'definition', 'eines', 'härtefalls', 'gegenstand', 'von', 'gesetzgebungsprozessen', 'ist', 'und', 'es', 'keine', 'überlegungen', 'gibt', 'sich', 'hinsichtlich', 'einer', 'definition', 'an', 'der', 'härtefallregelung', 'des', 'landes', 'berlin', 'zu', 'orientieren', 'gestern', 'wurde', 'aber', 'im', 'hauptausschuss', 'den', 'abgeordneten', 'genau', 'das', 'gegenteil', 'als', 'überlegung', 'bekannt', 'gegeben', 'wie', 'passt', 'das', 'zusammen']",
         "59"
        ],
        [
         "19",
         "50ccd658-673d-4479-f36a-08da0e4d69bc",
         "11003547",
         "Sehr geehrte Frau Ministerin, Sie schreiben in dem Bericht – ich zitiere von Seite 9 –:\nFinanzpolitische Handlungsspielräume sind zu nutzen, um die Ausgabenstruktur des Bundeshaushalts schrittweise zu Gunsten wachstumsfördernder Investitionen in Bildung, Forschung und Infrastruktur zu verbessern.\n",
         "19",
         "10",
         "1",
         "11003547",
         "Anja",
         "Hajduk",
         "BÜNDNIS 90/DIE GRÜNEN",
         "Bündnis 90 / Die Grünen",
         "sehr geehrte frau ministerin sie schreiben in dem bericht – ich zitiere von seite 9 –\nfinanzpolitische handlungsspielräume sind zu nutzen um die ausgabenstruktur des bundeshaushalts schrittweise zu gunsten wachstumsfördernder investitionen in bildung forschung und infrastruktur zu verbessern\n",
         "['sehr', 'geehrte', 'frau', 'ministerin', 'sie', 'schreiben', 'in', 'dem', 'bericht', '–', 'ich', 'zitiere', 'von', 'seite', '9', '–', 'finanzpolitische', 'handlungsspielräume', 'sind', 'zu', 'nutzen', 'um', 'die', 'ausgabenstruktur', 'des', 'bundeshaushalts', 'schrittweise', 'zu', 'gunsten', 'wachstumsfördernder', 'investitionen', 'in', 'bildung', 'forschung', 'und', 'infrastruktur', 'zu', 'verbessern']",
         "38"
        ],
        [
         "20",
         "629d375b-c0a2-4c3f-fbcb-08da0daf380d",
         "11003628",
         "Wie ein Härtefall definiert wird, wird Gegenstand der gesetzlichen Beratungen sein. Gestern im Hauptausschuss ist ja eine Übergangsregelung auf den Weg gebracht worden. Die Überlegungen aber, die Sie eben angestellt haben, gibt es in der Bundesregierung bisher nicht.\n",
         "19",
         "10",
         "1",
         "11003628",
         "Ole",
         "Schröder",
         "CDU",
         null,
         "wie ein härtefall definiert wird wird gegenstand der gesetzlichen beratungen sein gestern im hauptausschuss ist ja eine übergangsregelung auf den weg gebracht worden die überlegungen aber die sie eben angestellt haben gibt es in der bundesregierung bisher nicht\n",
         "['wie', 'ein', 'härtefall', 'definiert', 'wird', 'wird', 'gegenstand', 'der', 'gesetzlichen', 'beratungen', 'sein', 'gestern', 'im', 'hauptausschuss', 'ist', 'ja', 'eine', 'übergangsregelung', 'auf', 'den', 'weg', 'gebracht', 'worden', 'die', 'überlegungen', 'aber', 'die', 'sie', 'eben', 'angestellt', 'haben', 'gibt', 'es', 'in', 'der', 'bundesregierung', 'bisher', 'nicht']",
         "38"
        ],
        [
         "21",
         "caeb519d-1b6d-45c4-6be1-08da102a68d8",
         "11003628",
         "Ich saß gestern im Hauptausschuss. Wir haben solche Überlegungen nicht geäußert. Ich habe gestern im Hauptausschuss lediglich dargestellt, welche möglichen Kriterien es geben könnte, um einen Härtefall entsprechend zu definieren.\n",
         "19",
         "10",
         "1",
         "11003628",
         "Ole",
         "Schröder",
         "CDU",
         null,
         "ich saß gestern im hauptausschuss wir haben solche überlegungen nicht geäußert ich habe gestern im hauptausschuss lediglich dargestellt welche möglichen kriterien es geben könnte um einen härtefall entsprechend zu definieren\n",
         "['ich', 'saß', 'gestern', 'im', 'hauptausschuss', 'wir', 'haben', 'solche', 'überlegungen', 'nicht', 'geäußert', 'ich', 'habe', 'gestern', 'im', 'hauptausschuss', 'lediglich', 'dargestellt', 'welche', 'möglichen', 'kriterien', 'es', 'geben', 'könnte', 'um', 'einen', 'härtefall', 'entsprechend', 'zu', 'definieren']",
         "30"
        ],
        [
         "22",
         "d3e0e899-d6db-49ae-49c7-08da0e9b3c58",
         "11003858",
         "Frau Ministerin, Sie waren heute Morgen schon bei uns im Wirtschaftsausschuss. Da haben Sie die Frage nach den riesigen Außenhandelsüberschüssen und dem blauen Brief der Kommission, den wir jedes Jahr erhalten, ein bisschen heruntergespielt und erklärt, das sei alles nicht so schlimm.\nKönnen Sie noch einmal die Frage beantworten, warum uns dann die Kommission jedes Jahr diesen blauen Brief schreibt, in dem steht, dass die Außenhandelsüberschüsse in Deutschland viel zu hoch seien und abgebaut werden müssten? Da reicht auch die Antwort nicht, dass die Bilanz innerhalb der EU besser geworden ist, sondern wir liegen seit Jahren deutlich über der 6-Prozent-Marke.\n",
         "19",
         "10",
         "1",
         "11003858",
         "Alexander",
         "Ulrich",
         "DIE LINKE.",
         "Die Linke",
         "frau ministerin sie waren heute morgen schon bei uns im wirtschaftsausschuss da haben sie die frage nach den riesigen außenhandelsüberschüssen und dem blauen brief der kommission den wir jedes jahr erhalten ein bisschen heruntergespielt und erklärt das sei alles nicht so schlimm\nkönnen sie noch einmal die frage beantworten warum uns dann die kommission jedes jahr diesen blauen brief schreibt in dem steht dass die außenhandelsüberschüsse in deutschland viel zu hoch seien und abgebaut werden müssten da reicht auch die antwort nicht dass die bilanz innerhalb der eu besser geworden ist sondern wir liegen seit jahren deutlich über der 6prozentmarke\n",
         "['frau', 'ministerin', 'sie', 'waren', 'heute', 'morgen', 'schon', 'bei', 'uns', 'im', 'wirtschaftsausschuss', 'da', 'haben', 'sie', 'die', 'frage', 'nach', 'den', 'riesigen', 'außenhandelsüberschüssen', 'und', 'dem', 'blauen', 'brief', 'der', 'kommission', 'den', 'wir', 'jedes', 'jahr', 'erhalten', 'ein', 'bisschen', 'heruntergespielt', 'und', 'erklärt', 'das', 'sei', 'alles', 'nicht', 'so', 'schlimm', 'können', 'sie', 'noch', 'einmal', 'die', 'frage', 'beantworten', 'warum', 'uns', 'dann', 'die', 'kommission', 'jedes', 'jahr', 'diesen', 'blauen', 'brief', 'schreibt', 'in', 'dem', 'steht', 'dass', 'die', 'außenhandelsüberschüsse', 'in', 'deutschland', 'viel', 'zu', 'hoch', 'seien', 'und', 'abgebaut', 'werden', 'müssten', 'da', 'reicht', 'auch', 'die', 'antwort', 'nicht', 'dass', 'die', 'bilanz', 'innerhalb', 'der', 'eu', 'besser', 'geworden', 'ist', 'sondern', 'wir', 'liegen', 'seit', 'jahren', 'deutlich', 'über', 'der', '6prozentmarke']",
         "100"
        ],
        [
         "23",
         "37bd37b0-d419-451c-0184-08da0f05b642",
         "11003870",
         "Herr Abgeordneter, ich habe eben schon in meinem Bericht gesagt, dass es zwar richtig ist, dass wir insgesamt einen Leistungsbilanzüberschuss haben, der bei gut 7 Prozent liegt, dass wir aber innerhalb der Europäischen Union nur noch bei gut 2 Prozent sind. Unser Leistungsbilanzüberschuss geht seit vier Jahren kontinuierlich zurück, und wir prognostizieren in diesem Jahreswirtschaftsbericht einen weiteren Rückgang.\nDas heißt mit anderen Worten: Die Kommission nimmt zur Kenntnis, dass Deutschland sich anstrengt und dass wir etwas dafür tun. – Das ist das eine.\nDas andere ist, dass das natürlich nicht nur unsere Sache ist. Denn teilweise sind die Bedingungen dafür, dass es so einen Leistungsbilanzüberschuss gibt, auch objektiver Natur – ich habe das heute Morgen im Ausschuss schon gesagt –: Das sind beispielsweise der Ölpreis, die demografische Entwicklung und anderes, was man nicht unmittelbar steuern kann.\nDeswegen ist es eben wichtig, dass man sieht, dass auch andere Länder wachsen und ihrerseits mit ihrem Wachsen den Abstand zu uns verringern. Denn auch das ist etwas, das eintritt: Die Konjunktur in Spanien, Frankreich und anderen Ländern hat sich deutlich belebt, und das merken wir natürlich auch bei der Entwicklung des Leistungsbilanzüberschusses in Deutschland.\n",
         "19",
         "10",
         "1",
         "11003870",
         "Brigitte",
         "Zypries",
         "SPD",
         null,
         "herr abgeordneter ich habe eben schon in meinem bericht gesagt dass es zwar richtig ist dass wir insgesamt einen leistungsbilanzüberschuss haben der bei gut 7 prozent liegt dass wir aber innerhalb der europäischen union nur noch bei gut 2 prozent sind unser leistungsbilanzüberschuss geht seit vier jahren kontinuierlich zurück und wir prognostizieren in diesem jahreswirtschaftsbericht einen weiteren rückgang\ndas heißt mit anderen worten die kommission nimmt zur kenntnis dass deutschland sich anstrengt und dass wir etwas dafür tun – das ist das eine\ndas andere ist dass das natürlich nicht nur unsere sache ist denn teilweise sind die bedingungen dafür dass es so einen leistungsbilanzüberschuss gibt auch objektiver natur – ich habe das heute morgen im ausschuss schon gesagt – das sind beispielsweise der ölpreis die demografische entwicklung und anderes was man nicht unmittelbar steuern kann\ndeswegen ist es eben wichtig dass man sieht dass auch andere länder wachsen und ihrerseits mit ihrem wachsen den abstand zu uns verringern denn auch das ist etwas das eintritt die konjunktur in spanien frankreich und anderen ländern hat sich deutlich belebt und das merken wir natürlich auch bei der entwicklung des leistungsbilanzüberschusses in deutschland\n",
         "['herr', 'abgeordneter', 'ich', 'habe', 'eben', 'schon', 'in', 'meinem', 'bericht', 'gesagt', 'dass', 'es', 'zwar', 'richtig', 'ist', 'dass', 'wir', 'insgesamt', 'einen', 'leistungsbilanzüberschuss', 'haben', 'der', 'bei', 'gut', '7', 'prozent', 'liegt', 'dass', 'wir', 'aber', 'innerhalb', 'der', 'europäischen', 'union', 'nur', 'noch', 'bei', 'gut', '2', 'prozent', 'sind', 'unser', 'leistungsbilanzüberschuss', 'geht', 'seit', 'vier', 'jahren', 'kontinuierlich', 'zurück', 'und', 'wir', 'prognostizieren', 'in', 'diesem', 'jahreswirtschaftsbericht', 'einen', 'weiteren', 'rückgang', 'das', 'heißt', 'mit', 'anderen', 'worten', 'die', 'kommission', 'nimmt', 'zur', 'kenntnis', 'dass', 'deutschland', 'sich', 'anstrengt', 'und', 'dass', 'wir', 'etwas', 'dafür', 'tun', '–', 'das', 'ist', 'das', 'eine', 'das', 'andere', 'ist', 'dass', 'das', 'natürlich', 'nicht', 'nur', 'unsere', 'sache', 'ist', 'denn', 'teilweise', 'sind', 'die', 'bedingungen', 'dafür', 'dass', 'es', 'so', 'einen', 'leistungsbilanzüberschuss', 'gibt', 'auch', 'objektiver', 'natur', '–', 'ich', 'habe', 'das', 'heute', 'morgen', 'im', 'ausschuss', 'schon', 'gesagt', '–', 'das', 'sind', 'beispielsweise', 'der', 'ölpreis', 'die', 'demografische', 'entwicklung', 'und', 'anderes', 'was', 'man', 'nicht', 'unmittelbar', 'steuern', 'kann', 'deswegen', 'ist', 'es', 'eben', 'wichtig', 'dass', 'man', 'sieht', 'dass', 'auch', 'andere', 'länder', 'wachsen', 'und', 'ihrerseits', 'mit', 'ihrem', 'wachsen', 'den', 'abstand', 'zu', 'uns', 'verringern', 'denn', 'auch', 'das', 'ist', 'etwas', 'das', 'eintritt', 'die', 'konjunktur', 'in', 'spanien', 'frankreich', 'und', 'anderen', 'ländern', 'hat', 'sich', 'deutlich', 'belebt', 'und', 'das', 'merken', 'wir', 'natürlich', 'auch', 'bei', 'der', 'entwicklung', 'des', 'leistungsbilanzüberschusses', 'in', 'deutschland']",
         "191"
        ],
        [
         "24",
         "0587d73e-2448-4704-048e-08da0f05b642",
         "11003870",
         "Herr Abgeordneter, soweit ich weiß, gibt es keine Überlegung in der Bundesregierung, das anzugleichen; dazu kann der Kollege Meister vom BMF vielleicht gleich noch etwas sagen. Ihre Annahme unterstellt auch, dass diese Personengesellschaften den höchsten Steuersatz zahlen. Das ist aber in den meisten Fällen nicht so, sodass sie sich durchaus auch besserstellen können, wenn ihr Steueraufkommen nach Einkommensteuergrundsätzen, nicht nach Körperschaftsteuergrundsätzen berechnet wird.\nFrau Präsidentin, ist es okay, wenn Herr Meister noch etwas dazu sagt?\nWenn er dazu etwas beitragen kann, dann machen wir das jetzt so.\nIn der Regel kann Herr Meister etwas beitragen.\n",
         "19",
         "10",
         "1",
         "11003870",
         "Brigitte",
         "Zypries",
         "SPD",
         null,
         "herr abgeordneter soweit ich weiß gibt es keine überlegung in der bundesregierung das anzugleichen dazu kann der kollege meister vom bmf vielleicht gleich noch etwas sagen ihre annahme unterstellt auch dass diese personengesellschaften den höchsten steuersatz zahlen das ist aber in den meisten fällen nicht so sodass sie sich durchaus auch besserstellen können wenn ihr steueraufkommen nach einkommensteuergrundsätzen nicht nach körperschaftsteuergrundsätzen berechnet wird\nfrau präsidentin ist es okay wenn herr meister noch etwas dazu sagt\nwenn er dazu etwas beitragen kann dann machen wir das jetzt so\nin der regel kann herr meister etwas beitragen\n",
         "['herr', 'abgeordneter', 'soweit', 'ich', 'weiß', 'gibt', 'es', 'keine', 'überlegung', 'in', 'der', 'bundesregierung', 'das', 'anzugleichen', 'dazu', 'kann', 'der', 'kollege', 'meister', 'vom', 'bmf', 'vielleicht', 'gleich', 'noch', 'etwas', 'sagen', 'ihre', 'annahme', 'unterstellt', 'auch', 'dass', 'diese', 'personengesellschaften', 'den', 'höchsten', 'steuersatz', 'zahlen', 'das', 'ist', 'aber', 'in', 'den', 'meisten', 'fällen', 'nicht', 'so', 'sodass', 'sie', 'sich', 'durchaus', 'auch', 'besserstellen', 'können', 'wenn', 'ihr', 'steueraufkommen', 'nach', 'einkommensteuergrundsätzen', 'nicht', 'nach', 'körperschaftsteuergrundsätzen', 'berechnet', 'wird', 'frau', 'präsidentin', 'ist', 'es', 'okay', 'wenn', 'herr', 'meister', 'noch', 'etwas', 'dazu', 'sagt', 'wenn', 'er', 'dazu', 'etwas', 'beitragen', 'kann', 'dann', 'machen', 'wir', 'das', 'jetzt', 'so', 'in', 'der', 'regel', 'kann', 'herr', 'meister', 'etwas', 'beitragen']",
         "95"
        ],
        [
         "25",
         "903c8fb2-4487-4964-58c2-08da0f22a008",
         "11003870",
         "Ich kann das so jetzt nicht beantworten. Das müssen wir erst einmal sorgfältig prüfen. Wir wissen das jetzt, so wie wir hier sitzen, nicht in aller Vollständigkeit. Deswegen prüfen wir das besser und beantworten das dann schriftlich.\nVom BMBF ist kein Geld geflossen, höre ich gerade.\n",
         "19",
         "10",
         "1",
         "11003870",
         "Brigitte",
         "Zypries",
         "SPD",
         null,
         "ich kann das so jetzt nicht beantworten das müssen wir erst einmal sorgfältig prüfen wir wissen das jetzt so wie wir hier sitzen nicht in aller vollständigkeit deswegen prüfen wir das besser und beantworten das dann schriftlich\nvom bmbf ist kein geld geflossen höre ich gerade\n",
         "['ich', 'kann', 'das', 'so', 'jetzt', 'nicht', 'beantworten', 'das', 'müssen', 'wir', 'erst', 'einmal', 'sorgfältig', 'prüfen', 'wir', 'wissen', 'das', 'jetzt', 'so', 'wie', 'wir', 'hier', 'sitzen', 'nicht', 'in', 'aller', 'vollständigkeit', 'deswegen', 'prüfen', 'wir', 'das', 'besser', 'und', 'beantworten', 'das', 'dann', 'schriftlich', 'vom', 'bmbf', 'ist', 'kein', 'geld', 'geflossen', 'höre', 'ich', 'gerade']",
         "46"
        ],
        [
         "26",
         "ceb30727-2565-40af-52cd-08da0f22a008",
         "11003870",
         "Herr Abgeordneter, wir erörtern die Frage des Kohleausstieges in einem sehr umfassenden Prozess. Wir sind dabei, vor allen Dingen mit den betroffenen Regionen einen Prozess aufzusetzen. Denn es kann ja nicht nur darum gehen, von heute auf morgen bestimmte Kraftwerke oder den Kohleabbau stillzulegen, sondern man muss ja auch überlegen: Was passiert mit den Regionen? Wo finden die Menschen Arbeit? – So einfach ist das alles nicht. Deswegen wird es einen Prozess geben, in dem wir erörtern werden, wie man das sinnvoll gestalten kann.\nIm Übrigen kann ich Ihnen versichern, dass die Energiegewinnung aus erneuerbaren Quellen inzwischen deutlich angestiegen ist. An manchen Tagen überwiegt diese Energiegewinnung. Generell haben wir eine Quote für die erneuerbaren Energien in Höhe von gut 30 Prozent.\n",
         "19",
         "10",
         "1",
         "11003870",
         "Brigitte",
         "Zypries",
         "SPD",
         null,
         "herr abgeordneter wir erörtern die frage des kohleausstieges in einem sehr umfassenden prozess wir sind dabei vor allen dingen mit den betroffenen regionen einen prozess aufzusetzen denn es kann ja nicht nur darum gehen von heute auf morgen bestimmte kraftwerke oder den kohleabbau stillzulegen sondern man muss ja auch überlegen was passiert mit den regionen wo finden die menschen arbeit – so einfach ist das alles nicht deswegen wird es einen prozess geben in dem wir erörtern werden wie man das sinnvoll gestalten kann\nim übrigen kann ich ihnen versichern dass die energiegewinnung aus erneuerbaren quellen inzwischen deutlich angestiegen ist an manchen tagen überwiegt diese energiegewinnung generell haben wir eine quote für die erneuerbaren energien in höhe von gut 30 prozent\n",
         "['herr', 'abgeordneter', 'wir', 'erörtern', 'die', 'frage', 'des', 'kohleausstieges', 'in', 'einem', 'sehr', 'umfassenden', 'prozess', 'wir', 'sind', 'dabei', 'vor', 'allen', 'dingen', 'mit', 'den', 'betroffenen', 'regionen', 'einen', 'prozess', 'aufzusetzen', 'denn', 'es', 'kann', 'ja', 'nicht', 'nur', 'darum', 'gehen', 'von', 'heute', 'auf', 'morgen', 'bestimmte', 'kraftwerke', 'oder', 'den', 'kohleabbau', 'stillzulegen', 'sondern', 'man', 'muss', 'ja', 'auch', 'überlegen', 'was', 'passiert', 'mit', 'den', 'regionen', 'wo', 'finden', 'die', 'menschen', 'arbeit', '–', 'so', 'einfach', 'ist', 'das', 'alles', 'nicht', 'deswegen', 'wird', 'es', 'einen', 'prozess', 'geben', 'in', 'dem', 'wir', 'erörtern', 'werden', 'wie', 'man', 'das', 'sinnvoll', 'gestalten', 'kann', 'im', 'übrigen', 'kann', 'ich', 'ihnen', 'versichern', 'dass', 'die', 'energiegewinnung', 'aus', 'erneuerbaren', 'quellen', 'inzwischen', 'deutlich', 'angestiegen', 'ist', 'an', 'manchen', 'tagen', 'überwiegt', 'diese', 'energiegewinnung', 'generell', 'haben', 'wir', 'eine', 'quote', 'für', 'die', 'erneuerbaren', 'energien', 'in', 'höhe', 'von', 'gut', '30', 'prozent']",
         "121"
        ],
        [
         "27",
         "7039dea3-d299-4981-53fa-08da0f22a008",
         "11003870",
         "Wir sind nicht der Auffassung, dass es derzeit schon eine Immobilienblase gibt. Die Preise sind zwar hoch, aber nach allem, was ich von Untersuchungen unabhängiger Institute weiß, wird das noch nicht als Blase angesehen. Im Gegenteil: Man geht davon aus, dass dieses hohe Niveau erhalten bleibt.\nIch glaube, das Beste, was man dagegen tun kann, ist, wieder stärker in den sozialen Wohnungsbau zu investieren und deutlich zu machen, dass wir die Mietpreise kontrollieren – Stichwort „Mietpreisbremse“ –, damit diejenigen, die glauben, Spekulationsobjekte in Form von Wohnraum kaufen zu müssen, wissen, dass sie damit nicht wirklich spekulieren können; es sei denn, sie spekulieren darauf, dass es in zehn Jahren noch teurer wird.\nDanke. – Gibt es Fragen zu anderen Themen der heutigen Kabinettssitzung? – Wir sind im Moment noch in der Regierungsbefragung. Jetzt geht es um andere Themen der heutigen Kabinettssitzung, und dann kommen die sonstigen Fragen an die Bundesregierung.\n– Frau Polat, Sie haben das Wort zu einer Frage zu anderen Themen der Kabinettssitzung.\n– Ich erkläre es gerne noch einmal, damit es für alle klar ist: Wir haben zuerst die Fragen zum Bericht der Frau Ministerin behandelt. Wir haben in diesem Format die Möglichkeit, noch zu zwei weiteren Bereichen zu fragen. Zunächst geht es um Fragen zu anderen Themen der heutigen Kabinettssitzung, und danach kommen die sonstigen Fragen.\nBezieht sich Ihre Frage, Frau Polat, auf die Kabinettssitzung, oder ist es eine sonstige Frage?\n",
         "19",
         "10",
         "1",
         "11003870",
         "Brigitte",
         "Zypries",
         "SPD",
         null,
         "wir sind nicht der auffassung dass es derzeit schon eine immobilienblase gibt die preise sind zwar hoch aber nach allem was ich von untersuchungen unabhängiger institute weiß wird das noch nicht als blase angesehen im gegenteil man geht davon aus dass dieses hohe niveau erhalten bleibt\nich glaube das beste was man dagegen tun kann ist wieder stärker in den sozialen wohnungsbau zu investieren und deutlich zu machen dass wir die mietpreise kontrollieren – stichwort „mietpreisbremse“ – damit diejenigen die glauben spekulationsobjekte in form von wohnraum kaufen zu müssen wissen dass sie damit nicht wirklich spekulieren können es sei denn sie spekulieren darauf dass es in zehn jahren noch teurer wird\ndanke – gibt es fragen zu anderen themen der heutigen kabinettssitzung – wir sind im moment noch in der regierungsbefragung jetzt geht es um andere themen der heutigen kabinettssitzung und dann kommen die sonstigen fragen an die bundesregierung\n– frau polat sie haben das wort zu einer frage zu anderen themen der kabinettssitzung\n– ich erkläre es gerne noch einmal damit es für alle klar ist wir haben zuerst die fragen zum bericht der frau ministerin behandelt wir haben in diesem format die möglichkeit noch zu zwei weiteren bereichen zu fragen zunächst geht es um fragen zu anderen themen der heutigen kabinettssitzung und danach kommen die sonstigen fragen\nbezieht sich ihre frage frau polat auf die kabinettssitzung oder ist es eine sonstige frage\n",
         "['wir', 'sind', 'nicht', 'der', 'auffassung', 'dass', 'es', 'derzeit', 'schon', 'eine', 'immobilienblase', 'gibt', 'die', 'preise', 'sind', 'zwar', 'hoch', 'aber', 'nach', 'allem', 'was', 'ich', 'von', 'untersuchungen', 'unabhängiger', 'institute', 'weiß', 'wird', 'das', 'noch', 'nicht', 'als', 'blase', 'angesehen', 'im', 'gegenteil', 'man', 'geht', 'davon', 'aus', 'dass', 'dieses', 'hohe', 'niveau', 'erhalten', 'bleibt', 'ich', 'glaube', 'das', 'beste', 'was', 'man', 'dagegen', 'tun', 'kann', 'ist', 'wieder', 'stärker', 'in', 'den', 'sozialen', 'wohnungsbau', 'zu', 'investieren', 'und', 'deutlich', 'zu', 'machen', 'dass', 'wir', 'die', 'mietpreise', 'kontrollieren', '–', 'stichwort', '„mietpreisbremse“', '–', 'damit', 'diejenigen', 'die', 'glauben', 'spekulationsobjekte', 'in', 'form', 'von', 'wohnraum', 'kaufen', 'zu', 'müssen', 'wissen', 'dass', 'sie', 'damit', 'nicht', 'wirklich', 'spekulieren', 'können', 'es', 'sei', 'denn', 'sie', 'spekulieren', 'darauf', 'dass', 'es', 'in', 'zehn', 'jahren', 'noch', 'teurer', 'wird', 'danke', '–', 'gibt', 'es', 'fragen', 'zu', 'anderen', 'themen', 'der', 'heutigen', 'kabinettssitzung', '–', 'wir', 'sind', 'im', 'moment', 'noch', 'in', 'der', 'regierungsbefragung', 'jetzt', 'geht', 'es', 'um', 'andere', 'themen', 'der', 'heutigen', 'kabinettssitzung', 'und', 'dann', 'kommen', 'die', 'sonstigen', 'fragen', 'an', 'die', 'bundesregierung', '–', 'frau', 'polat', 'sie', 'haben', 'das', 'wort', 'zu', 'einer', 'frage', 'zu', 'anderen', 'themen', 'der', 'kabinettssitzung', '–', 'ich', 'erkläre', 'es', 'gerne', 'noch', 'einmal', 'damit', 'es', 'für', 'alle', 'klar', 'ist', 'wir', 'haben', 'zuerst', 'die', 'fragen', 'zum', 'bericht', 'der', 'frau', 'ministerin', 'behandelt', 'wir', 'haben', 'in', 'diesem', 'format', 'die', 'möglichkeit', 'noch', 'zu', 'zwei', 'weiteren', 'bereichen', 'zu', 'fragen', 'zunächst', 'geht', 'es', 'um', 'fragen', 'zu', 'anderen', 'themen', 'der', 'heutigen', 'kabinettssitzung', 'und', 'danach', 'kommen', 'die', 'sonstigen', 'fragen', 'bezieht', 'sich', 'ihre', 'frage', 'frau', 'polat', 'auf', 'die', 'kabinettssitzung', 'oder', 'ist', 'es', 'eine', 'sonstige', 'frage']",
         "234"
        ],
        [
         "28",
         "88453190-dcd3-4113-fb35-08da0daf380d",
         "11003870",
         "Herr Abgeordneter, die Bundesregierung teilt Ihre Einschätzung nicht.\nWir gehen nicht davon aus, dass sich die Zinsentwicklung in den nächsten zwei, drei Jahren in einem solch signifikanten Bereich bewegen wird, dass in irgendeiner Form von einem erheblichen Zinsanstieg die Rede sein kann. Wir gehen davon aus, dass der Zinsanstieg, wenn überhaupt, in moderaten Schritten erfolgt. Wir rechnen nicht mit einem erheblichen Zinsanstieg.\n",
         "19",
         "10",
         "1",
         "11003870",
         "Brigitte",
         "Zypries",
         "SPD",
         null,
         "herr abgeordneter die bundesregierung teilt ihre einschätzung nicht\nwir gehen nicht davon aus dass sich die zinsentwicklung in den nächsten zwei drei jahren in einem solch signifikanten bereich bewegen wird dass in irgendeiner form von einem erheblichen zinsanstieg die rede sein kann wir gehen davon aus dass der zinsanstieg wenn überhaupt in moderaten schritten erfolgt wir rechnen nicht mit einem erheblichen zinsanstieg\n",
         "['herr', 'abgeordneter', 'die', 'bundesregierung', 'teilt', 'ihre', 'einschätzung', 'nicht', 'wir', 'gehen', 'nicht', 'davon', 'aus', 'dass', 'sich', 'die', 'zinsentwicklung', 'in', 'den', 'nächsten', 'zwei', 'drei', 'jahren', 'in', 'einem', 'solch', 'signifikanten', 'bereich', 'bewegen', 'wird', 'dass', 'in', 'irgendeiner', 'form', 'von', 'einem', 'erheblichen', 'zinsanstieg', 'die', 'rede', 'sein', 'kann', 'wir', 'gehen', 'davon', 'aus', 'dass', 'der', 'zinsanstieg', 'wenn', 'überhaupt', 'in', 'moderaten', 'schritten', 'erfolgt', 'wir', 'rechnen', 'nicht', 'mit', 'einem', 'erheblichen', 'zinsanstieg']",
         "62"
        ],
        [
         "29",
         "5388d754-574e-4ce8-fb91-08da0daf380d",
         "11003870",
         "Frau Hajduk, ich bin der Auffassung, dass eine gute Bildungslandschaft eine entscheidende Voraussetzung dafür ist, dass Deutschland auch in den nächsten Jahren eine Vorreiterrolle als Industrienation hat. Deswegen bin ich persönlich der Auffassung, dass wir so viel wie möglich in Bildung investieren sollten. Aber selbstverständlich ist es so, dass es immer unterschiedliche Notwendigkeiten gibt und dass diejenigen, die die Regierung führen, abwägen müssen, wie viel Geld sie tatsächlich für Bildung zur Verfügung stellen und wie viel Geld für anderes zur Verfügung gestellt werden muss. Denn es darf natürlich nicht nur ein Thema geben, das wichtig ist, auch wenn ich persönlich es für wichtig halte.\nDeswegen würde ich gern dabei bleiben wollen, dass ich sage: Diejenigen, die die nächste Regierung stellen – ich werde ihr bekannterweise nicht angehören –,\nhaben das zu entscheiden.\n",
         "19",
         "10",
         "1",
         "11003870",
         "Brigitte",
         "Zypries",
         "SPD",
         null,
         "frau hajduk ich bin der auffassung dass eine gute bildungslandschaft eine entscheidende voraussetzung dafür ist dass deutschland auch in den nächsten jahren eine vorreiterrolle als industrienation hat deswegen bin ich persönlich der auffassung dass wir so viel wie möglich in bildung investieren sollten aber selbstverständlich ist es so dass es immer unterschiedliche notwendigkeiten gibt und dass diejenigen die die regierung führen abwägen müssen wie viel geld sie tatsächlich für bildung zur verfügung stellen und wie viel geld für anderes zur verfügung gestellt werden muss denn es darf natürlich nicht nur ein thema geben das wichtig ist auch wenn ich persönlich es für wichtig halte\ndeswegen würde ich gern dabei bleiben wollen dass ich sage diejenigen die die nächste regierung stellen – ich werde ihr bekannterweise nicht angehören –\nhaben das zu entscheiden\n",
         "['frau', 'hajduk', 'ich', 'bin', 'der', 'auffassung', 'dass', 'eine', 'gute', 'bildungslandschaft', 'eine', 'entscheidende', 'voraussetzung', 'dafür', 'ist', 'dass', 'deutschland', 'auch', 'in', 'den', 'nächsten', 'jahren', 'eine', 'vorreiterrolle', 'als', 'industrienation', 'hat', 'deswegen', 'bin', 'ich', 'persönlich', 'der', 'auffassung', 'dass', 'wir', 'so', 'viel', 'wie', 'möglich', 'in', 'bildung', 'investieren', 'sollten', 'aber', 'selbstverständlich', 'ist', 'es', 'so', 'dass', 'es', 'immer', 'unterschiedliche', 'notwendigkeiten', 'gibt', 'und', 'dass', 'diejenigen', 'die', 'die', 'regierung', 'führen', 'abwägen', 'müssen', 'wie', 'viel', 'geld', 'sie', 'tatsächlich', 'für', 'bildung', 'zur', 'verfügung', 'stellen', 'und', 'wie', 'viel', 'geld', 'für', 'anderes', 'zur', 'verfügung', 'gestellt', 'werden', 'muss', 'denn', 'es', 'darf', 'natürlich', 'nicht', 'nur', 'ein', 'thema', 'geben', 'das', 'wichtig', 'ist', 'auch', 'wenn', 'ich', 'persönlich', 'es', 'für', 'wichtig', 'halte', 'deswegen', 'würde', 'ich', 'gern', 'dabei', 'bleiben', 'wollen', 'dass', 'ich', 'sage', 'diejenigen', 'die', 'die', 'nächste', 'regierung', 'stellen', '–', 'ich', 'werde', 'ihr', 'bekannterweise', 'nicht', 'angehören', '–', 'haben', 'das', 'zu', 'entscheiden']",
         "132"
        ],
        [
         "30",
         "24dba7f5-c1b3-4b5b-fdf5-08da0daf380d",
         "11003870",
         "Was Sie hier abfragen, fällt in die Zuständigkeit der Bundesländer. Deshalb kann ich Ihnen im Moment dazu keine Antwort geben. Wir können gerne über die Beauftragte der Bundesregierung für Kultur und Medien versuchen, das bei den Bundesländern in Erfahrung zu bringen.\n",
         "19",
         "10",
         "1",
         "11003870",
         "Brigitte",
         "Zypries",
         "SPD",
         null,
         "was sie hier abfragen fällt in die zuständigkeit der bundesländer deshalb kann ich ihnen im moment dazu keine antwort geben wir können gerne über die beauftragte der bundesregierung für kultur und medien versuchen das bei den bundesländern in erfahrung zu bringen\n",
         "['was', 'sie', 'hier', 'abfragen', 'fällt', 'in', 'die', 'zuständigkeit', 'der', 'bundesländer', 'deshalb', 'kann', 'ich', 'ihnen', 'im', 'moment', 'dazu', 'keine', 'antwort', 'geben', 'wir', 'können', 'gerne', 'über', 'die', 'beauftragte', 'der', 'bundesregierung', 'für', 'kultur', 'und', 'medien', 'versuchen', 'das', 'bei', 'den', 'bundesländern', 'in', 'erfahrung', 'zu', 'bringen']",
         "41"
        ],
        [
         "31",
         "eb89c965-686b-418e-f3cc-08da0e4d69bc",
         "11003870",
         "Herr Abgeordneter, Sie haben richtigerweise darauf hingewiesen, dass die deutsche Wirtschaft gut qualifizierte Fachkräfte braucht. Wir haben ja eben schon das Thema „Mehr duale Berufsausbildung“ angesprochen, und da braucht man natürlich auch solche, die was vom Digitalen verstehen. Wir müssen deshalb die Berufsschulen unbedingt entsprechend ausstatten; denn es macht keinen Sinn, dass diejenigen, die eine Lehre machen, in den Betrieben mit modernen Geräten konfrontiert sind, in der Schule nicht damit üben können. Wir müssen sehen, dass jedes Unternehmen in Deutschland in irgendeiner Form von der Digitalisierung betroffen ist, sich darauf einstellen muss und dementsprechend ausgebildete junge Leute braucht. Daher halte ich es für unabdingbar, dass nicht nur die Schulen, sondern auch die Berufsschulen eine ordentliche Ausstattung bekommen, die das Erlernen des Umgangs mit modernen Geräten ermöglicht.\n",
         "19",
         "10",
         "1",
         "11003870",
         "Brigitte",
         "Zypries",
         "SPD",
         null,
         "herr abgeordneter sie haben richtigerweise darauf hingewiesen dass die deutsche wirtschaft gut qualifizierte fachkräfte braucht wir haben ja eben schon das thema „mehr duale berufsausbildung“ angesprochen und da braucht man natürlich auch solche die was vom digitalen verstehen wir müssen deshalb die berufsschulen unbedingt entsprechend ausstatten denn es macht keinen sinn dass diejenigen die eine lehre machen in den betrieben mit modernen geräten konfrontiert sind in der schule nicht damit üben können wir müssen sehen dass jedes unternehmen in deutschland in irgendeiner form von der digitalisierung betroffen ist sich darauf einstellen muss und dementsprechend ausgebildete junge leute braucht daher halte ich es für unabdingbar dass nicht nur die schulen sondern auch die berufsschulen eine ordentliche ausstattung bekommen die das erlernen des umgangs mit modernen geräten ermöglicht\n",
         "['herr', 'abgeordneter', 'sie', 'haben', 'richtigerweise', 'darauf', 'hingewiesen', 'dass', 'die', 'deutsche', 'wirtschaft', 'gut', 'qualifizierte', 'fachkräfte', 'braucht', 'wir', 'haben', 'ja', 'eben', 'schon', 'das', 'thema', '„mehr', 'duale', 'berufsausbildung“', 'angesprochen', 'und', 'da', 'braucht', 'man', 'natürlich', 'auch', 'solche', 'die', 'was', 'vom', 'digitalen', 'verstehen', 'wir', 'müssen', 'deshalb', 'die', 'berufsschulen', 'unbedingt', 'entsprechend', 'ausstatten', 'denn', 'es', 'macht', 'keinen', 'sinn', 'dass', 'diejenigen', 'die', 'eine', 'lehre', 'machen', 'in', 'den', 'betrieben', 'mit', 'modernen', 'geräten', 'konfrontiert', 'sind', 'in', 'der', 'schule', 'nicht', 'damit', 'üben', 'können', 'wir', 'müssen', 'sehen', 'dass', 'jedes', 'unternehmen', 'in', 'deutschland', 'in', 'irgendeiner', 'form', 'von', 'der', 'digitalisierung', 'betroffen', 'ist', 'sich', 'darauf', 'einstellen', 'muss', 'und', 'dementsprechend', 'ausgebildete', 'junge', 'leute', 'braucht', 'daher', 'halte', 'ich', 'es', 'für', 'unabdingbar', 'dass', 'nicht', 'nur', 'die', 'schulen', 'sondern', 'auch', 'die', 'berufsschulen', 'eine', 'ordentliche', 'ausstattung', 'bekommen', 'die', 'das', 'erlernen', 'des', 'umgangs', 'mit', 'modernen', 'geräten', 'ermöglicht']",
         "126"
        ],
        [
         "32",
         "864cc250-ef49-432b-f5ca-08da0e4d69bc",
         "11003870",
         "Frau Präsidentin! Meine sehr geehrten Damen und Herren Abgeordnete! Das Kabinett hat heute den Jahreswirtschaftsbericht 2018 verabschiedet. Sein Titel lautet: „Wirtschaftlich gestärkt in die Zukunft“. Ich habe hier das Vorabexemplar. Wir lassen ihn jetzt drucken, nachdem er im Kabinett verabschiedet und heute Morgen auch schon im Wirtschaftsausschuss diskutiert wurde. Dann können Sie alle ihn gerne haben, sofern Sie ihn sich nicht von unserer Website herunterladen.\nDie Aussichten der deutschen Wirtschaft sind gut; das macht der Titel schon deutlich. Im Jahr 2017 ist das Bruttoinlandsprodukt um 2,2 Prozent gewachsen. Es ist damit das achte Jahr in Folge, dass das Bruttoinlandsprodukt in Deutschland wächst. Wir gehen davon aus, dass sich der Aufschwung auch in diesem Jahr weiter fortsetzen wird. Wir rechnen für das Jahr 2018 mit einem Wachstum von 2,4 Prozent.\nDie Konjunktur, meine Damen und Herren, hat im vergangenen Jahr nicht nur an Schwung nach oben, sondern auch an Ausdehnung in der Breite gewonnen. Mit der anziehenden Weltkonjunktur, die bei etwa 4 Prozent liegt, ziehen die Exporte insgesamt kräftig an. Dadurch, dass unsere deutschen Unternehmen mehr produzieren und mehr verkaufen, müssen sie hier in Deutschland auch mehr investieren. Das ist ein gutes Zeichen. Auch in Deutschland sind die Investitionen der Unternehmen deutlich gestiegen. Gleichzeitig haben die gute Entwicklung am Arbeitsmarkt und die gute Lohnentwicklung für eine solide Konsumnachfrage gesorgt. Die verfügbaren Einkommen sind um etwa 3,6 Prozent gestiegen, die Bruttolöhne und -gehälter der Arbeitnehmerinnen und Arbeitnehmer ebenfalls.\nDie Beschäftigung in Deutschland wird im Durchschnitt dieses Jahres auf ein neues Rekordniveau von 44,8 Millionen Personen steigen; das ist ein Anstieg um knapp eine halbe Million. Gleichzeitig wird die Arbeitslosigkeit weiter sinken. Trotz der zahlreichen zu integrierenden Flüchtlinge ist mit einem Rückgang um knapp 150 000 Personen zu rechnen. Wir gehen davon aus, dass die Arbeitslosenquote dementsprechend weiter sinken wird, auf 5,3 Prozent.\nWegen der starken Binnennachfrage, die sich ja stabilisiert hat, werden sich auch die Importe dynamisch weiterentwickeln. Der Wachstumsbeitrag des Außenhandels bleibt vergleichsweise gering. Wir gehen jedoch davon aus, dass sich der deutsche Leistungsbilanzüberschuss insgesamt leicht absenken wird, und zwar auf 7,8 Prozent. Ich möchte, weil ich vorhin schon danach gefragt wurde, gerne darauf hinweisen, dass der Leistungsbilanzüberschuss beim Handel innerhalb der Europäischen Union bei nur 2 Prozent liegt. Hier hat sich die in den letzten Jahren erfolgte Angleichung deutlich fortgesetzt.\nAll diese Entwicklungen sind natürlich nur möglich, wenn es entsprechende politische Rahmenbedingungen gibt, und deswegen möchte ich gerne ein paar dieser Rahmenbedingungen nennen.\nWir haben in der vergangenen Legislaturperiode die Möglichkeiten der Teilhabe am Arbeitsmarkt und der sozialen Sicherheit deutlich gestärkt. Ich nenne hier stichwortartig das Elterngeld Plus, den Ausbau der Kindertagesbetreuung, die Flexirente, die Angleichung der Berechnungsgrundlagen von Renten in Ost und West und die bessere Absicherung erwerbsgeminderter Menschen.\nDaneben haben wir Impulse für öffentliche Investitionen gesetzt. Wir haben die Ausgaben für Investitionen im Bundeshaushalt um 45 Prozent auf rund 36 Milliarden Euro erhöht. Außerdem haben wir den Kommunen mehr Geld gegeben. Der Kommunalinvestitionsförderfonds wurde jetzt vonseiten des Bundes mit 7 Milliarden Euro ausgestattet. Das ermöglicht es auch den ärmeren Kommunen, in Schulen und Bildung zu investieren.\nDie Rahmenbedingungen für die privaten Investitionen, die ungefähr 90 Prozent der Gesamtinvestitionen ausmachen, sind weiter verbessert worden; Stichwort: Start-up-Gründungen. Das INVEST Wagniskapital haben wir aufgestockt, und den High-Tech Gründerfonds gibt es jetzt schon in seiner dritten Fassung. In diesem Gründerfonds führen wir private und öffentliche Gelder zusammen, die wir Start-ups zur Verfügung stellen.\nSelbstverständlich ist der Abbau von Bürokratie eine Daueraufgabe für die Bundesregierung. In der letzten Legislaturperiode haben wir die One-in-one-out-Regel eingeführt; das heißt, wenn man eine bürokratieintensive Maßnahme einführen will, dann muss man eine andere dafür streichen. Darüber hinaus haben wir mit dem Zweiten Bürokratieentlastungsgesetz deutliche Fortschritte erzielt.\nGleichzeitig ist es möglich gewesen, die Steuerlast der Bürgerinnen und Bürger in Deutschland zu senken, und zwar um insgesamt 11 Milliarden Euro. Das ist gelungen, indem wir die Stufen bei der Steuerprogression ein wenig abgeflacht und auf diese Art und Weise für mehr Gerechtigkeit gesorgt haben. Außerdem ist es gelungen, den öffentlichen Schuldenstand weiter zu reduzieren. Wir rechnen jetzt damit, dass der Schuldenstand in Deutschland bereits nächstes Jahr unter die Maastricht-Grenze in Höhe von 60 Prozent des BIP fallen wird.\nSie sehen also, die Überschrift unseres Jahreswirtschaftsberichts ist berechtigt. Deutschland ist in der Tat in guter Verfassung.\n",
         "19",
         "10",
         "1",
         "11003870",
         "Brigitte",
         "Zypries",
         "SPD",
         null,
         "frau präsidentin meine sehr geehrten damen und herren abgeordnete das kabinett hat heute den jahreswirtschaftsbericht 2018 verabschiedet sein titel lautet „wirtschaftlich gestärkt in die zukunft“ ich habe hier das vorabexemplar wir lassen ihn jetzt drucken nachdem er im kabinett verabschiedet und heute morgen auch schon im wirtschaftsausschuss diskutiert wurde dann können sie alle ihn gerne haben sofern sie ihn sich nicht von unserer website herunterladen\ndie aussichten der deutschen wirtschaft sind gut das macht der titel schon deutlich im jahr 2017 ist das bruttoinlandsprodukt um 22 prozent gewachsen es ist damit das achte jahr in folge dass das bruttoinlandsprodukt in deutschland wächst wir gehen davon aus dass sich der aufschwung auch in diesem jahr weiter fortsetzen wird wir rechnen für das jahr 2018 mit einem wachstum von 24 prozent\ndie konjunktur meine damen und herren hat im vergangenen jahr nicht nur an schwung nach oben sondern auch an ausdehnung in der breite gewonnen mit der anziehenden weltkonjunktur die bei etwa 4 prozent liegt ziehen die exporte insgesamt kräftig an dadurch dass unsere deutschen unternehmen mehr produzieren und mehr verkaufen müssen sie hier in deutschland auch mehr investieren das ist ein gutes zeichen auch in deutschland sind die investitionen der unternehmen deutlich gestiegen gleichzeitig haben die gute entwicklung am arbeitsmarkt und die gute lohnentwicklung für eine solide konsumnachfrage gesorgt die verfügbaren einkommen sind um etwa 36 prozent gestiegen die bruttolöhne und gehälter der arbeitnehmerinnen und arbeitnehmer ebenfalls\ndie beschäftigung in deutschland wird im durchschnitt dieses jahres auf ein neues rekordniveau von 448 millionen personen steigen das ist ein anstieg um knapp eine halbe million gleichzeitig wird die arbeitslosigkeit weiter sinken trotz der zahlreichen zu integrierenden flüchtlinge ist mit einem rückgang um knapp 150 000 personen zu rechnen wir gehen davon aus dass die arbeitslosenquote dementsprechend weiter sinken wird auf 53 prozent\nwegen der starken binnennachfrage die sich ja stabilisiert hat werden sich auch die importe dynamisch weiterentwickeln der wachstumsbeitrag des außenhandels bleibt vergleichsweise gering wir gehen jedoch davon aus dass sich der deutsche leistungsbilanzüberschuss insgesamt leicht absenken wird und zwar auf 78 prozent ich möchte weil ich vorhin schon danach gefragt wurde gerne darauf hinweisen dass der leistungsbilanzüberschuss beim handel innerhalb der europäischen union bei nur 2 prozent liegt hier hat sich die in den letzten jahren erfolgte angleichung deutlich fortgesetzt\nall diese entwicklungen sind natürlich nur möglich wenn es entsprechende politische rahmenbedingungen gibt und deswegen möchte ich gerne ein paar dieser rahmenbedingungen nennen\nwir haben in der vergangenen legislaturperiode die möglichkeiten der teilhabe am arbeitsmarkt und der sozialen sicherheit deutlich gestärkt ich nenne hier stichwortartig das elterngeld plus den ausbau der kindertagesbetreuung die flexirente die angleichung der berechnungsgrundlagen von renten in ost und west und die bessere absicherung erwerbsgeminderter menschen\ndaneben haben wir impulse für öffentliche investitionen gesetzt wir haben die ausgaben für investitionen im bundeshaushalt um 45 prozent auf rund 36 milliarden euro erhöht außerdem haben wir den kommunen mehr geld gegeben der kommunalinvestitionsförderfonds wurde jetzt vonseiten des bundes mit 7 milliarden euro ausgestattet das ermöglicht es auch den ärmeren kommunen in schulen und bildung zu investieren\ndie rahmenbedingungen für die privaten investitionen die ungefähr 90 prozent der gesamtinvestitionen ausmachen sind weiter verbessert worden stichwort startupgründungen das invest wagniskapital haben wir aufgestockt und den hightech gründerfonds gibt es jetzt schon in seiner dritten fassung in diesem gründerfonds führen wir private und öffentliche gelder zusammen die wir startups zur verfügung stellen\nselbstverständlich ist der abbau von bürokratie eine daueraufgabe für die bundesregierung in der letzten legislaturperiode haben wir die oneinoneoutregel eingeführt das heißt wenn man eine bürokratieintensive maßnahme einführen will dann muss man eine andere dafür streichen darüber hinaus haben wir mit dem zweiten bürokratieentlastungsgesetz deutliche fortschritte erzielt\ngleichzeitig ist es möglich gewesen die steuerlast der bürgerinnen und bürger in deutschland zu senken und zwar um insgesamt 11 milliarden euro das ist gelungen indem wir die stufen bei der steuerprogression ein wenig abgeflacht und auf diese art und weise für mehr gerechtigkeit gesorgt haben außerdem ist es gelungen den öffentlichen schuldenstand weiter zu reduzieren wir rechnen jetzt damit dass der schuldenstand in deutschland bereits nächstes jahr unter die maastrichtgrenze in höhe von 60 prozent des bip fallen wird\nsie sehen also die überschrift unseres jahreswirtschaftsberichts ist berechtigt deutschland ist in der tat in guter verfassung\n",
         "['frau', 'präsidentin', 'meine', 'sehr', 'geehrten', 'damen', 'und', 'herren', 'abgeordnete', 'das', 'kabinett', 'hat', 'heute', 'den', 'jahreswirtschaftsbericht', '2018', 'verabschiedet', 'sein', 'titel', 'lautet', '„wirtschaftlich', 'gestärkt', 'in', 'die', 'zukunft“', 'ich', 'habe', 'hier', 'das', 'vorabexemplar', 'wir', 'lassen', 'ihn', 'jetzt', 'drucken', 'nachdem', 'er', 'im', 'kabinett', 'verabschiedet', 'und', 'heute', 'morgen', 'auch', 'schon', 'im', 'wirtschaftsausschuss', 'diskutiert', 'wurde', 'dann', 'können', 'sie', 'alle', 'ihn', 'gerne', 'haben', 'sofern', 'sie', 'ihn', 'sich', 'nicht', 'von', 'unserer', 'website', 'herunterladen', 'die', 'aussichten', 'der', 'deutschen', 'wirtschaft', 'sind', 'gut', 'das', 'macht', 'der', 'titel', 'schon', 'deutlich', 'im', 'jahr', '2017', 'ist', 'das', 'bruttoinlandsprodukt', 'um', '22', 'prozent', 'gewachsen', 'es', 'ist', 'damit', 'das', 'achte', 'jahr', 'in', 'folge', 'dass', 'das', 'bruttoinlandsprodukt', 'in', 'deutschland', 'wächst', 'wir', 'gehen', 'davon', 'aus', 'dass', 'sich', 'der', 'aufschwung', 'auch', 'in', 'diesem', 'jahr', 'weiter', 'fortsetzen', 'wird', 'wir', 'rechnen', 'für', 'das', 'jahr', '2018', 'mit', 'einem', 'wachstum', 'von', '24', 'prozent', 'die', 'konjunktur', 'meine', 'damen', 'und', 'herren', 'hat', 'im', 'vergangenen', 'jahr', 'nicht', 'nur', 'an', 'schwung', 'nach', 'oben', 'sondern', 'auch', 'an', 'ausdehnung', 'in', 'der', 'breite', 'gewonnen', 'mit', 'der', 'anziehenden', 'weltkonjunktur', 'die', 'bei', 'etwa', '4', 'prozent', 'liegt', 'ziehen', 'die', 'exporte', 'insgesamt', 'kräftig', 'an', 'dadurch', 'dass', 'unsere', 'deutschen', 'unternehmen', 'mehr', 'produzieren', 'und', 'mehr', 'verkaufen', 'müssen', 'sie', 'hier', 'in', 'deutschland', 'auch', 'mehr', 'investieren', 'das', 'ist', 'ein', 'gutes', 'zeichen', 'auch', 'in', 'deutschland', 'sind', 'die', 'investitionen', 'der', 'unternehmen', 'deutlich', 'gestiegen', 'gleichzeitig', 'haben', 'die', 'gute', 'entwicklung', 'am', 'arbeitsmarkt', 'und', 'die', 'gute', 'lohnentwicklung', 'für', 'eine', 'solide', 'konsumnachfrage', 'gesorgt', 'die', 'verfügbaren', 'einkommen', 'sind', 'um', 'etwa', '36', 'prozent', 'gestiegen', 'die', 'bruttolöhne', 'und', 'gehälter', 'der', 'arbeitnehmerinnen', 'und', 'arbeitnehmer', 'ebenfalls', 'die', 'beschäftigung', 'in', 'deutschland', 'wird', 'im', 'durchschnitt', 'dieses', 'jahres', 'auf', 'ein', 'neues', 'rekordniveau', 'von', '448', 'millionen', 'personen', 'steigen', 'das', 'ist', 'ein', 'anstieg', 'um', 'knapp', 'eine', 'halbe', 'million', 'gleichzeitig', 'wird', 'die', 'arbeitslosigkeit', 'weiter', 'sinken', 'trotz', 'der', 'zahlreichen', 'zu', 'integrierenden', 'flüchtlinge', 'ist', 'mit', 'einem', 'rückgang', 'um', 'knapp', '150', '000', 'personen', 'zu', 'rechnen', 'wir', 'gehen', 'davon', 'aus', 'dass', 'die', 'arbeitslosenquote', 'dementsprechend', 'weiter', 'sinken', 'wird', 'auf', '53', 'prozent', 'wegen', 'der', 'starken', 'binnennachfrage', 'die', 'sich', 'ja', 'stabilisiert', 'hat', 'werden', 'sich', 'auch', 'die', 'importe', 'dynamisch', 'weiterentwickeln', 'der', 'wachstumsbeitrag', 'des', 'außenhandels', 'bleibt', 'vergleichsweise', 'gering', 'wir', 'gehen', 'jedoch', 'davon', 'aus', 'dass', 'sich', 'der', 'deutsche', 'leistungsbilanzüberschuss', 'insgesamt', 'leicht', 'absenken', 'wird', 'und', 'zwar', 'auf', '78', 'prozent', 'ich', 'möchte', 'weil', 'ich', 'vorhin', 'schon', 'danach', 'gefragt', 'wurde', 'gerne', 'darauf', 'hinweisen', 'dass', 'der', 'leistungsbilanzüberschuss', 'beim', 'handel', 'innerhalb', 'der', 'europäischen', 'union', 'bei', 'nur', '2', 'prozent', 'liegt', 'hier', 'hat', 'sich', 'die', 'in', 'den', 'letzten', 'jahren', 'erfolgte', 'angleichung', 'deutlich', 'fortgesetzt', 'all', 'diese', 'entwicklungen', 'sind', 'natürlich', 'nur', 'möglich', 'wenn', 'es', 'entsprechende', 'politische', 'rahmenbedingungen', 'gibt', 'und', 'deswegen', 'möchte', 'ich', 'gerne', 'ein', 'paar', 'dieser', 'rahmenbedingungen', 'nennen', 'wir', 'haben', 'in', 'der', 'vergangenen', 'legislaturperiode', 'die', 'möglichkeiten', 'der', 'teilhabe', 'am', 'arbeitsmarkt', 'und', 'der', 'sozialen', 'sicherheit', 'deutlich', 'gestärkt', 'ich', 'nenne', 'hier', 'stichwortartig', 'das', 'elterngeld', 'plus', 'den', 'ausbau', 'der', 'kindertagesbetreuung', 'die', 'flexirente', 'die', 'angleichung', 'der', 'berechnungsgrundlagen', 'von', 'renten', 'in', 'ost', 'und', 'west', 'und', 'die', 'bessere', 'absicherung', 'erwerbsgeminderter', 'menschen', 'daneben', 'haben', 'wir', 'impulse', 'für', 'öffentliche', 'investitionen', 'gesetzt', 'wir', 'haben', 'die', 'ausgaben', 'für', 'investitionen', 'im', 'bundeshaushalt', 'um', '45', 'prozent', 'auf', 'rund', '36', 'milliarden', 'euro', 'erhöht', 'außerdem', 'haben', 'wir', 'den', 'kommunen', 'mehr', 'geld', 'gegeben', 'der', 'kommunalinvestitionsförderfonds', 'wurde', 'jetzt', 'vonseiten', 'des', 'bundes', 'mit', '7', 'milliarden', 'euro', 'ausgestattet', 'das', 'ermöglicht', 'es', 'auch', 'den', 'ärmeren', 'kommunen', 'in', 'schulen', 'und', 'bildung', 'zu', 'investieren', 'die', 'rahmenbedingungen', 'für', 'die', 'privaten', 'investitionen', 'die', 'ungefähr', '90', 'prozent', 'der', 'gesamtinvestitionen', 'ausmachen', 'sind', 'weiter', 'verbessert', 'worden', 'stichwort', 'startupgründungen', 'das', 'invest', 'wagniskapital', 'haben', 'wir', 'aufgestockt', 'und', 'den', 'hightech', 'gründerfonds', 'gibt', 'es', 'jetzt', 'schon', 'in', 'seiner', 'dritten', 'fassung', 'in', 'diesem', 'gründerfonds', 'führen', 'wir', 'private', 'und', 'öffentliche', 'gelder', 'zusammen', 'die', 'wir', 'startups', 'zur', 'verfügung', 'stellen', 'selbstverständlich', 'ist', 'der', 'abbau', 'von', 'bürokratie', 'eine', 'daueraufgabe', 'für', 'die', 'bundesregierung', 'in', 'der', 'letzten', 'legislaturperiode', 'haben', 'wir', 'die', 'oneinoneoutregel', 'eingeführt', 'das', 'heißt', 'wenn', 'man', 'eine', 'bürokratieintensive', 'maßnahme', 'einführen', 'will', 'dann', 'muss', 'man', 'eine', 'andere', 'dafür', 'streichen', 'darüber', 'hinaus', 'haben', 'wir', 'mit', 'dem', 'zweiten', 'bürokratieentlastungsgesetz', 'deutliche', 'fortschritte', 'erzielt', 'gleichzeitig', 'ist', 'es', 'möglich', 'gewesen', 'die', 'steuerlast', 'der', 'bürgerinnen', 'und', 'bürger', 'in', 'deutschland', 'zu', 'senken', 'und', 'zwar', 'um', 'insgesamt', '11', 'milliarden', 'euro', 'das', 'ist', 'gelungen', 'indem', 'wir', 'die', 'stufen', 'bei', 'der', 'steuerprogression', 'ein', 'wenig', 'abgeflacht', 'und', 'auf', 'diese', 'art', 'und', 'weise', 'für', 'mehr', 'gerechtigkeit', 'gesorgt', 'haben', 'außerdem', 'ist', 'es', 'gelungen', 'den', 'öffentlichen', 'schuldenstand', 'weiter', 'zu', 'reduzieren', 'wir', 'rechnen', 'jetzt', 'damit', 'dass', 'der', 'schuldenstand', 'in', 'deutschland', 'bereits', 'nächstes', 'jahr', 'unter', 'die', 'maastrichtgrenze', 'in', 'höhe', 'von', '60', 'prozent', 'des', 'bip', 'fallen', 'wird', 'sie', 'sehen', 'also', 'die', 'überschrift', 'unseres', 'jahreswirtschaftsberichts', 'ist', 'berechtigt', 'deutschland', 'ist', 'in', 'der', 'tat', 'in', 'guter', 'verfassung']",
         "705"
        ],
        [
         "33",
         "318a1cd8-0d8b-4d77-492e-08da0e9b3c58",
         "11003870",
         "Sehr geehrte Frau Präsidentin! Sehr geehrte Frau Ministerin, meine Frage bezieht sich auf die sogenannten delegierten Rechtsakte. Es gab in der vergangenen Legislaturperiode hier einen Vorgang, in dem es um die Luftverkehrssicherheit ging. Der Bundestag hat kritisiert, dass Kompetenzen in Richtung Brüssel verlagert werden. Dies hatte mit dem Institut des delegierten Rechtsaktes zu tun.\nEs ist nicht ganz Ihr Ressort, aber vielleicht kennen Sie dieses Rechtsinstitut, und vielleicht gibt es das auch im Wirtschaftsbereich. Ich würde gerne von der Bundesregierung wissen, ob sie dieses Rechtsinstitut „delegierte Rechtsakte“ für kritisch erachtet, insbesondere im Hinblick auf das Prinzip der Subsidiarität. – Danke.\n",
         "19",
         "10",
         "1",
         "11003870",
         "Brigitte",
         "Zypries",
         "SPD",
         null,
         "sehr geehrte frau präsidentin sehr geehrte frau ministerin meine frage bezieht sich auf die sogenannten delegierten rechtsakte es gab in der vergangenen legislaturperiode hier einen vorgang in dem es um die luftverkehrssicherheit ging der bundestag hat kritisiert dass kompetenzen in richtung brüssel verlagert werden dies hatte mit dem institut des delegierten rechtsaktes zu tun\nes ist nicht ganz ihr ressort aber vielleicht kennen sie dieses rechtsinstitut und vielleicht gibt es das auch im wirtschaftsbereich ich würde gerne von der bundesregierung wissen ob sie dieses rechtsinstitut „delegierte rechtsakte“ für kritisch erachtet insbesondere im hinblick auf das prinzip der subsidiarität – danke\n",
         "['sehr', 'geehrte', 'frau', 'präsidentin', 'sehr', 'geehrte', 'frau', 'ministerin', 'meine', 'frage', 'bezieht', 'sich', 'auf', 'die', 'sogenannten', 'delegierten', 'rechtsakte', 'es', 'gab', 'in', 'der', 'vergangenen', 'legislaturperiode', 'hier', 'einen', 'vorgang', 'in', 'dem', 'es', 'um', 'die', 'luftverkehrssicherheit', 'ging', 'der', 'bundestag', 'hat', 'kritisiert', 'dass', 'kompetenzen', 'in', 'richtung', 'brüssel', 'verlagert', 'werden', 'dies', 'hatte', 'mit', 'dem', 'institut', 'des', 'delegierten', 'rechtsaktes', 'zu', 'tun', 'es', 'ist', 'nicht', 'ganz', 'ihr', 'ressort', 'aber', 'vielleicht', 'kennen', 'sie', 'dieses', 'rechtsinstitut', 'und', 'vielleicht', 'gibt', 'es', 'das', 'auch', 'im', 'wirtschaftsbereich', 'ich', 'würde', 'gerne', 'von', 'der', 'bundesregierung', 'wissen', 'ob', 'sie', 'dieses', 'rechtsinstitut', '„delegierte', 'rechtsakte“', 'für', 'kritisch', 'erachtet', 'insbesondere', 'im', 'hinblick', 'auf', 'das', 'prinzip', 'der', 'subsidiarität', '–', 'danke']",
         "100"
        ],
        [
         "34",
         "fd769272-1f2c-410f-ff5b-08da0daf380d",
         "11003870",
         "Ich fange mit dem zweiten Teil an, liebe Frau Dröge, weil ich das schon gerade in meinem Eingangsstatement gesagt hatte. Wir haben uns bemüht, die öffentlichen Investitionen deutlich anzuheben. Ich habe von Bundesinvestitionen in Höhe von 36 Milliarden Euro gesprochen und gesagt, dass wir den Kommunen mehr Geld gegeben haben: 7 Milliarden Euro stehen den Kommunen über den Fonds für Investitionen in Schulen, Bildung und anderes zur Verfügung.\nDeswegen ist – darüber sprachen wir schon heute Morgen – die Bilanz der Kommunen, was ihre Investitionen angeht, sehr viel besser geworden. Die Zahlen sind gerade vor wenigen Tagen herausgekommen. Das heißt, es wirkt tatsächlich, dass der Bund den Kommunen das Geld gibt, und die Kommunen sind auch in der Lage, das umzusetzen, sprich: das Geld zu verbauen. Das ist auch immer ein Teil des Problems, und es gehört dazu, dass wir da Hilfestellung geben. Wir haben jetzt auf Bundesseite ein eigenes Unternehmen gegründet, um die Kommunen entsprechend zu unterstützen.\nZum Thema Klimaziele: Wir haben festzustellen, dass die Industrie die Treibhausgasemissionen seit 1990 um fast 37 Produzent reduziert hat. Wir können darauf hinweisen, dass wir uns auf europäischer Ebene letztes Jahr mit der EU über eine Reform des Emissionshandels geeinigt haben, und auch in Bezug auf die Sektoren Gebäude, Verkehr und Landwirtschaft haben wir uns mit den Mitgliedstaaten geeinigt.\nInsgesamt – Stichwort „Energieeffizienz“ – haben wir eine Menge erreicht. Ich glaube, das kann man sagen. Die Förderprogramme, die wir hatten, sind zwar nicht so gut gelaufen, wie sie hätten laufen können, aber sie sind schon relativ gut gelaufen. Wichtig ist auch, dass der Energiesektor weiterhin einen klaren Beitrag zum Klimaschutz leistet.\nBevor der Kollege Falko Mohrs seine Frage stellt, mache ich noch einmal alle Anwesenden darauf aufmerksam, dass wir uns in diesem Teil unserer Sitzung auf eine Minute Fragezeit verständigt haben und damit auch auf die Möglichkeit, in einer Minute zu antworten. Sie haben eine optische Unterstützung: Wenn die Lampe rot ist, ist die Minute definitiv überschritten.\n",
         "19",
         "10",
         "1",
         "11003870",
         "Brigitte",
         "Zypries",
         "SPD",
         null,
         "ich fange mit dem zweiten teil an liebe frau dröge weil ich das schon gerade in meinem eingangsstatement gesagt hatte wir haben uns bemüht die öffentlichen investitionen deutlich anzuheben ich habe von bundesinvestitionen in höhe von 36 milliarden euro gesprochen und gesagt dass wir den kommunen mehr geld gegeben haben 7 milliarden euro stehen den kommunen über den fonds für investitionen in schulen bildung und anderes zur verfügung\ndeswegen ist – darüber sprachen wir schon heute morgen – die bilanz der kommunen was ihre investitionen angeht sehr viel besser geworden die zahlen sind gerade vor wenigen tagen herausgekommen das heißt es wirkt tatsächlich dass der bund den kommunen das geld gibt und die kommunen sind auch in der lage das umzusetzen sprich das geld zu verbauen das ist auch immer ein teil des problems und es gehört dazu dass wir da hilfestellung geben wir haben jetzt auf bundesseite ein eigenes unternehmen gegründet um die kommunen entsprechend zu unterstützen\nzum thema klimaziele wir haben festzustellen dass die industrie die treibhausgasemissionen seit 1990 um fast 37 produzent reduziert hat wir können darauf hinweisen dass wir uns auf europäischer ebene letztes jahr mit der eu über eine reform des emissionshandels geeinigt haben und auch in bezug auf die sektoren gebäude verkehr und landwirtschaft haben wir uns mit den mitgliedstaaten geeinigt\ninsgesamt – stichwort „energieeffizienz“ – haben wir eine menge erreicht ich glaube das kann man sagen die förderprogramme die wir hatten sind zwar nicht so gut gelaufen wie sie hätten laufen können aber sie sind schon relativ gut gelaufen wichtig ist auch dass der energiesektor weiterhin einen klaren beitrag zum klimaschutz leistet\nbevor der kollege falko mohrs seine frage stellt mache ich noch einmal alle anwesenden darauf aufmerksam dass wir uns in diesem teil unserer sitzung auf eine minute fragezeit verständigt haben und damit auch auf die möglichkeit in einer minute zu antworten sie haben eine optische unterstützung wenn die lampe rot ist ist die minute definitiv überschritten\n",
         "['ich', 'fange', 'mit', 'dem', 'zweiten', 'teil', 'an', 'liebe', 'frau', 'dröge', 'weil', 'ich', 'das', 'schon', 'gerade', 'in', 'meinem', 'eingangsstatement', 'gesagt', 'hatte', 'wir', 'haben', 'uns', 'bemüht', 'die', 'öffentlichen', 'investitionen', 'deutlich', 'anzuheben', 'ich', 'habe', 'von', 'bundesinvestitionen', 'in', 'höhe', 'von', '36', 'milliarden', 'euro', 'gesprochen', 'und', 'gesagt', 'dass', 'wir', 'den', 'kommunen', 'mehr', 'geld', 'gegeben', 'haben', '7', 'milliarden', 'euro', 'stehen', 'den', 'kommunen', 'über', 'den', 'fonds', 'für', 'investitionen', 'in', 'schulen', 'bildung', 'und', 'anderes', 'zur', 'verfügung', 'deswegen', 'ist', '–', 'darüber', 'sprachen', 'wir', 'schon', 'heute', 'morgen', '–', 'die', 'bilanz', 'der', 'kommunen', 'was', 'ihre', 'investitionen', 'angeht', 'sehr', 'viel', 'besser', 'geworden', 'die', 'zahlen', 'sind', 'gerade', 'vor', 'wenigen', 'tagen', 'herausgekommen', 'das', 'heißt', 'es', 'wirkt', 'tatsächlich', 'dass', 'der', 'bund', 'den', 'kommunen', 'das', 'geld', 'gibt', 'und', 'die', 'kommunen', 'sind', 'auch', 'in', 'der', 'lage', 'das', 'umzusetzen', 'sprich', 'das', 'geld', 'zu', 'verbauen', 'das', 'ist', 'auch', 'immer', 'ein', 'teil', 'des', 'problems', 'und', 'es', 'gehört', 'dazu', 'dass', 'wir', 'da', 'hilfestellung', 'geben', 'wir', 'haben', 'jetzt', 'auf', 'bundesseite', 'ein', 'eigenes', 'unternehmen', 'gegründet', 'um', 'die', 'kommunen', 'entsprechend', 'zu', 'unterstützen', 'zum', 'thema', 'klimaziele', 'wir', 'haben', 'festzustellen', 'dass', 'die', 'industrie', 'die', 'treibhausgasemissionen', 'seit', '1990', 'um', 'fast', '37', 'produzent', 'reduziert', 'hat', 'wir', 'können', 'darauf', 'hinweisen', 'dass', 'wir', 'uns', 'auf', 'europäischer', 'ebene', 'letztes', 'jahr', 'mit', 'der', 'eu', 'über', 'eine', 'reform', 'des', 'emissionshandels', 'geeinigt', 'haben', 'und', 'auch', 'in', 'bezug', 'auf', 'die', 'sektoren', 'gebäude', 'verkehr', 'und', 'landwirtschaft', 'haben', 'wir', 'uns', 'mit', 'den', 'mitgliedstaaten', 'geeinigt', 'insgesamt', '–', 'stichwort', '„energieeffizienz“', '–', 'haben', 'wir', 'eine', 'menge', 'erreicht', 'ich', 'glaube', 'das', 'kann', 'man', 'sagen', 'die', 'förderprogramme', 'die', 'wir', 'hatten', 'sind', 'zwar', 'nicht', 'so', 'gut', 'gelaufen', 'wie', 'sie', 'hätten', 'laufen', 'können', 'aber', 'sie', 'sind', 'schon', 'relativ', 'gut', 'gelaufen', 'wichtig', 'ist', 'auch', 'dass', 'der', 'energiesektor', 'weiterhin', 'einen', 'klaren', 'beitrag', 'zum', 'klimaschutz', 'leistet', 'bevor', 'der', 'kollege', 'falko', 'mohrs', 'seine', 'frage', 'stellt', 'mache', 'ich', 'noch', 'einmal', 'alle', 'anwesenden', 'darauf', 'aufmerksam', 'dass', 'wir', 'uns', 'in', 'diesem', 'teil', 'unserer', 'sitzung', 'auf', 'eine', 'minute', 'fragezeit', 'verständigt', 'haben', 'und', 'damit', 'auch', 'auf', 'die', 'möglichkeit', 'in', 'einer', 'minute', 'zu', 'antworten', 'sie', 'haben', 'eine', 'optische', 'unterstützung', 'wenn', 'die', 'lampe', 'rot', 'ist', 'ist', 'die', 'minute', 'definitiv', 'überschritten']",
         "325"
        ],
        [
         "35",
         "06fc1f77-ad94-4df4-90d2-08da0e372f11",
         "11003870",
         "Vielen Dank, Herr Abgeordneter. – Ich glaube, dass die Gründerfonds, an denen der Bund beteiligt ist, mit denen aber auch privates Kapital akquiriert wird, das eine sind. Das andere ist: Wir müssen weiter darauf dringen, dass sich auch Private stärker engagieren.\nWir haben die gute Situation, dass inzwischen viele Unternehmen in Sachen Gründungen unterwegs sind. Aber ich glaube auch, dass es wünschenswert wäre, dass sich viele gutverdienende Deutsche in diesem Bereich stärker engagieren. Wir haben da immer die Amerikaner als Vorbild, wo es eine andere Kultur des Gründens und der Finanzierung von Gründungen gibt. Ich denke, dafür müssen wir stärker Werbung machen, sodass auch Einzelpersonen Verantwortung spüren und sie übernehmen.\n",
         "19",
         "10",
         "1",
         "11003870",
         "Brigitte",
         "Zypries",
         "SPD",
         null,
         "vielen dank herr abgeordneter – ich glaube dass die gründerfonds an denen der bund beteiligt ist mit denen aber auch privates kapital akquiriert wird das eine sind das andere ist wir müssen weiter darauf dringen dass sich auch private stärker engagieren\nwir haben die gute situation dass inzwischen viele unternehmen in sachen gründungen unterwegs sind aber ich glaube auch dass es wünschenswert wäre dass sich viele gutverdienende deutsche in diesem bereich stärker engagieren wir haben da immer die amerikaner als vorbild wo es eine andere kultur des gründens und der finanzierung von gründungen gibt ich denke dafür müssen wir stärker werbung machen sodass auch einzelpersonen verantwortung spüren und sie übernehmen\n",
         "['vielen', 'dank', 'herr', 'abgeordneter', '–', 'ich', 'glaube', 'dass', 'die', 'gründerfonds', 'an', 'denen', 'der', 'bund', 'beteiligt', 'ist', 'mit', 'denen', 'aber', 'auch', 'privates', 'kapital', 'akquiriert', 'wird', 'das', 'eine', 'sind', 'das', 'andere', 'ist', 'wir', 'müssen', 'weiter', 'darauf', 'dringen', 'dass', 'sich', 'auch', 'private', 'stärker', 'engagieren', 'wir', 'haben', 'die', 'gute', 'situation', 'dass', 'inzwischen', 'viele', 'unternehmen', 'in', 'sachen', 'gründungen', 'unterwegs', 'sind', 'aber', 'ich', 'glaube', 'auch', 'dass', 'es', 'wünschenswert', 'wäre', 'dass', 'sich', 'viele', 'gutverdienende', 'deutsche', 'in', 'diesem', 'bereich', 'stärker', 'engagieren', 'wir', 'haben', 'da', 'immer', 'die', 'amerikaner', 'als', 'vorbild', 'wo', 'es', 'eine', 'andere', 'kultur', 'des', 'gründens', 'und', 'der', 'finanzierung', 'von', 'gründungen', 'gibt', 'ich', 'denke', 'dafür', 'müssen', 'wir', 'stärker', 'werbung', 'machen', 'sodass', 'auch', 'einzelpersonen', 'verantwortung', 'spüren', 'und', 'sie', 'übernehmen']",
         "110"
        ],
        [
         "36",
         "6b942714-9f64-4d97-f261-08da0e4d69bc",
         "11003870",
         "Die Bundesregierung ist der Auffassung, dass das ein Projekt wirtschaftlicher Art ist, das beantragt werden muss und das nach den entsprechenden Vorschriften zu genehmigen ist. Wir sind allerdings auch der Auffassung, dass man nicht versuchen sollte, aus irgendwelchen übergeordneten Erwägungen, seien es eigene energiepolitische oder wirtschaftliche Interessen oder andere Interessen, da jetzt Vorschriften heranzuziehen, die vielleicht nicht so unmittelbar einsichtig sind. Deshalb würden wir sagen: Man soll dem Unternehmen die Möglichkeit geben, seine Anträge zu stellen. Man soll sie auch so bearbeiten, wie es in der Vergangenheit immer Usus war.\n",
         "19",
         "10",
         "1",
         "11003870",
         "Brigitte",
         "Zypries",
         "SPD",
         null,
         "die bundesregierung ist der auffassung dass das ein projekt wirtschaftlicher art ist das beantragt werden muss und das nach den entsprechenden vorschriften zu genehmigen ist wir sind allerdings auch der auffassung dass man nicht versuchen sollte aus irgendwelchen übergeordneten erwägungen seien es eigene energiepolitische oder wirtschaftliche interessen oder andere interessen da jetzt vorschriften heranzuziehen die vielleicht nicht so unmittelbar einsichtig sind deshalb würden wir sagen man soll dem unternehmen die möglichkeit geben seine anträge zu stellen man soll sie auch so bearbeiten wie es in der vergangenheit immer usus war\n",
         "['die', 'bundesregierung', 'ist', 'der', 'auffassung', 'dass', 'das', 'ein', 'projekt', 'wirtschaftlicher', 'art', 'ist', 'das', 'beantragt', 'werden', 'muss', 'und', 'das', 'nach', 'den', 'entsprechenden', 'vorschriften', 'zu', 'genehmigen', 'ist', 'wir', 'sind', 'allerdings', 'auch', 'der', 'auffassung', 'dass', 'man', 'nicht', 'versuchen', 'sollte', 'aus', 'irgendwelchen', 'übergeordneten', 'erwägungen', 'seien', 'es', 'eigene', 'energiepolitische', 'oder', 'wirtschaftliche', 'interessen', 'oder', 'andere', 'interessen', 'da', 'jetzt', 'vorschriften', 'heranzuziehen', 'die', 'vielleicht', 'nicht', 'so', 'unmittelbar', 'einsichtig', 'sind', 'deshalb', 'würden', 'wir', 'sagen', 'man', 'soll', 'dem', 'unternehmen', 'die', 'möglichkeit', 'geben', 'seine', 'anträge', 'zu', 'stellen', 'man', 'soll', 'sie', 'auch', 'so', 'bearbeiten', 'wie', 'es', 'in', 'der', 'vergangenheit', 'immer', 'usus', 'war']",
         "90"
        ],
        [
         "37",
         "c1c1a931-e846-40fd-5cf1-08da0f22a008",
         "11003870",
         "Das kann ich gar nicht glauben.\nEs ist tatsächlich nicht zu glauben.\nEs geht um die Bürgschaft in Höhe von 150 Millionen Euro, von der der Steuerzahler wahrscheinlich einen Großteil nicht wiedersehen wird. Meine Frage ist daher: Aufgrund welcher Annahmen über die Vermögenswerte von Air Berlin haben Sie eigentlich diese Bürgschaft vergeben, und inwiefern konnten Sie erwarten, diese 150 Millionen Euro am Markt zu erzielen? Könnten Sie einmal darlegen, welche Erwartung Sie hatten, was an Sicherheiten im Unternehmen vorhanden ist?\nDie zweite Frage ist, ob eine Absichtserklärung von Lufthansa, Air Berlin zu kaufen, Grundlage dafür war, diese Bürgschaft auszusprechen, bzw. ob dies in die Entscheidung einbezogen wurde.\nEs gab keine schriftliche Absichtserklärung der Lufthansa, sehr geehrte Frau Abgeordnete; aber Sie wissen natürlich aus den Verhandlungen heute Morgen und auch aus weiteren Informationen in der Presse, dass es unsererseits Gespräche mit der Lufthansa gegeben hat.\nZur Frage „Was hat die Bundesregierung für Überlegungen angestellt, worin der Gegenwert für die 150 Millionen Euro besteht?“ – danach fragen Sie ja –: Wir sind davon ausgegangen, dass es, wenn wir keinen Kredit geben, zu einem sofortigen Grounding kommt und schon dadurch eine Entwertung von Vermögenswerten stattfindet. Dann war klar – es war ja Urlaubszeit –, dass sehr viele Urlauberinnen und Urlauber mit Air Berlin unterwegs sind. Zwar haben wir als Staat keine geschriebene Verpflichtung, aber doch eine moralische Verpflichtung, Urlauberinnen und Urlauber, die irgendwo in der Welt gestrandet sind und ein Air-Berlin-Ticket haben, zurückzuholen.\nDas hat sich ja auch bei der Pleite von Monarch Airlines gezeigt, die kurz danach stattfand. Es wurden 70 Millionen Euro dafür ausgegeben, um die gestrandeten Passagiere wieder nach UK zurückzuholen. An diesem Beispiel kann man sich also ungefähr die Größenordnung klarmachen. Die Anzahl der betroffenen Personen im Fall von Air Berlin war ja sehr viel größer. Ansonsten waren die Vermögenswerte natürlich die Slots und die Flugrechte.\n",
         "19",
         "10",
         "1",
         "11003870",
         "Brigitte",
         "Zypries",
         "SPD",
         null,
         "das kann ich gar nicht glauben\nes ist tatsächlich nicht zu glauben\nes geht um die bürgschaft in höhe von 150 millionen euro von der der steuerzahler wahrscheinlich einen großteil nicht wiedersehen wird meine frage ist daher aufgrund welcher annahmen über die vermögenswerte von air berlin haben sie eigentlich diese bürgschaft vergeben und inwiefern konnten sie erwarten diese 150 millionen euro am markt zu erzielen könnten sie einmal darlegen welche erwartung sie hatten was an sicherheiten im unternehmen vorhanden ist\ndie zweite frage ist ob eine absichtserklärung von lufthansa air berlin zu kaufen grundlage dafür war diese bürgschaft auszusprechen bzw ob dies in die entscheidung einbezogen wurde\nes gab keine schriftliche absichtserklärung der lufthansa sehr geehrte frau abgeordnete aber sie wissen natürlich aus den verhandlungen heute morgen und auch aus weiteren informationen in der presse dass es unsererseits gespräche mit der lufthansa gegeben hat\nzur frage „was hat die bundesregierung für überlegungen angestellt worin der gegenwert für die 150 millionen euro besteht“ – danach fragen sie ja – wir sind davon ausgegangen dass es wenn wir keinen kredit geben zu einem sofortigen grounding kommt und schon dadurch eine entwertung von vermögenswerten stattfindet dann war klar – es war ja urlaubszeit – dass sehr viele urlauberinnen und urlauber mit air berlin unterwegs sind zwar haben wir als staat keine geschriebene verpflichtung aber doch eine moralische verpflichtung urlauberinnen und urlauber die irgendwo in der welt gestrandet sind und ein airberlinticket haben zurückzuholen\ndas hat sich ja auch bei der pleite von monarch airlines gezeigt die kurz danach stattfand es wurden 70 millionen euro dafür ausgegeben um die gestrandeten passagiere wieder nach uk zurückzuholen an diesem beispiel kann man sich also ungefähr die größenordnung klarmachen die anzahl der betroffenen personen im fall von air berlin war ja sehr viel größer ansonsten waren die vermögenswerte natürlich die slots und die flugrechte\n",
         "['das', 'kann', 'ich', 'gar', 'nicht', 'glauben', 'es', 'ist', 'tatsächlich', 'nicht', 'zu', 'glauben', 'es', 'geht', 'um', 'die', 'bürgschaft', 'in', 'höhe', 'von', '150', 'millionen', 'euro', 'von', 'der', 'der', 'steuerzahler', 'wahrscheinlich', 'einen', 'großteil', 'nicht', 'wiedersehen', 'wird', 'meine', 'frage', 'ist', 'daher', 'aufgrund', 'welcher', 'annahmen', 'über', 'die', 'vermögenswerte', 'von', 'air', 'berlin', 'haben', 'sie', 'eigentlich', 'diese', 'bürgschaft', 'vergeben', 'und', 'inwiefern', 'konnten', 'sie', 'erwarten', 'diese', '150', 'millionen', 'euro', 'am', 'markt', 'zu', 'erzielen', 'könnten', 'sie', 'einmal', 'darlegen', 'welche', 'erwartung', 'sie', 'hatten', 'was', 'an', 'sicherheiten', 'im', 'unternehmen', 'vorhanden', 'ist', 'die', 'zweite', 'frage', 'ist', 'ob', 'eine', 'absichtserklärung', 'von', 'lufthansa', 'air', 'berlin', 'zu', 'kaufen', 'grundlage', 'dafür', 'war', 'diese', 'bürgschaft', 'auszusprechen', 'bzw', 'ob', 'dies', 'in', 'die', 'entscheidung', 'einbezogen', 'wurde', 'es', 'gab', 'keine', 'schriftliche', 'absichtserklärung', 'der', 'lufthansa', 'sehr', 'geehrte', 'frau', 'abgeordnete', 'aber', 'sie', 'wissen', 'natürlich', 'aus', 'den', 'verhandlungen', 'heute', 'morgen', 'und', 'auch', 'aus', 'weiteren', 'informationen', 'in', 'der', 'presse', 'dass', 'es', 'unsererseits', 'gespräche', 'mit', 'der', 'lufthansa', 'gegeben', 'hat', 'zur', 'frage', '„was', 'hat', 'die', 'bundesregierung', 'für', 'überlegungen', 'angestellt', 'worin', 'der', 'gegenwert', 'für', 'die', '150', 'millionen', 'euro', 'besteht“', '–', 'danach', 'fragen', 'sie', 'ja', '–', 'wir', 'sind', 'davon', 'ausgegangen', 'dass', 'es', 'wenn', 'wir', 'keinen', 'kredit', 'geben', 'zu', 'einem', 'sofortigen', 'grounding', 'kommt', 'und', 'schon', 'dadurch', 'eine', 'entwertung', 'von', 'vermögenswerten', 'stattfindet', 'dann', 'war', 'klar', '–', 'es', 'war', 'ja', 'urlaubszeit', '–', 'dass', 'sehr', 'viele', 'urlauberinnen', 'und', 'urlauber', 'mit', 'air', 'berlin', 'unterwegs', 'sind', 'zwar', 'haben', 'wir', 'als', 'staat', 'keine', 'geschriebene', 'verpflichtung', 'aber', 'doch', 'eine', 'moralische', 'verpflichtung', 'urlauberinnen', 'und', 'urlauber', 'die', 'irgendwo', 'in', 'der', 'welt', 'gestrandet', 'sind', 'und', 'ein', 'airberlinticket', 'haben', 'zurückzuholen', 'das', 'hat', 'sich', 'ja', 'auch', 'bei', 'der', 'pleite', 'von', 'monarch', 'airlines', 'gezeigt', 'die', 'kurz', 'danach', 'stattfand', 'es', 'wurden', '70', 'millionen', 'euro', 'dafür', 'ausgegeben', 'um', 'die', 'gestrandeten', 'passagiere', 'wieder', 'nach', 'uk', 'zurückzuholen', 'an', 'diesem', 'beispiel', 'kann', 'man', 'sich', 'also', 'ungefähr', 'die', 'größenordnung', 'klarmachen', 'die', 'anzahl', 'der', 'betroffenen', 'personen', 'im', 'fall', 'von', 'air', 'berlin', 'war', 'ja', 'sehr', 'viel', 'größer', 'ansonsten', 'waren', 'die', 'vermögenswerte', 'natürlich', 'die', 'slots', 'und', 'die', 'flugrechte']",
         "307"
        ],
        [
         "38",
         "8e9d927e-3c23-4834-5fad-08da0f22a008",
         "11003870",
         "Herr Abgeordneter, wir gedenken nicht erst jetzt als geschäftsführende Bundesregierung etwas dagegen zu tun. Vielmehr macht diese Bundesregierung schon sehr lange etwas dagegen. Das Erste und, ich glaube, auch das Beste und das Nachhaltigste, was wir dagegen getan haben, war die Einführung des Mindestlohns.\nDenn der Mindestlohn hat dazu geführt, dass nicht nur eine erkleckliche Anzahl an Personen besser bezahlt wurde, sondern auch das Lohnniveau insgesamt angehoben wurde. Das war der erste Schritt, der besonders wichtig war.\nEin weiterer Schritt ist die Klärung der Frage: Wie integrieren wir Langzeitarbeitslose wieder in den Arbeitsmarkt? Das ist ein Thema, das uns schon sehr lange beschäftigt. Dazu haben wir eine Menge Projekte. Im Moment gibt es die Überlegung, einen geförderten Arbeitsmarkt einzurichten, um Langzeitarbeitslose ganz besonders zu unterstützen. Ich persönlich halte das für eine sehr gute Idee und glaube, dass uns das tatsächlich weiterbringt.\nIm Übrigen müssen wir feststellen, dass wir ein Problem mit der Gewinnung von qualifizierten Arbeitskräften haben, was automatisch dazu führen wird, dass deren Bezahlung besser werden wird. Ich gehe davon aus, dass die Spreizung der Einkommensverteilung in Deutschland geringer werden wird. Die unteren Einkommensschichten werden sukzessive besser verdienen, einfach weil die Lage auf dem Arbeitsmarkt schwieriger wird und Unternehmen mehr bezahlen müssen, um gute Kräfte zu gewinnen.\nIch glaube schon, das wird positive Auswirkungen haben.\nJetzt leuchtet an meinem Pult gar kein Licht mehr.\n",
         "19",
         "10",
         "1",
         "11003870",
         "Brigitte",
         "Zypries",
         "SPD",
         null,
         "herr abgeordneter wir gedenken nicht erst jetzt als geschäftsführende bundesregierung etwas dagegen zu tun vielmehr macht diese bundesregierung schon sehr lange etwas dagegen das erste und ich glaube auch das beste und das nachhaltigste was wir dagegen getan haben war die einführung des mindestlohns\ndenn der mindestlohn hat dazu geführt dass nicht nur eine erkleckliche anzahl an personen besser bezahlt wurde sondern auch das lohnniveau insgesamt angehoben wurde das war der erste schritt der besonders wichtig war\nein weiterer schritt ist die klärung der frage wie integrieren wir langzeitarbeitslose wieder in den arbeitsmarkt das ist ein thema das uns schon sehr lange beschäftigt dazu haben wir eine menge projekte im moment gibt es die überlegung einen geförderten arbeitsmarkt einzurichten um langzeitarbeitslose ganz besonders zu unterstützen ich persönlich halte das für eine sehr gute idee und glaube dass uns das tatsächlich weiterbringt\nim übrigen müssen wir feststellen dass wir ein problem mit der gewinnung von qualifizierten arbeitskräften haben was automatisch dazu führen wird dass deren bezahlung besser werden wird ich gehe davon aus dass die spreizung der einkommensverteilung in deutschland geringer werden wird die unteren einkommensschichten werden sukzessive besser verdienen einfach weil die lage auf dem arbeitsmarkt schwieriger wird und unternehmen mehr bezahlen müssen um gute kräfte zu gewinnen\nich glaube schon das wird positive auswirkungen haben\njetzt leuchtet an meinem pult gar kein licht mehr\n",
         "['herr', 'abgeordneter', 'wir', 'gedenken', 'nicht', 'erst', 'jetzt', 'als', 'geschäftsführende', 'bundesregierung', 'etwas', 'dagegen', 'zu', 'tun', 'vielmehr', 'macht', 'diese', 'bundesregierung', 'schon', 'sehr', 'lange', 'etwas', 'dagegen', 'das', 'erste', 'und', 'ich', 'glaube', 'auch', 'das', 'beste', 'und', 'das', 'nachhaltigste', 'was', 'wir', 'dagegen', 'getan', 'haben', 'war', 'die', 'einführung', 'des', 'mindestlohns', 'denn', 'der', 'mindestlohn', 'hat', 'dazu', 'geführt', 'dass', 'nicht', 'nur', 'eine', 'erkleckliche', 'anzahl', 'an', 'personen', 'besser', 'bezahlt', 'wurde', 'sondern', 'auch', 'das', 'lohnniveau', 'insgesamt', 'angehoben', 'wurde', 'das', 'war', 'der', 'erste', 'schritt', 'der', 'besonders', 'wichtig', 'war', 'ein', 'weiterer', 'schritt', 'ist', 'die', 'klärung', 'der', 'frage', 'wie', 'integrieren', 'wir', 'langzeitarbeitslose', 'wieder', 'in', 'den', 'arbeitsmarkt', 'das', 'ist', 'ein', 'thema', 'das', 'uns', 'schon', 'sehr', 'lange', 'beschäftigt', 'dazu', 'haben', 'wir', 'eine', 'menge', 'projekte', 'im', 'moment', 'gibt', 'es', 'die', 'überlegung', 'einen', 'geförderten', 'arbeitsmarkt', 'einzurichten', 'um', 'langzeitarbeitslose', 'ganz', 'besonders', 'zu', 'unterstützen', 'ich', 'persönlich', 'halte', 'das', 'für', 'eine', 'sehr', 'gute', 'idee', 'und', 'glaube', 'dass', 'uns', 'das', 'tatsächlich', 'weiterbringt', 'im', 'übrigen', 'müssen', 'wir', 'feststellen', 'dass', 'wir', 'ein', 'problem', 'mit', 'der', 'gewinnung', 'von', 'qualifizierten', 'arbeitskräften', 'haben', 'was', 'automatisch', 'dazu', 'führen', 'wird', 'dass', 'deren', 'bezahlung', 'besser', 'werden', 'wird', 'ich', 'gehe', 'davon', 'aus', 'dass', 'die', 'spreizung', 'der', 'einkommensverteilung', 'in', 'deutschland', 'geringer', 'werden', 'wird', 'die', 'unteren', 'einkommensschichten', 'werden', 'sukzessive', 'besser', 'verdienen', 'einfach', 'weil', 'die', 'lage', 'auf', 'dem', 'arbeitsmarkt', 'schwieriger', 'wird', 'und', 'unternehmen', 'mehr', 'bezahlen', 'müssen', 'um', 'gute', 'kräfte', 'zu', 'gewinnen', 'ich', 'glaube', 'schon', 'das', 'wird', 'positive', 'auswirkungen', 'haben', 'jetzt', 'leuchtet', 'an', 'meinem', 'pult', 'gar', 'kein', 'licht', 'mehr']",
         "225"
        ],
        [
         "39",
         "f7080a6e-895f-4cf5-63e2-08da0f22a008",
         "11003870",
         "Frau Kollegin, vielleicht darf ich die Beantwortung an das Bundesinnenministerium abgeben. Im Übrigen darf ich darauf verweisen, dass dazu, soweit ich unterrichtet bin, morgen eine Debatte hier im Haus stattfinden wird.\nAber der Herr Staatssekretär kann das wahrscheinlich beantworten.\n",
         "19",
         "10",
         "1",
         "11003870",
         "Brigitte",
         "Zypries",
         "SPD",
         null,
         "frau kollegin vielleicht darf ich die beantwortung an das bundesinnenministerium abgeben im übrigen darf ich darauf verweisen dass dazu soweit ich unterrichtet bin morgen eine debatte hier im haus stattfinden wird\naber der herr staatssekretär kann das wahrscheinlich beantworten\n",
         "['frau', 'kollegin', 'vielleicht', 'darf', 'ich', 'die', 'beantwortung', 'an', 'das', 'bundesinnenministerium', 'abgeben', 'im', 'übrigen', 'darf', 'ich', 'darauf', 'verweisen', 'dass', 'dazu', 'soweit', 'ich', 'unterrichtet', 'bin', 'morgen', 'eine', 'debatte', 'hier', 'im', 'haus', 'stattfinden', 'wird', 'aber', 'der', 'herr', 'staatssekretär', 'kann', 'das', 'wahrscheinlich', 'beantworten']",
         "39"
        ],
        [
         "40",
         "9259b7dc-b56d-455d-6d00-08da0f22a008",
         "11003870",
         "Frau Andreae, ich glaube, es kann kein Zweifel daran bestehen, dass wir im Wirtschaftsministerium, aber auch in der Bundesregierung insgesamt großes Interesse daran haben, die Klimaschutzziele zu erreichen und auch sonst alles zu tun, um die Umwelt zu – befördern? Wie sagt man?\n– Zu schützen; danke schön, sehr freundlich.\nIch denke, es war eine gute Entscheidung, dass die Bundesregierung die Ressorts Wirtschaft und Energie zusammengelegt hat, weil wir auf diese Art und Weise erhebliche Synergieeffekte erzielen und positive Schritte vorangehen konnten. Gerade das Thema Energieeffizienz haben wir stark nach vorne gestellt, weil unser Credo ja ist: Die beste Energie ist diejenige, die erst gar nicht verbraucht wird. Deswegen haben wir gerade in diesem Bereich sehr viele Aktivitäten unternommen. Die Frage, wie es in der Zukunft weitergeht, wird eine künftige Bundesregierung beantworten müssen.\n",
         "19",
         "10",
         "1",
         "11003870",
         "Brigitte",
         "Zypries",
         "SPD",
         null,
         "frau andreae ich glaube es kann kein zweifel daran bestehen dass wir im wirtschaftsministerium aber auch in der bundesregierung insgesamt großes interesse daran haben die klimaschutzziele zu erreichen und auch sonst alles zu tun um die umwelt zu – befördern wie sagt man\n– zu schützen danke schön sehr freundlich\nich denke es war eine gute entscheidung dass die bundesregierung die ressorts wirtschaft und energie zusammengelegt hat weil wir auf diese art und weise erhebliche synergieeffekte erzielen und positive schritte vorangehen konnten gerade das thema energieeffizienz haben wir stark nach vorne gestellt weil unser credo ja ist die beste energie ist diejenige die erst gar nicht verbraucht wird deswegen haben wir gerade in diesem bereich sehr viele aktivitäten unternommen die frage wie es in der zukunft weitergeht wird eine künftige bundesregierung beantworten müssen\n",
         "['frau', 'andreae', 'ich', 'glaube', 'es', 'kann', 'kein', 'zweifel', 'daran', 'bestehen', 'dass', 'wir', 'im', 'wirtschaftsministerium', 'aber', 'auch', 'in', 'der', 'bundesregierung', 'insgesamt', 'großes', 'interesse', 'daran', 'haben', 'die', 'klimaschutzziele', 'zu', 'erreichen', 'und', 'auch', 'sonst', 'alles', 'zu', 'tun', 'um', 'die', 'umwelt', 'zu', '–', 'befördern', 'wie', 'sagt', 'man', '–', 'zu', 'schützen', 'danke', 'schön', 'sehr', 'freundlich', 'ich', 'denke', 'es', 'war', 'eine', 'gute', 'entscheidung', 'dass', 'die', 'bundesregierung', 'die', 'ressorts', 'wirtschaft', 'und', 'energie', 'zusammengelegt', 'hat', 'weil', 'wir', 'auf', 'diese', 'art', 'und', 'weise', 'erhebliche', 'synergieeffekte', 'erzielen', 'und', 'positive', 'schritte', 'vorangehen', 'konnten', 'gerade', 'das', 'thema', 'energieeffizienz', 'haben', 'wir', 'stark', 'nach', 'vorne', 'gestellt', 'weil', 'unser', 'credo', 'ja', 'ist', 'die', 'beste', 'energie', 'ist', 'diejenige', 'die', 'erst', 'gar', 'nicht', 'verbraucht', 'wird', 'deswegen', 'haben', 'wir', 'gerade', 'in', 'diesem', 'bereich', 'sehr', 'viele', 'aktivitäten', 'unternommen', 'die', 'frage', 'wie', 'es', 'in', 'der', 'zukunft', 'weitergeht', 'wird', 'eine', 'künftige', 'bundesregierung', 'beantworten', 'müssen']",
         "133"
        ],
        [
         "41",
         "a481b417-2a54-4ca5-6d43-08da0f22a008",
         "11003870",
         "Herr Abgeordneter, das ist nicht sonderlich schwierig. Das Aussterben von Handwerksberufen fürchten wir, ehrlich gesagt, nicht. Wir haben schon eine rege Nachfrage, gerade nach so traditionellen Handwerken wie Schreiner oder Ähnlichem. Da gibt es schon fast zu wenig Ausbildungsplätze.\nTrotzdem ist es grosso modo richtig: Wir wollen die Ausbildung stärken, sowohl was das Handwerk als auch was die Industrieausbildung anbelangt. Es geht generell darum, die duale Berufsausbildung stärker zu machen. Dafür haben wir gemeinsam mit den Industrie- und Handelskammern Kampagnen diskutiert, die wir auflegen wollen, und gezielte Werbeprogramme, mit denen wir an die Schulen herantreten wollen. Wir haben 100 Vorbildunternehmerinnen, die in Schulen gehen und dort erzählen, wie wichtig es ist, tatsächlich mit den Händen zu arbeiten. Wir haben auch andere Überlegungen angestellt. Ich bin sehr froh, sagen zu können, dass der Bundespräsident und seine Frau die duale Berufsausbildung sehr stark unterstützen und beispielsweise bei Meisterfeiern Reden halten, um deutlich zu machen, dass eine hohe Wertschätzung seitens der Politik gegenüber den Jugendlichen besteht, die eine Ausbildung machen.\n",
         "19",
         "10",
         "1",
         "11003870",
         "Brigitte",
         "Zypries",
         "SPD",
         null,
         "herr abgeordneter das ist nicht sonderlich schwierig das aussterben von handwerksberufen fürchten wir ehrlich gesagt nicht wir haben schon eine rege nachfrage gerade nach so traditionellen handwerken wie schreiner oder ähnlichem da gibt es schon fast zu wenig ausbildungsplätze\ntrotzdem ist es grosso modo richtig wir wollen die ausbildung stärken sowohl was das handwerk als auch was die industrieausbildung anbelangt es geht generell darum die duale berufsausbildung stärker zu machen dafür haben wir gemeinsam mit den industrie und handelskammern kampagnen diskutiert die wir auflegen wollen und gezielte werbeprogramme mit denen wir an die schulen herantreten wollen wir haben 100 vorbildunternehmerinnen die in schulen gehen und dort erzählen wie wichtig es ist tatsächlich mit den händen zu arbeiten wir haben auch andere überlegungen angestellt ich bin sehr froh sagen zu können dass der bundespräsident und seine frau die duale berufsausbildung sehr stark unterstützen und beispielsweise bei meisterfeiern reden halten um deutlich zu machen dass eine hohe wertschätzung seitens der politik gegenüber den jugendlichen besteht die eine ausbildung machen\n",
         "['herr', 'abgeordneter', 'das', 'ist', 'nicht', 'sonderlich', 'schwierig', 'das', 'aussterben', 'von', 'handwerksberufen', 'fürchten', 'wir', 'ehrlich', 'gesagt', 'nicht', 'wir', 'haben', 'schon', 'eine', 'rege', 'nachfrage', 'gerade', 'nach', 'so', 'traditionellen', 'handwerken', 'wie', 'schreiner', 'oder', 'ähnlichem', 'da', 'gibt', 'es', 'schon', 'fast', 'zu', 'wenig', 'ausbildungsplätze', 'trotzdem', 'ist', 'es', 'grosso', 'modo', 'richtig', 'wir', 'wollen', 'die', 'ausbildung', 'stärken', 'sowohl', 'was', 'das', 'handwerk', 'als', 'auch', 'was', 'die', 'industrieausbildung', 'anbelangt', 'es', 'geht', 'generell', 'darum', 'die', 'duale', 'berufsausbildung', 'stärker', 'zu', 'machen', 'dafür', 'haben', 'wir', 'gemeinsam', 'mit', 'den', 'industrie', 'und', 'handelskammern', 'kampagnen', 'diskutiert', 'die', 'wir', 'auflegen', 'wollen', 'und', 'gezielte', 'werbeprogramme', 'mit', 'denen', 'wir', 'an', 'die', 'schulen', 'herantreten', 'wollen', 'wir', 'haben', '100', 'vorbildunternehmerinnen', 'die', 'in', 'schulen', 'gehen', 'und', 'dort', 'erzählen', 'wie', 'wichtig', 'es', 'ist', 'tatsächlich', 'mit', 'den', 'händen', 'zu', 'arbeiten', 'wir', 'haben', 'auch', 'andere', 'überlegungen', 'angestellt', 'ich', 'bin', 'sehr', 'froh', 'sagen', 'zu', 'können', 'dass', 'der', 'bundespräsident', 'und', 'seine', 'frau', 'die', 'duale', 'berufsausbildung', 'sehr', 'stark', 'unterstützen', 'und', 'beispielsweise', 'bei', 'meisterfeiern', 'reden', 'halten', 'um', 'deutlich', 'zu', 'machen', 'dass', 'eine', 'hohe', 'wertschätzung', 'seitens', 'der', 'politik', 'gegenüber', 'den', 'jugendlichen', 'besteht', 'die', 'eine', 'ausbildung', 'machen']",
         "167"
        ],
        [
         "42",
         "07036542-6e59-4862-60fc-08da0f22a008",
         "11004263",
         "Frau Zypries, ich habe mit Interesse zur Kenntnis genommen, dass Sie gesagt haben, die Bundesregierung habe großes Interesse daran, die Klimaziele zu erreichen. Meine Frage an Sie ist, wie sich dieses Interesse in Ihrem Ministerium in den letzten Jahren in konkretes Handeln umgesetzt hat. Denn bei den Themen Strommarktdesign oder Kohleausstieg konnte ich nicht wirklich viel Handeln erkennen. Vielleicht können Sie noch einmal erklären, wie dieses Interesse umgesetzt wird oder ob Sie vielleicht irgendetwas anderes vorhaben, um das in Zukunft zu tun.\n",
         "19",
         "10",
         "1",
         "11004263",
         "Katharina",
         "Dröge",
         "BÜNDNIS 90/DIE GRÜNEN",
         "Bündnis 90 / Die Grünen",
         "frau zypries ich habe mit interesse zur kenntnis genommen dass sie gesagt haben die bundesregierung habe großes interesse daran die klimaziele zu erreichen meine frage an sie ist wie sich dieses interesse in ihrem ministerium in den letzten jahren in konkretes handeln umgesetzt hat denn bei den themen strommarktdesign oder kohleausstieg konnte ich nicht wirklich viel handeln erkennen vielleicht können sie noch einmal erklären wie dieses interesse umgesetzt wird oder ob sie vielleicht irgendetwas anderes vorhaben um das in zukunft zu tun\n",
         "['frau', 'zypries', 'ich', 'habe', 'mit', 'interesse', 'zur', 'kenntnis', 'genommen', 'dass', 'sie', 'gesagt', 'haben', 'die', 'bundesregierung', 'habe', 'großes', 'interesse', 'daran', 'die', 'klimaziele', 'zu', 'erreichen', 'meine', 'frage', 'an', 'sie', 'ist', 'wie', 'sich', 'dieses', 'interesse', 'in', 'ihrem', 'ministerium', 'in', 'den', 'letzten', 'jahren', 'in', 'konkretes', 'handeln', 'umgesetzt', 'hat', 'denn', 'bei', 'den', 'themen', 'strommarktdesign', 'oder', 'kohleausstieg', 'konnte', 'ich', 'nicht', 'wirklich', 'viel', 'handeln', 'erkennen', 'vielleicht', 'können', 'sie', 'noch', 'einmal', 'erklären', 'wie', 'dieses', 'interesse', 'umgesetzt', 'wird', 'oder', 'ob', 'sie', 'vielleicht', 'irgendetwas', 'anderes', 'vorhaben', 'um', 'das', 'in', 'zukunft', 'zu', 'tun']",
         "82"
        ],
        [
         "43",
         "784ff6c6-ff35-4d70-4fc8-08da0e9b3c58",
         "11004333",
         "Danke, Frau Präsidentin. – Danke, Frau Ministerin, für Ihren Bericht hier. Meine Frage geht dahin: Wenn man sich mit den Immobilienmärkten und der Bauwirtschaft beschäftigt, gerät immer stärker in den Blick, dass wir in großen Teilen Deutschlands deutlich überhitzte Wohnungsmärkte haben. Dazu kann man sich die Zahlen sehr genau anschauen. Wir haben steigende Mieten. Aber zum Glück steigen die Mieten nicht in der gleichen Weise wie die Immobilienpreise. Dahinter steckt natürlich die reale Gefahr, dass, wenn sich das Zinsumfeld verändert, wenn sich die wirtschaftliche Lage grundsätzlich verändert, die Blase irgendwann platzt.\n",
         "19",
         "10",
         "1",
         "11004333",
         "Christian",
         "Kühn",
         "BÜNDNIS 90/DIE GRÜNEN",
         "Bündnis 90 / Die Grünen",
         "danke frau präsidentin – danke frau ministerin für ihren bericht hier meine frage geht dahin wenn man sich mit den immobilienmärkten und der bauwirtschaft beschäftigt gerät immer stärker in den blick dass wir in großen teilen deutschlands deutlich überhitzte wohnungsmärkte haben dazu kann man sich die zahlen sehr genau anschauen wir haben steigende mieten aber zum glück steigen die mieten nicht in der gleichen weise wie die immobilienpreise dahinter steckt natürlich die reale gefahr dass wenn sich das zinsumfeld verändert wenn sich die wirtschaftliche lage grundsätzlich verändert die blase irgendwann platzt\n",
         "['danke', 'frau', 'präsidentin', '–', 'danke', 'frau', 'ministerin', 'für', 'ihren', 'bericht', 'hier', 'meine', 'frage', 'geht', 'dahin', 'wenn', 'man', 'sich', 'mit', 'den', 'immobilienmärkten', 'und', 'der', 'bauwirtschaft', 'beschäftigt', 'gerät', 'immer', 'stärker', 'in', 'den', 'blick', 'dass', 'wir', 'in', 'großen', 'teilen', 'deutschlands', 'deutlich', 'überhitzte', 'wohnungsmärkte', 'haben', 'dazu', 'kann', 'man', 'sich', 'die', 'zahlen', 'sehr', 'genau', 'anschauen', 'wir', 'haben', 'steigende', 'mieten', 'aber', 'zum', 'glück', 'steigen', 'die', 'mieten', 'nicht', 'in', 'der', 'gleichen', 'weise', 'wie', 'die', 'immobilienpreise', 'dahinter', 'steckt', 'natürlich', 'die', 'reale', 'gefahr', 'dass', 'wenn', 'sich', 'das', 'zinsumfeld', 'verändert', 'wenn', 'sich', 'die', 'wirtschaftliche', 'lage', 'grundsätzlich', 'verändert', 'die', 'blase', 'irgendwann', 'platzt']",
         "91"
        ],
        [
         "44",
         "7a7cf8ea-aeda-4a0f-50ae-08da0f22a008",
         "11004695",
         "Frau Ministerin, laut Jahresgutachten werden seit 2009 immer weniger junge Menschen, gerade in traditionellen Handwerksberufen, ausgebildet. Stattdessen ist eine deutliche Akademisierung festzustellen. Die Zahl der Akademiker ist zwischen 2007 und 2015 von 37 Prozent auf 58 Prozent gestiegen. In dem Bericht ist wiederholt davon die Rede, dass sich Ausbildungsberufe in Industrie und Handwerk stark gewandelt hätten.\n",
         "19",
         "10",
         "1",
         "11004695",
         "Tino",
         "Chrupalla",
         "AfD",
         "AfD",
         "frau ministerin laut jahresgutachten werden seit 2009 immer weniger junge menschen gerade in traditionellen handwerksberufen ausgebildet stattdessen ist eine deutliche akademisierung festzustellen die zahl der akademiker ist zwischen 2007 und 2015 von 37 prozent auf 58 prozent gestiegen in dem bericht ist wiederholt davon die rede dass sich ausbildungsberufe in industrie und handwerk stark gewandelt hätten\n",
         "['frau', 'ministerin', 'laut', 'jahresgutachten', 'werden', 'seit', '2009', 'immer', 'weniger', 'junge', 'menschen', 'gerade', 'in', 'traditionellen', 'handwerksberufen', 'ausgebildet', 'stattdessen', 'ist', 'eine', 'deutliche', 'akademisierung', 'festzustellen', 'die', 'zahl', 'der', 'akademiker', 'ist', 'zwischen', '2007', 'und', '2015', 'von', '37', 'prozent', 'auf', '58', 'prozent', 'gestiegen', 'in', 'dem', 'bericht', 'ist', 'wiederholt', 'davon', 'die', 'rede', 'dass', 'sich', 'ausbildungsberufe', 'in', 'industrie', 'und', 'handwerk', 'stark', 'gewandelt', 'hätten']",
         "56"
        ],
        [
         "45",
         "b919b295-6998-49e1-5d12-08da0f22a008",
         "11004705",
         "Herr Abgeordneter, ich bitte um Nachsicht: Der Kollege musste zu einem dringenden Termin. Wir würden Ihnen die Frage gerne schriftlich beantworten; sie ist ja auch recht technisch.\nIch danke Ihnen, Frau Ministerin.\n",
         "19",
         "10",
         "1",
         "11004705",
         "Christian",
         "Dürr",
         "FDP",
         "FDP",
         "herr abgeordneter ich bitte um nachsicht der kollege musste zu einem dringenden termin wir würden ihnen die frage gerne schriftlich beantworten sie ist ja auch recht technisch\nich danke ihnen frau ministerin\n",
         "['herr', 'abgeordneter', 'ich', 'bitte', 'um', 'nachsicht', 'der', 'kollege', 'musste', 'zu', 'einem', 'dringenden', 'termin', 'wir', 'würden', 'ihnen', 'die', 'frage', 'gerne', 'schriftlich', 'beantworten', 'sie', 'ist', 'ja', 'auch', 'recht', 'technisch', 'ich', 'danke', 'ihnen', 'frau', 'ministerin']",
         "32"
        ],
        [
         "46",
         "04e2ef78-9b23-4437-99e8-08da0ffa5a12",
         "11004732",
         "Frau Ministerin Zypries, vielen Dank für diesen sehr positiven Bericht. – Ich habe noch eine Nachfrage in Bezug auf private Investitionen. Sie haben einen Anteil von 90 Prozent an den Gesamtinvestitionen. Diese Entwicklung hat sich in den letzten Jahren deutlich verbessert; das geht ja auch aus Ihrem Bericht hervor.\n",
         "19",
         "10",
         "1",
         "11004732",
         "Timon",
         "Gremmels",
         "SPD",
         "SPD",
         "frau ministerin zypries vielen dank für diesen sehr positiven bericht – ich habe noch eine nachfrage in bezug auf private investitionen sie haben einen anteil von 90 prozent an den gesamtinvestitionen diese entwicklung hat sich in den letzten jahren deutlich verbessert das geht ja auch aus ihrem bericht hervor\n",
         "['frau', 'ministerin', 'zypries', 'vielen', 'dank', 'für', 'diesen', 'sehr', 'positiven', 'bericht', '–', 'ich', 'habe', 'noch', 'eine', 'nachfrage', 'in', 'bezug', 'auf', 'private', 'investitionen', 'sie', 'haben', 'einen', 'anteil', 'von', '90', 'prozent', 'an', 'den', 'gesamtinvestitionen', 'diese', 'entwicklung', 'hat', 'sich', 'in', 'den', 'letzten', 'jahren', 'deutlich', 'verbessert', 'das', 'geht', 'ja', 'auch', 'aus', 'ihrem', 'bericht', 'hervor']",
         "49"
        ],
        [
         "47",
         "adb855e4-b182-4d10-fe15-08da0daf380d",
         "11004751",
         "Frau Ministerin, das Wachstum in der EU dürfte knapp über dem Wachstum in der Bundesrepublik liegen, obwohl im Zusammenhang mit der Asylproblematik ein wirtschaftliches Strohfeuer mit hohen zweistelligen Milliardensummen entfacht wurde – insbesondere in der Sozialindustrie –, was sich im Konsumverhalten widerspiegelt. Durch die Nullzinspolitik spart sich der Staat auf Kosten der Bürger diese Summen. Nun zu meiner im Vergleich zu heute früh vertiefenden Frage: Was ist die Strategie bei steigenden Zinsen unter Berücksichtigung der Tatsache, dass wir bereits weltweit die zweithöchsten Steuern und Sozialabgaben haben und die Einwanderung in die Sozialsysteme weitergehen soll?\n",
         "19",
         "10",
         "1",
         "11004751",
         "Heiko",
         "Heßenkemper",
         "Plos",
         "AfD",
         "frau ministerin das wachstum in der eu dürfte knapp über dem wachstum in der bundesrepublik liegen obwohl im zusammenhang mit der asylproblematik ein wirtschaftliches strohfeuer mit hohen zweistelligen milliardensummen entfacht wurde – insbesondere in der sozialindustrie – was sich im konsumverhalten widerspiegelt durch die nullzinspolitik spart sich der staat auf kosten der bürger diese summen nun zu meiner im vergleich zu heute früh vertiefenden frage was ist die strategie bei steigenden zinsen unter berücksichtigung der tatsache dass wir bereits weltweit die zweithöchsten steuern und sozialabgaben haben und die einwanderung in die sozialsysteme weitergehen soll\n",
         "['frau', 'ministerin', 'das', 'wachstum', 'in', 'der', 'eu', 'dürfte', 'knapp', 'über', 'dem', 'wachstum', 'in', 'der', 'bundesrepublik', 'liegen', 'obwohl', 'im', 'zusammenhang', 'mit', 'der', 'asylproblematik', 'ein', 'wirtschaftliches', 'strohfeuer', 'mit', 'hohen', 'zweistelligen', 'milliardensummen', 'entfacht', 'wurde', '–', 'insbesondere', 'in', 'der', 'sozialindustrie', '–', 'was', 'sich', 'im', 'konsumverhalten', 'widerspiegelt', 'durch', 'die', 'nullzinspolitik', 'spart', 'sich', 'der', 'staat', 'auf', 'kosten', 'der', 'bürger', 'diese', 'summen', 'nun', 'zu', 'meiner', 'im', 'vergleich', 'zu', 'heute', 'früh', 'vertiefenden', 'frage', 'was', 'ist', 'die', 'strategie', 'bei', 'steigenden', 'zinsen', 'unter', 'berücksichtigung', 'der', 'tatsache', 'dass', 'wir', 'bereits', 'weltweit', 'die', 'zweithöchsten', 'steuern', 'und', 'sozialabgaben', 'haben', 'und', 'die', 'einwanderung', 'in', 'die', 'sozialsysteme', 'weitergehen', 'soll']",
         "94"
        ],
        [
         "48",
         "69ded322-3e91-4018-fbd5-08da0daf380d",
         "11004792",
         "Vielen Dank, Frau Präsidentin. – Frau Ministerin Zypries, gemäß den Energy Charts des Fraunhofer-Instituts war es in 2017 genau wie in 2016 und 2015 und allen anderen Jahren davor bis zur Erfindung der Dampfmaschine so, dass in Deutschland mehr Strom aus Kohleverstromung erzeugt worden ist als aus den sogenannten Erneuerbaren, also Solar, Wind, Wasser und Bio, zusammen.\nVor diesem Hintergrund und angesichts der Fakten, dass wir eine bevorzugte Einspeisung von Strom aus erneuerbaren Energien gemäß dem Erneuerbare-Energien-Gesetz haben, dass wir eine Verpflichtung der Netzbetreiber zur Abnahme von Strom aus erneuerbaren Quellen haben und dass die Stromverbraucher derzeit mit 25 bis 27 Milliarden Euro pro Jahr an Umlagen belastet werden, lautet meine Frage: Wie steht Ihr Ministerium zu einem kurzfristigen Ausstieg aus der Kohleverstromung? Zusatzfrage – wenn wir mittel- bis langfristig denken –: Wie kann die grundlastfähige Kohleverstromung überhaupt durch irgendetwas anderes ersetzt werden als durch ebenfalls grundlastfähige Gas- bzw. sogar Kernkraftwerke?\n",
         "19",
         "10",
         "1",
         "11004792",
         "Rainer",
         "Kraft",
         "AfD",
         "AfD",
         "vielen dank frau präsidentin – frau ministerin zypries gemäß den energy charts des fraunhoferinstituts war es in 2017 genau wie in 2016 und 2015 und allen anderen jahren davor bis zur erfindung der dampfmaschine so dass in deutschland mehr strom aus kohleverstromung erzeugt worden ist als aus den sogenannten erneuerbaren also solar wind wasser und bio zusammen\nvor diesem hintergrund und angesichts der fakten dass wir eine bevorzugte einspeisung von strom aus erneuerbaren energien gemäß dem erneuerbareenergiengesetz haben dass wir eine verpflichtung der netzbetreiber zur abnahme von strom aus erneuerbaren quellen haben und dass die stromverbraucher derzeit mit 25 bis 27 milliarden euro pro jahr an umlagen belastet werden lautet meine frage wie steht ihr ministerium zu einem kurzfristigen ausstieg aus der kohleverstromung zusatzfrage – wenn wir mittel bis langfristig denken – wie kann die grundlastfähige kohleverstromung überhaupt durch irgendetwas anderes ersetzt werden als durch ebenfalls grundlastfähige gas bzw sogar kernkraftwerke\n",
         "['vielen', 'dank', 'frau', 'präsidentin', '–', 'frau', 'ministerin', 'zypries', 'gemäß', 'den', 'energy', 'charts', 'des', 'fraunhoferinstituts', 'war', 'es', 'in', '2017', 'genau', 'wie', 'in', '2016', 'und', '2015', 'und', 'allen', 'anderen', 'jahren', 'davor', 'bis', 'zur', 'erfindung', 'der', 'dampfmaschine', 'so', 'dass', 'in', 'deutschland', 'mehr', 'strom', 'aus', 'kohleverstromung', 'erzeugt', 'worden', 'ist', 'als', 'aus', 'den', 'sogenannten', 'erneuerbaren', 'also', 'solar', 'wind', 'wasser', 'und', 'bio', 'zusammen', 'vor', 'diesem', 'hintergrund', 'und', 'angesichts', 'der', 'fakten', 'dass', 'wir', 'eine', 'bevorzugte', 'einspeisung', 'von', 'strom', 'aus', 'erneuerbaren', 'energien', 'gemäß', 'dem', 'erneuerbareenergiengesetz', 'haben', 'dass', 'wir', 'eine', 'verpflichtung', 'der', 'netzbetreiber', 'zur', 'abnahme', 'von', 'strom', 'aus', 'erneuerbaren', 'quellen', 'haben', 'und', 'dass', 'die', 'stromverbraucher', 'derzeit', 'mit', '25', 'bis', '27', 'milliarden', 'euro', 'pro', 'jahr', 'an', 'umlagen', 'belastet', 'werden', 'lautet', 'meine', 'frage', 'wie', 'steht', 'ihr', 'ministerium', 'zu', 'einem', 'kurzfristigen', 'ausstieg', 'aus', 'der', 'kohleverstromung', 'zusatzfrage', '–', 'wenn', 'wir', 'mittel', 'bis', 'langfristig', 'denken', '–', 'wie', 'kann', 'die', 'grundlastfähige', 'kohleverstromung', 'überhaupt', 'durch', 'irgendetwas', 'anderes', 'ersetzt', 'werden', 'als', 'durch', 'ebenfalls', 'grundlastfähige', 'gas', 'bzw', 'sogar', 'kernkraftwerke']",
         "151"
        ],
        [
         "49",
         "b592a9c6-8bf2-4df9-6a9e-08da0f22a008",
         "11004824",
         "Frau Präsidentin, ich versuche, mich daran zu halten. – Frau Ministerin, erst einmal vielen Dank für den Bericht. In dem Jahresbericht wird richtigerweise darauf hingewiesen, welche Bedeutung die Frage der Digitalisierung für die Dynamik der deutschen Wirtschaft hat.\n",
         "19",
         "10",
         "1",
         "11004824",
         "Falko",
         "Mohrs",
         "SPD",
         "SPD",
         "frau präsidentin ich versuche mich daran zu halten – frau ministerin erst einmal vielen dank für den bericht in dem jahresbericht wird richtigerweise darauf hingewiesen welche bedeutung die frage der digitalisierung für die dynamik der deutschen wirtschaft hat\n",
         "['frau', 'präsidentin', 'ich', 'versuche', 'mich', 'daran', 'zu', 'halten', '–', 'frau', 'ministerin', 'erst', 'einmal', 'vielen', 'dank', 'für', 'den', 'bericht', 'in', 'dem', 'jahresbericht', 'wird', 'richtigerweise', 'darauf', 'hingewiesen', 'welche', 'bedeutung', 'die', 'frage', 'der', 'digitalisierung', 'für', 'die', 'dynamik', 'der', 'deutschen', 'wirtschaft', 'hat']",
         "38"
        ]
       ],
       "shape": {
        "columns": 14,
        "rows": 6352
       }
      },
      "text/html": [
       "<div>\n",
       "<style scoped>\n",
       "    .dataframe tbody tr th:only-of-type {\n",
       "        vertical-align: middle;\n",
       "    }\n",
       "\n",
       "    .dataframe tbody tr th {\n",
       "        vertical-align: top;\n",
       "    }\n",
       "\n",
       "    .dataframe thead th {\n",
       "        text-align: right;\n",
       "    }\n",
       "</style>\n",
       "<table border=\"1\" class=\"dataframe\">\n",
       "  <thead>\n",
       "    <tr style=\"text-align: right;\">\n",
       "      <th></th>\n",
       "      <th>speech_id</th>\n",
       "      <th>speaker_id</th>\n",
       "      <th>speech_text</th>\n",
       "      <th>legislative_period</th>\n",
       "      <th>protocol_nr</th>\n",
       "      <th>agenda_item_number</th>\n",
       "      <th>speakerId</th>\n",
       "      <th>firstName</th>\n",
       "      <th>lastName</th>\n",
       "      <th>party</th>\n",
       "      <th>fraction</th>\n",
       "      <th>normalized</th>\n",
       "      <th>tokenized</th>\n",
       "      <th>speech_length</th>\n",
       "    </tr>\n",
       "  </thead>\n",
       "  <tbody>\n",
       "    <tr>\n",
       "      <th>0</th>\n",
       "      <td>f7f58b13-85f3-424a-6864-08da102a68d8</td>\n",
       "      <td>11001235</td>\n",
       "      <td>Herr Präsident, ich nehme die Wahl an.\\nDann b...</td>\n",
       "      <td>19</td>\n",
       "      <td>1</td>\n",
       "      <td>6</td>\n",
       "      <td>11001235</td>\n",
       "      <td>Wolfgang</td>\n",
       "      <td>Kubicki</td>\n",
       "      <td>FDP</td>\n",
       "      <td>FDP</td>\n",
       "      <td>herr präsident ich nehme die wahl an\\ndann beg...</td>\n",
       "      <td>[herr, präsident, ich, nehme, die, wahl, an, d...</td>\n",
       "      <td>22</td>\n",
       "    </tr>\n",
       "    <tr>\n",
       "      <th>1</th>\n",
       "      <td>d0c84378-49ab-47ce-61aa-08da102a68d8</td>\n",
       "      <td>11001938</td>\n",
       "      <td>Das ist der Fall. – Ich sehe keine weiteren Vo...</td>\n",
       "      <td>19</td>\n",
       "      <td>1</td>\n",
       "      <td>3</td>\n",
       "      <td>11001938</td>\n",
       "      <td>Dr. Wolfgang</td>\n",
       "      <td>Schäuble</td>\n",
       "      <td>CDU</td>\n",
       "      <td>NaN</td>\n",
       "      <td>das ist der fall – ich sehe keine weiteren vor...</td>\n",
       "      <td>[das, ist, der, fall, –, ich, sehe, keine, wei...</td>\n",
       "      <td>572</td>\n",
       "    </tr>\n",
       "    <tr>\n",
       "      <th>2</th>\n",
       "      <td>9aff56c3-41cd-4e6b-633b-08da0f22a008</td>\n",
       "      <td>11002190</td>\n",
       "      <td>Guten Morgen, liebe Kolleginnen und Kollegen! ...</td>\n",
       "      <td>19</td>\n",
       "      <td>1</td>\n",
       "      <td>1</td>\n",
       "      <td>11002190</td>\n",
       "      <td>Alterspräsident Dr. Hermann</td>\n",
       "      <td>Otto Solms</td>\n",
       "      <td>FDP</td>\n",
       "      <td>NaN</td>\n",
       "      <td>guten morgen liebe kolleginnen und kollegen ne...</td>\n",
       "      <td>[guten, morgen, liebe, kolleginnen, und, kolle...</td>\n",
       "      <td>273</td>\n",
       "    </tr>\n",
       "    <tr>\n",
       "      <th>3</th>\n",
       "      <td>05ebe489-0cff-4575-661e-08da0f22a008</td>\n",
       "      <td>11002190</td>\n",
       "      <td>Die unterbrochene Sitzung ist wieder eröffnet....</td>\n",
       "      <td>19</td>\n",
       "      <td>1</td>\n",
       "      <td>6</td>\n",
       "      <td>11002190</td>\n",
       "      <td>Alterspräsident Dr. Hermann</td>\n",
       "      <td>Otto Solms</td>\n",
       "      <td>FDP</td>\n",
       "      <td>NaN</td>\n",
       "      <td>die unterbrochene sitzung ist wieder eröffnet\\...</td>\n",
       "      <td>[die, unterbrochene, sitzung, ist, wieder, erö...</td>\n",
       "      <td>257</td>\n",
       "    </tr>\n",
       "    <tr>\n",
       "      <th>4</th>\n",
       "      <td>917c3517-5bc1-4763-5c38-08da0f22a008</td>\n",
       "      <td>11003124</td>\n",
       "      <td>Herr Präsident, ich nehme die Wahl an.\\nDann b...</td>\n",
       "      <td>19</td>\n",
       "      <td>1</td>\n",
       "      <td>6</td>\n",
       "      <td>11003124</td>\n",
       "      <td>Hans-Peter</td>\n",
       "      <td>Friedrich</td>\n",
       "      <td>CSU</td>\n",
       "      <td>CDU/CSU</td>\n",
       "      <td>herr präsident ich nehme die wahl an\\ndann beg...</td>\n",
       "      <td>[herr, präsident, ich, nehme, die, wahl, an, d...</td>\n",
       "      <td>14</td>\n",
       "    </tr>\n",
       "    <tr>\n",
       "      <th>...</th>\n",
       "      <td>...</td>\n",
       "      <td>...</td>\n",
       "      <td>...</td>\n",
       "      <td>...</td>\n",
       "      <td>...</td>\n",
       "      <td>...</td>\n",
       "      <td>...</td>\n",
       "      <td>...</td>\n",
       "      <td>...</td>\n",
       "      <td>...</td>\n",
       "      <td>...</td>\n",
       "      <td>...</td>\n",
       "      <td>...</td>\n",
       "      <td>...</td>\n",
       "    </tr>\n",
       "    <tr>\n",
       "      <th>6347</th>\n",
       "      <td>ce70b8e4-855f-4c28-855e-c050c374df2e</td>\n",
       "      <td>11005115</td>\n",
       "      <td>Frau Präsidentin! Sehr geehrte Frau Ministerin...</td>\n",
       "      <td>20</td>\n",
       "      <td>99</td>\n",
       "      <td>1</td>\n",
       "      <td>11005115</td>\n",
       "      <td>Dunja</td>\n",
       "      <td>Kreiser</td>\n",
       "      <td>SPD</td>\n",
       "      <td>SPD</td>\n",
       "      <td>frau präsidentin sehr geehrte frau ministerin ...</td>\n",
       "      <td>[frau, präsidentin, sehr, geehrte, frau, minis...</td>\n",
       "      <td>147</td>\n",
       "    </tr>\n",
       "    <tr>\n",
       "      <th>6348</th>\n",
       "      <td>838fe67e-51a1-4d26-acb7-258d5ede5972</td>\n",
       "      <td>11005132</td>\n",
       "      <td>Vielen Dank, Frau Präsidentin. – Liebe Kollegi...</td>\n",
       "      <td>20</td>\n",
       "      <td>99</td>\n",
       "      <td>1</td>\n",
       "      <td>11005132</td>\n",
       "      <td>Helge</td>\n",
       "      <td>Limburg</td>\n",
       "      <td>BÜNDNIS 90/DIE GRÜNEN</td>\n",
       "      <td>Bündnis 90 / Die Grünen</td>\n",
       "      <td>vielen dank frau präsidentin – liebe kolleginn...</td>\n",
       "      <td>[vielen, dank, frau, präsidentin, –, liebe, ko...</td>\n",
       "      <td>168</td>\n",
       "    </tr>\n",
       "    <tr>\n",
       "      <th>6349</th>\n",
       "      <td>9b6ed8ce-866c-4457-8527-35dce1891aa9</td>\n",
       "      <td>11005142</td>\n",
       "      <td>Vielen Dank. – Unser Koalitionsvertrag sieht e...</td>\n",
       "      <td>20</td>\n",
       "      <td>99</td>\n",
       "      <td>1</td>\n",
       "      <td>11005142</td>\n",
       "      <td>Zanda</td>\n",
       "      <td>Martens</td>\n",
       "      <td>SPD</td>\n",
       "      <td>SPD</td>\n",
       "      <td>vielen dank – unser koalitionsvertrag sieht eb...</td>\n",
       "      <td>[vielen, dank, –, unser, koalitionsvertrag, si...</td>\n",
       "      <td>116</td>\n",
       "    </tr>\n",
       "    <tr>\n",
       "      <th>6350</th>\n",
       "      <td>df4836be-313b-4a08-ab1a-b225c7b0a5f0</td>\n",
       "      <td>11005142</td>\n",
       "      <td>Sehr gerne. Vielen Dank, Frau Präsidentin. – M...</td>\n",
       "      <td>20</td>\n",
       "      <td>99</td>\n",
       "      <td>1</td>\n",
       "      <td>11005142</td>\n",
       "      <td>Zanda</td>\n",
       "      <td>Martens</td>\n",
       "      <td>SPD</td>\n",
       "      <td>SPD</td>\n",
       "      <td>sehr gerne vielen dank frau präsidentin – mein...</td>\n",
       "      <td>[sehr, gerne, vielen, dank, frau, präsidentin,...</td>\n",
       "      <td>110</td>\n",
       "    </tr>\n",
       "    <tr>\n",
       "      <th>6351</th>\n",
       "      <td>416b0c59-b13a-40ca-a289-5fdfee3ed3c5</td>\n",
       "      <td>11005189</td>\n",
       "      <td>Frau Ministerin, ich komme aus dem Landkreis U...</td>\n",
       "      <td>20</td>\n",
       "      <td>99</td>\n",
       "      <td>1</td>\n",
       "      <td>11005189</td>\n",
       "      <td>Frank</td>\n",
       "      <td>Rinck</td>\n",
       "      <td>AfD</td>\n",
       "      <td>AfD</td>\n",
       "      <td>frau ministerin ich komme aus dem landkreis ue...</td>\n",
       "      <td>[frau, ministerin, ich, komme, aus, dem, landk...</td>\n",
       "      <td>80</td>\n",
       "    </tr>\n",
       "  </tbody>\n",
       "</table>\n",
       "<p>6352 rows × 14 columns</p>\n",
       "</div>"
      ],
      "text/plain": [
       "                                 speech_id  speaker_id  \\\n",
       "0     f7f58b13-85f3-424a-6864-08da102a68d8    11001235   \n",
       "1     d0c84378-49ab-47ce-61aa-08da102a68d8    11001938   \n",
       "2     9aff56c3-41cd-4e6b-633b-08da0f22a008    11002190   \n",
       "3     05ebe489-0cff-4575-661e-08da0f22a008    11002190   \n",
       "4     917c3517-5bc1-4763-5c38-08da0f22a008    11003124   \n",
       "...                                    ...         ...   \n",
       "6347  ce70b8e4-855f-4c28-855e-c050c374df2e    11005115   \n",
       "6348  838fe67e-51a1-4d26-acb7-258d5ede5972    11005132   \n",
       "6349  9b6ed8ce-866c-4457-8527-35dce1891aa9    11005142   \n",
       "6350  df4836be-313b-4a08-ab1a-b225c7b0a5f0    11005142   \n",
       "6351  416b0c59-b13a-40ca-a289-5fdfee3ed3c5    11005189   \n",
       "\n",
       "                                            speech_text  legislative_period  \\\n",
       "0     Herr Präsident, ich nehme die Wahl an.\\nDann b...                  19   \n",
       "1     Das ist der Fall. – Ich sehe keine weiteren Vo...                  19   \n",
       "2     Guten Morgen, liebe Kolleginnen und Kollegen! ...                  19   \n",
       "3     Die unterbrochene Sitzung ist wieder eröffnet....                  19   \n",
       "4     Herr Präsident, ich nehme die Wahl an.\\nDann b...                  19   \n",
       "...                                                 ...                 ...   \n",
       "6347  Frau Präsidentin! Sehr geehrte Frau Ministerin...                  20   \n",
       "6348  Vielen Dank, Frau Präsidentin. – Liebe Kollegi...                  20   \n",
       "6349  Vielen Dank. – Unser Koalitionsvertrag sieht e...                  20   \n",
       "6350  Sehr gerne. Vielen Dank, Frau Präsidentin. – M...                  20   \n",
       "6351  Frau Ministerin, ich komme aus dem Landkreis U...                  20   \n",
       "\n",
       "      protocol_nr  agenda_item_number  speakerId                    firstName  \\\n",
       "0               1                   6   11001235                     Wolfgang   \n",
       "1               1                   3   11001938                 Dr. Wolfgang   \n",
       "2               1                   1   11002190  Alterspräsident Dr. Hermann   \n",
       "3               1                   6   11002190  Alterspräsident Dr. Hermann   \n",
       "4               1                   6   11003124                   Hans-Peter   \n",
       "...           ...                 ...        ...                          ...   \n",
       "6347           99                   1   11005115                        Dunja   \n",
       "6348           99                   1   11005132                        Helge   \n",
       "6349           99                   1   11005142                        Zanda   \n",
       "6350           99                   1   11005142                        Zanda   \n",
       "6351           99                   1   11005189                        Frank   \n",
       "\n",
       "        lastName                  party                 fraction  \\\n",
       "0        Kubicki                    FDP                      FDP   \n",
       "1       Schäuble                    CDU                      NaN   \n",
       "2     Otto Solms                    FDP                      NaN   \n",
       "3     Otto Solms                    FDP                      NaN   \n",
       "4      Friedrich                    CSU                  CDU/CSU   \n",
       "...          ...                    ...                      ...   \n",
       "6347     Kreiser                    SPD                      SPD   \n",
       "6348     Limburg  BÜNDNIS 90/DIE GRÜNEN  Bündnis 90 / Die Grünen   \n",
       "6349     Martens                    SPD                      SPD   \n",
       "6350     Martens                    SPD                      SPD   \n",
       "6351       Rinck                    AfD                      AfD   \n",
       "\n",
       "                                             normalized  \\\n",
       "0     herr präsident ich nehme die wahl an\\ndann beg...   \n",
       "1     das ist der fall – ich sehe keine weiteren vor...   \n",
       "2     guten morgen liebe kolleginnen und kollegen ne...   \n",
       "3     die unterbrochene sitzung ist wieder eröffnet\\...   \n",
       "4     herr präsident ich nehme die wahl an\\ndann beg...   \n",
       "...                                                 ...   \n",
       "6347  frau präsidentin sehr geehrte frau ministerin ...   \n",
       "6348  vielen dank frau präsidentin – liebe kolleginn...   \n",
       "6349  vielen dank – unser koalitionsvertrag sieht eb...   \n",
       "6350  sehr gerne vielen dank frau präsidentin – mein...   \n",
       "6351  frau ministerin ich komme aus dem landkreis ue...   \n",
       "\n",
       "                                              tokenized  speech_length  \n",
       "0     [herr, präsident, ich, nehme, die, wahl, an, d...             22  \n",
       "1     [das, ist, der, fall, –, ich, sehe, keine, wei...            572  \n",
       "2     [guten, morgen, liebe, kolleginnen, und, kolle...            273  \n",
       "3     [die, unterbrochene, sitzung, ist, wieder, erö...            257  \n",
       "4     [herr, präsident, ich, nehme, die, wahl, an, d...             14  \n",
       "...                                                 ...            ...  \n",
       "6347  [frau, präsidentin, sehr, geehrte, frau, minis...            147  \n",
       "6348  [vielen, dank, frau, präsidentin, –, liebe, ko...            168  \n",
       "6349  [vielen, dank, –, unser, koalitionsvertrag, si...            116  \n",
       "6350  [sehr, gerne, vielen, dank, frau, präsidentin,...            110  \n",
       "6351  [frau, ministerin, ich, komme, aus, dem, landk...             80  \n",
       "\n",
       "[6352 rows x 14 columns]"
      ]
     },
     "execution_count": 14,
     "metadata": {},
     "output_type": "execute_result"
    }
   ],
   "source": [
    "matched_data"
   ]
  },
  {
   "cell_type": "code",
   "execution_count": 15,
   "id": "b7b15d7d",
   "metadata": {},
   "outputs": [
    {
     "data": {
      "application/vnd.microsoft.datawrangler.viewer.v0+json": {
       "columns": [
        {
         "name": "index",
         "rawType": "int64",
         "type": "integer"
        },
        {
         "name": "legislative_period",
         "rawType": "int64",
         "type": "integer"
        },
        {
         "name": "protocol_nr",
         "rawType": "int64",
         "type": "integer"
        },
        {
         "name": "agenda_item_number",
         "rawType": "int64",
         "type": "integer"
        },
        {
         "name": "count",
         "rawType": "int64",
         "type": "integer"
        }
       ],
       "ref": "92a5428a-b132-4227-9704-6d2f7500dd25",
       "rows": [
        [
         "0",
         "20",
         "108",
         "1",
         "92"
        ],
        [
         "1",
         "20",
         "153",
         "1",
         "91"
        ],
        [
         "2",
         "20",
         "177",
         "2",
         "88"
        ],
        [
         "3",
         "20",
         "168",
         "1",
         "87"
        ],
        [
         "4",
         "20",
         "133",
         "1",
         "82"
        ],
        [
         "5",
         "20",
         "111",
         "1",
         "81"
        ],
        [
         "6",
         "20",
         "162",
         "1",
         "80"
        ],
        [
         "7",
         "20",
         "196",
         "1",
         "77"
        ],
        [
         "8",
         "20",
         "187",
         "1",
         "76"
        ],
        [
         "9",
         "20",
         "96",
         "1",
         "76"
        ],
        [
         "10",
         "20",
         "193",
         "3",
         "75"
        ],
        [
         "11",
         "20",
         "102",
         "1",
         "75"
        ],
        [
         "12",
         "20",
         "174",
         "1",
         "73"
        ],
        [
         "13",
         "20",
         "165",
         "1",
         "72"
        ],
        [
         "14",
         "19",
         "70",
         "1",
         "70"
        ],
        [
         "15",
         "20",
         "146",
         "1",
         "69"
        ],
        [
         "16",
         "20",
         "99",
         "1",
         "66"
        ],
        [
         "17",
         "20",
         "127",
         "1",
         "65"
        ],
        [
         "18",
         "20",
         "59",
         "1",
         "64"
        ],
        [
         "21",
         "20",
         "190",
         "1",
         "62"
        ],
        [
         "19",
         "19",
         "175",
         "1",
         "62"
        ],
        [
         "22",
         "20",
         "105",
         "2",
         "62"
        ],
        [
         "23",
         "19",
         "136",
         "1",
         "62"
        ],
        [
         "20",
         "19",
         "94",
         "1",
         "62"
        ],
        [
         "26",
         "20",
         "72",
         "1",
         "61"
        ],
        [
         "24",
         "19",
         "88",
         "2",
         "61"
        ],
        [
         "25",
         "19",
         "31",
         "1",
         "61"
        ],
        [
         "28",
         "20",
         "43",
         "1",
         "60"
        ],
        [
         "27",
         "20",
         "87",
         "1",
         "60"
        ],
        [
         "29",
         "20",
         "84",
         "2",
         "60"
        ],
        [
         "32",
         "20",
         "62",
         "1",
         "59"
        ],
        [
         "31",
         "20",
         "136",
         "1",
         "59"
        ],
        [
         "30",
         "19",
         "76",
         "1",
         "59"
        ],
        [
         "35",
         "19",
         "191",
         "2",
         "58"
        ],
        [
         "33",
         "20",
         "180",
         "1",
         "58"
        ],
        [
         "34",
         "20",
         "202",
         "1",
         "58"
        ],
        [
         "36",
         "19",
         "133",
         "2",
         "58"
        ],
        [
         "37",
         "19",
         "165",
         "2",
         "57"
        ],
        [
         "40",
         "19",
         "120",
         "1",
         "56"
        ],
        [
         "39",
         "19",
         "100",
         "1",
         "56"
        ],
        [
         "41",
         "20",
         "114",
         "1",
         "56"
        ],
        [
         "38",
         "19",
         "106",
         "1",
         "56"
        ],
        [
         "42",
         "19",
         "169",
         "1",
         "55"
        ],
        [
         "43",
         "19",
         "188",
         "1",
         "55"
        ],
        [
         "46",
         "20",
         "13",
         "1",
         "54"
        ],
        [
         "45",
         "20",
         "121",
         "1",
         "54"
        ],
        [
         "47",
         "20",
         "199",
         "3",
         "54"
        ],
        [
         "44",
         "20",
         "156",
         "1",
         "54"
        ],
        [
         "50",
         "19",
         "159",
         "1",
         "53"
        ],
        [
         "48",
         "19",
         "54",
         "1",
         "53"
        ]
       ],
       "shape": {
        "columns": 4,
        "rows": 3840
       }
      },
      "text/html": [
       "<div>\n",
       "<style scoped>\n",
       "    .dataframe tbody tr th:only-of-type {\n",
       "        vertical-align: middle;\n",
       "    }\n",
       "\n",
       "    .dataframe tbody tr th {\n",
       "        vertical-align: top;\n",
       "    }\n",
       "\n",
       "    .dataframe thead th {\n",
       "        text-align: right;\n",
       "    }\n",
       "</style>\n",
       "<table border=\"1\" class=\"dataframe\">\n",
       "  <thead>\n",
       "    <tr style=\"text-align: right;\">\n",
       "      <th></th>\n",
       "      <th>legislative_period</th>\n",
       "      <th>protocol_nr</th>\n",
       "      <th>agenda_item_number</th>\n",
       "      <th>count</th>\n",
       "    </tr>\n",
       "  </thead>\n",
       "  <tbody>\n",
       "    <tr>\n",
       "      <th>0</th>\n",
       "      <td>20</td>\n",
       "      <td>108</td>\n",
       "      <td>1</td>\n",
       "      <td>92</td>\n",
       "    </tr>\n",
       "    <tr>\n",
       "      <th>1</th>\n",
       "      <td>20</td>\n",
       "      <td>153</td>\n",
       "      <td>1</td>\n",
       "      <td>91</td>\n",
       "    </tr>\n",
       "    <tr>\n",
       "      <th>2</th>\n",
       "      <td>20</td>\n",
       "      <td>177</td>\n",
       "      <td>2</td>\n",
       "      <td>88</td>\n",
       "    </tr>\n",
       "    <tr>\n",
       "      <th>3</th>\n",
       "      <td>20</td>\n",
       "      <td>168</td>\n",
       "      <td>1</td>\n",
       "      <td>87</td>\n",
       "    </tr>\n",
       "    <tr>\n",
       "      <th>4</th>\n",
       "      <td>20</td>\n",
       "      <td>133</td>\n",
       "      <td>1</td>\n",
       "      <td>82</td>\n",
       "    </tr>\n",
       "    <tr>\n",
       "      <th>...</th>\n",
       "      <td>...</td>\n",
       "      <td>...</td>\n",
       "      <td>...</td>\n",
       "      <td>...</td>\n",
       "    </tr>\n",
       "    <tr>\n",
       "      <th>3771</th>\n",
       "      <td>19</td>\n",
       "      <td>115</td>\n",
       "      <td>25</td>\n",
       "      <td>1</td>\n",
       "    </tr>\n",
       "    <tr>\n",
       "      <th>3772</th>\n",
       "      <td>20</td>\n",
       "      <td>181</td>\n",
       "      <td>19</td>\n",
       "      <td>1</td>\n",
       "    </tr>\n",
       "    <tr>\n",
       "      <th>3773</th>\n",
       "      <td>19</td>\n",
       "      <td>107</td>\n",
       "      <td>32</td>\n",
       "      <td>1</td>\n",
       "    </tr>\n",
       "    <tr>\n",
       "      <th>3774</th>\n",
       "      <td>19</td>\n",
       "      <td>230</td>\n",
       "      <td>29</td>\n",
       "      <td>1</td>\n",
       "    </tr>\n",
       "    <tr>\n",
       "      <th>3775</th>\n",
       "      <td>19</td>\n",
       "      <td>230</td>\n",
       "      <td>31</td>\n",
       "      <td>1</td>\n",
       "    </tr>\n",
       "  </tbody>\n",
       "</table>\n",
       "<p>3840 rows × 4 columns</p>\n",
       "</div>"
      ],
      "text/plain": [
       "      legislative_period  protocol_nr  agenda_item_number  count\n",
       "0                     20          108                   1     92\n",
       "1                     20          153                   1     91\n",
       "2                     20          177                   2     88\n",
       "3                     20          168                   1     87\n",
       "4                     20          133                   1     82\n",
       "...                  ...          ...                 ...    ...\n",
       "3771                  19          115                  25      1\n",
       "3772                  20          181                  19      1\n",
       "3773                  19          107                  32      1\n",
       "3774                  19          230                  29      1\n",
       "3775                  19          230                  31      1\n",
       "\n",
       "[3840 rows x 4 columns]"
      ]
     },
     "execution_count": 15,
     "metadata": {},
     "output_type": "execute_result"
    }
   ],
   "source": [
    "# how many rows affected?\n",
    "data.value_counts(['legislative_period', 'protocol_nr', 'agenda_item_number']).reset_index(name='count').sort_values('count', ascending=False)\n"
   ]
  },
  {
   "cell_type": "code",
   "execution_count": 41,
   "id": "05a33083",
   "metadata": {},
   "outputs": [],
   "source": [
    "mask = ~data.set_index(['legislative_period', 'protocol_nr', 'agenda_item_number']).index.isin(\n",
    "    to_drop.set_index(['Legislature', 'Protocol_Nr', 'Order']).index\n",
    ")\n",
    "\n",
    "# Gefiltertes DataFrame\n",
    "data_cleaned = data[mask].reset_index(drop=True)"
   ]
  },
  {
   "cell_type": "code",
   "execution_count": 42,
   "id": "e0f2a644",
   "metadata": {},
   "outputs": [
    {
     "data": {
      "application/vnd.microsoft.datawrangler.viewer.v0+json": {
       "columns": [
        {
         "name": "index",
         "rawType": "int64",
         "type": "integer"
        },
        {
         "name": "speech_id",
         "rawType": "object",
         "type": "string"
        },
        {
         "name": "speaker_id",
         "rawType": "int64",
         "type": "integer"
        },
        {
         "name": "speech_text",
         "rawType": "object",
         "type": "string"
        },
        {
         "name": "legislative_period",
         "rawType": "int64",
         "type": "integer"
        },
        {
         "name": "protocol_nr",
         "rawType": "int64",
         "type": "integer"
        },
        {
         "name": "agenda_item_number",
         "rawType": "int64",
         "type": "integer"
        },
        {
         "name": "speakerId",
         "rawType": "int64",
         "type": "integer"
        },
        {
         "name": "firstName",
         "rawType": "object",
         "type": "string"
        },
        {
         "name": "lastName",
         "rawType": "object",
         "type": "string"
        },
        {
         "name": "party",
         "rawType": "object",
         "type": "unknown"
        },
        {
         "name": "fraction",
         "rawType": "object",
         "type": "unknown"
        }
       ],
       "ref": "c15bf5d6-bd97-459e-904e-95fd524444a6",
       "rows": [
        [
         "0",
         "901e2196-b575-4fea-5fd2-08da102a68d8",
         "11002190",
         "Herr Bundespräsident! Verehrte Kolleginnen und Kollegen!\n– Muss ich selber drücken?\nAller Anfang ist schwer; also fangen wir noch einmal von vorne an.\nHerr Bundespräsident! Liebe Kolleginnen und Kollegen! Meine sehr verehrten Damen und Herren! Ich habe zunächst zu danken. Ich danke Ihnen für das Vertrauen, das Sie mir mit der Wahl zum Bundestagspräsidenten entgegenbringen. Ich danke Hermann Otto Solms. Mit seiner langen parlamentarischen Erfahrung hat er die von mir übernommene Aufgabe, diesen 19. Deutschen Bundestag als dienstältester Abgeordneter zu eröffnen, mit großer Umsicht wahrgenommen. Und er hat die Herausforderungen für unser Parlament klar umrissen.\nIch möchte den vielen ausgeschiedenen Kolleginnen und Kollegen danken. Sie schauen zum Teil auf jahrzehntelanges parlamentarisches Wirken zurück. Ich nenne stellvertretend Heinz Riesenhuber. Er war gleich zweimal Alterspräsident, bei den konstituierenden Sitzungen der beiden zurückliegenden Legislaturperioden. Ich danke aus dem Präsidium des 18. Deutschen Bundestages den ausgeschiedenen Vizepräsidenten Edelgard Bulmahn und Johannes Singhammer. Ich danke natürlich auch den beiden Vizepräsidentinnen, die dem nächsten Präsidium vermutlich nicht angehören werden. Damit nehme ich jetzt die Wahl vorweg; das ist ein bisschen schwierig.\nVor allen Dingen aber, meine sehr verehrten Damen und Herren, möchte ich Norbert Lammert danken. Er war zwölf Jahre ein großartiger Bundestagspräsident.\nLieber Herr Lammert, Sie hatten eine ganz besondere Begabung als Redner, und Sie hatten immer klare Vorstellungen davon, was dieses Parlament leisten soll und was es leisten kann, wenn es denn will.\nLiebe Kolleginnen und Kollegen, ich freue mich auf die neue Aufgabe. Im Parlament schlägt das Herz unserer Demokratie. Ich freue mich auf die Zusammenarbeit mit Ihnen, liebe Kolleginnen und Kollegen, wie mit allen Mitarbeiterinnen und Mitarbeitern, die diesem Haus dienen.\nIch bin Parlamentarier aus Leidenschaft. Ich habe meine Abgeordnetentätigkeit immer als hohe Verantwortung und das Mandat als meine demokratische Legitimation verstanden. Ich habe im Übrigen im Deutschen Bundestag beides erlebt: Abgeordneter zu sein in der Opposition wie in einer Regierungsfraktion.\nZunächst war ich zehn Jahre in der Opposition. Als ich 1972 zum ersten Mal als Abgeordneter im Deutschen Bundestag saß, wurde um die Ostverträge gestritten – mit leidenschaftlichen Debatten, damals in Bonn. Die Stimmung war aufgeladen. Überhaupt prägte seinerzeit eine extrem spannungsvolle Atmosphäre dieses Land. Die Gesellschaft der Bundesrepublik hatte sich seit Mitte der 60er-Jahre in einem bis dahin nicht gekannten Maße politisiert, mobilisiert und polarisiert. Geschadet hat es nicht, genauso wenig wie die Erregung Anfang der 80er-Jahre. Da war ich Abgeordneter in der großen Regierungsfraktion, als es etwa um den NATO-Doppelbeschluss ging. Sieben Jahre später fiel dann die Mauer. Veränderung war also immer, und vieles wird im Übrigen in der Rückschau anders bewertet als mitten im Streit. Auch deshalb, also weil ich aus eigenem Erleben weiß, dass Erregung und Krisengefühle so neu nicht wirklich sind, sehe ich mit Gelassenheit den Auseinandersetzungen entgegen, die wir in den kommenden Jahren führen werden und die wir im Parlament zu führen haben, stellvertretend für die Gesellschaft, aus der heraus wir gewählt sind. Denn diese Gesellschaft müssen wir nicht nur in ihrem Grundkonsens, sondern auch in ihrer Vielheit und Verschiedenheit repräsentieren. Wir dürfen das eine nicht gegen das andere ausspielen.\nIn einem demokratischen Gemeinwesen ist kein Thema es wert, über den Streit das Gemeinsame in Vergessenheit geraten zu lassen. 289 Abgeordnete ziehen heute erstmals ins Parlament ein – das sind gut 40 Prozent aller Mitglieder dieses Hauses. Selten unterschied sich ein Bundestag so sehr von seinem Vorgänger wie dieser. Sieben Parteien und sechs Fraktionen – so viele gab es seit 60 Jahren nicht mehr.\nDiese neue Konstellation hier im Haus spiegelt die Veränderungen wider, die unsere Gesellschaft erlebt: Verunsicherungen wachsen angesichts des raschen Wandels durch Globalisierung und Digitalisierung. Zusammenhänge lösen sich auf, Zugehörigkeiten brechen auf und neue entstehen. Alte Gewissheiten und Identitäten werden infrage gestellt, und neue, vermeintliche Gewissheiten werden in Stellung gebracht gegen zunehmende Sorgen und Zweifel.\nDas menschliche Bedürfnis nach Geborgenheit in vertrauten Lebensräumen trifft auf eine zunehmend als ungemütlich empfundene Welt voller Konflikte, Krisen, Kriege und medial präsentem Schrecken. Vor diesem Hintergrund verschärft sich die Tonlage der gesellschaftlichen Debatten. All das können wir übrigens vielerorts in Europa beobachten.\nMit dem ungeheuer schnellen gesellschaftlichen Wandel, den wir erleben, geht eine Fragmentierung unserer Debatten und Aufmerksamkeiten einher. Das stellt die politische Ordnung, die demokratischen Institutionen und Verfahren vor große Herausforderungen. Jedem erscheint etwas anderes wichtig. Jeder scheint gelegentlich nur noch seine eigenen Probleme wahrzunehmen. Es gibt nicht mehr das eine Thema.\nDas Überhandnehmen von Möglichkeiten und Optionen kann auch überfordern. Über dieses „Unbehagen im Kapitalismus“ hat Uwe Jean Heuser schon 2000 geschrieben. Wie alles ist auch Freiheit durch Übermaß gefährdet. Deswegen müssen wir immer wieder die richtige Balance auch im Umgang mit Freiheit lernen.\nHinzu kommt der Wandel der Medien und ihrer Nutzung durch die Veränderungen in der Informationstechnologie. Die Zersplitterung in viele Teilöffentlichkeiten führt dazu, dass uns eine erkennbar gemeinsame Sicht auf politische Prioritäten verloren geht. Da kann dieses Parlament ein Ort der Bündelung, der Fokussierung, der Konzentration auf die wichtigen Fragen unserer gesellschaftlichen Zukunft in Deutschland wie in Europa sein.\nWir Abgeordnete, liebe Kolleginnen und Kollegen, sind für die Mitbürger im Wahlkreis manchmal fast eine Art Ombudsmann. Mit unserer Arbeit und unseren Begegnungen vor Ort vermitteln wir diese Wirklichkeit auf die Ebene der Bundespolitik. Unsere Vielzahl an Erfahrungen und Qualifikationen aus beruflicher, sozialer, ehrenamtlicher Tätigkeit bildet eine ganze Menge Expertise. Vielleicht wissen und fühlen wir Abgeordnete durch unsere Verwurzelung bei den Menschen manchmal besser als die Forschungsinstitute, was die Menschen wirklich bewegt.\nZugleich sind wir alle, wie Artikel 38 unseres Grundgesetzes sagt, Abgeordnete des ganzen Volkes. Dazu müssen wir diese Vielzahl von Interessen, Meinungen, Befindlichkeiten mit den Begrenztheiten und der Endlichkeit der Realität zusammenbringen, und das zwingt zu Kompromissen und zu Entscheidungen durch Mehrheit. Je besser das gelingt, umso weniger fühlen sich Menschen in der demokratischen Wirklichkeit zurückgelassen.\nImmanuel Kant, dem wir viele Gedanken von Rechtsstaat und Republik verdanken, hat gesagt – ich drücke es halb mit meinen Worten aus –: Handle stets so, dass das Prinzip Deiner Handlung immer auch das Prinzip der Handlungen aller anderen sein könnte, dass es immer auch allgemeines Gesetz sein könnte. – Also: Handle so, dass menschliches Miteinander nicht zusammenbräche, wenn alle so handelten wie Du selbst.\nDas, verehrte Kolleginnen und Kollegen, gilt gerade auch für Parlamentsabgeordnete, und das ist eine gute Maxime für unser repräsentatives System.\nAuch die Vertretung partikularer Interessen darf, wie alles, nicht exzessiv werden. Andere Demokratien in der Welt sind da übrigens schon weit auf die abschüssige Bahn geraten.\nWas aber sehr wohl sein darf und sein muss, ist, dass der parlamentarische Prozess hier im Hause sichtbar macht, wie schwierig sowohl die Durchsetzung als auch der Ausgleich von Interessen in einer liberalen Demokratie sind. Da darf Streit nicht nur sein; das geht nur über Streit. Den müssen wir führen, und den müssen wir aushalten, ertragen. Demokratischer Streit ist notwendig, aber es ist ein Streit nach Regeln, und es ist mit der Bereitschaft verbunden, die demokratischen Verfahren zu achten und die dann und so zustandegekommenen Mehrheitsentscheidungen nicht als illegitim oder verräterisch oder sonst wie zu denunzieren,\nsondern die Beschlüsse der Mehrheit zu akzeptieren. Das ist parlamentarische Kultur.\nUnd da kommt es dann auch auf den Stil an, in dem wir uns hier streiten und in dem wir füreinander Respekt signalisieren können.\nEs gab in den vergangenen Monaten in unserem Land Töne der Verächtlichmachung und Erniedrigung. Ich finde, das hat keinen Platz in einem zivilisierten Miteinander.\nDie überwältigende Mehrheit der Bürgerinnen und Bürger in diesem Land will ein zivilisiertes Miteinander. In aufgewühlten Zeiten wie unseren wächst das Bedürfnis nach Formen des Verhaltens, über die man lange nicht mehr geredet hat, weil man sie als selbstverständlich ansah. Es wird wieder über Anstand gesprochen – sogar Bücher werden darüber geschrieben und kommen auf die Bestsellerlisten –, und es wird auch über die Frage gesprochen, wie wir in der Gesellschaft miteinander umgehen sollen: Respekt füreinander haben, nicht jeden persönlichen Spielraum maximal ausnutzen, ein offenes Ohr haben für die Argumente des anderen, ihn anerkennen mit seiner anderen Meinung.\nEs geht um Fairness. Hundertprozentige Gerechtigkeit gibt es nicht, aber Fairness ist möglich in dem Sinne, dass sich möglichst alle angesprochen fühlen und nicht ausgeschlossen bleiben.\nDie Art, wie wir hier miteinander reden, kann vorbildlich sein für die gesellschaftliche Debatte. Prügeln sollten wir uns hier nicht, wie es ja zum Teil auch in Europa in anderen Parlamenten bisweilen geschieht.\nWir sollten das übrigens auch nicht verbal tun. Wir können vielmehr zeigen, dass man sich streiten kann, ohne dass es unanständig wird. Dazu müssen wir zeigen, dass auch ein Bundestag mit sechs Fraktionen schafft, wozu er da ist: Entscheidungen herbeizuführen, die als legitim empfunden werden.\nDas Parlament besteht aus Abgeordneten, und diese Abgeordneten sind nicht „abgehoben“, wie so gern oberflächlich dahingeredet wird. Wir sind aus der Mitte der Bürgerinnen und Bürger gewählt.\nAber niemand vertritt alleine das Volk. So etwas wie Volkswille entsteht überhaupt erst in und mit unseren parlamentarischen Entscheidungen.\nDeswegen haben wir die Pflicht, diesen Ort wertzuhalten, als Ort des nachvollziehbaren sachlichen wie auch emotionalen Streits – ja, auch Gefühle gehören dazu –, stellvertretend für die Mitbürgerinnen und Mitbürger die Dinge, die alle angehen, argumentativ gegeneinander oder miteinander auszumachen und dann mit Mehrheit zu entscheiden.\nWir müssen das Vertrauen in das repräsentative Prinzip wieder stärken. Das ist übrigens keine nur nationale Frage. Die europäischen oder westlichen Werte, die Grundlage unserer verfassungsmäßigen Ordnung sind, wirken vielerorts fragil und erfreuen sich doch zugleich weltweit großer Attraktivität. Freiheit, Rechtsstaatlichkeit, sozialer Zusammenhalt, ökologische Nachhaltigkeit: Ohne Parlamentarismus geht all das nicht.\nNach ernsthaftem Streit der Meinungen stellvertretend für alle Bürgerinnen und Bürger Entscheidungen zu treffen: Die befriedende Wirkung, die das hat, wenn es gelingt, brauchen wir überall in der Welt – in einer Welt, wo ja überall immer mehr Menschen nicht nur Anspruch auf wirtschaftliche Teilhabe, sondern auch auf politische Mitsprache erheben.\nIn Zeiten zunehmender Globalisierung heißt das auch, die Kompliziertheit unserer Welt auszuhalten. Aber wir haben zugleich auch die Chance, der Welt, die sich uns nähert, zu zeigen, dass der Parlamentarismus etwas taugt, dass er funktioniert und dass er zu Lösungen für die Probleme und Herausforderungen fähig ist.\nNorbert Lammert hat immer sehr elegant die Tage, an denen er sprach, danach befragt, was an ihnen in vergangenen Jahren und Jahrhunderten geschah und an was uns das erinnern sollte. Ich will das heute noch einmal im Sinne einer kleinen Hommage tun. Um es chronologisch rückwärts zu machen: Dieser 24. Oktober ist der Tag der Vereinten Nationen. 1945 trat am 24. Oktober die Charta der Vereinten Nationen in Kraft. Am 24. Oktober 1929 endete am Schwarzen Donnerstag die jahrelange Hausse der New Yorker Börse, und es begann die Weltwirtschaftskrise mit all ihren Folgen.\nUnd am 24. Oktober 1648 wurde der Westfälische Frieden zur Beendigung des Dreißigjährigen Krieges unterzeichnet, eines Krieges, an dessen Beginn wir uns kommendes Jahr erinnern. Herfried Münkler hat ihm gerade ein Opus Magnum gewidmet, in dem er zeigt, dass dieser bis heute längste Krieg auf deutschem Boden – zugleich übrigens der erste im vollen Sinne europäische Krieg – uns besser als alle späteren Konflikte die Kriege unserer Gegenwart verstehen lässt. Wer es nicht glaubt, der lese noch einmal im „Simplicissimus“ von ­Grimmelshausen nach. Er ist übrigens in meinem Wahlkreis geschrieben worden.\nAll das, liebe Kolleginnen und Kollegen, erinnert uns an den Charakter der Aufgaben, die vor uns liegen. Es erinnert uns daran, dass wir die Entscheidungen, die wir hier treffen, in weltpolitische Zusammenhänge einzubetten haben.\nEuropa und die Globalisierung: Das ist heute der Rahmen für das, was wir hier debattieren und entscheiden. Das hat nichts mit einem Aufgeben nationaler Selbstbestimmung zu tun, schon gar nichts mit einem Aufgeben des Anspruchs, dass dies hier der Ort ist, an dem immer wieder neu die Souveränität des deutschen Volkes greifbar und wirklich wird. Vielmehr beschreibt es die Aufgabe, der wir gerecht werden müssen, den Weg einer selbstbewussten Einordnung in immer weitere Zusammenhänge zu finden, mit dem Ziel, dazu beizutragen, in dieser Welt unsere Zukunft gestalten zu können.\nDass wir uns in solcher Öffnung zur Welt und Einordnung noch selbst erkennen, dass wir bleiben, was wir irgendwie fühlen, das wir sind – im Guten, wie zum Beispiel unserer parlamentarischen Ordnung, wie im Schlechten, das wir als nationale Schicksalsgemeinschaft nicht werden abstreifen können und aus dem wir doch immer wieder neues Gutes zu entwickeln uns bemühen –, dass wir all das bleiben, ohne uns abzuschotten oder uns bequem rauszuhalten, darum, liebe Kolleginnen und Kollegen, geht es.\nIn der Präambel unseres Grundgesetzes von 1949, die wir 1990 im wiedervereinten Deutschland fortgeschrieben haben, heißt es:\n… von dem Willen beseelt, als gleichberechtigtes Glied in einem vereinten Europa dem Frieden der Welt zu dienen, hat sich das Deutsche Volk kraft seiner verfassungsgebenden Gewalt dieses Grundgesetz gegeben.\nDies hier, liebe Kolleginnen und Kollegen, ist der Ort, an dem wir diesem Willen Gestalt geben.\nDafür hat uns eine wieder gewachsene Zahl von Bürgerinnen und Bürgern gewählt. Der Trend zur höheren Wahlbeteiligung bei den letzten Landtagswahlen hat sich auch im Bund fortgesetzt. Ich denke, das zeigt, dass Erwartungen gestiegen sind. Wenn wir diese Erwartungen einigermaßen erfüllen, können wir unserem Land einen großen Dienst erweisen. Steigende Erwartungen sind also eine Chance, auch wenn es zur Wahrheit gehört, dass in dieser Welt immer neuer Akteure und immer dichterer Verflechtungen die Realität komplizierter wird und unsere Handlungsspielräume nicht immer nur wachsen. Zwischen beidem müssen wir als Parlament unseren Weg finden.\nIch freue mich auf unsere Arbeit hier in den kommenden vier Jahren.\n",
         "19",
         "1",
         "4",
         "11002190",
         "Alterspräsident Dr. Hermann",
         "Otto Solms",
         "FDP",
         null
        ],
        [
         "1",
         "a914bfea-8684-4446-0640-08da0f05b642",
         "11002738",
         "Herr Präsident! Kolleginnen und Kollegen! Die Bankenunion ist einer von drei Bausteinen, die dem Euro-System mehr Stabilität geben sollen. Wie wichtig mehr Stabilität ist, haben die Erfahrungen mit der Euro-Schuldenkrise gezeigt. Diese ist vom Deutschen Bundestag und mit einem großen Gemeinschaftsgeist in Deutschland erfolgreich bewältigt worden. Wir haben die Einlagen der Sparer gerettet, wir haben die richtigen Regulierungen getroffen und haben in fraktionsübergreifender Gemeinschaft im Deutschen Bundestag rund um die Uhr Schlimmeres verhindert. Das ist die Tatsache, meine Damen und Herren.\nFazit ist: Stabilität erreicht man nur, wenn die Maßnahmen richtig und sachbezogen ausgestaltet werden. Dabei steht aus Sicht der Union ein Grundsatz ganz oben: Risiko und Haftung dürfen nicht voneinander getrennt werden. Dieses Prinzip, dieser Grundsatz muss zum Maßstab genommen werden.\nDas muss gerade auch für die Bankenunion gelten.\nVor allem aber müssen die Risiken abgebaut werden, bevor eine Vollendung der Bankenunion tatsächlich verantwortet werden kann. Risiken, meine Damen und Herren, gibt es leider noch zuhauf. Das ist natürlich auch wahr. Da ist zum einen die anhaltend hohe Verschuldung einer ganzen Reihe von Mitgliedstaaten. Da gibt es zum anderen faule Kredite in erheblichem Umfang in den Bankenbilanzen. Deshalb darf die europäische Bankenunion kein Transferinstrument werden, und, meine Damen und Herren, die CDU/CSU plant dies auch nicht. Das möchte ich noch einmal klar und deutlich hervorheben.\nEs ist klar: Der Steuerzahler und die Sparer müssen geschützt werden. Und Voraussetzung bleibt: Stabilität erreicht man nicht durch eine bloße Vergemeinschaftung von Schulden. Deshalb ist klar: Vor der Installierung einer europäischen Bankenunion müssen faule Kredite abgebaut werden. Hierzu gibt es eine Benchmark: Anteil der faulen Kredite in den USA 2 Prozent, in Deutschland 2,5 Prozent. Das ist etwas schlechter, aber es gibt auch Länder, bei denen der Anteil der faulen Kredite bei 15, 20 oder gar 50 Prozent liegt. Da muss gehandelt werden. Darauf müssen wir hinwirken. Das werden wir auch tun, indem wir in der Gemeinschaft dafür sorgen, dass das Stabilitätsbewusstsein stärker verankert wird.\nDazu gehört natürlich auch, dass wir Staatsanleihen risikoadäquat behandeln; denn Staatsanleihen sind eben nicht risikofrei. Wir mussten immer wieder lernen, dass die Aufkäufe angeblich risikofreier Staatsanleihen oder deren Finanzierung schon ein Risiko bedeuten.\nWir haben es für den richtigen Weg gehalten, die Finanzierung von Staatsanleihen in Zukunft mit Eigenkapital zu unterlegen. Wir haben es hier sicher mit einer komplexen Frage zu tun. Deshalb: Ehrgeizige Zeitpläne sind gut, aber Sorgfalt muss natürlich auch hier vor Schnelligkeit gehen.\nMeine Damen und Herren, wir müssen alles dafür tun, dass zunächst einmal bei den Banken gehandelt wird. Eine Eigenkapitalquote von 8 Prozent der Bilanzsumme als Sicherheit ist sicher ein richtiger Weg, um Stabilität in den Banken zu erreichen, um Vertrauen bei den Finanzmarktkunden zu schaffen. Das ist unabdingbar; denn die Eigentümer, Gläubiger und die nationale Einlagensicherung sind vor Ort gefragt, wenn die Banken in irgendeine Schieflage kommen, nicht eine Vergemeinschaftung.\nWir sind richtig beraten, eine Bankenunion mit Augenmaß mit den großen Aufgaben der Regulierung zu verbinden. Wir werden darauf achten, dass die Sparer, die Finanzmarktkunden in Deutschland nicht in Haftung genommen werden. Die Steuerzahler dürfen nicht in Haftung genommen werden. Das ist die Voraussetzung für eine Bankenunion auf europäischer Ebene.\nHerzlichen Dank.\n",
         "19",
         "10",
         "3",
         "11002738",
         "Hans",
         "Michelbach",
         "CSU",
         "CDU/CSU"
        ],
        [
         "2",
         "02a4928b-8f4e-45d8-5f3e-08da102a68d8",
         "11003422",
         "Sehr geehrter Herr Präsident! Liebe Kolleginnen! Liebe Kollegen! Liebe Gäste auf der Tribüne! Ich finde es schön von der FDP, dass man der neuen Vorsitzenden des Finanzausschusses gleich die Möglichkeit gibt, eine Rede zu halten. Man hat überlegt: Wie schafft man das am besten? Man macht eine Aktuelle Stunde. – Es hätte heute viele Themen für eine Aktuelle Stunde gegeben. Man hätte beispielsweise über den Stand der Sondierungen zum Thema „Steuern und Finanzen“ reden können.\nMan hätte über die Boni der Deutschen Bank reden können. Man hätte über das Fehlen von Grundschullehrern und die finanziellen Auswirkungen auf die Haushalte reden können. Man hätte über die Hausdurchsuchungen des Zolls reden können.\nSogar über die Sturm- und Hochwasserschäden der letzten Wochen hätten wir reden können. Wir hätten auch über die aktuelle Besetzung des Finanzausschusses reden können. Aber ich habe mir wirklich die Frage gestellt: Was ist an dem Thema der von Ihnen beantragten Aktuellen Stunde „Positionierung der Bundesregierung zu einer europäischen Bankenunion“ aktuell? Es ist deswegen nicht aktuell, weil wir eine geschäftsführende Bundesregierung haben, die alles das umsetzt, was wir in der Vergangenheit beschlossen haben. Ich habe heute bei den Nachrichtenagenturen und in Tickerberichten nachgesehen, aber ich habe nichts Aktuelles gefunden, und es kam ja auch nichts Aktuelles.\nEs gibt also in dieser Woche nichts richtig Aktuelles. Sie sind länger nicht hier gewesen, aber Aktuelle Stunden beinhalten in der Regel aktuelle Themen.\n– Nein, das ist nicht peinlich.\nIch will etwas zur Bankenunion sagen.\n– Das hätten Sie auch beantragen können, haben Sie aber nicht.\nDeswegen rede ich jetzt zu Ihrem Antrag.\nDie EZB hat, so wie wir alle es mitbeschlossen haben, im November 2014 die Verantwortung für den Einheitlichen Europäischen Bankenaufsichtsmechanismus übernommen; das wissen wir alle. Das ist, wie gesagt, schon mehrere Jahre her. Seitdem ist sie für signifikante Banken zuständig. Das sind Banken, deren Bilanzsumme mindestens 30 Milliarden Euro oder 20 Prozent des BIP des Mitgliedstaates umfasst und die zu den drei größten Banken des jeweiligen Mitgliedstaats gehören. Nicht signifikante Banken werden weiterhin von nationalen Aufsichtsbehörden überwacht.\nWir haben einen Einheitlichen Abwicklungsmechanismus. Das heißt, diese eben von mir angesprochenen Banken und große, grenzüberschreitende Banken werden jetzt auf europäischer Ebene einheitlich abgewickelt.\nRisiko und Haftung haben bei uns von Anfang an zusammengehört. Wir haben von Anfang an gesagt: Wir müssen das zusammen betrachten. Was haben wir für Banken vor uns, welche Risiken gehen sie ein, und wie müssen sie abgewickelt werden? – Bis zum 31. Dezember 2023 soll ein gemeinsamer Abwicklungsfonds eingerichtet werden, der mit 55 Milliarden Euro ausgestattet wird. Vorrangig werden Anteilseigner und Gläubiger herangezogen – das sogenannte Bail-in –, dann erst der Staat. Es gibt also keine Gemeinschaftshaftung der teilnehmenden Mitgliedstaaten durch den Fonds. Das war uns allen sehr wichtig. Auch in den Sondierungspapieren, über die Sie ja heute nicht reden wollten, steht das drin. Wir haben mit der CDU/CSU noch einmal aufgeschrieben, dass wir Haftung und Risiko nicht auseinanderfallen lassen wollen.\nGerade laufen die Koalitionsverhandlungen zum Thema „Finanzen und Steuern“. Ich kann Ihnen nicht sagen, was dort gerade neu verhandelt wird; aber das können wir zu gegebener Zeit hier weiter diskutieren.\nDer geschäftsführende Finanzminister Altmaier hat Schwachstellen in der europäischen Währungsunion angesprochen. Er hat auch darauf hingewiesen – Kollegin Tillmann hat es angesprochen –, dass auf dem EU-Gipfel im Juni wichtige Entscheidungen für die Architektur der Euro-Zone gefällt werden müssen.\nWir haben auch die Bedenken von Sparkassen und Volksbanken immer sehr ernst genommen. Dass sie ein eigenes Absicherungssystem haben und am liebsten überhaupt nicht in irgendeiner anderen Form in Anspruch genommen werden wollen, haben wir immer berücksichtigen wollen, und wir haben auch versucht, das nach Brüssel zu tragen. Dazu gibt es Anträge und Resolutionen; da haben wir in den letzten vier Jahren eine ganze Menge gemacht. Trotzdem brauchen wir eine Risikoabsicherung. Wir brauchen auch einen einheitlichen Mechanismus.\nWir wollen alle zusammen in Europa weiter vorankommen. Dafür ist es wichtig, dass wir eine gute Zusammenarbeit im Euro-Raum haben.\nSie können sicher sein: Der nächste Finanzminister oder die nächste Finanzministerin wird diese erfolgreiche Politik fortführen.\nIch freue mich darauf.\nFreuen würde ich mich auch, wenn Sie nächstes Mal eine etwas aktuellere Thematik für Ihre Aktuelle Stunde aussuchen würden.\nVielen Dank für Ihre Aufmerksamkeit.\n",
         "19",
         "10",
         "3",
         "11003422",
         "Ingrid",
         "Arndt-Brauer",
         "SPD",
         "SPD"
        ],
        [
         "3",
         "ef59b72f-b33d-43da-5de1-08da0f22a008",
         "11003646",
         "Herr Präsident! Liebe Kolleginnen und Kollegen! Sehr geehrte Frau Kollegin Stark-Watzinger, es ist keineswegs so, dass das Thema Bankenunion bisher hinter verschlossenen Türen diskutiert worden wäre. Auch ohne die FDP hat es dieser Deutsche Bundestag in der letzten Legislaturperiode geschafft, sich in zwei Beschlüssen mit der Einlagensicherung zu befassen. Ich empfehle Ihnen die Beschlüsse vom 4. November 2015 und vom 23. Februar 2016. Da haben wir intensiv darüber diskutiert und uns natürlich auch mit den Problemen der Bankenunion beschäftigt.\nDas werden wir auch weiterhin tun.\nIm Gegensatz zu Ihnen mit Ihrer sehr kritischen Rede sind wir aber fest davon überzeugt: Wir brauchen Europa, wir wollen Europa. Wir waren in Europa auch schon auf einem sehr guten Weg zur Regulierung der Finanzmarktkrise.\n– Wenn Sie kurz zuhören, will ich Ihnen gerne sagen, was wir schon alles an Positivem erreicht haben.\nWir haben mit dem Stresstest begonnen.\nÜber 130 Banken sind von der EZB geprüft worden. 25 Banken haben eine Kapitalunterdeckung aufgewiesen. Diese 25 Banken haben Kapital herangeschafft, sodass es zu einer Risikominderung gekommen ist.\nWir haben eine europäische Aufsicht. Diese Aufsicht funktioniert immer besser und so gut, dass wir darüber nachdenken, ob man über eine Small Banking Box diese Regulierung bei kleineren Banken erleichtern könnte.\nDen Bankenabwicklungsmechanismus haben Sie beschrieben. Wir haben die Regelung, dass Steuerzahler in Europa nur noch in Ausnahmefällen für Abwicklungsbanken bezahlen müssen. Das haben wir über einen Mechanismus sichergestellt, den Bail-in, wonach Eigentümer und Anteilseigner vorrangig haften. Wir haben einen Abwicklungsfonds mit bis zu 55 Milliarden Euro installiert, der schon zu einem Drittel angespart wurde. Auch da haben wir Sicherheit in die Finanzmärkte gebracht.\nWir haben die Einleger über eine Einlagensicherung geschützt. Alle Banken Europas müssen einem nationalen Einlagensicherungssystem angehören. Das ist ein Riesenschritt in die richtige Richtung. Einlegern können bis zu 100 000 Euro grenzüberschreitend ausgezahlt werden, in Sondersituationen sogar bis 500 000 Euro. Das ist ein guter Schritt in Europa. Ich finde, es gehört zu einer ehrlichen Debatte, zu sagen, dass wir massive Fortschritte für Einleger erreicht haben.\nNatürlich weiß ich, dass es noch eine Menge zu tun gibt. Sie haben zu Recht darauf hingewiesen, dass der Ecofin-Rat am 17. Juni 2016 genau das gesagt hat. Wir haben die ersten Schritte gemacht; ihnen müssen weitere folgen. Der wichtigste nächste Schritt ist die Risikoreduzierung, der Abbau notleidender Kredite. Eine Quote von durchschnittlich 4,6 Prozent an Non-Performing Loans in Europa ist zu viel; einige Staaten weisen sogar eine Quote von 46 Prozent auf. Wir brauchen europäische Benchmarks, mit denen die durchschnittliche Quote der Non-Performing Loans in Europa reduziert wird.\nWir müssen auch das Insolvenzrecht harmonisieren. Wir brauchen europäische Vorgaben, wie bei faulen Krediten in Sicherheiten vollstreckt werden kann. In manchen Staaten geht das recht zügig; andere Staaten brauchen Jahre, bis in die Sicherheiten vollstreckt werden kann.\nWir merken, dass der Bail-in-Puffer in Europa schon wieder infrage gestellt wird. Wir werden aber darauf bestehen; darin sind wir uns mit unserem ehemaligen Finanzminister Schäuble und unserem jetzigen Finanzminister Altmaier einig. Unser Staatssekretär kämpft auf allen Ebenen in Europa dafür, dass die von uns eingeführte Grenze nicht wieder infrage gestellt wird.\nIch erwähne die latenten Steuern; das haben Sie noch gar nicht genannt. Natürlich dürfen Nationalstaaten über die Behandlung von latenten Steuern nicht weitere Risiken in die Bankbilanzen schieben.\nBei Staatsanleihen geht es um dasselbe Thema. Wir müssen uns über die Risikogewichtung von Staatsanleihen unterhalten und dabei aber auch im Blick behalten, dass die Staaten, die dank des Rettungsschirms wieder gut dastehen, nicht zusätzliche Probleme bekommen.\nIch teile Ihre Auffassung, dass es noch viel zu tun gibt. Ich teile nicht Ihre Auffassung, dass wir uns bisher nicht erfolgreich auf den Weg gemacht haben. Ich glaube, es macht keinen Sinn, alles schlechtzureden und die schlechten Seiten in den Vordergrund zu stellen. Es macht vielmehr Sinn, unserem künftigen Finanzminister gemeinsam mit auf den Weg zu geben, was wir wollen. Wir wollen zuerst eine Risikoreduktion, danach kann der zweite Schritt erfolgen. Das werden wir schaffen, das werden wir tun, und zwar öffentlich, wie immer in diesem Haus. Vielleicht gucken Sie einmal in die Anträge. Wir sollten sie dem neuen Finanzminister für seine Diskussionen auf europäischer Ebene mit auf den Weg geben. Aber ich bleibe dabei: Europa ist wichtig für Deutschland. Wir wollen eine europäische Harmonisierung.\nDafür kämpfen wir mit aller Macht.\nDanke schön.\n",
         "19",
         "10",
         "3",
         "11003646",
         "Antje",
         "Tillmann",
         "CDU",
         "CDU/CSU"
        ],
        [
         "4",
         "8dd9b261-a22c-431b-279d-08da0d9e2391",
         "11003837",
         "Herr Präsident! Liebe Kolleginnen und Kollegen! Ich will jetzt gar nicht auf das eingehen, was Sie, Kollege Weyel, gesagt haben. Ich glaube, es war deutlich, dass sich selbst große Teile Ihrer eigenen Fraktion für das geschämt haben, was Sie hier dargeboten haben.\nIch würde auch sagen, Frau Arndt-Brauer: Es ist durchaus ein aktuelles Thema, das man diskutieren kann. Es ist zwar der Vorwurf falsch, dass wir nicht darüber geredet haben – so wird ja gesagt, bloß weil die FDP nicht dabei war –, aber es ist in der Tat ein Thema, das in Europa auf der Tagesordnung ist und womit sich der Deutsche Bundestag beschäftigen sollte.\nWas in dieser Debatte problematisch ist, ist der Eindruck, den Sie, Frau Stark-Watzinger, in Ihrer Rede erweckt haben, dass nämlich diese faulen Kredite in Höhe von 950 Milliarden Euro in Europa jetzt vergemeinschaftet werden sollen. Darum geht es nicht. Niemand will das. Sie deuten das an, um die Leute vor Angst auf die Palme zu treiben. Dabei geht es doch darum, die Risiken zu reduzieren und Europa stabil zu machen. Das sollte man nicht in so eine Ecke stellen.\nSie landen nämlich sonst da, wo die britischen Tories gelandet sind. Inzwischen sagen die Studien aus dem Brexit-freundlichen Haus von Theresa May: Egal wie verhandelt wird, es wird ökonomisch schlechter sein für Großbritannien. – Wer in Europa nicht mitmachen will, wird schlechter dastehen. So wird es auch uns gehen, wenn wir bei dieser Frage nur Nein sagen. Das ist keine Lösung.\nSie vermitteln den Eindruck, als hätten wir immer noch nationale Bankenmärkte und als hätten wir mit den Banken in anderen Ländern überhaupt nichts zu tun. Wenn es so wäre, dann könnte man sagen: Jedem sein Einlagensicherungstöpfchen! – Aber die Welt ist schon lange nicht mehr so. Es gibt einen Finanzbinnenmarkt. Da gibt es spanische Banken, die in Deutschland Business machen. Da gibt es italienische und französische Banken. Zu meinen, dass wir in Deutschland dann, wenn es woanders ein Problem mit der Einlagensicherung gibt, nicht massiv darunter zu leiden hätten, ist einfach ökonomisch völliger Humbug.\nDeswegen brauchen wir eine Stabilisierung in Europa. Das ist eine notwendige Ergänzung.\nUm was geht es? Es geht darum, dass man für den Fall, dass der Einlagensicherungstopf eines anderen Mitgliedstaates bei einer Krise nicht ausreicht, eine Lösung hat. Jetzt schlägt die Kommission einen Weg vor – bis zu einer gemeinsamen Einlagensicherung. Da muss man einfach einmal zur Kenntnis nehmen, dass die USA mit genau einer solchen Regelung ein hervorragendes Beispiel dafür haben, dass der Steuerzahler geschützt wird. Darüber, dass das dem Schutz der Steuerzahler dient und dass es nicht darum geht, ihn zur Kasse zu bitten, haben Sie kein Wort verloren.\nSie sagen: Da gibt es so viele Probleme in anderen Ländern. – Ja bitte! Schauen Sie sich doch die Zahlen an! Unsere Banken waren keinen Deut besser. Man weiß nicht, wer bei der nächsten Krise von dem gemeinsamen System profitieren würde. Vielleicht wäre es Deutschland. Unsere Banken waren in der letzten Krise nicht stabiler als die anderen. Vielleicht sind sie es auch in der nächsten Krise nicht. Nicht so eine deutsche Hybris! Das hat in Europa keinen guten Klang.\nWas wir Grünen vorschlagen, ist, dass wir jetzt nicht einen gemeinsamen Topf schaffen, aber ein Rückversicherungssystem. Wir wissen doch, wie Versicherungen funktionieren. Ich muss doch nicht mit allen Mitgliedern der Versicherung, bei der ich Kunde bin, befreundet sein. Darunter sind viele, die ganz dumme Sachen machen. Aber die Versicherung ist für mich gut, um mich vor einem Schaden zu schützen. So würde ein Rückversicherungssystem zwischen den Einlagensystemen in Europa auch und gerade unser deutsches System stabiler machen. Deswegen sollten wir uns dem nicht verweigern, sondern daran konstruktiv mitarbeiten.\nIn diesem Zusammenhang und nur in diesem Zusammenhang werden wir es auch schaffen, das hinzubekommen, worüber wir uns scheinbar einig sind, nämlich eine wirkliche Risikoreduzierung. Da muss noch einiges gemacht werden. Das muss man jetzt gemeinsam mit den europäischen Partnern auf den Weg bringen.\nSo muss man bei dem Punkt, dass Banken viele Staatsanleihen eines Staates in ihren Büchern haben und damit ein Klumpenrisiko tragen, etwas tun. Da gibt es gute Vorschläge, etwa für eine stärkere Eigenkapitalunterlegung zu sorgen, bestimmte Grenzen einzuziehen. Natürlich brauchen wir das.\nWir brauchen auch – ich bin gespannt, ob die bankenfreundliche FDP dabei mitmacht – eine höhere Eigenkapitalquote, also in Richtung 10 Prozent. Damit wäre das System stabiler. Aber da sind Ihre Freunde in den Banken dagegen, und deswegen wollen Sie da nicht ran, obwohl das das Problem lösen würde, dass die Banken auf zu wackligen Füßen stehen.\nDanke.\n",
         "19",
         "10",
         "3",
         "11003837",
         "Gerhard",
         "Schick",
         "BÜNDNIS 90/DIE GRÜNEN",
         "Bündnis 90 / Die Grünen"
        ],
        [
         "5",
         "6efd230b-58ff-4720-5452-08da0f22a008",
         "11003856",
         "Liebe Kolleginnen und Kollegen! Es ist vorhin von der Kollegin Arndt-Brauer gesagt worden, es sei hier immer wieder über das Thema Einlagensicherung und Bankenunion debattiert worden. Das mag so sein. Aber wenn man sich in dieser Debatte einmal anhört, welche Einigkeit zwischen CDU/CSU, SPD und Grünen bei diesem Thema besteht, dann sage ich: Eine lebendige Debatte kann das nicht gewesen sein.\nDass diese Debatte aktuell ist, Frau Kollegin, zeigen die Reaktionen aus der Fachwelt. Sie müssen der FDP nicht glauben, dass das ein wichtiges Thema ist; aber schauen Sie sich an, was Verdi dazu geschrieben hat. Sie hat geschrieben: Dadurch sind unsere Arbeitsplätze in Gefahr. Es ist eine Gefahr für die Arbeitsplätze, insbesondere bei den Sparkassen. – Das sagt Verdi. Wenn Verdi recht hat, dann darf man Verdi auch einmal erwähnen. Recht hat sie.\nDer Städtetag sagt Ähnliches. Die Volksbanken sprechen von einer existenziellen Gefahr für alle Verbundsysteme. Deswegen, Kollege Schick, sind es insbesondere die kleinen Banken, die Sorgen haben, und nicht die großen, wie Sie hier insinuiert haben. Die kleinen Banken haben die größten Sorgen vor einer einheitlichen europäischen Einlagensicherung.\nUm eines aus unserer Sicht klarzustellen: Bankenunion ist eine gute und richtige Idee. Aber Bankenunion funktioniert auch ohne eine einheitliche Einlagensicherung auf europäischer Ebene. Man kann sie machen, aber man muss sie nicht machen. Es ist nicht so, dass es ein elementarer und unverzichtbarer Bestandteil dessen wäre. Bankenunion ist heute Bankenaufsicht unter dem Dach der EZB und eine einheitliche Abwicklung von Banken durch eine einheitliche europäische Abwicklungsbehörde. Beides kann man noch besser machen; aber beides funktioniert für sich genommen sehr gut. Das hat mit der Einlagensicherung indirekt zu tun; aber Sie können das auf die eine wie die andere Weise lösen. Deshalb können wir hier debattieren und unterschiedlicher Meinung sein; es ist jetzt jedoch kein zwangsläufiger Weg, wie manche hier den Eindruck erwecken, in einer einheitlichen Einlagensicherung vorgezeichnet.\nIch will noch einmal etwas zur Einlagensicherung bei kleinen Banken sagen. Wenn eine kleine Bank pleite ist, dann kann das nationale Einlagensicherungssystem ohne Probleme einschreiten, auch in Zukunft, es kann den Fall lösen. Interessant wird es, wenn in Zukunft bei einer einheitlichen Einlagensicherung eine große Bank nach europäischen Regeln abgewickelt werden muss. Dann entschädigt nämlich das nationale Einlagensicherungssystem den einheitlichen Abwicklungsfonds; das heißt, die Gelder, die auch die kleinen Banken eingezahlt haben, gehen dann in die Abwicklung der großen, sollen die Lasten finanzieren. Ich will einmal wissen, warum das gerechtfertigt ist und wie man es rechtfertigen kann, dass die kleinen Banken für die Abwicklung der großen zahlen sollen. Dazu habe ich heute nichts gehört, wird oft übersehen, ist aber der falsche Weg, liebe Kolleginnen und Kollegen.\nWenn man über die Vollendung der Bankenunion diskutiert, dann liest man in den Papieren hauptsächlich etwas zum Thema „Einlagensicherung“. Aber die wirklich wichtigen Dinge, die in der Bankenunion zu optimieren und zu verbessern sind, finden sich in den entsprechenden Planungen nirgends. Es ist eine rein auf die Einlagensicherung beschränkte Debatte. Jedenfalls lese ich in den Papieren nicht sehr viel von anderen Dingen.\n– Ich will Ihnen einmal einige Beispiele nennen, bevor Sie mir widersprechen, Herr Kollege Schick.\nDie drei italienischen Banken, Banca Monte dei Paschi di Siena, die älteste Bank der Welt, Banca Popolare di Vicenza und die Veneto Banca, sind trotz des einheitlichen Abwicklungsmechanismus erneut mit Steuergeldern gerettet worden. Warum war das so? Weil es in den entsprechenden Rechtsgrundlagen einige Schlupflöcher gibt, die prompt beim ersten, zweiten und dritten Anwendungsfall genutzt worden sind. Nun müsste man doch zuallererst diese Schlupflöcher stopfen, damit Banken abgewickelt und nicht gerettet werden. Das wäre doch das Wichtigste. Und das erwarte ich von der Bundesregierung.\nWir könnten weitermachen. Wo lese ich etwas über einen Umschuldungsmechanismus für Staaten? Den brauchen wir – Stichwort: Gläubigerhaftung. Wo lese ich etwas über Eigenkapitalunterlegung bei Staatsanleihen? Das höre ich immer wieder. Wenn man über die Fortschreibung der Bankenunion spricht, Kollege Michelbach, dann wäre das ein Beitrag zur Lösung. Ich erwarte, dass Herr Altmaier mit seinem französischen Kollegen darüber spricht und nicht zuerst über die Einlagensicherung.\nIm Übrigen, Kollege Schick, ist es aus meiner Sicht nicht so, wie Sie es gesagt haben, dass der Binnenmarkt für Finanzdienstleistungen bereits so gut funktioniert, dass das alles grenzüberschreitend prima möglich wäre.\nEs muss darauf geachtet werden, dass der Binnenmarkt besser funktioniert. Ich habe viele digitale Geschäftsmodelle von Banken gesehen, die versucht haben, ein Produkt digital im Internet zu vertreiben und es in verschiedenen europäischen Ländern anzubieten. Das scheitert noch immer sehr oft. Das wären doch Aufgaben für eine Integration der Bankenmärkte in Europa und nicht zuerst die Einlagensicherung.\nDie einheitliche Einlagensicherung hat erhebliche Nachteile. Sie wird für die Banken hier in Deutschland teurer. Sie ist auch mit dem Risiko verbunden, dass die Absicherung schlechter wird. Bei den Verbundsystemen und bei der Institutssicherung der Volksbanken und Sparkassen ist das evident. Ich erinnere auch an die freiwillige Einlagensicherung der Privatbanken, die natürlich ebenfalls infrage steht.\nDas ist doch mehr als das, was gesetzlich gefordert ist. Das ist in Gefahr, wenn man alles in eine einheitliche Einlagensicherung überführt. Das heißt, die Absicherung kann auch noch schlechter werden. Da muss man erst einmal begründen, dass das wirklich ein Fortschritt ist. Ich bin davon nicht überzeugt. Deswegen halte ich es für wichtig, dass sich die Bundesregierung hier anders positioniert, als es bisher der Fall war.\n",
         "19",
         "10",
         "3",
         "11003856",
         "Florian",
         "Toncar",
         "FDP",
         "FDP"
        ],
        [
         "6",
         "234ae1e8-6d1e-45ff-f850-08da0daf380d",
         "11004289",
         "Sehr geehrter Herr Präsident! Liebe Kolleginnen und Kollegen! Obwohl wir heute eine Aktuelle Stunde haben, will ich die Gelegenheit nutzen, auf die Ereignisse in der Vergangenheit aufmerksam zu machen. Heute vor zehn Jahren war die sogenannte Finanzkrise in vollem Gange.\nMonate zuvor ist die Subprime-Blase in den USA geplatzt, in den folgenden Monaten sind Banken wie Bear Stearns, Lehman Brothers, Banken in Europa und auch die eine oder andere deutsche Landesbank ins Schleudern geraten.\nMit sehr viel öffentlichem Geld hat man diesen Sektor stabilisiert, damit wir Schlimmeres verhindern. Das war auch nötig, denn irgendwann ging es auch um den Euro als Ganzes. Die Bankenunion ist eines der Instrumente, die wir in Deutschland, in der Euro-Zone, gegründet haben, damit uns so etwas nie wieder passiert oder zumindest die Wahrscheinlichkeit drastisch reduziert wird.\nDie ersten beiden Säulen der Bankenunion – die einheitliche Bankenaufsicht und die einheitliche Bankenabwicklung – sind gegründet. Nun gilt es, die dritte Säule, die Einlagensicherung, voranzubringen. Die europäische Einlagensicherung ist eine, aber nicht die einzige Maßnahme, die ergriffen werden muss, um den Euro auch in schwierigen makroökonomischen Lagen stabilisieren zu können.\nDie EU-Kommission hat im November 2015 – es ist angesprochen worden – einen Verordnungsvorschlag zur Errichtung einer europäischen Einlagensicherung vorgelegt. In dieser war eine vollständige Vergemeinschaftung der Einlagensicherung ab 2024 vorgesehen. Aus guten und berechtigten Gründen haben wir seinerzeit einen solchen Vorstoß in einem gemeinsamen Entschließungsantrag mit der Union abgelehnt; der Vorschlag der Kommission war viel zu weitgehend.\nZwischenzeitlich wurde ein Kompromissvorschlag von der zuständigen Berichterstatterin des Europäischen Parlaments vorgelegt. Ihr Vorschlag könnte einen Kompromissweg aufzeigen, der den Interessen aller Mitgliedstaaten der Euro-Zone gerecht werden könnte.\nLiebe Kolleginnen und Kollegen, eine europäische Einlagensicherung kann nur dann funktionieren, wenn sie auf grundsoliden Füßen steht. Das setzt voraus – das ist heute schon genannt worden –, dass die Altlasten aus faulen Krediten, also die Non-performing Loans, vorher signifikant und konsequent abgebaut werden müssen. Noch immer gibt es davon viel zu viele in den Bilanzen diverser Banken der Euro-Zone. Ebenso müssen Kredite an Staaten mit Eigenkapital unterlegt werden. Bei der Risikobemessung muss das jeweilige länderspezifische Risiko berücksichtigt werden.\nLetztlich muss man auch die besondere Rolle der Sparkassen, der Genossenschaftsbanken, der Förderbanken, der kleinen und mittleren Privatbanken berücksichtigen. Schließlich waren sie bei der Finanzkrise ab 2008 eine wichtige Stütze für die Finanzstabilität in unserem Land. Sie dürfen nicht über Gebühr belastet werden. Darauf werden wir besonders achten.\nFerner sind aus unserer Sicht weitere Maßnahmen erforderlich, um das Bankensystem in Deutschland und der Euro-Zone insgesamt zu stabilisieren. Wir schlagen vor:\nErstens: die Einführung eines Trennbankensystems. Das bedeutet, dass Geschäftsbanken, die Kundeneinlagen verwalten, eben nicht im Investmentgeschäft tätig sein dürfen.\nZweitens: die Einführung einer klaren und angemessenen Verschuldungsquote für Banken.\nDrittens: Bei einer Schieflage einer Bank müssen vorrangig die Anteilseigner und deren vermögende Gläubiger haften. Das Bail-in-Prinzip muss konsequent angewendet werden.\nViertens: Der Eigenhandel von Banken muss eingeschränkt werden.\nFünftens: Transparenz bei den Geschäftsbeziehungen zwischen Banken und Schattenbanken, die nicht der dichten Regulierung unterliegen wie Banken.\nLiebe Kolleginnen und Kollegen, eine gemeinsame Einlagensicherung, solide organisiert, wird Banken und den Euro stabilisieren. Damit wird die Euro-Zone besser vor asymmetrischen Schocks, wie wir sie in der Finanz- und Euro-Krise ab 2008 erlebt haben, geschützt. Das ist gut für den europäischen wie für den deutschen Sparer und Steuerzahler gleichermaßen.\nZu einem friedlichen Europa gehört auch ein wirtschaftlich stabiles Europa. Viele vergessen das nach über 70 Jahren Kriegsende. Die Vollendung der Bankenunion wird Deutschland und Europa stabiler machen.\nVielen Dank.\n",
         "19",
         "10",
         "3",
         "11004289",
         "Metin",
         "Hakverdi",
         "SPD",
         "SPD"
        ],
        [
         "7",
         "39806810-04f6-44bb-633f-08da0f22a008",
         "11004778",
         "Herr Präsident! Sehr geehrte Damen und Herren! Der geschäftsführende Finanzminister hält es für denkbar, dass sich die EU kurzfristig auf einen Fahrplan zur Vergemeinschaftung der Einlagensicherungssysteme einigt.\nVoraussetzung sei, dass die Risiken in den Bankbilanzen auf ein erforderliches Minimum begrenzt würden. Der Finanzminister stellt sich hier einen längeren Fahrplan vor wie damals bei der Euro-Einführung. Wir haben schon bei der Einführung der Gemeinschaftswährung erleben dürfen, was von solchen geschlossenen Verträgen zu halten ist, nämlich nichts.\nVon den Maastricht-Kriterien zur Schuldenobergrenze ist nichts übrig geblieben. Vom Verbot der gegenseitigen Staatshaftung ist nichts übrig geblieben.\nVom Verbot der Staatsfinanzierung durch die Europäische Zentralbank ist nichts übrig geblieben.\nDie Liste ist noch länger; ich erspare Ihnen hier die Einzelheiten.\nJetzt wird gefordert, dass die Banken ihre Risiken reduzieren. Risikoreduzierung bedeutet nichts anderes als den Verkauf von Forderungen mit Verlust. Hierzu brauchen Banken frisches Eigenkapital. Das ist aber von der EU nicht gewollt. Wir nehmen den Banken also quasi die Luft zum Atmen, und wir wollen bei Bankenpleiten die betroffenen Sparer aus EU-Töpfen entschädigen, mit deutschem Geld.\nDer von der EU-Kommission angestrebte Transfermechanismus zwischen soliden und weniger soliden nationalen Sicherungssystemen führt im Kern dazu, dass jede Bank in der Euro-Zone für die Risiken anderer Banken mithaften muss. Dies führt dazu, dass deutsche Sparer beispielsweise für die Risiken von südeuropäischen Banken mithaften müssen. Aber genau diese Banken sind teilweise marode und im Kern unsolide. Diese Banken in Südeuropa haben in viel zu großem Umfang faule Kredite in den Bilanzen. Wollen wir mit dem Geld deutscher Sparer russisches Roulette mit sechs Kugeln in der Trommel spielen, meine Damen und Herren?\nDie aktuell vermeintlich gute Konjunktur fußt ganz im Wesentlichen auf der Niedrigzinspolitik der EZB; man mag es auch Enteignung nennen. Was aber passiert, wenn die Zinsen wieder steigen? Dann steigen die Konjunkturrisiken und damit auch die Kreditrisiken. Und wir Deutschen sollen dann über eine Bankenunion den Deckel zahlen? Was soll dieser Unsinn? Im kleinen Zypern wurden die Sparer bereits rasiert. Das Griechenland-Abenteuer haben wir mit einem blauen Auge überstanden. Gut, die Milliarden werden wir wahrscheinlich nie wiedersehen; aber sie stehen noch in den Büchern. Glauben Sie tatsächlich, dass es besser wird, wenn man jetzt Zusatznetze für Finanzjongleure spannt, in die sie sich jederzeit fallen lassen können? Unglaublich!\nSchauen wir einmal nach Italien. Das „Handelsblatt“ hat geschrieben, dass 360 Milliarden Euro an faulen Krediten in den Bilanzen italienischer Banken stehen. Die Gründe liegen in der schleppenden italienischen Konjunktur, dem schwachen Immobilienmarkt in Italien und ganz wesentlich in der schlampigen Kreditvergabepraxis. Der italienische Staat würde die Banken gerne stützen. Das wiederum möchte die EU nicht. Die EU möchte, dass die Banken die faulen Kredite abbauen, also die Forderungen mit Verlust verkaufen. Um diese Verluste schultern zu können, bräuchten die Banken frisches Eigenkapital, das der Staat im Zweifel auch gerne zuschießen möchte; aber die EU verbietet es wieder. Merken Sie etwas? Über diese Vergemeinschaftung der Sicherungssysteme haftet letzten Endes doch nur der deutsche Sparer.\nSo funktioniert das mit uns nicht, meine Damen und Herren.\nEs ist absolut richtig, dass ein gemeinsamer Verbleib in der Euro-Zone nur funktionieren kann, wenn die Standards in der Euro-Zone weiter vereinheitlicht werden. Damit müsste aber die EU den einzelnen Staaten immer mehr Vorschriften machen und die souveränen Rechte entziehen. Wollen Sie das? Herr Schulz würde Ihnen Beifall klatschen – heute ist er nicht hier; deswegen kann er es nicht –, wir machen es aber nicht.\nIm Sinne eines guten Europas, eines Europas der Vielfalt und der Kulturen halten wir den Euro und das hiesige Ansinnen für kontraproduktiv.\nWir sollten uns besser mit einem geordneten Ausstiegsszenario beschäftigen als mit dieser Utopie. Wir lehnen ein europäisches Einlagensicherungssystem entschieden ab.\nVielen Dank, meine Damen und Herren.\n",
         "19",
         "10",
         "3",
         "11004778",
         "Stefan",
         "Keuter",
         "AfD",
         "AfD"
        ],
        [
         "8",
         "e0613df8-a516-4f4e-6224-08da0f22a008",
         "11004817",
         "Herr Präsident! Verehrte Kolleginnen und Kollegen! Dass Sie die Befreiung von einem großen Unglück für dieses Land auch nach der heutigen Gedenkstunde als eine Kapitulation bezeichnen, das zeigt: Sie sind keine Alternative für Deutschland; Sie sind eine Schande für Deutschland.\nWissen Sie, warum ich so gerne Abgeordneter bin? Als Kind las mir Mutti immer Märchen vor. 2014 verkündete die Bundeskanzlerin auf dem G-20-Gipfel in Brisbane:\n... es wird nie wieder notwendig sein …, dass, wenn große Banken zusammenbrechen, ... Steuerzahler diese Banken retten müssen.\nEs ist schon wieder Märchenstunde, und ich werde auch noch dafür bezahlt.\nDer Präsident des Deutschen Instituts für Wirtschaftsforschung, Marcel Fratzscher, schrieb kürzlich:\nEiniges spricht dafür, dass die Finanzmärkte im Jahr 2018 eine Korrektur erfahren, die ernste wirtschaftliche Verwerfungen mit sich bringen können.\nHerr Kollege, einen kleinen Moment, bitte. – Auch wenn ich Verständnis dafür habe, dass Erregung im Saal herrscht, bitte ich doch darum, dem Redner zuzuhören.\nDie wirtschaftliche Euphorie hat viele Akteure der Politik und auf den Finanzmärkten träge und blind vor den wachsenden Risiken gemacht.\nDer frühere Vorsitzende des Beirats des Europäischen Ausschusses für Systemrisiken, Martin Hellwig, vertraut den Basel-Reformen zur Bankenregulierung nicht. Er fordert hohe Eigenkapitalquoten, die nicht durch die internen Modelle der Banken frisiert werden können. Das würde die Finanzierung von Banken und Kredite übrigens nicht teurer machen, weil auch Risikoprämien sinken.\nZehn Jahre nach der Finanzkrise ist das zentrale Problem aber nicht gelöst. Große Universalbanken sind immer noch zu groß und zu vernetzt zum Scheitern und werden wieder Steuerzahler erpressen.\nAuch die EZB unterliegt als Aufsicht und Kreditgeber der Banken permanenten Interessenkonflikten.\nDer einstige US-Glass-Steagall-Act zur Trennung der Banken umfasste nur 37 Seiten. Die EU-Bankenregulierung umfasst Hunderte Telefonbücher, aber mit Tausenden Schlupflöchern. Die Bilanz der Deutschen Bank ist immer noch 1,5 Billionen Euro schwer. Das entspricht dem Bruttoinlandsprodukt Italiens. Der IWF stuft die Deutsche Bank daher zu Recht als die gefährlichste Bank der Welt ein.\nDie Deutsche Bank wäre ohne diverse Rettungsmilliarden von AIG, über HRE oder Griechenland mausetot. Dennoch schüttet sie schon wieder Boni von 1 Milliarde Euro aus.\nDie sind das Volkswagen der Banken.\nMan traut sich das als Linker kaum zu sagen: Die Deutsche Bank ist faktisch eine Staatsbank, mit dem feinen Unterschied, dass sie Gewinne privatisiert und Verluste vergemeinschaftet. Für das riskante Investmentbanking genießt sie über die faktische Staatshaftung eine Subvention der Steuerzahler bzw. einen Finanzierungsvorteil.\nDie EU-Kommission hat indes die Aufspaltung der Megabanken unter dem Druck der Lobby beerdigt. Daher bleiben das Abwicklungsregime und die Haftung von Eigentümern und Gläubigern der Banken, wie sie für jeden Handwerker gelten, völlig unglaubwürdig. Die Ausnahme vom Haftungsprinzip bei Bedrohung der Finanzstabilität ist daher eine Lex Deutsche Bank & Co.\nDas Volumen des EU-Abwicklungsfonds soll in fünf Jahren 55 Milliarden Euro betragen. Die europäischen Bankenrettungen kosteten 592 Milliarden Euro, mehr als das Zehnfache – ohne Garantien, die in der Spitze 900 Milliarden Euro umfassten.\nBereits die Abwicklung der Banco Popular hätte den Abwicklungsfonds ohne die Übernahme durch die Banco Santander überfordert. Aber Fusionen verschärfen die Konzentration im Bankensektor und die systemischen Risiken. Das ist, wie in einem Raum mit Grippepatienten die Klimaanlage anzustellen. Sie wissen, dass der Abwicklungsfonds nicht trägt. Daher soll mit dem EWF auch eine weitere Verteidigungslinie von 60 Milliarden Euro geschaffen werden, auch zur Einlagensicherung.\nEine EU-Einlagensicherung ist aber nur sinnvoll, wenn man Risiken reduziert, bevor man sie streut.\nDie EU-Kommission will aber wie bei der Bankenabgabe die Sparkassen und Genossen zur Finanzierung der Großbanken schröpfen. Dabei verfügen die über eine eigene Institutssicherung und werden vom Rettungsfonds niemals profitieren. Wir brauchen daher ein Ende der investitionsfeindlichen Kürzungspolitik, siehe Portugal.\nDies würde es südeuropäischen Banken ermöglichen, aus schlechten Krediten herauszuwachsen. Eine Trennung von Megabanken und strengere Eigenkapitalvorschriften würden den Bankensektor stabilisieren. Verbleibende systemische Risiken könnte im absoluten Notfall die EZB in die Bilanz nehmen, aber nur bei strikter öffentlicher Kontrolle der Banken, weil die uns sonst ihren ganzen Finanzmüll vor die Füße kippen.\nDas wäre die billigste Lösung, weil Euros die EZB nichts kosten und sie frei bilanzieren kann.\nHerr Kollege De Masi, kommen Sie zum Schluss.\nEine Bankenunion als Vollkaskoversicherung für Deutsche Bank & Co lehnt Die Linke hingegen ab.\nVielen Dank.\nLiebe Kolleginnen und Kollegen, bevor ich den nächsten Redner aufrufe – Herr Kollege Schick, einen ganz kleinen Moment! –, bitte ich, folgenden Hinweis zu beachten: Aussagen im Plenum können vom Präsidium nur dann gerügt werden, wenn das Präsidium sie gehört hat. Herr Kollege Braun, wir haben nur vernommen, dass Sie davon gesprochen haben, dass Sie als Rassist bezeichnet worden sind. Weder vom Präsidium noch von der Verwaltung ist eine solche Aussage zur Kenntnis genommen worden. Aber es wäre aus unserer Sicht unparlamentarisch, so miteinander umzugehen. – Wenn das reicht, ist es in Ordnung.\n",
         "19",
         "10",
         "3",
         "11004817",
         "Fabio",
         "De Masi",
         "DIE LINKE.",
         "Die Linke"
        ],
        [
         "9",
         "06d2c83c-b399-4d9c-ffad-08da0daf380d",
         "11004832",
         "Herr Präsident! Meine sehr geehrten Damen und Herren! Ich schiebe meine Rede beiseite; denn ich habe gar nicht gewusst, dass heute im Deutschen Bundestag so viel Realsatire statt Realpolitik vorgetragen wird. Ich habe von 2007 bis 2010 eine Lehre als Bankkaufmann bei der Sparkasse absolviert. Kennen Sie das?\n– Nein, das ist kein SPD-Parteibuch. Anders als vielleicht die Altersgenossen bei den Jusos scheuen wir uns in meinem Alter bei der CDU/CSU nicht vor der staatspolitischen Verantwortung. Nein, es ist ein Sparkassenbuch.\nEs ist ein Sparbuch, das für Vertrauen steht. Sie, liebe Liberale, versuchen hier in der Aktuellen Stunde, die Sie gefordert haben, Angst zu schüren und Vertrauen zu zerstören. Dazu muss ich sagen: Das ist wirklich mehr als despektierlich. Wenn Sie davon sprechen, dass die Einlagensicherung demnächst auf europäischer Ebene vereinheitlicht werden soll, dann sagen Sie mir bitte, wo das steht. Was hat der geschäftsführende Finanzminister gesagt? Er hat gesagt: Wir haben eine Roadmap, an die halten wir uns, und wenn alle Punkte abgearbeitet sind, dann können wir uns am Ende des Prozesses darüber unterhalten. – Das gehört zur Ehrlichkeit dazu.\nLieber Dr. De Masi, ich empfehle Ihnen, mit Ihrem linken Genossen in Wittenberg zu sprechen, der Landrat und gleichzeitig Verwaltungsratsvorsitzender der Sparkasse ist. Sprechen Sie einmal mit ihm über den Vorschlag, die Eigenkapitalquoten zu erhöhen. Ich bin auf seine Antwort gespannt.\nIn den Regionalbanken, die während der Finanzkrise so wichtig waren, um das deutsche Finanzsystem aufrechtzuerhalten, sind die Eigenkapitalquoten schon peu à peu erhöht worden. Das hatte zur Folge, dass vor allem in den Regionalbanken Umstrukturierungsmaßnahmen – unter anderem mit Beteiligung Ihres eben angesprochenen Verwaltungsratsvorsitzenden – vorgenommen wurden. Es kam zu Filialschließungen und Personalabbau in der Fläche. Das gehört – gerade bezogen auf das deutsche Bankensystem – zur Ehrlichkeit dazu, wenn Sie noch höhere Eigenkapitalquoten fordern.\nEs würde unsere Regionalbanken kaputtmachen, liebe Freunde.\nDr. Schick, Sie sprechen ja mittlerweile von einer Eigenkapitalquote von 10 Prozent, von faulen Krediten in Höhe von 950 Milliarden Euro und von einer hervorragenden Regelung in den USA – Sie meinen, dass es da super läuft.\nWir müssen aber ganz ehrlich sagen, Herr Schick: Wir sind nicht Amerika.\nUnser Ziel ist es – wir bleiben dabei –, das Risiko im Bankensystem Europas weiter zu reduzieren – ich denke, da sind wir uns einig –, einheitliche Regeln zu finden, die umgesetzt werden müssen, und die faulen Kredite, für die die Sparer mithaften – egal in welchem Land –, zu reduzieren. Das muss unser Ziel sein. Am Ende des Prozesses gehört es dazu, miteinander zu reden.\nDarum ist es auch gut, dass man darüber diskutiert.\nIch bin einer der wenigen ganz Jungen unter 30, die hier im Deutschen Bundestag sind, und vor allem wir profitieren von Europa, von der Reisefreiheit. Liebe Abgeordnete der AfD, was Sie hier preisgeben, spiegelt Ihr ganzes Bild von Europa wider.\nSie haben es letzte Woche am besten bewiesen, als der Präsident der französischen Assemblée nationale hier in perfektem Deutsch eine Rede gehalten hat. Ihre Reaktionen waren beschämend für unser Land. Ich schäme mich dafür, dass Sie so reagieren.\nSie fordern eine Kultur in Deutschland. Was gehört denn zur Hochkultur? Dazu gehört, dass man miteinander spricht. Wenn eine Aktuelle Stunde ansteht, dann reden wir miteinander.\nWir reden auch mit den Franzosen. Und wenn die Europäische Kommission einen Vorschlag macht, dann gehört es in einer deutschen Kultur, aber auch in einer europäischen Kultur dazu, dass man miteinander spricht, anstatt, wie Sie, hier zu sitzen und – ich zitiere; das ist eine Schande – von der „größten deutschen Kapitulation“ seit dem Zweiten Weltkrieg zu sprechen.\nEs ist beschämend, dass solche Worte von Ihnen hier im Parlament fallen.\nIch schäme mich dafür.\nLassen Sie uns miteinander reden. Ich freue mich darauf.\nHerzlichen Dank.\n",
         "19",
         "10",
         "3",
         "11004832",
         "Sepp",
         "Müller",
         "CDU",
         "CDU/CSU"
        ],
        [
         "10",
         "e90139b6-486c-47b0-6a32-08da0f22a008",
         "11004902",
         "Sehr geehrter Herr Präsident! Meine sehr geehrten Damen und Herren! Europa braucht stabile Banken und funktionsfähige Kapitalmärkte; sie sind die Grundlage für Wohlstand und Wachstum. Ich glaube, so weit sind wir uns hier alle einig. Aber unsere Einigkeit endet, wenn wir über die Ziele diskutieren, wie wir dazu kommen.\nWir sehen in diesen Tagen, dass in Brüssel die Aktivitäten zur Weiterentwicklung der Wirtschafts- und Währungsunion wieder Fahrt aufnehmen, allen voran die Diskussion über die Bankenunion. Ich bin der Ansicht, Entscheidungen von so grundlegender Bedeutung dürfen nicht hinter den verschlossenen Türen von Ministertreffen vollzogen werden. Sie gehören auf die Tagesordnung unseres Parlaments.\nAuch in der Bankenunion muss weiterhin das Grundprinzip der sozialen Marktwirtschaft, nämlich die untrennbare Verknüpfung von Risiko und Haftung, gelten. Die wirtschaftliche Lage verdeckt derzeit, dass die Risiken im Finanzsystem mitnichten beseitigt sind. Die Staatsverschuldung ist weiterhin zu hoch, das Bankensystem krisenanfällig, und der Reformwille von Staaten erlahmt.\nOtmar Issing, der Chefvolkswirt der EZB, hat in den vergangenen Tagen einen lesenswerten Beitrag in der „FAZ“ veröffentlicht. Issing schrieb:\nDas Ergebnis der Sondierungsgespräche muss man als Abschied von der Vorstellung einer auf Stabilität gerichteten europäischen Gemeinschaft verstehen. Damit werden die Versprechen gebrochen, die man den Bürgern in Deutschland vor der Einführung des Euros gegeben hat.\nIssing bescheinigt der CDU/CSU und der SPD damit eine – ich zitiere – „ordnungspolitische Orientierungslosigkeit“ in der Debatte. Das wollen wir ändern.\nDeutschland war in der Vergangenheit immer ein Garant für die finanzpolitische Eigenverantwortung der Staaten. Die Große Koalition hat sich von dieser Politik verabschiedet; Risikoteilung hat heute Vorrang vor dem Prinzip der Risikovermeidung. Ein aktuelles Beispiel der von Issing angesprochenen Orientierungslosigkeit ist die Zustimmung des Finanzministers, bis Juni eine sogenannte Roadmap für eine europäische Einlagensicherung zu entwerfen. Was ist das? Die EU-Kommission will die nationalen Einlagensicherungsfonds komplett in einen europäischen Topf überführen. Bisher hat die Bundesregierung das mit der Begründung abgelehnt, dass Sparer nicht für die Guthaben von Bankkunden in anderen EU-Staaten haften dürfen. An dieser Position müssen wir festhalten.\nJa, wir brauchen in Europa gemeinsame, harmonisierte Regeln. Grundsätzlich ist es richtig, dass auch auf europäischer Ebene Anstrengungen zur Stärkung der Einlagensicherung unternommen werden. Das darf jedoch nicht zur Quersubventionierung über Grenzen hinweg führen. Mit der bereits eingeführten und geltenden EU-Einlagensicherungsrichtlinie wurden die Grundlagen für den Schutz der Sparer ja bereits gelegt.\nWarum lehnen wir mehr Vergemeinschaftung ab? Ich nenne kurz drei Punkte:\nEine Vorbedingung der Bankenunion war immer, dass die Risiken in den Bankenbilanzen reduziert werden. Noch heute schlummern europaweit circa 950 Milliarden Euro an faulen Krediten in den Büchern der Banken. Diese zu vergemeinschaften, wäre der falsche Anreiz.\nEs wäre falsch verstandene Solidarität und würde unsolidarisches Risikoverhalten belohnen.\nEuropäische Banken sind noch immer eng umschlungen von ihren Heimatstaaten. Sie halten zum Teil enorme Bestände an heimischen Staatsanleihen in ihren Büchern. Die Bundesregierung und die EU-Kommission haben es bisher versäumt, diesen Teufelskreis finanzieller Abhängigkeit zwischen Staaten und ihren Banken durch die Einführung einer Eigenkapitalunterlegung zu durchbrechen. Hier wäre mehr Reformwille erforderlich.\nDer Einheitliche Abwicklungsmechanismus soll verhindern, dass Steuerzahler für Fehlverhalten von Banken zahlen müssen. Trotzdem wurden in den letzten Jahren wieder Banken durch den Staat gerettet. Zu oft werden sinnvolle Regeln durch die politischen Akteure gebrochen.\nDie Mehrheit der Menschen in unserem Land bekennt sich zu Europa, und das ist gut so. Das ist ein hohes Gut, das nicht leichtfertig aufs Spiel gesetzt werden darf; denn wenn wir das Vertrauen der Menschen und die Glaubwürdigkeit verlieren, dann verlieren wir die Menschen auf dem Weg nach Europa.\nWir bekommen jetzt eine Bundesregierung, die über immense Steuereinnahmen verfügen wird. Wir Freie Demokraten werden uns dafür einsetzen, diese Mittel nicht dafür zu verwenden, die Ursachen der Krise nur zu überdecken, da die richtige Antwort doch wäre – das muss man auch einmal sagen –, die Menschen zu entlasten.\nFrau Kollegin.\nIch komme zum Schluss. Das ist meine erste Rede; da darf ich überziehen.\nJa, Sie sind aber schon fast eine Minute über der Zeit.\nAllein durch Umverteilung wird Europa nicht besser. Europa wird besser, indem es sich exzellente wirtschaftspolitische Rahmenbedingungen gibt. Wir fordern die Bundesregierung auf: Konzentrieren Sie sich darauf, die bestehenden Risiken zu minimieren!\nFrau Kollegin.\nBleiben Sie bei Ihrem Nein zur Vergemeinschaftung!\nLassen Sie mich noch eines sagen.\nNein.\nJa, doch.\nFrau Kollegin, bei allem Ernst: Ein letzter Satz!\nDas Sondierungspapier erinnert an einen Satz von Mark Twain:\nAls wir die Richtung verloren hatten, verdoppelten wir die Geschwindigkeit.\nDas kann nicht der Weg sein.\nIch sage herzlichen Dank, aber auch die erste Rede darf nicht dazu veranlassen, die Zeit nahezu zu verdoppeln.\n",
         "19",
         "10",
         "3",
         "11004902",
         "Bettina",
         "Stark-Watzinger",
         "FDP",
         "FDP"
        ],
        [
         "11",
         "003d0047-da70-4d38-f481-08da0e4d69bc",
         "11004912",
         "Herr Präsident! Liebe Kolleginnen und Kollegen! Meine sehr verehrten Damen und Herren! Im Jahre 2008 ereilte nicht nur die Vereinigten Staaten von Amerika, sondern auch Deutschland und Europa eine Finanz- und Wirtschaftskrise, mit der viele in diesem Ausmaß nicht gerechnet haben.\nIch weiß nicht, wer damals geglaubt hätte – Sie haben es gerade angesprochen, Herr Dr. Michelbach –, dass wir uns nach zehn Jahren, sprich: heute, wieder in einer so guten wirtschaftlichen Verfassung befinden. Ich glaube, man wäre gefragt worden, ob man gesund sei.\nWir haben aber auch erlebt, meine Damen und Herren, dass es sich nicht nur um ein Problem der Banken oder der Finanzinstitute, sondern letztlich auch um ein Problem der Wirtschaftssysteme insgesamt handelte. Dass es ein Problem des Vertrauens gibt, haben nicht nur die Banken erlebt, sondern alle Wirtschaftsbereiche haben dies erleben müssen. Wir sehen heute in verschiedenen Facetten immer noch die Folgen dessen, was seinerzeit passiert ist. Die Bankenunion kann eine Antwort darauf sein; sie kann ein wichtiges Instrument sein, damit so etwas nie wieder passiert.\nEs geht also um die Stabilisierung der Finanzmärkte, unseres europäischen Finanzmarktes. Es geht um die Verbindung von Risiko und Haftung. Es geht um das Wiedergewinnen von Vertrauen der Sparer in ihre Bank in ihrem Land, und es geht auch um die Rücksicht auf unsere funktionsfähige deutsche kleinteilige Kreditwirtschaft. Auch ihr gegenüber sind wir in der Verantwortung.\nDie Bankenunion – es geht nicht darum, sie hier schönzureden – befindet sich im Aufbau und wird korrigiert; das hat auch niemals jemand aus unserer Fraktion bestritten. Es geht darum, diese Bankenunion als ein wichtiges Instrument zu begreifen, das weiterentwickelt werden muss und weiterentwickelt werden kann.\nDie gemeinsame Aufsicht als erste Säule ist ein wichtiger Beitrag zur Stabilisierung der Finanzmärkte. Hier soll Stabilität erreicht werden. Ich sage „soll“, weil wir natürlich keineswegs schon am Ziel angelangt sind. Es hat auch keiner die großen Risiken – gerade war von den faulen Krediten bzw. von den Staatskrediten die Rede, die in den Bilanzen vieler Banken schlummern – verheimlicht. Es ist keine gute und angenehme Diskussion, und es ist auch politisch nicht einfach, über die Bonitätsunterschiede bei der Vergabe von Krediten an öffentliche Haushalte zu diskutieren, aber wir werden diese Diskussion führen. Wir verstecken dieses Problem nicht, sondern wir werden es anpacken, und das müssen wir auch; denn sonst funktioniert die Bankenunion nicht.\nMit dem einheitlichen Bankenabwicklungsmechanismus wird die vorgesehene Haftungskaskade, so wie wir uns das wünschen, endlich normiert, nach dem Grundsatz, dass eben nicht zuvorderst die Steuerzahler zur Kasse gebeten werden, sondern für die Abwicklung die Gruppe aller Banken in Europa haftet. Das war immer unser Ziel. Und ich sage an dieser Stelle sehr deutlich: Deswegen ist auch die zweite Säule eine wichtige Säule, die auszubauen sich lohnt.\nIch komme zur dritten Säule, zur Harmonisierung der nationalen Einlagensicherungssysteme. Das ist eine wesentliche Errungenschaft. Sie dient im Besonderen dem Interesse der Sparerinnen und Sparer und der Bildung – oder muss man sagen: Rückgewinnung? – ihres Vertrauens in ihre Bank in ihrem Land.\nDurch die Definition von europaweit einheitlichen Mindeststandards wird erreicht, dass die Risiken nur in dem Land aufgefangen werden, wo sie tatsächlich entstehen, und dass die Risiken bei der Haftung in den jeweiligen Ländern zu verbleiben haben. Jedem Land ist es unbenommen, über die Mindestanforderungen hinausgehende Einlagen in die Institutssicherung zu implementieren. So haben wir das auch in der Bundesrepublik gehalten, und so werden wir es auch weiterhin halten.\nLassen Sie mich vor diesem Hintergrund einen Blick auf die deutschen Banken, insbesondere die kleinen und mittelständischen Sparkassen und Genossenschaftsbanken werfen, für die wir uns – es wurde eben angesprochen – im Parlament sehr wohl verantwortlich fühlen. Einheitliche hohe Standards der Aufsicht in Europa sind erstrebenswert. Sie bedeuten in einigen Mitgliedstaaten deutliche Verbesserungen, von denen wir auch profitieren – das ist gewiss so –, aber wir müssen uns bei der Regulierung auch darüber Gedanken machen, ob sie verhältnismäßig ist,\nob das, was wir von den Instituten erwarten, die nicht für die Krise verantwortlich waren, eigentlich leistbar ist und ob der Verwaltungsaufwand sie am Ende nicht dazu zwingt, zu fusionieren oder aus dem Markt auszuscheiden. Das können wir nicht wollen, weil das unser durchaus erfolgreiches Bankensystem beschädigt.\nIn diesem Zusammenhang verweise ich auf die laufende Diskussion über die Möglichkeiten für mehr Proportionalität in der Bankenaufsicht für mittelständische Institute, Stichwort: Small Banking Box. Hier haben wir uns zwar schon auf dem Weg gemacht; aber ich glaube, dass es dringend notwendig ist, weitere Schritte zu gehen. Dass gerade die kleinen Kreditinstitute nunmehr zusätzlich zu einem neuen, europäisierten Haftungsregime erworbene Vorteile und Besonderheiten möglicherweise aufgeben sollen und in eine vergemeinschaftete Einlagensicherung einzahlen sollen, meine Damen und Herren, halte ich nicht nur für unzumutbar, sondern auch für unnötig. Ich glaube im Übrigen, dass damit falsche Verhaltensanreize gesetzt werden.\nHerr Kollege, kommen Sie freundlicherweise zum Schluss?\nDas mache ich gerne, Herr Präsident. – Vor zehn Jahren begann die Finanzkrise. Vor fünf Jahren haben CDU/CSU und SPD in ihrem Koalitionsvertrag festgeschrieben – sie haben im Laufe der Legislatur auch entsprechend gehandelt; ich darf zitieren –:\nDie Sicherheit der Spareinlagen ist ein wesentliches Element stabiler Finanzmärkte.\nHerr Kollege, es wäre schön, wenn Sie Ihrer Ankündigung auch Taten folgen lassen würden.\nJa, das tue ich.\n… Die deutschen Einlagensicherungssysteme haben sich in der Krise als stabil erwiesen. Eine Vergemeinschaftung der Einlagensicherung auf EU-Ebene lehnen wir ab.\nMeine Damen und Herren, ich kann wirklich nicht erkennen, warum von diesem guten Grundsatz abgewichen werden soll.\nIch danke für Ihre Aufmerksamkeit.\nVielen Dank, Herr Kollege. Das war sehr nachsichtig.\nDamit ist die Aktuelle Stunde beendet.\nWir sind damit am Schluss unserer heutigen Tagesordnung. Ich wünsche Ihnen allen einen wunderschönen Abend, vielleicht auch zur Gewinnung neuer Einsichten. Ich erwarte Sie morgen fröhlich, gut gelaunt und frisch im Plenarsaal zurück.\nIch berufe die nächste Sitzung des Deutschen Bundestages auf morgen, Donnerstag, den 1. Februar 2018, 9 Uhr, ein.\nDie Sitzung ist geschlossen.\n",
         "19",
         "10",
         "3",
         "11004912",
         "Hermann-Josef",
         "Tebroke",
         "CDU",
         "CDU/CSU"
        ],
        [
         "12",
         "a56c8fd1-5742-4f73-6a16-08da0f22a008",
         "11004921",
         "Herr Präsident! Meine Damen und Herren! Das ist jetzt eine schon weit fortgeschrittene Debatte mit einigen sehr merkwürdigen Wortmeldungen. Ich will trotzdem versuchen, zum Punkt zurückzukommen.\nEine der wichtigsten Lehren, die wir aus der Wirtschafts- und Finanzkrise gezogen haben, ist doch, dass wir uns im Finanzbereich auf europäischer Ebene besser koordinieren müssen. In der EU gibt es eine klare Entwicklung hin zu einem Abbau von notleidenden Krediten. Das zeigt der Fortschrittsbericht zur Entwicklung der Risiken in der europäischen Bankenbranche, den die Europäische Kommission in diesem Monat vorgelegt hat. Seit 2014 ist die Zahl notleidender Kredite in der EU – das sind die Kredite, deren Rückzahlung seit mindestens 90 Tagen fällig ist – um ein Drittel gesunken. Das ist umso bedeutsamer, weil faule Kredite noch immer eine der größten Risikoquellen im europäischen Bankensektor sind.\nAuch die FDP dürfte eigentlich das Risiko grenzüberschreitender Ausstrahlungseffekte – einige Redner haben es vorhin schon gesagt – im Bankensektor nicht leugnen. Wir Sozialdemokratinnen und Sozialdemokraten begrüßen ausdrücklich, dass sich die EU-Mitgliedstaaten koordinieren, um die Bankenunion zu vollenden. Der Aktionsplan für den Abbau notleidender Kredite, den der Rat im Juli vergangenen Jahres beschlossen hat, ist ein Schritt auf dem Weg zur Vollendung der Bankenunion, und er ist richtig.\nWir Sozialdemokratinnen und Sozialdemokraten sind in dieser Frage nicht naiv. Natürlich zeigt der Fortschrittsbericht der Kommission auch, dass der Abbau notleidender Kredite nicht in allen EU-Staaten gleich gut funktioniert. Gerade deshalb ist es ja so wichtig, dass sich die Mitgliedstaaten auch in Zukunft in diesem Bereich koordinieren.\nNatürlich gilt weiterhin, dass die EU-Mitgliedstaaten und individuelle Banken dafür Sorge tragen müssen, dass der Anteil notleidender Kredite sinkt.\nWenn die FDP-Fraktion in dieser Aktuellen Stunde – ich will an dieser Stelle einmal auf den Kollegen Dürr von der FDP-Fraktion verweisen – und in einem Artikel der „FAZ“ behauptet, dass die Fraktion die gemeinsame Einlagensicherung im Interesse der Steuerzahler ablehnt, dann muss man sich schon fragen, wie das alles zusammenpasst.\nEine gemeinsame Einlagensicherung soll doch gerade nicht aus Steuergeldern finanziert werden, meine Damen und Herren, sondern durch Finanzinstitute. Die Steuerzahlerinnen und Steuerzahler würden nicht zur Kasse gebeten, sondern geschützt. Sie schüren nicht nur eine diffuse Angst davor, dass die Schaffung einer europäischen Bankenunion automatisch eine Transfer- und Schuldenunion bedeuten würde,\nwas auch immer Sie darunter verstehen; denn bisher erläutern Sie den Begriff ja nicht. Sie werfen vor allem auch eine Finanzierung durch Finanzinstitute und eine Finanzierung über Steuergelder durcheinander. Im Übrigen tun das nicht nur Sie; die AfD wirft in dieser Frage alles durcheinander und scheint das ganze System nicht verstanden zu haben.\n– Ja, so ist das, Herr Gauland, die Sozialdemokraten haben das verstanden.\nFür die Bürger in Deutschland soll der Eindruck entstehen, meine Damen und Herren, dass ihnen durch eine europäische Bankenunion etwas weggenommen würde. Genau das Gegenteil ist der Fall.\nDie Europäische Zentralbank hat im Jahr 2017 festgestellt, dass das anvisierte Zielvolumen eines europäischen Einlagensicherungsfonds – das sind 0,8 Prozent der gedeckten Einlagen – in der letzten Finanzkrise ausgereicht hätte, um die Ansprüche der europäischen Anleger zu befriedigen. Das heißt doch: Nur durch ein europäisches System bei der Einlagensicherung werden Steuerzahler bei einer Bankenrettung zukünftig nicht mehr zur Kasse gebeten.\nWir wollen, dass die Bankenbranche sich im Falle einer Krise selbst retten kann. Eine Situation, wie wir sie im Jahr 2008 erlebt haben, als Steuerzahlerinnen und Steuerzahler für die Rettung von Banken aufkommen mussten, darf sich nie wiederholen. Sichere Banken bekommen wir nur durch eine europäische Anstrengung. Eine vernünftige, funktionierende Einlagensicherung ist Teil eines Pakets, um das zu erreichen.\nGlück auf!\n",
         "19",
         "10",
         "3",
         "11004921",
         "Markus",
         "Töns",
         "SPD",
         "SPD"
        ],
        [
         "13",
         "194bbe7f-74c2-4e25-6524-08da0f22a008",
         "11004932",
         "Sehr geehrter Herr Präsident! Sehr geehrte Abgeordnete! Da ist wohl viel Freude im Himmel über reuige Sünder, die zur Tugend zurückfinden. Aber aufmerksame Beobachter haben nicht vergessen, dass es die FDP war, die schon den Anfängen der ganzen heutigen Chose nicht gewehrt hat. Im Dezember 2011 hätte sie – und nur sie! – den eigenen Mitgliederentscheid über die Überführung der EFSF in den ESM nicht mitmachen müssen. Sie hätte auch die größte deutsche Kapitulation seit dem 8. und 9. Mai 1945 nicht mitmachen müssen,\nnämlich die vom 7. bis 9. Mai 2010 in Brüssel, als der Sondergipfel aller griechisch-römischen, rechtsfreien Freistil-Euro-Rettungen stattgefunden hat.\nOb nun europäische Landwirtschafts-, Kohäsions- oder Sonderfonds und sogenannte Unionen aller Art,\nsie alle waren und sind nur eines: gigantische Mausefallen für den deutschen Steuerzahler.\nDie meisten davon haben auch schon zugeschnappt.\nKollege Weyel, ich wäre Ihnen dankbar, wenn Sie auf solche Dokumentationen verzichten würden. Das ist im Haus nicht üblich.\nIch habe sie jetzt nicht gespannt und lasse sie nicht von links nach rechts herumgehen. Das wäre vielleicht die richtige pädagogische Maßnahme.\nUnabhängig davon – wenn ich Sie unterbrechen darf – ist es im Hause nicht üblich, solche Dokumentationen vorzunehmen.\nDie reichlich unselige Koalition der FDP mit den großen Nicht-Steuerzahler-Parteien und eigentlich auch nichtbürgerlichen Parteien CDU und CSU wäre dann geplatzt. Es wäre ein Jahr früher gewählt worden. Vielleicht wäre dabei schon 2013 mehr für uns alle, insbesondere für die Bürger im Land, herausgekommen, mehr als seit September 2013 eine erste Merkel-GroKo mit noch unsäglicheren Fehlentscheidungen jedenfalls.\nHeute wird parallel zu Bankenunion und europäischer Einlagensicherung schon von einem EWF fantasiert, einem „Europäischen Währungsfonds“. Das ist übrigens so einer, der anders als alle anderen sein bzw. unser Geld nicht zurückhaben will,\nwie wir schon im letzten Jahr bei der Irlandschuldentilgung live gesehen haben. Vielleicht reicht Ihr Gedächtnis nicht. Das können Sie im Protokoll nachlesen.\nÜbrigens auch die mündigen Bürger auf der Tribüne und vor den Bildschirmen haben gesehen, gehört und vielleicht im Gedächtnis bewahrt, wie hier mit europäischen Dingen umgegangen wird.\nDas große europäische E – vor welchen Fonds oder Verträgen auch immer – steht ganz offensichtlich für e wie egal. Wie sehr die Dinge auch gegen den Vertrag oder den Geist von Maastricht bzw. eines freien Europas verstoßen mögen, sie werden trotzdem gemacht. Schon im Mai 2010 wurden mit deutschem Geld weniger die deutschen Banken gerettet als vielmehr die französischen. Deren nationale Unternehmensrisiken wurden einfach sozialisiert in diesem Finanzeuropa der Übervorteilung und Ausbeutung des deutschen Steuer- und Sparersäckels.\nEs ist im Großen und Ganzen übrigens ein Europa auch des Finanzrassismus, wo die Rettung konsumverwöhnter Südeuropäer viel mehr wert ist als etwa die Unterstützung ehrlicher Marktstrukturen in Afrika oder sonst wo auf der Welt. Geld kann man eben nur einmal ausgeben. Selbst Europäer können es nur einmal ausgeben. Die EU-Einkommensgleichheit wurde zwar noch nicht überall künstlich herbeisubventioniert, wohl aber die Einlagensicherungsgleichheit. Bereits bei der bestehenden EU-Einlagensicherung von 100 000 Euro pro Bankkunde stellt sich doch die Frage: Wie kommt ein einfacher und ehrlicher Grieche, Zypriot, Portugiese etc. eigentlich zu 100 000 Euro Sparvermögen? Auf grund­ehrliche Art und Weise etwa? Solche gibt es auch.\nDie Deutschen, die die Zeche anderer zahlen, brauchen offenbar selbst keine 100 000 Euro pro Person, da ihre gesamten Haushaltsvermögen gerade einmal 50 000 Euro ausmachen. Das hat die unsägliche EZB selbst berechnet in jenem Totalkapitulationsjahr restdeutscher Staatsräson anno 2010.\nWie lange soll es noch so weitergehen, dass deutsche Regierungen und Amtspersonen ein so miserables Geschäftsgebaren an den Tag legen zulasten des eigenen Souveräns? Das ist schon jenseits aller Wischiwaschipolitik auch in diesem Bereich. Das erinnert eher an eine Vichy-Waschi-Politik, mit umgekehrten Vorzeichen und umgekehrten Geldströmen freilich.\nMachen Sie als deutsche Regierung endlich normale bürgerliche Politik für ein normales bürgerliches Deutschland anstatt Politik für ein immer anormaleres Enteignungseuropa oder EU-topia.\nDanke. Wenn Sie so weit sind, sagen Sie uns Bescheid.\n",
         "19",
         "10",
         "3",
         "11004932",
         "Harald",
         "Weyel",
         "AfD",
         "AfD"
        ],
        [
         "14",
         "078b3c07-a700-4e24-6cb0-08da0f22a008",
         "11002003",
         "Frau Präsidentin! Liebe Kolleginnen und Kollegen! Es ist in dieser Debatte über den Iran sehr deutlich geworden, dass wir gemeinsam mit den USA und Israel die Sicherheit in der Region durch eine aggressive Entwicklung – auch mit Blick auf Nuklearwaffen – gefährdet sehen, der wir seit Jahrzehnten mit unterschiedlichen Mitteln entgegentreten. Ich darf daran erinnern, dass es in den 90er-Jahren sehr evidente Hinweise auf illegale Aktivitäten gab. Man hatte im Iran versucht, Zentrifugen zur Urananreicherung aus verschiedenen Komponenten zusammenzubauen. Durch teils sehr konkrete Berichte der Nachrichtendienste wurden wir immer wieder darauf hingewiesen, dass – ob in zwölf Monaten oder in zwei Jahren, jedenfalls in Reichweite – das Gelangen von Atomwaffen in iranische Hände gelingen könnte. Das Abkommen JCPoA war in diesem Zusammenhang ein fundamentaler Schritt in die richtige Richtung.\nNun haben wir die Situation – es ist mehrfach darauf hingewiesen worden –, dass die Variante, über ein scharfes Sanktionsregime zu erreichen, die wirtschaftlichen Potenziale des Landes so kleinzukriegen, dass es im atomaren Bereich keine Ausflüge mehr unternimmt, auf die Zeitschiene blickend durchaus mit Risiken behaftet ist. Wir können nicht genau sagen, wann und mit welchen Mitteln der Iran in der Lage ist, seine aggressive Politik, die mit den Namen Hamas, Hisbollah und Huthi-Rebellen verknüpft ist, mit entsprechenden Drohungen in Richtung nuklearer Waffen fortzusetzen. Deswegen müssen wir, was die Strategie angeht, zusammenhalten. Klar ist, dass wir gemeinsam mit d en USA und Israel über das Thema Sicherheit reden müssen. Man braucht nicht zu glauben, mit guten Worten und runden Tischen wäre im Iran etwas zu bewegen. Das wissen wir spätestens seit der danebengegangenen Revolution und den Versuchen vonseiten des Regimes der Mullahs, die zivile Regierung im Kern zu beschädigen.\nZum Thema Ranking. Es stellt sich die Frage, welches Land in der Region sich besonders unappetitlich, besonders schlimm verhält. Was die Zahl der Hinrichtungen betrifft, ist der Iran mit über 500 Hinrichtungen allein im Jahr 2017 weit vorn. Da kommt „nicht einmal“ – in Anführungszeichen – das in dieser Hinsicht verurteilungswürdige Saudi-Arabien mit.\nWir haben es im Iran mit einer Struktur zu tun, die auf aggressive ideologische Expansion und ideologische Absolutheit ausgerichtet ist. Wir werden die Kräfte im Iran stärken, die anders denken, und die gibt es sehr wohl. Meine Überzeugung ist, dass in manchen Teilen der Gesellschaft des Iran eine sehr westlich orientierte Gesellschaft vorhanden ist, die Potenzial hätte. Sie kann sich aber nicht leisten, zu gehen. Wir müssen daher das JCPoA weiter unterstützen.\nAllerdings erwarten wir von den Iranern, dass sie die Transparenz aufrechterhalten. Die Frage ist, ob es außerhalb des Iran nukleare Potenziale gibt, die dem Iran zuzurechnen sind. Die Frage ist auch, ob die von der internationalen Atomenergiebehörde geforderte Transparenz bei der Zulassung der Inspektoren zu einzelnen Anlagen wirklich eingehalten wird. Diese Fragen müssen jetzt beantwortet werden. Wir müssen gemeinsam mit unserem amerikanischen Bündnispartner die Aggression des Iran eindämmen und die Inbesitznahme von Nuklearwaffen verhindern. Ich halte das trotz aller Hektik und trotz der Nachrichtenlage für den Weg, der uns in die richtige Richtung führt, für einen friedlichen Weg.\n",
         "19",
         "100",
         "3",
         "11002003",
         "Christian",
         "Schmidt",
         "CSU",
         "CDU/CSU"
        ],
        [
         "15",
         "b0b1c2ee-655c-4b48-6038-08da0f22a008",
         "11002765",
         "Frau Präsidentin! Liebe Kolleginnen und Kollegen! Die Lage ist in dieser Debatte schon mehrfach beschrieben worden. Ich schließe mich der Beschreibung an: Die Lage ist wirklich ernst; sie ist wirklich besorgniserregend. Ich möchte mich darum in meinem kurzen Beitrag nur einer Frage zuwenden, nämlich der Frage: Was können, was müssen wir tun? Was ist die Schlussfolgerung für uns?\nMeine erste Anmerkung dazu ist die Frage: Wer ist „wir“? Ich glaube eben nicht, dass „wir“ die deutsche Politik ist, sondern es muss unmissverständlich klar sein, dass das Handlungsformat in dieser Frage die E3, die drei europäischen Staaten Frankreich, Großbritannien und Deutschland, plus die Hohe Beauftragte sind. In diesem Format müssen wir handeln. Aktionismus bringt hier nichts, sondern Realismus ist gefragt, meine Damen und Herren.\nDie zweite Frage ist: Was soll denn in diesem europäischen Handlungsformat geschehen? Ich bin der Überzeugung, dass wir – „wir“ im eben definierten Sinne – eine politisch-diplomatische Initiative entwickeln und einbringen müssen, die natürlich den unbedingten Einsatz für das Nuklearabkommen zum Inhalt hat, die aber gleichzeitig darüber hinaus geht. Wir müssen uns auf mehr vorbereiten, als nur auf der Position zu beharren: Es muss dieses Nuklearabkommen aufrechterhalten werden. – Das muss es, aber das reicht nicht mehr; denn in dem Fall, dass sich der Iran teilweise oder ganz aus dem Abkommen zurückzieht, ist dieses Abkommen tot. Auf diesen möglichen Fall müssen wir uns als Erstes schon jetzt vorbereiten.\n– Ja, wir müssen es zu verhindern versuchen; aber manchmal passieren Dinge, die wir nicht wollen. Darum müssen wir uns auf diese Dinge, die passieren, obwohl wir sie nicht wollen, einrichten, meine Damen und Herren; wir müssen vorbereitet sein.\nZweitens. Selbst wenn der Iran nicht aussteigt, können wir die Folgen, die der Komplettausstieg und die Wiedereinführung der Sanktionen durch die USA haben, nicht ignorieren. Wir müssen auch realistisch zur Kenntnis nehmen, dass wir nicht die Möglichkeit haben – wir haben es sorgfältig analysiert –, die wirtschaftlichen Folgen, die die Sanktionen der USA haben, zu kompensieren. Das knüpft an die einzigartige Stellung des Dollar im internationalen Finanzsystem an. Wir haben nicht die Möglichkeit, das auszugleichen und zu neutralisieren. Das müssen wir wissen, und wir müssen es sagen.\nDrittens. Im Zusammenhang mit dem Iran stellt sich nicht nur die Nuklearfrage. Vielmehr sind zahlreiche regionale Konflikte nur aufgrund der iranischen Politik da bzw. werden durch sie verschärft. Das heißt, wir müssen uns diesem Phänomen nähern und eine politische Antwort darauf entwickeln. Wie könnte diese politische Initiative, die wir zusammen entwickeln, aussehen?\nIch glaube erstens, diese Initiative muss der Politik der USA Rechnung tragen, weil sie ein Realfaktor in der Region ist. Zu glauben, wir könnten antagonistisch und dauerhaft konträr erfolgreich sein, ist keine realistische Annahme.\nZweitens müssen wir versuchen, der Interessenlage Irans Rechnung zu tragen. Ist das möglich? Nach meiner Einschätzung sieht sich der amerikanische Präsident Donald Trump nicht als Krieger, sondern als Dealmaker. Ich würde, Kollege Graf Lambsdorff, auch nicht jede Ankündigung der amerikanischen Regierung, sich nicht militärisch engagieren zu wollen, als verdeckte Ankündigung einer militärischen Intervention interpretieren.\n– Ja, nicht jede. – Ich glaube nicht, dass das ihr Interesse ist. Ich glaube, dass Trump die Soldaten nach Hause holen will, und zwar vor der Präsidentschaftswahl, und dass er keine neuen Kriege starten will; das ist meine Einschätzung.\nDonald Trump hat die Iraner auch zu Verhandlungen aufgefordert. Er hat gesagt: Kommt an den Tisch, um zu verhandeln.\nDas Interessante war, dass der iranische Staatspräsident Rohani nicht kategorisch erklärt hat: Das kommt überhaupt nicht infrage. – Vielmehr hat der iranische Staatspräsident gesagt: „So nicht!“, aber er hat nicht kategorisch Nein gesagt. Das ist bemerkenswert in dieser Lage. Das heißt, da ist noch ein Faden zwischen beiden Staaten, den USA und dem Iran, vorhanden. Dieser Faden besteht darin, dass trotz der Beschädigung und der Möglichkeit des Scheiterns des Nuklearabkommens der zugrundeliegende Gedanke dieses Abkommens nicht zerstört und beschädigt ist. Der zugrundeliegende Gedan ke war ja, ein Geschäft zu machen, um die Sicherheit vor dem Iran und die wirtschaftliche Entwicklung im Iran in ein Austauschverhältnis zu bringen; das ist der Grundgedanke des Nuklearabkommens.\nIch glaube, wenn man diesen Gedanken immer weiter lediglich auf das Nuklearabkommen bezieht, dann sind wir in einer Sackgasse. Wenn man ihn aber ausdehnt, wenn man auch die anderen Konflikte dieser Region einbezieht, also ein einzelnes nicht lösbares Problem vergrößert, dann könnten sich neue Möglichkeiten der Verhandlungsparität, der Verhandlungsbereitschaft ergeben. Das wird nicht von den USA und auch nicht vom Iran ausgehen, sondern das ist eine der Möglichkeiten, die die Europäer haben. Ich glaube, dass es notwendig ist, dass wir dies entwickeln, weil es an uns liegt.\nWir müssen grundlegend erkennen – das ist mein letzter Satz dazu –, dass wir, obwohl wir es uns nicht gewünscht haben, gegenüber der gesamten Region ein politisches Verhältnis entwickeln müssen. Das Schicksal dieser Region und das Schicksal Europas sind für lange Zeit nicht mehr voneinander zu trennen, und es gibt kein anderes Land, das unsere Interessen wahrnimmt. Wir müssen es selbst tun – wir, die Europäer.\nDanke sehr.\n",
         "19",
         "100",
         "3",
         "11002765",
         "Norbert",
         "Röttgen",
         "CDU",
         "CDU/CSU"
        ],
        [
         "16",
         "e239b29d-3892-47fd-9155-08da0e372f11",
         "11003197",
         "Sehr geehrte Frau Präsidentin! Liebe Kolleginnen und Kollegen! Beim Treffen der Petitionsausschussvorsitzenden von Bund und Ländern fiel die Bemerkung, dass Petitionen nützliche Flöhe im Pelz des Staates sind. Ich bin davon überzeugt, dass wir genau diese nützlichen Flöhe oder Seismografen des Parlaments brauchen und dass sie unser Handeln noch viel mehr beeinflussen sollten.\nAuch im letzten Jahr gab es wieder viele nützliche Flöhe, also Petitionen. Ich denke beispielsweise an die hier schon erwähnte öffentliche Petition mit über 217 000 Mitzeichnungen, in der es gegen den Entwurf des Terminservice- und Versorgungsgesetzes ging. Hier ging es insbesondere gegen die Diskriminierung einer ganzen Patientengruppe, der psychisch Kranken.\nWenn ich davon spreche, dass Petitionen, also die nützlichen Flöhe, unser Handeln viel mehr beeinflussen sollten, dann bin ich darüber enttäuscht und kann auch nicht verstehen, dass es im vergangenen Jahr nur einen einzigen einstimmigen Beschluss des Petitionsausschusses gab, der die Petition zur Erwägung an die Bundesregierung weiterleitete. Das ist ein absoluter Tiefpunkt der letzten Jahre und für Die Linke inakzeptabel.\nSeit vielen Jahren stellen wir fest, dass wir unser Petitionswesen attraktiver, offener und transparenter gestalten müssen. Aber die Vorschläge meiner Fraktion dazu wurden stets von einer Mehrheit im Ausschuss abgelehnt.\nEin weiteres Thema, das uns stets und ständig in jedem Jahresbericht bewegt, sind die DDR-Renten. Ja, ein altes Thema, aber für die Betroffenen ein sehr wichtiges! Denn Ungerechtigkeiten bleiben Ungerechtigkeiten, erst recht wenn sie schon 30 Jahre existieren.\nSeit nun mittlerweile fast 30 Jahren gehen im Petitionsausschuss Beschwerden über die Ostrenten ein, und jährlich werden es mehr. Erst in der vergangenen Woche hat die Fraktion Die Linke in einer Debatte über einen Tagesordnungspunkt im Plenum des Bundestages zum wiederholten Mal auf diese Ungerechtigkeiten aufmerksam gemacht. Jedoch wurden unsere Anträge von der Mehrheit des Hauses wieder einmal abgelehnt.\nNoch ein Thema, das mir unter den Nägeln brennt. Die junge Generation, unsere Kinder und Enkel, Schülerinnen und Schüler, Studenten und junge Eltern, hat sich politisiert. Sie protestiert weltweit gegen den Klimawandel. Und was macht die Koalition? Sämtliche Petitionen zum Dieselskandal, zum Klimaschutz, zur Plastevermeidung, zum Atombombenabzug aus Deutschland, zum Waffenexport und zu Lebensmittelcontainern wurden abgelehnt oder verschwinden bei der Bundesregierung in der Versenkung. Wann endlich will die Politik ihre Schuld bei der jungen Generation einlösen?\nWerte Kolleginnen und Kollegen, abschließend noch ein Wort von ehemaliger Ausschussvorsitzender zum amtierenden Ausschussvorsitzenden. Die übergroße Zahl der Petitionen richtet sich gegen Gesetze oder die Wirkung von Gesetzen, die die Koalitionsfraktionen beschlossen haben. Wenn dann die Petitionen bzw. die Flöhe zu diesen Gesetzen eingehen, dann muss man das aushalten, auch wenn man einer Koalitionsfraktion angehört.\nSehr geehrter Herr Wendt, Ihre medialen Aktionen gegen eine Petition der Evangelischen Kirche zum Tempolimit auf Autobahnen waren kein gutes Aushängeschild für unseren Petitionsausschuss; denn Petentenschelte geht einfach gar nicht.\nIch hoffe, dass solche Aktionen gegen Petenten in der Öffentlichkeit einmalig waren und dass wir zukünftig gemeinsam an der Erhöhung der Attraktivität und der Wirksamkeit der Arbeit unseres Ausschusses arbeiten und Petenten nicht verprellen.\nHerzlichen Dank.\n",
         "19",
         "100",
         "4",
         "11003197",
         "Kersten",
         "Steinke",
         "DIE LINKE.",
         "Die Linke"
        ],
        [
         "17",
         "b20e31e6-4a7d-4186-666c-08da102a68d8",
         "11003746",
         "Frau Präsidentin! Meine sehr verehrten Damen und Herren! Herr Minister Maas, es schien, als hätten Sie hier ein altes Redemanuskript vorgetragen, weil die aktuelle Zuspitzung, gerade im Persischen Golf, wo die Kriegsgefahr minütlich wächst, in Ihrer Rede überhaupt nicht vorkam. Seit Tagen dauert der militärische Aufmarsch der USA an. Heute überschlagen sich die Eilmeldungen. Die USA haben ihr Botschaftspersonal aus dem Irak abgezogen. Die Bundesregierung setzt die Ausbildungsmission der Bundeswehr im Irak hastig aus, sagt aber gegenüber Öffentlichkeit und Parlament nicht, warum. Was weiß die Bundesregierung über die Pläne der USA?\nDas wollen wir von Ihnen wissen, Herr Maas.\nVonseiten der Trump-Administration sind öffentlich immer mehr direkte Drohungen zu vernehmen, im Iran militärisch einzugreifen. „Bomb Iran“, fordert der US-Sicherheitsberater John Bolton schon seit Jahren. Der demokratische US-Präsidentschaftskandidat Bernie Sanders warnte dazu heute Nacht – ich zitiere –: John Bolton will uns in einen Krieg gegen den Iran lügen, wie er es bereits im Fall des Irak getan hat und wie sie es im Fall Vietnam getan haben. – Ich sage Ihnen: Auch wir in Deutschland und Europa wollen nicht in einen Krieg gelogen oder getrieben werden.\nHierbei ist es wichtig, dass man Klartext spricht. Bereits die Androhung von Gewalt durch die USA ist ein ­eklatanter Verstoß gegen Artikel 2 Absatz 4 der UN-Charta und stellt einen Bruch des Völkerrechts dar. Wieso verurteilt die Bundesregierung diese US-amerikanischen Kriegsdrohungen nicht als das, was sie sind, nämlich als einen Bruch des Völkerrechts?\nIch finde, es ist ein Armutszeugnis ohnegleichen, dass die Bundesregierung der Torpedierung des Iran-Atomabkommens durch die USA nichts Substanzielles entgegengesetzt hat. Sie erwarten immer noch, dass sich Iran an das Atomabkommen hält. Ja, aber wir halten uns doch selber nicht daran. Das Iran-Geschäft ist doch zu über 50 Prozent zurückgegangen. Deutsche Unternehmen werden durch die US-amerikanischen Sanktionen unter Druck gesetzt und ziehen sich raus aus dem Geschäft. Deshalb ist hier Aufwachen das Gebot der Stunde, und nicht so zu tun, als wenn wir hier die Situation von vor einem Jahr hätten.\nWorum geht es den USA? Geht es in der Region um Demokratie und Menschenrechte oder um Regime Change, um einen durch eine Militärintervention unterstützten Putsch, um die Ressourcen des Landes unter Kontrolle zu bringen und den Iran als einen geopolitischen Widersacher des eigenen Verbündeten, nämlich der Kopf-ab-Diktatur Saudi-Arabien, auszuschalten?\nEin Blick in die Geschichte der amerikanisch-iranischen Beziehungen zeigt, dass es zumindest in der Vergangenheit kein einziges Bemühen der USA um demokratische Verhältnisse im Iran gab. 1953 unterstützte die CIA den Putsch gegen den demokratisch gewählten Ministerpräsidenten Mossadegh, weil er sich erdreistet hatte, die Ölreserven des Iran zu verstaatlichen und damit dem Zugriff westlicher Konzerne zu entziehen. In der Folge unterstützte Washington jahrzehntelang die blutige Diktatur des Schahs.\nVor diesem Hintergrund muss man sich natürlich auch einmal die andere Bilanz einer Regime-Change-Politik anschauen. 2003 wurde der Irak überfallen und Saddam Hussein gestürzt. Die Folge war die Zerstörung der ganzen Region und der Aufstieg der islamistischen Banden wie al-Qaida oder IS. Der Regime Change wurde damals durch einen Wirtschaftskrieg vorbereitet. Auf die Frage, ob es noch vor dem Krieg notwendig war, durch Boykott von Medikamenten und Nahrungsmitteln den Tod von 500 000 Kindern im Irak zu verantworten, antwortete die ehemalige US-Außenministerin Madeleine Albright – ich zitiere –:\nIch glaube, das ist eine sehr schwere Entscheidung, aber der Preis – wir glauben, es ist den Preis wert.\nWer über 500 000 Kinderleichen geht, um eine unliebsame Regierung zu stürzen, ist ein Verbrecher. Unsere Aufgabe als Demokraten ist es, nicht zuzusehen, wenn diese Verbrecher das nächste große Verbrechen in der Region begehen.\nDeshalb ist jetzt Handeln angesagt, bevor es zu spät ist. Sagen Sie klar und deutlich Nein zum Krieg gegen den Iran. Sagen Sie klar und deutlich Nein zu den Überflugrechten der USA über Deutschland und Europa. Und sagen Sie auch klar und deutlich Nein zur Nutzung der US-Stützpunkte in Deutschland für die Kriegsvorbereitungen.\nErst dann ist die Bundesregierung glaubwürdig, wenn sie behauptet, dass sie gegen die Eskalation und gegen einen neuen Krieg in der Region ist.\n",
         "19",
         "100",
         "3",
         "11003746",
         "Sevim",
         "Dağdelen",
         "DIE LINKE.",
         "Die Linke"
        ],
        [
         "18",
         "3db34479-03dc-481e-5eb2-08da0f22a008",
         "11003753",
         "Herr Präsident! Meine sehr verehrten Damen und Herren! Das Abkommen mit dem Iran, mit dem er auf Atomwaffen verzichtet und mit dem gleichzeitig bei uns Sanktionen gegen den Iran zurückgefahren werden, wurde überall als Erfolg gefeiert; das war es auch. Das Abkommen funktionierte. Für Trump war es ein schlechter Deal. Die USA stiegen aus. Warum? Der Iran würde sich nicht an die Vereinbarungen halten. – Die Internationale Atomenergie-Agentur hat das Gegenteil festgestellt.\nDieser ganze Vorgang erinnert mich ein wenig daran – vielleicht können Sie sich noch erinnern –, wie der damalige US-amerikanische Außenminister Colin Powell vor dem UN-Sicherheitsrat mit Bildern angeblicher Beweise für das Vorhandensein von Massenvernichtungswaffen im Irak vor der Kamera gewedelt hat. Hinterher hat sich herausgestellt: Das war schlichtweg gelogen. Es gab keine Massenvernichtungswaffen im Irak. Die ganze Weltöffentlichkeit ist „hinter die Fichte geführt worden“, wie die Kanzlerin so schön zu sagen pflegt. Ich traue in diesem Punkt den Amerikanern genau so weit, wie man einen Elefanten werfen kann.\nIch habe den Eindruck, hier soll der nächste Deal vorbereitet werden, der letztendlich wieder zu einem militärischen Konflikt in dieser Region führt.\nMeine Damen und Herren, die restlichen Vertragsparteien haben alle gesagt, sie wollten sich an dieses Abkommen halten. Es herrscht Einigkeit wie selten zuvor. Nun drohen die Amerikaner allen Firmen, die sich am Iran-Handel beteiligen, mit weiteren Sanktionen. Das ist vollkommen völkerrechtswidrig; das sind extraterritoriale Sanktionen.\nWas passiert? Inzwischen haben sich alle großen Unternehmen, auch die aus Europa, aus dem Iran zurückgezogen. Es gibt faktisch keine vernünftigen Wirtschaftsbeziehungen mehr. Die deutschen und europäischen Banken wickeln keine Zahlungen mehr mit dem Iran ab. Das SWIFT-System – SWIFT ist eine Genossenschaft nach belgischem Recht –, das weltweit bargeldlose Zahlungen abwickelt, hat den Iran gekappt. Die Telekom bei uns in der Bundesrepublik hat sogar die Leitungen abgestellt, sodass die iranischen Banken nicht mehr telefonieren können. Aufzüge in den entsprechenden Gebäuden in der Bundesrepublik werden nicht mehr repariert. So hält man ein Abkommen mit dem Iran nicht ein, liebe Kolleginnen und Kollegen.\nDie Frage ist natürlich: Was hat die Bundesregierung unternommen, um dieses Abkommen wirklich aufrechtzuerhalten? Herr Maas, es ist ja schön, dass Sie da sind. Ich habe den Eindruck: Das, was hier an Reaktionen kam, war wirklich Maulheldentum; denn faktisch haben die Bundesregierung und die Europäische Union so gut wie nichts unternommen, damit dieses Abkommen von Europa aus weiter eingehalten wird, und das ist das Problem, meine Damen und Herren.\nMan könnte jetzt sagen: Die EU hat die sogenannte Blocking-Verordnung reaktiviert. Sie verbietet es europäischen Unternehmen, den Sanktionen der USA Folge zu leisten. Die Auslegung dieser Verordnung sieht allerdings vor, dass die Unternehmen mit Verweis auf geschäftspolitische Entscheidungen tun und lassen können, was sie wollen, und im Ergebnis haben sie das Iran-Geschäft aufgegeben. Sie machen im Übrigen sogar mehr als notwendig; denn selbst in den Bereichen, die in die US-Sanktionen nicht einbezogen wurden, ist der Handel praktisch zusammengebrochen.\nDoch selbst jene, die weiter ihr Iran-Geschäft aufrechtzuerhalten versuchen, können die Zahlungen nicht mehr abwickeln. Dafür bräuchte es unabhängige Zahlungskanäle. Was haben die Bundesregierung und die Europäische Union unternommen, um den Zahlungsverkehr zwischen dem Iran und den Unternehmen, die weiter handeln wollen, im Interesse der Aufrechterhaltung dieses Abkommens zu gewährleisten? Was ist mit ­INSTEX als Instrument, dass dieser Zahlungsverkehr aufrechterhalten werden kann? Es ist faktisch funktionslos. Warum gelingt es eigentlich China, der Schweiz, Indien und Südkorea, so ein System aufzubauen, während Europa und die Bundesregierung so was nicht hinkriegen?\nDie „taz“ titelte dazu: „Europäische Maulhelden“.\nUnd sie schreibt:\nDer mangelnde Mut kann ziemlich ungemütliche Folgen haben. Nicht nur wird Washington die Europäer außenpolitisch noch weniger ernst nehmen als bisher schon – auch jenseits des Konflikts um den Atomdeal. Auch die iranische Regierung wird nicht mehr glauben, dass Europa den US-Sanktionen noch etwas entgegensetzen kann.\nWarum sollten sie eigentlich das Abkommen weiterführen, wenn gleichzeitig deutlich wird, dass die Europäer sich ebenfalls nicht daran halten, wie die Amerikaner? Warum haben Sie denn eigentlich nicht die Möglichkeiten ausgenützt? SWIFT ist zum Beispiel ein Unternehmen nach belgischem Recht. Wo sind die Initiativen der Bundesregierung, dass dieses Unternehmen den Zahlungsverkehr übernimmt? Haben Sie zum Beispiel mit den Sparkassen in der Bundesrepublik gesprochen, die ja nun weniger Geschäfte mit den USA machen, um dort möglicherweise wenigstens den Zahlungsverkehr aufrechtzuerhalten? Nein, die Bundesregierung hat in der Frage der Einhaltung des Abkommens total versagt.\nIch sage Ihnen, meine Damen und Herren: Wenn das so weitergeht, brauchen wir uns nicht zu wundern, wenn die Lage dort so eskaliert. Die Bundesregierung ist ihrer Verantwortung nicht gerecht geworden.\nKommen Sie zum Schluss, Herr Kollege.\nIch bin gleich so weit. – Ich sage der Bundesregierung: Nutzen Sie endlich die Möglichkeiten, die Sie haben, und zwar rasch! Die Bundesregierung hat versagt. Wir sind keine amerikanische Kolonie. Machen Sie uns auch nicht dazu!\n",
         "19",
         "100",
         "3",
         "11003753",
         "Klaus",
         "Ernst",
         "DIE LINKE.",
         "Die Linke"
        ],
        [
         "19",
         "2a29c4f7-3879-40d5-6842-08da0f22a008",
         "11003881",
         "Frau Präsidentin! Meine Damen und Herren! Der Iran ist zweifelsohne ein ganz, ganz schwieriger Akteur im Nahen Osten. Die Sicherheitslage in der Region wird durch den Iran nicht gebessert, im Gegenteil: Die hochaggressive Regionalpolitik legt Feuer in vielen Länder. Die Menschenrechtslage im Land ist dramatisch und verschlechtert sich auch. Das Raketenprogramm des Landes ist hochaggressiv und besorgniserregend, und die Drohungen Richtung Israel sind selbstverständlich nicht akzeptabel.\nEin Problem mit dem Iran hatten wir aber eigentlich gelöst, zumindest für mindestens zehn Jahre, nämlich die Frage der atomaren Aufrüstung des Landes. Man kann darüber nachdenken, zu welchem Zeitpunkt man historisch ansetzt – und ja, der Iran ist ganz schwierig –, aber das Atomabkommen haben schon die Amerikaner aufgekündigt und nicht die Iraner. Das muss man an dieser Stelle vielleicht auch noch mal sagen.\nEs droht die Gefahr einer massiven Eskalation. Es ist verheerend, zu sehen, wie uns das Abkommen gerade aus den Händen gleitet. Und das hat selbstverständlich auch mit dem Erwartungsmanagement zu tun. Der Außenminister hat da gerade das Richtige gesagt: Das Abkommen hatte diese eine Funktion.\nDas Problem war, dass zu viele Erwartungen geweckt worden sind, auch von Deutschland. Der ehemalige und von mir hochgeschätzte Außenminister Steinmeier hat immer wieder gesagt: Wir wollen jetzt die Erfolge dieser Verhandlungslösung dafür nutzen, um mit dem Iran in Syrien zu einem Ergebnis zu kommen, und dabei ausgeblendet, dass das Geld, das der Iran durch das Abkommen bekommt, genau für diese aggressive Politik in Syrien ausgegeben wird, worunter gerade in diesem Augenblick die Menschen in Idlib leiden, auf die seit dem 1. April wieder massenweise Fassbomben fallen. Dafür trägt selbstverständlich auch der Iran eine große Verantwortung.\nDas Problem ist nun, Herr Außenminister, dass Sie mit diesem Erwartungsmanagement weitergemacht haben. Sie haben zu Anfang Ihrer Amtszeit, im Mai letzten Jahres, noch gesagt: Kein Problem, wir machen jetzt ein europäisches SWIFT-System. – Dann haben wir irgendwann mal nachgefragt, wann das denn kommt, was das denn bedeuten soll, was das ist. Wir haben von der Bundesregierung die schriftliche Antwort bekommen, das sei eine langfristige Option. Aber für langfristige Optionen haben wir keine Zeit mehr, und deshalb sollte man nicht solche Erwartungen schüren.\nDie amerikanische Seite eskaliert derzeit relativ schnell; sie marschieren militärisch auf. Die iranische Seite tut das auch. Das sieht man auch an den Truppenbewegungen innerhalb des Iran Richtung Persischer Golf. Die Amerikaner liefern massenweise Nukleartechnologie an Saudi-Arabien und rüsten sie auch noch auf, auch konventionell. Die Politik des maximalen Drucks richtet großen Schaden an. Es gibt Aussagen amerikanischer Offizieller, die sagen: Wir wollen, dass Teheran so verelendet wie Caracas, die Hauptstadt Venezuelas. Das ist nicht unbedingt eine Politik, die Vertrauen schafft auf der anderen Seite. Grundnahrungsmittel werden zunehmend knapp. Zucker ist seit einer Woche im Iran rationiert. Es wird jetzt sehr laut diskutiert, ob man Benzin rationiert. Die Menschen im Iran sind gefangen zwischen einer korrupten repressiven Regier ung auf der einen Seite und der Kriegsrhetorik und Kriegsgefahr, die die Amerikaner heraufbeschwören, auf der anderen Seite. Diese Spirale muss aufhören.\nAber es betrifft nicht nur die Menschen im Iran. Eine von zahlreichen Maßnahmen, die die Amerikaner jetzt zum Ende dieses Monats durchführen werden, ist, dass der Irak keinen Strom mehr aus dem Iran kaufen darf. Ein Drittel des Stroms im Irak kommt aber derzeit aus dem Iran, und niemand weiß, wie er ersetzt werden soll. Das ist in Washington einfach beschlossen worden. Das wird die Menschen im Irak natürlich vor immense Probleme stellen, was dann wiederum auch Auswirkungen auf die Sicherheitslage im Irak hat, und zwar nicht nur durch die aggressive Politik des Iran, sondern das ist natürlich auch Wasser auf die Mühlen derjenigen, die stets versuchen, die Amerikaner dort zu bekämpfen. Diese beidseitige Ignoranz führt dazu, dass sich in Teheran und Washington derzeit die Hardliner die Hand reichen.\nDas Problem ist, dass in zahlreichen Staaten, auf zahlreichen Schauplätzen am und im Persischen Golf – im Libanon, im Irak, in Syrien, in Afghanistan, in Jemen –, die iranischen und die amerikanischen Soldaten teilweise Nase an Nase voreinander stehen. Wenn auch nur einer die Nerven verliert, dann ist die Lunte extrem kurz, bevor die Situation massiv eskaliert. Und das liegt an der derzeitigen Sprachlosigkeit.\nDeshalb stelle ich mir die Frage, warum der Außenminister in dieser Sekunde nicht dort hinfährt, am besten gemeinsam mit den EU-Kollegen, um zu vermitteln, damit es wenigstens nicht zu dieser Eskalation kommt. Diesen Vorschlag habe ich neulich gemacht. Aus der Union und der SPD hieß es dann: Was soll er denn dort tun? – Ja, das ist doch der Sinn von Diplomatie, dort hinzufahren, um wenigstens die akute Kriegsgefahr anzusprechen,\nwenigstens darauf zu drängen, dass die Iraner mit den Amerikanern ins Gespräch kommen bzw. das amerikanische Gesprächsangebot annehmen, und dafür zu sorgen, dass es dann wenigstens so etwas wie ein rotes Telefon gibt, damit die Situation am Persischen Golf nicht eskaliert.\nMan könnte auch einige Angebote machen, zum Beispiel angesichts der Dürre im Iran Hilfe zu leisten. Man könnte auch anbieten, dass wir uns darum kümmern, dass Krebsmedikamente wieder ins Land kommen; denn diese kommen wegen der Sanktionen zurzeit nicht hinein. Natürlich könnte man die Frage stellen, ob der Iran denn ernsthaft glaubt, ein Wettrennen um die Atombombe gegen Saudi-Arabien gewinnen zu können. Während der Iran eine bauen müsste, könnten die Saudis einfach eine kaufen. Das anzusprechen, ist zwingend notwendig.\nEs geht wirklich darum, einen Krieg zu verhindern, der wahrscheinlich – auch für uns – noch dramatischere Folgen hätte als der Irakkrieg 2003, der verheerend genug war; denn am Ende eines solchen Konfliktes stehen nicht nur Verdammnis und Verderben, sondern auch noch eine nuklearisierte Zone in unserer unmittelbaren Nachbarschaft.\n",
         "19",
         "100",
         "3",
         "11003881",
         "Omid",
         "Nouripour",
         "BÜNDNIS 90/DIE GRÜNEN",
         "Bündnis 90 / Die Grünen"
        ],
        [
         "20",
         "6105b22e-08d0-45d2-0353-08da0f05b642",
         "11004050",
         "Frau Präsidentin! Liebe Kolleginnen und Kollegen! Zu meiner Vorrednerin möchte ich nur sagen: Mit plumper antiamerikanischer Polemik\nwerden wir die Krise mit Sicherheit nicht in den Griff bekommen.\nBemerkenswert ist ja, dass sich im Grunde die gesamte Welt – das hat sich auch in der UN-Resolution ausgedrückt – mit Blick auf das Ziel einig ist. Wir wollen den Iran – diplomatisch ausgedrückt – einhegen, insbesondere in Bezug auf seine vier aggressiven Handlungsweisen: den Plan, eine Bombe zu bauen; den Plan, Raketen zu entwickeln, die diese Bomben verschießen können, zum Beispiel nach Israel oder sogar nach Europa; die massive antiisraelische Propaganda, die der Iran regional, überregional und weltweit verbreitet; und nicht zuletzt die Förderung des Terrorismus des Iran im Jemen, in Syrien, im Irak, im Libanon, an der Grenze zu Israel, im Norden Israels und im Gazastreifen, wie wir es ganz massiv in den letzten Tagen erlebt haben. Wir sind uns in den Zielen einig. Aber es gibt seit der Diskussion um das Atomabkommen die nicht überwundene Meinungsverschiedenheit, was die richtige Strategie ist.\nAuch schon zu Obamas Zeiten, der das Abkommen mit verhandelt, unterschrieben und befördert hat, hat es einen Streit darüber gegeben, ob der Iran durch die Wirtschaftssanktionen an einem Punkt sei, wo er zu wesentlich weiteren Zugeständnissen bereit sein müsste, als er das am Ende beim Abkommen gezeigt hat. Wir Europäer haben immer gesagt, dass wir bezweifeln, dass dieser Zustand erreicht ist. Wir glauben bis heute, dass letztlich andere in der Welt es im Zweifel gar nicht zulassen würden, dass es zu einer Art politischer Kapitulation des Iran gegenüber der amerikanischen Drohung kommt, weil zum Beispiel Russland und andere nicht zulassen würden, dass Iran in dieser Weise vorgeführt wird. Deswegen sagen wir: Diese massive Druck- und Drohtaktik, mit Wirtschaftssanktionen das Land auf die Flurplatten zu zwingen, wie man es bei der Marine sagen würde, wird nicht verfangen. Deswegen haben wir gesagt: Wir gehen den Weg über dieses Abkommen.\nEs gibt ein arabisches Sprichwort: Ein Vogel in der Hand ist besser als zehn Vögel auf dem Baum. – Viele fühlen sich erinnert an unser europäisches Sprichwort von dem Spatzen und der Taube. Wenn verschiedene Kulturen zur Beschreibung eines vergleichbaren Phänomens einen ähnlichen Sinnspruch haben, dann könnte man darüber nachdenken, ob vielleicht etwas daran ist. Ich glaube tatsächlich, dass wir uns mit Blick auf den JCPoA mehr erhofft haben. Wir haben gedacht, damit öffnen wir ein Stück weit die Türen des Iran für die Welt. Wir ani mieren die jungen Menschen im Iran, zu sehen , dass es noch etwas anderes gibt als Wächterrat und Mullahregime. Wir kommen in eine neue Dimension der Gespräche mit Blick auf die übrige aggressive Handlungsweise.\nDas hat sich leider alles nicht erfüllt. Dennoch: Im Blick auf das Ziel der Verhinderung der atomaren Bewaffnung hat uns das Abkommen tatsächlich ein Stück weiter gebracht, als es vorher der Fall war. Die massive Kritik, die ich an der amerikanischen Regierung übe, ist, dass die amerikanische Regierung – das ist im Übrigen in der Handelspolitik auch nicht anders –, dass der amerikanische Präsident Dinge, die er auf der Habenseite hat, zum Beispiel ein solches Abkommen und entsprechende Handelsvereinbarungen, riskiert, ohne diese Lücke tatsächlich mit einer besseren Alternative füllen zu können. Es ist ein ungeheures Vabanquespiel, darauf zu setzen, dass man vielleicht in der Zukunft mehr erreicht, als man heute in der Hand hat, und es vor diesem Hintergrund leichtfertig aufzugeben.\nIch finde, es ist die neue Dimension in der amerikanischen Politik, dass das überlegte, besonnene, kluge Vorgehen ersetzt wird durch dieses eruptive Vorgehen. Man könnte fast sagen, er hat Schumpeters zerstörerischen kreativen Prozess falsch verstanden. Man muss schon wissen, was man am Ende wie neu bauen will, wenn man etwas aufgibt oder einreißt. Diesen Eindruck haben wir leider nicht.\nDeswegen sind wir in einer ausgesprochen schwierigen Situation. Ich finde, dass der Bundesaußenminister und die Bundesregierung auf europäischer Ebene eine gute Politik vertreten und mit durchgesetzt haben. Ich habe allerdings auch meinen Zweifel, ob wir tatsächlich eine Chance haben, das Abkommen zu erhalten. Aber dieses Abkommen, dieser Spatz in der Hand, ist besser als die Taube auf dem Dach.\nWenn man mit israelischen Wissenschaftlern, ehemaligen Generalen, Think-Tank-Experten hinter den Kulissen spricht, hört man sogar aus israelischen Mündern: Na ja, wir würden uns mit Blick auf den Iran natürlich etwas anderes vorstellen. Aber das Abkommen ist besser als nichts. – Deswegen sollten wir alles versuchen, die Amerikaner doch noch zum Umdenken zu bewegen.\nHerzlichen Dank.\n",
         "19",
         "100",
         "3",
         "11004050",
         "Jürgen",
         "Hardt",
         "CDU",
         "CDU/CSU"
        ],
        [
         "21",
         "31e16c07-cb08-4128-03e1-08da0f05b642",
         "11004124",
         "Sehr geehrte Frau Präsidentin! Liebe Kolleginnen und Kollegen! Was diese Debatte für mich ein Stück weit auszeichnet, ist, dass wir doch eines sehr genau sehen: In der Lage, in der wir und in der im Moment viele Länder sind, dürfen wir uns nicht einer Schwarz-Weiß-Malerei hingeben. Es zeichnet gerade Deutschland aus, dass wir die Dinge sehr nüchtern betrachten, dass wir wirklich versuchen, zu schauen, was dort passiert, und versuchen, sehr nüchtern zu analysieren, was unser Beitrag dazu sein kann, eine gewisse Rhetorik und Eskalation zu verhindern.\nIch möchte deshalb noch einmal daran erinnern – es wurde in ein, zwei Beiträgen schon genannt –, wie euphorisch viele von uns im Jahr 2015 waren. Was war das eigentlich für eine Situation vorher? Und dann kam dieses Abkommen, der Joint Comprehensive Plan of Action, den wir hier immer abkürzend bezeichnen. Immerhin: China, Frankreich, Großbritannien, Russland, die USA, Deutschland und die EU haben mit dem Iran diesen Pakt vereinbart. Wir hatten damals doch ein Stück weit das Gefühl: Jetzt kann auch mehr Frieden im Nahen Osten möglich sein; gerade die Abrüstungsbemühungen könnten weltweit unterstützt werden. – Man darf auch eines nicht vergessen: Das Abkommen kam zu einem Zeitpunkt, als der Iran eigentlich schon seine Atombombe hatte; er war ja kurz davor. Es war also wirklich ein großer und wichtiger Schritt.\nWo stehen wir nun heute? Knapp vier Jahre später haben wir eine enorme Ernüchterung, die Euphorie ist gewichen, und wir haben den Ausstieg der USA aus dem Abkommen vor einem Jahr, für den es zumindest augenscheinlich keinen Anlass gab; auch das muss man sagen. Außer einem Versprechen in einem Wahlkampf, das vielleicht darauf hindeutete, dass so etwas passieren kann, gab es zu dem Zeitpunkt keine weiteren Hinweise. Die Wiederaufnahme von Wirtschaftssanktionen hat dann natürlich eine Eskalation in Gang gesetzt. Das ist brandgefährlich; auch das wurde heute schon gesagt. Wir müssen deshalb sehr darauf drängen, dass wir alle Parteien ein Stück weit von den Bäumen, auf die sie sich begeben haben, herunterbekommen.\nUm auch das hier einmal deutlich zu sagen: Bisher konnten wir uns immer darauf verlassen, dass Nachfolgeregierungen Verabredungen ihrer Vorgänger so lange einhielten, bis alle Vertragspartner Änderungen zugestimmt haben. Das ist in diesem Fall nun leider nicht passiert. Ich glaube, daran müssen wir sehr stark erinnern; denn es ist ein fatales Signal. Vertrauen und Verlässlichkeit sind die wichtige Grundlage für internationale friedliche Beziehungen zueinander.\nNun gibt es diesen Höhepunkt bei den Wirtschaftssanktionen, die militärischen Drohgebärden – wir haben ja im Moment das Telefon alle neben uns, sehen jeden Moment neue Nachrichten ankommen, die uns nicht gerade ruhig stimmen – und das Ultimatum des Irans, welches wir alle zurückweisen. Es darf natürlich nicht sein, zu fordern, in 60 Tagen eine Lösung zu finden. Deshalb, glaube ich, ist es richtig, dass die Bundesregierung und ihre EU-Partner sehr deutlich machen: Wir lehnen ein solches Ultimatum ab.\nWir wollten immer an diesem Abkommen festhalten; der Außenminister hat da s auch noch mal deutlich gemacht. Wir haben einen europäischen Weg beschrieben. Auch die Vertragspartner China und Russland sind in diese Gespräche eingebunden und weichen nicht dem aufgebauten Druck. Deshalb muss man hier festhalten: Eine weitere Verschärfung des Konflikts oder gar ein Krieg muss unter allen Umständen verhindert werden. Dazu müssen wir sehr laut, natürlich auch von dieser Stelle aus, rufen, dass wir uns für einen friedlichen Dialog einsetzen und zu einer Lösung des Problems kommen wollen.\nWir müssen dem Iran auch deutlich machen, welchen Nutzen das Abkommen bringt. Wir müssen aufzeigen, wie ein für die Wirtschaft und für die humanitäre Versorgung der Bevölkerung ausreichendes Maß an Export wieder möglich sein kann. Es ist doch das iranische Volk, welches am allermeisten unter den aktuellen Sanktionen leidet; einige Redner haben das angesprochen. Die Wirtschaft wird in die Knie gezwungen.\nUnd was mir wirklich Sorgen macht: Wenn hier keine Verbesserung zutage kommt, dann muss man doch befürchten, dass sich große Teile der iranischen Bevölkerung – darunter Frauen und Gewerkschafter –, die sich bis heute für Demokratie, für eine offene Gesellschaft und für eine Annäherung an Europa eingesetzt haben, von uns abwenden, weil sie völlig frustriert sind aufgrund der Tatsache, dass wir sie dort alleine lassen und diese Rhetorik unerwidert lassen. Wir müssen wirklich sehr stark darauf hinwirken, dass dieses Abwenden nicht passiert.\nMein letzter Punkt: Die zugesagten Erleichterungen müssen vorangetrieben werden. Ich glaube – auch wenn wir das sicherlich noch besprechen müssen –, dass der neuentwickelte Finanzmechanismus INSTEX verkündet werden muss. Aber es muss nun auch bald eine erste Transaktion durchgeführt werden; sonst ist das wirkungslos.\nIch sage es noch einmal: Wir akzeptieren keine Ultimaten.\nFrau Kollegin.\nAber wir sollten denjenigen im Iran helfen, die das Abkommen JCPoA unterstützen. Die Operationalisierung von INSTEX ist hier entscheidend.\nKollegin Özoğuz, Sie müssen jetzt den Punkt setzen.\nJa, ich bin fast fertig. – Unsere diplomatischen Bemühungen müssen weiter gestärkt werden.\nVielen Dank.\n",
         "19",
         "100",
         "3",
         "11004124",
         "Aydan",
         "Özoğuz",
         "SPD",
         "SPD"
        ],
        [
         "22",
         "f51e6077-88b3-49d4-fe8c-08da0daf380d",
         "11004150",
         "Sehr geehrte Frau Präsidentin! Sehr geehrte Abgeordnete! Sehr geehrte Petentinnen und Petenten! Vorab mein Dank an die Mitarbeiter des Ausschussdienstes und an die Mitarbeiter in unseren Abgeordnetenbüros und in den Referentenbüros der Fraktionen: Ohne Ihren Einsatz wäre vieles für die Menschen nicht zu erreichen. Das höchste Votum in unserem Ausschuss lautet übrigens: Abschluss, weil dem Anliegen entsprochen worden ist. – Dieses höchste Votum gab es im Jahr 2018  1 209‑mal.\nIch finde, das ist eine große Leistung.\nAm 24. Juni findet die nächste öffentliche Beratung des Petitionsausschusses statt. Minister Spahn hat seine Teilnahme zum Thema Pflege bereits zugesagt. Ich lade herzlich den Minister Seehofer zum Beihilferecht und den Minister Scheuer zum Tempolimit ein.\nStellen Sie sich der Debatte. Ich finde, das sollte sich kein Minister entgehen lassen. Genauso würde ich mich freuen, wenn wir im September bei den Themen „Bienenschutz“ und „Klimaschutz“ die Ministerin Schulze begrüßen könnten.\nWir hatten in der letzten Wahlperiode eine sehr gute Anhörung zur Reform des Petitionsrechts. Ich stelle fest: Wir arbeiten solide, wir arbeiten bürgerorientiert. Es gibt aber Verbesserungsbedarf: Wir müssen schneller werden. Wir müssen transparenter werden. Bei jeder Bestellung im Internet kann man den Status verfolgen. Das muss bei Petitionen doch auch möglich sein. Wir müssen verständlich mit den Menschen kommunizieren. Was nützt der größte Erfolg, wenn die Entscheidung so mitgeteilt wird, dass sie keiner versteht.\nWir müssen öfter und besser über unsere Arbeit sprechen und für sie werben. Eine zusätzliche Debatte zur Halbzeit eines Jahres über aktuelle Themen wäre da schon einmal ein echter Fortschritt. Wie man Petitionen ins Plenum holen kann, hat der letzte Freitag gezeigt. Da wurden rentenpolitische Themen mit den dazugehörigen Petitionen verbunden. Mein Dank geht an die Redner der SPD, Daniela Kolbe und Ralf Kapschack, die das als einzige in der Debatte getan haben.\nWir sollten aber auch über einen grundsätzlichen Punkt nachdenken. Es steht diesem Haus gut an, über die Position eines Bürgerbeauftragten zu beraten. Ist das eine Möglichkeit, den Anliegen der Menschen mehr Kraft zu verleihen? Stärkt ein solches Amt die öffentliche Wahrnehmung? Stärkt es die Durchsetzungskraft der Petitionen? Ich glaube, gerade in den Konflikten des Einzelnen mit Behörden und Institutionen kann ein solches Amt sehr hilfreich sein. Das sollten wir hier in aller Breite und Ausführlichkeit miteinander beraten.\nNeu ist, dass das Petitionsrecht jetzt Eingang in die Krimiliteratur gefunden hat. Ich möchte kurz zitieren:\nNachdem sie mit der Klage gescheitert waren, hatten sie hin und her überlegt, was sie sonst noch unternehmen könnten: an den Petitionsausschuss des Bundestages schreiben, bis vor den Europäischen Gerichtshof gehen, eine Kampagne … auslösen …\nIch verrate nur noch, dass es für unsere Krimihelden deutlich besser gewesen wäre, sie hätten eine Eingabe an den Petitionsausschuss des Bundestages gemacht.\nWer mehr dazu wissen möchte, der lese bitte das Buch „Die Schattenbucht“ von Eric Berg.\nManche Petition könnte als Literaturvorlage dienen: als Krimi, als Drama, als Roman mit Happy End. Die Helden sind dabei die Menschen, die sich an uns wenden. Wir Abgeordnete sind dabei die Helfer. Niemals sollten wir Abgeordnete zu Hauptdarstellern und Autoren der Petitionen werden.\nDas Petitionsrecht ist das Recht der Menschen. Es ist ihre Möglichkeit, Einfluss zu nehmen und ihre Probleme hier im Bundestag auf die Tagesordnung zu setzen.\nWerden Abgeordnete und eine Fraktion hier zu Akteuren auf der Onlineplattform des Ausschusses, so missbrauchen und zerstören sie das Petitionsrecht, das im Grundgesetz verankert ist.\nGenau das haben Sie von der AfD getan, als Sie Mitarbeiter aus einem Abgeordnetenbüro zu Autoren und Akteuren von Petitionen gemacht haben.\nNehmen Sie das Recht der Menschen ernst! Machen Sie das Petitionsrecht nicht zum Instrument von Parteitaktik und Kampagnen!\nEs ist ein Bürgerrecht, ein Recht für Bürgeranliegen, und daraus erwächst die Kraft von Petitionen. Hören Sie auf, die Axt an das Petitionsrecht und damit an unser Grundgesetz zu legen.\nVielen Dank.\nIch schließe die Aussprache.\nLiebe Kolleginnen und Kollegen, wir sind damit am Schluss unserer heutigen Tagesordnung.\nIch berufe die nächste Sitzung des Deutschen Bundestages auf morgen, Donnerstag, den 16. Mai 2019, 9 Uhr, ein.\nDie Sitzung ist geschlossen. Ich wünsche Ihnen alles Gute.\n",
         "19",
         "100",
         "4",
         "11004150",
         "Stefan",
         "Schwartze",
         "SPD",
         "SPD"
        ],
        [
         "23",
         "2a7f5b64-362c-4792-76fc-08da0dadf9ca",
         "11004182",
         "Herr Präsident! Meine sehr verehrten Damen und Herren! Das war hoffentlich nicht Ihr Ernst, Herr Ernst, was Sie hier gerade vorgetragen haben. Es ist jedenfalls weitab der außenpolitischen Realitäten, innerhalb derer wir uns hier bewegen.\nEs ist vollkommen richtig, dass wir mit größter Sorge zum Persischen Golf blicken. Bei allem, was man zum amerikanischen Präsidenten kritisch sagen kann: Er hat sich schon im Wahlkampf – das ist auch im faktischen Handeln später so gewesen – als jemand erwiesen, der Truppen eher reduzieren und zurückziehen will. An manch einer Stelle haben wir sogar gesagt: Vielleicht nicht so schnell und noch nicht jetzt. – Also, dass da jetzt unmittelbar ein Krieg bevorsteht, glaube ich nicht ernsthaft. Dennoch ist die Sorge berechtigt, und wir müssen diesen Punkt auch ansprechen.\nIch möchte drei kurze Anmerkungen machen.\nErstens. Das Atomabkommen war und ist richtig. Es ist neben dem Klimaabkommen von Paris die wichtigste völkerrechtliche Vereinbarung, die in den letzten zehn Jahren geschlossen worden ist. Deutschland – die Bundesregierung, allen voran der damalige Außenminister Steinmeier und Bundeskanzlerin Angela Merkel – hat sich dafür eingesetzt. Wir sind stolz darauf, wir stehen zu diesem Abkommen, und wir fordern alle Seiten auf, dieses Abkommen weiter einzuhalten, liebe Kolleginnen und Kollegen.\nEs gibt kein besseres, kein nachhaltigeres Konzept, einen Staat von der Entwicklung von Atomwaffen abzuhalten und damit zumindest regional ein atomares Wettrüsten zu verhindern. Wir alle wissen mit Blick auf den Kaschmir-Konflikt, aber auch mit Blick auf die INF-Diskussion, die uns hier ganz unmittelbar betrifft, dass, wenn Atomwaffen erst einmal da sind, ihre Kontrolle und Einhegung umso schwerer werden. Deswegen gilt: Wehret den Anfängen! Es ist jedes diplomatischen Einsatzes wert, sich für dieses Abkommen zu engagieren.\nZweitens. Es war und ist richtig, dass Deutschland als einer der Geburtshelfer dieses Abkommens sich, abgestimmt mit anderen europäischen Staaten, klar positioniert hat. Herr Außenminister, dafür herzlichen Dank!\nDazu gehört erstens eine klare Aufforderung an den Iran, das Abkommen weiter einzuhalten; sonst drohen dem Land noch schärfere Sanktionen, und wir können ihm bei der Bewältigung dieser Krise noch weniger helfen. Da ist es schon mit Sorge zu registrieren, dass die Revolutionsgarden die aktuelle Situation als Chance für ihr Land begriffen haben. – Klare Botschaft von uns.\nDie zweite klare Botschaft, auch an die Vereinigten Staaten von Amerika, lautet, dass wir selbstverständlich zu einer abgestimmten solidarischen Politik mit unserem wichtigsten Verbündeten bereit sind, dass wir von diesem Verbündeten aber auch erwarten können, dass er eine nachvollziehbare und nachhaltige Iran-Strategie entwickelt. Eine Strategie nur des maximalen Drucks jetzt auf das Regime – ökonomisch und militärisch – führt nur dazu, dass die kooperationswilligen Teile des Regimes wie Präsident Rohani unter Druck geraten und dann ein ganz anderer Regime Change in Teheran droht als derjenige, den sich vielleicht manche in Washington erhoffen. Deswegen erwarten wir von unserem Bündnispartner hier eine klare Strategie und nicht einfach jeden Tag mehr Druck. Das führt zu nichts.\nApropos Regime Change: Die Verläufe im Irak und in Libyen zeigen, dass derartige Rechnungen selten aufgehen.\nIch möchte zur Sicherheitssituation in der Region sagen: Natürlich ist die iranische Politik für Israel eine Bedrohung. Israel wird sich, was seine Souveränität und seine Sicherheit angeht, immer auf Deutschland verlassen können, wenn seine Sicherheit ernsthaft in Gefahr ist. Aber in der jetzigen Situation gibt es weder einen Anlass noch irgendeine völkerrechtliche Berechtigung zur Anwendung militärischer Gewalt in dieser Region gegenüber dem Iran. Das muss unsere klare Position sein.\nEine letzte Bemerkung dazu: An dem Abkommen sind nicht nur Europäer beteiligt, sondern auch Chinesen und Russen; zu einigen davon haben Sie ja ganz gute Kontakte, Herr Ernst. Deswegen von dieser Stelle die Aufforderung auch an Russland, auch an China: Wenn Sie sich an einer Politik beteiligen wollen, die die weitere Proliferation von Atomwaffen verhindert, dann sind auch diese Staaten in der Verantwortung, diese Krisensituation zu lösen. Man kann sich nicht durch Wegducken aus der Verantwortung stehlen.\nDritte Bemerkung – das ist meine abschließende Bemerkung, Herr Präsident –: Es war und ist richtig, ein alternatives Finanzierungsinstrumentarium zur Verfügung zu stellen. Wir bleiben weiter aufgefordert, dem Iran zu helfen, und verbinden beides miteinander: die Aufforderung zur Einhaltung des Abkommens und die ausgestreckte Hand, um zu helfen, dass die wirtschaftliche Not in diesem Land gelindert wird.\nVielen Dank für die Aufmerksamkeit.\n",
         "19",
         "100",
         "3",
         "11004182",
         "Johann David",
         "Wadephul",
         "CDU",
         "CDU/CSU"
        ],
        [
         "24",
         "3c078107-ede6-4a1f-62b5-08da102a68d8",
         "11004222",
         "Frau Präsidentin! Meine sehr geehrten Damen und Herren! Liebe Kolleginnen und Kollegen! Ich freue mich, um diese Zeit hier stehen und den Bericht abgeben zu dürfen,\nausnahmsweise mal nicht in der Primetime, aber es ist mir trotzdem eine große Freude, hier sein zu dürfen. Dem Dank an die Kollegen aus dem Ausschuss schließe ich mich selbstverständlich an; dazu komme ich gleich.\nAllgemeines vorab: Der Petitionsausschuss kümmert sich um die Probleme und Belange der Bürgerinnen und Bürger. Er ist quasi der verlängerte Arm der Bürger ins Parlament. Wir haben es ja schon gehört: Im letzten Jahr haben uns über 13 000 Eingaben erreicht.\nMan kann es nicht oft genug betonen: Es reicht vollkommen aus, wenn eine Petition von einer einzigen Person unterschrieben wird. Das muss man immer wieder deutlich sagen, weil einige Leute glauben, man müsse großen Aufwand betreiben. Das ist nicht so. Jeder kann das ganz einfach machen.\nJede einzelne Petition wird beantwortet. Jede einzelne Petition wird auch bearbeitet. Manche Petitionen sind allgemeine Beschwerden. Das sind meistens die, die auch größere Beratung finden. Aber zwei Drittel aller Petitionen haben einen persönlichen Bezug. Da geht es um persönliche Belange. Diese werden nicht ins Internet gestellt oder jedenfalls nicht öffentlich beraten, um die Daten der Petenten zu schützen, was wir natürlich alle verstehen können.\nAber wenn eine Petition – das ist letztes Jahr öfter passiert – von mindestens 50 000 Menschen unterstützt wird, bekommt sie eine ganz besondere Beachtung: Wir beraten sie in öffentlichen Sitzungen; auch das haben wir schon gehört. Im Juni 2018 haben wir zum Beispiel öffentlich über eine Reform des wettbewerblichen Abmahnwesens diskutiert.\nEine Frau hat in ihrer Familienzeit ein kleines Modelabel gegründet. Ihre Produkte vertreibt sie übers Internet. Bei einer Produktbeschreibung hat sie eine Prozentangabe vergessen. Sie hat einen Fehler gemacht, es war ein Flüchtigkeitsfehler. Trotzdem wurde sie von einem Abmahnverein abgemahnt. Wir, eigentlich alle, hatten selbstverständlich großes Verständnis für ihre Beschwerde; denn die Zahl missbräuchlicher Abmahnungen nimmt leider immer mehr zu. Sie betreffen besonders diejenigen, die sich schwer oder schlecht wehren können.\nDie FDP hat deshalb das Thema aufgegriffen und einen Antrag in den Bundestag eingebracht. Seit September 2018 liegt auch ein Entwurf des Ministeriums der Justiz und für Verbraucherschutz vor. In den letzten Monaten wurden Stellungnahmen von den betroffenen Verbänden eingeholt. Heute – darüber freue ich mich sehr – wurde im Kabinett über einen Gesetzentwurf abgestimmt, der dann in Kürze in den Bundestag kommt und den wir hier beraten dürfen.\nDas freut mich für diese Petentin gewaltig. Ich finde, das ist ein großer Erfolg.\nEs hat also etwa ein Jahr gedauert, bis aus der Petition gegen missbräuchliche Abmahnungen ein Gesetz geworden ist oder werden soll.\nLeider dauert es häufig deutlich länger, bis über die Anliegen der Petenten entschieden wird. Das liegt oft an § 109 der Geschäftsordnung, wir sagen immer „109er-Verfahren“: Wenn ein Thema auch in einem Fachausschuss beraten wird, ruht so lange die Beratung im Petitionsausschuss. Manchmal lässt man sich im Fachausschuss aber sehr viel Zeit. Manchmal möchte die Regierung einen Beschluss auch hinauszögern, so unser Gefühl.\nDabei haben wir die Möglichkeit, Fristen zu setzen. Wir können sagen: Bis dahin wollen wir das haben. – Diese Möglichkeit sollten wir, liebe Kollegen, viel öfter nutzen.\nÜber öffentliche Anhörungen bekommen Petitionen, wie gesagt, schon jetzt viel Aufmerksamkeit. Noch mehr Beachtung für Petitionen gäbe es, wenn wir sie hier im Plenum beraten würden. Deshalb sollten wir den Menschen die Möglichkeit geben, wichtige Anliegen auf die Tagesordnung des Deutschen Bundestages zu setzen.\nWir werden die Möglichkeit dazu in nächster Zeit beraten. Wir haben eigentlich schon beschlossen, dass wir darüber reden.\nWir haben letztes Jahr auch öffentliche Sachverständigenanhörungen durchgeführt. Dieses Format mit unabhängigen Experten sollten wir wirklich öfter nutzen.\nGroßes öffentliches Interesse gab es auch bei zwei Ortsbesichtigungen; Kollege Wendt hat davon schon berichtet. Außerdem gab es mehrere nichtöffentliche Gespräche, bei denen uns Vertreter von Ministerien und Behörden Rede und Antwort gestanden haben.\nVielen ist nicht klar, dass der Petitionsausschuss selber gar keine Gesetze erlassen oder ändern kann. Das geht leider nicht. Es wäre schön, wenn wir das manchmal könnten. Der Petitionsausschuss kann aber die Bundesregierung auffordern, zu handeln. Dabei gibt es mehrere Abstufungen. So können wir der Regierung eine Petition zur Berücksichtigung überweisen. Damit bitten wir sie, dem Anliegen des Petenten zu entsprechen. Jetzt fragen Sie sich sicher: Wie oft ist das im letzten Jahr passiert? Kein einziges Mal.\nWir können die Petition der Bundesregierung auch zur Erwägung überweisen. Damit bitten wir sie, das Anliegen des Petenten noch einmal zu überprüfen und nach Möglichkeit nach Abhilfe zu suchen. Das war letztes Jahr ein Mal der Fall.\nDie Koalition hat im Petitionsausschuss die Mehrheit, das wissen wir. Leider ist das so. Wir sind sechs Fraktionen, zwei Fraktionen sind hier immer maßgebend. Wenn die Vorschläge gut sind, machen wir mit. Manchmal versuchen wir, die Vorschläge zu ändern. Wir wünschen uns, dass es andere Möglichkeiten gäbe; denn auch die Opposition würde gerne gewisse Sachen auf den Weg bringen, was von den Kollegen der Koalition leider blockiert wird.\nIch möchte noch ein Beispiel nennen. Eine junge Deutsche lebt und arbeitet in Nordrhein-Westfalen. Einmal pro Woche fährt sie in die Niederlande, weil sie dort eine Weiterbildung macht. Auf dem Weg zur Hochschule fährt ihr ein Lkw ins Auto. Weil der Unfall in den Niederlanden passiert ist, wollte die deutsche Berufsgenossenschaft die Kosten nicht übernehmen; ein Fall, bei dem wir uns alle einig waren. Es ist klar: Wir wollen offene Grenzen und mehr Zusammenarbeit innerhalb Europas. Dann muss die Regierung auch dafür sorgen, dass den Menschen daraus keine Nachteile entstehen, auch wenn es eine grenzüberschreitende Angelegenheit ist. Das war eine von den Petitionen, die wir gemeinsam beschlossen haben.\nNatürlich kann nicht jede Forderung erfüllt werden. Aber über 1 200‑mal konnte dem Anliegen der Petenten entsprochen werden, in mehr als 3 600 Fällen konnte der Ausschuss mit Rat und Auskunft helfen. Dabei bedanke ich mich besonders bei den fleißigen Mitarbeiterinnen und Mitarbeitern des Petitionsausschusses; der Dank muss natürlich sein. Ich bedanke mich auch bei den Kolleginnen und Kollegen aus dem Ausschuss. Denn wir haben überwiegend ein sehr gutes Verhältnis, auch wenn wir nicht immer übereinstimmen. Der persönliche Respekt voreinander ist großartig. Es macht mir sehr viel Freude, in diesem zeitaufwendigen, arbeitsintensiven Ausschuss zu arbeiten, alleine schon wegen der guten Kollegialität.\nZu guter Letzt – –\nZu guter Letzt sollte in Zukunft die Danksagung in der Redezeit schon enthalten sein.\nDer letzte Satz. – Ich möchte alle Mitbürger und Mitbürgerinnen auffordern: Wenn Sie Probleme haben, wenden Sie sich direkt an den Deutschen Bundestag. Hier kommen Ihre Petitionen richtig an. Jede einzelne wird bearbeitet. Wir kümmern uns darum.\nVielen Dank.\n",
         "19",
         "100",
         "4",
         "11004222",
         "Manfred",
         "Todtenhausen",
         "FDP",
         "FDP"
        ],
        [
         "25",
         "a6cfda96-151e-48cd-6959-08da0f22a008",
         "11004256",
         "Sehr verehrte Frau Präsidentin! Meine Kolleginnen und Kollegen! Als letzter Redner in der Aktuellen Stunde zum Iran-Abkommen und zur Entwicklung im Iran und im Nahen Osten zu sprechen, ist zweifelsohne nicht leicht. Noch schwieriger ist es, nach den vielen Vorrednern den entsprechenden Bogen zu spannen.\nIch hatte ursprünglich vorgehabt, damit einzusteigen – das will ich Ihnen nicht vorenthalten –, dass ich vor weit über einem Jahr niemals gedacht hätte, dass ich, wenn ich an Donald Trump, Mike Pompeo und Bolton denke, Donald Trump für den Vernünftigsten halte. Ich sage das deshalb, weil ich bei Donald Trump zumindest einen Plan erkenne, nämlich den Plan, das Lebenswerk seines Vorgängers Barack Obama zu zerstören und das seinen Wählerinnen und Wählern gegebene Versprechen einzuhalten, die amerikanischen Truppen aus dem Einsatz im Ausland zurückzuziehen.\nDie Aufkündigung des JCPoA-Abkommens passt nicht zur Entwicklung, die sich derzeit im Persischen Golf und im Nahen Osten abspielt. Tagtäglich kommen neue Meldungen über Drohnenangriffe auf saudi-arabische Pipelines. Wir wissen nicht, von wem das ausgeht, wir können uns nur die Frage stellen: Cui bono, wem nützt es? Wir stellen fest, dass Sabotageakte auf Handelsschiffe und Tanker verübt werden. Wir wissen nicht, von wem das ausgeht, wir können nur die Frage stellen: Wem nützt es? Wir stellen außerdem fest, dass das Atomabkommen aufgekündigt wurde mit dem Ziel, den Iran zu destabilisieren und wirtschaftlich in die Knie zu zwingen, was zwar ein legales, aber in meinen Augen unsinniges Vorgehen darstellt.\nSeit der Aufkündigung des Iran-Abkommens hat sich ganz deutlich gezeigt, dass alle Druckmaßnahmen gegen ein autoritäres Regime zu Gegendruck führen und nicht zu vernünftigen diplomatischen Gesprächen, die notwendig sind, damit die Menschen im Iran – dort leben rund 80 Millionen anständige Menschen, die mit ihrem täglichen Leben zu kämpfen haben – nicht noch mehr an das Regime gebunden werden.\nDas Auswärtige Amt und Bundesminister Heiko Maas setzen sich zu Recht mit den europäischen Partnern für eine Deeskalation ein. Es ist richtig, dass wir im Ziel alle miteinander dafür arbeiten müssen, das Iran-Abkommen zu halten; denn es stellt für uns in Europa und für die gesamte Region ein Stückchen Sicherheit und ein Stückchen Entfernung von nuklearer Aufrüstung dar.\nWir leben in einer Welt, in der nicht alles so läuft, wie wir das wollen. Wir wünschen uns viel. Wir hätten uns im Nahen Osten eine andere Entwicklung gewünscht, aber die Entwicklung hat nun einmal diesen Weg genommen. Die Aufkündigung des Vertrags ist ein schwerer Schlag, und der Druck, der derzeit dadurch aufgebaut wird, ist nicht unbedingt hilfreich, um uns hinsichtlich Transparenz und notwendiger Kontrollmechanismen ein Stück weiterzubringen.\nDeshalb glaube ich, meine sehr verehrten Damen und Herren, dass es gut ist, dass das Auswärtige Amt mit den europäischen Partnern eine Allianz schmiedet, eine Allianz, die wir auch eine Allianz der Willigen nennen können, eine Allianz derjenigen, die wollen, dass im Iran und im Nahen Osten Frieden herrscht; derjenigen, die wollen, dass es im Iran und um den Iran herum keine nukleare Aufrüstung gibt; derjenigen, die wollen, dass im Iran und um den Iran herum die vernünftigen Menschen die Oberhand gewinnen und dieses Land und diese Region eine Chance, eine Perspektive für die Zukunft haben. Wenn uns das gelingt, dann haben wir, glaube ich, unseren europäischen Beitrag geleistet. Zu diesem Beitrag können, glaube ich, ein vernünftiger amerikanischer Präsident und ein vernünftiger iranischer Präsident nur Ja sagen; denn beide hätten einen wirtschaftlichen Benefit davon. Sie könnten sagen: Das hat uns etwas genützt.\nHerzlichen Dank.\n",
         "19",
         "100",
         "3",
         "11004256",
         "Karl-Heinz",
         "Brunner",
         "SPD",
         "SPD"
        ],
        [
         "26",
         "626e4a5a-0343-4749-f534-08da0daf380d",
         "11004324",
         "Sehr geehrte Frau Präsidentin! Werte Kolleginnen und Kollegen! Liebe Bürgerinnen und Bürger hier im Saal und am Fernseher zu Hause! Das ist auch eine Informationsveranstaltung für Sie. Wir sollten hier im Parlament viel öfter über die Möglichkeiten des Petitionswesens sprechen.\nDas tun wir nämlich viel zu selten, nur einmal im Jahr. Einfach unglaublich, ist doch dieses Recht ein ganz entscheidender Bestandteil des demokratischen Systems in unserer Republik! Gerade angesichts der drohenden Rechtsruckbewegung ist es umso wichtiger, dass wir diese Rechte hochhalten.\nDas Petitionswesen ist die Möglichkeit für die Bürgerinnen und Bürger, sich direkt in das Geschehen im Parlament einzubringen. Andersherum ist es auch für uns Abgeordnete eine Möglichkeit, das aufzunehmen, was den Bürgern auf der Seele brennt. Wir haben die Möglichkeit, dazuzulernen durch die Erfahrungen, die die Bürgerinnen und Bürger in unserem Land machen, und dies in unsere Arbeit im Parlament, in den Ausschüssen, mit den Ministerien aufzunehmen. Das sollten wir auch unbedingt tun.\nLeider muss ich trotzdem etwas Kritisches bemerken: Diese direkte Beeinflussung des Geschehens findet leider viel zu selten statt. Wir haben festgestellt, dass im Jahre 2018 nur 0,7 Prozent der parlamentarisch bearbeiteten Petitionen tatsächlich dazu geführt hat, dass sich an dem Gesetzgebungsverfahren etwas verändert. Das, liebe Kolleginnen und Kollegen, ist einfach zu wenig.\nWir sollten uns nicht scheuen, die Argumente der Bürgerinnen und Bürger aufzunehmen. Es ist immer etwas Wahres daran.\nVor dem Hintergrund, dass wir Mitglieder des Petitionsausschusses uns oft als Anwälte der Bürgerinnen und Bürger bezeichnen, bin ich – das muss ich sagen – sehr enttäuscht, wenn die Kollegen, die die Große Koalition stützen, sich immer wieder vor diese Koalition stellen und sich zu ihrem Verteidiger machen. Das ist nicht Ihre Funktion. Sie müssen helfen, dass die Regierung erreicht, was uns die Bürger ins Stammbuch geschrieben haben.\nDeshalb ganz deutlich: Wir sollten auch Petitionen, die nicht sofort zu einer Änderung des Gesetzes führen oder schon im Koalitionsausschuss auf der Agenda stehen, an die Regierung überweisen, weil sie damit zum Verändern bestimmter Positionen angeregt wird. Das kann doch nur gut sein für das parlamentarische Verfahren.\nAbschließend noch ein Punkt. Wir würden gerne mehr aus dieser Arbeit herausholen. Wir haben dazu verschiedene Vorschläge gemacht: mehr Öffentlichkeit, ein anderes Abstimmungsverhalten, mehr direkte Arbeit mit der Regierung und die Teilnahme von Regierungsmitgliedern an Ausschusssitzungen. Das wünschen wir uns. Machen Sie mit, damit wir diese Arbeit verbessern.\nKollegin Kassner, auch Sie müssen jetzt bitte zum Schluss kommen.\nJa. – Ich möchte mich auch sehr herzlich beim Ausschusssekretariat und bei all en Mitarbeitern für die fleißige Arbeit bedanken.\nVielen Dank.\n",
         "19",
         "100",
         "4",
         "11004324",
         "Kerstin",
         "Kassner",
         "DIE LINKE.",
         "Die Linke"
        ],
        [
         "27",
         "d7a57261-bead-4c0f-0155-08da0f05b642",
         "11004390",
         "Herr Hebner, ich habe überhaupt keine Lust, auf Sie einzugehen,\nweil ich mich Wochen und Monate mit Ihnen beschäftigen musste. Das ist überhaupt nicht zielführend.\nIch möchte hier alle noch einmal darauf hinweisen: Ich habe aus einem Artikel zitiert. Wenn Sie ihn nicht gelesen haben, sollten Sie das tun; denn in dem Artikel werden auch Sie zitiert und als geistiger Brandstifter entlarvt. Der Artikel ist am 14. April 2019 im Berliner „Tagesspiegel“ unter dem Titel „Wie gefährlich ist rechte Desinformation im Netz?“ erschienen. Ich rechne nicht damit, dass Sie irgendetwas daraus gelernt haben. Sie haben sich bis heute nicht entschuldigt für das Unheil, das Sie angerichtet haben.\nSie haben viele Menschen in der Verwaltung hier zutiefst in die Bredouille gebracht. Sie wissen ganz genau, was Sie getan haben.\nWenn Sie das bis heute nicht einsehen, dann haben Sie null Unrechtsbewusstsein und aus meiner Sicht in diesem Hohen Haus überhaupt nichts verloren.\n",
         "19",
         "100",
         "4",
         "11004390",
         "Corinna",
         "Rüffer",
         "BÜNDNIS 90/DIE GRÜNEN",
         "Bündnis 90 / Die Grünen"
        ],
        [
         "28",
         "aafd4aa2-8d63-4789-5ef2-08da0f22a008",
         "11004390",
         "Sehr geehrte Frau Präsidentin! Liebe Demokraten und Demokratinnen! Ich möchte mich als Allererstes bedanken bei den Mitarbeiterinnen und Mitarbeitern des Ausschussdienstes, die eine unglaubliche Arbeit machen. Alle, die ein bisschen mit dem Petitionswesen vertraut sind, wissen: Es gibt viel zu viel Arbeit für viel zu wenige Mitarbeiterinnen und Mitarbeiter. Wir sollten nicht nur sonntags von der Wichtigkeit des Petitionswesens reden, sondern dafür sorgen, dass unsere Strukturen so ausgebaut werden, dass wir vernünftig auf die Anliegen der Bürgerinnen und Bürger eingehen können.\nBedanken möchte ich mich auch ganz herzlich für die gute Zusammenarbeit mit den allermeisten Kolleginnen und Kollegen in diesem Ausschuss; es ist mir ganz wichtig, das zu sagen.\nAber wir wollen ehrlich bleiben. Ich möchte zum Ausdruck bringen, dass ich mir wünsche, dass wir die Luft, die wir nach oben haben, tatsächlich konsequent nutzen.\nDer Petitionsausschuss ist – das muss man sagen – ein besonderer Ausschuss. Er arbeitet auf andere Art und Weise als andere Ausschüsse. Er ist ein Ausschuss, wo Parteiprogramme, wo Fraktionszwänge beiseitegelassen werden sollen. Unsere Aufgabe ist, auf die Anliegen der Menschen zu schauen, die sich an uns wenden, die sich häufig in prekären Situationen befinden und unsere Unterstützung brauchen. Aber leider wirkt der Ausschuss sehr häufig wie ein Regierungsausschuss, wo die Mehrheiten entscheiden, wo die Große Koalition auf ihrem Standpunkt beharrt und wo viel zu selten auf den Punkt geschaut wird, an dem wir gemeinsam aktiv werden müssten,\nan dem wir im Zweifel in die Auseinandersetzung mit der Bundesregierung gehen müssten, um etwas zu bewegen. Das ist die Luft nach oben, die ich meine.\nEs ist gar nicht so schwierig, über den politischen Schatten zu springen. Ich weiß, dass sich viele gerade in der SPD-Fraktion sehnlich wünschen, dass wir die Potenziale ausschöpfen, die wir haben. Herr Todtenhausen, ich möchte Ihnen sagen: Es macht unheimlich viel Freude, mit Ihnen zusammenzuarbeiten. Sie sagen zum Beispiel solche Sätze: Ich habe mir das noch einmal angeschaut, und man kann den Grünen hier guten Gewissens zustimmen. – Ihre Art, mit diesem Ausschuss umzugehen, führt dazu, dass ganz andere Konstellationen zustande kommen, dass Linke, FDP und Grüne zu gemeinsamen Positionen im Interesse der Bürgerinnen und Bürger in diesem Land finden. Herr Todtenhausen, Sie sollten stilbildend sein. Ich freue mich auch über Herrn Ebbing, ebenfalls ein neues Mitglied in diesem Ausschuss – er ist nicht anwesend –, der einfach sagt: Ich finde dieses Thema so interessant; ich will eine Berichterstattung. Ich will mich damit vertieft auseinandersetzen. – Der Witz ist: Er tut es dann auch. Da überwinden wir Gräben. FDP und Linke können in diesem Ausschuss zusammenarbeiten. Warum sollten SPD und CDU/CSU diesem Beispiel nicht folgen? So könnten wir gemeinsam etwas in Bewegung bringen; das wäre eigentlich unser Anliegen. Dann könnten wir stolz auf den Ausschuss sein, in dem wir alle gerne zusammenarbeiten.\nJetzt Spaß beiseite! Es ist nötig, dass wir eine andere Form der Zusammenarbeit finden; denn dieser Ausschuss ist ein total wichtiges Mittel gegen den erstarkenden Rechtspopulismus und Rechtsextremismus in diesem Land,\ngegen eine Diskursverschiebung nach rechts, die wir alle seit Jahren erleben und von der wir wissen, dass sie stattfindet. Wir haben eine Antwort zu geben. Unser Petitionsausschuss ist ein potenzieller Mutmacher. Er will Menschen Mut machen, mitzumachen, aktiv zu sein, Gesellschaft zu gestalten. Er will Bürgerinnen und Bürger einbeziehen, sie schützen und sie stärken. Das ist eine Perle, mit der wir es hier zu tun haben.\nDas Grundrecht in Artikel 17 des Grundgesetzes gilt für jeden, unabhängig von Geschlecht und Hautfarbe. Ob ich Geld habe oder nicht, spielt hier keine Rolle. Jeder, der für Gerechtigkeit in diesem Land kämpfen möchte, ist aufgefordert, das Recht in Artikel 17 wahrzunehmen. Damit sind Artikel 17 und der Petitionsausschuss an sich ein natürliches Mittel gegen Hass, Hetze und Ausgrenzung; das sollten wir uns deutlich machen.\nGenau deshalb dürfen wir nicht zulassen, dass Spalter und Populisten das Petitionsrecht für sich instrumentalisieren\nund letztendlich das Vertrauen in die Demokratie aufs Spiel setzen. Es geht hier also um etwas ganz Elementares. Wir reden nicht leichtfüßig über einen Jahresbericht; wir reden über etwas sehr Elementares.\nWir haben Versuche erlebt, diese Instrumentalisierung durchzuziehen, und das hat zum Teil ja auch geklappt. Ich zitiere aus einem Artikel über den UN-Migrationspakt.\nFrau Rüffer, gestatten Sie eine Frage oder Bemerkung des Abgeordneten Hebner?\nNein. – „All das begann im Frühjahr 2018 im Büro des AfD-Bundestagsabgeordneten Martin Hebner“, heißt es in einem Artikel im Berliner „Tagesspiegel“ mit dem Titel „Wie gefährlich ist rechte Desinformation im Netz?“ vom 14. April 2019, den ich allen empfehle zu lesen, die es noch nicht getan haben. Herr Hebner ist heute hier. Er ist Mitglied des Petitionsausschusses. Aus seinem Büro heraus wurde diese Petition, diese Kampagne der AfD lanciert. Sie hat Zweifel gesät und Falschnachrichten gesendet; sie hat den gesamten Diskurs vergiftet.\nAm Ende des Artikels heißt es – das möchte ich gerne noch zitieren; ich komme zum Ende –:\nUnd es geht keineswegs nur um bloße Worte, denn diese können schnell zu Waffen werden. Als Mitte März ein Mann im neuseeländischen Christchurch 50 Muslime erschießt, steht auf seiner Maschinenpistole: „Hier ist euer Migrationspakt“.\nUnd jetzt wisset, womit wir es zu tun haben. Das hier ist kein Spaß. Wir müssen um unsere Demokratie kämpfen.\nHerzlichen Dank.\n",
         "19",
         "100",
         "4",
         "11004390",
         "Corinna",
         "Rüffer",
         "BÜNDNIS 90/DIE GRÜNEN",
         "Bündnis 90 / Die Grünen"
        ],
        [
         "29",
         "aee0bfa7-475b-448d-490c-08da0e9b3c58",
         "11004397",
         "Sehr geehrte Frau Präsidentin! Liebe Kolleginnen und Kollegen! Meine Damen und Herren! Ich denke, man kann bei dieser Debatte ruhig noch einmal betonen: Der Petitionsausschuss ist einer der wichtigsten Ausschüsse des Deutschen Bundestages.\nIch habe es noch keine Minute bereut, Mitglied dieses Ausschusses zu sein; das kann ich auch nach über fünf Jahren voller Überzeugung bekräftigen, und das gilt, obwohl sich auch im Petitionsausschuss sicherlich der Ton verändert hat. Doch zum Glück arbeitet die große Mehrheit im Ausschuss sachlich, kollegial und mit Interesse an den Petitionen der Bürgerinnen und Bürger.\nEine Petition einreichen zu können, ist ein Grundrecht. Dieses Recht steht – das will ich betonen – jedem und jeder Einzelnen, auch der Gemeinschaft, auch Verbänden und Organisationen zu. Unsere Aufgabe im Petitionsausschuss ist es, den Inhalt der Petition zu prüfen und zu bewerten. Wir bewerten nicht, wer die Petition eingereicht hat, ob es sich um einen Verband, eine Gewerkschaft oder eine Kirche handelt. Insofern ist das Petitionsrecht urdemokratisch und muss dies auch sein, meine Damen und Herren.\nEine Petition an den Deutschen Bundestag ist, wie bereits dargestellt, sehr einfach eingereicht. Man braucht keinen Daumen hoch oder eine bestimmte Zahl an Unterschriften. Petitionen müssen auch nicht durch Parteigremien. Petitionen an den Deutschen Bundestag werden ohne große Öffentlichkeit und ohne Medienrummel Tag für Tag bearbeitet. Wir nehmen jede Petition ernst. Wir schauen ganz genau hin und stellen die Sorgen und Nöte der Petentinnen und Petenten in den Mittelpunkt.\nWichtig ist aber, dass Petitionen tatsächlich beim Deutschen Bundestag eingereicht werden. Im Internet schmücken sich viele mit dem Wort „Petition“ und simulieren damit gesellschaftliches Engagement. Dort kann man sich erregen – wirklich etwas verändern können Sie aber nur dann, wenn Sie Ihre Petition an den Deutschen Bundestag richten.\nDer Petitionsausschuss des Deutschen Bundestages ist das Instrument echter Bürgerbeteiligung. Ich kann nur dazu aufrufen, dieses auch zu nutzen.\nPetitionen sind zudem ein wichtiger Seismograf unserer Gesellschaft: Welche Themen bewegen? Wo werden Änderungen erwartet? Ich stelle beispielsweise fest, dass der Tier- und der Umweltschutz immer stärker in den Fokus der Diskussion in der Bevölkerung treten. Im vergangenen Jahr haben zu diesem Themenbereich sieben öffentliche Anhörungen stattgefunden, zum Beispiel zum Verbot von Tierversuchen und zum Verbot von biologisch nicht abbaubaren Verpackungen. Das in der EU kommende Verbot von Einwegplastik wurde in vielen Petitionen gefordert. Auch der Klimawandel bewegt den Petitionsausschuss. Im nächsten halben Jahr sind öffentliche Anhörungen zum Klimaschutz und zum Schutz von Bienen und Insekten auf unserer Tagesordnung. Wir werden auch über das Tempolimit diskutieren, nicht nur mit Blick auf umweltpolitische Fragen, sondern auch mit Blick auf die Frage der Verkehrssicherheit.\nMan sieht, das Spektrum der von Bürgerinnen und Bürgern eingereichten Petitionen ist breit. Ich finde, diese Möglichkeit, die seit 70 Jahren besteht, hat sich außerordentlich gut bewährt und muss fortgesetzt werden.\nIch danke Ihnen für Ihre Aufmerksamkeit und den Mitarbeiterinnen und Mitarbeitern des Ausschussdienstes und in den Büros für ihre Arbeit.\nIn diesem Sinne: Glück auf!\n",
         "19",
         "100",
         "4",
         "11004397",
         "Udo",
         "Schiefner",
         "SPD",
         "SPD"
        ],
        [
         "30",
         "b0dbac7f-6648-41b3-9948-08da0ffa5a12",
         "11004441",
         "Sehr geehrte Frau Präsidentin! Meine sehr geehrten Damen und Herren! Das Jahr 2018 war für den Petitionsausschuss des Deutschen Bundestages nicht nur ein überaus ereignis- und arbeitsreiches Jahr, sondern auch ein durch eine Reihe kontroverser, aber auch lebendiger Diskussionen gekennzeichnetes Jahr. Auch wenn solche Diskussionen emotional sein können, weil jeder von uns nur das Beste für unsere Bürgerinnern und Bürger erreichen will, behandeln wir immer alle Anliegen der Petenten sorgfältig. Die mitgeteilten Sorgen und Nöte nehmen wir sehr ernst.\nJedermann, egal welchen Alters oder welcher Staatsangehörigkeit, hat das Recht, sich mit Bitten zur Gesetzgebung oder Problemen mit Bundesbehörden an uns zu wenden. Wir als Petitionsausschuss sind dazu verpflichtet, die Petition anzunehmen, sie sorgfältig zu prüfen und zu entscheiden. Zugleich dienen Petitionen dem Parlament als wichtiger Gradmesser für die Umsetzung von Gesetzen, weil sie aufzeigen, wo es Unstimmigkeiten und Handlungsbedarf gibt.\nBevor ich diesbezüglich auf ein paar Fakten eingehe, möchte ich kurz ein Thema ansprechen, das mir besonders am Herzen liegt. Als stolzer Vorsitzender des Petitionsausschusses lege ich Wert darauf, dass alle von Petenten angesprochenen Themen mit Ernst und Respekt behandelt werden. Ich fordere aber auch, dass meine Kollegen, so wie die Petenten, trotz unterschiedlicher Positionen unsere Arbeit fair behandeln. Es hat mich deshalb umso mehr entsetzt, als manche Kollegen der Opposition die Petition zum Thema „Global Compact for Migration“ für eigene politische Zwecke zu missbrauchen versuchten.\nDieses Verhalten hat zudem die Konsequenz ausgelöst, dass einige Anhänger dieser Petition, meine Mitarbeiter im Büro und ich von Tausenden beleidigenden E-Mails und Anrufen – in einer teilweise ausgesprochen vulgären Sprache – überwältigt wurden. Anzeigen bei der Bundestagspolizei und Hausdurchsuchungen waren die Folge. Meine Damen und Herren, ein solches Verhalten verurteile ich aufs Schärfste. Auch wenn wir Diskussionen leidenschaftlich führen, muss der Umgang miteinander respektvoll bleiben.\nWas mich besonders erfreut, ist, dass die Zahl der eingegangenen Petitionen im Vergleich zum Vorjahr um fast 15 Prozent auf 13 189 Petitionen angestiegen ist.\nAls starker Befürworter der Digitalisierung begrüße ich es ausdrücklich, dass sich die Zahl der Mitzeichnungen auf der Onlineplattform des Ausschusses gegenüber dem Vorjahr vervierfacht hat, auf 685 000. Diese Anstiege zeigen, dass sich die Bürgerinnen und Bürger unseres Landes wieder stärker engagieren und von den demokratischen Möglichkeiten der Mitbestimmung Gebrauch machen.\nDie Mehrzahl der Petitionen bezieht sich auf den Bereich Arbeit und Soziales – sie machen circa 16 Prozent aus –, gefolgt – auch infolge des zu Beginn dieser Wahlperiode vorgenommenen Zuständigkeitswechsels – von Petitionen zum Zuständigkeitsbereich des Bundesministeriums des Innern, für Bau und Heimat: 15 Prozent aller Petitionen. An dritter Stelle, knapp dahinter, liegt das Bundesministerium der Justiz und für Verbraucherschutz.\nIm Berichtszeitraum haben sich mehr als eine halbe Million Personen neu im Portal des Petitionsausschusses angemeldet. Mit 2,6 Millionen registrierten Nutzerinnen und Nutzern ist es nach wie vor der Spitzenreiter unter den Internetangeboten des Deutschen Bundestages. Ich glaube, wir fordern zu Recht die Nutzung von Responsive Design, sodass bald auch per Smartphone eine Petition eingereicht werden kann.\nSehr wichtig finde ich, dass es einzelne Berichterstattergespräche mit Vertretern einzelner Behörden und Ministerien gab und die Abgeordneten im Rahmen dieser Berichterstattergespräche sensible und oft schwierige Einzelfälle klären konnten. Diese Gespräche finden nicht im öffentlichen Raum, in der öffentlichen Debatte statt. Es ist vielmehr die Kernarbeit des Ausschusses, für den Bürger im Kleinen zu streiten und gute Lösungen zu erreichen. Themen dieser Gespräche waren zum Beispiel Visaangelegenheiten, Asylverfahren, der Schutz vor Fluglärm, die geplante Schließung einer Wetterwarte des Deutschen Wetterdienstes oder auch die Berufszulassung von Ärzten.\nWenn wir den Fall auf Basis der Aktenlage einmal nicht genau erkennen und entscheiden können, begeben wir uns vor Ort. Bei zwei Ortsterminen haben wir versucht, Lösungen zu finden. Die historische Eisenbahnbrücke von Albbruck im Süden unseres Landes sollte abgerissen werden. Gemeinsam mit der Bürgerinitiative haben wir geprüft, ob das ganze Verfahren so weit in Ordnung war. In einem zweiten Ortstermin wurde die Trasse der B 87 bei Lübben geprüft; es ging um Fragen des Lärmschutzes. Auch dieser Termin verlief sehr erfolgreich für den Ausschuss.\nIch darf erwähnen, dass auf der Petitionsplattform des Deutschen Bundestages insgesamt 886 Petitionen veröffentlicht wurden, 183 Petitionen mehr als im Vorjahr. Unsere Bürger haben die Möglichkeit, die Petitionen auf der Internetplattform zu diskutieren und durch elektronische Mitzeichnung zu unterstützen. Ich sage aber auch – Stichwort: Respekt –: Auf dieser Plattform haben Hass und Hetze keine Chance. Deswegen gehen wir rigoros dagegen vor, wenn jemand unsere Spielregeln dort missbraucht.\n– Getroffene Hunde bellen, sage ich mal.\nIm letzten Jahr wurden circa 22 500 Diskussionsbeiträge abgegeben und sieben Petitionen wurden mehr als 50 000-mal elektronisch mitgezeichnet. Das bedeutet, für die Kenner unter Ihnen, dass diese Petenten in einer öffentlichen Sitzung angehört wurden. Auf große Resonanz stießen diese öffentlichen Sitzungen des Petitionsausschusses nicht nur bei den Petenten, sondern auch bei vielen Bürgern. Die Petenten konnten ihr Anliegen den Ausschussmitgliedern und den Vertretern der Bundesregierung direkt vortragen. Diese Petitionen haben wir in drei öffentlichen Beratungen behandelt. Die Themen reichten von Cannabis über Migration bis hin zu Tierversuchen. Die Themen spiegelten die gesamte Breite der politischen Debatte wider, die wir auch aus dem Parlament kennen.\nDie Petition zum Terminservice- und Versorgungsgesetz hatte die meisten Mitzeichnungen, 217 000 Unterstützer. Der Zweitplatzierte hatte 100 000 Unterstützer weniger. Ohne dem Bericht über das laufende Jahr vorzugreifen, kann ich sagen, dass die Petition zum Terminservice- und Versorgungsgesetz dahin gehend erfolgreich war, dass wir als Gesetzgeber dieses Anliegen unterstützen und den Gesetzentwurf dahin gehend geändert haben, dass der Zugang zu einer Behandlung durch einen Psychotherapeuten einfach bleibt.\nIn einer weiteren öffentlichen Sitzung wurden sechs Sachverständige zu einer Petition angehört, in der es um die sogenannten gestohlenen Kinder in der DDR ging. Darunter versteht man Kinder, die gegen den Willen ihrer Eltern zur Adoption freigegeben wurden. Teilweise wurde dabei sogar der Tod von Säuglingen durch die staatlichen Stellen der DDR vorgetäuscht. Aktueller Stand ist – das kann uns, glaube ich, auch wenn die Sache insgesamt sehr schwer ist, erfreuen –, dass die Mehrheit dieses Hauses eine Lösung für die Betroffenen finden möchte. Dieses Thema ist, finde ich, von besonderer Bedeutung, gerade auch, wenn es um die historische Verantwortung und die Aufarbeitung des DDR-Unrechts geht.\nDie Mitglieder des Petitionsausschusses bemühen sich immer mit großem Engagement darum, die bestmögliche Lösung für alle Petenten zu finden. In manchen Fällen besteht eine über die Fraktionsgrenzen hinausgehende konstruktive Zusammenarbeit. Einstimmige Voten sind dabei selten, aber nicht die Ausnahme; das haben wir beispielsweise heute früh wieder praktiziert. Das prägt den besonderen Geist im Petitionsausschuss. Es wäre schade, wenn dieser Geist der gemeinsamen Zusammenarbeit weiter durch Hass und Hetze negativ beeinflusst wird.\nOftmals führt bereits das Einholen einer Stellungnahme durch den Petitionsausschuss des Deutschen Bundestages bei den zuständigen Behörden zu einem positiven Ergebnis. Man würde sagen: Ein kurzer Anruf reicht. Zwei Beispiele hierzu:\nEine schwerbehinderte Petentin wandte sich an uns, da die Deutsche Rentenversicherung die Bezuschussung eines senioren- und behindertengerechten Autos abgelehnt hatte. Im Rahmen der Überprüfung wurde die Entscheidung korrigiert und ihr dieser Zuschuss in Höhe von 5 920 Euro gewährt. Der Fall konnte positiv abgeschlossen werden.\nEbenso haben wir erreicht, dass deutsche Staatsangehörige, die im Ausland leben, nun einfacher an unseren Wahlen teilnehmen können. Der zur Versendung der Briefwahlunterlagen zur Verfügung stehende Zeitraum wurde dafür verlängert. Zumindest in diesem Punkt konnten wir die Wahl vereinfachen. Wir hoffen, dass bei künftigen Wahlen – am 26. Mai und bei anderen – viele deutsche Staatsangehörige, die im Ausland leben, von ihrem Wahlrecht Gebrauch machen.\nDies war nur ein Überblick über die Vielzahl kleinerer und größerer Erfolge der Arbeit des Peti tionsausschusses im Jahr 2018. Auch wenn wir nicht alle Wünsche der Petentinnen und Petenten erfüllen können, versucht der Ausschuss, die staatlichen Entscheidungen hilfreich zu erläutern und nachvollziehbar zu machen.\nGanz besonders möchte ich allen Mitgliedern der Arbeitsgruppen des Ausschusses, den Mitarbeitern des Ausschusssekretariates, die hinter uns Platz genommen haben,\nsowie unseren Mitarbeitern in den Büros für die Zuarbeit und für das tiefe Aktenstudium danken.\nIch freue mich auf eine weiterhin gute Zusammenarbeit im Sinne der Bürgerinnen und Bürger unseres Landes.\nVielen Dank.\nDem Dank an die Mitarbeiterinnen und Mitarbeiter des Ausschusssekretariates schließen wir uns, denke ich, bevor wir die Aussprache fortsetzen, an.\n",
         "19",
         "100",
         "4",
         "11004441",
         "Marian",
         "Wendt",
         "CDU",
         "CDU/CSU"
        ],
        [
         "31",
         "3595296d-a3aa-45f2-98b3-08da0ffa5a12",
         "11004735",
         "Vielen Dank. – Herr Präsident! Meine sehr verehrten Damen und Herren! Liebe Kollegen! Sehr geehrte Besucher im Deutschen Bundestag und Bürger zu Hause an den Bildschirmen! Die Situation im arabischen Raum ist, glaube ich, kein Anlass für parteipolitische Ränkespiele; dafür ist sie zu ernst. Herr Wadephul und Herr Ernst, vielleicht sollte man sich auf die besorgniserregenden Nachrichten aus der Region beschränken.\nIch muss in diesem Fall dem Kollegen Lambsdorff im Ausschuss heute recht geben: Ja, auch ich hatte eine Art Déjà-vu-Erlebnis. Wenn ich die Information jetzt von einem Anschlag auf eine Pipeline in Saudi-Arabien, auf Handelsschiffe in der Straße von Hormus bekomme, dann stelle ich fest: Das alles klingt ein bisschen wie das, was wir während und vor der Irakkrise gehört haben. Das muss Anlass zum Nachdenken und zur Sorge geben. Bedauerl ich ist, dass die Bundesregierung keine eigenen Informationen über diese Vorfälle hat, Herr Minister. Wir müssten doch einen Bundesnachrichtendienst haben, der uns sagen kann: „Das stimmt; das trifft zu“ oder: „Hier handelt es sich um eine Fake Story, wo mit einer Lunte brandgefährlichen Ausmaßes gespielt wird“, meine Damen und Herren. – Das ist das eine.\nDas andere ist: Pacta sunt servanda, Verträge müssen eingehalten werden. Auch diese Position haben wir von der AfD immer vertreten, und von daher kritisieren auch wir die Entscheidung der Vereinigten Staaten, das Iran-Abkommen aufgekündigt zu haben. Allerdings gab es auch das Angebot von amerikanischer Seite, das Abkommen nachzuverhandeln. Das wäre mit Sicherheit der bessere Weg gewesen. Iran hat einen Einfluss in den Jemen, in den Libanon und nach Syrien. Iran – Herr Wadephul, Sie haben es erwähnt – ist der Kontrapunkt zu unseren israelischen Freunden. Damit ist das dort ein Pulverfass, das wir tunlichst versuchen müssen unter Kontrolle zu halten. Die Politik der USA erfüllt mich deshalb mit Sorge. Es macht wenig Sinn, das infrage zu stellen, um das Erwünschte zu erzwingen. Wer zu hoch pokert, meine Damen und Herren, wird leicht in eine Eskalation getrieben und schießt über das Ziel hinaus.\nDiplomatie darf nicht zum Hasardspiel werden. Das 60‑Tage-Ultimatum des Iran an Europa hat das Ziel, den Westen zu spalten, und dagegen müssen sich die europäischen Länder wehren. Jeder Versuch muss scheitern. Unsere Position ist dennoch eindeutig: Der Atomvertrag hätte nicht gekündigt werden sollen. Noch mal: Pacta sunt servanda.\nEine Lösung ist unseres Erachtens möglich; hier greife ich Vorschläge der Grünenfraktion aus dem Ausschuss auf, genauso wie Vorschläge, die der Kollege Röttgen als Vorsitzender gemacht hat. Sie haben dem heute widersprochen, Herr Minister. Ich glaube, dass es mit Blick auf unsere Erfahrungen in den Zeiten des Kalten Krieges lohnenswert wäre, den Nahostkonflikt, der ja nicht nur aus dem Iran-Konflikt besteht, in einen Korb zu packen und so etwas wie eine Konferenz über Sicherheit und Zusammenarbeit im Nahen Osten, und zwar mit den großen Mächten dieser Welt und gemeinsam mit den europäischen Nationen, zu schaffen. Das sollten wir hinbekommen. China, auch Russland müssen eingebunden werden; Russland spielt maßgeblich an der iranischen Front mit. Wir wollen in dieser Frage keine neuen Abhängigkeiten erzeugen, auch wir von der AfD nicht.\nSie haben es vielleicht mitbekommen: Der englische General Ghika hat der Einschätzung der Amerikaner, im Irak sei ein Angriff auf amerikanische Truppen geplant und selbst Syrien sei im Fokus, massiv widersprochen und gesagt: Die Lage in Syrien und im Irak ist völlig entspannt; die US‑Truppen sind dort nicht bedroht. – Auch das ist für uns ein Grund, darüber nachzudenken, was die wahren Hintergründe sind. Die Hintergründe kennen wir: der Konflikt zwischen Saudi-Arabien als sunnitischer Nation und den schiitischen Iranern. Die Stellvertreterkriege, die in der Region stattfinden, dienen nicht dem Frieden und der Stabilität im Nahen Osten.\nIch greife noch mal den Gedanken auf, dass diese einzelnen Konfliktherde in einer gemeinsamen großen Konferenz über Sicherheit und Zusammenarbeit im Nahen Osten zusammengefasst werden sollten, um sie möglichst lösen zu können. Es kann kein realistisches Ziel einer solchen Konferenz sein, meine Damen und Herren, dass alle Konflikte dort einvernehmlich beendet werden; das wäre ein Traum. Was aber getan werden kann, ist, die Spielregeln für den Umgang miteinander zu vereinbaren, um die Wahrscheinlichkeit kriegerischer Konflikte zu vermindern. Konventionen dienen dazu, sich darin zu üben, maßzuhalten. Sie helfen dabei, auch die berechtigten Interessen der Gegenseite zu akzeptieren und so faire Kompromisse zu finden. Die KSZE-Schlussakte von Helsinki 1975 hat uns gezeigt: Sie hat den Kommunismus nicht beendet, meine Damen und Herren; sie hat aber Spielregeln geschaffen, die dazu beigetragen haben, die Kriegswahrscheinlichkeit in Europa zu verringern, und sie hat den Keim dafür gelegt, dass die Völker in Osteuropa sich mit eigener Kraft von der kommunistischen Diktatur befreien konnten.\nDie Politik mit der Brechstange geht nicht. Wir brauchen aber auch kein Nation Building. Wir brauchen Stabilität, meine Damen und Herren.\nHerr Hampel, kommen Sie bitte zum Schluss.\n– Jawohl, Herr Vorsitzender. – Deutschland ist Mitglied im Sicherheitsrat der Vereinten Nationen. Eine solche Konferenz zu initiieren, Herr Minister, den großen Korb aufzumachen und die großen Nationen daran mitwirken zu lassen, –\nHerr Hampel.\n– wäre eine Perspektive, im Nahen Osten Frieden zu stiften.\nDanke schön, meine Damen und Herren.\n",
         "19",
         "100",
         "3",
         "11004735",
         "Armin-Paulus",
         "Hampel",
         "AfD",
         "AfD"
        ],
        [
         "32",
         "9ae64238-c1ae-40cd-4d49-08da0e9b3c58",
         "11004740",
         "Frau Rüffer, herzlichen Dank für die Erwähnung meines Namens. Ich finde es herzallerliebst, dass Sie mich in einen Kontext mit einem Attentäter in Neuseeland gesetzt haben. Ich finde das in dem Falle eine sehr interessante Kombination. Ich weiß nicht, ob Sie damit alle Regierungen, zum Beispiel von Österreich, von Italien und anderen Ländern, die sich gegen den Globalen Pakt für Migration ausgesprochen haben, auf die Liste der Attentäter in Neuseeland setzen.\nWenn Sie das tun, ist das eine sonderbare Auffassung von Demokratie. Man kann ja einen Pakt, der angeboten wird, der zur Diskussion steht, auch ablehnen. Oder sehen Sie es als Zwang an, dass ihn jeder annimmt, und verunglimpfen Sie jeden, der das nicht tut?\nIm Übrigen möchte ich auf eines hinweisen: Sie haben eine eigenartige Art und Weise von Demokratieverständnis. Sie sagen, von Ihnen würden alle Anträge, die in den Petitionsausschuss kommen, entsprechend geprüft; Sie motivieren auch dazu. Wie kann es dann sein, dass Sie Anträge, die nicht in Ihr Weltbild passen, zum Beispiel Anträge zum Globalen Pakt für Migration – dazu lagen 19 Anträge von vielen Personen vor –, pauschal einfach als Dreck bezeichnen? Wie kann es sein, dass Sie so pauschal mit Bürgern umgehen? Entspricht das Ihrem Verständnis von Demokratie?\nSie diskreditieren Bürger, Sie verunglimpfen und beschimpfen Leute und stellen alle, die nach Ihrer Meinung nichts sind, in die Reihe von Attentätern. Das ist geistige Brandstiftung, und das ist es, was unser Land massiv gefährdet.\nDas kann so nicht weitergehen. Die Art und Weise Ihres Tons, Frau Rüffer, ist nicht akzeptabel.\nHerzlichen Dank.\n",
         "19",
         "100",
         "4",
         "11004740",
         "Martin",
         "Hebner",
         "AfD",
         "AfD"
        ],
        [
         "33",
         "f39e864d-75fa-42e3-65f5-08da102a68d8",
         "11004744",
         "Frau Präsidentin! Liebe Kolleginnen! Liebe Kollegen! Liebe Besucher! Das gute Klima im Petitionsausschuss und das Miteinander, losgelöst von den parteipolitischen Unterschieden, ist hier schon diverse Male gelobt worden, und ich kann das auch nur unterstreichen. Was ich aber bemerke, ist, dass der ein oder andere dann, wenn Arbeit ansteht und die Kameras im Ausschusssaal aus sind, hier anders argumentiert als dort und hier mächtig aufdreht. Nachdem ich hier gerade vom Altparteienduktus, Sätze wie „Merkel muss weg!“ und so einen Senf gehört habe, frage ich mich schon, ob das die gleichen Menschen sind. Aber gut, das muss jeder für sich selbst beurteilen.\nBürgerbeteiligung, Briefe, Mails, Anrufe, Bürgersprechstunden kennt jeder von uns aus den Wahlkreisen; das ist bekannt. Aber gerade jetzt, wo 70 Jahre Grundgesetz zu feiern sind, ist vielleicht der richtige Anlass, das Instrument der Petitionsmöglichkeit in den Fokus zu rücken. Artikel 17 Grundgesetz und dessen besondere Stellung machen deutlich, worum es hier geht: Es ist ein Jedermannsrecht. Unabhängig von Nationalität, Herkunft, Hautfarbe, Sprache kann jeder eine Petition stellen und sein Anliegen übermitteln, und er hat die Gewissheit, im Petitionsausschuss gehört zu werden. Jede Eingabe wird bearbeitet. Jeder bekommt ein Feedback. Die zuständigen Ministerien werden eingebunden. Ich glaube, das ist ein gutes Instrument, wirklich tiefgründig Probleme anzugehen. Ganz häufig erledigen sich Anfragen schon im Vorfeld, indem man nämlich auf Rechtsmittelmöglichkeiten hingewiesen wird. Aber selbst diejenigen, die es sich zur Aufgabe gemacht haben, häufiger Petitionen zu schreiben, deren Name dann schon bekannt sind – „Ach, der oder die schon wieder!“ –, werden mit ihrem Anliegen nicht alleingelassen.\nWir werden unterstützt durch entsprechende Stellungnahmen aus den Fachministerien. Auch dafür möchte ich einmal herzlichen Dank sagen; das erleichtert nämlich die Arbeit ungemein. Auch zu erwähnen sind die Reisen, die Ortstermine, die „Mühe“ – in Anführungsstrichen –, die sich die Beteiligten auferlegen, um eine Lösung im Sinne der Petenten zu finden.\nBei manchen Petitionen haben wir es auch mit intensiven Beratungen im Ausschuss zu tun – vieles ist angeklungen – oder auch mit Berichterstattergesprächen, wo Vertreter der einzelnen Fraktionen zusammensitzen und in der Regel zielgerichtet überlegen: Wie kann ich dem Petenten bzw. der Petentin mit seinem bzw. ihrem Anliegen helfen?\nDas ist eben keine Parteipolitik. Das Finden von Lösungen steht im Mittelpunkt, und deswegen schließe ich mich ausdrücklich dem Dank an das Ausschusssekretariat, an die Mitarbeiter in den Büros, die sicherlich manchmal mehr Arbeit leisten als wir Abgeordnete – sie übernehmen nämlich die Vorbereitung der Petitionen –, aber auch an die Referenten in den Fraktionen an. Für all das sage ich Danke. Gemeinsam sorgen wir dafür, dass der Mensch im Mittelpunkt steht, und das sollte das Anliegen im Petitionsausschuss sein und bleiben.\nEin Beispiel, das der Vorsitzende erwähnte und das auch mir nicht aus dem Kopf geht, ist das Terminservice- und Versorgungsgesetz. Was haben wir im Vorfeld nicht alles gelesen! Die einen wollten für die Versorgung kämpfen. Die anderen haben befürchtet, das Gesundheitssystem breche zusammen, die Versorgung psychisch kranker Menschen, die auf Hilfe angewiesen sind, gehe vor die Hunde. Dann war es doch beeindruckend, zu sehen – Gesundheitsminister Jens Spahn war in der Anhörung selber anwesend –, dass nach intensiver Diskussion mit der Petentin diese zum Schluss sagte: Mensch, wir sind ja gar nicht so weit auseinander. – Ich glaube, wir sollten öfter innehalten und uns fragen: Übertreiben wir nicht in der Außendarstellung, auch in dem Hype, den wir bei manchen Themen erzeugen? Im Kern geht es doch allen Beteiligten immer um die Sache. Auch dem Minister war in diesem Fall daran gelegen, eine Lösung zu finden. 217 000 Mitzeichner hatte diese Petition. Ab 50 000 Mitzeichnern findet eine öffentliche Beratung statt. Es war schön, zu sehen, dass alle Petenten die Rückmeldung bekamen: Der Kampf hat sich gelohnt. – Der Kampfbegriff „gestufte und gesteuerte Versorgung“ war damit hinfällig. Man hat eine gute Lösung gefunden. Ich glaube, jetzt sind alle Beteiligten zumindest zufrieden oder aber überzeugt davon, dass man keine gegenseitigen Feindbilder erzeugen wollte.\nDieses Beispiel steht stellvertretend für viele andere heute schon genannten. Die Petitionen sind eben nicht für die Tonne, sie sind nicht umsonst, sondern sie werden gelesen und bearbeitet. Ich glaube, das ist ein wichtiges Signal.\nAber wo Licht ist, da ist manchmal eben auch Schatten. Oder – ich will es anders formulieren –: Wenn ein Petitionsausschuss Möglichkeiten zur Beteiligung bietet, gibt es immer auch Trittbrettfahrer. Nicht alles, was wir da erleben, ist gut. Man muss auch einmal kritisch erwähnen, dass es Internetportale gibt, die eben keinen hehren Zweck im Blick haben, sondern manchmal auch parteipolitisch motivierte Positionierungen und Arbeit. Da muss man schauen: Welche Kampagne ist eventuell politisch gesteuert? Die Garantie, dass mein Anliegen wirklich gehört wird, dass ein Kommentar nicht unterdrückt wird, hat man beim Petitionsausschuss des Deutschen Bundestages. Dieser arbeitet nach innen, im Zweifel mit der Bundesregierung, gemeinsam mit den Fraktionen und den Landesvertretungen. Daran kann man sehen: Das Original ist im Idealfall besser als die Kopien. Deswegen werbe ich ausdrücklich dafür, den Petitionsausschuss auch im Rahmen der heutigen Sitzung noch bekannter zu machen und die Möglichkeiten, die er bietet, stärker nach draußen zu tragen, als es jetzt der Fall ist.\nDie Arbeit im Petitionsausschuss – ich bin auch neu dabei und gucke hier in die freudigen Gesichter meiner Fraktionskollegen; ein tolles Team –\nmacht viel Spaß und erinnert mich manchmal an die Wahlkreisarbeit. Hier in Berlin ist man – alle wissen das – fachpolitisch sehr eingebunden; aber im Wahlkreis kriegt man alle Themen auf das Tapet. Wenn man mal Leute, die sich beschweren oder beklagen, fragt – ich tue das häufig –: „Mensch, hast du deinen Abgeordneten im Bund, im Land, in Europa, in der Gemeinde, im Stadtrat mal angesprochen?“, antwortet selten einer: Habe ich schon gemacht, hat aber nichts gebracht. – Ich glaube, das ist es: Wir brauchen Politiker, die zuhören, aber wir brauchen auch Bürger, die sich beteiligen. Das findet im Petitionsausschuss statt. Alle haben den Anspruch, mit Respekt behandelt zu werden. Dass man sich gegenseitig zuhört, macht Demokratie aus; das ist wichtig.\nDa wir die Europawahlen vor der Brust haben, lassen Sie mich zum Schluss plädieren: Ich wünsche mir eine solche Beteiligung auch am 26. Mai – für Demokratie, für gegenseitigen Respekt. Dafür einzutreten, sich zu beteiligen, mitzumachen – das ist das Signal, das wir senden wollen. Die direkte Demokratie wurde angesprochen: Nie ist das einfacher gewesen als im Petitionsausschuss des Deutschen Bundestages.\nVielen Dank.\n",
         "19",
         "100",
         "4",
         "11004744",
         "Marc",
         "Henrichmann",
         "CDU",
         "CDU/CSU"
        ],
        [
         "34",
         "7fc01c8e-5a53-44a1-0622-08da0f05b642",
         "11004764",
         "Sehr geehrte Frau Präsidentin! Sehr geehrte Abgeordnete! Liebe Mitbürger! Die Parlamentarischen Geschäftsführer der anderen Fraktionen haben entschieden: Erst zu dieser späten Stunde können wir uns dem Grundrecht auf Mitbestimmung widmen.\nArtikel 17 des Grundgesetzes gibt jedem die verfassungsrechtliche Garantie, dass sein Anliegen im Bundestag behandelt wird und er im Gegensatz zu einer Petition bei privaten Petitionsanbietern auch direkt auf die Gesetzgebung Einfluss nehmen kann.\nDer kontinuierliche Rückgang an Petitionen konnte 2018 gestoppt und das Niveau von 2015 wieder erreicht werden – auch dank der AfD.\nSo ist es uns gelungen, Menschen zurück in den politischen Diskurs zu bringen, die sich nicht mehr von der Politik vertreten gefühlt haben.\nWir, die Mitglieder des Petitionsausschusses, haben über 6 500 Akten zur Berichterstattung bekommen und damit das historisch zweithöchste Arbeitsaufkommen bewältigt. An dieser Stelle möchte ich allen Beteiligten meine Anerkennung für diese Arbeit aussprechen.\nEin besonderer Dank gilt natürlich den Mitarbeitern des Ausschussdienstes, die auch ich herzlich begrüße. Sie verfassen zu jeder eingereichten Petition im Schnitt nicht nur drei Schreiben, sie konnten auch über ein Drittel aller Bürgeranliegen bereits im Vorfeld des parlamentarischen Verfahrens durch eine unbürokratische Hilfe erledigen. An dieser Stelle vielen Dank an die fleißigen Mitarbeiter im Ausschuss.\nIm Vergleich zum Vorjahr hat das Auswärtige Amt mit einem Plus von 205 Prozent die größte Steigerung von Bitten und Beschwerden aller Ressorts zu verzeichnen. Gratulation an dieser Stelle an Heiko Maas für den rasant steigenden Handlungsbedarf in seinem Haus! Ganze 456 Petitionen gingen allein zum Globalen Migrationspakt ein.\nDie ersten davon wollte man – ich zitiere jetzt Sie von den Grünen – als Dreck unter den Tisch kehren\nund in einem Akt politischer Willkür noch nicht einmal veröffentlichen.\nNur durch die Beharrlichkeit der AfD konnte am Ende eine öffentliche Debatte für die Bürger zum Migrationspakt durchgesetzt\nund auch geführt werden.\nDieses unwürdige Schauspiel auf dem Rücken der Bürger zeigt uns, dass die Richtlinien zu den öffentlichen Petitionen überarbeitet und verbindlich in der Geschäftsordnung geregelt werden müssen. Unseren Mitbürgern brannte der Migrationspakt\nderart unter den Nägeln,\ndass bereits nach zwei Tagen das Quorum von 50 000 Mitarbeitern – – Mitzeichnern erreicht war.\nEs wäre sogar noch früher erreicht gewesen, wenn das Internet für den Bundestag nicht immer noch Neuland wäre. Die Petitionswebseite ist zwar das mit Abstand erfolgreichste Internetangebot des Bundestages und erhöht die Attraktivität des Petitionswesens, sie brach aber am zweiten Tag unter der Last von 87 000 Mitzeichnungsversuchen und 1,9 Millionen Seitenaufrufen aufgrund der veralteten Architektur zusammen.\nLeider sind aus unserer Sicht bis heute fahrlässigerweise nur kosmetische Verbesserungen an der Plattform erfolgt.\nDass jetzt im Nachhinein Vertreter der Konsensparteien die Veröffentlichung sogar als Fehler bezeichnen, lässt tief auf das Demokratieverständnis blicken.\nUm es deutlich zu sagen: Mit der Strategie, öffentliche und kontroverse Diskussionen zu vermeiden, verantworten letztlich die älteren Parteien in diesem Parlament den Vertrauensverlust der Bürger in die demokratischen Institutionen in unserem Land.\nDer Antrag der AfD für eine rechtzeitige öffentliche Anhörung vor der Annahme des Migrationspaktes wurde folgerichtig von den selbsternannten Demokraten ohne Debatte abgelehnt. Im Verlauf der Kontroverse wurde immer klarer, dass den sozialen Frieden und den interkulturellen Dialog\n– hören Sie doch mal zu –\nkeines der Bürgeranliegen belastete, sondern wenn, dann nur der Migrationspakt und die Bundeskanzlerin selbst.\nDer Forderung des Hauptpetenten, wie Österreich eine Protokollerklärung bei den Vereinten Nationen abzugeben, wurde nämlich sogar vom Bundestag auf Antrag der Koalition aufgeschlossen gegenübergetreten. Aber sogar dies hinderte die demokratischste Bundeskanzlerin aller Zeiten nicht,\nüber die 108 000 Mitzeichner und den Bundestagsbeschluss hinweg zu entscheiden, den Migrationspakt ohne Protokollerklärung anzunehmen.\nLiebe Mitbürger, ich will sagen: So wird die Wahrheit deutlich. Frau Merkel hält weder viel von Ihnen noch vom Bundestag.\nHerr Huber, Sie können weitersprechen, aber das tun Sie dann auf Kosten von Herrn Spangenberg.\nGenau. – Als Partei der direkten Demokratie – damit möchte ich schließen – werden wir uns weiterhin vor die Bürger stellen,\nsodass sie nicht übergangen, sondern wieder ein Stück weit mehr zum Dreh- und Angelpunkt der Politik werden.\nVielen Dank.\n",
         "19",
         "100",
         "4",
         "11004764",
         "Johannes",
         "Huber",
         "AfD",
         null
        ],
        [
         "35",
         "5e94ca45-128a-44a2-febf-08da0daf380d",
         "11004798",
         "Vielen Dank, Frau Präsidentin. – Mit Blick auf diese Region, die im Moment unter extremer Anspannung leidet, politisch und militärisch, ist es wichtig, dass wir zunächst einmal abschichten, was die Wurzel des Übels ist und wie sich die Situation darstellt.\nDie Wurzel des Übels – das muss man in dieser Deutlichkeit sagen – ist der Versuch des Iran, sich ein nukleares Programm für militärische Zwecke zuzulegen. Die Wurzel des Übels ist, dass er ein ballistisches Raketenprogramm betreibt, das zu einer existenziellen Bedrohung für seine Nachbarn und sogar für uns in Europa werden kann. Die Wurzel des Übels ist eine aggressive Regionalpolitik, mit der der Iran den Export der Islamischen Revolution von 1979 in seine Nachbarländer betreibt, bis hin zu ganz konkreten Ansagen, Israel von der Landkarte zu tilgen. Raketen fliegen aus Gaza auf Israel. Meine Damen und Herren, ein solches Land wird niemals unser Freund und Partner sein. Wir müssen dieses Land einhegen. Das ist unsere Aufgabe in der Außenpolitik.\nBei dem Streit, den wir im Moment mit den Amerikanern darüber haben, geht es ja darum, wie wir mit dieser Situation umgehen, wie das Containment, das Einhegen des Iran, funkti oniert. Wir haben jetzt die Situation, dass der Iran, nachdem Europa ausdrücklich am JCPoA festhält, ausgerechnet uns ein Ultimatum stellt, mit dem er ankündigt, binnen 60 Tagen aus dem Abkommen auszusteigen. Denn nichts anderes ist es, wenn der Iran sagt, er fange nach Ablauf des Ultimatums wieder mit der Anreicherung von Uran an. In dieser Situation gießt der Iran zusätzlich Öl ins Feuer, indem er uns droht, die 3 Millionen afghanischen Flüchtlinge, die sich auf iranischem Territorium befinden, Richtung Türkei und weiter nach Europa zu leiten. In einer solchen Situation ist es richtig – dafür kritisieren wir die Bundesregierung nicht, sondern wir loben sie –, auf Dialog und Deeskalation zu setzen.\nWir fanden es gut und richtig, dass sich die E3 und Federica Mogherini gestern mit dem amerikanischen Außenminister zusammengesetzt haben, um die europäische Position zu erörtern. Die Strategie des maximalen Drucks, der einseitigen Maßnahmen der Amerikaner ist in unseren Augen jedenfalls falsch. Die E3 haben unsere Unterstützung für diese Politik.\n– Herr Ernst!\nWir sind Ihnen dankbar, dass Sie eine Aktuelle Stunde aufgesetzt haben; das ist gut. Aber dass Sie in Ihrer Rede allen Ernstes vorschlagen, die Sparkasse Villingen-Schwenningen solle die Befriedung des Persischen Golfs erreichen,\nist doch – es tut mir leid – Realsatire.\nIhre Rede war Ausdruck des Niveaus der Außenpolitik Ihrer Fraktion und Ihrer Partei. Sorry!\nSchauen wir bitte auf die aktuelle Lage am Golf. Sie ist extrem angespannt. Wir haben verbale Aufrüstung seitens des Iran und der Amerikaner. Wir haben die Verlegung relevanter militärischer Mittel der Amerikaner in die Region. Wir haben Ansagen aus Washington, die man auch nur als Beitrag zur Eskalation auffassen kann. Ich habe – Armin Hampel hat es gerade gesagt – tatsächlich ein gewisses Déjà-vu, wenn ich aus Washington höre, dass der Sprecher des Weißen Hauses erklärt, der Präsident habe keinen Plan für militärische Aktionen auf seinem Schreibtisch. Das sind exakt die Worte von Ari Fleischer im Sommer 2002, als er Pressesprecher von Georg W. Bush war.\nMit anderen Worten: Die Arbeit an der Deeskalation muss weitergehen. Ob das funktioniert, wissen wir nicht. Deswegen müssen wir uns darauf vorbereiten – das ist mein zweiter Punkt –, was passiert, wenn die Deeskalation nicht gelingt. Die Amerikaner tun das. Die Amerikaner haben ihre Botschaft in Bagdad und ihr Generalkonsulat in Erbil geschlossen. Und aus den Medien haben wir jetzt erfahren – das ist wirklich hochgradig ärgerlich, Herr Minister –, dass die Bundeswehr im Irak ihre Ausbildungsmission wegen der extremen Anspannung geschlossen hat,\ndass sie die Soldaten zurück in die Kaserne beordert hat. Dass wir so etwas als Auswärtiger Ausschuss, als Verteidigungsausschuss aus der Presse und über Twitter erfahren und nicht von Ihnen im Ausschuss heute Morgen, geht gar nicht. Das ist eine Missachtung des Parlaments, Herr Minister.\nWenn wir uns vor Augen führen, was passieren kann, dann müssen wir uns zunächst fragen: Wie kriegen wir unsere Soldaten zurück in die Bundesrepublik Deutschland? Das ist das eine. Das Zweite ist: Wir haben eine im Raum stehende Drohung des Iran, 3 Millionen Menschen Richtung Europa loszuschicken. Der Iran hat eine 530 Kilometer lange Grenze mit der Türkei. In der Türkei befinden sich jetzt schon Millionen Flüchtlinge aus Syrien. Deswegen ist unser Appell an die Bundesregierung, Ankara, die türkische Regierung jetzt zu kontaktieren und das Gespräch zu suchen, um eine solche Situation zu vermeiden, mit dem UNHCR jetzt Vorbereitungen zu treffen für den Fall, dass es zu einer solchen Situation kommt, Frontex jetzt zu stärken, um unsere Außengrenzen wirksam zu schützen.\nMeine Damen und Herren, 2003 darf sich nicht wiederholen, deswegen Deeskalation. Aber 2015 darf sich auch nicht wiederholen. Keine neue Flüchtlingskrise! Deswegen jetzt Prävention, deswegen jetzt vorbeugende Maßnahmen.\nHerzlichen Dank für Ihre Aufmerksamkeit.\n",
         "19",
         "100",
         "3",
         "11004798",
         "Alexander Graf",
         "Lambsdorff",
         "FDP",
         null
        ],
        [
         "36",
         "c7eae30c-53bf-48fc-9826-08da0ffa5a12",
         "11004806",
         "Sehr geehrte Frau Präsidentin! Liebe Kolleginnen! Liebe Kollegen! Liebe Zuhörer auf den Zuschauerrängen!\nUnd jedem Anfang wohnt ein Zauber inne, der uns beschützt und der uns hilft, zu leben.\nDieses Zitat von Hermann Hesse möchte ich meiner Rede voranstellen. Es beschreibt zum einen sehr gut, was ich als frisch gewählter Bundestagsabgeordneter und Neuling im Petitionsausschuss empfunden habe, und zum anderen, was die Kernaufgabe des Petitionsausschusses ist. Der Petitionsausschuss soll den Bürger vor der Macht des Staates schützen, wenn diese Macht falsch und ungerecht ausgeübt wird. Er soll Hilfestellung geben zur Bewältigung von Problemen in unserem Land. Diese besondere Aufgabenstellung kommt auch in der herausgehobenen verfassungsmäßigen Verankerung des Ausschusses zum Ausdruck.\nIm Jahr 2018 war ich hochmotiviert, weil es für mich nun konkret mit der inhaltlichen Arbeit im Deutschen Bundestag losgehen würde. Der zu Beginn zitierte Anfangszauber wich sehr schnell der Erkenntnis, dass es vor allem der Zauber der vielen Arbeit ist, welcher alle Mitglieder im Petitionsausschuss verbindet. Bei dieser Gelegenheit möchte ich natürlich, wie alle meine Vorredner, allen Mitarbeiterinnen und Mitarbeitern im Ausschussdienst für die hervorragende und vor allem enorm umfangreiche Vorbereitungsarbeit danken. Sie leisten eine entscheidende inhaltliche Zulieferung, ohne die wir die Fülle der Petitionen nicht bearbeiten könnten.\nBevor ich als Berichterstatter zu Einzelfällen aus meinen Bereichen Wirtschaft, Steuern sowie Bildung und Forschung komme, möchte ich einen Aspekt beleuchten, der aus meiner Sicht mit am erfolgreichsten und wichtigsten für die Hilfesuchenden ist, der aber am wenigsten in der Öffentlichkeit sichtbar wird. Sehr viele Anliegen können bereits rasch und effizient im Vorfeld des parlamentarischen Verfahrens positiv abgeschlossen werden; denn oft bewirken bereits allein die Stellungnahmeersuchen des Petitionsausschusses bei den angesprochenen staatlichen Stellen eine nochmalige, gründlichere Abwägung des Vorgangs und eine neue Entscheidung. Viele dieser Vorgänge, bei denen die um Stellungnahme gebetenen Behörden die Gelegenheit nutzten, ihre Fehler einzuräumen und umgehend Änderungen im Sinne des Petenten vorzunehmen, sind Erfolge, die auf der bloßen Existenz des Petitionsausschusses und auf der von meinen vielen Vorgängerinnen und Vorgängern erarbeiteten Reputation des Petitionsausschusses beruhen. Auch wenn wir jetzt einzelne Prozentzahlen betrachten, ist es nicht so, dass wir wenig erreichen. Wir erreichen schon sehr viel im Vorfeld. Das darf man bei der Aufzählung dessen, was wir tun, nicht vergessen.\nNun zu meinem ganz persönlichen Beitrag. Der Petitionsausschuss kommt zu den Menschen vor Ort. Wir wollen also nicht nur die Bürgerinnen und Bürger auffordern, zu uns zu kommen, sondern wir kommen auch zu ihnen – und das nicht nur durch unsere tägliche Arbeit. Ich selbst stand zum Beispiel den Bürgerinnen und Bürgern auf dem Stand des Petitionsausschusses bei der Münchner Heim+Handwerk zur Rede, sah dort eine rege Nachfrage und habe viele interessante Gespräche geführt. Auch im Rahmen des Tages der Ein- und Ausblicke im Deutschen Bundestag, also hier vor Ort, wo ich unseren Bundestagspräsidenten Wolfgang Schäuble begrüßen konnte, war großes Interesse vorhanden.\nIch möchte ein kleines Beispiel herausgreifen. Als Berichterstatter betreue ich unter anderem eine Petition mit 23 000 Mitzeichnern im Bereich Forschung zum Thema „gezielter Einsatz von Forschungsgeldern für klinische Studien zum Einsatz von Methadon in der Krebstherapie“. Die öffentliche Beratung war am 5. November 2018. Eine Beschlussfassung im Ausschuss steht noch aus. Daher möchte ich wiederholen, was ich in der öffentlichen Beratung bereits angemahnt habe: Wir müssen sehr sensibel mit dem Thema „Krebsbehandlung und Krebsheilung“ umgehen und dürfen keine falsche und vorschnelle Erfolgsmeldung über Wundermittel entstehen lassen. Das gilt im Endeffekt für alle Themen. Es ist mir daher wichtig, zu betonen, dass wir im Petitionsausschuss nicht der Versuchung erliegen dürfen, über die Frage zu beraten, ob eine bestimmte Therapie Wirkungen und Erfolge bei der Heilung möglich macht. Wir sollten allein über die grundsätzliche Frage beraten, ob und wie wir wissenschaftliche Forschung und klinische Studien in Deutschland zur Erforschung von Heilung und Therapie durchführen und ob wir dies mit staatlichen Mitteln erreichen und unterstützen.\nIn meinem inhaltlichen Bereich waren vor allem folgende Themen auffällig wiederkehrend: Verbesserungswünsche im Rahmen der Elektromobilität, angefangen bei der Ladeinfrastruktur in den Autogaragen – Stichwort „Eigentümerwohngemeinschaft“ –, über ausreichende öffentliche Ladestellen und einheitliche Steckertypen bis hin zur Frage der Bepreisung des abzugebenden Stroms. Die Vielzahl der Petitionen zeigt mir, dass hier noch ein großer Handlungsbedarf, aber auch eine große Perspektive für die Zukunft liegt.\nDer Petitionsausschuss ist oft Seismograf der Entwicklung, doch leider auch der entsprechenden Kinderschuhprobleme. Ein Anstieg der Eingaben betreffend die Bundesnetzagentur ist mit Problemen bei der Breitbandgeschwindigkeit zu erklären. Über 33 Petitionen beschäftigten sich mit der Deutschen Post AG und den Fragen der Qualität der Zustellung, aber auch der Portopreise. Nicht immer war die Zustellfrage zufriedenstellend zu beantworten.\nLassen Sie mich zum Schluss noch etwas Grundsätzliches, sehr Selbstkritisches zur Arbeit im Ausschuss sagen: Der Petitionsausschuss ist kein Gesetzgebungsausschuss. Wir sind auch kein Superrevisionsausschuss und erst recht kein Gremium, in dem die großen politischen Schlachten permanent aufs Neue geschlagen werden müssen. Deshalb ist es schade, dass gerade hier im Plenum heute vielleicht der falsche Eindruck entstanden ist, dass wir im Ausschuss ganz große Streitthemen haben. Natürlich haben wir entsprechend unserer politischen Richtung auch unterschiedliche Meinungen; aber wir arbeiten konstruktiv, effizient und, wie ich denke, auch gut zusammen.\nWir sind ein wichtiger Ausschuss für Hilfesuchende, ein Anwalt für die Menschen, und darin liegt unsere Stärke,\nKollege Loos, achten Sie bitte auf die Zeit.\nund dafür zollen uns die Bürgerinnen und Bürger Anerkennung.\nDanke für die Aufmerksamkeit.\n",
         "19",
         "100",
         "4",
         "11004806",
         "Bernhard",
         "Loos",
         "CSU",
         "CDU/CSU"
        ],
        [
         "37",
         "992e3a66-db1e-42ce-605d-08da102a68d8",
         "11004809",
         "Sehr geehrter Herr Präsident! Meine sehr verehrten Damen und Herren! Liebe Kolleginnen und Kollegen! Die Lage im Nahen und Mittleren Osten ist in diesen Tagen wirklich ausgesprochen ernst. Das hat unterschiedliche Gründe. Einer besteht darin, dass der Iran in der letzten Woche angekündigt hat, seine Verpflichtungen aus dem Atomabkommen zumindest teilweise auszusetzen. Und das geschah – das wissen wir alle – als eine Reaktion auf die Entscheidung der Vereinigten Staaten, Ausnahmegenehmigungen für den Ölexport und für Nichtverbreitungsvorhaben im Rahmen des Abkommens nicht weiter zu verlängern, was die Situation und die Diskussion um dieses Abkommen weiter verschärft hat.\nMachen wir uns nichts vor: Zwölf Monate nach dem Ausstieg der Vereinigten Staaten aus dem Nuklearabkommen könnte dies in absehbarer Zeit auch das Ende des JCPoA bedeuten. Dies wäre – das ist nicht nur die Auffassung der deutschen Bundesregierung, sondern der gesamten Europäischen Union – ein schwerer Rückschlag im Kampf gegen die Verbreitung von Atomwaffen. Es droht darüber hinaus ein Flächenbrand in der gesamten Region mit ernsten Folgen für die Sicherheit unserer Verbündeten, aber vor allen Dingen für unsere Sicherheit hier in Europa. Manchmal reicht ein Funke – das zeigen die Entwicklungen vor der Küste der Vereinigten Arabischen Emirate in den letzten Tagen –, um einen solchen Brand auszulösen. Das macht uns außerordentlich besorgt. In dieser Situation, in dieser Lage steht deshalb für uns eines im Mittelpunkt: Wir müssen und wir werden alles tun, um eine militärische Eskalation zu verhindern.\nMeine sehr verehrten Damen und Herren, das beste und zuverlässigste Instrument dafür ist und bleibt dieses Atomabkommen. Das JCPoA war nie ein Freundschaftsdienst gegenüber dem Iran. Es war vielmehr Ausdruck unserer Sorge vor einem nuklear bewaffneten Iran. Bei Dingen, die eben hier gesagt wurden, hat man ja den Eindruck, dass die Seiten komplett verdreht wurden. Wenn wir kein Abkommen bräuchten, wäre uns deutlich wohler. Aber die Tatsache, dass ein Staat wie der Iran sich überhaupt nur durch die Zusicherung wirtschaftlicher Vorteile davon abhalten lässt, eine Atombombe zu bauen, ist doch ein Hinweis darauf, dass wir es mit einem Land zu tun haben, gegenüber dem nicht in erster Linie Vertrauen, sondern gegenüber dem auch viel Misstrauen herrscht.\nTrotzdem, meine sehr verehrten Damen und Herren, hat der Iran – das zeigt ja auch den Wert dieses Abkommens – bislang das Abkommen eingehalten. Letztlich ist das auch ein seltener Erfolg der multilateralen Zusammenarbeit. Deshalb ist und bleibt die Tatsache, dass die Amerikaner aus diesem Abkommen ausgeschieden sind, für uns nach wie vor nicht nachvollziehbar.\nDenn, meine Damen und Herren, gerade weil wir dem Iran misstrauen, wollen wir das Abkommen ja erhalten; deshalb macht es ja Sinn. Denn es bleibt jedenfalls im Moment der sicherste Weg, den Iran davon abzuhalten, Atomwaffen zu bauen. Deshalb ist die Welt mit diesem Abkommen sicherer als ohne.\nDabei, meine sehr verehrten Damen und Herren, ist Dreh- und Angelpunkt die europäische Geschlossenheit. Diese Geschlossenheit ist am Montag beim Außenrat in Brüssel von allen Amtskolleginnen und Amtskollegen innerhalb der Europäischen Union noch einmal bekräftigt und auch gestärkt worden. Alle 28 EU-Mitgliedstaaten stehen hinter dem Abkommen. Das ist dort noch einmal sehr deutlich geworden.\nGemeinsam mit dem britischen und dem französischen Außenminister und mit Federica Mogherini haben wir dabei aber auch die Gelegenheit genutzt, deutlich unsere Erwartungen an Teheran zu formulieren. Auch der Iran muss seine Verpflichtungen aus dem Abkommen weiterhin umsetzen, und zwar ohne irgendwelche Abstriche. Rabatte wird es mit uns, mit der Europäischen Union, in dieser Frage nicht geben.\nWir werden deshalb – das ist der Maßstab – sehr genau die unabhängigen Berichte der Internationalen Atom­energie-Organisation betrachten, wenn es darum geht, ob sich Iran an die Verpflichtungen hält oder nicht. Sie bleiben der Maßstab. Auch darüber sind wir uns innerhalb der Europäischen Union einig – unabhängig von allen Drohgebärden, die zurzeit von welcher Seite auch immer vollzogen werden.\nWir Europäer stehen zu den Verpflichtungen aus diesem Abkommen. Das haben wir in der Vergangenheit mit unterschiedlichen Instrumenten auch noch einmal deutlich gemacht. Vor einem Jahr sind die Vereinigten Staaten aus dem Abkommen ausgestiegen. Wenn wir uns nicht an die Verpflichtung halten würden und wenn wir nicht im Rahmen unserer Möglichkeiten versuchen würden, das, was durch den Ausstieg der Amerikaner verloren gegangen ist, zu kompensieren, wüsste ich nicht, warum der Iran von sich aus ein Interesse haben sollte, seit einem Jahr an diesem Abkommen festzuhalten. Das hat er aber, und das macht deutlich, dass auch aus Sicht Teherans dieses Abkommen ohne die Vereinigten Staaten funktionieren kann. Das ist es, worum wir uns im Moment kümmern.\nNiemand behauptet, dass das durch den Ausstieg der Vereinigten Staaten einfacher geworden ist.\nDass durch die Sanktionen, die die Vereinigten Staaten verhängt haben, auch das Generieren wirtschaftlicher Vorteile im Iran schwieriger geworden ist, würde doch niemand in Abrede stellen.\nWir haben jedoch das Zahlungsinstrument INSTEX auf den Weg gebracht, und wir bereiten jetzt Schritt für Schritt die Operationalisierung desselben vor – auch das ist am Montag besprochen worden –, unter Führung der Briten zusammen mit den Franzosen und auch mit uns, um mit dem Iran in bestimmten Bereichen weiterhin Außenhandel treiben und vor allen Dingen die Versorgung mit wichtigen humanitären Gütern aufrechterhalten zu können. Dafür stehen wir im Moment in einem intensiven Kontakt mit Teheran. Wir sprechen mit Teheran darüber, wie wir dafür sorgen können, dass die wirtschaftlichen Vorteile und auch die Lieferung von humanitären Gütern fortgesetzt werden können.\nAber ich sage Ihnen auch – das war immer Sinn dieses Abkommens –: Wir nutzen diesen Dialog eben auch, um mit dem Iran über kritische Fragen zu reden, etwa seine Rolle in Syrien oder das ballistische Raketenprogramm, das wir nicht für akzeptabel halten.\nMeine Damen und Herren, in der Verantwortung für den Erhalt dieses Abkommens sind wir als Europäer aber auch nicht alleine. Die Resolution 2231 fordert alle Mitgliedstaaten der Vereinten Nationen auf, die Umsetzung dieses Abkommens zu unterstützen. Deshalb stimmen wir im Moment alle Schritte, die wir gehen, eng mit den internationalen Partnern ab, aber vor allen Dingen mit denen, die am JCPoA beteiligt sind, also auch mit Russland und China; denn auch diese tragen als Mitunterzeichner eine besondere Verantwortung.\nUnd, ja, natürlich auch mit den Vereinigten Staaten. Darüber haben wir am Montag in Brüssel mit Außenminister Pompeo gesprochen. Dabei haben wir festgestellt: Ja, wir verfolgen die gleichen Ziele. Wir wollen einen Iran ohne Atomwaffen. Wir wollen, dass der Iran seine destruktive Rolle in der Region, in Syrien, im Jemen oder im Libanon, aufgibt. Und wir wollen, dass der Iran sein ballistisches Raketenprogramm und seine Drohgebärden gegen Israel stoppt.\nDie Wege aber, die wir dafür beschreiten, unterscheiden sich, und sie unterscheiden sich mittlerweile deutlich.\nWir glauben eben nicht – auch das haben wir am Montag gegenüber Außenminister Pompeo sehr deutlich gemacht –, dass uns eine unilaterale Strategie des maximalen Drucks wirklich weiterbringt. Das haben sowohl mein französischer Kollege als auch mein britischer Kollege und auch Federica Mogherini Außenminister Pompeo in aller Deutlichkeit gesagt; denn maximaler Druck birgt immer die Gefahr einer unbeabsichtigten Eskalation. Das, was in den letzten Tagen geschehen ist – die Sabotageakte auf Schiffe oder Pipelines –, sind doch Hinweise darauf, dass diese Gefahren konkret und real sind. Wenn man sich des Weiteren anschaut, welche Krisen und Konfliktherde es ansonsten in dieser Region gibt, dann brauchen wir zurzeit ganz sicher eines nicht, nämlich eine zusätzliche Zündschnur. Deshalb werden wir auch alles daransetzen, dass es so weit nicht kommt.\nMeine Damen und Herren, nicht nur wir und nicht nur unsere französischen und britischen Partner, sondern die komplette Europäische Union – das sei auch mal erwähnt; alle reden darüber, dass es innerhalb der Europäischen Union in bestimmten Fragen nicht mehr möglich ist, Einigkeit zu erzielen, doch das hier ist ein Beispiel dafür, dass es noch funktionieren kann –, wir alle setzen auf Dialog statt auf rhetorische Aufrüstung. Wir wollen, dass das JCPoA erhalten wird, nicht nur, um auch in der Zukunft einen Iran ohne Atomwaffen zu haben, sondern auch, um auf den Iran in regionalen oder sonstigen Sicherheitsfragen einwirken zu können. Das ist die Strategie, die wir mit unseren Partnern als Europäische Union in den kommenden Tagen und in den kommenden Wochen konsequent verfolgen werden.\nSchönen Dank.\n",
         "19",
         "100",
         "3",
         "11004809",
         "Heiko",
         "Maas",
         "SPD",
         null
        ],
        [
         "38",
         "19f8cf5c-8ba5-47b0-01cf-08da0f05b642",
         "11004812",
         "Sehr geehrte Frau Präsidentin! Meine Damen und Herren! Die Lage in der Krisenregion ist brandgefährlich. Die Vereinigten Staaten haben in den letzten Tagen und Wochen dort ein beachtliches militärisches Potenzial zusammengezogen, zu dem man das israelische wahrscheinlich im Konfliktfall wird hinzurechnen müssen.\nAngesichts dessen, dass eigentlich alle Vorredner auf die Aggressivität des Iran abgehoben haben, lohnt es sich, glaube ich, schon zu fragen: Wie aggressiv ist der Iran eigentlich tatsächlich? Und wie aggressiv war er in den vergangenen 20 oder 25 Jahren? Wie verlässlich ist das Land als Vertragspartner? Ich denke, es lohnt sich, diese Analyse nicht nur aus der Sicht der Europäer oder der Amerikaner, sondern auch aus der des Iran zu versuchen.\nDie Außenwahrnehmung der Politik des Iran ist ganz gewiss die eines aggressiven Staates, und zwar bereits seit 1979, seit der Machtübernahme des islamisch-klerikalen Regimes, gekennzeichnet – das ist ja alles bekannt – durch einen rabiaten, oftmals auch gewalttätigen Antiamerikanismus, durch Vernichtungsdrohungen gegen Israel, durch militärische Interventionen in Syrien, im Libanon, im Jemen und, wenn es zutrifft, was man zuletzt gehört hat, neuerdings auch noch in Venezuela; dort sollen iranische Militärberater aufgetaucht sein.\nDazu kommt die atomare Aufrüstung, die im Anfangsstadium steht, die durch das JCPoA unterbrochen worden ist, die Raketenentwicklung. Das alles sind eigentlich Parallelen zu Nordkorea. Auch das ist ein Staat, der auf atomare Sicherheiten abstellt, ein Staat mit einem riesigen militärischen Potenzial, das allerdings in großen Teilen veraltet und kaum einsatzbereit ist. Das gilt sicherlich auch für das militärische Potenzial des Iran.\nUnd schließlich oder auch als Erstes: Das autoritäre bis totalitäre iranische Regime duldet keinen Widerspruch und nimmt auch massive wirtschaftliche Nachteile für das Land in Kauf, wenn es das aus außenpolitischer Sicht für passend hält.\nAus iranischer Sicht würde man dagegenhalten. Dieses Regime war kaum an die Macht gekommen, 1979, als es auch schon in einen jahrelangen Krieg, einen Kampf auf Leben und Tod, mit dem Nachbarstaat Irak gezwungen wurde, der gerade auf iranischer Seite zu ungeheuren Verlusten an Menschenleben geführt hat. Daher ist es das natürliche Bestreben des Iran, kein feindseliges und hochgerüstetes Regime direkt an seiner Grenze zu dulden. Das erklärt manche der Aktivitäten des Iran im Irak, aber auch in Syrien. Dazu kommen die Opfer und Leiden, die durch die amerikanischen und andere Sanktionen über Jahrzehnte hinweg entstanden sind. Auch das Selbstverständnis des Iran als Schutzmacht der Schiiten in dieser Region spielt eine Rolle.\nEs gibt nun einen unauflöslichen Widerspruch: Man kann als Iran entweder Atomwaffen als angebliche Lebensversicherung haben, oder man kann in die Weltwirtschaft eingebunden sein und versuchen, die eigene Wirtschaft und den eigenen Wohlstand aufzubauen. Beides zugleich schließt sich wechselseitig aus. Die Frage ist nun: Was obsiegt in diesem Land, der religiöse Fanatismus, der sich vor allem in den Revolutionsgarden manifestiert, die in erster Linie Träger der militärischen Macht sind, oder die diplomatische Vernunft?\nWas wir beitragen können, ist im Grunde nicht sehr viel. Es ist die notwendige Einflussnahme auf die iranische Regierung in dem Sinne, dass sie das JCPoA nicht aufkündigt und dass sie selbst dann, wenn das geschehen sollte, nicht wieder die Urananreicherung aufnimmt, und es ist selbstverständlich auch die notwendige Einflussnahme auf die Vereinigten Staaten und letzten Endes auch auf Israel, es nicht zum Äußersten kommen zu lassen und auf Provokationen, wie sie ja bereits geschehen sind, nicht mit großer Gewalt zu antworten. Sehr viel mehr wird uns nicht möglich sein. Wir haben ja auch keine militärischen Ressourcen in dieser Region.\nInsofern bin ich wirklich der Überzeugung, dass die von Paul Hampel angeführte wünschenswerte große Konferenz über Sicherheit und Zusammenarbeit im Nahen Osten die Lösung sein wird im Sinne einer Internationalisierung dieses Konflikts.\nDanke schön.\n",
         "19",
         "100",
         "3",
         "11004812",
         "Lothar",
         "Maier",
         "AfD",
         "AfD"
        ],
        [
         "39",
         "3acdb4a2-b448-40c9-6545-08da102a68d8",
         "11004822",
         "Vielen Dank, Frau Präsidentin. – Sehr geehrte Damen und Herren! Bereits vor einem Jahr stand an dieser Stelle meine Kollegin Frauke Petry und zählte auf, wo und warum es hakt. Das Abkommen selbst ist eigentlich kein echter Vertrag, sondern mehr ein Commitment: zeitverzögerte Inspektionen, die 24 Tage vorher angekündigt werden und den Mullahs genügend Zeit geben, ihre nuklearen Absichten zu verstecken; die angebliche friedenserhaltende Wirkung, die leider nur eine europäische Illusion war, weil man an sie glauben wollte, während der Iran munter weiterhin Milizen in der arabischen Welt unterstützte oder auch Material an die Hamas lieferte; das Problem der Sunset-Klausel, die Frage, was wohl mit der Urananreicherung passiert, wenn das Abkommen ausläuft; und der hehre Wunsch der Europäer, zugleich Freund Israels und Freund Irans sein zu wollen. Das Abkommen ist leider ein realitätsferner Wunschtraum, der sich nicht erfüllt hat und auch nicht erfüllen kann in einer Region, wo nur der Feind eines Feindes ein temporärer Freund ist und als wesentliche Maxime nach wie vor immer noch die Vernichtung Israels zu hören ist.\nDie Bundesregierung hat in dieser Situation nicht auf ihre Verbündeten gehört, weder auf die USA noch auf Israel. Im Gegenteil: Nie war unser Verhältnis zu den USA und zu Israel gleichermaßen schlecht – wenig verwunderlich, wenn unsere eigene Israel-Politik oft im offenen Gegensatz zu der mit dem Iran steht. Hier im Parlament wird das nicht nur von den Regierungsfraktionen mitgetragen, sondern eben auch von den Fraktionen der Linken, der Grünen und der FDP, die sich an anderer Stelle zurzeit sehr stark für Israel einsetzen wollen.\nDie USA zum Sündenbock machen zu wollen, ist aber auch viel zu einfach. Denn 2016 – also quasi kaum ein halbes Jahr nach dem Abschluss des Commitments – war es der Iran selbst, der mit Raketentests gegen diese Vereinbarungen verstieß. Und Trump ist auch nicht einfach ausgestiegen, sondern er hat ganz klar deutlich gemacht: Er will einen besseren Deal. Und – es wurde vorhin schon angesprochen –: Die Gesprächsbereitschaft ist nach wie vor da. Handfeste und verifizierbare Ergebnisse sollen dabei herauskommen.\nStatt nun mutig den Provokationen aus Teheran entgegenzutreten, stellt sich die Frage, ob und vor allen Dingen wofür wir uns hier in Geiselhaft begeben wollen. Dass China und Russland das Atomabkommen einhalten, entspricht ihren eigenen geopolitischen und strategischen Zielen, ist also überhaupt nicht verwunderlich. Die EU schachert dagegen um ein Linsengericht wirtschaftlicher Interessen und ideologischer Moralattitüden, weil man sich für besser hält als die Amerikaner. Und aus Angst vor einer medial angeheizten Eskalation lässt man sogar die deutsche Staatsräson fallen, nämlich die Sicherheit Israels.\nDie Schließung von Botschaften, die vorhin angesprochen wurde, würde ich auch nicht als Angst vor dem Krieg interpretieren, sondern es ist eine Vorsorge bei massiv gestiegenem Anschlagsrisiko. Ich erinnere hier – sehr ungern – zum Beispiel an Bengasi.\nKrieg wollen weder die USA noch der Iran; ich denke, auch das sollte jedem klar sein. Denn das wäre am Ende kein Eins-zu-eins-Krieg, sondern es wäre ein wirtschaftlicher Stellvertreterkrieg. Wir sollten uns also schnellstens entscheiden zwischen dem Regime in Teheran und der israelischen Demokratie, zwischen unseren transatlantischen Bündnispartnern und den Wirtschaftsinteressen Pekings.\nEin neuer, ein echter Deal steht dem gar nicht im Wege. Der Iran war mit der Entwicklung bürgerlicher und religiöser Freiheiten schon sehr viel weiter. Und mit einem neuen Abkommen könnten die Mullahs beweisen, ob sie echte Veränderung zulassen wollen. Die Hand sollten wir ihnen reichen – mit klar definierten Standpunkten und ganz klaren Erwartungen.\nDanke.\n",
         "19",
         "100",
         "3",
         "11004822",
         "Mario",
         "Mieruch",
         "LKR",
         null
        ],
        [
         "40",
         "b126ffd3-5c64-4972-00e6-08da0f05b642",
         "11004826",
         "Frau Präsidentin! Verehrte Kolleginnen und Kollegen! Liebe Zuhörerinnen und Zuhörer! Das einzige Instrument direkter Beteiligung auf Bundesebene und damit eine der wichtigsten tagtäglichen Brücken zwischen Bürgerinnen und Bürgern und uns hier im Parlament ist der Petitionsausschuss; denn vor allen Dingen durch Petitionen erfahren wir von den aktiven Bürgerinnen und Bürgern von strukturellen Missständen, nicht vorhersehbaren Auswirkungen von Gesetzen und erhalten Vorschläge, wo etwas eventuell besser geregelt werden könnte oder müsste. Kurzum: Durch Petitionen erfahren wir ganz unmittelbar, wo es hakt und wo wir als Parlament tätig werden müssten oder könnten.\nEin Beispiel für diese praktische Rückbindung, das mir sehr am Herzen liegt und wo wir uns sehr aktiv eingebracht haben, möchte ich hier kurz umreißen. Im Entwurf für das Terminservice- und Versorgungsgesetz war ursprünglich die Einführung einer gestuften Versorgung in der Psychotherapie vorgesehen. Es hagelte massive Kritik von den Psychotherapeutinnen und ‑therapeuten, die sagten, dieser Vorschlag würde für die Betroffenen eine unnötige Hürde auf dem Weg zu einem Therapieplatz bedeuten. Über 217 000 Menschen unterstützten eine Petition, die die Streichung dieser Regelung aus dem Gesetzentwurf forderte. Mitte Januar hat der Petitionsausschuss gemeinsam mit Gesundheitsminister Spahn die Petition in einer öffentlichen Anhörung beraten. Danach wurde die Regelung zur Freude der Petentinnen und Petenten, der Betroffenen, im weiteren Gesetzgebungsverfahren schließlich aus dem Gesetzentwurf gestrichen und das Gesetz ohne diese Regelung verabschiedet. – Für mich ist das ein wirklich gutes Beispiel dafür, wie die konstruktive Kritik aus einer Petition, gekoppelt mit konstruktiven Vorschlägen und guten Sachargumenten, in die Arbeit des Parlaments einfließt und dort Berücksichtigung findet.\nEine Sache möchte ich an diesem Punkt klarstellen; denn oft gibt es hier ein gravierendes Missverständnis: Das Quorum für die öffentliche Anhörung einer Petition, so wie es in dem von mir beschriebenen Beispiel der Fall war, liegt bei 50 000 Unterschriften. Das Quorum dafür, dass wir Ihre Petition ernsthaft und mit allem Elan behandeln, liegt bei einer einzigen, nämlich bei der Unterschrift des Petenten oder der Petentin.\nDie Arbeit im Petitionsausschuss ist, wie von vielen Kolleginnen und Kollegen beschrieben, in der Regel konstruktiv, ist aber leider von rechts außen unter Beschuss geraten. Die gelebte Praxis der AfD, den Parlamentsbetrieb zu stören und öffentlich zu diskreditieren, wo es nur geht, dürfen wir auch regelmäßig bei uns im Ausschuss erleben – angefangen von langatmigen Debattenbeiträgen, die an der jeweiligen Sachlage vorbeigehen und damit zeitraubend sind, wo unsere Sitzungszeit schon so knapp bemessen ist, über das öffentliche Instrumentalisieren von Petitionen für die eigene menschenfeindliche Propaganda bis hin dazu, dass AfD-Abgeordnete die Mitarbeiterinnen und Mitarbeiter des Ausschussdienstes unter Druck gesetzt haben, als es wegen einer Überlastung der Internetplattform des Petitionsausschusses zu einem unerwarteten Ausfall kam. Ich vermute, es hätte Sie weit weniger interessiert, wenn es dabei nicht um den Globalen Pakt für Migration gegangen wäre, gegen den Sie eine intensive Social-Media-Kampagne geführt haben.\nAn dieser Stelle möchte ich kurz einschieben: Die von mir anfangs erwähnte Petition zur psychotherapeutischen Versorgung wurde von über 100 000 Menschen mehr unterstützt als jene, die durch die AfD so hochstilisiert wurde. – Das nur einmal, um die Relationen aufzuzeigen.\nFür mich ist es bezeichnend, dass gerade die, die meinen, den wahren Willen des Volkes im Parlament zu vertreten, versuchen, die Arbeit des Parlamentes und des Petitionsausschusses zu kapern und zu behindern. Seien Sie sicher: Das werden wir Ihnen auch in Zukunft nicht durchgehen lassen!\nZum Abschluss möchte ich mich bedanken: Danke allen anderen Kolleginnen und Kollegen, die jederzeit um eine gute, lösungsorientierte Zusammenarbeit bemüht waren. Ebenfalls ein herzliches Dankeschön an alle Mitarbeiterinnen und Mitarbeiter, die auch unter erschwerten Bedingungen ihre wichtige Arbeit geleistet haben. Ich freue mich auf die weitere Zusammenarbeit.\nVielen Dank.\n",
         "19",
         "100",
         "4",
         "11004826",
         "Siemtje",
         "Möller",
         "SPD",
         "SPD"
        ],
        [
         "41",
         "9ab94ea7-20c2-40f5-64a7-08da102a68d8",
         "11004845",
         "Verehrte Frau Präsidentin! Meine sehr geehrten Damen und Herren! Ich bleibe bei meiner Linie, dass ich nicht wesentliche Teile meiner Redezeit darauf verwende, auf die Legendenbildung eines AfD-Kollegen einzugehen.\nIch will mich auf das Thema konzentrieren, um das es heute hier geht.\nIch darf sagen: Ich bin ja in meiner ersten Wahlperiode Mitglied des Deutschen Bundestages, und ich war und bin weiterhin erstaunt, mit welchem Aufwand der Deutsche Bundestag sich jeder einzelnen Petition annimmt. Das Petitionsrecht ist damit nach meiner Überzeugung eines der bedeutendsten Angebote, das der Deutsche Bundestag zu bieten hat, und es ist vor allen Dingen ein starker Baustein in Sachen direkter Demokratie.\nDer Petitionsausschuss interessiert sich dabei sowohl für Petitionen, die von sehr vielen Menschen unterzeichnet und unterstützt werden, aber eben auch für Einzelpetitionen. So hat jeder die Chance, Einfluss auf die Politik in unserem Lande zu nehmen.\nOnlinepetitionen, öffentliche Petitionen, öffentliche Sitzungen: All dies sind Beispiele dafür, dass der Deutsche Bundestag die Anliegen der Bürgerinnen und Bürger ernst nimmt. Natürlich – jetzt muss ich doch ein bisschen auf das eingehen, was wir gerade eben gehört haben – ist es deshalb ausgesprochen kritikwürdig, wenn der Petitionsausschuss benutzt wird, um damit parteipolitische Zwecke zu verfolgen, und wenn der Petitionsausschuss missbraucht wird.\nEs ist natürlich nicht im Sinne der Väter und Mütter des Grundgesetzes, wenn aus Abgeordnetenbüros heraus Petitionen geschrieben werden und sich daran parteipolitische Kampagnen anschließen. Das ist nicht Sinn und Zweck des Petitionsausschusses, und so ist es bei der AfD ja geschehen.\nDas gefährdet das Instrument des Ausschusses.\nMeine Damen, meine Herren, natürlich hat nicht jede Petition Aussicht auf Erfolg. Nicht selten aber werden durch Petitionen politische Themen gesetzt und auch die Meinungsbildung im Parlament beeinflusst.\nKollege Oster, gestatten Sie eine Frage oder Bemerkung des Abgeordneten Hebner?\nJa, ausnahmsweise. Normalerweise mache ich es nicht, aber wir haben ja Zeit; das ist der letzte Tagesordnungspunkt heute. Von daher: Auf geht’s, Herr Hebner!\nHerzlichen Dank für die Zulassung der Frage.\nGerne.\nSie haben gerade den Globalen Pakt für Migration und die Petitionen angesprochen, und Sie haben ganz klar erklärt, dass Sie jede Petition ernst nehmen.\nEs gibt ein Interview Ihres Kollegen Herrn Wendt, seines Zeichens Ausschussvorsitzender, der am 19. November letzten Jahres gesagt hat, die vorliegenden Petitionen zum Globalen Pakt für Migration seien volksverhetzend oder falsch.\nUnter anderem lag eine Petition von Frau Lengsfeld vor. War die Petition von Frau Lengsfeld volksverhetzend? War das in dem Fall eine Bürgerrechtlerin, die schon in der DDR aufgetreten ist und plötzlich auc h hier, von Ihrer Seite – sprich: von Ihrem Kollegen –, als volksverhetzend dargestellt wird,\noder wurde sie als falsch dargestellt? Die Petition wurde übrigens unter anderem von Herrn Dr. habil. Vosgerau mit erstellt.\nAlso, war die Frau Lengsfeld volksverhetzend, oder ist Herr Dr. Vosgerau falsch gelegen? Können Sie das erläutern?\nHerzlichen Dank.\nWir haben klare Regeln, wann Petitionen zugelassen und freigeschaltet werden, und an diese Regeln halten wir uns. Das gilt für alle Fraktionen. Klar ist aber: Das ist Ihr Lieblingsthema. Das wissen wir ja; es gibt ja keine Debatte, in der Sie nicht irgendwann auf das Thema Migration zu sprechen kommen.\nDas hat auch die Debatte im Petitionsausschuss geprägt, aber es waren eben nicht nur Petitionen, die in Ihrem Sinne und mit Ihrer Zielsetzung eingegangen sind, sondern es sind auch sehr viele andere Petitionen eingegangen. Ich finde, das ist ein Beispiel dafür, wie vielfältig, aber auch wie konträr die Arbeit des Petitionsausschusses sein kann, gerade weil das Thema Migration natürlich auch unsere Arbeit im Petitionsausschuss geprägt hat.\nIch will mich an Ihrer Legendenbildung hier jetzt aber nicht beteiligen. – Das muss reichen\nIch will ein Beispiel erwähnen, das vielleicht auch einen ganz anderen Eindruck erweckt und zeigt, dass die Arbeit im Petitionsausschuss auch sehr konkret sein kann: Wir haben unter anderem eine Petition gehabt, die sich mit den Funktionen unseres Personalausweises befasst hat. Es ging darum, dass im Ausland lebende Deutsche bislang nicht die Möglichkeit hatten, ihre Auslandsadresse im Personalausweis zu hinterlegen. Das führt zu vielen Benachteiligungen im praktischen Ablauf, insbesondere wenn es um Onlinefunktionen geht. Diese Petition hat Eingang in den parlamentarischen Prozess gefunden, und gerade aktuell wird das Personalausweisgesetz geändert, mit der ganz konkreten Möglichkeit, in Zukunft auch Auslandsadressen eintragen zu können. – Das ist ein schönes Beispiel dafür, wie Petitionen direkt Eingang ins Gesetzgebungsverfahren finden.\nIch will darüber hinaus natürlich auch den Aspekt erwähnen – das haben wir gerade schon kurz diskutiert –, dass sich auch die großen gesellschaftlichen Debatten im Petitionsausschuss widerspiegeln, und natürlich hat das Thema Migration auch unsere Beratungen im vergangenen Jahr ein Stück weit geprägt.\nEs gab Petitionen, die die Forderung nach Verschärfungen der Migrationspolitik, nach einer Begrenzung der Anzahl der Flüchtlinge, nach schnelleren Abschiebungen und nach einem stärkeren Schutz der Binnen- und EU-Außengrenzen beinhaltet haben. Es gab aber auch eine ganze Reihe von Petitionen, die sich mit der Integration von Flüchtlingen, mit Beschäftigungsmöglichkeiten und mit der Frage des Familiennachzuges auseinandergesetzt haben.\nDas zeigt eben – ich habe es gerade schon erwähnt –, wie konträr die Eingaben im Petitionsausschuss sein können.\nGerade wenn ich mir diese Petitionen anschaue, bin ich froh, dass wir jetzt endlich über das Geordnete-Rückkehr-Gesetz und über das Fachkräfteeinwanderungsgesetz im Bundestag diskutieren werden. In diese beiden Gesetzentwürfe sind eben auch Erkenntnisse aus unserem Petitionsausschuss eingeflossen.\nIch will ein weiteres Beispiel erwähnen, das unsere Diskussionen geprägt hat: Viel Aufmerksamkeit hat eine Petition erhalten, die sich mit der Arbeitszeit der Bundesbeamten beschäftigt hat. Die wöchentliche Arbeitszeit soll demnach von derzeit 41 Stunden auf 39 Stunden reduziert werden. Das betrifft in Deutschland rund 181 000 Menschen, die bei uns als Bundesbeamte beschäftigt sind.\nDazu hat aufgrund der großen Unterstützerzahl bereits eine öffentliche Anhörung stattgefunden. Demnächst wird es dazu dann auch die Debatte im Ausschuss geben. Im Moment, wenn ich das richtig sehe, verzögert allerdings die Fraktion der Linken den weiteren Ablauf dieser Petition. Wir hoffen, dass wir bald auch ihre Berichterstattung zurückbekommen und über diese Petition im Ausschuss reden können.\nMeine sehr geehrten Damen und Herren, diese Beispiele zeigen, dass durch dieses demokratische Mittel der Bürgerbeteiligung wichtige Erkenntnisse aus Petitionen in den Gesetzgebungsprozess einfließen können. Darüber hinaus – auch das darf ich erwähnen – kann man aus der Anzahl der Eingaben zu einzelnen Themengebieten auch gewisse Rückschlüsse ziehen.\nIm März dieses Jahres hat die Fraktion von Bündnis 90/Die Grünen einen Gesetzentwurf vorgelegt, in dem sie sich für die Einrichtung eines zusätzlichen Polizeibeauftragten ausgesprochen hat. Der Antrag wurde mit großer Mehrheit vom Deutschen Bundestag abgelehnt – aus gutem Grund, wie die aktuellen Zahlen aus dem Jahresbericht belegen. In gerade einmal 29 Petitionen ging es um Themen rund um die Bundespolizei, in sechs Fällen um Personalangelegenheiten. Zehn Beschwerden wurden zur Arbeit der Bundespolizei vorgetragen, elf Anliegen waren allgemeiner Natur. Einen Bedarf für eine teure zusätzliche Beschwerdestelle kann ich aus diesen Zahlen nicht erkennen.\nMeine Damen, meine Herren, zum Abschluss möchte ich betonen, dass ich die Arbeit im Petitionsausschuss als ausgesprochen bereichernd empfinde. Über 13 000 Petitionen im Jahr 2018 belegen die große Resonanz bei den Bürgerinnen und Bürgern. Bei dieser großen Anzahl – auch das muss man sagen – bleibt gerade auch die schnelle Abwicklung der Verfahren eine zentrale Herausforderung, der wir uns weiter stellen müssen.\nUmso mehr möchte ich auch im Namen der Unionsfraktion allen, den vielen Mitarbeiterinnen und Mitarbeitern des Ausschusses, für ihre engagierte Arbeit herzlich danken. Ich beziehe in diesen Dank auch die Mitarbeiterinnen und Mitarbeiter in den einzelnen Abgeordnetenbüros mit ein und natürlich auch unsere Fraktionsreferentin.\nHerzlichen Dank.\n",
         "19",
         "100",
         "4",
         "11004845",
         "Josef",
         "Oster",
         "CDU",
         "CDU/CSU"
        ],
        [
         "42",
         "3a837399-9346-4288-989c-08da0ffa5a12",
         "11004876",
         "Frau Präsidentin! Meine sehr verehrten Damen und Herren! Die Lage im Nahen Osten ist brandgefährlich. Wir haben eine Zusammenballung von Krisen, Kriegen und Konflikten, die wir nur in den düstersten Farben beschreiben können: die Nachwirkungen der US-Intervention im Irak, der Bürgerkrieg in Libyen, der furchtbare, lang andauernde Krieg in Syrien, der Jemen-Konflikt – eine humanitäre Katastrophe –, die negativen regionalen Aktivitäten des Iran, eine zunehmend offensive, eigenständige und mit massiver militärischer Aufrüstung verbundene Außenpolitik von Saudi-Arabien und den Vereinigten Arabischen Emiraten, die sich selber als regionalpolitische Player verstehen, und natürlich im Hintergrund seit vielen Jahrzehnten der ungelöste Konflikt zwischen Palästinensern und Israelis.\nIn diese düstere Lage hinein kam das Nuklearabkommen mit dem Iran, der erste Lichtblick von Diplomatie in dieser Region. Es war das erste Mal, dass zumindest ein Teilkonflikt in der Region mit diplomatischen Mitteln gelöst wurde, und zwar durch eine völkerrechtliche Vereinbarung, durch eine vom UN-Sicherheitsrat zertifizierte Vereinbarung. Sie hatte Unzulänglichkeiten. Jeder wusste: Sie ist nur der Ausgangspunkt für weitere notwendige, harte Gespräche mit dem Iran über seine ballistische Raketenaufrüstung, über seine regionale Rolle. Aber dennoch: Es war der Triumph der Diplomatie.\nUmso unverständlicher ist es, dass ausgerechnet die Amerikaner dieses Abkommen infrage gestellt haben. Was sollen denn andere Länder in der Welt als Lehren aus dieser Kündigung ziehen? Der, der ein Abkommen über nukleare Abrüstung schließt, wird von den Amerikanern verstoßen, wird mit einer Kündigung bedacht. Der, der die Atomwaffen in der Hand hat, bekommt wie im Falle Nordkoreas ein Gipfeltreffen mit dem amerikanischen Präsidenten. Dass hier die Verhältnisse völlig verschoben worden sind und dass die Diplomatie zurückgestellt worden ist zugunsten von maximalem Druck, genau das ist aus meiner Sicht ein Grundfehler der amerikanischen Außenpolitik.\nDeshalb ist für uns als SPD völlig klar: Wir wollen dieses Atomabkommen aufrechterhalten. Wir wollen weiterhin auf Diplomatie setzen. Und wir wollen dem Iran als unserem Vertragspartner deutlich machen: Da gibt es keine Ausflüchte. Wenn ihr anfangt, die Grenzen des Atomabkommens zu sprengen, dann ist das Atomabkommen am Ende, und dann gibt es nur den Rückfall zu automatisch wieder in Kraft zu setzenden Sanktionen.\nDas muss der Iran wissen. Es gibt kein Finassieren, kein Fingerzeigen auf die Amerikaner oder andere Partner. Vielmehr hat es der Iran selber in der Hand, dieses Atomabkommen aufrechtzuerhalten.\nGenauso klar sagen wir unseren amerikanischen Freunden: Eine weitere Militärintervention der USA in dieser Region würde zum Kollaps des gesamten Nahen und Mittleren Ostens führen. Das wäre fatal. Deshalb ist für uns klar: Deutschland wird sich an einem Militäreinsatz im Iran, gegen den Iran nicht beteiligen.\nDas sagen wir genauso deutlich den amerikanischen Partnern, und wir weisen unsere amerikanischen Partner auch darauf hin, dass es sich im Falle eines Falles selbstverständlich nicht um einen Bündnisfall nach Artikel 5 des NATO-Vertrages handeln würde. Das müssen die Amerikaner wissen, wenn sie jetzt so ein Säbelrasseln am Persischen Golf veranstalten.\nEntscheidend für uns ist, dass wir jetzt alle Mittel der Diplomatie zur Deeskalation einsetzen. Ich bin skeptisch gegenüber denjenigen, die sagen: Wir müssen jetzt das große Fass aufmachen und alle Probleme auf den Tisch bringen. – Das Vorgehen beim Nuklearabkommen entsprach genau dem Gegenteil. Viele Jahre lang hat man versucht, mit dem Iran über alles Mögliche zu reden, und dann hat man sich entschieden, dass drängendste Problem, nämlich die nukleare Aufrüstung des Iran, anzugehen und dazu eine Lösung zu finden. Zu glauben, es würde besser werden, wenn man jetzt alle Themen auf den Tisch bringt, das halte ich für verwegen. Wir müssen als EU alles dafür tun, dass der Ausgangspunkt, nämlich die Vermeidung einer nuklearen Aufrüstung des Iran, nicht aus dem Blick gerät und dass die wirtschaftlichen Vorteile des Iran aus diesem Abkommen auch wirklich sichtbar werden. Dazu gehört aus meiner Sicht, dass wir INSTEX wesentlich engagierter aufbauen, dass wir uns wesentlich engagierter dafür einsetzen, dass Nicht-EU-Staaten sich an INSTEX beteiligen und dass wir damit nach und nach ein Volumen generieren, das auch für den Iran ein Festhalten an diesem Atomabkommen attraktiver macht.\nSchließlich gehört dazu ein geschlossener Auftritt der EU, auch im Rahmen der UN-Organe Sicherheitsrat und Generalversammlung. Wir müssen darauf hinweisen, dass wir eine friedliche Lösung der Konflikte in der Region wollen und dass der Einsatz von militärischen Mitteln der falsche Weg ist.\nVielen Dank.\n",
         "19",
         "100",
         "3",
         "11004876",
         "Nils",
         "Schmid",
         "SPD",
         "SPD"
        ],
        [
         "43",
         "c502999f-6585-4f94-90a3-08da0e372f11",
         "11004898",
         "Frau Präsidentin! Sehr geehrte Damen und Herren! Wir haben hier nun viel Lobenswertes gehört; da kann ich noch etwas Wasser in den Wein kippen. Den Petitionsausschuss würde ich als zahnlosen Tiger bezeichnen. Herr Todtenhausen hat es eben gesagt: Das höchste Votum wurde nicht ein einziges Mal umgesetzt.\nMeine Damen und Herren, Hoffnung auf direkte Demokratie oder Hilferufe danach kommen von den Petenten. Die Beschlüsse, die wir fassen, sollen ja als Empfehlungen an die Adressaten verstanden werden. Da sind Zweifel angebracht. Ich gehe auf das Beispiel der sogenannten kurzen Südabkurvung am Flughafen Leipzig/Halle ein. Diese Petition ist von 2007. Sie beschäftigt sich mit dem Planfeststellungsverfahren, in dem festgestellt wurde, dass der Schutz der Stadt Leipzig und des Leipziger Auwaldes vor Lärmbelästigung in einem verträglichen Maße gewährleistet sein soll; das Bundesverwaltungsgericht hat sich ähnlich ausgedrückt. Aufgrund dessen hat der Petitionsausschuss mehrfach getagt und dieses Petitum – Herr Todtenhausen sagte es eben – zur Berücksichtigung ausgesprochen. Das ist die schärfste Waffe, die wir haben. Wir haben damit der Regierung gesagt: Nun tut mal was für die Leute dort. Das ist der Großraum Leipzig; hier geht es um 60 000 bis 80 000 Betroffene. – Dort herrscht Chaos, meine Damen und Herren. Dort starten Maschinen mit hohem Startgewicht, was eine sehr große Lärmbelästigung bedeutet.\nNun hat der Ausschuss am 29. Juni 2017 das Votum „zur Berücksichtigung“ ausgebracht. Im Juli 2017 hat der Bundestag auch noch beschlossen, dass das Votum so gelten soll – einstimmig, meine Damen und Herren. Darauf folgten wieder Berichterstattergespräche, Unterhaltungen, Konferenzen – alles Mögliche. Es passierte nichts.\nAm 20. November 2018 hatten wir wieder ein Gespräch mit Regierungsvertretern. Darauf folgte am 7. Dezember eine Erklärung – Dank dafür an unseren Vorsitzenden Marian Wendt –, in der er noch einmal deutlich machte, dass wir, der Petitionsausschuss, erwarten, dass das Anliegen der Petenten im Planfeststellungsverfahren berücksichtigt wird. Das haben Vertreter aller Fraktionen einstimmig beschlossen. Aber es passiert nichts. Deswegen der Begriff „Papiertiger“! Was hat es denn für einen Zweck, wenn die Bevölkerung in dem Glauben gelassen wird: „Wir können etwas ändern“, wenn die Regierung sich überhaupt nicht dafür interessiert und sich nicht an dem orientiert, was wir beschlossen haben? Wir geben das Votum „zur Berücksichtigung“ ab, und keiner tut etwas, meine Damen und Herren.\nDas geht mittlerweile seit 2007 so.\nIch fordere die Regierung hiermit auf, den Petitionsausschuss endlich ernst zu nehmen. Ich frage Sie: Warum beschließen wir etwas, wenn Sie unsere Beschlüsse nicht umsetzen? Die Abstufungen wurden schon genannt: Wir haben das höchste Votum ausgebracht. Ich fordere die Regierung auf, den Petitionsausschuss endlich ernst zu nehmen.\nVielen Dank.\n",
         "19",
         "100",
         "4",
         "11004898",
         "Detlev",
         "Spangenberg",
         "AfD",
         "AfD"
        ],
        [
         "44",
         "c6cef34b-76a0-40a2-6ee7-08da0f22a008",
         "11001023",
         "Meine Damen und Herren! Frau Präsidentin! Es ist gerade einmal zwei, drei Stunden her, dass wir viele schöne Worte über das 70-jährige Bestehen des Grundgesetzes gehört haben. Aber ein Blick in die rechte Ecke zeigt – das wird angesichts der Hetze und Spaltung,\ndie Sie heute wieder betrieben haben, deutlich –, dass Sie von unserem Grundgesetz, von unserer Verfassung nichts verstanden haben.\nAber auch in Richtung der Regierungsreihen muss man sagen, dass das Geordnete-Rückkehr-Gesetz, das die Bundesregierung heute im Entwurf vorlegt, die verbliebenen Rechte von Schutzsuchenden bis zur Unkenntlichkeit verstümmelt.\nIch nenne Ihnen dafür ein paar Beispiele: die maßlose Ausweitung der Abschiebehaftgründe und das Aushungern – anders kann man es nicht nennen – von Schutzsuchenden, die über einen anderen EU-Staat nach Deutschland kommen. Griechenland und Italien sind Länder, in denen Schutzsuchende unter elendigen Bedingungen leben müssen.\nDas ist eine Duldung zweiter Klasse für Geflüchtete, die aus Sicht der Behörden nicht genügend an der eigenen Abschiebung mitwirken.\nNicht zuletzt wollen Sie neue Geheimhaltungspflichten für geplante Abschiebungen einführen. Beispielsweise müssen Amtsträger künftig mit einer Haftstrafe von fünf Jahren rechnen, wenn sie Informationen, etwa den Zeitpunkt von Abschiebungen, weitergeben. Flüchtlingsräte und übrigens auch zivilgesellschaftliche Initiativen befürchten zu Recht eine Kriminalisierung. Sie befürchten, dass ihnen, wenn sie Abzuschiebende beraten, Anstiftung oder Beihilfe zum Geheimnisverrat vorgeworfen wird. Das ist gegenüber der Zivilgesellschaft, aber auch gegenüber den Beamten, die solidarisch handeln, ein ganz schäbiges Vorgehen, meine Damen und Herren.\nDie Koalition will so angebliche Vollzugsdefizite bei Abschiebungen bekämpfen. Doch diese Vollzugsdefizite existieren nur in der Fantasie der Bundesregierung; das muss man hier einmal ganz deutlich sagen.\nFalschinformationen dienen regelmäßig zur Stimmungsmache in diesem Land. Ich will Ihnen Beispiele geben: Von den 236 Ausreisepflichtigen,\ndie Herr Lindh eben angesprochen hat, haben 180 000 eine Duldung. Viele dürfen aus guten Gründen nicht abgeschoben werden: weil sie eine Ausbildung machen,\nwegen familiärer Bindungen, aus medizinischen Gründen. Manche haben auch gar keinen Asylantrag gestellt, sondern sind hier aus humanitären Gründen. 50 000 Ausreisepflichtige ohne Duldung sind vermutlich längst ausgereist.\n– Lachen Sie ruhig. – Die Bundesregierung hat auf eine Kleine Anfrage genau das zugegeben: Sie selber hat ein Datenchaos im Ausländerzentralregister bestätigt, das bislang nicht bereinigt worden ist. Anstatt Karteileichen aus dem AZR endlich zu beseitigen, sollte die Bundesregierung nicht eine öffentliche Vergiftung des Klimas betreiben, indem sie mit falschen Zahlen arbeitet.\nIm Jahr 2017 wurden über 4 000 Flüchtlinge in Abschiebehaft genommen. Das ist mehr als doppelt so viel wie im Jahr 2015.\nGerichtsurteile und Erfahrungen von Anwälten zeigen, dass etwa die Hälfte aller Anordnungen zur Abschiebehaft rechtswidrig ergeht. Die Bundesregierung will alles verschlimmern, indem sie die Abschiebehaft künftig noch leichter und umfassender anordnet, und das alles ohne Beschränkung durch richterliche Kontrolle. Das geht gar nicht.\nNoch dazu will sie die Abzuschiebenden in ganz normale Strafgefängnisse sperren, wie wir heute gehört haben. Das hat der Europäische Gerichtshof 2014 eindeutig untersagt. Flucht ist kein Verbrechen. Es ist menschenunwürdig, Schutzsuchende wie Strafgefangene hier in Deutschland zu behandeln. Deshalb lehnen wir diese Forderung bzw. Maßnahme entschieden ab.\nJahr für Jahr werden etwa 25 000 Menschen abgeschoben. Bund und Länder setzen Abschiebungen längst mit beispielloser Brutalität durch.\nErst in der letzten Woche hat das Antifolterkomitee des Europarats Kritik an der deutschen Praxis geübt. Deutschland solle bei Abschiebungen seine „unverhältnismäßige und unangemessene“ Gewaltanwendung beenden. Konkret ging es hier um einen Mann, der während seiner Abschiebung – übrigens nach Afghanistan – am ganzen Körper mit Klebeband gefesselt und von sechs Beamten festgehalten wurde.\nEin Beamter drückte dem Betroffenen die Luft ab. Ein weiterer quetschte immer wieder seine Genitalien. Menschen, die sich verzweifelt gegen ihre Abschiebung wehren, müssen damit rechnen, dass ihr Widerstand mit roher körperlicher Gewalt gebrochen wird.\nDa frage ich Sie doch: Wo ist hier die Würde des Menschen? Warum gehen Sie nicht auf solche Dinge ein?\nDie Menschenrechte dieser Geflüchteten werden im wahrsten Sinne des Wortes mit Füßen getreten.\nFrau Kollegin, kommen Sie bitte zum Ende.\nJa, ich komme gleich zum Schluss. – Die Brutalisierung der Abschiebepolitik lässt sich übrigens auch durch Kleine Anfragen und die Antworten der Bundesregierung belegen.\nIch möchte zum Schluss sagen: Mit diesem Gesetz bereiten Sie der AfD den Weg. Die SPD sollte über diesen Gesetzentwurf gründlich nachdenken und auch darüber, ob man solchen Schweinereien zustimmen kann.\nIch danke Ihnen.\n",
         "19",
         "101",
         "3",
         "11001023",
         "Ulla",
         "Jelpke",
         "DIE LINKE.",
         "Die Linke"
        ],
        [
         "45",
         "396a3ded-5f0b-4e43-eef1-08da0e4d69bc",
         "11002003",
         "Frau Präsidentin, noch einer ist leibhaftig hier. – Meine sehr geehrten Kolleginnen und Kollegen! Der Vertrag von Aachen ist die Fortsetzung des Élysée-Vertrages. Er ist eine Übersetzung und Verdichtung angesichts der heutigen Herausforderungen. Von der Emotionalität her mag er nicht so groß sein, es mag keine große Symbolik dahinterstehen, aber in ihm steckt sehr viel mehr, als in manchen Beiträgen aufgeschienen ist.\nIch möchte mich nicht nur, aber insbesondere mit Artikel 4 des Vertrages auseinandersetzen. Natürlich ist die gemeinsame Politik in Europa, alleine schon im Bereich Klimaschutz – ich erinnere an COP 21, das Pariser Abkommen, den Pariser Vertrag, an die Zusammenarbeit in diesem Bereich –, aber auch in der Außenpolitik, nicht nur, aber im Wesentlichen durch den deutsch-französischen Motor inspiriert. Das soll auch so sein. Deswegen hat die Vereinbarung gemäß Artikel 4, eine besondere bilaterale Beistandspflicht zu haben, eine neue Qualität. Herr Kollege Gauland, aber das ist exakt das, was die territoriale Zuständigkeit und darüber hinaus die Verpflichtung des Artikels 42 Absatz 7 des EU-Vertrages und die des alten Brüsseler Paktes, der Westeuropäischen Union, beinhaltet. Es hat sich überhaupt nichts geändert.\nHerr Schmidt, erlauben Sie eine Zwischenfrage oder -bemerkung von Herrn Kleinwächter?\nIch erlaube mal.\nVielen Dank, Herr Schmidt. – Ihre Aussage, dass Artikel 4 keine deutliche Relevanz hätte oder nicht mit einer Zunahme an Verpflichtungen verbunden sei, verwundert mich nun doch. Es gibt ein wissenschaftliches Gutachten des Wissenschaftlichen Dienstes genau zu diesem Thema, das besagt, dass die Bündnisverpflichtung in Artikel 4 des Aachener Vertrages deutlich über die Reichweite des Artikels 5 des NATO-Vertrages und auch über die des von Ihnen erwähnten Artikels 42 Absatz 7 der EU-Verträge hinausgeht.\nEs ist nämlich so, dass die Bündnisverpflichtung nach Artikel 4 des Aachener Vertrages explizit militärische Mittel einschließt. Genau das ist im EU-Vertrag nicht gegeben. Im EU-Vertrag gibt es nur eine Beistandsverpflichtung. Bei terroristischen Anschlägen gilt die Beistandsverpflichtung nur als Hilfeleistung. Das regelt Artikel 222 AEUV. Auch die NATO-Bündnisverpflichtung ist nicht unbedingt auf direkte militärische Hilfeleistung gemünzt.\nWürden Sie mir also zustimmen, dass es, wie der Wissenschaftliche Dienst herausgefunden hat, selbst bei einem Terroranschlag oder einem Cyberangriff möglich wäre, dass Frankreich von uns völkerrechtlich den Kriegseinsatz for dert und dass wir deswegen in einen Krieg eingebunden werden könnten? Haben Sie das in Ihrer Fraktion besprochen, geprüft, und sind Sie sicher, dass Sie das beschließen wollen?\nHerr Kollege, wenn Sie mich gefragt hätten, ob ich Ihnen zustimme, dass Sie sich in den verschiedenen Vorstufen etwas verloren haben, dann würde ich sagen: Ja.\nIch empfehle Ihnen, den Blick darauf zu richten, was die Westeuropäische Union seit 1952 in Bezug auf eine stärkere Verpflichtung als das, was in Artikel 5 des NATO-Vertrages drinsteht, vorsieht. Nichts anderes ist im Aachener Vertrag enthalten. Ich habe, Frau Präsidentin, höchsten Respekt vor dem Wissenschaftlichen Dienst des Deutschen Bundestages, aber ich habe noch mehr Respekt vor der Denkschrift der Bundesregierung zum vorliegenden Vertragswerk. Ich empfehle, es zu lesen. Da steht nämlich exakt drin, dass Artikel 42 Absatz 7 des EU-Vertrages die Grundlage hierfür ist.\nMachen Sie in Ihrer Fraktion eine Diskussionsrunde. Ich bin gerne zu einem Sachvortrag bereit, für Sie ohne Honorar.\nEs gibt Fragen, die wir hier zu stellen haben. In diesem Zusammenhang will ich sagen: Ja, der bilaterale Aspekt des Artikels 4 ist interessant, und es geht um mehr als die bisherige Verpflichtung aus dem Élysée-Vertrag. Er hat eine politisch verstärkende Wirkung für Zusammenarbeit. Ich muss schon sagen, dass wir in diesen Bereichen auch stärker zusammenarbeiten müssen; Kollege Link hat da dankenswerterweise einiges angedeutet.\nIm Zusammenhang mit der Überschrift „Geheim­abkommen“ ist mir eigentlich nur das berühmte Schmidt-Debré-Abkommen aus dem Jahr 1972 bekannt.\nAber gerade dieses – das muss der Korrektheit wegen dazu gesagt werden; das ist eine politische Notwendigkeit – steht in einem gewissen Spannungsverhältnis zu dem, was im Jahr 2000 als Rüstungsexportrichtlinie von uns einseitig national festgelegt worden ist. Ich empfehle uns allen, dass wir im Hinblick auf das Gebot, die Zusammenarbeit in diesem Bereich zu verstärken, das auch in diesem Vertrag steht, die Dinge wieder zusammenführen. Nur wer in allen Bereichen Verlässlichkeit signalisiert, wird in der Lage sein, eine Vertiefung der Integration und vor allem der Zusammenarbeit der beiden Länder auch im Bereich der Diplomatie, im Bereich der Entwicklungspolitik und im Bereich der Sicherheitspolitik zu erreichen.\nMir fällt noch ein Punkt ein – danach haben Sie nicht gefragt; aber dazu möchte ich auch gerne eine Antwort geben –, und zwar zum Flugzeugträger. Jede Diskussion dazu würde ich gerne aufnehmen.\nAber nicht zu lang. Die Redezeit ist nämlich rum.\nFrau Präsidentin, das nehme ich gerne zur Kenntnis. Ich biete die Diskussion an.\n– Nicht Ihnen, Frau Präsidentin. Und ich kann auch nicht durch alle Fraktionen gehen; das geht auch nicht.\nWas Annegret Kramp-Karrenbauer mit dem Flugzeugträger gemeint hat, ist eine symbolische Notwendigkeit, also dass sich die europäische Sicherheitspolitik strategisch gemeinsam ausrichten muss. Dazu braucht sie auch gemeinsame Blickwinkel und Strukturen.\nHerzlichen Dank.\nVielen Dank, Christian Schmidt. – Ich schließe die Aussprache.\n",
         "19",
         "101",
         "16",
         "11002003",
         "Christian",
         "Schmidt",
         "CSU",
         "CDU/CSU"
        ],
        [
         "46",
         "33dffcde-2065-48d7-4c5c-08da0e9b3c58",
         "11002765",
         "Frau Präsidentin! Sehr geehrte Kolleginnen und Kollegen! Unter anderem ist ein Antrag der Grünen Teil der Debatte; die Kollegin Brugger hat dazu gerade gesprochen. Ich finde, es ist Sinn unserer Debatten, dass wir uns auch miteinander unterhalten und aufeinander eingehen, auch auf die unterschiedlichen Positionen. Darum will ich jetzt gar nicht so sehr die Position der CDU/CSU darlegen, sondern mich mit Ihrem Antrag beschäftigen.\nDer Antrag ist auch deshalb interessant, weil er aus zwei ganz unterschiedlichen Teilen besteht, nämlich aus einem beschreibenden, analytischen Teil und aus einem Forderungsteil. Das Interessante an diesem Antrag ist, dass der Forderungsteil und der beschreibend-analytische Teil wenig miteinander zu tun haben.\nIch glaube, das ist das Ergebnis einer bestimmten Form der Kompromissfindung in Ihrer Fraktion. Man konnte sich nicht einigen und hat dann gesagt, dass die einen die Lage beschreiben – sehr realistisch – und die anderen die Forderungen stellen dürfen, grün-ideologisch. Das ist eine Form von Kompromissbildung, die ich nicht als Beispiel für eine europäische Kompromissbildung he­ranziehen möchte. Dieser Versuch ist auch ein bisschen billig. Darum mögen Sie nachvollziehen, dass ich mich mit diesem Antrag beschäftigen möchte.\nErstens zum beschreibend-analytischen Teil. Nicht jeden Satz, aber die Beschreibung kann ich unterstreichen. Ich will darum auch ganz kurz daraus zitieren. Sie sagen, Europa müsse mehr für die eigene Sicherheit tun, wir müssten mehr Verantwortung übernehmen, wir müssten handlungsfähiger werden, wir müssten die gesamte Bandbreite der politischen Möglichkeiten nutzen – also präventiv, zivil, politisch –, aber auch die militärische Handlungsfähigkeit Europas müsse gestärkt werden, die Instrumente müssten ineinandergreifen. Militärische Gewaltanwendung löst kein Problem. Aber sie muss eine Möglichkeit, Ultima Ratio in bestimmten Konfliktsituationen sein. Das stimmt, das ist richtig. Ich glaube, von der CDU/CSU bekommen Sie dafür volle Unterstützung. In Ihrer eigenen Fraktion, glaube ich, stimmt auch die Hälfte zu. Das ist ein Erfolg für die Geschichte der Grünen; das möchte ich anerkennen. Der beschreibend-analytische Teil ist also gut. Auch die Herausforderungen werden beschrieben – ich nenne die Stichworte –: China, Russland, Nordafrika, Mittlerer Osten, Iran, Saudi-Arabien und die USA.\nJetzt komme ich zu dem Forderungsteil. 38 Forderungen der Grünen werden aufgelistet. Da kann man nur sagen: Das ist das reine grüne Wunschkonzert; das hat mit der Realität in Europa gar nichts zu tun. Es ist keine neue Idee dabei, es ist auch kein Impuls dabei, sondern es sind die alten grünen Forderungen – was so weit okay wäre. Aber dabei stellt sich ein Problem. Sie haben richtig beschrieben: Europa muss entstehen, muss handlungsfähig werden, und um handlungsfähig zu werden, muss Europa einig werden. Wir müssen kompromissfähig sein, wir müssen aufeinander zugehen. Aber in Ihren Forderungen gehen Sie nicht einen einzigen Millimeter auf irgendjemanden in Europa zu. Darum ist Ihr grüner Forderungskatalog, der das gesamte europäische Umfeld ignoriert, ein Ausdruck genau des Problems, das Sie im ersten Teil beschrieben haben, aber keine Lösung, nicht an einer Stelle. Nicht eine der 38 Forderungen ist geeignet, irgendeines der Probleme, die Sie vorher eindrucksvoll beschrieben haben, zu lösen. Darum ist das leider ein sehr enttäuschendes Papier: Es ist abstrakt richtig, aber im Konkreten unfähig.\nIch will an zwei Beispielen sagen, wo die Notwendigkeit für Kompromisse besteht. Sie sprechen in dem Papier davon, dass europäische Verteidigungsfähigkeit auch voraussetzt, eine europäische Rüstungsindustrie zu entwickeln, dass wir also zusammenkommen müssen. Das schreiben Sie im analytischen Teil. Im Forderungsteil sagen Sie klipp und klar: Waffenlieferungen an Saudi-Arabien sind unbefristet und kategorisch zu stoppen.\nDas kann man als Position vertreten – das finden Sie richtig –; der Punkt ist nur, dass das nichts mit der Politik von Frankreich und Großbritannien zu tun hat, sondern das glatte Gegenteil dessen ist, wie der Fall in beiden Ländern gesehen wird.\nStaatspräsident Macron erklärt: Der Mord an dem saudischen Journalisten Khashoggi ist die eine Sache; Waffenlieferungen an Saudi-Arabien sind eine ganz andere Sache, die damit nichts zu tun hat.\nIch teile die Meinung von Staatspräsident Macron nicht. Aber wir müssen uns mit den Realitäten auseinandersetzen.\nWenn wir Einigkeit wollen, dann setzt das auch in Deutschland Kompromissfähigkeit voraus. Das müssen die Grünen einmal verinnerlichen!\nSie schlagen vor, dass sich Deutschland für ein atomwaffenfreies Europa einsetzen soll.\nDas heißt, sie wollen Frankreich und Großbritannien mitteilen, dass sie ihre Atomwaffen verschrotten, abschaffen sollen. Gleichzeitig gibt es ein Land in Europa, das sowohl europäisch wie asiatisch ist. Also gibt es in Russland weiter Atomwaffen, aber im Rest Europas nicht?\n– Das ist Ihre Position; Sie haben sie aufgeschrieben.\nMeine Damen und Herren, wenn dieses Papier irgendwo in Europa gelesen werden sollte – ich glaube, die Aussicht darauf ist relativ bescheiden – oder wenn wir uns nur für einen Moment vorstellen, das wäre deutsche Regierungspolitik, würde das mehr als ein Kopfschütteln in ganz Europa auslösen. Man würde sagen: Deutschland kümmert sich überhaupt nicht mehr um seine europäischen Nachbarn. – Das ist ein nationaler, grüner Sonderweg, und der ist nicht europafähig, meine Damen und Herren. Das haben Sie in diesem Papier zum Ausdruck gebracht – zu meinem großen Bedauern.\n",
         "19",
         "101",
         "15",
         "11002765",
         "Norbert",
         "Röttgen",
         "CDU",
         "CDU/CSU"
        ],
        [
         "47",
         "8d53451f-0293-418e-617f-08da102a68d8",
         "11003034",
         "Herr Präsident! Meine Damen und Herren! 70 Jahre Grundgesetz sind zu Recht ein Anlass, über das Grundgesetz, über Deutschland, über seine Geschichte, aber auch über seine Gegenwart hier im Plenum würdigend zu debattieren und nachzudenken. Entscheidend ist: Das Grundgesetz ist die Antwort auf den und eine praktische Lehre aus dem Zivilisationsbruch der Nationalsozialisten. „Die Würde des Menschen ist unantastbar“ als der zentrale Satz\nist eine Antwort auf ein Regime, für das „Menschenwürde“ ein Fremdwort war.\nVor fünf Jahren hat hier, an dieser Stelle, der von mir sehr geschätzte Navid Kermani zum 65. Jahrestag des Grundgesetzes eine berührende Rede gehalten.\nEr wies darauf hin, dass der Satz „Die Würde des Menschen ist unantastbar“ paradox sei; denn wenn sie unantastbar sei, müsste es ja nicht festgeschrieben werden. Und er hat recht. Der industrielle Massenmord an den europäischen Jüdinnen und Juden und der Vernichtungskrieg im Osten waren grausame Höhepunkte dieses Ge­waltregimes und haben gezeigt, dass ein Staat den Verstoß gegen die Menschenwürde zum Prinzip erheben kann.\nEs muss daran erinnert werden, dass die Deutschen nicht in der Lage waren, die sogenannte Machtergreifung der Nazis zu verhindern. Sie waren auch nicht in der Lage, deren Herrschaft aus eigener Kraft abzuschütteln. Befreiung war nur von außen möglich – durch den Sieg der Streitkräfte der Anti-Hitler-Koalition. Menschen überall in der Welt zahlten für unsere Befreiung einen hohen Preis. Letzte Woche haben wir dieses Tages der Befreiung gedacht, und es war, meine Damen und Herren, ein Tag der Befreiung – das muss man immer wieder betonen, und das sollten auch alle Abgeordneten des Deutschen Bundestages immer wieder betonen –,\nder Befreiung von einer Politik der Unmenschlichkeit. Dass Politik auf die systematische Zerstörung der Menschlichkeit hinausläuft, das dürfen wir alle nie wieder zulassen.\nGerade deswegen ist es so wichtig, die Tragweite des Artikels 1 zu verstehen. Er ist ein Versprechen, das jeden Tag aufs Neue eingelöst werden muss. Dieser Satz muss als Auftrag an die konkrete Gesellschaftsgestaltung verstanden werden. Der Geist des Grundgesetzes ist ein radikaler Bruch mit dem Faschismus. Die Mütter und Väter des Grundgesetzes haben genau gewusst, dass der Kampf gegen den Faschismus umfassend sein muss, dass ein Bekenntnis zur Unantastbarkeit der Würde des Menschen nicht reicht, dass dieses Bekenntnis im Staat verankert sein muss.\nDer Geist des Grundgesetzes verpflichtet uns deswegen, auch eine soziale Politik zu machen, einen solidarischen Staat und eine solidarische Gesellschaft zu gestalten. Das Grundgesetz ist ein Bekenntnis zur sozialen Demokratie, lieber Christian Lindner. Im Artikel 20 des Grundgesetzes heißt es nicht umsonst:\nDie Bundesrepublik Deutschland ist ein demokratischer und sozialer Bundesstaat.\nDie Bundesrepublik wurde mit diesem Artikel als sozialer Rechtsstaat definiert. Artikel 79 Absatz 3 stellt, wie wir alle wissen, diese Definition unter den Schutz der Ewigkeitsklausel. Das zeigt, wie zentral die soziale Demokratie im Grundgesetz ist. Deswegen findet sich neben der Eigentumsgarantie auch deren Einschränkung durch Gemeinwohl bzw. die sogenannte Sozialpflichtigkeit in Artikel 14.\nDie Mütter und Väter des Grundgesetzes wussten ganz genau, dass eine allzu große soziale Spaltung die Gesellschaft gefährdet. Es ist doch auch kein Zufall, wenn im Koalitionsvertrag steht: „Ein neuer Zusammenhalt für unser Land“. Das sagt vor allen Dingen eins, dass es offensichtlich Defizite im sozialen Zusammenhalt gibt.\nTatsächlich ist die Gesellschaft sozial gespalten wie seit Jahrzehnten nicht. Die Republik und auch das Grundgesetz werden aktuell auf eine Bewährungsprobe gestellt; denn mittlerweile ist die Unantastbarkeit der Menschenwürde leider infrage gestellt. Es gibt sogar Zehntausende Men schen, die das Grundgesetz als Verfassung infrage stellen. Wir alle haben gesehen: Wenn in Plauen Rechtsextreme marschieren, dann ist das ein Wiedergänger jenes Faschismus, den wir alle längst erledigt glaubten.\nAber es ist nicht nur die Reinkarnation des Nationalsozialismus, die das Grundgesetz auf die Probe stellt. Eine Gefahr ist auch die neoliberale Umgestaltung unserer Gesellschaft und des Staates. Der Neoliberalismus will eine andere Demokratie als das Grundgesetz. Ich will mal die – Zitat – „marktkonforme Demokratie“ hier erwähnen. Die „marktkonforme Demokratie“ unterwirft die Demokratie und die Menschenrechte der Verwertungslogik – und das kann letztlich die soziale Demokratie zerstören, meine Damen und Herren.\nIn einer sozialen Demokratie geht es stattdessen darum, den Kapitalismus dort, wo er Demokratie zerstört, einzuhegen. Dieses Einhegungsprojekt ist aber schon lange kein Thema mehr in der Politik in Deutschland, obwohl das Grundgesetz, die Verfassung, darauf angelegt ist. Das ist im Übrigen auch der Sinn, lieber Christian Lindner, von Artikel 15, den Sie für sozialistisch halten. Für andere ist er ein Relikt. Aber: Es geht darum, zu vergesellschaften, wenn andere Steuerungsinstrumente versagen. Das ist der Sinn, der dort festgehalten wird.\nDass das Thema Vergesellschaftung selbst heute hier zu so hysterischen Reaktionen führt, dass viele neoliberale Glaubenssätze nicht mal mehr auch nur hinterfragt werden dürfen, das finde ich, ehrlich gesagt, grotesk. Die Debatten der letzten Wochen und die wirklich hysterischen Schreie auch einiger hier aus dem Haus haben gezeigt, wie beschränkt viele mittlerweile sind, über Wirtschaft und Gesellschaft abseits vom Turbokapitalismus nachzudenken.\nDa ist das Grundgesetz offener, kreativer als manche Debattenbeiträge der letzten Wochen. Statt die Lehren, die im Grundgesetz verankert sind, ernst zu nehmen, wird bei jedem Anlass schnell die Änderung des Grundgesetzes gefordert. Ich will Herrn Harbarth – unlängst noch in diesem Hause – zitieren, der in der „FAZ“ diese Woche ein bemerkenswertes Interview gegeben hat. Er hat gesagt: Ob jede der über 60 Änderungen des Grundgesetzes sinnvoll war, will er bezweifeln. – Ich will dem gerne folgen und zum Beispiel an das Asylrecht und andere Dinge erinnern, wo wir das Grundgesetz nicht unbedingt verbessert haben.\nDeswegen, meine Damen und Herren, haben mich die sehr leichtfertigen Forderungen, Artikel 15 abzuschaffen, ehrlich gesagt, entsetzt. Ich finde das anmaßend. Insbesondere die ersten 20 Artikel sind doch nicht einfach mal so abzuschaffen.\nOder glauben diejenigen, die das wollen, wirklich, dass sie es besser wissen als die, die das Grundgesetz geschrieben haben, als diejenigen, die Zerstörung und Leid durch die Nazis unmittelbar vor Augen hatten? Nein, lieber Christian Lindner: Auch bei Artikel 15 haben sich die Damen und Herren auf Herrenchiemsee etwas gedacht, nämlich dass das Gemeinwohl im Zweifel über Kapitalinteressen stehen muss.\nDas Grundgesetz und die Verpflichtungen daraus sind natürlich nur so stark und lebendig wie die Verfassungspraxis. Verfassung und Praxis sind immer auch ein Ausdruck der Zeit. Das kann man sich an der Geschichte der Bundesrepublik alt, aber auch bezogen auf die Zeit nach 1989 anschauen. Und ja, es gab damals – es ist darauf verwiesen worden – den Entwurf des Runden Tisches. Und ja, der Artikel 146 gibt immer noch die Möglichkeit, eine seriöse Debatte zu führen. Es waren im Übrigen vor allen Dingen die Bürgerbewegten, die sich hier sehr engagiert haben.\nDas Grundgesetz, meine Damen und Herren, ist immer nur so gut wie seine Institutionen, die den Geist leben. Deswegen liegt es an uns allen – Herr Brinkhaus hat zu Recht darauf hingewiesen, dass wir die Einzigen sind, die direkt vom Volk gewählt werden –, den Geist des Grundgesetzes zu leben. Wir – bei aller scharfen und notwendigen Auseinandersetzung – müssen das hier im Bundestag zuallererst tun. Nur dann werden wir dem Geist der Väter und der wenigen Mütter des Grundgesetzes gerecht.\nHerzlichen Dank.\n",
         "19",
         "101",
         "1",
         "11003034",
         "Dietmar",
         "Bartsch",
         "DIE LINKE.",
         "Die Linke"
        ],
        [
         "48",
         "167e0a55-6abc-48fb-4b92-08da0e9b3c58",
         "11003050",
         "Herr Präsident! Sehr verehrte Damen und Herren! Liebe Kolleginnen und Kollegen! Es tut mir wirklich leid, dass ich alle noch mal richtig anstrengen muss, aber das, was wir gerade gehört haben, ist ungefähr so,\nwie wenn Sie ein 2-Meter-Problem haben und dann einen Vortrag im Parlament hören und merken, dass der Lösungsansatz nicht 2 Meter,\nnicht 1 Meter und auch nicht einen halben Meter lang ist, sondern dass ein viel kleinerer Zollstock genügen würde.\nSie sehen: Es ist mit der AfD einfach kein Blumentopf zu gewinnen.\nEs gibt Anträge, denen wir jetzt aber natürlich nicht zustimmen werden. CDU/CSU, Grüne, Linke, FDP und wir strengen uns richtig an, dieses komplizierte Thema zu bearbeiten. Klar sind dafür Mehrheiten in Europa notwendig; das ist richtig kompliziert. Die Staaten haben einen gewissen Wettbewerb untereinander, was es noch komplizierter macht.\nBisher war alles ganz einfach: Es gibt eine Betriebsstätte, die man anfassen kann; sie ist dinglich, physisch vorhanden. Da fällt die Steuer an. – Ein digitales Unternehmen kann aber eben ohne jede physische Präsenz am Markt aktiv sein, praktisch ubiquitär in der Welt, überall in der Welt.\nEs verursacht natürlich ein großes Problem, wenn sich keine Betriebsstätte mehr finden lässt. Deshalb ist es auch gar nicht so leicht, da eine Steuer festzusetzen, weil sie natürlich immer dort erhoben werden soll, wo der Gewinn gerade nicht mehr anfällt. Das ist also ein gewisses großes Problem.\nDeshalb müssen wir unser Steuersystem fortentwickeln. Jeder kennt die Projekte der OECD. Dort wird ein Riesensteuerkomplex mit 15 großen Kapiteln angegangen. Hier sind wir auch schon sehr weit gekommen.\nDie Kommission hat jetzt gemerkt, dass man mit diesem komplexen System nicht schnell genug fertig wird, weshalb sie eine Zwischenlösung erarbeitet hat, nämlich die Digitalsteuer. Sie ist richtig klug, weil sie bei den Erträgen im Onlinewerbehandel, bei Vermittlungsgeschäften und beim Verkauf von Daten ansetzt, und das ist das, was wir eigentlich wollen. Das ist eigentlich sehr klug.\nDies fand aber keine Mehrheit.\nIch mache jetzt eine kleine Bemerkung zu einer Rede von Franziska Brantner um 21.47 Uhr.\nSie hat nämlich gesagt, diese Steuer hätte Olaf Scholz blockiert.\nLeider war das verkehrt, und ich will daran erinnern, dass die Einstimmigkeit tatsächlich durch Schweden, Irland, Finnland und Dänemark und nicht durch Deutschland nicht gegeben war. Also, so viel gehört zur Gesamtwahrheit dazu.\nWir wissen auch, dass die Probleme in dem Maße größer werden, in dem die Digitalisierung zunimmt; denn wir haben nicht nur digitale Unternehmen – die US-Unternehmen Google usw. –, sondern es gibt auch viele Unternehmen in der klassischen Industrie, von denen man gar nicht mehr genau wissen kann, ob sie schon digitale Unternehmen sind. Ist das ein Rechner auf Rädern oder immer noch ein Auto? Das ist also schon eine ganz komplizierte Angelegenheit. Hier muss man schon eine kluge Idee haben.\nEs gab jetzt auch die kluge Idee von Frankreich und Deutschland, sich noch mal um die Mindestbesteuerung zu kümmern. Die Mindestbesteuerung ist ein erster Ansatz. Dadurch werden noch nicht alle, aber doch viele Probleme gelöst. 129 Staaten beteiligen sich an diesem Prozess. Das ist natürlich eine Riesenhilfe.\nDieser Prozess hat zwei Komponenten:\nErstens. Der Betriebsausgabenabzug wird dann versagt, wenn Unternehmen ihre Gewinne in ein Niedrigsteuerland verlagern. Das passiert ja ganz oft durch Lizenzen. Man meldet ein Patent im Nachbarland an und überweist dann den gesamten Gewinn als Lizenzgebühr in das Nachbarland. In dem Land, in dem man seinen Sitz hat, hat man dann keinen Gewinn mehr, und auf diesen Gewinn von null zahlt man korrekt Steuern in Höhe von 30 Prozent. Damit ist relativ wenig im Steuertopf.\nZweitens. Die zweite Komponente ist ganz raffiniert: Wenn ein IT-Unternehmen zum Beispiel an einer ausländischen Tochter beteiligt ist, die nur 2 Prozent Steuern zahlt, dann ergibt sich Folgendes: Man schaut im eigenen Land, wie hoch der Durchschnittssteuersatz ist. Nehmen wir mal an, er liegt bei 15 Prozent. Die Gewinne im Nachbarland – bei der Tochter – werden aber mit nur 2 Prozent versteuert. Im Ergebnis werden dann im eigenen Land nicht 15 Prozent versteuert, weil bereits 2 Prozent im Nachbarland anfallen. Somit werden 15 minus 2 Prozent im eigenen Land versteuert. – Das ist sehr klug, weil man damit die absolute Minimierung der Steuer von internationalen Konzernen verhindert hat.\nHier ergibt sich aber ein riesengroßes Problem: Man kann jetzt zwar verhindern, dass ein Konzern seinen Gewinn auf null rechnet, aber wenn dieser Konzern im eigenen Land keine Betriebsstätte hat, dann geht dieses Land leer aus. Dieses Problem haben wir noch nicht gelöst.\nWir wissen: Die Welt ist komplex. Deshalb müssen wir erneut über einen neuen Wertschöpfungsbegri ff und einen neuen Betriebsstättenbegriff nachdenken.\nMan muss jetzt vielleicht sogar noch einen Schritt weiter gehen. Bisher haben wir gesagt: Am Ort der Wertschöpfung fällt die Steuer an. – Wenn Sie aber ein Datum bei Google abgeben – vielleicht Ihre Stammdaten, also zum Beispiel Ihren Namen, Ihre Schuhgröße, Ihr Alter, aber auch Ihr Kaufverhalten –, dann sind Sie als bisher gedachter Kunde plötzlich derjenige, der die Wertschöpfung gewissermaßen erzeugt, und zwar dort, wo Sie sind. Das erfordert ein völlig neues Regime.\nJetzt ahnt schon jeder die Schwierigkeit, dass nämlich ein Exportland wie Deutschland dabei möglicherweise nicht immer nur gut aussieht. Genau in diesem Spannungsfeld befinden wir uns. Deshalb ist schnell zu erkennen, dass die Welt komplexer ist, als das im Bierzelt möglicherweise dahergeredet wird.\nWir erkennen auch den Eigenwert der beiden Anträge. Sie sind nämlich gar nicht so schlecht, weil wir uns dadurch mit diesem Thema befassen. Bezogen auf die Entwicklung eines zukünftigen Steuerregimes muss man aber sagen: Sie sind unterkomplex. – Trotzdem befassen wir uns damit. Zustimmen können wir aber natürlich leider nicht; denn unterkomplexe Lösungen sind keine guten Lösungen.\n",
         "19",
         "101",
         "24",
         "11003050",
         "Lothar",
         "Binding",
         "SPD",
         "SPD"
        ],
        [
         "49",
         "97d3b6d9-e9f9-4a79-06ac-08da0f05b642",
         "11003132",
         "Herr Präsident! Liebe Kolleginnen und Kollegen!\n… von dem Willen beseelt, als gleichberechtigtes Glied in einem vereinten Europa dem Frieden der Welt zu dienen, hat sich das Deutsche Volk kraft seiner verfassungsgebenden Gewalt dieses Grundgesetz gegeben.\nDas ist ein Zitat aus der Präambel des Grundgesetzes.\nDas Grundgesetz bildet den Identitätskern unseres Landes. Es steht in einem kleinen Büchlein, sehr bescheiden im Ausmaß, herausragend im Anspruch. Ich finde, wir können stolz darauf sein.\nIm ersten Teil dieses Satzes in der Präambel geht es um Verantwortung, aber schon im zweiten um Willen: „von dem Willen beseelt“. Das mag altmodisch klingen. Ich finde, das macht die Verfassung lebendig; denn ohne Willen, also Handeln, ohne Seele, also Leidenschaft, sind wir nicht in der Lage, diese Verfassung zu leben. Vor allem sind wir eins nicht: Wir sind nicht „über alles“. Wir sind Teil eines vereinten Europas. Wir sind ein Staat in der Europäischen Union. Mit den Worten eines anderen:\nUnd nicht über und nicht unter andern Völkern wolln wir sein\nWir hier, die wir die Verfassung als Grundlage und Kompass unseres Handelns sehen, wissen: Wir sind ein Teil. Es geht um Dienen und nicht um Ansagen, um Zusammenhalt und eben gerade nicht um „wir gegen die“. Wir spielen uns nicht gegeneinander aus, sondern es geht um Zugehörigkeit in Verschiedenheit. Das ist unsere Verfassung.\nWas in unserer Verfassung steht, ist gerade nicht exklusiv. Es ist größer als jede und jeder von uns. Da steht: Freiheit der Person, des Glaubens, der Meinung, der Kunst, die Freiheit, sich zu versammeln. Da steht: das Recht auf körperliche Unversehrtheit. Sie verlangt Gleichheit vor dem Gesetz, das Recht, Nachteile abzuwehren, und natürlich die Durchsetzung der Gleichberechtigung der Frauen – natürlich. Ich sage das alles, weil der eine Satz, den hier alle erwähnt haben – fast alle –, der die Verfassung stützt, von der sie ausgeht, nicht oft genug gesagt werden kann:\nDie Würde des Menschen ist unantastbar.\nDes Menschen!\nIch zitiere das Bundesverfassungsgericht:\nAuf rassistische Diskriminierung zielende Konzepte sind damit nicht vereinbar.\nSie sind mit unserer Verfassung nicht vereinbar:\nnicht damals, nicht heute, niemals. Die Menschenwürde hängt nicht vom Pass ab, sie gilt für den Deutschen, für den Nachbarn genauso wie für jede und jeden einzelnen Geflüchteten.\nMeine Damen und Herren, und doch, vielleicht wäre es aus heutiger Sicht gut gewesen, vor 30 Jahren noch einmal darüber zu reden, welche Verfassung wir gemeinsam wollen, so wie es der Runde Tisch vorgeschlagen hat. War die alte Bundesrepublik wirklich dieses perfekt eingerichtete Haus mit einer perfekten Hausordnung, wie viele, übrigens auf beiden Seiten, dachten? Ich kenne die Ambivalenz. Das Grundgesetz hatte sich ja bewährt: 40 Jahre lang, nach Weimar und dem Nationalsozialismus. Und außerdem: Anderes schien wichtiger. – Zumi ndest aber lohnt es, heute daran zu erinnern, worum es damals unter anderem ging: nämlich das Recht auf Arbeit oder Arbeitsförderung, das Recht auf angemessenen Wohnraum, den Vorrang von Genossenschaften vor Großgrundbesitz – es war übrigens die Überwindung des Sozialismus, Herr Lindner, den der Runde Tisch da wollte –, die Pflicht des Staates, die natürlichen Lebensgrundlagen zu schützen.\nWäre eine gemeinsame Verfassung ein komplett neuer Text gewesen? Nein. Wäre das Grundgesetz auf breitere Basis gestellt worden? Auf jeden Fall. Und trotzdem sage ich heute – und das ist leider nötig in diesen Tagen – als überzeugte Verfassungsschützerin: Die Verfassung ist der Herzschlag unserer Demokratie, diese Verfassung ist der Herzschlag unserer Demokratie.\nWie viele sehnen sich auf dieser Welt danach, dass Rechte und Freiheiten garantiert sind? Wie viele sorgen sich darum, dass sie ihnen genommen werden, in Demokratien, in unserer Nachbarschaft, in Europa? Wir müssen nur nach Polen oder nach Ungarn schauen.\nVor fünf Jahren hat Navid Kermani – ja! – über die Würde des Menschen geredet. Er hat auch gesagt: Das Grundgesetz hat „Wirklichkeit geschaffen durch die Kraft des Wortes“. Stimmt! Unsere Verfassung hat vieles vorgezeichnet und erleichtert, was dadurch gesellschaftliche Realität werden konnte: die Gleichberechtigung von Mann und Frau, von hier Geborenen und später Zugezogenen, die wachsende Mündigkeit von Staatsbürgerinnen und Staatsbürgern, die ihre Rechte gegenüber dem Staat sicher einklagen dürfen, die Wehrhaftigkeit des Staates, die nie maßlos werden kann. Und, Herr Lindner, es geht dabei um den Ausgleich zwischen Individuum und Gemeinsinn und nicht darum, dass das eine wichtiger wäre als das andere\nund dass das Gemeinsame wichtiger wäre.\nDas alles ermöglicht dieser Text. Man könnte auch sagen: Für eine 70-Jährige ist diese Verfassung ganz schön jung geblieben. Und wie das bei Junggebliebenen so ist: Sie verändern sich natürlich. – Verfassungen dürfen nicht starr sein. Sie sind lebendig wie unsere Demokratie. Deswegen hat sich die Verfassung immer wieder verändert, deswegen haben wir sie auch in diesem Haus gerade erst wieder verändert – mit dem modernen Bildungsföderalismus.\nIch bin da bei Andrea Nahles: Gerade in diesen Zeiten, in denen es darum geht, welche Erde wir eigentlich der nächsten Generation übergeben, gehören die Kinderrechte – na klar! – in unser Grundgesetz, meine Damen und Herren.\nEine Verfassung kennt keinen Endpunkt. Sie ist kein Bauplan für ein idealtypisches Deutschland, weil auch dieses Land nie fertig wird. Der Wandel unseres Landes bildet sich in ihr ab – und die Verantwortung gegenüber denen, die nach uns kommen. Eben deswegen gehört der Klimaschutz ins Grundgesetz und nicht nur in die Sonntagsreden, nicht nur in leere Versprechen, die wir jede Woche einmal hören.\nRegeln dieser Verfassung können Macht verleihen oder Macht nehmen. Änderungen müssen erarbeitet sein. Es geht nicht darum, dass alle sich einig wären, aber darum, dass es Kompromisse gibt mit wenigstens Zwei­drittelmehrheiten. Und darum ist es so fatal, wenn Verfassungsänderungen auf Kosten von Minderheiten passieren wie in den 90er-Jahren beim Asylrecht. Ich finde, auch darüber müssen wir bei allem Stolz, bei aller Freude über 70 Jahre Grundgesetz reden.\nWir müssen darüber reden, dass diese Verfassungsänderung uns in der Seele liegt, und zwar in der dunklen Seite, meine Damen und Herren.\nUnsere Verfassung ist nicht nur eine Hausordnung. Sie ist auch gemeinsame Verabredung für die Zukunft, Verantwortung zu übernehmen, vom Willen beseelt, als Gleiche in Europa, im geeinten Europa. Und dann vielleicht noch einmal Bert Brecht:\nAnmut sparet nicht noch Mühe  Leidenschaft nicht noch Verstand  Daß ein gutes Deutschland blühe  Wie ein andres gutes Land.\nDas, würde ich dann sagen, ist des Glückes Unterpfand.\nVielen Dank.\n",
         "19",
         "101",
         "1",
         "11003132",
         "Katrin",
         "Göring-Eckardt",
         "BÜNDNIS 90/DIE GRÜNEN",
         "Bündnis 90 / Die Grünen"
        ]
       ],
       "shape": {
        "columns": 11,
        "rows": 38355
       }
      },
      "text/html": [
       "<div>\n",
       "<style scoped>\n",
       "    .dataframe tbody tr th:only-of-type {\n",
       "        vertical-align: middle;\n",
       "    }\n",
       "\n",
       "    .dataframe tbody tr th {\n",
       "        vertical-align: top;\n",
       "    }\n",
       "\n",
       "    .dataframe thead th {\n",
       "        text-align: right;\n",
       "    }\n",
       "</style>\n",
       "<table border=\"1\" class=\"dataframe\">\n",
       "  <thead>\n",
       "    <tr style=\"text-align: right;\">\n",
       "      <th></th>\n",
       "      <th>speech_id</th>\n",
       "      <th>speaker_id</th>\n",
       "      <th>speech_text</th>\n",
       "      <th>legislative_period</th>\n",
       "      <th>protocol_nr</th>\n",
       "      <th>agenda_item_number</th>\n",
       "      <th>speakerId</th>\n",
       "      <th>firstName</th>\n",
       "      <th>lastName</th>\n",
       "      <th>party</th>\n",
       "      <th>fraction</th>\n",
       "    </tr>\n",
       "  </thead>\n",
       "  <tbody>\n",
       "    <tr>\n",
       "      <th>0</th>\n",
       "      <td>901e2196-b575-4fea-5fd2-08da102a68d8</td>\n",
       "      <td>11002190</td>\n",
       "      <td>Herr Bundespräsident! Verehrte Kolleginnen und...</td>\n",
       "      <td>19</td>\n",
       "      <td>1</td>\n",
       "      <td>4</td>\n",
       "      <td>11002190</td>\n",
       "      <td>Alterspräsident Dr. Hermann</td>\n",
       "      <td>Otto Solms</td>\n",
       "      <td>FDP</td>\n",
       "      <td>NaN</td>\n",
       "    </tr>\n",
       "    <tr>\n",
       "      <th>1</th>\n",
       "      <td>a914bfea-8684-4446-0640-08da0f05b642</td>\n",
       "      <td>11002738</td>\n",
       "      <td>Herr Präsident! Kolleginnen und Kollegen! Die ...</td>\n",
       "      <td>19</td>\n",
       "      <td>10</td>\n",
       "      <td>3</td>\n",
       "      <td>11002738</td>\n",
       "      <td>Hans</td>\n",
       "      <td>Michelbach</td>\n",
       "      <td>CSU</td>\n",
       "      <td>CDU/CSU</td>\n",
       "    </tr>\n",
       "    <tr>\n",
       "      <th>2</th>\n",
       "      <td>02a4928b-8f4e-45d8-5f3e-08da102a68d8</td>\n",
       "      <td>11003422</td>\n",
       "      <td>Sehr geehrter Herr Präsident! Liebe Kolleginne...</td>\n",
       "      <td>19</td>\n",
       "      <td>10</td>\n",
       "      <td>3</td>\n",
       "      <td>11003422</td>\n",
       "      <td>Ingrid</td>\n",
       "      <td>Arndt-Brauer</td>\n",
       "      <td>SPD</td>\n",
       "      <td>SPD</td>\n",
       "    </tr>\n",
       "    <tr>\n",
       "      <th>3</th>\n",
       "      <td>ef59b72f-b33d-43da-5de1-08da0f22a008</td>\n",
       "      <td>11003646</td>\n",
       "      <td>Herr Präsident! Liebe Kolleginnen und Kollegen...</td>\n",
       "      <td>19</td>\n",
       "      <td>10</td>\n",
       "      <td>3</td>\n",
       "      <td>11003646</td>\n",
       "      <td>Antje</td>\n",
       "      <td>Tillmann</td>\n",
       "      <td>CDU</td>\n",
       "      <td>CDU/CSU</td>\n",
       "    </tr>\n",
       "    <tr>\n",
       "      <th>4</th>\n",
       "      <td>8dd9b261-a22c-431b-279d-08da0d9e2391</td>\n",
       "      <td>11003837</td>\n",
       "      <td>Herr Präsident! Liebe Kolleginnen und Kollegen...</td>\n",
       "      <td>19</td>\n",
       "      <td>10</td>\n",
       "      <td>3</td>\n",
       "      <td>11003837</td>\n",
       "      <td>Gerhard</td>\n",
       "      <td>Schick</td>\n",
       "      <td>BÜNDNIS 90/DIE GRÜNEN</td>\n",
       "      <td>Bündnis 90 / Die Grünen</td>\n",
       "    </tr>\n",
       "    <tr>\n",
       "      <th>...</th>\n",
       "      <td>...</td>\n",
       "      <td>...</td>\n",
       "      <td>...</td>\n",
       "      <td>...</td>\n",
       "      <td>...</td>\n",
       "      <td>...</td>\n",
       "      <td>...</td>\n",
       "      <td>...</td>\n",
       "      <td>...</td>\n",
       "      <td>...</td>\n",
       "      <td>...</td>\n",
       "    </tr>\n",
       "    <tr>\n",
       "      <th>38350</th>\n",
       "      <td>378c969e-0c23-4a4b-b359-9616d96735f7</td>\n",
       "      <td>11005221</td>\n",
       "      <td>Sehr geehrter Herr Präsident! Liebe Kolleginne...</td>\n",
       "      <td>20</td>\n",
       "      <td>99</td>\n",
       "      <td>5</td>\n",
       "      <td>11005221</td>\n",
       "      <td>Lina</td>\n",
       "      <td>Seitzl</td>\n",
       "      <td>SPD</td>\n",
       "      <td>SPD</td>\n",
       "    </tr>\n",
       "    <tr>\n",
       "      <th>38351</th>\n",
       "      <td>53f1bd4a-5aa5-4006-91a8-ceafe58a9de6</td>\n",
       "      <td>11005228</td>\n",
       "      <td>Frau Präsidentin! Meine Damen und Herren! Sie ...</td>\n",
       "      <td>20</td>\n",
       "      <td>99</td>\n",
       "      <td>3</td>\n",
       "      <td>11005228</td>\n",
       "      <td>Till</td>\n",
       "      <td>Steffen</td>\n",
       "      <td>BÜNDNIS 90/DIE GRÜNEN</td>\n",
       "      <td>Bündnis 90 / Die Grünen</td>\n",
       "    </tr>\n",
       "    <tr>\n",
       "      <th>38352</th>\n",
       "      <td>b4de6b5b-082e-45ac-ba6e-4403a82de283</td>\n",
       "      <td>11005264</td>\n",
       "      <td>Sehr geehrter Herr Präsident! Meine Damen und ...</td>\n",
       "      <td>20</td>\n",
       "      <td>99</td>\n",
       "      <td>4</td>\n",
       "      <td>11005264</td>\n",
       "      <td>Joachim</td>\n",
       "      <td>Wundrak</td>\n",
       "      <td>AfD</td>\n",
       "      <td>AfD</td>\n",
       "    </tr>\n",
       "    <tr>\n",
       "      <th>38353</th>\n",
       "      <td>dae72d62-2ab2-439a-9332-d585dcb35e54</td>\n",
       "      <td>11005289</td>\n",
       "      <td>Sehr geehrte Präsidentin! Liebe Kolleginnen un...</td>\n",
       "      <td>20</td>\n",
       "      <td>99</td>\n",
       "      <td>7</td>\n",
       "      <td>11005289</td>\n",
       "      <td>Clara</td>\n",
       "      <td>Bünger</td>\n",
       "      <td>DIE LINKE.</td>\n",
       "      <td>Die Linke</td>\n",
       "    </tr>\n",
       "    <tr>\n",
       "      <th>38354</th>\n",
       "      <td>e2bddf2f-f49e-448b-ada9-b7691b9e377c</td>\n",
       "      <td>11005299</td>\n",
       "      <td>Sehr geehrte Frau Präsidentin! Sehr geehrte Fr...</td>\n",
       "      <td>20</td>\n",
       "      <td>99</td>\n",
       "      <td>6</td>\n",
       "      <td>11005299</td>\n",
       "      <td>Nils</td>\n",
       "      <td>Gründer</td>\n",
       "      <td>FDP</td>\n",
       "      <td>FDP</td>\n",
       "    </tr>\n",
       "  </tbody>\n",
       "</table>\n",
       "<p>38355 rows × 11 columns</p>\n",
       "</div>"
      ],
      "text/plain": [
       "                                  speech_id  speaker_id  \\\n",
       "0      901e2196-b575-4fea-5fd2-08da102a68d8    11002190   \n",
       "1      a914bfea-8684-4446-0640-08da0f05b642    11002738   \n",
       "2      02a4928b-8f4e-45d8-5f3e-08da102a68d8    11003422   \n",
       "3      ef59b72f-b33d-43da-5de1-08da0f22a008    11003646   \n",
       "4      8dd9b261-a22c-431b-279d-08da0d9e2391    11003837   \n",
       "...                                     ...         ...   \n",
       "38350  378c969e-0c23-4a4b-b359-9616d96735f7    11005221   \n",
       "38351  53f1bd4a-5aa5-4006-91a8-ceafe58a9de6    11005228   \n",
       "38352  b4de6b5b-082e-45ac-ba6e-4403a82de283    11005264   \n",
       "38353  dae72d62-2ab2-439a-9332-d585dcb35e54    11005289   \n",
       "38354  e2bddf2f-f49e-448b-ada9-b7691b9e377c    11005299   \n",
       "\n",
       "                                             speech_text  legislative_period  \\\n",
       "0      Herr Bundespräsident! Verehrte Kolleginnen und...                  19   \n",
       "1      Herr Präsident! Kolleginnen und Kollegen! Die ...                  19   \n",
       "2      Sehr geehrter Herr Präsident! Liebe Kolleginne...                  19   \n",
       "3      Herr Präsident! Liebe Kolleginnen und Kollegen...                  19   \n",
       "4      Herr Präsident! Liebe Kolleginnen und Kollegen...                  19   \n",
       "...                                                  ...                 ...   \n",
       "38350  Sehr geehrter Herr Präsident! Liebe Kolleginne...                  20   \n",
       "38351  Frau Präsidentin! Meine Damen und Herren! Sie ...                  20   \n",
       "38352  Sehr geehrter Herr Präsident! Meine Damen und ...                  20   \n",
       "38353  Sehr geehrte Präsidentin! Liebe Kolleginnen un...                  20   \n",
       "38354  Sehr geehrte Frau Präsidentin! Sehr geehrte Fr...                  20   \n",
       "\n",
       "       protocol_nr  agenda_item_number  speakerId  \\\n",
       "0                1                   4   11002190   \n",
       "1               10                   3   11002738   \n",
       "2               10                   3   11003422   \n",
       "3               10                   3   11003646   \n",
       "4               10                   3   11003837   \n",
       "...            ...                 ...        ...   \n",
       "38350           99                   5   11005221   \n",
       "38351           99                   3   11005228   \n",
       "38352           99                   4   11005264   \n",
       "38353           99                   7   11005289   \n",
       "38354           99                   6   11005299   \n",
       "\n",
       "                         firstName      lastName                  party  \\\n",
       "0      Alterspräsident Dr. Hermann    Otto Solms                    FDP   \n",
       "1                             Hans    Michelbach                    CSU   \n",
       "2                           Ingrid  Arndt-Brauer                    SPD   \n",
       "3                            Antje      Tillmann                    CDU   \n",
       "4                          Gerhard        Schick  BÜNDNIS 90/DIE GRÜNEN   \n",
       "...                            ...           ...                    ...   \n",
       "38350                         Lina        Seitzl                    SPD   \n",
       "38351                         Till       Steffen  BÜNDNIS 90/DIE GRÜNEN   \n",
       "38352                      Joachim       Wundrak                    AfD   \n",
       "38353                        Clara        Bünger             DIE LINKE.   \n",
       "38354                         Nils       Gründer                    FDP   \n",
       "\n",
       "                      fraction  \n",
       "0                          NaN  \n",
       "1                      CDU/CSU  \n",
       "2                          SPD  \n",
       "3                      CDU/CSU  \n",
       "4      Bündnis 90 / Die Grünen  \n",
       "...                        ...  \n",
       "38350                      SPD  \n",
       "38351  Bündnis 90 / Die Grünen  \n",
       "38352                      AfD  \n",
       "38353                Die Linke  \n",
       "38354                      FDP  \n",
       "\n",
       "[38355 rows x 11 columns]"
      ]
     },
     "execution_count": 42,
     "metadata": {},
     "output_type": "execute_result"
    }
   ],
   "source": [
    "data_cleaned"
   ]
  },
  {
   "cell_type": "code",
   "execution_count": 43,
   "id": "57c542b0",
   "metadata": {},
   "outputs": [
    {
     "ename": "KeyError",
     "evalue": "'speech_length'",
     "output_type": "error",
     "traceback": [
      "\u001b[31m---------------------------------------------------------------------------\u001b[39m",
      "\u001b[31mKeyError\u001b[39m                                  Traceback (most recent call last)",
      "\u001b[36mFile \u001b[39m\u001b[32mc:\\Users\\Estelle\\miniconda3\\envs\\DeepLearn\\Lib\\site-packages\\pandas\\core\\indexes\\base.py:3805\u001b[39m, in \u001b[36mIndex.get_loc\u001b[39m\u001b[34m(self, key)\u001b[39m\n\u001b[32m   3804\u001b[39m \u001b[38;5;28;01mtry\u001b[39;00m:\n\u001b[32m-> \u001b[39m\u001b[32m3805\u001b[39m     \u001b[38;5;28;01mreturn\u001b[39;00m \u001b[38;5;28;43mself\u001b[39;49m\u001b[43m.\u001b[49m\u001b[43m_engine\u001b[49m\u001b[43m.\u001b[49m\u001b[43mget_loc\u001b[49m\u001b[43m(\u001b[49m\u001b[43mcasted_key\u001b[49m\u001b[43m)\u001b[49m\n\u001b[32m   3806\u001b[39m \u001b[38;5;28;01mexcept\u001b[39;00m \u001b[38;5;167;01mKeyError\u001b[39;00m \u001b[38;5;28;01mas\u001b[39;00m err:\n",
      "\u001b[36mFile \u001b[39m\u001b[32mindex.pyx:167\u001b[39m, in \u001b[36mpandas._libs.index.IndexEngine.get_loc\u001b[39m\u001b[34m()\u001b[39m\n",
      "\u001b[36mFile \u001b[39m\u001b[32mindex.pyx:196\u001b[39m, in \u001b[36mpandas._libs.index.IndexEngine.get_loc\u001b[39m\u001b[34m()\u001b[39m\n",
      "\u001b[36mFile \u001b[39m\u001b[32mpandas\\\\_libs\\\\hashtable_class_helper.pxi:7081\u001b[39m, in \u001b[36mpandas._libs.hashtable.PyObjectHashTable.get_item\u001b[39m\u001b[34m()\u001b[39m\n",
      "\u001b[36mFile \u001b[39m\u001b[32mpandas\\\\_libs\\\\hashtable_class_helper.pxi:7089\u001b[39m, in \u001b[36mpandas._libs.hashtable.PyObjectHashTable.get_item\u001b[39m\u001b[34m()\u001b[39m\n",
      "\u001b[31mKeyError\u001b[39m: 'speech_length'",
      "\nThe above exception was the direct cause of the following exception:\n",
      "\u001b[31mKeyError\u001b[39m                                  Traceback (most recent call last)",
      "\u001b[36mCell\u001b[39m\u001b[36m \u001b[39m\u001b[32mIn[43]\u001b[39m\u001b[32m, line 1\u001b[39m\n\u001b[32m----> \u001b[39m\u001b[32m1\u001b[39m data_cleaned = data_cleaned[\u001b[43mdata_cleaned\u001b[49m\u001b[43m[\u001b[49m\u001b[33;43m'\u001b[39;49m\u001b[33;43mspeech_length\u001b[39;49m\u001b[33;43m'\u001b[39;49m\u001b[43m]\u001b[49m > \u001b[32m200\u001b[39m]\n\u001b[32m      2\u001b[39m data_cleaned = data_cleaned[data_cleaned[\u001b[33m'\u001b[39m\u001b[33mspeech_length\u001b[39m\u001b[33m'\u001b[39m] < \u001b[32m1501\u001b[39m]\n",
      "\u001b[36mFile \u001b[39m\u001b[32mc:\\Users\\Estelle\\miniconda3\\envs\\DeepLearn\\Lib\\site-packages\\pandas\\core\\frame.py:4102\u001b[39m, in \u001b[36mDataFrame.__getitem__\u001b[39m\u001b[34m(self, key)\u001b[39m\n\u001b[32m   4100\u001b[39m \u001b[38;5;28;01mif\u001b[39;00m \u001b[38;5;28mself\u001b[39m.columns.nlevels > \u001b[32m1\u001b[39m:\n\u001b[32m   4101\u001b[39m     \u001b[38;5;28;01mreturn\u001b[39;00m \u001b[38;5;28mself\u001b[39m._getitem_multilevel(key)\n\u001b[32m-> \u001b[39m\u001b[32m4102\u001b[39m indexer = \u001b[38;5;28;43mself\u001b[39;49m\u001b[43m.\u001b[49m\u001b[43mcolumns\u001b[49m\u001b[43m.\u001b[49m\u001b[43mget_loc\u001b[49m\u001b[43m(\u001b[49m\u001b[43mkey\u001b[49m\u001b[43m)\u001b[49m\n\u001b[32m   4103\u001b[39m \u001b[38;5;28;01mif\u001b[39;00m is_integer(indexer):\n\u001b[32m   4104\u001b[39m     indexer = [indexer]\n",
      "\u001b[36mFile \u001b[39m\u001b[32mc:\\Users\\Estelle\\miniconda3\\envs\\DeepLearn\\Lib\\site-packages\\pandas\\core\\indexes\\base.py:3812\u001b[39m, in \u001b[36mIndex.get_loc\u001b[39m\u001b[34m(self, key)\u001b[39m\n\u001b[32m   3807\u001b[39m     \u001b[38;5;28;01mif\u001b[39;00m \u001b[38;5;28misinstance\u001b[39m(casted_key, \u001b[38;5;28mslice\u001b[39m) \u001b[38;5;129;01mor\u001b[39;00m (\n\u001b[32m   3808\u001b[39m         \u001b[38;5;28misinstance\u001b[39m(casted_key, abc.Iterable)\n\u001b[32m   3809\u001b[39m         \u001b[38;5;129;01mand\u001b[39;00m \u001b[38;5;28many\u001b[39m(\u001b[38;5;28misinstance\u001b[39m(x, \u001b[38;5;28mslice\u001b[39m) \u001b[38;5;28;01mfor\u001b[39;00m x \u001b[38;5;129;01min\u001b[39;00m casted_key)\n\u001b[32m   3810\u001b[39m     ):\n\u001b[32m   3811\u001b[39m         \u001b[38;5;28;01mraise\u001b[39;00m InvalidIndexError(key)\n\u001b[32m-> \u001b[39m\u001b[32m3812\u001b[39m     \u001b[38;5;28;01mraise\u001b[39;00m \u001b[38;5;167;01mKeyError\u001b[39;00m(key) \u001b[38;5;28;01mfrom\u001b[39;00m\u001b[38;5;250m \u001b[39m\u001b[34;01merr\u001b[39;00m\n\u001b[32m   3813\u001b[39m \u001b[38;5;28;01mexcept\u001b[39;00m \u001b[38;5;167;01mTypeError\u001b[39;00m:\n\u001b[32m   3814\u001b[39m     \u001b[38;5;66;03m# If we have a listlike key, _check_indexing_error will raise\u001b[39;00m\n\u001b[32m   3815\u001b[39m     \u001b[38;5;66;03m#  InvalidIndexError. Otherwise we fall through and re-raise\u001b[39;00m\n\u001b[32m   3816\u001b[39m     \u001b[38;5;66;03m#  the TypeError.\u001b[39;00m\n\u001b[32m   3817\u001b[39m     \u001b[38;5;28mself\u001b[39m._check_indexing_error(key)\n",
      "\u001b[31mKeyError\u001b[39m: 'speech_length'"
     ]
    }
   ],
   "source": [
    "data_cleaned = data_cleaned[data_cleaned['speech_length'] > 200]\n",
    "data_cleaned = data_cleaned[data_cleaned['speech_length'] < 1501]"
   ]
  },
  {
   "cell_type": "code",
   "execution_count": null,
   "id": "63affa33",
   "metadata": {},
   "outputs": [],
   "source": [
    "len(data_cleaned)"
   ]
  },
  {
   "cell_type": "markdown",
   "id": "cb66e718",
   "metadata": {},
   "source": [
    "### remove speeches by unobserved parties"
   ]
  },
  {
   "cell_type": "code",
   "execution_count": null,
   "id": "2850af79",
   "metadata": {},
   "outputs": [
    {
     "data": {
      "application/vnd.microsoft.datawrangler.viewer.v0+json": {
       "columns": [
        {
         "name": "party",
         "rawType": "object",
         "type": "string"
        },
        {
         "name": "count",
         "rawType": "int64",
         "type": "integer"
        }
       ],
       "ref": "6d92b839-32c6-45ca-9099-8fbb7848a860",
       "rows": [
        [
         "SPD",
         "8032"
        ],
        [
         "CDU",
         "6838"
        ],
        [
         "BÜNDNIS 90/DIE GRÜNEN",
         "5067"
        ],
        [
         "AfD",
         "5041"
        ],
        [
         "FDP",
         "4683"
        ],
        [
         "DIE LINKE.",
         "3618"
        ],
        [
         "CSU",
         "2838"
        ],
        [
         "Plos",
         "284"
        ],
        [
         "LKR",
         "82"
        ],
        [
         "Die PARTEI",
         "30"
        ],
        [
         "SSW",
         "20"
        ]
       ],
       "shape": {
        "columns": 1,
        "rows": 11
       }
      },
      "text/plain": [
       "party\n",
       "SPD                      8032\n",
       "CDU                      6838\n",
       "BÜNDNIS 90/DIE GRÜNEN    5067\n",
       "AfD                      5041\n",
       "FDP                      4683\n",
       "DIE LINKE.               3618\n",
       "CSU                      2838\n",
       "Plos                      284\n",
       "LKR                        82\n",
       "Die PARTEI                 30\n",
       "SSW                        20\n",
       "Name: count, dtype: int64"
      ]
     },
     "execution_count": 19,
     "metadata": {},
     "output_type": "execute_result"
    }
   ],
   "source": [
    "data_cleaned['party'].value_counts()"
   ]
  },
  {
   "cell_type": "code",
   "execution_count": 20,
   "id": "61b714d2",
   "metadata": {},
   "outputs": [],
   "source": [
    "parties_to_remove = ['Plos', 'LKR', 'Die PARTEI', 'SSW']\n",
    "\n",
    "data_cleaned = data_cleaned[~data_cleaned['party'].isin(parties_to_remove)].reset_index(drop=True)"
   ]
  },
  {
   "cell_type": "code",
   "execution_count": 21,
   "id": "884e1ad8",
   "metadata": {},
   "outputs": [
    {
     "data": {
      "application/vnd.microsoft.datawrangler.viewer.v0+json": {
       "columns": [
        {
         "name": "party",
         "rawType": "object",
         "type": "string"
        },
        {
         "name": "count",
         "rawType": "int64",
         "type": "integer"
        }
       ],
       "ref": "c3cb8019-2784-457a-8ef6-60f3a82a9811",
       "rows": [
        [
         "SPD",
         "8032"
        ],
        [
         "CDU",
         "6838"
        ],
        [
         "BÜNDNIS 90/DIE GRÜNEN",
         "5067"
        ],
        [
         "AfD",
         "5041"
        ],
        [
         "FDP",
         "4683"
        ],
        [
         "DIE LINKE.",
         "3618"
        ],
        [
         "CSU",
         "2838"
        ]
       ],
       "shape": {
        "columns": 1,
        "rows": 7
       }
      },
      "text/plain": [
       "party\n",
       "SPD                      8032\n",
       "CDU                      6838\n",
       "BÜNDNIS 90/DIE GRÜNEN    5067\n",
       "AfD                      5041\n",
       "FDP                      4683\n",
       "DIE LINKE.               3618\n",
       "CSU                      2838\n",
       "Name: count, dtype: int64"
      ]
     },
     "execution_count": 21,
     "metadata": {},
     "output_type": "execute_result"
    }
   ],
   "source": [
    "data_cleaned['party'].value_counts()"
   ]
  },
  {
   "cell_type": "code",
   "execution_count": 22,
   "id": "5b003aa3",
   "metadata": {},
   "outputs": [
    {
     "name": "stdout",
     "output_type": "stream",
     "text": [
      "Total number of speech: 36117\n",
      "Average speech length (mean): 633.63\n",
      "Average speech length (median): 607.00\n",
      "Average speech length (mode): 584.00\n",
      "Max speech length: 1500 words\n",
      "Min speech length: 201 words\n",
      "Total word count: 22884947\n",
      "Vocabulary size: 319779\n"
     ]
    }
   ],
   "source": [
    "tokenized = data_cleaned['tokenized'].dropna()\n",
    "\n",
    "# 1. Total number of speeches\n",
    "num_speeches = len(tokenized)\n",
    "\n",
    "# 2. Average speech length (in words)\n",
    "avg_length = tokenized.apply(len).mean()\n",
    "med_length = tokenized.apply(len).median()\n",
    "mod_length = tokenized.apply(len).mode()\n",
    "\n",
    "\n",
    "# 3. Maximum and minimum speech length\n",
    "max_length = tokenized.apply(len).max()\n",
    "min_length = tokenized.apply(len).min()\n",
    "\n",
    "# 4. Vocabulary size (unique words across all utterances)\n",
    "all_words = [word for sublist in tokenized for word in sublist]\n",
    "vocab_size = len(set(all_words))\n",
    "\n",
    "# 5. Total word count\n",
    "total_words = len(all_words)\n",
    "\n",
    "# Show results\n",
    "print(f\"Total number of speech: {num_speeches}\")\n",
    "print(f\"Average speech length (mean): {avg_length:.2f}\")\n",
    "print(f\"Average speech length (median): {med_length:.2f}\")\n",
    "print(f\"Average speech length (mode): {mod_length.iloc[0]:.2f}\")\n",
    "print(f\"Max speech length: {max_length} words\")\n",
    "print(f\"Min speech length: {min_length} words\")\n",
    "print(f\"Total word count: {total_words}\")\n",
    "print(f\"Vocabulary size: {vocab_size}\")\n"
   ]
  },
  {
   "cell_type": "markdown",
   "id": "eeb1aa71",
   "metadata": {},
   "source": [
    "### formatting"
   ]
  },
  {
   "cell_type": "code",
   "execution_count": 23,
   "id": "4e0daa2e",
   "metadata": {},
   "outputs": [
    {
     "data": {
      "text/plain": [
       "Index(['Unnamed: 0', 'AgendaItemTitle', 'AgendaItemNumber', 'Order',\n",
       "       'AgendaItemDate', 'ProtocolId', 'DateOnly', 'ProtocolDate',\n",
       "       'LegislaturePeriod', 'Number', 'SessionTitle', 'AgendaItemsCount',\n",
       "       'MongoId', 'Id'],\n",
       "      dtype='object')"
      ]
     },
     "execution_count": 23,
     "metadata": {},
     "output_type": "execute_result"
    }
   ],
   "source": [
    "df_agenda.columns"
   ]
  },
  {
   "cell_type": "code",
   "execution_count": 24,
   "id": "af5b319b",
   "metadata": {},
   "outputs": [
    {
     "data": {
      "text/plain": [
       "Index(['speech_id', 'speaker_id', 'speech_text', 'legislative_period',\n",
       "       'protocol_nr', 'agenda_item_number', 'speakerId', 'firstName',\n",
       "       'lastName', 'party', 'fraction', 'normalized', 'tokenized',\n",
       "       'speech_length'],\n",
       "      dtype='object')"
      ]
     },
     "execution_count": 24,
     "metadata": {},
     "output_type": "execute_result"
    }
   ],
   "source": [
    "data_cleaned.columns"
   ]
  },
  {
   "cell_type": "code",
   "execution_count": 25,
   "id": "12855e9a",
   "metadata": {},
   "outputs": [],
   "source": [
    "df_agenda = df_agenda.rename(columns={\n",
    "    'LegislaturePeriod': 'legislative_period',\n",
    "    'Number': 'protocol_nr',\n",
    "    'Order':'agenda_item_number',\n",
    "    'DateOnly':'date',\n",
    "    'AgendaItemTitle':'agenda_item_title'\n",
    "})"
   ]
  },
  {
   "cell_type": "code",
   "execution_count": 26,
   "id": "ac364711",
   "metadata": {},
   "outputs": [],
   "source": [
    "data_merged = data_cleaned.merge(\n",
    "    df_agenda[['legislative_period', 'protocol_nr', 'agenda_item_number', 'agenda_item_title','date']],\n",
    "    on=['legislative_period', 'protocol_nr', 'agenda_item_number'],\n",
    "    how='left'\n",
    ")\n"
   ]
  },
  {
   "cell_type": "markdown",
   "id": "fe1e917b",
   "metadata": {},
   "source": [
    "#### combine CDU/CSU, clean party names"
   ]
  },
  {
   "cell_type": "code",
   "execution_count": 27,
   "id": "ba122417",
   "metadata": {},
   "outputs": [
    {
     "data": {
      "application/vnd.microsoft.datawrangler.viewer.v0+json": {
       "columns": [
        {
         "name": "party",
         "rawType": "object",
         "type": "string"
        },
        {
         "name": "count",
         "rawType": "int64",
         "type": "integer"
        }
       ],
       "ref": "1b2ab595-281e-417b-98a2-dd20364f571c",
       "rows": [
        [
         "SPD",
         "8032"
        ],
        [
         "CDU",
         "6838"
        ],
        [
         "BÜNDNIS 90/DIE GRÜNEN",
         "5067"
        ],
        [
         "AfD",
         "5041"
        ],
        [
         "FDP",
         "4683"
        ],
        [
         "DIE LINKE.",
         "3618"
        ],
        [
         "CSU",
         "2838"
        ]
       ],
       "shape": {
        "columns": 1,
        "rows": 7
       }
      },
      "text/plain": [
       "party\n",
       "SPD                      8032\n",
       "CDU                      6838\n",
       "BÜNDNIS 90/DIE GRÜNEN    5067\n",
       "AfD                      5041\n",
       "FDP                      4683\n",
       "DIE LINKE.               3618\n",
       "CSU                      2838\n",
       "Name: count, dtype: int64"
      ]
     },
     "execution_count": 27,
     "metadata": {},
     "output_type": "execute_result"
    }
   ],
   "source": [
    "data_merged['party'].value_counts()"
   ]
  },
  {
   "cell_type": "code",
   "execution_count": 28,
   "id": "5b5f48c9",
   "metadata": {},
   "outputs": [],
   "source": [
    "data_merged['party'] = data_merged['party'].replace(['CDU', 'CSU'], 'CDU/CSU')\n",
    "data_merged['party'] = data_merged['party'].replace(['BÜNDNIS 90/DIE GRÜNEN'], 'GRÜNE')\n",
    "data_merged['party'] = data_merged['party'].replace(['DIE LINKE.'], 'LINKE')"
   ]
  },
  {
   "cell_type": "code",
   "execution_count": 29,
   "id": "6ce0538d",
   "metadata": {},
   "outputs": [
    {
     "data": {
      "application/vnd.microsoft.datawrangler.viewer.v0+json": {
       "columns": [
        {
         "name": "party",
         "rawType": "object",
         "type": "string"
        },
        {
         "name": "count",
         "rawType": "int64",
         "type": "integer"
        }
       ],
       "ref": "4afb1e5b-ac54-471d-9471-eac9aa7c5322",
       "rows": [
        [
         "CDU/CSU",
         "9676"
        ],
        [
         "SPD",
         "8032"
        ],
        [
         "GRÜNE",
         "5067"
        ],
        [
         "AfD",
         "5041"
        ],
        [
         "FDP",
         "4683"
        ],
        [
         "LINKE",
         "3618"
        ]
       ],
       "shape": {
        "columns": 1,
        "rows": 6
       }
      },
      "text/plain": [
       "party\n",
       "CDU/CSU    9676\n",
       "SPD        8032\n",
       "GRÜNE      5067\n",
       "AfD        5041\n",
       "FDP        4683\n",
       "LINKE      3618\n",
       "Name: count, dtype: int64"
      ]
     },
     "execution_count": 29,
     "metadata": {},
     "output_type": "execute_result"
    }
   ],
   "source": [
    "data_merged['party'].value_counts()"
   ]
  },
  {
   "cell_type": "markdown",
   "id": "c35a8364",
   "metadata": {},
   "source": [
    "#### combine Names"
   ]
  },
  {
   "cell_type": "code",
   "execution_count": 30,
   "id": "5fe5b28d",
   "metadata": {},
   "outputs": [],
   "source": [
    "data_merged['full_name'] = data_merged['firstName'] + ' ' + data_merged['lastName']\n"
   ]
  },
  {
   "cell_type": "markdown",
   "id": "f149291e",
   "metadata": {},
   "source": [
    "#### drop helper columns"
   ]
  },
  {
   "cell_type": "code",
   "execution_count": 31,
   "id": "83bdfb6d",
   "metadata": {},
   "outputs": [],
   "source": [
    "data_merged = data_merged.drop(columns=['speech_id','speaker_id','speakerId','fraction','normalized','tokenized','speech_length','firstName','lastName'])"
   ]
  },
  {
   "cell_type": "code",
   "execution_count": 37,
   "id": "26db39e3",
   "metadata": {},
   "outputs": [],
   "source": [
    "data_merged.to_csv(\"../data/final_data.csv\")"
   ]
  }
 ],
 "metadata": {
  "kernelspec": {
   "display_name": "DeepLearn",
   "language": "python",
   "name": "python3"
  },
  "language_info": {
   "codemirror_mode": {
    "name": "ipython",
    "version": 3
   },
   "file_extension": ".py",
   "mimetype": "text/x-python",
   "name": "python",
   "nbconvert_exporter": "python",
   "pygments_lexer": "ipython3",
   "version": "3.13.2"
  }
 },
 "nbformat": 4,
 "nbformat_minor": 5
}
