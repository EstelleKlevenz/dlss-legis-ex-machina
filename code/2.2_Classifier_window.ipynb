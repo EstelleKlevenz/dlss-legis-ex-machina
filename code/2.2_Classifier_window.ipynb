{
  "cells": [
    {
      "cell_type": "markdown",
      "id": "c1f1e0cb",
      "metadata": {
        "id": "c1f1e0cb"
      },
      "source": [
        "# Fine-tuning Classifier LLM\n"
      ]
    },
    {
      "cell_type": "code",
      "execution_count": 1,
      "id": "605d0b0a",
      "metadata": {
        "colab": {
          "base_uri": "https://localhost:8080/"
        },
        "id": "605d0b0a",
        "outputId": "1ef30f6b-4703-437f-b497-b1210286ceab"
      },
      "outputs": [
        {
          "output_type": "stream",
          "name": "stdout",
          "text": [
            "cuda\n"
          ]
        }
      ],
      "source": [
        "# setup - load packages\n",
        "import pandas as pd\n",
        "from datasets import Dataset\n",
        "import torch\n",
        "import numpy as np\n",
        "from transformers import AutoTokenizer, AutoModelForSequenceClassification\n",
        "import torch.nn.functional as F\n",
        "from sklearn.metrics import (\n",
        "    accuracy_score,\n",
        "    classification_report,\n",
        "    confusion_matrix,\n",
        "    f1_score,\n",
        "    precision_score,\n",
        "    recall_score,\n",
        "    balanced_accuracy_score\n",
        ")\n",
        "import matplotlib.pyplot as plt\n",
        "import seaborn as sns\n",
        "from transformers import TrainingArguments, Trainer\n",
        "\n",
        "# Set up device (is available use GPU to speed up computations)\n",
        "device = torch.device(\"cuda\" if torch.cuda.is_available() else \"cpu\")\n",
        "print(device)\n",
        "\n",
        "seed = 13"
      ]
    },
    {
      "cell_type": "code",
      "execution_count": 3,
      "id": "9124e7b1",
      "metadata": {
        "colab": {
          "base_uri": "https://localhost:8080/"
        },
        "id": "9124e7b1",
        "outputId": "46df3717-0e33-4f37-b0dd-a022066978fb"
      },
      "outputs": [
        {
          "output_type": "stream",
          "name": "stdout",
          "text": [
            "Training samples party: 25281\n",
            "Test samples party: 5418\n",
            "Validation samples party: 5418\n"
          ]
        }
      ],
      "source": [
        "classifier_data = pd.read_csv(\"/content/classifier_data_A.csv\")\n",
        "# converting to huggingface dataset format\n",
        "data = Dataset.from_pandas(classifier_data)\n",
        "# splitting into train, test and validation sets\n",
        "# party data\n",
        "raw_dataset = data.shuffle(seed=seed)\n",
        "\n",
        "# 70% train, 15% test, 15% validation data\n",
        "split = raw_dataset.train_test_split(test_size=0.3, seed=seed)\n",
        "train_data = split[\"train\"]\n",
        "text_and_val_data = split[\"test\"]\n",
        "split = text_and_val_data.train_test_split(test_size=0.5, seed=seed)\n",
        "test_data = split[\"train\"]\n",
        "val_data = split[\"test\"]\n",
        "\n",
        "print(f\"Training samples party: {len(train_data)}\")\n",
        "print(f\"Test samples party: {len(test_data)}\")\n",
        "print(f\"Validation samples party: {len(val_data)}\")\n",
        "\n",
        "\n",
        "\n",
        "# data balancing??\n"
      ]
    },
    {
      "cell_type": "code",
      "execution_count": 4,
      "id": "39264e18",
      "metadata": {
        "id": "39264e18"
      },
      "outputs": [],
      "source": [
        "from transformers import AutoTokenizer\n",
        "from datasets import load_dataset\n",
        "from typing import Union\n",
        "from typing import Mapping"
      ]
    },
    {
      "cell_type": "code",
      "execution_count": 5,
      "id": "e176c9d3",
      "metadata": {
        "id": "e176c9d3"
      },
      "outputs": [],
      "source": [
        "WINDOW_LENGTH = 512\n",
        "STRIDE = 256"
      ]
    },
    {
      "cell_type": "code",
      "execution_count": 6,
      "id": "fd8bc2b5",
      "metadata": {
        "colab": {
          "base_uri": "https://localhost:8080/",
          "height": 249,
          "referenced_widgets": [
            "629a62c748c4459f91ecad36cf03dba9",
            "6d2a58b8070e483e94478cf3275bdfea",
            "83796b2d7aef4f379942150030a13b03",
            "faeb79eac6b24c4b9c38b636b9da8442",
            "12acad080eae405289b8fdf1753da719",
            "10a0690bd59f4cd5a6e02239c7aa2cff",
            "d7eef392242f4fa89b5c9c7a5a5749bb",
            "9158d985cbb649269cdbe6c9bcde0590",
            "cce60255c25846988049e6d5dec22be1",
            "569ad1ba5df943f5a4a1f4abf0d77527",
            "059771aec7164ca8891f8396e95f6e84",
            "29f655fdd0e4432dbe809848471f7400",
            "831837b220cb4eaf9c08736904320954",
            "c1f586c4aed8406ea3b7b83fb63d0fe7",
            "285ffae0d6ea48ec9defef60a70436ea",
            "ee365aad9c63443e8121cd937058cd04",
            "4f669601f2ad4969878d8522b3881094",
            "1ca4bdd5769e485aa393e0a5ee09c02c",
            "d3cb10d1653a4abc80351845126b5bc4",
            "cf14f2af38c6412b82d85c1e67480033",
            "8f3aae803737440ead4e8fa9cb16b741",
            "9323c73d68214fbb8cbb6902bab3afee",
            "0eef1286eeda41439bb757d41e463c7a",
            "179399193d664c91a86f6348b6231e1f",
            "c4bcc00aade94df2b34ef14fca6a4b0e",
            "5ef1cdcd9ef54881905dfe53ba08d494",
            "158497b79e844b4f8375301a0b1fa0b6",
            "bc2380999e5d4553b48b502414ca639a",
            "5ee4f44f53cf4d339b78cd9b13e102d1",
            "9fc8fd788e254e2d8393e6f43fb3f834",
            "b8493b0302cc406e9267f273d6ad0636",
            "44f20c2a70a64c51a8fc2f47a5335a31",
            "5772371cabc7499abede433bbe37d831",
            "ca4264f31e6a4a0e84864df2c8c5a536",
            "023f26144bc24e16a4e842aa015cb239",
            "ba69ee825f7f4717b1c7b768cfe9cb20",
            "e8842193d9964b71816ad1d6482f77ea",
            "539f9826f8ea4ca19ea404163300623e",
            "88a993d9ddb540a8a867e23a03918d9f",
            "78be8f81bd7c40e3aaec4229f55726d1",
            "eae67fe5a5624bd88f87eb22fb80d647",
            "6e4df8b775b14956a4b530ea002d7c27",
            "adbeadcecb7845499e6cfc2481298fb7",
            "30dd7ce03d6143e5924dbd5d5e72d3fd"
          ]
        },
        "id": "fd8bc2b5",
        "outputId": "16cb7394-afb0-4741-a838-dd66151c5914"
      },
      "outputs": [
        {
          "output_type": "stream",
          "name": "stderr",
          "text": [
            "/usr/local/lib/python3.11/dist-packages/huggingface_hub/utils/_auth.py:94: UserWarning: \n",
            "The secret `HF_TOKEN` does not exist in your Colab secrets.\n",
            "To authenticate with the Hugging Face Hub, create a token in your settings tab (https://huggingface.co/settings/tokens), set it as secret in your Google Colab and restart your session.\n",
            "You will be able to reuse this secret in all of your notebooks.\n",
            "Please note that authentication is recommended but still optional to access public models or datasets.\n",
            "  warnings.warn(\n"
          ]
        },
        {
          "output_type": "display_data",
          "data": {
            "text/plain": [
              "tokenizer_config.json:   0%|          | 0.00/49.0 [00:00<?, ?B/s]"
            ],
            "application/vnd.jupyter.widget-view+json": {
              "version_major": 2,
              "version_minor": 0,
              "model_id": "629a62c748c4459f91ecad36cf03dba9"
            }
          },
          "metadata": {}
        },
        {
          "output_type": "display_data",
          "data": {
            "text/plain": [
              "config.json:   0%|          | 0.00/433 [00:00<?, ?B/s]"
            ],
            "application/vnd.jupyter.widget-view+json": {
              "version_major": 2,
              "version_minor": 0,
              "model_id": "29f655fdd0e4432dbe809848471f7400"
            }
          },
          "metadata": {}
        },
        {
          "output_type": "display_data",
          "data": {
            "text/plain": [
              "vocab.txt:   0%|          | 0.00/255k [00:00<?, ?B/s]"
            ],
            "application/vnd.jupyter.widget-view+json": {
              "version_major": 2,
              "version_minor": 0,
              "model_id": "0eef1286eeda41439bb757d41e463c7a"
            }
          },
          "metadata": {}
        },
        {
          "output_type": "display_data",
          "data": {
            "text/plain": [
              "tokenizer.json:   0%|          | 0.00/485k [00:00<?, ?B/s]"
            ],
            "application/vnd.jupyter.widget-view+json": {
              "version_major": 2,
              "version_minor": 0,
              "model_id": "ca4264f31e6a4a0e84864df2c8c5a536"
            }
          },
          "metadata": {}
        }
      ],
      "source": [
        "# Load Tokenizer\n",
        "model_name = \"bert-base-german-cased\"\n",
        "num_labels = 6\n",
        "tokenizer = AutoTokenizer.from_pretrained(\n",
        "    model_name,\n",
        "    model_max_length=WINDOW_LENGTH\n",
        ")\n"
      ]
    },
    {
      "cell_type": "code",
      "execution_count": 7,
      "id": "58a3ea65",
      "metadata": {
        "id": "58a3ea65"
      },
      "outputs": [],
      "source": [
        "label_names = ['CDU/CSU', 'SPD', 'GRÜNE', 'FDP', 'AfD', 'LINKE']\n",
        "label2id = {label: i for i, label in enumerate(sorted(label_names))}\n",
        "id2label = {i: label for label, i in label2id.items()}"
      ]
    },
    {
      "cell_type": "code",
      "execution_count": 25,
      "id": "9f3ed929",
      "metadata": {
        "id": "9f3ed929"
      },
      "outputs": [],
      "source": [
        "def sliding_window_tokenize(batch):\n",
        "    texts = batch[\"speech_text\"]\n",
        "    labels = batch[\"label\"]  # ensure this is a flat list of ints\n",
        "\n",
        "    tokenized = tokenizer(\n",
        "        texts,\n",
        "        truncation=True,\n",
        "        padding=\"max_length\",\n",
        "        max_length=WINDOW_LENGTH,\n",
        "        stride=STRIDE,\n",
        "        return_overflowing_tokens=True,\n",
        "    )\n",
        "\n",
        "    # Assign each overflow window the correct label\n",
        "    tokenized[\"labels\"] = [label2id[labels[i]] for i in tokenized[\"overflow_to_sample_mapping\"]]\n",
        "\n",
        "    return tokenized\n"
      ]
    },
    {
      "cell_type": "code",
      "execution_count": 61,
      "id": "15808c33",
      "metadata": {
        "colab": {
          "base_uri": "https://localhost:8080/",
          "height": 49,
          "referenced_widgets": [
            "a6bb6c7d811746a4b8fa580bb9172eb5",
            "0ba2f7fb17ab4087887a3a5e39118ea6",
            "e7f78a5b398f41f0a56748cbe545f0fc",
            "86396576e60c4aa0b0ad38c3137310e8",
            "5fa93bfb0c32473a988e58a9e6190223",
            "3691a21d1d2c4d60b8b6ad84bf64d50a",
            "68539a89627b4ceea2401b1fb2a4a28d",
            "7b9d6ff5a9ad429a87c7891e3c087b79",
            "80ee1e7342cb4af08d994e970ddecf95",
            "78e776682b754ddbad2ea63535b1b8c2",
            "3428947fd553486391023c67dfccdb95"
          ]
        },
        "id": "15808c33",
        "outputId": "27195069-c6d9-4c04-c4e9-0023bd04f457"
      },
      "outputs": [
        {
          "output_type": "display_data",
          "data": {
            "text/plain": [
              "Map:   0%|          | 0/25281 [00:00<?, ? examples/s]"
            ],
            "application/vnd.jupyter.widget-view+json": {
              "version_major": 2,
              "version_minor": 0,
              "model_id": "a6bb6c7d811746a4b8fa580bb9172eb5"
            }
          },
          "metadata": {}
        }
      ],
      "source": [
        "from datasets import Dataset\n",
        "\n",
        "# Beispiel: Kürzung auf 2000 Beispiele\n",
        "tokenized_dataset = train_data.map(\n",
        "    sliding_window_tokenize,\n",
        "    batched=True,\n",
        "    remove_columns=train_data.column_names\n",
        ")"
      ]
    },
    {
      "cell_type": "code",
      "execution_count": 11,
      "id": "943e95d6",
      "metadata": {
        "colab": {
          "base_uri": "https://localhost:8080/"
        },
        "id": "943e95d6",
        "outputId": "de58af19-236b-4423-8170-dbafdb05b11e"
      },
      "outputs": [
        {
          "output_type": "stream",
          "name": "stdout",
          "text": [
            "Collecting evaluate\n",
            "  Downloading evaluate-0.4.5-py3-none-any.whl.metadata (9.5 kB)\n",
            "Requirement already satisfied: datasets>=2.0.0 in /usr/local/lib/python3.11/dist-packages (from evaluate) (4.0.0)\n",
            "Requirement already satisfied: numpy>=1.17 in /usr/local/lib/python3.11/dist-packages (from evaluate) (2.0.2)\n",
            "Requirement already satisfied: dill in /usr/local/lib/python3.11/dist-packages (from evaluate) (0.3.8)\n",
            "Requirement already satisfied: pandas in /usr/local/lib/python3.11/dist-packages (from evaluate) (2.2.2)\n",
            "Requirement already satisfied: requests>=2.19.0 in /usr/local/lib/python3.11/dist-packages (from evaluate) (2.32.3)\n",
            "Requirement already satisfied: tqdm>=4.62.1 in /usr/local/lib/python3.11/dist-packages (from evaluate) (4.67.1)\n",
            "Requirement already satisfied: xxhash in /usr/local/lib/python3.11/dist-packages (from evaluate) (3.5.0)\n",
            "Requirement already satisfied: multiprocess in /usr/local/lib/python3.11/dist-packages (from evaluate) (0.70.16)\n",
            "Requirement already satisfied: fsspec>=2021.05.0 in /usr/local/lib/python3.11/dist-packages (from fsspec[http]>=2021.05.0->evaluate) (2025.3.0)\n",
            "Requirement already satisfied: huggingface-hub>=0.7.0 in /usr/local/lib/python3.11/dist-packages (from evaluate) (0.34.3)\n",
            "Requirement already satisfied: packaging in /usr/local/lib/python3.11/dist-packages (from evaluate) (25.0)\n",
            "Requirement already satisfied: filelock in /usr/local/lib/python3.11/dist-packages (from datasets>=2.0.0->evaluate) (3.18.0)\n",
            "Requirement already satisfied: pyarrow>=15.0.0 in /usr/local/lib/python3.11/dist-packages (from datasets>=2.0.0->evaluate) (18.1.0)\n",
            "Requirement already satisfied: pyyaml>=5.1 in /usr/local/lib/python3.11/dist-packages (from datasets>=2.0.0->evaluate) (6.0.2)\n",
            "Requirement already satisfied: aiohttp!=4.0.0a0,!=4.0.0a1 in /usr/local/lib/python3.11/dist-packages (from fsspec[http]>=2021.05.0->evaluate) (3.12.15)\n",
            "Requirement already satisfied: typing-extensions>=3.7.4.3 in /usr/local/lib/python3.11/dist-packages (from huggingface-hub>=0.7.0->evaluate) (4.14.1)\n",
            "Requirement already satisfied: hf-xet<2.0.0,>=1.1.3 in /usr/local/lib/python3.11/dist-packages (from huggingface-hub>=0.7.0->evaluate) (1.1.5)\n",
            "Requirement already satisfied: charset-normalizer<4,>=2 in /usr/local/lib/python3.11/dist-packages (from requests>=2.19.0->evaluate) (3.4.2)\n",
            "Requirement already satisfied: idna<4,>=2.5 in /usr/local/lib/python3.11/dist-packages (from requests>=2.19.0->evaluate) (3.10)\n",
            "Requirement already satisfied: urllib3<3,>=1.21.1 in /usr/local/lib/python3.11/dist-packages (from requests>=2.19.0->evaluate) (2.5.0)\n",
            "Requirement already satisfied: certifi>=2017.4.17 in /usr/local/lib/python3.11/dist-packages (from requests>=2.19.0->evaluate) (2025.7.14)\n",
            "Requirement already satisfied: python-dateutil>=2.8.2 in /usr/local/lib/python3.11/dist-packages (from pandas->evaluate) (2.9.0.post0)\n",
            "Requirement already satisfied: pytz>=2020.1 in /usr/local/lib/python3.11/dist-packages (from pandas->evaluate) (2025.2)\n",
            "Requirement already satisfied: tzdata>=2022.7 in /usr/local/lib/python3.11/dist-packages (from pandas->evaluate) (2025.2)\n",
            "Requirement already satisfied: aiohappyeyeballs>=2.5.0 in /usr/local/lib/python3.11/dist-packages (from aiohttp!=4.0.0a0,!=4.0.0a1->fsspec[http]>=2021.05.0->evaluate) (2.6.1)\n",
            "Requirement already satisfied: aiosignal>=1.4.0 in /usr/local/lib/python3.11/dist-packages (from aiohttp!=4.0.0a0,!=4.0.0a1->fsspec[http]>=2021.05.0->evaluate) (1.4.0)\n",
            "Requirement already satisfied: attrs>=17.3.0 in /usr/local/lib/python3.11/dist-packages (from aiohttp!=4.0.0a0,!=4.0.0a1->fsspec[http]>=2021.05.0->evaluate) (25.3.0)\n",
            "Requirement already satisfied: frozenlist>=1.1.1 in /usr/local/lib/python3.11/dist-packages (from aiohttp!=4.0.0a0,!=4.0.0a1->fsspec[http]>=2021.05.0->evaluate) (1.7.0)\n",
            "Requirement already satisfied: multidict<7.0,>=4.5 in /usr/local/lib/python3.11/dist-packages (from aiohttp!=4.0.0a0,!=4.0.0a1->fsspec[http]>=2021.05.0->evaluate) (6.6.3)\n",
            "Requirement already satisfied: propcache>=0.2.0 in /usr/local/lib/python3.11/dist-packages (from aiohttp!=4.0.0a0,!=4.0.0a1->fsspec[http]>=2021.05.0->evaluate) (0.3.2)\n",
            "Requirement already satisfied: yarl<2.0,>=1.17.0 in /usr/local/lib/python3.11/dist-packages (from aiohttp!=4.0.0a0,!=4.0.0a1->fsspec[http]>=2021.05.0->evaluate) (1.20.1)\n",
            "Requirement already satisfied: six>=1.5 in /usr/local/lib/python3.11/dist-packages (from python-dateutil>=2.8.2->pandas->evaluate) (1.17.0)\n",
            "Downloading evaluate-0.4.5-py3-none-any.whl (84 kB)\n",
            "\u001b[?25l   \u001b[90m━━━━━━━━━━━━━━━━━━━━━━━━━━━━━━━━━━━━━━━━\u001b[0m \u001b[32m0.0/84.1 kB\u001b[0m \u001b[31m?\u001b[0m eta \u001b[36m-:--:--\u001b[0m\r\u001b[2K   \u001b[90m━━━━━━━━━━━━━━━━━━━━━━━━━━━━━━━━━━━━━━━━\u001b[0m \u001b[32m84.1/84.1 kB\u001b[0m \u001b[31m8.4 MB/s\u001b[0m eta \u001b[36m0:00:00\u001b[0m\n",
            "\u001b[?25hInstalling collected packages: evaluate\n",
            "Successfully installed evaluate-0.4.5\n"
          ]
        }
      ],
      "source": [
        "%pip install evaluate"
      ]
    },
    {
      "cell_type": "code",
      "source": [
        "print(tokenized_dataset[0][\"labels\"])  # sollte ein einzelner `int` sein, z. B. 3\n",
        "print(type(tokenized_dataset[0][\"labels\"]))  # <class 'int'>"
      ],
      "metadata": {
        "colab": {
          "base_uri": "https://localhost:8080/"
        },
        "id": "31HVddU_NpsQ",
        "outputId": "f9af3d63-0e06-48b5-a270-909d42fa56e7"
      },
      "id": "31HVddU_NpsQ",
      "execution_count": 62,
      "outputs": [
        {
          "output_type": "stream",
          "name": "stdout",
          "text": [
            "1\n",
            "<class 'int'>\n"
          ]
        }
      ]
    },
    {
      "cell_type": "code",
      "source": [
        "from transformers import AutoModelForSequenceClassification, TrainingArguments, Trainer\n",
        "from transformers import DataCollatorWithPadding\n",
        "import numpy as np\n",
        "import evaluate\n",
        "\n",
        "\n",
        "model = AutoModelForSequenceClassification.from_pretrained(\n",
        "    \"bert-base-german-cased\",\n",
        "    num_labels=len(label_names),\n",
        "    id2label=id2label,\n",
        "    label2id=label2id\n",
        ")\n",
        "\n",
        "accuracy_metric = evaluate.load(\"accuracy\")\n",
        "f1_metric = evaluate.load(\"f1\")\n",
        "\n",
        "def compute_metrics(eval_pred):\n",
        "    logits, labels = eval_pred\n",
        "    preds = np.argmax(logits, axis=1)\n",
        "    return {\n",
        "        \"accuracy\": accuracy_metric.compute(predictions=preds, references=labels)[\"accuracy\"],\n",
        "        \"f1\": f1_metric.compute(predictions=preds, references=labels, average=\"macro\")[\"f1\"]\n",
        "    }"
      ],
      "metadata": {
        "colab": {
          "base_uri": "https://localhost:8080/"
        },
        "id": "1SKBN41QNXj7",
        "outputId": "0f856f72-c3da-4dd9-f1c8-cf05402a6b18"
      },
      "id": "1SKBN41QNXj7",
      "execution_count": 63,
      "outputs": [
        {
          "output_type": "stream",
          "name": "stderr",
          "text": [
            "Some weights of BertForSequenceClassification were not initialized from the model checkpoint at bert-base-german-cased and are newly initialized: ['classifier.bias', 'classifier.weight']\n",
            "You should probably TRAIN this model on a down-stream task to be able to use it for predictions and inference.\n"
          ]
        }
      ]
    },
    {
      "cell_type": "code",
      "execution_count": 64,
      "id": "c5bfef97",
      "metadata": {
        "colab": {
          "base_uri": "https://localhost:8080/",
          "height": 365
        },
        "id": "c5bfef97",
        "outputId": "e6d30c08-336f-4213-d58b-d4e7d8100919"
      },
      "outputs": [
        {
          "output_type": "stream",
          "name": "stderr",
          "text": [
            "/tmp/ipython-input-2164122264.py:15: FutureWarning: `tokenizer` is deprecated and will be removed in version 5.0.0 for `Trainer.__init__`. Use `processing_class` instead.\n",
            "  trainer = Trainer(\n",
            "/usr/local/lib/python3.11/dist-packages/torch/nn/modules/module.py:1750: FutureWarning: `encoder_attention_mask` is deprecated and will be removed in version 4.55.0 for `BertSdpaSelfAttention.forward`.\n",
            "  return forward_call(*args, **kwargs)\n"
          ]
        },
        {
          "output_type": "display_data",
          "data": {
            "text/plain": [
              "<IPython.core.display.HTML object>"
            ],
            "text/html": [
              "\n",
              "    <div>\n",
              "      \n",
              "      <progress value='24303' max='24303' style='width:300px; height:20px; vertical-align: middle;'></progress>\n",
              "      [24303/24303 1:43:19, Epoch 3/3]\n",
              "    </div>\n",
              "    <table border=\"1\" class=\"dataframe\">\n",
              "  <thead>\n",
              " <tr style=\"text-align: left;\">\n",
              "      <th>Epoch</th>\n",
              "      <th>Training Loss</th>\n",
              "      <th>Validation Loss</th>\n",
              "      <th>Accuracy</th>\n",
              "      <th>F1</th>\n",
              "    </tr>\n",
              "  </thead>\n",
              "  <tbody>\n",
              "    <tr>\n",
              "      <td>1</td>\n",
              "      <td>0.801400</td>\n",
              "      <td>0.594890</td>\n",
              "      <td>0.766977</td>\n",
              "      <td>0.767719</td>\n",
              "    </tr>\n",
              "    <tr>\n",
              "      <td>2</td>\n",
              "      <td>0.475200</td>\n",
              "      <td>0.302924</td>\n",
              "      <td>0.894042</td>\n",
              "      <td>0.886039</td>\n",
              "    </tr>\n",
              "    <tr>\n",
              "      <td>3</td>\n",
              "      <td>0.256300</td>\n",
              "      <td>0.171712</td>\n",
              "      <td>0.950701</td>\n",
              "      <td>0.949711</td>\n",
              "    </tr>\n",
              "  </tbody>\n",
              "</table><p>"
            ]
          },
          "metadata": {}
        },
        {
          "output_type": "stream",
          "name": "stderr",
          "text": [
            "/usr/local/lib/python3.11/dist-packages/torch/nn/modules/module.py:1750: FutureWarning: `encoder_attention_mask` is deprecated and will be removed in version 4.55.0 for `BertSdpaSelfAttention.forward`.\n",
            "  return forward_call(*args, **kwargs)\n",
            "/usr/local/lib/python3.11/dist-packages/torch/nn/modules/module.py:1750: FutureWarning: `encoder_attention_mask` is deprecated and will be removed in version 4.55.0 for `BertSdpaSelfAttention.forward`.\n",
            "  return forward_call(*args, **kwargs)\n"
          ]
        },
        {
          "output_type": "execute_result",
          "data": {
            "text/plain": [
              "TrainOutput(global_step=24303, training_loss=0.6086807753261517, metrics={'train_runtime': 6199.6484, 'train_samples_per_second': 31.36, 'train_steps_per_second': 3.92, 'total_flos': 5.115694103145677e+16, 'train_loss': 0.6086807753261517, 'epoch': 3.0})"
            ]
          },
          "metadata": {},
          "execution_count": 64
        }
      ],
      "source": [
        "training_args = TrainingArguments(\n",
        "    output_dir=\"./results\",\n",
        "    eval_strategy=\"epoch\",\n",
        "    save_strategy=\"epoch\",\n",
        "    learning_rate=2e-5,\n",
        "    per_device_train_batch_size=8,\n",
        "    per_device_eval_batch_size=16,\n",
        "    num_train_epochs=3,\n",
        "    weight_decay=0.01,\n",
        "    load_best_model_at_end=True,\n",
        "    fp16=torch.cuda.is_available(),\n",
        "    report_to=\"none\",\n",
        ")\n",
        "\n",
        "trainer = Trainer(\n",
        "    model=model,\n",
        "    args=training_args,\n",
        "    train_dataset=tokenized_dataset.train_test_split(test_size=0.1)[\"train\"],\n",
        "    eval_dataset=tokenized_dataset.train_test_split(test_size=0.1)[\"test\"],\n",
        "    tokenizer=tokenizer,\n",
        "    data_collator=DataCollatorWithPadding(tokenizer),\n",
        "    compute_metrics=compute_metrics,\n",
        ")\n",
        "\n",
        "trainer.train()\n"
      ]
    },
    {
      "cell_type": "code",
      "execution_count": 65,
      "id": "42bade2f",
      "metadata": {
        "id": "42bade2f"
      },
      "outputs": [],
      "source": [
        "trainer.save_model(\"./bert_german_speech_classifier_fulldata\")"
      ]
    },
    {
      "cell_type": "code",
      "source": [
        "import torch\n",
        "import numpy as np\n",
        "from tqdm import tqdm\n",
        "from typing import List, Dict, Any\n",
        "from datasets import Dataset\n",
        "\n",
        "# model und tokenizer müssen schon geladen sein\n",
        "model.eval()\n",
        "\n",
        "def tokenize_sliding_windows(example: Dict[str, Any]) -> Dict[str, Any]:\n",
        "    encoding = tokenizer(\n",
        "        example[\"speech_text\"],\n",
        "        truncation=True,\n",
        "        padding=\"max_length\",\n",
        "        max_length=WINDOW_LENGTH,\n",
        "        stride=STRIDE,\n",
        "        return_overflowing_tokens=True,\n",
        "        return_offsets_mapping=False,\n",
        "        return_tensors=\"pt\"\n",
        "    )\n",
        "    return encoding\n",
        "\n",
        "def predict_proba_for_dataset(dataset: Dataset) -> List[Dict[str, Any]]:\n",
        "    results = []\n",
        "\n",
        "    for example in tqdm(dataset):\n",
        "        tokenized = tokenize_sliding_windows(example)\n",
        "        input_ids = tokenized[\"input_ids\"].to(model.device)\n",
        "        attention_mask = tokenized[\"attention_mask\"].to(model.device)\n",
        "\n",
        "        with torch.no_grad():\n",
        "            outputs = model(input_ids=input_ids, attention_mask=attention_mask)\n",
        "            probs = torch.nn.functional.softmax(outputs.logits, dim=-1).cpu().numpy()\n",
        "\n",
        "        avg_probs = probs.mean(axis=0)\n",
        "        results.append({\n",
        "            \"probs\": avg_probs.tolist(),\n",
        "            \"label\": example[\"label\"]  # falls du wahren Wert mitgeben willst\n",
        "        })\n",
        "\n",
        "    return results\n"
      ],
      "metadata": {
        "id": "nVyP9xcmPnVc"
      },
      "id": "nVyP9xcmPnVc",
      "execution_count": 66,
      "outputs": []
    },
    {
      "cell_type": "code",
      "source": [
        "results = predict_proba_for_dataset(val_data)\n"
      ],
      "metadata": {
        "colab": {
          "base_uri": "https://localhost:8080/"
        },
        "id": "v_sqcc1VPq73",
        "outputId": "c6845938-731a-4d42-8382-9ab91b3f598e"
      },
      "id": "v_sqcc1VPq73",
      "execution_count": 67,
      "outputs": [
        {
          "output_type": "stream",
          "name": "stderr",
          "text": [
            "  0%|          | 0/5418 [00:00<?, ?it/s]/usr/local/lib/python3.11/dist-packages/torch/nn/modules/module.py:1750: FutureWarning: `encoder_attention_mask` is deprecated and will be removed in version 4.55.0 for `BertSdpaSelfAttention.forward`.\n",
            "  return forward_call(*args, **kwargs)\n",
            "100%|██████████| 5418/5418 [02:25<00:00, 37.23it/s]\n"
          ]
        }
      ]
    },
    {
      "cell_type": "code",
      "source": [
        "from typing import List, Dict\n",
        "import numpy as np\n",
        "\n",
        "def add_predicted_labels(results: List[Dict], label_names: List[str]) -> List[Dict]:\n",
        "    for item in results:\n",
        "        probs = item[\"probs\"]\n",
        "        pred_idx = int(np.argmax(probs))\n",
        "        item[\"prediction_label\"] = label_names[pred_idx]\n",
        "    return results"
      ],
      "metadata": {
        "id": "vNiXtLMwSt-3"
      },
      "id": "vNiXtLMwSt-3",
      "execution_count": 68,
      "outputs": []
    },
    {
      "cell_type": "code",
      "source": [
        "results = add_predicted_labels(results, sorted(label_names))"
      ],
      "metadata": {
        "id": "ItzdppshTQOz"
      },
      "id": "ItzdppshTQOz",
      "execution_count": 69,
      "outputs": []
    },
    {
      "cell_type": "code",
      "source": [
        "def get_metrics(true_labels, preds):\n",
        "    metrics_summary = {}\n",
        "\n",
        "    acc = accuracy_score(true_labels, preds)\n",
        "    bal_acc = balanced_accuracy_score(true_labels, preds)\n",
        "\n",
        "    precision = precision_score(true_labels, preds, average='macro', zero_division=0)\n",
        "    recall = recall_score(true_labels, preds, average='macro', zero_division=0)\n",
        "    f1 = f1_score(true_labels, preds, average='macro', zero_division=0)\n",
        "\n",
        "    label_order = sorted(set(true_labels).union(set(preds)))\n",
        "    report = classification_report(true_labels, preds, labels=label_order, zero_division=0)\n",
        "    metrics_summary[model_name] = {\n",
        "        'acc': acc,\n",
        "        'bal_acc': bal_acc,\n",
        "        'precision': precision,\n",
        "        'recall': recall,\n",
        "        'f1': f1\n",
        "    }\n",
        "    # print metrics\n",
        "    print(f\"Model: {model_name}\")\n",
        "    print(f\"  Accuracy: {acc}\")\n",
        "    print(f\"  Balanced Accuracy: {bal_acc}\")\n",
        "    print(f\"  Precision: {precision}\")\n",
        "    print(f\"  Recall: {recall}\")\n",
        "    print(f\"  F1-score: {f1}\")\n",
        "    print(f\"  Classification Report:\\n{report}\")\n",
        "\n",
        "\n",
        "    # Confusion Matrix\n",
        "    label_order = sorted(set(true_labels).union(set(preds)))\n",
        "    cm = confusion_matrix(true_labels, preds, labels=label_order)\n",
        "    cm_df = pd.DataFrame(cm, index=label_order, columns=label_order)\n",
        "\n",
        "    plt.figure(figsize=(8, 6))\n",
        "    sns.heatmap(cm_df, annot=True, fmt='d', cmap='Blues')\n",
        "    plt.title(f\"Confusion Matrix - {model_name}\")\n",
        "    plt.ylabel(\"True Label\")\n",
        "    plt.xlabel(\"Predicted Label\")\n",
        "    plt.tight_layout()\n",
        "    plt.savefig(\"confusion_slidingwindow_fulldata.png\")\n",
        "    plt.show()\n",
        "\n",
        "\n",
        "    return metrics_summary\n",
        "\n",
        "\n"
      ],
      "metadata": {
        "id": "EUwqS8b_Tpip"
      },
      "id": "EUwqS8b_Tpip",
      "execution_count": 70,
      "outputs": []
    },
    {
      "cell_type": "code",
      "source": [
        "results_df = pd.DataFrame(results)"
      ],
      "metadata": {
        "id": "F8io9c-RUMk3"
      },
      "id": "F8io9c-RUMk3",
      "execution_count": 71,
      "outputs": []
    },
    {
      "cell_type": "code",
      "source": [
        "get_metrics(results_df['label'],results_df['prediction_label'])"
      ],
      "metadata": {
        "colab": {
          "base_uri": "https://localhost:8080/",
          "height": 1000
        },
        "id": "wwNjoEgJUBqk",
        "outputId": "9e3caa4f-1145-4d37-bf33-950e670d686b"
      },
      "id": "wwNjoEgJUBqk",
      "execution_count": 73,
      "outputs": [
        {
          "output_type": "stream",
          "name": "stdout",
          "text": [
            "Model: bert-base-german-cased\n",
            "  Accuracy: 0.804171280915467\n",
            "  Balanced Accuracy: 0.7888836881077682\n",
            "  Precision: 0.8154652639277679\n",
            "  Recall: 0.7888836881077682\n",
            "  F1-score: 0.7993156386294643\n",
            "  Classification Report:\n",
            "              precision    recall  f1-score   support\n",
            "\n",
            "         AfD       0.97      0.90      0.93       776\n",
            "     CDU/CSU       0.81      0.85      0.83      1402\n",
            "         FDP       0.78      0.67      0.72       713\n",
            "       GRÜNE       0.76      0.63      0.69       712\n",
            "       LINKE       0.85      0.82      0.83       581\n",
            "         SPD       0.73      0.86      0.79      1234\n",
            "\n",
            "    accuracy                           0.80      5418\n",
            "   macro avg       0.82      0.79      0.80      5418\n",
            "weighted avg       0.81      0.80      0.80      5418\n",
            "\n"
          ]
        },
        {
          "output_type": "display_data",
          "data": {
            "text/plain": [
              "<Figure size 800x600 with 2 Axes>"
            ],
            "image/png": "[encoded data removed]"
          },
          "metadata": {}
        },
        {
          "output_type": "execute_result",
          "data": {
            "text/plain": [
              "{'bert-base-german-cased': {'acc': 0.804171280915467,\n",
              "  'bal_acc': np.float64(0.7888836881077682),\n",
              "  'precision': 0.8154652639277679,\n",
              "  'recall': 0.7888836881077682,\n",
              "  'f1': 0.7993156386294643}}"
            ]
          },
          "metadata": {},
          "execution_count": 73
        },
        {
          "output_type": "display_data",
          "data": {
            "text/plain": [
              "<Figure size 640x480 with 0 Axes>"
            ]
          },
          "metadata": {}
        }
      ]
    },
    {
      "cell_type": "code",
      "source": [
        "results_df"
      ],
      "metadata": {
        "colab": {
          "base_uri": "https://localhost:8080/",
          "height": 424
        },
        "id": "66UZuVZPvheB",
        "outputId": "18c32a7d-1a8b-419b-a011-74b5fd24ca94"
      },
      "id": "66UZuVZPvheB",
      "execution_count": 75,
      "outputs": [
        {
          "output_type": "execute_result",
          "data": {
            "text/plain": [
              "                                                  probs    label  \\\n",
              "0     [0.00017410353757441044, 0.0001726595364743843...    LINKE   \n",
              "1     [0.0001470728311687708, 0.48318710923194885, 0...  CDU/CSU   \n",
              "2     [0.00018254116002935916, 0.7668286561965942, 0...  CDU/CSU   \n",
              "3     [0.000144667734275572, 0.3643619418144226, 0.0...      SPD   \n",
              "4     [7.819286838639528e-05, 7.324050966417417e-05,...    LINKE   \n",
              "...                                                 ...      ...   \n",
              "5413  [6.503691838588566e-05, 0.002560372930020094, ...      SPD   \n",
              "5414  [0.0004209448234178126, 0.08983976393938065, 0...    LINKE   \n",
              "5415  [0.00042603033944033086, 0.0006034793332219124...      SPD   \n",
              "5416  [0.0001148649025708437, 0.006084399297833443, ...      SPD   \n",
              "5417  [7.962669769767672e-05, 0.7595429420471191, 0....  CDU/CSU   \n",
              "\n",
              "     prediction_label  \n",
              "0               LINKE  \n",
              "1             CDU/CSU  \n",
              "2             CDU/CSU  \n",
              "3                 SPD  \n",
              "4               LINKE  \n",
              "...               ...  \n",
              "5413              SPD  \n",
              "5414            LINKE  \n",
              "5415              SPD  \n",
              "5416            GRÜNE  \n",
              "5417          CDU/CSU  \n",
              "\n",
              "[5418 rows x 3 columns]"
            ],
            "text/html": [
              "\n",
              "  <div id=\"df-ba024210-c31e-439a-ab06-eb2caddfffa0\" class=\"colab-df-container\">\n",
              "    <div>\n",
              "<style scoped>\n",
              "    .dataframe tbody tr th:only-of-type {\n",
              "        vertical-align: middle;\n",
              "    }\n",
              "\n",
              "    .dataframe tbody tr th {\n",
              "        vertical-align: top;\n",
              "    }\n",
              "\n",
              "    .dataframe thead th {\n",
              "        text-align: right;\n",
              "    }\n",
              "</style>\n",
              "<table border=\"1\" class=\"dataframe\">\n",
              "  <thead>\n",
              "    <tr style=\"text-align: right;\">\n",
              "      <th></th>\n",
              "      <th>probs</th>\n",
              "      <th>label</th>\n",
              "      <th>prediction_label</th>\n",
              "    </tr>\n",
              "  </thead>\n",
              "  <tbody>\n",
              "    <tr>\n",
              "      <th>0</th>\n",
              "      <td>[0.00017410353757441044, 0.0001726595364743843...</td>\n",
              "      <td>LINKE</td>\n",
              "      <td>LINKE</td>\n",
              "    </tr>\n",
              "    <tr>\n",
              "      <th>1</th>\n",
              "      <td>[0.0001470728311687708, 0.48318710923194885, 0...</td>\n",
              "      <td>CDU/CSU</td>\n",
              "      <td>CDU/CSU</td>\n",
              "    </tr>\n",
              "    <tr>\n",
              "      <th>2</th>\n",
              "      <td>[0.00018254116002935916, 0.7668286561965942, 0...</td>\n",
              "      <td>CDU/CSU</td>\n",
              "      <td>CDU/CSU</td>\n",
              "    </tr>\n",
              "    <tr>\n",
              "      <th>3</th>\n",
              "      <td>[0.000144667734275572, 0.3643619418144226, 0.0...</td>\n",
              "      <td>SPD</td>\n",
              "      <td>SPD</td>\n",
              "    </tr>\n",
              "    <tr>\n",
              "      <th>4</th>\n",
              "      <td>[7.819286838639528e-05, 7.324050966417417e-05,...</td>\n",
              "      <td>LINKE</td>\n",
              "      <td>LINKE</td>\n",
              "    </tr>\n",
              "    <tr>\n",
              "      <th>...</th>\n",
              "      <td>...</td>\n",
              "      <td>...</td>\n",
              "      <td>...</td>\n",
              "    </tr>\n",
              "    <tr>\n",
              "      <th>5413</th>\n",
              "      <td>[6.503691838588566e-05, 0.002560372930020094, ...</td>\n",
              "      <td>SPD</td>\n",
              "      <td>SPD</td>\n",
              "    </tr>\n",
              "    <tr>\n",
              "      <th>5414</th>\n",
              "      <td>[0.0004209448234178126, 0.08983976393938065, 0...</td>\n",
              "      <td>LINKE</td>\n",
              "      <td>LINKE</td>\n",
              "    </tr>\n",
              "    <tr>\n",
              "      <th>5415</th>\n",
              "      <td>[0.00042603033944033086, 0.0006034793332219124...</td>\n",
              "      <td>SPD</td>\n",
              "      <td>SPD</td>\n",
              "    </tr>\n",
              "    <tr>\n",
              "      <th>5416</th>\n",
              "      <td>[0.0001148649025708437, 0.006084399297833443, ...</td>\n",
              "      <td>SPD</td>\n",
              "      <td>GRÜNE</td>\n",
              "    </tr>\n",
              "    <tr>\n",
              "      <th>5417</th>\n",
              "      <td>[7.962669769767672e-05, 0.7595429420471191, 0....</td>\n",
              "      <td>CDU/CSU</td>\n",
              "      <td>CDU/CSU</td>\n",
              "    </tr>\n",
              "  </tbody>\n",
              "</table>\n",
              "<p>5418 rows × 3 columns</p>\n",
              "</div>\n",
              "    <div class=\"colab-df-buttons\">\n",
              "\n",
              "  <div class=\"colab-df-container\">\n",
              "    <button class=\"colab-df-convert\" onclick=\"convertToInteractive('df-ba024210-c31e-439a-ab06-eb2caddfffa0')\"\n",
              "            title=\"Convert this dataframe to an interactive table.\"\n",
              "            style=\"display:none;\">\n",
              "\n",
              "  <svg xmlns=\"http://www.w3.org/2000/svg\" height=\"24px\" viewBox=\"0 -960 960 960\">\n",
              "    <path d=\"M120-120v-720h720v720H120Zm60-500h600v-160H180v160Zm220 220h160v-160H400v160Zm0 220h160v-160H400v160ZM180-400h160v-160H180v160Zm440 0h160v-160H620v160ZM180-180h160v-160H180v160Zm440 0h160v-160H620v160Z\"/>\n",
              "  </svg>\n",
              "    </button>\n",
              "\n",
              "  <style>\n",
              "    .colab-df-container {\n",
              "      display:flex;\n",
              "      gap: 12px;\n",
              "    }\n",
              "\n",
              "    .colab-df-convert {\n",
              "      background-color: #E8F0FE;\n",
              "      border: none;\n",
              "      border-radius: 50%;\n",
              "      cursor: pointer;\n",
              "      display: none;\n",
              "      fill: #1967D2;\n",
              "      height: 32px;\n",
              "      padding: 0 0 0 0;\n",
              "      width: 32px;\n",
              "    }\n",
              "\n",
              "    .colab-df-convert:hover {\n",
              "      background-color: #E2EBFA;\n",
              "      box-shadow: 0px 1px 2px rgba(60, 64, 67, 0.3), 0px 1px 3px 1px rgba(60, 64, 67, 0.15);\n",
              "      fill: #174EA6;\n",
              "    }\n",
              "\n",
              "    .colab-df-buttons div {\n",
              "      margin-bottom: 4px;\n",
              "    }\n",
              "\n",
              "    [theme=dark] .colab-df-convert {\n",
              "      background-color: #3B4455;\n",
              "      fill: #D2E3FC;\n",
              "    }\n",
              "\n",
              "    [theme=dark] .colab-df-convert:hover {\n",
              "      background-color: #434B5C;\n",
              "      box-shadow: 0px 1px 3px 1px rgba(0, 0, 0, 0.15);\n",
              "      filter: drop-shadow(0px 1px 2px rgba(0, 0, 0, 0.3));\n",
              "      fill: #FFFFFF;\n",
              "    }\n",
              "  </style>\n",
              "\n",
              "    <script>\n",
              "      const buttonEl =\n",
              "        document.querySelector('#df-ba024210-c31e-439a-ab06-eb2caddfffa0 button.colab-df-convert');\n",
              "      buttonEl.style.display =\n",
              "        google.colab.kernel.accessAllowed ? 'block' : 'none';\n",
              "\n",
              "      async function convertToInteractive(key) {\n",
              "        const element = document.querySelector('#df-ba024210-c31e-439a-ab06-eb2caddfffa0');\n",
              "        const dataTable =\n",
              "          await google.colab.kernel.invokeFunction('convertToInteractive',\n",
              "                                                    [key], {});\n",
              "        if (!dataTable) return;\n",
              "\n",
              "        const docLinkHtml = 'Like what you see? Visit the ' +\n",
              "          '<a target=\"_blank\" href=https://colab.research.google.com/notebooks/data_table.ipynb>data table notebook</a>'\n",
              "          + ' to learn more about interactive tables.';\n",
              "        element.innerHTML = '';\n",
              "        dataTable['output_type'] = 'display_data';\n",
              "        await google.colab.output.renderOutput(dataTable, element);\n",
              "        const docLink = document.createElement('div');\n",
              "        docLink.innerHTML = docLinkHtml;\n",
              "        element.appendChild(docLink);\n",
              "      }\n",
              "    </script>\n",
              "  </div>\n",
              "\n",
              "\n",
              "    <div id=\"df-79cf4bdc-e5ae-4e64-b44f-fae5eaf6c0dd\">\n",
              "      <button class=\"colab-df-quickchart\" onclick=\"quickchart('df-79cf4bdc-e5ae-4e64-b44f-fae5eaf6c0dd')\"\n",
              "                title=\"Suggest charts\"\n",
              "                style=\"display:none;\">\n",
              "\n",
              "<svg xmlns=\"http://www.w3.org/2000/svg\" height=\"24px\"viewBox=\"0 0 24 24\"\n",
              "     width=\"24px\">\n",
              "    <g>\n",
              "        <path d=\"M19 3H5c-1.1 0-2 .9-2 2v14c0 1.1.9 2 2 2h14c1.1 0 2-.9 2-2V5c0-1.1-.9-2-2-2zM9 17H7v-7h2v7zm4 0h-2V7h2v10zm4 0h-2v-4h2v4z\"/>\n",
              "    </g>\n",
              "</svg>\n",
              "      </button>\n",
              "\n",
              "<style>\n",
              "  .colab-df-quickchart {\n",
              "      --bg-color: #E8F0FE;\n",
              "      --fill-color: #1967D2;\n",
              "      --hover-bg-color: #E2EBFA;\n",
              "      --hover-fill-color: #174EA6;\n",
              "      --disabled-fill-color: #AAA;\n",
              "      --disabled-bg-color: #DDD;\n",
              "  }\n",
              "\n",
              "  [theme=dark] .colab-df-quickchart {\n",
              "      --bg-color: #3B4455;\n",
              "      --fill-color: #D2E3FC;\n",
              "      --hover-bg-color: #434B5C;\n",
              "      --hover-fill-color: #FFFFFF;\n",
              "      --disabled-bg-color: #3B4455;\n",
              "      --disabled-fill-color: #666;\n",
              "  }\n",
              "\n",
              "  .colab-df-quickchart {\n",
              "    background-color: var(--bg-color);\n",
              "    border: none;\n",
              "    border-radius: 50%;\n",
              "    cursor: pointer;\n",
              "    display: none;\n",
              "    fill: var(--fill-color);\n",
              "    height: 32px;\n",
              "    padding: 0;\n",
              "    width: 32px;\n",
              "  }\n",
              "\n",
              "  .colab-df-quickchart:hover {\n",
              "    background-color: var(--hover-bg-color);\n",
              "    box-shadow: 0 1px 2px rgba(60, 64, 67, 0.3), 0 1px 3px 1px rgba(60, 64, 67, 0.15);\n",
              "    fill: var(--button-hover-fill-color);\n",
              "  }\n",
              "\n",
              "  .colab-df-quickchart-complete:disabled,\n",
              "  .colab-df-quickchart-complete:disabled:hover {\n",
              "    background-color: var(--disabled-bg-color);\n",
              "    fill: var(--disabled-fill-color);\n",
              "    box-shadow: none;\n",
              "  }\n",
              "\n",
              "  .colab-df-spinner {\n",
              "    border: 2px solid var(--fill-color);\n",
              "    border-color: transparent;\n",
              "    border-bottom-color: var(--fill-color);\n",
              "    animation:\n",
              "      spin 1s steps(1) infinite;\n",
              "  }\n",
              "\n",
              "  @keyframes spin {\n",
              "    0% {\n",
              "      border-color: transparent;\n",
              "      border-bottom-color: var(--fill-color);\n",
              "      border-left-color: var(--fill-color);\n",
              "    }\n",
              "    20% {\n",
              "      border-color: transparent;\n",
              "      border-left-color: var(--fill-color);\n",
              "      border-top-color: var(--fill-color);\n",
              "    }\n",
              "    30% {\n",
              "      border-color: transparent;\n",
              "      border-left-color: var(--fill-color);\n",
              "      border-top-color: var(--fill-color);\n",
              "      border-right-color: var(--fill-color);\n",
              "    }\n",
              "    40% {\n",
              "      border-color: transparent;\n",
              "      border-right-color: var(--fill-color);\n",
              "      border-top-color: var(--fill-color);\n",
              "    }\n",
              "    60% {\n",
              "      border-color: transparent;\n",
              "      border-right-color: var(--fill-color);\n",
              "    }\n",
              "    80% {\n",
              "      border-color: transparent;\n",
              "      border-right-color: var(--fill-color);\n",
              "      border-bottom-color: var(--fill-color);\n",
              "    }\n",
              "    90% {\n",
              "      border-color: transparent;\n",
              "      border-bottom-color: var(--fill-color);\n",
              "    }\n",
              "  }\n",
              "</style>\n",
              "\n",
              "      <script>\n",
              "        async function quickchart(key) {\n",
              "          const quickchartButtonEl =\n",
              "            document.querySelector('#' + key + ' button');\n",
              "          quickchartButtonEl.disabled = true;  // To prevent multiple clicks.\n",
              "          quickchartButtonEl.classList.add('colab-df-spinner');\n",
              "          try {\n",
              "            const charts = await google.colab.kernel.invokeFunction(\n",
              "                'suggestCharts', [key], {});\n",
              "          } catch (error) {\n",
              "            console.error('Error during call to suggestCharts:', error);\n",
              "          }\n",
              "          quickchartButtonEl.classList.remove('colab-df-spinner');\n",
              "          quickchartButtonEl.classList.add('colab-df-quickchart-complete');\n",
              "        }\n",
              "        (() => {\n",
              "          let quickchartButtonEl =\n",
              "            document.querySelector('#df-79cf4bdc-e5ae-4e64-b44f-fae5eaf6c0dd button');\n",
              "          quickchartButtonEl.style.display =\n",
              "            google.colab.kernel.accessAllowed ? 'block' : 'none';\n",
              "        })();\n",
              "      </script>\n",
              "    </div>\n",
              "\n",
              "  <div id=\"id_8ec087e7-7009-4a26-9ab8-9b7f654c2894\">\n",
              "    <style>\n",
              "      .colab-df-generate {\n",
              "        background-color: #E8F0FE;\n",
              "        border: none;\n",
              "        border-radius: 50%;\n",
              "        cursor: pointer;\n",
              "        display: none;\n",
              "        fill: #1967D2;\n",
              "        height: 32px;\n",
              "        padding: 0 0 0 0;\n",
              "        width: 32px;\n",
              "      }\n",
              "\n",
              "      .colab-df-generate:hover {\n",
              "        background-color: #E2EBFA;\n",
              "        box-shadow: 0px 1px 2px rgba(60, 64, 67, 0.3), 0px 1px 3px 1px rgba(60, 64, 67, 0.15);\n",
              "        fill: #174EA6;\n",
              "      }\n",
              "\n",
              "      [theme=dark] .colab-df-generate {\n",
              "        background-color: #3B4455;\n",
              "        fill: #D2E3FC;\n",
              "      }\n",
              "\n",
              "      [theme=dark] .colab-df-generate:hover {\n",
              "        background-color: #434B5C;\n",
              "        box-shadow: 0px 1px 3px 1px rgba(0, 0, 0, 0.15);\n",
              "        filter: drop-shadow(0px 1px 2px rgba(0, 0, 0, 0.3));\n",
              "        fill: #FFFFFF;\n",
              "      }\n",
              "    </style>\n",
              "    <button class=\"colab-df-generate\" onclick=\"generateWithVariable('results_df')\"\n",
              "            title=\"Generate code using this dataframe.\"\n",
              "            style=\"display:none;\">\n",
              "\n",
              "  <svg xmlns=\"http://www.w3.org/2000/svg\" height=\"24px\"viewBox=\"0 0 24 24\"\n",
              "       width=\"24px\">\n",
              "    <path d=\"M7,19H8.4L18.45,9,17,7.55,7,17.6ZM5,21V16.75L18.45,3.32a2,2,0,0,1,2.83,0l1.4,1.43a1.91,1.91,0,0,1,.58,1.4,1.91,1.91,0,0,1-.58,1.4L9.25,21ZM18.45,9,17,7.55Zm-12,3A5.31,5.31,0,0,0,4.9,8.1,5.31,5.31,0,0,0,1,6.5,5.31,5.31,0,0,0,4.9,4.9,5.31,5.31,0,0,0,6.5,1,5.31,5.31,0,0,0,8.1,4.9,5.31,5.31,0,0,0,12,6.5,5.46,5.46,0,0,0,6.5,12Z\"/>\n",
              "  </svg>\n",
              "    </button>\n",
              "    <script>\n",
              "      (() => {\n",
              "      const buttonEl =\n",
              "        document.querySelector('#id_8ec087e7-7009-4a26-9ab8-9b7f654c2894 button.colab-df-generate');\n",
              "      buttonEl.style.display =\n",
              "        google.colab.kernel.accessAllowed ? 'block' : 'none';\n",
              "\n",
              "      buttonEl.onclick = () => {\n",
              "        google.colab.notebook.generateWithVariable('results_df');\n",
              "      }\n",
              "      })();\n",
              "    </script>\n",
              "  </div>\n",
              "\n",
              "    </div>\n",
              "  </div>\n"
            ],
            "application/vnd.google.colaboratory.intrinsic+json": {
              "type": "dataframe",
              "variable_name": "results_df",
              "summary": "{\n  \"name\": \"results_df\",\n  \"rows\": 5418,\n  \"fields\": [\n    {\n      \"column\": \"probs\",\n      \"properties\": {\n        \"dtype\": \"object\",\n        \"semantic_type\": \"\",\n        \"description\": \"\"\n      }\n    },\n    {\n      \"column\": \"label\",\n      \"properties\": {\n        \"dtype\": \"category\",\n        \"num_unique_values\": 6,\n        \"samples\": [\n          \"LINKE\",\n          \"CDU/CSU\",\n          \"GR\\u00dcNE\"\n        ],\n        \"semantic_type\": \"\",\n        \"description\": \"\"\n      }\n    },\n    {\n      \"column\": \"prediction_label\",\n      \"properties\": {\n        \"dtype\": \"category\",\n        \"num_unique_values\": 6,\n        \"samples\": [\n          \"LINKE\",\n          \"CDU/CSU\",\n          \"GR\\u00dcNE\"\n        ],\n        \"semantic_type\": \"\",\n        \"description\": \"\"\n      }\n    }\n  ]\n}"
            }
          },
          "metadata": {},
          "execution_count": 75
        }
      ]
    },
    {
      "cell_type": "code",
      "source": [
        "results_df.to_csv(\"results_slidingwindow_fulldata.csv\")"
      ],
      "metadata": {
        "id": "LQPypCKBV08p"
      },
      "id": "LQPypCKBV08p",
      "execution_count": 74,
      "outputs": []
    },
    {
      "cell_type": "markdown",
      "id": "4ea023b1",
      "metadata": {
        "id": "4ea023b1"
      },
      "source": [
        "# ____\n",
        "# Ella"
      ]
    },
    {
      "cell_type": "code",
      "execution_count": null,
      "id": "794e5296",
      "metadata": {
        "id": "794e5296"
      },
      "outputs": [],
      "source": [
        "def predicting_probs(model, speech):\n",
        "    # Put model in eval mode\n",
        "    model.eval()\n",
        "\n",
        "    #  Tokenize input speeches\n",
        "    tokens = tokenizer(speech, return_tensors=\"pt\", truncation=False)[\"input_ids\"][0]\n",
        "\n",
        "    chunks = [tokens[i:i+max_length] for i in range(0, len(tokens), max_length)]\n",
        "\n",
        "    all_probs = []\n",
        "    i = 0\n",
        "    for chunk in chunks:\n",
        "        input_dict = {\"input_ids\": chunk.unsqueeze(0)}  # Add batch dimension\n",
        "        # Add attention mask\n",
        "        input_dict[\"attention_mask\"] = (chunk != tokenizer.pad_token_id).unsqueeze(0)\n",
        "\n",
        "\n",
        "        # Run model to predict baseline\n",
        "        with torch.no_grad():\n",
        "            outputs = model(**input_dict)\n",
        "            logits = outputs.logits\n",
        "            probabilities = F.softmax(logits, dim=1)\n",
        "            all_probs.append(probabilities)\n",
        "            i+=1\n",
        "    # averaging probabilites over all probabilities in speech parts\n",
        "    avg_probs = torch.mean(torch.cat(all_probs, dim=0), dim=0)\n",
        "    print(i , avg_probs)\n",
        "\n",
        "    return avg_probs\n",
        "\n",
        "\n",
        "def predicting_probs_to_preds(model, speech):\n",
        "    # get probabilites\n",
        "    probabilities = predicting_probs(model, speech)\n",
        "    # convert to predictions\n",
        "    predictions_nr = torch.argmax(probabilities).item()\n",
        "    predictions = label_names[predictions_nr]\n",
        "    return predictions, probabilities\n",
        "\n"
      ]
    },
    {
      "cell_type": "code",
      "execution_count": null,
      "id": "bd13f334",
      "metadata": {
        "id": "bd13f334"
      },
      "outputs": [],
      "source": [
        "# collect evaluation data\n",
        "def evaluate_model(model, data):\n",
        "    prediction_list = []\n",
        "    probability_list = []\n",
        "    true_label_list = []\n",
        "\n",
        "    for i, row in enumerate(data):\n",
        "        speech = row[\"speech_text\"]\n",
        "        pred, probs = predicting_probs_to_preds(model, speech)\n",
        "        true_label = row[\"label\"]\n",
        "        prediction_list.append(pred)\n",
        "        probability_list.append(probs)\n",
        "        true_label_list.append(true_label)\n",
        "\n",
        "        if (i+1) % 100 == 0:\n",
        "            print(f\"Processed samples {i+1} of {len(data)} samples.\")\n",
        "\n",
        "    return prediction_list, probability_list, true_label_list\n",
        "\n",
        "\n",
        "# define function to display eval metrics\n",
        "def get_metrics(true_labels, preds):\n",
        "    metrics_summary = {}\n",
        "\n",
        "    acc = accuracy_score(true_labels, preds)\n",
        "    bal_acc = balanced_accuracy_score(true_labels, preds)\n",
        "\n",
        "    precision = precision_score(true_labels, preds, average='macro', zero_division=0)\n",
        "    recall = recall_score(true_labels, preds, average='macro', zero_division=0)\n",
        "    f1 = f1_score(true_labels, preds, average='macro', zero_division=0)\n",
        "\n",
        "    label_order = sorted(set(true_labels).union(set(preds)))\n",
        "    report = classification_report(true_labels, preds, labels=label_order, zero_division=0)\n",
        "    metrics_summary[model_name] = {\n",
        "        'acc': acc,\n",
        "        'bal_acc': bal_acc,\n",
        "        'precision': precision,\n",
        "        'recall': recall,\n",
        "        'f1': f1\n",
        "    }\n",
        "    # print metrics\n",
        "    print(f\"Model: {model_name}\")\n",
        "    print(f\"  Accuracy: {acc}\")\n",
        "    print(f\"  Balanced Accuracy: {bal_acc}\")\n",
        "    print(f\"  Precision: {precision}\")\n",
        "    print(f\"  Recall: {recall}\")\n",
        "    print(f\"  F1-score: {f1}\")\n",
        "    print(f\"  Classification Report:\\n{report}\")\n",
        "\n",
        "\n",
        "    # Confusion Matrix\n",
        "    label_order = sorted(set(true_labels).union(set(preds)))\n",
        "    cm = confusion_matrix(true_labels, preds, labels=label_order)\n",
        "    cm_df = pd.DataFrame(cm, index=label_order, columns=label_order)\n",
        "\n",
        "    plt.figure(figsize=(8, 6))\n",
        "    sns.heatmap(cm_df, annot=True, fmt='d', cmap='Blues')\n",
        "    plt.title(f\"Confusion Matrix - {model_name}\")\n",
        "    plt.ylabel(\"True Label\")\n",
        "    plt.xlabel(\"Predicted Label\")\n",
        "    plt.tight_layout()\n",
        "    plt.show()\n",
        "\n",
        "\n",
        "    return metrics_summary\n",
        "\n",
        "\n",
        "\n",
        "\n",
        "\n"
      ]
    },
    {
      "cell_type": "code",
      "execution_count": null,
      "id": "76ef73a1",
      "metadata": {
        "id": "76ef73a1",
        "outputId": "354d72ef-886a-4c49-e075-bea7b70fae9f"
      },
      "outputs": [
        {
          "name": "stdout",
          "output_type": "stream",
          "text": [
            "2 tensor([0.1638, 0.1763, 0.1356, 0.1829, 0.1976, 0.1439])\n",
            "2 tensor([0.1672, 0.1794, 0.1407, 0.1917, 0.1851, 0.1359])\n",
            "4 tensor([0.1416, 0.1736, 0.1349, 0.1676, 0.2092, 0.1731])\n",
            "1 tensor([0.1766, 0.1864, 0.1316, 0.1716, 0.1737, 0.1600])\n",
            "2 tensor([0.1714, 0.1774, 0.1366, 0.1686, 0.1937, 0.1523])\n",
            "3 tensor([0.1592, 0.1944, 0.1489, 0.1750, 0.1919, 0.1307])\n",
            "2 tensor([0.1515, 0.1829, 0.1564, 0.1505, 0.2032, 0.1556])\n",
            "2 tensor([0.1481, 0.1805, 0.1386, 0.1783, 0.2015, 0.1530])\n",
            "2 tensor([0.1567, 0.1791, 0.1503, 0.1910, 0.1812, 0.1417])\n",
            "2 tensor([0.1830, 0.1787, 0.1432, 0.1813, 0.1825, 0.1314])\n",
            "2 tensor([0.1488, 0.1712, 0.1350, 0.1757, 0.2253, 0.1440])\n",
            "1 tensor([0.1555, 0.1856, 0.1391, 0.1738, 0.2094, 0.1366])\n",
            "3 tensor([0.1610, 0.1727, 0.1535, 0.1758, 0.1915, 0.1454])\n",
            "2 tensor([0.1663, 0.1954, 0.1321, 0.1807, 0.1814, 0.1442])\n",
            "2 tensor([0.1624, 0.1677, 0.1351, 0.1836, 0.2178, 0.1335])\n",
            "3 tensor([0.1588, 0.1871, 0.1419, 0.1819, 0.1936, 0.1367])\n",
            "2 tensor([0.1479, 0.1596, 0.1451, 0.1900, 0.2028, 0.1545])\n",
            "2 tensor([0.1501, 0.1819, 0.1434, 0.1694, 0.1910, 0.1641])\n",
            "3 tensor([0.1663, 0.1714, 0.1433, 0.1874, 0.1898, 0.1418])\n",
            "3 tensor([0.1525, 0.1745, 0.1439, 0.1830, 0.1939, 0.1522])\n",
            "[tensor([0.1638, 0.1763, 0.1356, 0.1829, 0.1976, 0.1439]), tensor([0.1672, 0.1794, 0.1407, 0.1917, 0.1851, 0.1359]), tensor([0.1416, 0.1736, 0.1349, 0.1676, 0.2092, 0.1731]), tensor([0.1766, 0.1864, 0.1316, 0.1716, 0.1737, 0.1600]), tensor([0.1714, 0.1774, 0.1366, 0.1686, 0.1937, 0.1523]), tensor([0.1592, 0.1944, 0.1489, 0.1750, 0.1919, 0.1307]), tensor([0.1515, 0.1829, 0.1564, 0.1505, 0.2032, 0.1556]), tensor([0.1481, 0.1805, 0.1386, 0.1783, 0.2015, 0.1530]), tensor([0.1567, 0.1791, 0.1503, 0.1910, 0.1812, 0.1417]), tensor([0.1830, 0.1787, 0.1432, 0.1813, 0.1825, 0.1314]), tensor([0.1488, 0.1712, 0.1350, 0.1757, 0.2253, 0.1440]), tensor([0.1555, 0.1856, 0.1391, 0.1738, 0.2094, 0.1366]), tensor([0.1610, 0.1727, 0.1535, 0.1758, 0.1915, 0.1454]), tensor([0.1663, 0.1954, 0.1321, 0.1807, 0.1814, 0.1442]), tensor([0.1624, 0.1677, 0.1351, 0.1836, 0.2178, 0.1335]), tensor([0.1588, 0.1871, 0.1419, 0.1819, 0.1936, 0.1367]), tensor([0.1479, 0.1596, 0.1451, 0.1900, 0.2028, 0.1545]), tensor([0.1501, 0.1819, 0.1434, 0.1694, 0.1910, 0.1641]), tensor([0.1663, 0.1714, 0.1433, 0.1874, 0.1898, 0.1418]), tensor([0.1525, 0.1745, 0.1439, 0.1830, 0.1939, 0.1522])]\n",
            "Model: bert-base-german-cased\n",
            "  Accuracy: 0.1\n",
            "  Balanced Accuracy: 0.1\n",
            "  Precision: 0.02857142857142857\n",
            "  Recall: 0.1\n",
            "  F1-score: 0.044444444444444446\n",
            "  Classification Report:\n",
            "              precision    recall  f1-score   support\n",
            "\n",
            "         AfD       0.14      0.50      0.22         4\n",
            "     CDU/CSU       0.00      0.00      0.00         4\n",
            "         FDP       0.00      0.00      0.00         2\n",
            "       GRÜNE       0.00      0.00      0.00         6\n",
            "         SPD       0.00      0.00      0.00         4\n",
            "\n",
            "    accuracy                           0.10        20\n",
            "   macro avg       0.03      0.10      0.04        20\n",
            "weighted avg       0.03      0.10      0.04        20\n",
            "\n"
          ]
        },
        {
          "data": {
            "image/png": "[encoded data removed]",
            "text/plain": [
              "<Figure size 800x600 with 2 Axes>"
            ]
          },
          "metadata": {},
          "output_type": "display_data"
        },
        {
          "data": {
            "text/plain": [
              "{'bert-base-german-cased': {'acc': 0.1,\n",
              "  'bal_acc': 0.1,\n",
              "  'precision': 0.02857142857142857,\n",
              "  'recall': 0.1,\n",
              "  'f1': 0.044444444444444446}}"
            ]
          },
          "execution_count": 91,
          "metadata": {},
          "output_type": "execute_result"
        }
      ],
      "source": [
        "# Get zero-shot example performance\n",
        "prediction_list, probability_list, true_label_list = evaluate_model(model, val_data)\n",
        "print(probability_list)\n",
        "get_metrics(true_label_list, prediction_list)"
      ]
    },
    {
      "cell_type": "code",
      "execution_count": null,
      "id": "HrW5F9eWTam9",
      "metadata": {
        "id": "HrW5F9eWTam9"
      },
      "outputs": [],
      "source": [
        "classifier_data = classifier_data[:2000]"
      ]
    },
    {
      "cell_type": "code",
      "execution_count": null,
      "id": "e9ce2f8b",
      "metadata": {
        "id": "e9ce2f8b",
        "outputId": "07bcfc12-657d-429c-cfb2-4ede848706d2"
      },
      "outputs": [
        {
          "data": {
            "application/vnd.microsoft.datawrangler.viewer.v0+json": {
              "columns": [
                {
                  "name": "index",
                  "rawType": "int64",
                  "type": "integer"
                },
                {
                  "name": "speech_text",
                  "rawType": "object",
                  "type": "string"
                },
                {
                  "name": "label",
                  "rawType": "int64",
                  "type": "integer"
                }
              ],
              "ref": "65aa5ecd-96b4-490f-9845-4df75776d7c2",
              "rows": [
                [
                  "0",
                  "Herr Präsident! Kolleginnen und Kollegen! Die Bankenunion ist einer von drei Bausteinen, die dem Euro-System mehr Stabilität geben sollen. Wie wichtig mehr Stabilität ist, haben die Erfahrungen mit der Euro-Schuldenkrise gezeigt. Diese ist vom Deutschen Bundestag und mit einem großen Gemeinschaftsgeist in Deutschland erfolgreich bewältigt worden. Wir haben die Einlagen der Sparer gerettet, wir haben die richtigen Regulierungen getroffen und haben in fraktionsübergreifender Gemeinschaft im Deutschen Bundestag rund um die Uhr Schlimmeres verhindert. Das ist die Tatsache, meine Damen und Herren. Fazit ist: Stabilität erreicht man nur, wenn die Maßnahmen richtig und sachbezogen ausgestaltet werden. Dabei steht aus Sicht der Union ein Grundsatz ganz oben: Risiko und Haftung dürfen nicht voneinander getrennt werden. Dieses Prinzip, dieser Grundsatz muss zum Maßstab genommen werden. Das muss gerade auch für die Bankenunion gelten. Vor allem aber müssen die Risiken abgebaut werden, bevor eine Vollendung der Bankenunion tatsächlich verantwortet werden kann. Risiken, meine Damen und Herren, gibt es leider noch zuhauf. Das ist natürlich auch wahr. Da ist zum einen die anhaltend hohe Verschuldung einer ganzen Reihe von Mitgliedstaaten. Da gibt es zum anderen faule Kredite in erheblichem Umfang in den Bankenbilanzen. Das möchte ich noch einmal klar und deutlich hervorheben. Es ist klar: Der Steuerzahler und die Sparer müssen geschützt werden. Und Voraussetzung bleibt: Stabilität erreicht man nicht durch eine bloße Vergemeinschaftung von Schulden. Deshalb ist klar: Vor der Installierung einer europäischen Bankenunion müssen faule Kredite abgebaut werden. Hierzu gibt es eine Benchmark: Anteil der faulen Kredite in den USA 2 Prozent, in Deutschland 2,5 Prozent. Das ist etwas schlechter, aber es gibt auch Länder, bei denen der Anteil der faulen Kredite bei 15, 20 oder gar 50 Prozent liegt. Da muss gehandelt werden. Darauf müssen wir hinwirken. Das werden wir auch tun, indem wir in der Gemeinschaft dafür sorgen, dass das Stabilitätsbewusstsein stärker verankert wird. Dazu gehört natürlich auch, dass wir Staatsanleihen risikoadäquat behandeln; denn Staatsanleihen sind eben nicht risikofrei. Wir mussten immer wieder lernen, dass die Aufkäufe angeblich risikofreier Staatsanleihen oder deren Finanzierung schon ein Risiko bedeuten. Wir haben es für den richtigen Weg gehalten, die Finanzierung von Staatsanleihen in Zukunft mit Eigenkapital zu unterlegen. Wir haben es hier sicher mit einer komplexen Frage zu tun. Deshalb: Ehrgeizige Zeitpläne sind gut, aber Sorgfalt muss natürlich auch hier vor Schnelligkeit gehen. Meine Damen und Herren, wir müssen alles dafür tun, dass zunächst einmal bei den Banken gehandelt wird. Eine Eigenkapitalquote von 8 Prozent der Bilanzsumme als Sicherheit ist sicher ein richtiger Weg, um Stabilität in den Banken zu erreichen, um Vertrauen bei den Finanzmarktkunden zu schaffen. Das ist unabdingbar; denn die Eigentümer, Gläubiger und die nationale Einlagensicherung sind vor Ort gefragt, wenn die Banken in irgendeine Schieflage kommen, nicht eine Vergemeinschaftung. Wir sind richtig beraten, eine Bankenunion mit Augenmaß mit den großen Aufgaben der Regulierung zu verbinden. Wir werden darauf achten, dass die Sparer, die Finanzmarktkunden in Deutschland nicht in Haftung genommen werden. Die Steuerzahler dürfen nicht in Haftung genommen werden. Das ist die Voraussetzung für eine Bankenunion auf europäischer Ebene. Herzlichen Dank.",
                  "1"
                ],
                [
                  "1",
                  "Sehr geehrter Herr Präsident! Liebe Kolleginnen! Liebe Kollegen! Liebe Gäste auf der Tribüne! Ich finde es schön von der FDP, dass man der neuen Vorsitzenden des Finanzausschusses gleich die Möglichkeit gibt, eine Rede zu halten. Man hat überlegt: Wie schafft man das am besten? Man macht eine Aktuelle Stunde. – Es hätte heute viele Themen für eine Aktuelle Stunde gegeben. Man hätte beispielsweise über den Stand der Sondierungen zum Thema „Steuern und Finanzen“ reden können. Man hätte über die Boni der Deutschen Bank reden können. Man hätte über das Fehlen von Grundschullehrern und die finanziellen Auswirkungen auf die Haushalte reden können. Man hätte über die Hausdurchsuchungen des Zolls reden können. Sogar über die Sturm- und Hochwasserschäden der letzten Wochen hätten wir reden können. Wir hätten auch über die aktuelle Besetzung des Finanzausschusses reden können. Aber ich habe mir wirklich die Frage gestellt: Was ist an dem Thema der von Ihnen beantragten Aktuellen Stunde „Positionierung der Bundesregierung zu einer europäischen Bankenunion“ aktuell? Es ist deswegen nicht aktuell, weil wir eine geschäftsführende Bundesregierung haben, die alles das umsetzt, was wir in der Vergangenheit beschlossen haben. Ich habe heute bei den Nachrichtenagenturen und in Tickerberichten nachgesehen, aber ich habe nichts Aktuelles gefunden, und es kam ja auch nichts Aktuelles. Es gibt also in dieser Woche nichts richtig Aktuelles. Sie sind länger nicht hier gewesen, aber Aktuelle Stunden beinhalten in der Regel aktuelle Themen. – Nein, das ist nicht peinlich. Ich will etwas zur Bankenunion sagen. – Das hätten Sie auch beantragen können, haben Sie aber nicht. Deswegen rede ich jetzt zu Ihrem Antrag. Die EZB hat, so wie wir alle es mitbeschlossen haben, im November 2014 die Verantwortung für den Einheitlichen Europäischen Bankenaufsichtsmechanismus übernommen; das wissen wir alle. Das ist, wie gesagt, schon mehrere Jahre her. Seitdem ist sie für signifikante Banken zuständig. Das sind Banken, deren Bilanzsumme mindestens 30 Milliarden Euro oder 20 Prozent des BIP des Mitgliedstaates umfasst und die zu den drei größten Banken des jeweiligen Mitgliedstaats gehören. Nicht signifikante Banken werden weiterhin von nationalen Aufsichtsbehörden überwacht. Wir haben einen Einheitlichen Abwicklungsmechanismus. Das heißt, diese eben von mir angesprochenen Banken und große, grenzüberschreitende Banken werden jetzt auf europäischer Ebene einheitlich abgewickelt. Risiko und Haftung haben bei uns von Anfang an zusammengehört. Wir haben von Anfang an gesagt: Wir müssen das zusammen betrachten. Was haben wir für Banken vor uns, welche Risiken gehen sie ein, und wie müssen sie abgewickelt werden? – Bis zum 31. Dezember 2023 soll ein gemeinsamer Abwicklungsfonds eingerichtet werden, der mit 55 Milliarden Euro ausgestattet wird. Vorrangig werden Anteilseigner und Gläubiger herangezogen – das sogenannte Bail-in –, dann erst der Staat. Es gibt also keine Gemeinschaftshaftung der teilnehmenden Mitgliedstaaten durch den Fonds. Das war uns allen sehr wichtig. Auch in den Sondierungspapieren, über die Sie ja heute nicht reden wollten, steht das drin. Wir haben mit der CDU/CSU noch einmal aufgeschrieben, dass wir Haftung und Risiko nicht auseinanderfallen lassen wollen. Gerade laufen die Koalitionsverhandlungen zum Thema „Finanzen und Steuern“. Ich kann Ihnen nicht sagen, was dort gerade neu verhandelt wird; aber das können wir zu gegebener Zeit hier weiter diskutieren. Der geschäftsführende Finanzminister Altmaier hat Schwachstellen in der europäischen Währungsunion angesprochen. Er hat auch darauf hingewiesen – Kollegin Tillmann hat es angesprochen –, dass auf dem EU-Gipfel im Juni wichtige Entscheidungen für die Architektur der Euro-Zone gefällt werden müssen. Wir haben auch die Bedenken von Sparkassen und Volksbanken immer sehr ernst genommen. Dass sie ein eigenes Absicherungssystem haben und am liebsten überhaupt nicht in irgendeiner anderen Form in Anspruch genommen werden wollen, haben wir immer berücksichtigen wollen, und wir haben auch versucht, das nach Brüssel zu tragen. Dazu gibt es Anträge und Resolutionen; da haben wir in den letzten vier Jahren eine ganze Menge gemacht. Trotzdem brauchen wir eine Risikoabsicherung. Wir brauchen auch einen einheitlichen Mechanismus. Wir wollen alle zusammen in Europa weiter vorankommen. Dafür ist es wichtig, dass wir eine gute Zusammenarbeit im Euro-Raum haben. Sie können sicher sein: Der nächste Finanzminister oder die nächste Finanzministerin wird diese erfolgreiche Politik fortführen. Ich freue mich darauf. Freuen würde ich mich auch, wenn Sie nächstes Mal eine etwas aktuellere Thematik für Ihre Aktuelle Stunde aussuchen würden. Vielen Dank für Ihre Aufmerksamkeit.",
                  "5"
                ],
                [
                  "2",
                  "Herr Präsident! Liebe Kolleginnen und Kollegen! Sehr geehrte Frau Kollegin Stark-Watzinger, es ist keineswegs so, dass das Thema Bankenunion bisher hinter verschlossenen Türen diskutiert worden wäre. Auch ohne die FDP hat es dieser Deutsche Bundestag in der letzten Legislaturperiode geschafft, sich in zwei Beschlüssen mit der Einlagensicherung zu befassen. Ich empfehle Ihnen die Beschlüsse vom 4. November 2015 und vom 23. Februar 2016. Da haben wir intensiv darüber diskutiert und uns natürlich auch mit den Problemen der Bankenunion beschäftigt. Das werden wir auch weiterhin tun. Im Gegensatz zu Ihnen mit Ihrer sehr kritischen Rede sind wir aber fest davon überzeugt: Wir brauchen Europa, wir wollen Europa. Wir waren in Europa auch schon auf einem sehr guten Weg zur Regulierung der Finanzmarktkrise. – Wenn Sie kurz zuhören, will ich Ihnen gerne sagen, was wir schon alles an Positivem erreicht haben. Wir haben mit dem Stresstest begonnen. Über 130 Banken sind von der EZB geprüft worden. 25 Banken haben eine Kapitalunterdeckung aufgewiesen. Diese 25 Banken haben Kapital herangeschafft, sodass es zu einer Risikominderung gekommen ist. Wir haben eine europäische Aufsicht. Diese Aufsicht funktioniert immer besser und so gut, dass wir darüber nachdenken, ob man über eine Small Banking Box diese Regulierung bei kleineren Banken erleichtern könnte. Den Bankenabwicklungsmechanismus haben Sie beschrieben. Wir haben die Regelung, dass Steuerzahler in Europa nur noch in Ausnahmefällen für Abwicklungsbanken bezahlen müssen. Das haben wir über einen Mechanismus sichergestellt, den Bail-in, wonach Eigentümer und Anteilseigner vorrangig haften. Wir haben einen Abwicklungsfonds mit bis zu 55 Milliarden Euro installiert, der schon zu einem Drittel angespart wurde. Auch da haben wir Sicherheit in die Finanzmärkte gebracht. Wir haben die Einleger über eine Einlagensicherung geschützt. Alle Banken Europas müssen einem nationalen Einlagensicherungssystem angehören. Das ist ein Riesenschritt in die richtige Richtung. Einlegern können bis zu 100 000 Euro grenzüberschreitend ausgezahlt werden, in Sondersituationen sogar bis 500 000 Euro. Das ist ein guter Schritt in Europa. Ich finde, es gehört zu einer ehrlichen Debatte, zu sagen, dass wir massive Fortschritte für Einleger erreicht haben. Natürlich weiß ich, dass es noch eine Menge zu tun gibt. Sie haben zu Recht darauf hingewiesen, dass der Ecofin-Rat am 17. Juni 2016 genau das gesagt hat. Wir haben die ersten Schritte gemacht; ihnen müssen weitere folgen. Der wichtigste nächste Schritt ist die Risikoreduzierung, der Abbau notleidender Kredite. Eine Quote von durchschnittlich 4,6 Prozent an Non-Performing Loans in Europa ist zu viel; einige Staaten weisen sogar eine Quote von 46 Prozent auf. Wir brauchen europäische Benchmarks, mit denen die durchschnittliche Quote der Non-Performing Loans in Europa reduziert wird. Wir müssen auch das Insolvenzrecht harmonisieren. Wir brauchen europäische Vorgaben, wie bei faulen Krediten in Sicherheiten vollstreckt werden kann. In manchen Staaten geht das recht zügig; andere Staaten brauchen Jahre, bis in die Sicherheiten vollstreckt werden kann. Wir merken, dass der Bail-in-Puffer in Europa schon wieder infrage gestellt wird. Wir werden aber darauf bestehen; darin sind wir uns mit unserem ehemaligen Finanzminister Schäuble und unserem jetzigen Finanzminister Altmaier einig. Unser Staatssekretär kämpft auf allen Ebenen in Europa dafür, dass die von uns eingeführte Grenze nicht wieder infrage gestellt wird. Ich erwähne die latenten Steuern; das haben Sie noch gar nicht genannt. Natürlich dürfen Nationalstaaten über die Behandlung von latenten Steuern nicht weitere Risiken in die Bankbilanzen schieben. Bei Staatsanleihen geht es um dasselbe Thema. Wir müssen uns über die Risikogewichtung von Staatsanleihen unterhalten und dabei aber auch im Blick behalten, dass die Staaten, die dank des Rettungsschirms wieder gut dastehen, nicht zusätzliche Probleme bekommen. Ich teile Ihre Auffassung, dass es noch viel zu tun gibt. Ich teile nicht Ihre Auffassung, dass wir uns bisher nicht erfolgreich auf den Weg gemacht haben. Ich glaube, es macht keinen Sinn, alles schlechtzureden und die schlechten Seiten in den Vordergrund zu stellen. Es macht vielmehr Sinn, unserem künftigen Finanzminister gemeinsam mit auf den Weg zu geben, was wir wollen. Wir wollen zuerst eine Risikoreduktion, danach kann der zweite Schritt erfolgen. Das werden wir schaffen, das werden wir tun, und zwar öffentlich, wie immer in diesem Haus. Vielleicht gucken Sie einmal in die Anträge. Wir sollten sie dem neuen Finanzminister für seine Diskussionen auf europäischer Ebene mit auf den Weg geben. Aber ich bleibe dabei: Europa ist wichtig für Deutschland. Wir wollen eine europäische Harmonisierung. Dafür kämpfen wir mit aller Macht. Danke schön.",
                  "1"
                ],
                [
                  "3",
                  "Herr Präsident! Liebe Kolleginnen und Kollegen! Ich will jetzt gar nicht auf das eingehen, was Sie, Kollege Weyel, gesagt haben. Ich glaube, es war deutlich, dass sich selbst große Teile Ihrer eigenen Fraktion für das geschämt haben, was Sie hier dargeboten haben. Ich würde auch sagen, Frau Arndt-Brauer: Es ist durchaus ein aktuelles Thema, das man diskutieren kann. Es ist zwar der Vorwurf falsch, dass wir nicht darüber geredet haben – so wird ja gesagt, bloß weil die FDP nicht dabei war –, aber es ist in der Tat ein Thema, das in Europa auf der Tagesordnung ist und womit sich der Deutsche Bundestag beschäftigen sollte. Was in dieser Debatte problematisch ist, ist der Eindruck, den Sie, Frau Stark-Watzinger, in Ihrer Rede erweckt haben, dass nämlich diese faulen Kredite in Höhe von 950 Milliarden Euro in Europa jetzt vergemeinschaftet werden sollen. Darum geht es nicht. Niemand will das. Sie deuten das an, um die Leute vor Angst auf die Palme zu treiben. Dabei geht es doch darum, die Risiken zu reduzieren und Europa stabil zu machen. Das sollte man nicht in so eine Ecke stellen. Sie landen nämlich sonst da, wo die britischen Tories gelandet sind. Inzwischen sagen die Studien aus dem Brexit-freundlichen Haus von Theresa May: Egal wie verhandelt wird, es wird ökonomisch schlechter sein für Großbritannien. – Wer in Europa nicht mitmachen will, wird schlechter dastehen. So wird es auch uns gehen, wenn wir bei dieser Frage nur Nein sagen. Das ist keine Lösung. Sie vermitteln den Eindruck, als hätten wir immer noch nationale Bankenmärkte und als hätten wir mit den Banken in anderen Ländern überhaupt nichts zu tun. Wenn es so wäre, dann könnte man sagen: Jedem sein Einlagensicherungstöpfchen! – Aber die Welt ist schon lange nicht mehr so. Es gibt einen Finanzbinnenmarkt. Da gibt es spanische Banken, die in Deutschland Business machen. Da gibt es italienische und französische Banken. Zu meinen, dass wir in Deutschland dann, wenn es woanders ein Problem mit der Einlagensicherung gibt, nicht massiv darunter zu leiden hätten, ist einfach ökonomisch völliger Humbug. Deswegen brauchen wir eine Stabilisierung in Europa. Das ist eine notwendige Ergänzung. Um was geht es? Es geht darum, dass man für den Fall, dass der Einlagensicherungstopf eines anderen Mitgliedstaates bei einer Krise nicht ausreicht, eine Lösung hat. Jetzt schlägt die Kommission einen Weg vor – bis zu einer gemeinsamen Einlagensicherung. Da muss man einfach einmal zur Kenntnis nehmen, dass die USA mit genau einer solchen Regelung ein hervorragendes Beispiel dafür haben, dass der Steuerzahler geschützt wird. Darüber, dass das dem Schutz der Steuerzahler dient und dass es nicht darum geht, ihn zur Kasse zu bitten, haben Sie kein Wort verloren. Sie sagen: Da gibt es so viele Probleme in anderen Ländern. – Ja bitte! Schauen Sie sich doch die Zahlen an! Unsere Banken waren keinen Deut besser. Man weiß nicht, wer bei der nächsten Krise von dem gemeinsamen System profitieren würde. Vielleicht wäre es Deutschland. Unsere Banken waren in der letzten Krise nicht stabiler als die anderen. Vielleicht sind sie es auch in der nächsten Krise nicht. Nicht so eine deutsche Hybris! Das hat in Europa keinen guten Klang. Wir wissen doch, wie Versicherungen funktionieren. Ich muss doch nicht mit allen Mitgliedern der Versicherung, bei der ich Kunde bin, befreundet sein. Darunter sind viele, die ganz dumme Sachen machen. Aber die Versicherung ist für mich gut, um mich vor einem Schaden zu schützen. So würde ein Rückversicherungssystem zwischen den Einlagensystemen in Europa auch und gerade unser deutsches System stabiler machen. Deswegen sollten wir uns dem nicht verweigern, sondern daran konstruktiv mitarbeiten. In diesem Zusammenhang und nur in diesem Zusammenhang werden wir es auch schaffen, das hinzubekommen, worüber wir uns scheinbar einig sind, nämlich eine wirkliche Risikoreduzierung. Da muss noch einiges gemacht werden. Das muss man jetzt gemeinsam mit den europäischen Partnern auf den Weg bringen. So muss man bei dem Punkt, dass Banken viele Staatsanleihen eines Staates in ihren Büchern haben und damit ein Klumpenrisiko tragen, etwas tun. Da gibt es gute Vorschläge, etwa für eine stärkere Eigenkapitalunterlegung zu sorgen, bestimmte Grenzen einzuziehen. Natürlich brauchen wir das. Wir brauchen auch – ich bin gespannt, ob die bankenfreundliche FDP dabei mitmacht – eine höhere Eigenkapitalquote, also in Richtung 10 Prozent. Damit wäre das System stabiler. Aber da sind Ihre Freunde in den Banken dagegen, und deswegen wollen Sie da nicht ran, obwohl das das Problem lösen würde, dass die Banken auf zu wackligen Füßen stehen. Danke.",
                  "3"
                ],
                [
                  "4",
                  "Liebe Kolleginnen und Kollegen! Es ist vorhin von der Kollegin Arndt-Brauer gesagt worden, es sei hier immer wieder über das Thema Einlagensicherung und Bankenunion debattiert worden. Das mag so sein. Aber wenn man sich in dieser Debatte einmal anhört, welche Einigkeit zwischen CDU/CSU, SPD und Grünen bei diesem Thema besteht, dann sage ich: Eine lebendige Debatte kann das nicht gewesen sein. Dass diese Debatte aktuell ist, Frau Kollegin, zeigen die Reaktionen aus der Fachwelt. Sie hat geschrieben: Dadurch sind unsere Arbeitsplätze in Gefahr. Es ist eine Gefahr für die Arbeitsplätze, insbesondere bei den Sparkassen. – Das sagt Verdi. Wenn Verdi recht hat, dann darf man Verdi auch einmal erwähnen. Recht hat sie. Der Städtetag sagt Ähnliches. Die Volksbanken sprechen von einer existenziellen Gefahr für alle Verbundsysteme. Deswegen, Kollege Schick, sind es insbesondere die kleinen Banken, die Sorgen haben, und nicht die großen, wie Sie hier insinuiert haben. Die kleinen Banken haben die größten Sorgen vor einer einheitlichen europäischen Einlagensicherung. Um eines aus unserer Sicht klarzustellen: Bankenunion ist eine gute und richtige Idee. Aber Bankenunion funktioniert auch ohne eine einheitliche Einlagensicherung auf europäischer Ebene. Man kann sie machen, aber man muss sie nicht machen. Es ist nicht so, dass es ein elementarer und unverzichtbarer Bestandteil dessen wäre. Bankenunion ist heute Bankenaufsicht unter dem Dach der EZB und eine einheitliche Abwicklung von Banken durch eine einheitliche europäische Abwicklungsbehörde. Beides kann man noch besser machen; aber beides funktioniert für sich genommen sehr gut. Das hat mit der Einlagensicherung indirekt zu tun; aber Sie können das auf die eine wie die andere Weise lösen. Deshalb können wir hier debattieren und unterschiedlicher Meinung sein; es ist jetzt jedoch kein zwangsläufiger Weg, wie manche hier den Eindruck erwecken, in einer einheitlichen Einlagensicherung vorgezeichnet. Ich will noch einmal etwas zur Einlagensicherung bei kleinen Banken sagen. Wenn eine kleine Bank pleite ist, dann kann das nationale Einlagensicherungssystem ohne Probleme einschreiten, auch in Zukunft, es kann den Fall lösen. Interessant wird es, wenn in Zukunft bei einer einheitlichen Einlagensicherung eine große Bank nach europäischen Regeln abgewickelt werden muss. Dann entschädigt nämlich das nationale Einlagensicherungssystem den einheitlichen Abwicklungsfonds; das heißt, die Gelder, die auch die kleinen Banken eingezahlt haben, gehen dann in die Abwicklung der großen, sollen die Lasten finanzieren. Ich will einmal wissen, warum das gerechtfertigt ist und wie man es rechtfertigen kann, dass die kleinen Banken für die Abwicklung der großen zahlen sollen. Dazu habe ich heute nichts gehört, wird oft übersehen, ist aber der falsche Weg, liebe Kolleginnen und Kollegen. Wenn man über die Vollendung der Bankenunion diskutiert, dann liest man in den Papieren hauptsächlich etwas zum Thema „Einlagensicherung“. Aber die wirklich wichtigen Dinge, die in der Bankenunion zu optimieren und zu verbessern sind, finden sich in den entsprechenden Planungen nirgends. Es ist eine rein auf die Einlagensicherung beschränkte Debatte. Jedenfalls lese ich in den Papieren nicht sehr viel von anderen Dingen. – Ich will Ihnen einmal einige Beispiele nennen, bevor Sie mir widersprechen, Herr Kollege Schick. Die drei italienischen Banken, Banca Monte dei Paschi di Siena, die älteste Bank der Welt, Banca Popolare di Vicenza und die Veneto Banca, sind trotz des einheitlichen Abwicklungsmechanismus erneut mit Steuergeldern gerettet worden. Warum war das so? Weil es in den entsprechenden Rechtsgrundlagen einige Schlupflöcher gibt, die prompt beim ersten, zweiten und dritten Anwendungsfall genutzt worden sind. Nun müsste man doch zuallererst diese Schlupflöcher stopfen, damit Banken abgewickelt und nicht gerettet werden. Das wäre doch das Wichtigste. Und das erwarte ich von der Bundesregierung. Wir könnten weitermachen. Wo lese ich etwas über einen Umschuldungsmechanismus für Staaten? Den brauchen wir – Stichwort: Gläubigerhaftung. Wo lese ich etwas über Eigenkapitalunterlegung bei Staatsanleihen? Das höre ich immer wieder. Wenn man über die Fortschreibung der Bankenunion spricht, Kollege Michelbach, dann wäre das ein Beitrag zur Lösung. Ich erwarte, dass Herr Altmaier mit seinem französischen Kollegen darüber spricht und nicht zuerst über die Einlagensicherung. Im Übrigen, Kollege Schick, ist es aus meiner Sicht nicht so, wie Sie es gesagt haben, dass der Binnenmarkt für Finanzdienstleistungen bereits so gut funktioniert, dass das alles grenzüberschreitend prima möglich wäre. Es muss darauf geachtet werden, dass der Binnenmarkt besser funktioniert. Ich habe viele digitale Geschäftsmodelle von Banken gesehen, die versucht haben, ein Produkt digital im Internet zu vertreiben und es in verschiedenen europäischen Ländern anzubieten. Das scheitert noch immer sehr oft. Das wären doch Aufgaben für eine Integration der Bankenmärkte in Europa und nicht zuerst die Einlagensicherung. Die einheitliche Einlagensicherung hat erhebliche Nachteile. Sie wird für die Banken hier in Deutschland teurer. Sie ist auch mit dem Risiko verbunden, dass die Absicherung schlechter wird. Bei den Verbundsystemen und bei der Institutssicherung der Volksbanken und Sparkassen ist das evident. Ich erinnere auch an die freiwillige Einlagensicherung der Privatbanken, die natürlich ebenfalls infrage steht. Das ist doch mehr als das, was gesetzlich gefordert ist. Das ist in Gefahr, wenn man alles in eine einheitliche Einlagensicherung überführt. Das heißt, die Absicherung kann auch noch schlechter werden. Da muss man erst einmal begründen, dass das wirklich ein Fortschritt ist. Ich bin davon nicht überzeugt. Deswegen halte ich es für wichtig, dass sich die Bundesregierung hier anders positioniert, als es bisher der Fall war.",
                  "2"
                ]
              ],
              "shape": {
                "columns": 2,
                "rows": 5
              }
            },
            "text/html": [
              "<div>\n",
              "<style scoped>\n",
              "    .dataframe tbody tr th:only-of-type {\n",
              "        vertical-align: middle;\n",
              "    }\n",
              "\n",
              "    .dataframe tbody tr th {\n",
              "        vertical-align: top;\n",
              "    }\n",
              "\n",
              "    .dataframe thead th {\n",
              "        text-align: right;\n",
              "    }\n",
              "</style>\n",
              "<table border=\"1\" class=\"dataframe\">\n",
              "  <thead>\n",
              "    <tr style=\"text-align: right;\">\n",
              "      <th></th>\n",
              "      <th>speech_text</th>\n",
              "      <th>label</th>\n",
              "    </tr>\n",
              "  </thead>\n",
              "  <tbody>\n",
              "    <tr>\n",
              "      <th>0</th>\n",
              "      <td>Herr Präsident! Kolleginnen und Kollegen! Die ...</td>\n",
              "      <td>1</td>\n",
              "    </tr>\n",
              "    <tr>\n",
              "      <th>1</th>\n",
              "      <td>Sehr geehrter Herr Präsident! Liebe Kolleginne...</td>\n",
              "      <td>5</td>\n",
              "    </tr>\n",
              "    <tr>\n",
              "      <th>2</th>\n",
              "      <td>Herr Präsident! Liebe Kolleginnen und Kollegen...</td>\n",
              "      <td>1</td>\n",
              "    </tr>\n",
              "    <tr>\n",
              "      <th>3</th>\n",
              "      <td>Herr Präsident! Liebe Kolleginnen und Kollegen...</td>\n",
              "      <td>3</td>\n",
              "    </tr>\n",
              "    <tr>\n",
              "      <th>4</th>\n",
              "      <td>Liebe Kolleginnen und Kollegen! Es ist vorhin ...</td>\n",
              "      <td>2</td>\n",
              "    </tr>\n",
              "  </tbody>\n",
              "</table>\n",
              "</div>"
            ],
            "text/plain": [
              "                                         speech_text  label\n",
              "0  Herr Präsident! Kolleginnen und Kollegen! Die ...      1\n",
              "1  Sehr geehrter Herr Präsident! Liebe Kolleginne...      5\n",
              "2  Herr Präsident! Liebe Kolleginnen und Kollegen...      1\n",
              "3  Herr Präsident! Liebe Kolleginnen und Kollegen...      3\n",
              "4  Liebe Kolleginnen und Kollegen! Es ist vorhin ...      2"
            ]
          },
          "execution_count": 22,
          "metadata": {},
          "output_type": "execute_result"
        }
      ],
      "source": [
        "classifier_data.head()"
      ]
    },
    {
      "cell_type": "code",
      "execution_count": null,
      "id": "f3689de4",
      "metadata": {
        "id": "f3689de4"
      },
      "outputs": [],
      "source": [
        "party_to_id = {party: i for i, party in enumerate(sorted(classifier_data['label'].unique()))}"
      ]
    },
    {
      "cell_type": "code",
      "execution_count": null,
      "id": "3943e5b3",
      "metadata": {
        "id": "3943e5b3",
        "outputId": "754da9aa-7361-46b5-f7d3-089a00f6dd95"
      },
      "outputs": [
        {
          "data": {
            "text/plain": [
              "{'AfD': 0, 'CDU/CSU': 1, 'FDP': 2, 'GRÜNE': 3, 'LINKE': 4, 'SPD': 5}"
            ]
          },
          "execution_count": 18,
          "metadata": {},
          "output_type": "execute_result"
        }
      ],
      "source": [
        "party_to_id"
      ]
    },
    {
      "cell_type": "code",
      "execution_count": null,
      "id": "556d1025",
      "metadata": {
        "id": "556d1025",
        "outputId": "50f5970f-e453-4a67-c8fe-a4194898eab4"
      },
      "outputs": [
        {
          "name": "stderr",
          "output_type": "stream",
          "text": [
            "C:\\Users\\Estelle\\AppData\\Local\\Temp\\ipykernel_27120\\3929469336.py:1: SettingWithCopyWarning: \n",
            "A value is trying to be set on a copy of a slice from a DataFrame.\n",
            "Try using .loc[row_indexer,col_indexer] = value instead\n",
            "\n",
            "See the caveats in the documentation: https://pandas.pydata.org/pandas-docs/stable/user_guide/indexing.html#returning-a-view-versus-a-copy\n",
            "  classifier_data['label'] = classifier_data['label'].map(party_to_id)\n"
          ]
        }
      ],
      "source": [
        "classifier_data['label'] = classifier_data['label'].map(party_to_id)"
      ]
    },
    {
      "cell_type": "code",
      "execution_count": null,
      "id": "d99c36d6",
      "metadata": {
        "id": "d99c36d6",
        "outputId": "4a97d3d3-7fe1-46fd-c6cd-0d575357ce9a"
      },
      "outputs": [
        {
          "data": {
            "application/vnd.microsoft.datawrangler.viewer.v0+json": {
              "columns": [
                {
                  "name": "index",
                  "rawType": "int64",
                  "type": "integer"
                },
                {
                  "name": "speech_text",
                  "rawType": "object",
                  "type": "string"
                },
                {
                  "name": "label",
                  "rawType": "int64",
                  "type": "integer"
                }
              ],
              "ref": "65441ed5-9648-4d22-aebd-7f8c56cd0e8f",
              "rows": [
                [
                  "0",
                  "Herr Präsident! Kolleginnen und Kollegen! Die Bankenunion ist einer von drei Bausteinen, die dem Euro-System mehr Stabilität geben sollen. Wie wichtig mehr Stabilität ist, haben die Erfahrungen mit der Euro-Schuldenkrise gezeigt. Diese ist vom Deutschen Bundestag und mit einem großen Gemeinschaftsgeist in Deutschland erfolgreich bewältigt worden. Wir haben die Einlagen der Sparer gerettet, wir haben die richtigen Regulierungen getroffen und haben in fraktionsübergreifender Gemeinschaft im Deutschen Bundestag rund um die Uhr Schlimmeres verhindert. Das ist die Tatsache, meine Damen und Herren. Fazit ist: Stabilität erreicht man nur, wenn die Maßnahmen richtig und sachbezogen ausgestaltet werden. Dabei steht aus Sicht der Union ein Grundsatz ganz oben: Risiko und Haftung dürfen nicht voneinander getrennt werden. Dieses Prinzip, dieser Grundsatz muss zum Maßstab genommen werden. Das muss gerade auch für die Bankenunion gelten. Vor allem aber müssen die Risiken abgebaut werden, bevor eine Vollendung der Bankenunion tatsächlich verantwortet werden kann. Risiken, meine Damen und Herren, gibt es leider noch zuhauf. Das ist natürlich auch wahr. Da ist zum einen die anhaltend hohe Verschuldung einer ganzen Reihe von Mitgliedstaaten. Da gibt es zum anderen faule Kredite in erheblichem Umfang in den Bankenbilanzen. Das möchte ich noch einmal klar und deutlich hervorheben. Es ist klar: Der Steuerzahler und die Sparer müssen geschützt werden. Und Voraussetzung bleibt: Stabilität erreicht man nicht durch eine bloße Vergemeinschaftung von Schulden. Deshalb ist klar: Vor der Installierung einer europäischen Bankenunion müssen faule Kredite abgebaut werden. Hierzu gibt es eine Benchmark: Anteil der faulen Kredite in den USA 2 Prozent, in Deutschland 2,5 Prozent. Das ist etwas schlechter, aber es gibt auch Länder, bei denen der Anteil der faulen Kredite bei 15, 20 oder gar 50 Prozent liegt. Da muss gehandelt werden. Darauf müssen wir hinwirken. Das werden wir auch tun, indem wir in der Gemeinschaft dafür sorgen, dass das Stabilitätsbewusstsein stärker verankert wird. Dazu gehört natürlich auch, dass wir Staatsanleihen risikoadäquat behandeln; denn Staatsanleihen sind eben nicht risikofrei. Wir mussten immer wieder lernen, dass die Aufkäufe angeblich risikofreier Staatsanleihen oder deren Finanzierung schon ein Risiko bedeuten. Wir haben es für den richtigen Weg gehalten, die Finanzierung von Staatsanleihen in Zukunft mit Eigenkapital zu unterlegen. Wir haben es hier sicher mit einer komplexen Frage zu tun. Deshalb: Ehrgeizige Zeitpläne sind gut, aber Sorgfalt muss natürlich auch hier vor Schnelligkeit gehen. Meine Damen und Herren, wir müssen alles dafür tun, dass zunächst einmal bei den Banken gehandelt wird. Eine Eigenkapitalquote von 8 Prozent der Bilanzsumme als Sicherheit ist sicher ein richtiger Weg, um Stabilität in den Banken zu erreichen, um Vertrauen bei den Finanzmarktkunden zu schaffen. Das ist unabdingbar; denn die Eigentümer, Gläubiger und die nationale Einlagensicherung sind vor Ort gefragt, wenn die Banken in irgendeine Schieflage kommen, nicht eine Vergemeinschaftung. Wir sind richtig beraten, eine Bankenunion mit Augenmaß mit den großen Aufgaben der Regulierung zu verbinden. Wir werden darauf achten, dass die Sparer, die Finanzmarktkunden in Deutschland nicht in Haftung genommen werden. Die Steuerzahler dürfen nicht in Haftung genommen werden. Das ist die Voraussetzung für eine Bankenunion auf europäischer Ebene. Herzlichen Dank.",
                  "1"
                ],
                [
                  "1",
                  "Sehr geehrter Herr Präsident! Liebe Kolleginnen! Liebe Kollegen! Liebe Gäste auf der Tribüne! Ich finde es schön von der FDP, dass man der neuen Vorsitzenden des Finanzausschusses gleich die Möglichkeit gibt, eine Rede zu halten. Man hat überlegt: Wie schafft man das am besten? Man macht eine Aktuelle Stunde. – Es hätte heute viele Themen für eine Aktuelle Stunde gegeben. Man hätte beispielsweise über den Stand der Sondierungen zum Thema „Steuern und Finanzen“ reden können. Man hätte über die Boni der Deutschen Bank reden können. Man hätte über das Fehlen von Grundschullehrern und die finanziellen Auswirkungen auf die Haushalte reden können. Man hätte über die Hausdurchsuchungen des Zolls reden können. Sogar über die Sturm- und Hochwasserschäden der letzten Wochen hätten wir reden können. Wir hätten auch über die aktuelle Besetzung des Finanzausschusses reden können. Aber ich habe mir wirklich die Frage gestellt: Was ist an dem Thema der von Ihnen beantragten Aktuellen Stunde „Positionierung der Bundesregierung zu einer europäischen Bankenunion“ aktuell? Es ist deswegen nicht aktuell, weil wir eine geschäftsführende Bundesregierung haben, die alles das umsetzt, was wir in der Vergangenheit beschlossen haben. Ich habe heute bei den Nachrichtenagenturen und in Tickerberichten nachgesehen, aber ich habe nichts Aktuelles gefunden, und es kam ja auch nichts Aktuelles. Es gibt also in dieser Woche nichts richtig Aktuelles. Sie sind länger nicht hier gewesen, aber Aktuelle Stunden beinhalten in der Regel aktuelle Themen. – Nein, das ist nicht peinlich. Ich will etwas zur Bankenunion sagen. – Das hätten Sie auch beantragen können, haben Sie aber nicht. Deswegen rede ich jetzt zu Ihrem Antrag. Die EZB hat, so wie wir alle es mitbeschlossen haben, im November 2014 die Verantwortung für den Einheitlichen Europäischen Bankenaufsichtsmechanismus übernommen; das wissen wir alle. Das ist, wie gesagt, schon mehrere Jahre her. Seitdem ist sie für signifikante Banken zuständig. Das sind Banken, deren Bilanzsumme mindestens 30 Milliarden Euro oder 20 Prozent des BIP des Mitgliedstaates umfasst und die zu den drei größten Banken des jeweiligen Mitgliedstaats gehören. Nicht signifikante Banken werden weiterhin von nationalen Aufsichtsbehörden überwacht. Wir haben einen Einheitlichen Abwicklungsmechanismus. Das heißt, diese eben von mir angesprochenen Banken und große, grenzüberschreitende Banken werden jetzt auf europäischer Ebene einheitlich abgewickelt. Risiko und Haftung haben bei uns von Anfang an zusammengehört. Wir haben von Anfang an gesagt: Wir müssen das zusammen betrachten. Was haben wir für Banken vor uns, welche Risiken gehen sie ein, und wie müssen sie abgewickelt werden? – Bis zum 31. Dezember 2023 soll ein gemeinsamer Abwicklungsfonds eingerichtet werden, der mit 55 Milliarden Euro ausgestattet wird. Vorrangig werden Anteilseigner und Gläubiger herangezogen – das sogenannte Bail-in –, dann erst der Staat. Es gibt also keine Gemeinschaftshaftung der teilnehmenden Mitgliedstaaten durch den Fonds. Das war uns allen sehr wichtig. Auch in den Sondierungspapieren, über die Sie ja heute nicht reden wollten, steht das drin. Wir haben mit der CDU/CSU noch einmal aufgeschrieben, dass wir Haftung und Risiko nicht auseinanderfallen lassen wollen. Gerade laufen die Koalitionsverhandlungen zum Thema „Finanzen und Steuern“. Ich kann Ihnen nicht sagen, was dort gerade neu verhandelt wird; aber das können wir zu gegebener Zeit hier weiter diskutieren. Der geschäftsführende Finanzminister Altmaier hat Schwachstellen in der europäischen Währungsunion angesprochen. Er hat auch darauf hingewiesen – Kollegin Tillmann hat es angesprochen –, dass auf dem EU-Gipfel im Juni wichtige Entscheidungen für die Architektur der Euro-Zone gefällt werden müssen. Wir haben auch die Bedenken von Sparkassen und Volksbanken immer sehr ernst genommen. Dass sie ein eigenes Absicherungssystem haben und am liebsten überhaupt nicht in irgendeiner anderen Form in Anspruch genommen werden wollen, haben wir immer berücksichtigen wollen, und wir haben auch versucht, das nach Brüssel zu tragen. Dazu gibt es Anträge und Resolutionen; da haben wir in den letzten vier Jahren eine ganze Menge gemacht. Trotzdem brauchen wir eine Risikoabsicherung. Wir brauchen auch einen einheitlichen Mechanismus. Wir wollen alle zusammen in Europa weiter vorankommen. Dafür ist es wichtig, dass wir eine gute Zusammenarbeit im Euro-Raum haben. Sie können sicher sein: Der nächste Finanzminister oder die nächste Finanzministerin wird diese erfolgreiche Politik fortführen. Ich freue mich darauf. Freuen würde ich mich auch, wenn Sie nächstes Mal eine etwas aktuellere Thematik für Ihre Aktuelle Stunde aussuchen würden. Vielen Dank für Ihre Aufmerksamkeit.",
                  "5"
                ],
                [
                  "2",
                  "Herr Präsident! Liebe Kolleginnen und Kollegen! Sehr geehrte Frau Kollegin Stark-Watzinger, es ist keineswegs so, dass das Thema Bankenunion bisher hinter verschlossenen Türen diskutiert worden wäre. Auch ohne die FDP hat es dieser Deutsche Bundestag in der letzten Legislaturperiode geschafft, sich in zwei Beschlüssen mit der Einlagensicherung zu befassen. Ich empfehle Ihnen die Beschlüsse vom 4. November 2015 und vom 23. Februar 2016. Da haben wir intensiv darüber diskutiert und uns natürlich auch mit den Problemen der Bankenunion beschäftigt. Das werden wir auch weiterhin tun. Im Gegensatz zu Ihnen mit Ihrer sehr kritischen Rede sind wir aber fest davon überzeugt: Wir brauchen Europa, wir wollen Europa. Wir waren in Europa auch schon auf einem sehr guten Weg zur Regulierung der Finanzmarktkrise. – Wenn Sie kurz zuhören, will ich Ihnen gerne sagen, was wir schon alles an Positivem erreicht haben. Wir haben mit dem Stresstest begonnen. Über 130 Banken sind von der EZB geprüft worden. 25 Banken haben eine Kapitalunterdeckung aufgewiesen. Diese 25 Banken haben Kapital herangeschafft, sodass es zu einer Risikominderung gekommen ist. Wir haben eine europäische Aufsicht. Diese Aufsicht funktioniert immer besser und so gut, dass wir darüber nachdenken, ob man über eine Small Banking Box diese Regulierung bei kleineren Banken erleichtern könnte. Den Bankenabwicklungsmechanismus haben Sie beschrieben. Wir haben die Regelung, dass Steuerzahler in Europa nur noch in Ausnahmefällen für Abwicklungsbanken bezahlen müssen. Das haben wir über einen Mechanismus sichergestellt, den Bail-in, wonach Eigentümer und Anteilseigner vorrangig haften. Wir haben einen Abwicklungsfonds mit bis zu 55 Milliarden Euro installiert, der schon zu einem Drittel angespart wurde. Auch da haben wir Sicherheit in die Finanzmärkte gebracht. Wir haben die Einleger über eine Einlagensicherung geschützt. Alle Banken Europas müssen einem nationalen Einlagensicherungssystem angehören. Das ist ein Riesenschritt in die richtige Richtung. Einlegern können bis zu 100 000 Euro grenzüberschreitend ausgezahlt werden, in Sondersituationen sogar bis 500 000 Euro. Das ist ein guter Schritt in Europa. Ich finde, es gehört zu einer ehrlichen Debatte, zu sagen, dass wir massive Fortschritte für Einleger erreicht haben. Natürlich weiß ich, dass es noch eine Menge zu tun gibt. Sie haben zu Recht darauf hingewiesen, dass der Ecofin-Rat am 17. Juni 2016 genau das gesagt hat. Wir haben die ersten Schritte gemacht; ihnen müssen weitere folgen. Der wichtigste nächste Schritt ist die Risikoreduzierung, der Abbau notleidender Kredite. Eine Quote von durchschnittlich 4,6 Prozent an Non-Performing Loans in Europa ist zu viel; einige Staaten weisen sogar eine Quote von 46 Prozent auf. Wir brauchen europäische Benchmarks, mit denen die durchschnittliche Quote der Non-Performing Loans in Europa reduziert wird. Wir müssen auch das Insolvenzrecht harmonisieren. Wir brauchen europäische Vorgaben, wie bei faulen Krediten in Sicherheiten vollstreckt werden kann. In manchen Staaten geht das recht zügig; andere Staaten brauchen Jahre, bis in die Sicherheiten vollstreckt werden kann. Wir merken, dass der Bail-in-Puffer in Europa schon wieder infrage gestellt wird. Wir werden aber darauf bestehen; darin sind wir uns mit unserem ehemaligen Finanzminister Schäuble und unserem jetzigen Finanzminister Altmaier einig. Unser Staatssekretär kämpft auf allen Ebenen in Europa dafür, dass die von uns eingeführte Grenze nicht wieder infrage gestellt wird. Ich erwähne die latenten Steuern; das haben Sie noch gar nicht genannt. Natürlich dürfen Nationalstaaten über die Behandlung von latenten Steuern nicht weitere Risiken in die Bankbilanzen schieben. Bei Staatsanleihen geht es um dasselbe Thema. Wir müssen uns über die Risikogewichtung von Staatsanleihen unterhalten und dabei aber auch im Blick behalten, dass die Staaten, die dank des Rettungsschirms wieder gut dastehen, nicht zusätzliche Probleme bekommen. Ich teile Ihre Auffassung, dass es noch viel zu tun gibt. Ich teile nicht Ihre Auffassung, dass wir uns bisher nicht erfolgreich auf den Weg gemacht haben. Ich glaube, es macht keinen Sinn, alles schlechtzureden und die schlechten Seiten in den Vordergrund zu stellen. Es macht vielmehr Sinn, unserem künftigen Finanzminister gemeinsam mit auf den Weg zu geben, was wir wollen. Wir wollen zuerst eine Risikoreduktion, danach kann der zweite Schritt erfolgen. Das werden wir schaffen, das werden wir tun, und zwar öffentlich, wie immer in diesem Haus. Vielleicht gucken Sie einmal in die Anträge. Wir sollten sie dem neuen Finanzminister für seine Diskussionen auf europäischer Ebene mit auf den Weg geben. Aber ich bleibe dabei: Europa ist wichtig für Deutschland. Wir wollen eine europäische Harmonisierung. Dafür kämpfen wir mit aller Macht. Danke schön.",
                  "1"
                ],
                [
                  "3",
                  "Herr Präsident! Liebe Kolleginnen und Kollegen! Ich will jetzt gar nicht auf das eingehen, was Sie, Kollege Weyel, gesagt haben. Ich glaube, es war deutlich, dass sich selbst große Teile Ihrer eigenen Fraktion für das geschämt haben, was Sie hier dargeboten haben. Ich würde auch sagen, Frau Arndt-Brauer: Es ist durchaus ein aktuelles Thema, das man diskutieren kann. Es ist zwar der Vorwurf falsch, dass wir nicht darüber geredet haben – so wird ja gesagt, bloß weil die FDP nicht dabei war –, aber es ist in der Tat ein Thema, das in Europa auf der Tagesordnung ist und womit sich der Deutsche Bundestag beschäftigen sollte. Was in dieser Debatte problematisch ist, ist der Eindruck, den Sie, Frau Stark-Watzinger, in Ihrer Rede erweckt haben, dass nämlich diese faulen Kredite in Höhe von 950 Milliarden Euro in Europa jetzt vergemeinschaftet werden sollen. Darum geht es nicht. Niemand will das. Sie deuten das an, um die Leute vor Angst auf die Palme zu treiben. Dabei geht es doch darum, die Risiken zu reduzieren und Europa stabil zu machen. Das sollte man nicht in so eine Ecke stellen. Sie landen nämlich sonst da, wo die britischen Tories gelandet sind. Inzwischen sagen die Studien aus dem Brexit-freundlichen Haus von Theresa May: Egal wie verhandelt wird, es wird ökonomisch schlechter sein für Großbritannien. – Wer in Europa nicht mitmachen will, wird schlechter dastehen. So wird es auch uns gehen, wenn wir bei dieser Frage nur Nein sagen. Das ist keine Lösung. Sie vermitteln den Eindruck, als hätten wir immer noch nationale Bankenmärkte und als hätten wir mit den Banken in anderen Ländern überhaupt nichts zu tun. Wenn es so wäre, dann könnte man sagen: Jedem sein Einlagensicherungstöpfchen! – Aber die Welt ist schon lange nicht mehr so. Es gibt einen Finanzbinnenmarkt. Da gibt es spanische Banken, die in Deutschland Business machen. Da gibt es italienische und französische Banken. Zu meinen, dass wir in Deutschland dann, wenn es woanders ein Problem mit der Einlagensicherung gibt, nicht massiv darunter zu leiden hätten, ist einfach ökonomisch völliger Humbug. Deswegen brauchen wir eine Stabilisierung in Europa. Das ist eine notwendige Ergänzung. Um was geht es? Es geht darum, dass man für den Fall, dass der Einlagensicherungstopf eines anderen Mitgliedstaates bei einer Krise nicht ausreicht, eine Lösung hat. Jetzt schlägt die Kommission einen Weg vor – bis zu einer gemeinsamen Einlagensicherung. Da muss man einfach einmal zur Kenntnis nehmen, dass die USA mit genau einer solchen Regelung ein hervorragendes Beispiel dafür haben, dass der Steuerzahler geschützt wird. Darüber, dass das dem Schutz der Steuerzahler dient und dass es nicht darum geht, ihn zur Kasse zu bitten, haben Sie kein Wort verloren. Sie sagen: Da gibt es so viele Probleme in anderen Ländern. – Ja bitte! Schauen Sie sich doch die Zahlen an! Unsere Banken waren keinen Deut besser. Man weiß nicht, wer bei der nächsten Krise von dem gemeinsamen System profitieren würde. Vielleicht wäre es Deutschland. Unsere Banken waren in der letzten Krise nicht stabiler als die anderen. Vielleicht sind sie es auch in der nächsten Krise nicht. Nicht so eine deutsche Hybris! Das hat in Europa keinen guten Klang. Wir wissen doch, wie Versicherungen funktionieren. Ich muss doch nicht mit allen Mitgliedern der Versicherung, bei der ich Kunde bin, befreundet sein. Darunter sind viele, die ganz dumme Sachen machen. Aber die Versicherung ist für mich gut, um mich vor einem Schaden zu schützen. So würde ein Rückversicherungssystem zwischen den Einlagensystemen in Europa auch und gerade unser deutsches System stabiler machen. Deswegen sollten wir uns dem nicht verweigern, sondern daran konstruktiv mitarbeiten. In diesem Zusammenhang und nur in diesem Zusammenhang werden wir es auch schaffen, das hinzubekommen, worüber wir uns scheinbar einig sind, nämlich eine wirkliche Risikoreduzierung. Da muss noch einiges gemacht werden. Das muss man jetzt gemeinsam mit den europäischen Partnern auf den Weg bringen. So muss man bei dem Punkt, dass Banken viele Staatsanleihen eines Staates in ihren Büchern haben und damit ein Klumpenrisiko tragen, etwas tun. Da gibt es gute Vorschläge, etwa für eine stärkere Eigenkapitalunterlegung zu sorgen, bestimmte Grenzen einzuziehen. Natürlich brauchen wir das. Wir brauchen auch – ich bin gespannt, ob die bankenfreundliche FDP dabei mitmacht – eine höhere Eigenkapitalquote, also in Richtung 10 Prozent. Damit wäre das System stabiler. Aber da sind Ihre Freunde in den Banken dagegen, und deswegen wollen Sie da nicht ran, obwohl das das Problem lösen würde, dass die Banken auf zu wackligen Füßen stehen. Danke.",
                  "3"
                ],
                [
                  "4",
                  "Liebe Kolleginnen und Kollegen! Es ist vorhin von der Kollegin Arndt-Brauer gesagt worden, es sei hier immer wieder über das Thema Einlagensicherung und Bankenunion debattiert worden. Das mag so sein. Aber wenn man sich in dieser Debatte einmal anhört, welche Einigkeit zwischen CDU/CSU, SPD und Grünen bei diesem Thema besteht, dann sage ich: Eine lebendige Debatte kann das nicht gewesen sein. Dass diese Debatte aktuell ist, Frau Kollegin, zeigen die Reaktionen aus der Fachwelt. Sie hat geschrieben: Dadurch sind unsere Arbeitsplätze in Gefahr. Es ist eine Gefahr für die Arbeitsplätze, insbesondere bei den Sparkassen. – Das sagt Verdi. Wenn Verdi recht hat, dann darf man Verdi auch einmal erwähnen. Recht hat sie. Der Städtetag sagt Ähnliches. Die Volksbanken sprechen von einer existenziellen Gefahr für alle Verbundsysteme. Deswegen, Kollege Schick, sind es insbesondere die kleinen Banken, die Sorgen haben, und nicht die großen, wie Sie hier insinuiert haben. Die kleinen Banken haben die größten Sorgen vor einer einheitlichen europäischen Einlagensicherung. Um eines aus unserer Sicht klarzustellen: Bankenunion ist eine gute und richtige Idee. Aber Bankenunion funktioniert auch ohne eine einheitliche Einlagensicherung auf europäischer Ebene. Man kann sie machen, aber man muss sie nicht machen. Es ist nicht so, dass es ein elementarer und unverzichtbarer Bestandteil dessen wäre. Bankenunion ist heute Bankenaufsicht unter dem Dach der EZB und eine einheitliche Abwicklung von Banken durch eine einheitliche europäische Abwicklungsbehörde. Beides kann man noch besser machen; aber beides funktioniert für sich genommen sehr gut. Das hat mit der Einlagensicherung indirekt zu tun; aber Sie können das auf die eine wie die andere Weise lösen. Deshalb können wir hier debattieren und unterschiedlicher Meinung sein; es ist jetzt jedoch kein zwangsläufiger Weg, wie manche hier den Eindruck erwecken, in einer einheitlichen Einlagensicherung vorgezeichnet. Ich will noch einmal etwas zur Einlagensicherung bei kleinen Banken sagen. Wenn eine kleine Bank pleite ist, dann kann das nationale Einlagensicherungssystem ohne Probleme einschreiten, auch in Zukunft, es kann den Fall lösen. Interessant wird es, wenn in Zukunft bei einer einheitlichen Einlagensicherung eine große Bank nach europäischen Regeln abgewickelt werden muss. Dann entschädigt nämlich das nationale Einlagensicherungssystem den einheitlichen Abwicklungsfonds; das heißt, die Gelder, die auch die kleinen Banken eingezahlt haben, gehen dann in die Abwicklung der großen, sollen die Lasten finanzieren. Ich will einmal wissen, warum das gerechtfertigt ist und wie man es rechtfertigen kann, dass die kleinen Banken für die Abwicklung der großen zahlen sollen. Dazu habe ich heute nichts gehört, wird oft übersehen, ist aber der falsche Weg, liebe Kolleginnen und Kollegen. Wenn man über die Vollendung der Bankenunion diskutiert, dann liest man in den Papieren hauptsächlich etwas zum Thema „Einlagensicherung“. Aber die wirklich wichtigen Dinge, die in der Bankenunion zu optimieren und zu verbessern sind, finden sich in den entsprechenden Planungen nirgends. Es ist eine rein auf die Einlagensicherung beschränkte Debatte. Jedenfalls lese ich in den Papieren nicht sehr viel von anderen Dingen. – Ich will Ihnen einmal einige Beispiele nennen, bevor Sie mir widersprechen, Herr Kollege Schick. Die drei italienischen Banken, Banca Monte dei Paschi di Siena, die älteste Bank der Welt, Banca Popolare di Vicenza und die Veneto Banca, sind trotz des einheitlichen Abwicklungsmechanismus erneut mit Steuergeldern gerettet worden. Warum war das so? Weil es in den entsprechenden Rechtsgrundlagen einige Schlupflöcher gibt, die prompt beim ersten, zweiten und dritten Anwendungsfall genutzt worden sind. Nun müsste man doch zuallererst diese Schlupflöcher stopfen, damit Banken abgewickelt und nicht gerettet werden. Das wäre doch das Wichtigste. Und das erwarte ich von der Bundesregierung. Wir könnten weitermachen. Wo lese ich etwas über einen Umschuldungsmechanismus für Staaten? Den brauchen wir – Stichwort: Gläubigerhaftung. Wo lese ich etwas über Eigenkapitalunterlegung bei Staatsanleihen? Das höre ich immer wieder. Wenn man über die Fortschreibung der Bankenunion spricht, Kollege Michelbach, dann wäre das ein Beitrag zur Lösung. Ich erwarte, dass Herr Altmaier mit seinem französischen Kollegen darüber spricht und nicht zuerst über die Einlagensicherung. Im Übrigen, Kollege Schick, ist es aus meiner Sicht nicht so, wie Sie es gesagt haben, dass der Binnenmarkt für Finanzdienstleistungen bereits so gut funktioniert, dass das alles grenzüberschreitend prima möglich wäre. Es muss darauf geachtet werden, dass der Binnenmarkt besser funktioniert. Ich habe viele digitale Geschäftsmodelle von Banken gesehen, die versucht haben, ein Produkt digital im Internet zu vertreiben und es in verschiedenen europäischen Ländern anzubieten. Das scheitert noch immer sehr oft. Das wären doch Aufgaben für eine Integration der Bankenmärkte in Europa und nicht zuerst die Einlagensicherung. Die einheitliche Einlagensicherung hat erhebliche Nachteile. Sie wird für die Banken hier in Deutschland teurer. Sie ist auch mit dem Risiko verbunden, dass die Absicherung schlechter wird. Bei den Verbundsystemen und bei der Institutssicherung der Volksbanken und Sparkassen ist das evident. Ich erinnere auch an die freiwillige Einlagensicherung der Privatbanken, die natürlich ebenfalls infrage steht. Das ist doch mehr als das, was gesetzlich gefordert ist. Das ist in Gefahr, wenn man alles in eine einheitliche Einlagensicherung überführt. Das heißt, die Absicherung kann auch noch schlechter werden. Da muss man erst einmal begründen, dass das wirklich ein Fortschritt ist. Ich bin davon nicht überzeugt. Deswegen halte ich es für wichtig, dass sich die Bundesregierung hier anders positioniert, als es bisher der Fall war.",
                  "2"
                ]
              ],
              "shape": {
                "columns": 2,
                "rows": 5
              }
            },
            "text/html": [
              "<div>\n",
              "<style scoped>\n",
              "    .dataframe tbody tr th:only-of-type {\n",
              "        vertical-align: middle;\n",
              "    }\n",
              "\n",
              "    .dataframe tbody tr th {\n",
              "        vertical-align: top;\n",
              "    }\n",
              "\n",
              "    .dataframe thead th {\n",
              "        text-align: right;\n",
              "    }\n",
              "</style>\n",
              "<table border=\"1\" class=\"dataframe\">\n",
              "  <thead>\n",
              "    <tr style=\"text-align: right;\">\n",
              "      <th></th>\n",
              "      <th>speech_text</th>\n",
              "      <th>label</th>\n",
              "    </tr>\n",
              "  </thead>\n",
              "  <tbody>\n",
              "    <tr>\n",
              "      <th>0</th>\n",
              "      <td>Herr Präsident! Kolleginnen und Kollegen! Die ...</td>\n",
              "      <td>1</td>\n",
              "    </tr>\n",
              "    <tr>\n",
              "      <th>1</th>\n",
              "      <td>Sehr geehrter Herr Präsident! Liebe Kolleginne...</td>\n",
              "      <td>5</td>\n",
              "    </tr>\n",
              "    <tr>\n",
              "      <th>2</th>\n",
              "      <td>Herr Präsident! Liebe Kolleginnen und Kollegen...</td>\n",
              "      <td>1</td>\n",
              "    </tr>\n",
              "    <tr>\n",
              "      <th>3</th>\n",
              "      <td>Herr Präsident! Liebe Kolleginnen und Kollegen...</td>\n",
              "      <td>3</td>\n",
              "    </tr>\n",
              "    <tr>\n",
              "      <th>4</th>\n",
              "      <td>Liebe Kolleginnen und Kollegen! Es ist vorhin ...</td>\n",
              "      <td>2</td>\n",
              "    </tr>\n",
              "  </tbody>\n",
              "</table>\n",
              "</div>"
            ],
            "text/plain": [
              "                                         speech_text  label\n",
              "0  Herr Präsident! Kolleginnen und Kollegen! Die ...      1\n",
              "1  Sehr geehrter Herr Präsident! Liebe Kolleginne...      5\n",
              "2  Herr Präsident! Liebe Kolleginnen und Kollegen...      1\n",
              "3  Herr Präsident! Liebe Kolleginnen und Kollegen...      3\n",
              "4  Liebe Kolleginnen und Kollegen! Es ist vorhin ...      2"
            ]
          },
          "execution_count": 21,
          "metadata": {},
          "output_type": "execute_result"
        }
      ],
      "source": [
        "classifier_data.head()"
      ]
    },
    {
      "cell_type": "code",
      "execution_count": null,
      "id": "1e33c6f7",
      "metadata": {
        "colab": {
          "base_uri": "https://localhost:8080/",
          "height": 49,
          "referenced_widgets": [
            "82fb3c74149549548fa0978404b28325",
            "694f85eb9d41453ea6a15663cc77d904",
            "f1f30762e0ee45c5ae0546c9f28ab80e",
            "6930ad9c33554cb58eca93d56e18bafe",
            "9bebe5cafdb24289bd757def59ef2d0f",
            "10b0f660d8f84900bc9c17f84fa1a848",
            "e411ce98cfc2494ea81e0f571d87a683",
            "4244d8904a824677b0a8e813691bd8a2",
            "8e78d00a6096452b9359418790989408",
            "122df21abbff4c62b25a394694a45790",
            "3eddf7ad5a8349eea83a0f7b9cc38b08"
          ]
        },
        "id": "1e33c6f7",
        "outputId": "208c61b3-b742-4ad1-d2ab-0912b250cf97"
      },
      "outputs": [
        {
          "data": {
            "application/vnd.jupyter.widget-view+json": {
              "model_id": "82fb3c74149549548fa0978404b28325",
              "version_major": 2,
              "version_minor": 0
            },
            "text/plain": [
              "Map:   0%|          | 0/36117 [00:00<?, ? examples/s]"
            ]
          },
          "metadata": {},
          "output_type": "display_data"
        }
      ],
      "source": [
        "# Convert to Hugging Face Dataset\n",
        "dataset = Dataset.from_pandas(classifier_data)\n",
        "\n",
        "# Tokenize\n",
        "def tokenize(batch):\n",
        "    return tokenizer(batch['speech_text'], truncation=True, padding='max_length', max_length=max_length)\n",
        "\n",
        "dataset = dataset.map(tokenize, batched=True)\n",
        "dataset = dataset.rename_column(\"label\", \"labels\")  # required name\n",
        "dataset.set_format(type='torch', columns=['input_ids', 'attention_mask', 'labels'])\n",
        "\n",
        "dataset = dataset.train_test_split(test_size=0.3)  # 90% train, 10% val\n",
        "train_dataset = dataset['train']\n",
        "val_and_test_dataset = dataset['test']\n",
        "val_and_test_dataset = val_and_test_dataset.train_test_split(test_size=0.5)  # 90% train, 10% val\n",
        "val_dataset = val_and_test_dataset['train']\n",
        "test_dataset = val_and_test_dataset['test']"
      ]
    },
    {
      "cell_type": "code",
      "execution_count": null,
      "id": "a1a9a357",
      "metadata": {
        "id": "a1a9a357"
      },
      "outputs": [],
      "source": [
        "# fine-tunen\n",
        "training_args = TrainingArguments(\n",
        "    output_dir=\"./bert-finetuned\",\n",
        "    eval_strategy=\"epoch\",\n",
        "    save_strategy=\"epoch\",\n",
        "    learning_rate=2e-5,\n",
        "    per_device_train_batch_size=8,\n",
        "    per_device_eval_batch_size=8,\n",
        "    num_train_epochs=3,\n",
        "    weight_decay=0.01,\n",
        "    logging_dir=\"./logs\",\n",
        "    load_best_model_at_end=True,\n",
        "    metric_for_best_model=\"accuracy\"\n",
        ")\n",
        "\n",
        "\n",
        "import evaluate\n",
        "accuracy = evaluate.load(\"accuracy\")\n",
        "\n",
        "def compute_metrics(eval_pred):\n",
        "    logits, labels = eval_pred\n",
        "    predictions = logits.argmax(axis=-1)\n",
        "    return accuracy.compute(predictions=predictions, references=labels)\n"
      ]
    },
    {
      "cell_type": "code",
      "execution_count": null,
      "id": "47c2a569",
      "metadata": {
        "colab": {
          "base_uri": "https://localhost:8080/",
          "height": 375
        },
        "id": "47c2a569",
        "outputId": "5af1b6db-2028-48f3-b4b7-7e5e99248237"
      },
      "outputs": [
        {
          "name": "stderr",
          "output_type": "stream",
          "text": [
            "/tmp/ipython-input-1549188525.py:1: FutureWarning: `tokenizer` is deprecated and will be removed in version 5.0.0 for `Trainer.__init__`. Use `processing_class` instead.\n",
            "  trainer = Trainer(\n",
            "/usr/local/lib/python3.11/dist-packages/torch/nn/modules/module.py:1750: FutureWarning: `encoder_attention_mask` is deprecated and will be removed in version 4.55.0 for `BertSdpaSelfAttention.forward`.\n",
            "  return forward_call(*args, **kwargs)\n"
          ]
        },
        {
          "data": {
            "text/html": [
              "\n",
              "    <div>\n",
              "      \n",
              "      <progress value='9483' max='9483' style='width:300px; height:20px; vertical-align: middle;'></progress>\n",
              "      [9483/9483 28:25, Epoch 3/3]\n",
              "    </div>\n",
              "    <table border=\"1\" class=\"dataframe\">\n",
              "  <thead>\n",
              " <tr style=\"text-align: left;\">\n",
              "      <th>Epoch</th>\n",
              "      <th>Training Loss</th>\n",
              "      <th>Validation Loss</th>\n",
              "      <th>Accuracy</th>\n",
              "    </tr>\n",
              "  </thead>\n",
              "  <tbody>\n",
              "    <tr>\n",
              "      <td>1</td>\n",
              "      <td>0.949800</td>\n",
              "      <td>0.873547</td>\n",
              "      <td>0.659468</td>\n",
              "    </tr>\n",
              "    <tr>\n",
              "      <td>2</td>\n",
              "      <td>0.672300</td>\n",
              "      <td>0.771991</td>\n",
              "      <td>0.706165</td>\n",
              "    </tr>\n",
              "    <tr>\n",
              "      <td>3</td>\n",
              "      <td>0.396900</td>\n",
              "      <td>0.857263</td>\n",
              "      <td>0.717977</td>\n",
              "    </tr>\n",
              "  </tbody>\n",
              "</table><p>"
            ],
            "text/plain": [
              "<IPython.core.display.HTML object>"
            ]
          },
          "metadata": {},
          "output_type": "display_data"
        },
        {
          "name": "stderr",
          "output_type": "stream",
          "text": [
            "/usr/local/lib/python3.11/dist-packages/torch/nn/modules/module.py:1750: FutureWarning: `encoder_attention_mask` is deprecated and will be removed in version 4.55.0 for `BertSdpaSelfAttention.forward`.\n",
            "  return forward_call(*args, **kwargs)\n",
            "/usr/local/lib/python3.11/dist-packages/torch/nn/modules/module.py:1750: FutureWarning: `encoder_attention_mask` is deprecated and will be removed in version 4.55.0 for `BertSdpaSelfAttention.forward`.\n",
            "  return forward_call(*args, **kwargs)\n"
          ]
        },
        {
          "data": {
            "text/plain": [
              "TrainOutput(global_step=9483, training_loss=0.7657745885884197, metrics={'train_runtime': 1706.159, 'train_samples_per_second': 44.452, 'train_steps_per_second': 5.558, 'total_flos': 1.9955848447973376e+16, 'train_loss': 0.7657745885884197, 'epoch': 3.0})"
            ]
          },
          "execution_count": 36,
          "metadata": {},
          "output_type": "execute_result"
        }
      ],
      "source": [
        "trainer = Trainer(\n",
        "    model=model,\n",
        "    args=training_args,\n",
        "    train_dataset=train_dataset,\n",
        "    eval_dataset=val_dataset,\n",
        "    tokenizer=tokenizer,\n",
        "    compute_metrics=compute_metrics\n",
        ")\n",
        "\n",
        "# train\n",
        "trainer.train()\n"
      ]
    },
    {
      "cell_type": "code",
      "execution_count": null,
      "id": "3fd06889",
      "metadata": {
        "colab": {
          "base_uri": "https://localhost:8080/",
          "height": 206
        },
        "id": "3fd06889",
        "outputId": "0dcf4e2c-301e-4669-c380-1171194f6d7d"
      },
      "outputs": [
        {
          "name": "stderr",
          "output_type": "stream",
          "text": [
            "/usr/local/lib/python3.11/dist-packages/torch/nn/modules/module.py:1750: FutureWarning: `encoder_attention_mask` is deprecated and will be removed in version 4.55.0 for `BertSdpaSelfAttention.forward`.\n",
            "  return forward_call(*args, **kwargs)\n"
          ]
        },
        {
          "data": {
            "text/html": [
              "\n",
              "    <div>\n",
              "      \n",
              "      <progress value='678' max='678' style='width:300px; height:20px; vertical-align: middle;'></progress>\n",
              "      [678/678 00:35]\n",
              "    </div>\n",
              "    "
            ],
            "text/plain": [
              "<IPython.core.display.HTML object>"
            ]
          },
          "metadata": {},
          "output_type": "display_data"
        },
        {
          "data": {
            "text/plain": [
              "{'eval_loss': 0.8572631478309631,\n",
              " 'eval_accuracy': 0.7179771133259505,\n",
              " 'eval_runtime': 35.9672,\n",
              " 'eval_samples_per_second': 150.637,\n",
              " 'eval_steps_per_second': 18.851,\n",
              " 'epoch': 3.0}"
            ]
          },
          "execution_count": 37,
          "metadata": {},
          "output_type": "execute_result"
        }
      ],
      "source": [
        "# validaten\n",
        "\n",
        "trainer.evaluate()"
      ]
    },
    {
      "cell_type": "code",
      "execution_count": null,
      "id": "eefcb924",
      "metadata": {
        "id": "eefcb924"
      },
      "outputs": [],
      "source": [
        "# compare 2 versions (erinnern!)\n",
        "\n"
      ]
    },
    {
      "cell_type": "code",
      "execution_count": null,
      "id": "657c9d90",
      "metadata": {
        "id": "657c9d90"
      },
      "outputs": [],
      "source": [
        "# outcomes test data conf matrix, accuracy\n",
        "\n"
      ]
    },
    {
      "cell_type": "code",
      "execution_count": null,
      "id": "272215fe",
      "metadata": {
        "id": "272215fe"
      },
      "outputs": [],
      "source": [
        "# save model for futher tests on LLM generated speeches\n",
        "\n"
      ]
    },
    {
      "cell_type": "markdown",
      "id": "40d23ef6",
      "metadata": {
        "id": "40d23ef6"
      },
      "source": [
        "__________________________________________________________________________________\n",
        "\n",
        "Old to save\n",
        "__________________________________________________________________________________"
      ]
    },
    {
      "cell_type": "code",
      "execution_count": null,
      "id": "1994e316",
      "metadata": {
        "id": "1994e316"
      },
      "outputs": [],
      "source": [
        "# Load Model\n",
        "model_name = \"bert-base-german-cased\"\n",
        "num_labels = 6\n",
        "max_length = 512\n",
        "tokenizer = AutoTokenizer.from_pretrained(model_name)\n",
        "model = AutoModelForSequenceClassification.from_pretrained(model_name, num_labels= num_labels) # classification head with one linear layer and num_label outputs is added on top of model here.\n",
        "\n",
        "print(f\"Model parameters: {model.num_parameters():,}\")\n",
        "\n",
        "# Put model in eval mode\n",
        "model.eval()\n",
        "\n",
        "# Define possible label names\n",
        "label_names = ['CDU/CSU', 'SPD', 'GRÜNE', 'FDP', 'AfD', 'LINKE']\n",
        "\n",
        "#  Tokenize input speeches\n",
        "inputs = tokenizer(val_data_subset[\"speech_text\"], return_tensors=\"pt\", padding=True, truncation=False) # padding pads all speeches to the same length and truncation cuts all speeches to 512 tokens\n",
        "\n",
        "# Run model to predict basline\n",
        "with torch.no_grad(): # turns of gradient tracking, since we are not training\n",
        "    outputs = model(**inputs) # passes tokenized inputs into model, returns output dict\n",
        "    logits = outputs.logits # output dict contains logits\n",
        "    probabilities = F.softmax(logits, dim=1) # logits to probabilities\n",
        "    predictions = torch.argmax(probabilities, dim=1) # probabilities to predictions (i.e. highest probability)\n",
        "\n",
        "# 7. Print prediction examples\n",
        "for i, pred in enumerate(predictions):\n",
        "    print(f\"Speech {i+1}: predicted party = {label_names[pred]}\")\n",
        "print(logits)\n",
        "\n",
        "for i, probs in enumerate(probabilities):\n",
        "    print(f\"Speech {i+1} prediction:\")\n",
        "    for label, prob in zip(label_names, probs):\n",
        "        print(f\"  {label:7s}: {prob.item():.2%}\")"
      ]
    }
  ],
  "metadata": {
    "accelerator": "GPU",
    "colab": {
      "gpuType": "T4",
      "provenance": []
    },
    "kernelspec": {
      "display_name": "Python 3",
      "name": "python3"
    },
    "language_info": {
      "codemirror_mode": {
        "name": "ipython",
        "version": 3
      },
      "file_extension": ".py",
      "mimetype": "text/x-python",
      "name": "python",
      "nbconvert_exporter": "python",
      "pygments_lexer": "ipython3",
      "version": "3.13.2"
    },
    "widgets": {
      "application/vnd.jupyter.widget-state+json": {
        "10b0f660d8f84900bc9c17f84fa1a848": {
          "model_module": "@jupyter-widgets/base",
          "model_module_version": "1.2.0",
          "model_name": "LayoutModel",
          "state": {
            "_model_module": "@jupyter-widgets/base",
            "_model_module_version": "1.2.0",
            "_model_name": "LayoutModel",
            "_view_count": null,
            "_view_module": "@jupyter-widgets/base",
            "_view_module_version": "1.2.0",
            "_view_name": "LayoutView",
            "align_content": null,
            "align_items": null,
            "align_self": null,
            "border": null,
            "bottom": null,
            "display": null,
            "flex": null,
            "flex_flow": null,
            "grid_area": null,
            "grid_auto_columns": null,
            "grid_auto_flow": null,
            "grid_auto_rows": null,
            "grid_column": null,
            "grid_gap": null,
            "grid_row": null,
            "grid_template_areas": null,
            "grid_template_columns": null,
            "grid_template_rows": null,
            "height": null,
            "justify_content": null,
            "justify_items": null,
            "left": null,
            "margin": null,
            "max_height": null,
            "max_width": null,
            "min_height": null,
            "min_width": null,
            "object_fit": null,
            "object_position": null,
            "order": null,
            "overflow": null,
            "overflow_x": null,
            "overflow_y": null,
            "padding": null,
            "right": null,
            "top": null,
            "visibility": null,
            "width": null
          }
        },
        "122df21abbff4c62b25a394694a45790": {
          "model_module": "@jupyter-widgets/base",
          "model_module_version": "1.2.0",
          "model_name": "LayoutModel",
          "state": {
            "_model_module": "@jupyter-widgets/base",
            "_model_module_version": "1.2.0",
            "_model_name": "LayoutModel",
            "_view_count": null,
            "_view_module": "@jupyter-widgets/base",
            "_view_module_version": "1.2.0",
            "_view_name": "LayoutView",
            "align_content": null,
            "align_items": null,
            "align_self": null,
            "border": null,
            "bottom": null,
            "display": null,
            "flex": null,
            "flex_flow": null,
            "grid_area": null,
            "grid_auto_columns": null,
            "grid_auto_flow": null,
            "grid_auto_rows": null,
            "grid_column": null,
            "grid_gap": null,
            "grid_row": null,
            "grid_template_areas": null,
            "grid_template_columns": null,
            "grid_template_rows": null,
            "height": null,
            "justify_content": null,
            "justify_items": null,
            "left": null,
            "margin": null,
            "max_height": null,
            "max_width": null,
            "min_height": null,
            "min_width": null,
            "object_fit": null,
            "object_position": null,
            "order": null,
            "overflow": null,
            "overflow_x": null,
            "overflow_y": null,
            "padding": null,
            "right": null,
            "top": null,
            "visibility": null,
            "width": null
          }
        },
        "3eddf7ad5a8349eea83a0f7b9cc38b08": {
          "model_module": "@jupyter-widgets/controls",
          "model_module_version": "1.5.0",
          "model_name": "DescriptionStyleModel",
          "state": {
            "_model_module": "@jupyter-widgets/controls",
            "_model_module_version": "1.5.0",
            "_model_name": "DescriptionStyleModel",
            "_view_count": null,
            "_view_module": "@jupyter-widgets/base",
            "_view_module_version": "1.2.0",
            "_view_name": "StyleView",
            "description_width": ""
          }
        },
        "4244d8904a824677b0a8e813691bd8a2": {
          "model_module": "@jupyter-widgets/base",
          "model_module_version": "1.2.0",
          "model_name": "LayoutModel",
          "state": {
            "_model_module": "@jupyter-widgets/base",
            "_model_module_version": "1.2.0",
            "_model_name": "LayoutModel",
            "_view_count": null,
            "_view_module": "@jupyter-widgets/base",
            "_view_module_version": "1.2.0",
            "_view_name": "LayoutView",
            "align_content": null,
            "align_items": null,
            "align_self": null,
            "border": null,
            "bottom": null,
            "display": null,
            "flex": null,
            "flex_flow": null,
            "grid_area": null,
            "grid_auto_columns": null,
            "grid_auto_flow": null,
            "grid_auto_rows": null,
            "grid_column": null,
            "grid_gap": null,
            "grid_row": null,
            "grid_template_areas": null,
            "grid_template_columns": null,
            "grid_template_rows": null,
            "height": null,
            "justify_content": null,
            "justify_items": null,
            "left": null,
            "margin": null,
            "max_height": null,
            "max_width": null,
            "min_height": null,
            "min_width": null,
            "object_fit": null,
            "object_position": null,
            "order": null,
            "overflow": null,
            "overflow_x": null,
            "overflow_y": null,
            "padding": null,
            "right": null,
            "top": null,
            "visibility": null,
            "width": null
          }
        },
        "6930ad9c33554cb58eca93d56e18bafe": {
          "model_module": "@jupyter-widgets/controls",
          "model_module_version": "1.5.0",
          "model_name": "HTMLModel",
          "state": {
            "_dom_classes": [],
            "_model_module": "@jupyter-widgets/controls",
            "_model_module_version": "1.5.0",
            "_model_name": "HTMLModel",
            "_view_count": null,
            "_view_module": "@jupyter-widgets/controls",
            "_view_module_version": "1.5.0",
            "_view_name": "HTMLView",
            "description": "",
            "description_tooltip": null,
            "layout": "IPY_MODEL_122df21abbff4c62b25a394694a45790",
            "placeholder": "​",
            "style": "IPY_MODEL_3eddf7ad5a8349eea83a0f7b9cc38b08",
            "value": " 36117/36117 [00:24&lt;00:00, 1386.94 examples/s]"
          }
        },
        "694f85eb9d41453ea6a15663cc77d904": {
          "model_module": "@jupyter-widgets/controls",
          "model_module_version": "1.5.0",
          "model_name": "HTMLModel",
          "state": {
            "_dom_classes": [],
            "_model_module": "@jupyter-widgets/controls",
            "_model_module_version": "1.5.0",
            "_model_name": "HTMLModel",
            "_view_count": null,
            "_view_module": "@jupyter-widgets/controls",
            "_view_module_version": "1.5.0",
            "_view_name": "HTMLView",
            "description": "",
            "description_tooltip": null,
            "layout": "IPY_MODEL_10b0f660d8f84900bc9c17f84fa1a848",
            "placeholder": "​",
            "style": "IPY_MODEL_e411ce98cfc2494ea81e0f571d87a683",
            "value": "Map: 100%"
          }
        },
        "82fb3c74149549548fa0978404b28325": {
          "model_module": "@jupyter-widgets/controls",
          "model_module_version": "1.5.0",
          "model_name": "HBoxModel",
          "state": {
            "_dom_classes": [],
            "_model_module": "@jupyter-widgets/controls",
            "_model_module_version": "1.5.0",
            "_model_name": "HBoxModel",
            "_view_count": null,
            "_view_module": "@jupyter-widgets/controls",
            "_view_module_version": "1.5.0",
            "_view_name": "HBoxView",
            "box_style": "",
            "children": [
              "IPY_MODEL_694f85eb9d41453ea6a15663cc77d904",
              "IPY_MODEL_f1f30762e0ee45c5ae0546c9f28ab80e",
              "IPY_MODEL_6930ad9c33554cb58eca93d56e18bafe"
            ],
            "layout": "IPY_MODEL_9bebe5cafdb24289bd757def59ef2d0f"
          }
        },
        "8e78d00a6096452b9359418790989408": {
          "model_module": "@jupyter-widgets/controls",
          "model_module_version": "1.5.0",
          "model_name": "ProgressStyleModel",
          "state": {
            "_model_module": "@jupyter-widgets/controls",
            "_model_module_version": "1.5.0",
            "_model_name": "ProgressStyleModel",
            "_view_count": null,
            "_view_module": "@jupyter-widgets/base",
            "_view_module_version": "1.2.0",
            "_view_name": "StyleView",
            "bar_color": null,
            "description_width": ""
          }
        },
        "9bebe5cafdb24289bd757def59ef2d0f": {
          "model_module": "@jupyter-widgets/base",
          "model_module_version": "1.2.0",
          "model_name": "LayoutModel",
          "state": {
            "_model_module": "@jupyter-widgets/base",
            "_model_module_version": "1.2.0",
            "_model_name": "LayoutModel",
            "_view_count": null,
            "_view_module": "@jupyter-widgets/base",
            "_view_module_version": "1.2.0",
            "_view_name": "LayoutView",
            "align_content": null,
            "align_items": null,
            "align_self": null,
            "border": null,
            "bottom": null,
            "display": null,
            "flex": null,
            "flex_flow": null,
            "grid_area": null,
            "grid_auto_columns": null,
            "grid_auto_flow": null,
            "grid_auto_rows": null,
            "grid_column": null,
            "grid_gap": null,
            "grid_row": null,
            "grid_template_areas": null,
            "grid_template_columns": null,
            "grid_template_rows": null,
            "height": null,
            "justify_content": null,
            "justify_items": null,
            "left": null,
            "margin": null,
            "max_height": null,
            "max_width": null,
            "min_height": null,
            "min_width": null,
            "object_fit": null,
            "object_position": null,
            "order": null,
            "overflow": null,
            "overflow_x": null,
            "overflow_y": null,
            "padding": null,
            "right": null,
            "top": null,
            "visibility": null,
            "width": null
          }
        },
        "e411ce98cfc2494ea81e0f571d87a683": {
          "model_module": "@jupyter-widgets/controls",
          "model_module_version": "1.5.0",
          "model_name": "DescriptionStyleModel",
          "state": {
            "_model_module": "@jupyter-widgets/controls",
            "_model_module_version": "1.5.0",
            "_model_name": "DescriptionStyleModel",
            "_view_count": null,
            "_view_module": "@jupyter-widgets/base",
            "_view_module_version": "1.2.0",
            "_view_name": "StyleView",
            "description_width": ""
          }
        },
        "f1f30762e0ee45c5ae0546c9f28ab80e": {
          "model_module": "@jupyter-widgets/controls",
          "model_module_version": "1.5.0",
          "model_name": "FloatProgressModel",
          "state": {
            "_dom_classes": [],
            "_model_module": "@jupyter-widgets/controls",
            "_model_module_version": "1.5.0",
            "_model_name": "FloatProgressModel",
            "_view_count": null,
            "_view_module": "@jupyter-widgets/controls",
            "_view_module_version": "1.5.0",
            "_view_name": "ProgressView",
            "bar_style": "success",
            "description": "",
            "description_tooltip": null,
            "layout": "IPY_MODEL_4244d8904a824677b0a8e813691bd8a2",
            "max": 36117,
            "min": 0,
            "orientation": "horizontal",
            "style": "IPY_MODEL_8e78d00a6096452b9359418790989408",
            "value": 36117
          }
        },
        "629a62c748c4459f91ecad36cf03dba9": {
          "model_module": "@jupyter-widgets/controls",
          "model_name": "HBoxModel",
          "model_module_version": "1.5.0",
          "state": {
            "_dom_classes": [],
            "_model_module": "@jupyter-widgets/controls",
            "_model_module_version": "1.5.0",
            "_model_name": "HBoxModel",
            "_view_count": null,
            "_view_module": "@jupyter-widgets/controls",
            "_view_module_version": "1.5.0",
            "_view_name": "HBoxView",
            "box_style": "",
            "children": [
              "IPY_MODEL_6d2a58b8070e483e94478cf3275bdfea",
              "IPY_MODEL_83796b2d7aef4f379942150030a13b03",
              "IPY_MODEL_faeb79eac6b24c4b9c38b636b9da8442"
            ],
            "layout": "IPY_MODEL_12acad080eae405289b8fdf1753da719"
          }
        },
        "6d2a58b8070e483e94478cf3275bdfea": {
          "model_module": "@jupyter-widgets/controls",
          "model_name": "HTMLModel",
          "model_module_version": "1.5.0",
          "state": {
            "_dom_classes": [],
            "_model_module": "@jupyter-widgets/controls",
            "_model_module_version": "1.5.0",
            "_model_name": "HTMLModel",
            "_view_count": null,
            "_view_module": "@jupyter-widgets/controls",
            "_view_module_version": "1.5.0",
            "_view_name": "HTMLView",
            "description": "",
            "description_tooltip": null,
            "layout": "IPY_MODEL_10a0690bd59f4cd5a6e02239c7aa2cff",
            "placeholder": "​",
            "style": "IPY_MODEL_d7eef392242f4fa89b5c9c7a5a5749bb",
            "value": "tokenizer_config.json: 100%"
          }
        },
        "83796b2d7aef4f379942150030a13b03": {
          "model_module": "@jupyter-widgets/controls",
          "model_name": "FloatProgressModel",
          "model_module_version": "1.5.0",
          "state": {
            "_dom_classes": [],
            "_model_module": "@jupyter-widgets/controls",
            "_model_module_version": "1.5.0",
            "_model_name": "FloatProgressModel",
            "_view_count": null,
            "_view_module": "@jupyter-widgets/controls",
            "_view_module_version": "1.5.0",
            "_view_name": "ProgressView",
            "bar_style": "success",
            "description": "",
            "description_tooltip": null,
            "layout": "IPY_MODEL_9158d985cbb649269cdbe6c9bcde0590",
            "max": 49,
            "min": 0,
            "orientation": "horizontal",
            "style": "IPY_MODEL_cce60255c25846988049e6d5dec22be1",
            "value": 49
          }
        },
        "faeb79eac6b24c4b9c38b636b9da8442": {
          "model_module": "@jupyter-widgets/controls",
          "model_name": "HTMLModel",
          "model_module_version": "1.5.0",
          "state": {
            "_dom_classes": [],
            "_model_module": "@jupyter-widgets/controls",
            "_model_module_version": "1.5.0",
            "_model_name": "HTMLModel",
            "_view_count": null,
            "_view_module": "@jupyter-widgets/controls",
            "_view_module_version": "1.5.0",
            "_view_name": "HTMLView",
            "description": "",
            "description_tooltip": null,
            "layout": "IPY_MODEL_569ad1ba5df943f5a4a1f4abf0d77527",
            "placeholder": "​",
            "style": "IPY_MODEL_059771aec7164ca8891f8396e95f6e84",
            "value": " 49.0/49.0 [00:00&lt;00:00, 5.33kB/s]"
          }
        },
        "12acad080eae405289b8fdf1753da719": {
          "model_module": "@jupyter-widgets/base",
          "model_name": "LayoutModel",
          "model_module_version": "1.2.0",
          "state": {
            "_model_module": "@jupyter-widgets/base",
            "_model_module_version": "1.2.0",
            "_model_name": "LayoutModel",
            "_view_count": null,
            "_view_module": "@jupyter-widgets/base",
            "_view_module_version": "1.2.0",
            "_view_name": "LayoutView",
            "align_content": null,
            "align_items": null,
            "align_self": null,
            "border": null,
            "bottom": null,
            "display": null,
            "flex": null,
            "flex_flow": null,
            "grid_area": null,
            "grid_auto_columns": null,
            "grid_auto_flow": null,
            "grid_auto_rows": null,
            "grid_column": null,
            "grid_gap": null,
            "grid_row": null,
            "grid_template_areas": null,
            "grid_template_columns": null,
            "grid_template_rows": null,
            "height": null,
            "justify_content": null,
            "justify_items": null,
            "left": null,
            "margin": null,
            "max_height": null,
            "max_width": null,
            "min_height": null,
            "min_width": null,
            "object_fit": null,
            "object_position": null,
            "order": null,
            "overflow": null,
            "overflow_x": null,
            "overflow_y": null,
            "padding": null,
            "right": null,
            "top": null,
            "visibility": null,
            "width": null
          }
        },
        "10a0690bd59f4cd5a6e02239c7aa2cff": {
          "model_module": "@jupyter-widgets/base",
          "model_name": "LayoutModel",
          "model_module_version": "1.2.0",
          "state": {
            "_model_module": "@jupyter-widgets/base",
            "_model_module_version": "1.2.0",
            "_model_name": "LayoutModel",
            "_view_count": null,
            "_view_module": "@jupyter-widgets/base",
            "_view_module_version": "1.2.0",
            "_view_name": "LayoutView",
            "align_content": null,
            "align_items": null,
            "align_self": null,
            "border": null,
            "bottom": null,
            "display": null,
            "flex": null,
            "flex_flow": null,
            "grid_area": null,
            "grid_auto_columns": null,
            "grid_auto_flow": null,
            "grid_auto_rows": null,
            "grid_column": null,
            "grid_gap": null,
            "grid_row": null,
            "grid_template_areas": null,
            "grid_template_columns": null,
            "grid_template_rows": null,
            "height": null,
            "justify_content": null,
            "justify_items": null,
            "left": null,
            "margin": null,
            "max_height": null,
            "max_width": null,
            "min_height": null,
            "min_width": null,
            "object_fit": null,
            "object_position": null,
            "order": null,
            "overflow": null,
            "overflow_x": null,
            "overflow_y": null,
            "padding": null,
            "right": null,
            "top": null,
            "visibility": null,
            "width": null
          }
        },
        "d7eef392242f4fa89b5c9c7a5a5749bb": {
          "model_module": "@jupyter-widgets/controls",
          "model_name": "DescriptionStyleModel",
          "model_module_version": "1.5.0",
          "state": {
            "_model_module": "@jupyter-widgets/controls",
            "_model_module_version": "1.5.0",
            "_model_name": "DescriptionStyleModel",
            "_view_count": null,
            "_view_module": "@jupyter-widgets/base",
            "_view_module_version": "1.2.0",
            "_view_name": "StyleView",
            "description_width": ""
          }
        },
        "9158d985cbb649269cdbe6c9bcde0590": {
          "model_module": "@jupyter-widgets/base",
          "model_name": "LayoutModel",
          "model_module_version": "1.2.0",
          "state": {
            "_model_module": "@jupyter-widgets/base",
            "_model_module_version": "1.2.0",
            "_model_name": "LayoutModel",
            "_view_count": null,
            "_view_module": "@jupyter-widgets/base",
            "_view_module_version": "1.2.0",
            "_view_name": "LayoutView",
            "align_content": null,
            "align_items": null,
            "align_self": null,
            "border": null,
            "bottom": null,
            "display": null,
            "flex": null,
            "flex_flow": null,
            "grid_area": null,
            "grid_auto_columns": null,
            "grid_auto_flow": null,
            "grid_auto_rows": null,
            "grid_column": null,
            "grid_gap": null,
            "grid_row": null,
            "grid_template_areas": null,
            "grid_template_columns": null,
            "grid_template_rows": null,
            "height": null,
            "justify_content": null,
            "justify_items": null,
            "left": null,
            "margin": null,
            "max_height": null,
            "max_width": null,
            "min_height": null,
            "min_width": null,
            "object_fit": null,
            "object_position": null,
            "order": null,
            "overflow": null,
            "overflow_x": null,
            "overflow_y": null,
            "padding": null,
            "right": null,
            "top": null,
            "visibility": null,
            "width": null
          }
        },
        "cce60255c25846988049e6d5dec22be1": {
          "model_module": "@jupyter-widgets/controls",
          "model_name": "ProgressStyleModel",
          "model_module_version": "1.5.0",
          "state": {
            "_model_module": "@jupyter-widgets/controls",
            "_model_module_version": "1.5.0",
            "_model_name": "ProgressStyleModel",
            "_view_count": null,
            "_view_module": "@jupyter-widgets/base",
            "_view_module_version": "1.2.0",
            "_view_name": "StyleView",
            "bar_color": null,
            "description_width": ""
          }
        },
        "569ad1ba5df943f5a4a1f4abf0d77527": {
          "model_module": "@jupyter-widgets/base",
          "model_name": "LayoutModel",
          "model_module_version": "1.2.0",
          "state": {
            "_model_module": "@jupyter-widgets/base",
            "_model_module_version": "1.2.0",
            "_model_name": "LayoutModel",
            "_view_count": null,
            "_view_module": "@jupyter-widgets/base",
            "_view_module_version": "1.2.0",
            "_view_name": "LayoutView",
            "align_content": null,
            "align_items": null,
            "align_self": null,
            "border": null,
            "bottom": null,
            "display": null,
            "flex": null,
            "flex_flow": null,
            "grid_area": null,
            "grid_auto_columns": null,
            "grid_auto_flow": null,
            "grid_auto_rows": null,
            "grid_column": null,
            "grid_gap": null,
            "grid_row": null,
            "grid_template_areas": null,
            "grid_template_columns": null,
            "grid_template_rows": null,
            "height": null,
            "justify_content": null,
            "justify_items": null,
            "left": null,
            "margin": null,
            "max_height": null,
            "max_width": null,
            "min_height": null,
            "min_width": null,
            "object_fit": null,
            "object_position": null,
            "order": null,
            "overflow": null,
            "overflow_x": null,
            "overflow_y": null,
            "padding": null,
            "right": null,
            "top": null,
            "visibility": null,
            "width": null
          }
        },
        "059771aec7164ca8891f8396e95f6e84": {
          "model_module": "@jupyter-widgets/controls",
          "model_name": "DescriptionStyleModel",
          "model_module_version": "1.5.0",
          "state": {
            "_model_module": "@jupyter-widgets/controls",
            "_model_module_version": "1.5.0",
            "_model_name": "DescriptionStyleModel",
            "_view_count": null,
            "_view_module": "@jupyter-widgets/base",
            "_view_module_version": "1.2.0",
            "_view_name": "StyleView",
            "description_width": ""
          }
        },
        "29f655fdd0e4432dbe809848471f7400": {
          "model_module": "@jupyter-widgets/controls",
          "model_name": "HBoxModel",
          "model_module_version": "1.5.0",
          "state": {
            "_dom_classes": [],
            "_model_module": "@jupyter-widgets/controls",
            "_model_module_version": "1.5.0",
            "_model_name": "HBoxModel",
            "_view_count": null,
            "_view_module": "@jupyter-widgets/controls",
            "_view_module_version": "1.5.0",
            "_view_name": "HBoxView",
            "box_style": "",
            "children": [
              "IPY_MODEL_831837b220cb4eaf9c08736904320954",
              "IPY_MODEL_c1f586c4aed8406ea3b7b83fb63d0fe7",
              "IPY_MODEL_285ffae0d6ea48ec9defef60a70436ea"
            ],
            "layout": "IPY_MODEL_ee365aad9c63443e8121cd937058cd04"
          }
        },
        "831837b220cb4eaf9c08736904320954": {
          "model_module": "@jupyter-widgets/controls",
          "model_name": "HTMLModel",
          "model_module_version": "1.5.0",
          "state": {
            "_dom_classes": [],
            "_model_module": "@jupyter-widgets/controls",
            "_model_module_version": "1.5.0",
            "_model_name": "HTMLModel",
            "_view_count": null,
            "_view_module": "@jupyter-widgets/controls",
            "_view_module_version": "1.5.0",
            "_view_name": "HTMLView",
            "description": "",
            "description_tooltip": null,
            "layout": "IPY_MODEL_4f669601f2ad4969878d8522b3881094",
            "placeholder": "​",
            "style": "IPY_MODEL_1ca4bdd5769e485aa393e0a5ee09c02c",
            "value": "config.json: 100%"
          }
        },
        "c1f586c4aed8406ea3b7b83fb63d0fe7": {
          "model_module": "@jupyter-widgets/controls",
          "model_name": "FloatProgressModel",
          "model_module_version": "1.5.0",
          "state": {
            "_dom_classes": [],
            "_model_module": "@jupyter-widgets/controls",
            "_model_module_version": "1.5.0",
            "_model_name": "FloatProgressModel",
            "_view_count": null,
            "_view_module": "@jupyter-widgets/controls",
            "_view_module_version": "1.5.0",
            "_view_name": "ProgressView",
            "bar_style": "success",
            "description": "",
            "description_tooltip": null,
            "layout": "IPY_MODEL_d3cb10d1653a4abc80351845126b5bc4",
            "max": 433,
            "min": 0,
            "orientation": "horizontal",
            "style": "IPY_MODEL_cf14f2af38c6412b82d85c1e67480033",
            "value": 433
          }
        },
        "285ffae0d6ea48ec9defef60a70436ea": {
          "model_module": "@jupyter-widgets/controls",
          "model_name": "HTMLModel",
          "model_module_version": "1.5.0",
          "state": {
            "_dom_classes": [],
            "_model_module": "@jupyter-widgets/controls",
            "_model_module_version": "1.5.0",
            "_model_name": "HTMLModel",
            "_view_count": null,
            "_view_module": "@jupyter-widgets/controls",
            "_view_module_version": "1.5.0",
            "_view_name": "HTMLView",
            "description": "",
            "description_tooltip": null,
            "layout": "IPY_MODEL_8f3aae803737440ead4e8fa9cb16b741",
            "placeholder": "​",
            "style": "IPY_MODEL_9323c73d68214fbb8cbb6902bab3afee",
            "value": " 433/433 [00:00&lt;00:00, 33.9kB/s]"
          }
        },
        "ee365aad9c63443e8121cd937058cd04": {
          "model_module": "@jupyter-widgets/base",
          "model_name": "LayoutModel",
          "model_module_version": "1.2.0",
          "state": {
            "_model_module": "@jupyter-widgets/base",
            "_model_module_version": "1.2.0",
            "_model_name": "LayoutModel",
            "_view_count": null,
            "_view_module": "@jupyter-widgets/base",
            "_view_module_version": "1.2.0",
            "_view_name": "LayoutView",
            "align_content": null,
            "align_items": null,
            "align_self": null,
            "border": null,
            "bottom": null,
            "display": null,
            "flex": null,
            "flex_flow": null,
            "grid_area": null,
            "grid_auto_columns": null,
            "grid_auto_flow": null,
            "grid_auto_rows": null,
            "grid_column": null,
            "grid_gap": null,
            "grid_row": null,
            "grid_template_areas": null,
            "grid_template_columns": null,
            "grid_template_rows": null,
            "height": null,
            "justify_content": null,
            "justify_items": null,
            "left": null,
            "margin": null,
            "max_height": null,
            "max_width": null,
            "min_height": null,
            "min_width": null,
            "object_fit": null,
            "object_position": null,
            "order": null,
            "overflow": null,
            "overflow_x": null,
            "overflow_y": null,
            "padding": null,
            "right": null,
            "top": null,
            "visibility": null,
            "width": null
          }
        },
        "4f669601f2ad4969878d8522b3881094": {
          "model_module": "@jupyter-widgets/base",
          "model_name": "LayoutModel",
          "model_module_version": "1.2.0",
          "state": {
            "_model_module": "@jupyter-widgets/base",
            "_model_module_version": "1.2.0",
            "_model_name": "LayoutModel",
            "_view_count": null,
            "_view_module": "@jupyter-widgets/base",
            "_view_module_version": "1.2.0",
            "_view_name": "LayoutView",
            "align_content": null,
            "align_items": null,
            "align_self": null,
            "border": null,
            "bottom": null,
            "display": null,
            "flex": null,
            "flex_flow": null,
            "grid_area": null,
            "grid_auto_columns": null,
            "grid_auto_flow": null,
            "grid_auto_rows": null,
            "grid_column": null,
            "grid_gap": null,
            "grid_row": null,
            "grid_template_areas": null,
            "grid_template_columns": null,
            "grid_template_rows": null,
            "height": null,
            "justify_content": null,
            "justify_items": null,
            "left": null,
            "margin": null,
            "max_height": null,
            "max_width": null,
            "min_height": null,
            "min_width": null,
            "object_fit": null,
            "object_position": null,
            "order": null,
            "overflow": null,
            "overflow_x": null,
            "overflow_y": null,
            "padding": null,
            "right": null,
            "top": null,
            "visibility": null,
            "width": null
          }
        },
        "1ca4bdd5769e485aa393e0a5ee09c02c": {
          "model_module": "@jupyter-widgets/controls",
          "model_name": "DescriptionStyleModel",
          "model_module_version": "1.5.0",
          "state": {
            "_model_module": "@jupyter-widgets/controls",
            "_model_module_version": "1.5.0",
            "_model_name": "DescriptionStyleModel",
            "_view_count": null,
            "_view_module": "@jupyter-widgets/base",
            "_view_module_version": "1.2.0",
            "_view_name": "StyleView",
            "description_width": ""
          }
        },
        "d3cb10d1653a4abc80351845126b5bc4": {
          "model_module": "@jupyter-widgets/base",
          "model_name": "LayoutModel",
          "model_module_version": "1.2.0",
          "state": {
            "_model_module": "@jupyter-widgets/base",
            "_model_module_version": "1.2.0",
            "_model_name": "LayoutModel",
            "_view_count": null,
            "_view_module": "@jupyter-widgets/base",
            "_view_module_version": "1.2.0",
            "_view_name": "LayoutView",
            "align_content": null,
            "align_items": null,
            "align_self": null,
            "border": null,
            "bottom": null,
            "display": null,
            "flex": null,
            "flex_flow": null,
            "grid_area": null,
            "grid_auto_columns": null,
            "grid_auto_flow": null,
            "grid_auto_rows": null,
            "grid_column": null,
            "grid_gap": null,
            "grid_row": null,
            "grid_template_areas": null,
            "grid_template_columns": null,
            "grid_template_rows": null,
            "height": null,
            "justify_content": null,
            "justify_items": null,
            "left": null,
            "margin": null,
            "max_height": null,
            "max_width": null,
            "min_height": null,
            "min_width": null,
            "object_fit": null,
            "object_position": null,
            "order": null,
            "overflow": null,
            "overflow_x": null,
            "overflow_y": null,
            "padding": null,
            "right": null,
            "top": null,
            "visibility": null,
            "width": null
          }
        },
        "cf14f2af38c6412b82d85c1e67480033": {
          "model_module": "@jupyter-widgets/controls",
          "model_name": "ProgressStyleModel",
          "model_module_version": "1.5.0",
          "state": {
            "_model_module": "@jupyter-widgets/controls",
            "_model_module_version": "1.5.0",
            "_model_name": "ProgressStyleModel",
            "_view_count": null,
            "_view_module": "@jupyter-widgets/base",
            "_view_module_version": "1.2.0",
            "_view_name": "StyleView",
            "bar_color": null,
            "description_width": ""
          }
        },
        "8f3aae803737440ead4e8fa9cb16b741": {
          "model_module": "@jupyter-widgets/base",
          "model_name": "LayoutModel",
          "model_module_version": "1.2.0",
          "state": {
            "_model_module": "@jupyter-widgets/base",
            "_model_module_version": "1.2.0",
            "_model_name": "LayoutModel",
            "_view_count": null,
            "_view_module": "@jupyter-widgets/base",
            "_view_module_version": "1.2.0",
            "_view_name": "LayoutView",
            "align_content": null,
            "align_items": null,
            "align_self": null,
            "border": null,
            "bottom": null,
            "display": null,
            "flex": null,
            "flex_flow": null,
            "grid_area": null,
            "grid_auto_columns": null,
            "grid_auto_flow": null,
            "grid_auto_rows": null,
            "grid_column": null,
            "grid_gap": null,
            "grid_row": null,
            "grid_template_areas": null,
            "grid_template_columns": null,
            "grid_template_rows": null,
            "height": null,
            "justify_content": null,
            "justify_items": null,
            "left": null,
            "margin": null,
            "max_height": null,
            "max_width": null,
            "min_height": null,
            "min_width": null,
            "object_fit": null,
            "object_position": null,
            "order": null,
            "overflow": null,
            "overflow_x": null,
            "overflow_y": null,
            "padding": null,
            "right": null,
            "top": null,
            "visibility": null,
            "width": null
          }
        },
        "9323c73d68214fbb8cbb6902bab3afee": {
          "model_module": "@jupyter-widgets/controls",
          "model_name": "DescriptionStyleModel",
          "model_module_version": "1.5.0",
          "state": {
            "_model_module": "@jupyter-widgets/controls",
            "_model_module_version": "1.5.0",
            "_model_name": "DescriptionStyleModel",
            "_view_count": null,
            "_view_module": "@jupyter-widgets/base",
            "_view_module_version": "1.2.0",
            "_view_name": "StyleView",
            "description_width": ""
          }
        },
        "0eef1286eeda41439bb757d41e463c7a": {
          "model_module": "@jupyter-widgets/controls",
          "model_name": "HBoxModel",
          "model_module_version": "1.5.0",
          "state": {
            "_dom_classes": [],
            "_model_module": "@jupyter-widgets/controls",
            "_model_module_version": "1.5.0",
            "_model_name": "HBoxModel",
            "_view_count": null,
            "_view_module": "@jupyter-widgets/controls",
            "_view_module_version": "1.5.0",
            "_view_name": "HBoxView",
            "box_style": "",
            "children": [
              "IPY_MODEL_179399193d664c91a86f6348b6231e1f",
              "IPY_MODEL_c4bcc00aade94df2b34ef14fca6a4b0e",
              "IPY_MODEL_5ef1cdcd9ef54881905dfe53ba08d494"
            ],
            "layout": "IPY_MODEL_158497b79e844b4f8375301a0b1fa0b6"
          }
        },
        "179399193d664c91a86f6348b6231e1f": {
          "model_module": "@jupyter-widgets/controls",
          "model_name": "HTMLModel",
          "model_module_version": "1.5.0",
          "state": {
            "_dom_classes": [],
            "_model_module": "@jupyter-widgets/controls",
            "_model_module_version": "1.5.0",
            "_model_name": "HTMLModel",
            "_view_count": null,
            "_view_module": "@jupyter-widgets/controls",
            "_view_module_version": "1.5.0",
            "_view_name": "HTMLView",
            "description": "",
            "description_tooltip": null,
            "layout": "IPY_MODEL_bc2380999e5d4553b48b502414ca639a",
            "placeholder": "​",
            "style": "IPY_MODEL_5ee4f44f53cf4d339b78cd9b13e102d1",
            "value": "vocab.txt: 100%"
          }
        },
        "c4bcc00aade94df2b34ef14fca6a4b0e": {
          "model_module": "@jupyter-widgets/controls",
          "model_name": "FloatProgressModel",
          "model_module_version": "1.5.0",
          "state": {
            "_dom_classes": [],
            "_model_module": "@jupyter-widgets/controls",
            "_model_module_version": "1.5.0",
            "_model_name": "FloatProgressModel",
            "_view_count": null,
            "_view_module": "@jupyter-widgets/controls",
            "_view_module_version": "1.5.0",
            "_view_name": "ProgressView",
            "bar_style": "success",
            "description": "",
            "description_tooltip": null,
            "layout": "IPY_MODEL_9fc8fd788e254e2d8393e6f43fb3f834",
            "max": 254728,
            "min": 0,
            "orientation": "horizontal",
            "style": "IPY_MODEL_b8493b0302cc406e9267f273d6ad0636",
            "value": 254728
          }
        },
        "5ef1cdcd9ef54881905dfe53ba08d494": {
          "model_module": "@jupyter-widgets/controls",
          "model_name": "HTMLModel",
          "model_module_version": "1.5.0",
          "state": {
            "_dom_classes": [],
            "_model_module": "@jupyter-widgets/controls",
            "_model_module_version": "1.5.0",
            "_model_name": "HTMLModel",
            "_view_count": null,
            "_view_module": "@jupyter-widgets/controls",
            "_view_module_version": "1.5.0",
            "_view_name": "HTMLView",
            "description": "",
            "description_tooltip": null,
            "layout": "IPY_MODEL_44f20c2a70a64c51a8fc2f47a5335a31",
            "placeholder": "​",
            "style": "IPY_MODEL_5772371cabc7499abede433bbe37d831",
            "value": " 255k/255k [00:00&lt;00:00, 8.95MB/s]"
          }
        },
        "158497b79e844b4f8375301a0b1fa0b6": {
          "model_module": "@jupyter-widgets/base",
          "model_name": "LayoutModel",
          "model_module_version": "1.2.0",
          "state": {
            "_model_module": "@jupyter-widgets/base",
            "_model_module_version": "1.2.0",
            "_model_name": "LayoutModel",
            "_view_count": null,
            "_view_module": "@jupyter-widgets/base",
            "_view_module_version": "1.2.0",
            "_view_name": "LayoutView",
            "align_content": null,
            "align_items": null,
            "align_self": null,
            "border": null,
            "bottom": null,
            "display": null,
            "flex": null,
            "flex_flow": null,
            "grid_area": null,
            "grid_auto_columns": null,
            "grid_auto_flow": null,
            "grid_auto_rows": null,
            "grid_column": null,
            "grid_gap": null,
            "grid_row": null,
            "grid_template_areas": null,
            "grid_template_columns": null,
            "grid_template_rows": null,
            "height": null,
            "justify_content": null,
            "justify_items": null,
            "left": null,
            "margin": null,
            "max_height": null,
            "max_width": null,
            "min_height": null,
            "min_width": null,
            "object_fit": null,
            "object_position": null,
            "order": null,
            "overflow": null,
            "overflow_x": null,
            "overflow_y": null,
            "padding": null,
            "right": null,
            "top": null,
            "visibility": null,
            "width": null
          }
        },
        "bc2380999e5d4553b48b502414ca639a": {
          "model_module": "@jupyter-widgets/base",
          "model_name": "LayoutModel",
          "model_module_version": "1.2.0",
          "state": {
            "_model_module": "@jupyter-widgets/base",
            "_model_module_version": "1.2.0",
            "_model_name": "LayoutModel",
            "_view_count": null,
            "_view_module": "@jupyter-widgets/base",
            "_view_module_version": "1.2.0",
            "_view_name": "LayoutView",
            "align_content": null,
            "align_items": null,
            "align_self": null,
            "border": null,
            "bottom": null,
            "display": null,
            "flex": null,
            "flex_flow": null,
            "grid_area": null,
            "grid_auto_columns": null,
            "grid_auto_flow": null,
            "grid_auto_rows": null,
            "grid_column": null,
            "grid_gap": null,
            "grid_row": null,
            "grid_template_areas": null,
            "grid_template_columns": null,
            "grid_template_rows": null,
            "height": null,
            "justify_content": null,
            "justify_items": null,
            "left": null,
            "margin": null,
            "max_height": null,
            "max_width": null,
            "min_height": null,
            "min_width": null,
            "object_fit": null,
            "object_position": null,
            "order": null,
            "overflow": null,
            "overflow_x": null,
            "overflow_y": null,
            "padding": null,
            "right": null,
            "top": null,
            "visibility": null,
            "width": null
          }
        },
        "5ee4f44f53cf4d339b78cd9b13e102d1": {
          "model_module": "@jupyter-widgets/controls",
          "model_name": "DescriptionStyleModel",
          "model_module_version": "1.5.0",
          "state": {
            "_model_module": "@jupyter-widgets/controls",
            "_model_module_version": "1.5.0",
            "_model_name": "DescriptionStyleModel",
            "_view_count": null,
            "_view_module": "@jupyter-widgets/base",
            "_view_module_version": "1.2.0",
            "_view_name": "StyleView",
            "description_width": ""
          }
        },
        "9fc8fd788e254e2d8393e6f43fb3f834": {
          "model_module": "@jupyter-widgets/base",
          "model_name": "LayoutModel",
          "model_module_version": "1.2.0",
          "state": {
            "_model_module": "@jupyter-widgets/base",
            "_model_module_version": "1.2.0",
            "_model_name": "LayoutModel",
            "_view_count": null,
            "_view_module": "@jupyter-widgets/base",
            "_view_module_version": "1.2.0",
            "_view_name": "LayoutView",
            "align_content": null,
            "align_items": null,
            "align_self": null,
            "border": null,
            "bottom": null,
            "display": null,
            "flex": null,
            "flex_flow": null,
            "grid_area": null,
            "grid_auto_columns": null,
            "grid_auto_flow": null,
            "grid_auto_rows": null,
            "grid_column": null,
            "grid_gap": null,
            "grid_row": null,
            "grid_template_areas": null,
            "grid_template_columns": null,
            "grid_template_rows": null,
            "height": null,
            "justify_content": null,
            "justify_items": null,
            "left": null,
            "margin": null,
            "max_height": null,
            "max_width": null,
            "min_height": null,
            "min_width": null,
            "object_fit": null,
            "object_position": null,
            "order": null,
            "overflow": null,
            "overflow_x": null,
            "overflow_y": null,
            "padding": null,
            "right": null,
            "top": null,
            "visibility": null,
            "width": null
          }
        },
        "b8493b0302cc406e9267f273d6ad0636": {
          "model_module": "@jupyter-widgets/controls",
          "model_name": "ProgressStyleModel",
          "model_module_version": "1.5.0",
          "state": {
            "_model_module": "@jupyter-widgets/controls",
            "_model_module_version": "1.5.0",
            "_model_name": "ProgressStyleModel",
            "_view_count": null,
            "_view_module": "@jupyter-widgets/base",
            "_view_module_version": "1.2.0",
            "_view_name": "StyleView",
            "bar_color": null,
            "description_width": ""
          }
        },
        "44f20c2a70a64c51a8fc2f47a5335a31": {
          "model_module": "@jupyter-widgets/base",
          "model_name": "LayoutModel",
          "model_module_version": "1.2.0",
          "state": {
            "_model_module": "@jupyter-widgets/base",
            "_model_module_version": "1.2.0",
            "_model_name": "LayoutModel",
            "_view_count": null,
            "_view_module": "@jupyter-widgets/base",
            "_view_module_version": "1.2.0",
            "_view_name": "LayoutView",
            "align_content": null,
            "align_items": null,
            "align_self": null,
            "border": null,
            "bottom": null,
            "display": null,
            "flex": null,
            "flex_flow": null,
            "grid_area": null,
            "grid_auto_columns": null,
            "grid_auto_flow": null,
            "grid_auto_rows": null,
            "grid_column": null,
            "grid_gap": null,
            "grid_row": null,
            "grid_template_areas": null,
            "grid_template_columns": null,
            "grid_template_rows": null,
            "height": null,
            "justify_content": null,
            "justify_items": null,
            "left": null,
            "margin": null,
            "max_height": null,
            "max_width": null,
            "min_height": null,
            "min_width": null,
            "object_fit": null,
            "object_position": null,
            "order": null,
            "overflow": null,
            "overflow_x": null,
            "overflow_y": null,
            "padding": null,
            "right": null,
            "top": null,
            "visibility": null,
            "width": null
          }
        },
        "5772371cabc7499abede433bbe37d831": {
          "model_module": "@jupyter-widgets/controls",
          "model_name": "DescriptionStyleModel",
          "model_module_version": "1.5.0",
          "state": {
            "_model_module": "@jupyter-widgets/controls",
            "_model_module_version": "1.5.0",
            "_model_name": "DescriptionStyleModel",
            "_view_count": null,
            "_view_module": "@jupyter-widgets/base",
            "_view_module_version": "1.2.0",
            "_view_name": "StyleView",
            "description_width": ""
          }
        },
        "ca4264f31e6a4a0e84864df2c8c5a536": {
          "model_module": "@jupyter-widgets/controls",
          "model_name": "HBoxModel",
          "model_module_version": "1.5.0",
          "state": {
            "_dom_classes": [],
            "_model_module": "@jupyter-widgets/controls",
            "_model_module_version": "1.5.0",
            "_model_name": "HBoxModel",
            "_view_count": null,
            "_view_module": "@jupyter-widgets/controls",
            "_view_module_version": "1.5.0",
            "_view_name": "HBoxView",
            "box_style": "",
            "children": [
              "IPY_MODEL_023f26144bc24e16a4e842aa015cb239",
              "IPY_MODEL_ba69ee825f7f4717b1c7b768cfe9cb20",
              "IPY_MODEL_e8842193d9964b71816ad1d6482f77ea"
            ],
            "layout": "IPY_MODEL_539f9826f8ea4ca19ea404163300623e"
          }
        },
        "023f26144bc24e16a4e842aa015cb239": {
          "model_module": "@jupyter-widgets/controls",
          "model_name": "HTMLModel",
          "model_module_version": "1.5.0",
          "state": {
            "_dom_classes": [],
            "_model_module": "@jupyter-widgets/controls",
            "_model_module_version": "1.5.0",
            "_model_name": "HTMLModel",
            "_view_count": null,
            "_view_module": "@jupyter-widgets/controls",
            "_view_module_version": "1.5.0",
            "_view_name": "HTMLView",
            "description": "",
            "description_tooltip": null,
            "layout": "IPY_MODEL_88a993d9ddb540a8a867e23a03918d9f",
            "placeholder": "​",
            "style": "IPY_MODEL_78be8f81bd7c40e3aaec4229f55726d1",
            "value": "tokenizer.json: 100%"
          }
        },
        "ba69ee825f7f4717b1c7b768cfe9cb20": {
          "model_module": "@jupyter-widgets/controls",
          "model_name": "FloatProgressModel",
          "model_module_version": "1.5.0",
          "state": {
            "_dom_classes": [],
            "_model_module": "@jupyter-widgets/controls",
            "_model_module_version": "1.5.0",
            "_model_name": "FloatProgressModel",
            "_view_count": null,
            "_view_module": "@jupyter-widgets/controls",
            "_view_module_version": "1.5.0",
            "_view_name": "ProgressView",
            "bar_style": "success",
            "description": "",
            "description_tooltip": null,
            "layout": "IPY_MODEL_eae67fe5a5624bd88f87eb22fb80d647",
            "max": 485115,
            "min": 0,
            "orientation": "horizontal",
            "style": "IPY_MODEL_6e4df8b775b14956a4b530ea002d7c27",
            "value": 485115
          }
        },
        "e8842193d9964b71816ad1d6482f77ea": {
          "model_module": "@jupyter-widgets/controls",
          "model_name": "HTMLModel",
          "model_module_version": "1.5.0",
          "state": {
            "_dom_classes": [],
            "_model_module": "@jupyter-widgets/controls",
            "_model_module_version": "1.5.0",
            "_model_name": "HTMLModel",
            "_view_count": null,
            "_view_module": "@jupyter-widgets/controls",
            "_view_module_version": "1.5.0",
            "_view_name": "HTMLView",
            "description": "",
            "description_tooltip": null,
            "layout": "IPY_MODEL_adbeadcecb7845499e6cfc2481298fb7",
            "placeholder": "​",
            "style": "IPY_MODEL_30dd7ce03d6143e5924dbd5d5e72d3fd",
            "value": " 485k/485k [00:00&lt;00:00, 24.7MB/s]"
          }
        },
        "539f9826f8ea4ca19ea404163300623e": {
          "model_module": "@jupyter-widgets/base",
          "model_name": "LayoutModel",
          "model_module_version": "1.2.0",
          "state": {
            "_model_module": "@jupyter-widgets/base",
            "_model_module_version": "1.2.0",
            "_model_name": "LayoutModel",
            "_view_count": null,
            "_view_module": "@jupyter-widgets/base",
            "_view_module_version": "1.2.0",
            "_view_name": "LayoutView",
            "align_content": null,
            "align_items": null,
            "align_self": null,
            "border": null,
            "bottom": null,
            "display": null,
            "flex": null,
            "flex_flow": null,
            "grid_area": null,
            "grid_auto_columns": null,
            "grid_auto_flow": null,
            "grid_auto_rows": null,
            "grid_column": null,
            "grid_gap": null,
            "grid_row": null,
            "grid_template_areas": null,
            "grid_template_columns": null,
            "grid_template_rows": null,
            "height": null,
            "justify_content": null,
            "justify_items": null,
            "left": null,
            "margin": null,
            "max_height": null,
            "max_width": null,
            "min_height": null,
            "min_width": null,
            "object_fit": null,
            "object_position": null,
            "order": null,
            "overflow": null,
            "overflow_x": null,
            "overflow_y": null,
            "padding": null,
            "right": null,
            "top": null,
            "visibility": null,
            "width": null
          }
        },
        "88a993d9ddb540a8a867e23a03918d9f": {
          "model_module": "@jupyter-widgets/base",
          "model_name": "LayoutModel",
          "model_module_version": "1.2.0",
          "state": {
            "_model_module": "@jupyter-widgets/base",
            "_model_module_version": "1.2.0",
            "_model_name": "LayoutModel",
            "_view_count": null,
            "_view_module": "@jupyter-widgets/base",
            "_view_module_version": "1.2.0",
            "_view_name": "LayoutView",
            "align_content": null,
            "align_items": null,
            "align_self": null,
            "border": null,
            "bottom": null,
            "display": null,
            "flex": null,
            "flex_flow": null,
            "grid_area": null,
            "grid_auto_columns": null,
            "grid_auto_flow": null,
            "grid_auto_rows": null,
            "grid_column": null,
            "grid_gap": null,
            "grid_row": null,
            "grid_template_areas": null,
            "grid_template_columns": null,
            "grid_template_rows": null,
            "height": null,
            "justify_content": null,
            "justify_items": null,
            "left": null,
            "margin": null,
            "max_height": null,
            "max_width": null,
            "min_height": null,
            "min_width": null,
            "object_fit": null,
            "object_position": null,
            "order": null,
            "overflow": null,
            "overflow_x": null,
            "overflow_y": null,
            "padding": null,
            "right": null,
            "top": null,
            "visibility": null,
            "width": null
          }
        },
        "78be8f81bd7c40e3aaec4229f55726d1": {
          "model_module": "@jupyter-widgets/controls",
          "model_name": "DescriptionStyleModel",
          "model_module_version": "1.5.0",
          "state": {
            "_model_module": "@jupyter-widgets/controls",
            "_model_module_version": "1.5.0",
            "_model_name": "DescriptionStyleModel",
            "_view_count": null,
            "_view_module": "@jupyter-widgets/base",
            "_view_module_version": "1.2.0",
            "_view_name": "StyleView",
            "description_width": ""
          }
        },
        "eae67fe5a5624bd88f87eb22fb80d647": {
          "model_module": "@jupyter-widgets/base",
          "model_name": "LayoutModel",
          "model_module_version": "1.2.0",
          "state": {
            "_model_module": "@jupyter-widgets/base",
            "_model_module_version": "1.2.0",
            "_model_name": "LayoutModel",
            "_view_count": null,
            "_view_module": "@jupyter-widgets/base",
            "_view_module_version": "1.2.0",
            "_view_name": "LayoutView",
            "align_content": null,
            "align_items": null,
            "align_self": null,
            "border": null,
            "bottom": null,
            "display": null,
            "flex": null,
            "flex_flow": null,
            "grid_area": null,
            "grid_auto_columns": null,
            "grid_auto_flow": null,
            "grid_auto_rows": null,
            "grid_column": null,
            "grid_gap": null,
            "grid_row": null,
            "grid_template_areas": null,
            "grid_template_columns": null,
            "grid_template_rows": null,
            "height": null,
            "justify_content": null,
            "justify_items": null,
            "left": null,
            "margin": null,
            "max_height": null,
            "max_width": null,
            "min_height": null,
            "min_width": null,
            "object_fit": null,
            "object_position": null,
            "order": null,
            "overflow": null,
            "overflow_x": null,
            "overflow_y": null,
            "padding": null,
            "right": null,
            "top": null,
            "visibility": null,
            "width": null
          }
        },
        "6e4df8b775b14956a4b530ea002d7c27": {
          "model_module": "@jupyter-widgets/controls",
          "model_name": "ProgressStyleModel",
          "model_module_version": "1.5.0",
          "state": {
            "_model_module": "@jupyter-widgets/controls",
            "_model_module_version": "1.5.0",
            "_model_name": "ProgressStyleModel",
            "_view_count": null,
            "_view_module": "@jupyter-widgets/base",
            "_view_module_version": "1.2.0",
            "_view_name": "StyleView",
            "bar_color": null,
            "description_width": ""
          }
        },
        "adbeadcecb7845499e6cfc2481298fb7": {
          "model_module": "@jupyter-widgets/base",
          "model_name": "LayoutModel",
          "model_module_version": "1.2.0",
          "state": {
            "_model_module": "@jupyter-widgets/base",
            "_model_module_version": "1.2.0",
            "_model_name": "LayoutModel",
            "_view_count": null,
            "_view_module": "@jupyter-widgets/base",
            "_view_module_version": "1.2.0",
            "_view_name": "LayoutView",
            "align_content": null,
            "align_items": null,
            "align_self": null,
            "border": null,
            "bottom": null,
            "display": null,
            "flex": null,
            "flex_flow": null,
            "grid_area": null,
            "grid_auto_columns": null,
            "grid_auto_flow": null,
            "grid_auto_rows": null,
            "grid_column": null,
            "grid_gap": null,
            "grid_row": null,
            "grid_template_areas": null,
            "grid_template_columns": null,
            "grid_template_rows": null,
            "height": null,
            "justify_content": null,
            "justify_items": null,
            "left": null,
            "margin": null,
            "max_height": null,
            "max_width": null,
            "min_height": null,
            "min_width": null,
            "object_fit": null,
            "object_position": null,
            "order": null,
            "overflow": null,
            "overflow_x": null,
            "overflow_y": null,
            "padding": null,
            "right": null,
            "top": null,
            "visibility": null,
            "width": null
          }
        },
        "30dd7ce03d6143e5924dbd5d5e72d3fd": {
          "model_module": "@jupyter-widgets/controls",
          "model_name": "DescriptionStyleModel",
          "model_module_version": "1.5.0",
          "state": {
            "_model_module": "@jupyter-widgets/controls",
            "_model_module_version": "1.5.0",
            "_model_name": "DescriptionStyleModel",
            "_view_count": null,
            "_view_module": "@jupyter-widgets/base",
            "_view_module_version": "1.2.0",
            "_view_name": "StyleView",
            "description_width": ""
          }
        },
        "a6bb6c7d811746a4b8fa580bb9172eb5": {
          "model_module": "@jupyter-widgets/controls",
          "model_name": "HBoxModel",
          "model_module_version": "1.5.0",
          "state": {
            "_dom_classes": [],
            "_model_module": "@jupyter-widgets/controls",
            "_model_module_version": "1.5.0",
            "_model_name": "HBoxModel",
            "_view_count": null,
            "_view_module": "@jupyter-widgets/controls",
            "_view_module_version": "1.5.0",
            "_view_name": "HBoxView",
            "box_style": "",
            "children": [
              "IPY_MODEL_0ba2f7fb17ab4087887a3a5e39118ea6",
              "IPY_MODEL_e7f78a5b398f41f0a56748cbe545f0fc",
              "IPY_MODEL_86396576e60c4aa0b0ad38c3137310e8"
            ],
            "layout": "IPY_MODEL_5fa93bfb0c32473a988e58a9e6190223"
          }
        },
        "0ba2f7fb17ab4087887a3a5e39118ea6": {
          "model_module": "@jupyter-widgets/controls",
          "model_name": "HTMLModel",
          "model_module_version": "1.5.0",
          "state": {
            "_dom_classes": [],
            "_model_module": "@jupyter-widgets/controls",
            "_model_module_version": "1.5.0",
            "_model_name": "HTMLModel",
            "_view_count": null,
            "_view_module": "@jupyter-widgets/controls",
            "_view_module_version": "1.5.0",
            "_view_name": "HTMLView",
            "description": "",
            "description_tooltip": null,
            "layout": "IPY_MODEL_3691a21d1d2c4d60b8b6ad84bf64d50a",
            "placeholder": "​",
            "style": "IPY_MODEL_68539a89627b4ceea2401b1fb2a4a28d",
            "value": "Map: 100%"
          }
        },
        "e7f78a5b398f41f0a56748cbe545f0fc": {
          "model_module": "@jupyter-widgets/controls",
          "model_name": "FloatProgressModel",
          "model_module_version": "1.5.0",
          "state": {
            "_dom_classes": [],
            "_model_module": "@jupyter-widgets/controls",
            "_model_module_version": "1.5.0",
            "_model_name": "FloatProgressModel",
            "_view_count": null,
            "_view_module": "@jupyter-widgets/controls",
            "_view_module_version": "1.5.0",
            "_view_name": "ProgressView",
            "bar_style": "success",
            "description": "",
            "description_tooltip": null,
            "layout": "IPY_MODEL_7b9d6ff5a9ad429a87c7891e3c087b79",
            "max": 25281,
            "min": 0,
            "orientation": "horizontal",
            "style": "IPY_MODEL_80ee1e7342cb4af08d994e970ddecf95",
            "value": 25281
          }
        },
        "86396576e60c4aa0b0ad38c3137310e8": {
          "model_module": "@jupyter-widgets/controls",
          "model_name": "HTMLModel",
          "model_module_version": "1.5.0",
          "state": {
            "_dom_classes": [],
            "_model_module": "@jupyter-widgets/controls",
            "_model_module_version": "1.5.0",
            "_model_name": "HTMLModel",
            "_view_count": null,
            "_view_module": "@jupyter-widgets/controls",
            "_view_module_version": "1.5.0",
            "_view_name": "HTMLView",
            "description": "",
            "description_tooltip": null,
            "layout": "IPY_MODEL_78e776682b754ddbad2ea63535b1b8c2",
            "placeholder": "​",
            "style": "IPY_MODEL_3428947fd553486391023c67dfccdb95",
            "value": " 25281/25281 [01:43&lt;00:00, 267.00 examples/s]"
          }
        },
        "5fa93bfb0c32473a988e58a9e6190223": {
          "model_module": "@jupyter-widgets/base",
          "model_name": "LayoutModel",
          "model_module_version": "1.2.0",
          "state": {
            "_model_module": "@jupyter-widgets/base",
            "_model_module_version": "1.2.0",
            "_model_name": "LayoutModel",
            "_view_count": null,
            "_view_module": "@jupyter-widgets/base",
            "_view_module_version": "1.2.0",
            "_view_name": "LayoutView",
            "align_content": null,
            "align_items": null,
            "align_self": null,
            "border": null,
            "bottom": null,
            "display": null,
            "flex": null,
            "flex_flow": null,
            "grid_area": null,
            "grid_auto_columns": null,
            "grid_auto_flow": null,
            "grid_auto_rows": null,
            "grid_column": null,
            "grid_gap": null,
            "grid_row": null,
            "grid_template_areas": null,
            "grid_template_columns": null,
            "grid_template_rows": null,
            "height": null,
            "justify_content": null,
            "justify_items": null,
            "left": null,
            "margin": null,
            "max_height": null,
            "max_width": null,
            "min_height": null,
            "min_width": null,
            "object_fit": null,
            "object_position": null,
            "order": null,
            "overflow": null,
            "overflow_x": null,
            "overflow_y": null,
            "padding": null,
            "right": null,
            "top": null,
            "visibility": null,
            "width": null
          }
        },
        "3691a21d1d2c4d60b8b6ad84bf64d50a": {
          "model_module": "@jupyter-widgets/base",
          "model_name": "LayoutModel",
          "model_module_version": "1.2.0",
          "state": {
            "_model_module": "@jupyter-widgets/base",
            "_model_module_version": "1.2.0",
            "_model_name": "LayoutModel",
            "_view_count": null,
            "_view_module": "@jupyter-widgets/base",
            "_view_module_version": "1.2.0",
            "_view_name": "LayoutView",
            "align_content": null,
            "align_items": null,
            "align_self": null,
            "border": null,
            "bottom": null,
            "display": null,
            "flex": null,
            "flex_flow": null,
            "grid_area": null,
            "grid_auto_columns": null,
            "grid_auto_flow": null,
            "grid_auto_rows": null,
            "grid_column": null,
            "grid_gap": null,
            "grid_row": null,
            "grid_template_areas": null,
            "grid_template_columns": null,
            "grid_template_rows": null,
            "height": null,
            "justify_content": null,
            "justify_items": null,
            "left": null,
            "margin": null,
            "max_height": null,
            "max_width": null,
            "min_height": null,
            "min_width": null,
            "object_fit": null,
            "object_position": null,
            "order": null,
            "overflow": null,
            "overflow_x": null,
            "overflow_y": null,
            "padding": null,
            "right": null,
            "top": null,
            "visibility": null,
            "width": null
          }
        },
        "68539a89627b4ceea2401b1fb2a4a28d": {
          "model_module": "@jupyter-widgets/controls",
          "model_name": "DescriptionStyleModel",
          "model_module_version": "1.5.0",
          "state": {
            "_model_module": "@jupyter-widgets/controls",
            "_model_module_version": "1.5.0",
            "_model_name": "DescriptionStyleModel",
            "_view_count": null,
            "_view_module": "@jupyter-widgets/base",
            "_view_module_version": "1.2.0",
            "_view_name": "StyleView",
            "description_width": ""
          }
        },
        "7b9d6ff5a9ad429a87c7891e3c087b79": {
          "model_module": "@jupyter-widgets/base",
          "model_name": "LayoutModel",
          "model_module_version": "1.2.0",
          "state": {
            "_model_module": "@jupyter-widgets/base",
            "_model_module_version": "1.2.0",
            "_model_name": "LayoutModel",
            "_view_count": null,
            "_view_module": "@jupyter-widgets/base",
            "_view_module_version": "1.2.0",
            "_view_name": "LayoutView",
            "align_content": null,
            "align_items": null,
            "align_self": null,
            "border": null,
            "bottom": null,
            "display": null,
            "flex": null,
            "flex_flow": null,
            "grid_area": null,
            "grid_auto_columns": null,
            "grid_auto_flow": null,
            "grid_auto_rows": null,
            "grid_column": null,
            "grid_gap": null,
            "grid_row": null,
            "grid_template_areas": null,
            "grid_template_columns": null,
            "grid_template_rows": null,
            "height": null,
            "justify_content": null,
            "justify_items": null,
            "left": null,
            "margin": null,
            "max_height": null,
            "max_width": null,
            "min_height": null,
            "min_width": null,
            "object_fit": null,
            "object_position": null,
            "order": null,
            "overflow": null,
            "overflow_x": null,
            "overflow_y": null,
            "padding": null,
            "right": null,
            "top": null,
            "visibility": null,
            "width": null
          }
        },
        "80ee1e7342cb4af08d994e970ddecf95": {
          "model_module": "@jupyter-widgets/controls",
          "model_name": "ProgressStyleModel",
          "model_module_version": "1.5.0",
          "state": {
            "_model_module": "@jupyter-widgets/controls",
            "_model_module_version": "1.5.0",
            "_model_name": "ProgressStyleModel",
            "_view_count": null,
            "_view_module": "@jupyter-widgets/base",
            "_view_module_version": "1.2.0",
            "_view_name": "StyleView",
            "bar_color": null,
            "description_width": ""
          }
        },
        "78e776682b754ddbad2ea63535b1b8c2": {
          "model_module": "@jupyter-widgets/base",
          "model_name": "LayoutModel",
          "model_module_version": "1.2.0",
          "state": {
            "_model_module": "@jupyter-widgets/base",
            "_model_module_version": "1.2.0",
            "_model_name": "LayoutModel",
            "_view_count": null,
            "_view_module": "@jupyter-widgets/base",
            "_view_module_version": "1.2.0",
            "_view_name": "LayoutView",
            "align_content": null,
            "align_items": null,
            "align_self": null,
            "border": null,
            "bottom": null,
            "display": null,
            "flex": null,
            "flex_flow": null,
            "grid_area": null,
            "grid_auto_columns": null,
            "grid_auto_flow": null,
            "grid_auto_rows": null,
            "grid_column": null,
            "grid_gap": null,
            "grid_row": null,
            "grid_template_areas": null,
            "grid_template_columns": null,
            "grid_template_rows": null,
            "height": null,
            "justify_content": null,
            "justify_items": null,
            "left": null,
            "margin": null,
            "max_height": null,
            "max_width": null,
            "min_height": null,
            "min_width": null,
            "object_fit": null,
            "object_position": null,
            "order": null,
            "overflow": null,
            "overflow_x": null,
            "overflow_y": null,
            "padding": null,
            "right": null,
            "top": null,
            "visibility": null,
            "width": null
          }
        },
        "3428947fd553486391023c67dfccdb95": {
          "model_module": "@jupyter-widgets/controls",
          "model_name": "DescriptionStyleModel",
          "model_module_version": "1.5.0",
          "state": {
            "_model_module": "@jupyter-widgets/controls",
            "_model_module_version": "1.5.0",
            "_model_name": "DescriptionStyleModel",
            "_view_count": null,
            "_view_module": "@jupyter-widgets/base",
            "_view_module_version": "1.2.0",
            "_view_name": "StyleView",
            "description_width": ""
          }
        }
      }
    }
  },
  "nbformat": 4,
  "nbformat_minor": 5
}