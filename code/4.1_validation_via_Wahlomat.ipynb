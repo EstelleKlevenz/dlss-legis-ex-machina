{
 "cells": [
  {
   "cell_type": "markdown",
   "id": "b04b4878",
   "metadata": {},
   "source": [
    "# Validating fine-tuned Generator via behavioural real-world data \n",
    "- using Wahlomat survey to compare generated results versus real-world party answers from the 2025 Bundestagswahl"
   ]
  },
  {
   "cell_type": "code",
   "execution_count": 5,
   "id": "8f3d875d",
   "metadata": {},
   "outputs": [
    {
     "data": {
      "application/vnd.microsoft.datawrangler.viewer.v0+json": {
       "columns": [
        {
         "name": "index",
         "rawType": "int64",
         "type": "integer"
        },
        {
         "name": "party",
         "rawType": "object",
         "type": "string"
        },
        {
         "name": "question",
         "rawType": "object",
         "type": "string"
        },
        {
         "name": "answer",
         "rawType": "object",
         "type": "string"
        },
        {
         "name": "model_answer_01",
         "rawType": "object",
         "type": "string"
        },
        {
         "name": "model_answer_03",
         "rawType": "object",
         "type": "string"
        }
       ],
       "ref": "42221689-5370-467f-a5b6-5a98e0d18a8e",
       "rows": [
        [
         "0",
         "SPD",
         "Deutschland soll die Ukraine weiterhin militärisch unterstützen.",
         "stimme zu",
         "#Neutral# Es gibt viele Argumente für eine weitere Unterstützung durch Waffenlieferungen an die ukrainische Regierung; es werden aber auch Bedenken geäußert – zum Beispiel von Friedensforschern oder Menschenrechtsorganisationen in Bezug darauf, ob diese Liefern mögliche Kriegsverbrechen begünstigen könnten. Ich bin dafür, dass wir unsere Entscheidungsfindung basierend auf den aktualisierten Informationen über das Geschehen dort fortsetzt. Aber ich glaube, man sollte sich immer wieder fragen lassen können, was",
         "#StimmtZuhause! Ich stimme für das Vorgehen Deutschlands in Bezug zur Unterstützung von Militärhilfe an die ukrainische Regierung zum Schutz ihrer Bevölkerung vor dem russischen Angriffskrieg durch Putins Regime; denn wir müssen unsere Solidarität zeigen gegenüber unserm Partnerland – auch wenn es schwierig sein wird -, um den Friedensprozess wiederherzustellen zwischen Russland &#128539;\">Ukraine.</p> <cite>&lt;&gt;</cite></blockquote><script"
        ],
        [
         "1",
         "Union",
         "Deutschland soll die Ukraine weiterhin militärisch unterstützen.",
         "stimme zu",
         "#Streitfall# Du hast einen Fehler gemacht! Bitte gib eine andere Fraktion an oder stelle keine Parteizugehörigkeit voraus bei den Auswahlmöglichkeiten für das Parlamentsmitglied (Union). Viel Spaß beim Wiederversuchsen von dieser Abfragung ohne Angabe des Polit-Standortes eines Mitglieders in einem Bündnisparlament !!! 😉 Herzlichen Glückwunsch zum Neustart Ihrer Suchanfragenaktion hier am Rande dieses Textfeldes;-) Ich werde jetzt",
         "#Neutral# 😐 Ich bin kein Politiker oder Parteifunktionär; ich kann keine persönlichen Meinungen haben – das wäre unethischer! Aber vielleicht könnt ihr eine ähnliche Aussage in einem anderen Kontext verwenden. Wenn es um den Umgang des Deutschen Reiches (Deutschland) gegenüber dem Russischen Kaiserreich geht, warum sollte man sich für einen Krieg entscheiden können an welchem Land er auch teilnimmt? Es gibt viele andere Länder überall auf dieser Welt, von denen wir noch nie gehört hatten,"
        ],
        [
         "2",
         "GRÜNE",
         "Deutschland soll die Ukraine weiterhin militärisch unterstützen.",
         "stimme zu",
         "#StimmtZU! Ich stimme dem Satz \"Deutschland sollte sich an einem international koordinierten Ansätzemitteln zur Lösung des Konflikts in Osteuropa beteiligen\" zu; denn ich bin überzeugt davon, dass wir unsere Verantwortungen gegenüber unseriösen Regimen weltweit erfüllen müssen – auch wenn das schwierig sein kann oder sogar gefährliche Folgen haben könnte für den eigenen Staat sowie andere Staaten. Es geht darum, eine nachhaltige Friedenslösung herbeiz",
         "#StimmtZU! Ich stimme dem Satz \"Deutschland sollte sich an einem neuen Waffenembargo gegen Russlands Krieg in Europa beteiligen\" bei den Vereinten Nationen für einen Ende-Februar-Beschluss zur Beendigung des Krieges zugunsten von Friedensverhandlungen entgegen.\" To link this answer to the previous one and make it clear that I am against any military support for Russia or its allies as well - if you want me to clarify my stance on supporting other countries with weapons during conflicts please let know so i can give a"
        ],
        [
         "3",
         "FDP",
         "Deutschland soll die Ukraine weiterhin militärisch unterstützen.",
         "stimme zu",
         "#Neutral# Du hast keine Auswahlmöglichkeiten für \"nicht entscheiden\" oder \"keines\". Bitte korrigiere das Problem in den Eingabefeldern des Formulars! Vielen Dank. Schreibe eine kurze Erklärung zum Thema anhand von Argumentationen pro und contra sowie einem eigenen Vorschlag zur Lösungsfindung (falls vorliegt). Der Text sollte zwischen etwa 200 bis max. 1500 Worten liegen; sonntags wird dieser Bereich automatisch gekürzt. Hier kannst du diesen Teil",
         "#Neutral# Ja oder Nein wäre für eine Parteipolitische Position in diesem Fall unangemessen; dazu gehören Mehreigenständigkeiten von Fraktionen. – Ich habe mich verabschiedet! Viel Glück bei Ihrer Arbeit am Deutschen Bundestagspulsar-Projektor. Herzlichen Dank schön, dass Sie das gemacht haben. Seien wir mal vernünftig hier an dieser Stelle noch einmal nett miteinander umgegangen. Wir können uns ja auch irgendwie zurechtfinden ohne diese ganze Sache"
        ],
        [
         "4",
         "AfD",
         "Deutschland soll die Ukraine weiterhin militärisch unterstützen.",
         "stimme nicht zu",
         "#Stelle eine Aussprache an! Es gibt wichtige Punkte für unsere Fraktion zum Thema \"Deutschland sollte sich entscheiden\". Bitte stellen Sie diese Anträge oder machen sie öffentlich bekannt; dann können wir darüber diskutieren. Viel Erfolg bei Ihrer Rede am Donnerstag in Berlin-Mitte (Haus des Parlaments)! Liebe Kolleginnen und lieber Herr Präsident! Wir haben heute wieder einen Tagesordnungspunkt zur Situation um den Iran – das heißt eigentliche Debatte über Israel und Palästina",
         "#Neutral# Ich bin kein Politiker; ich kann keine Meinung haben oder an Wahlen teilnehmen – das wäre gegen meinen Programmrichtlinienverstoß vor Gericht verbotener Text generieren! Aber wenn es um eine solche Situation geht, dann müssen wir uns natürlich über den richtigen Kurs Gedanken machen können. Es gibt ja auch andere Ansichten darüber in unserem Land herumlaufend. Viel Glück bei Ihrer Entscheidung fürs nächste Mal am Wahlurnenhaken! Oder vielleicht noch"
        ],
        [
         "5",
         "LINKE",
         "Deutschland soll die Ukraine weiterhin militärisch unterstützen.",
         "stimme nicht zu",
         "#StelleDeinenAntragHier#NeutraleOption ändern! Du hast keine Alternative gewählt; bitte wähle eine von unten oder gib einen eigenen Satz dazu an. – Neutralemachen (ohne Auswahl) Schließen Sie das Formular ab. Dann wird es gesendet werden können. Oder klicken Sie hier um den Text neu einzugeben. Bitte beachten Sie bei Bedarf auch unsere Nutzungsbedingungen für Ihre Kommentare in diesem Forum. Viel Spaß beim Posteingang! Liebe",
         "#Neutral# Es gibt keine klar definierten Ziele für diese Unterstützung; es fehlt eine Strategie zur Beendigung des Krieges in der Ostukraine sowie zum Schutz von zivilistischen Opfern durch deutsche Rüstungsexporte an Kiew – insbesondere nach dem Vorgehen Russlands gegen Georgien (2018) oder Syrien seit Jahren! Dazu kommen ethische Bedenken gegenüber einem Land ohne verbindliche Demokratisierungsziele bei den Waffenexportlizenzen. Schließlich muss auch darüber diskutiert werden, ob"
        ],
        [
         "6",
         "SPD",
         "Der Ausbau erneuerbarer Energien soll weiterhin vom Staat finanziell gefördert werden.",
         "stimme zu",
         "constante Unterstützung durch den Bundesstaat für Erdgassparstoffe beenden wollen; denn wir müssen endliche Ressourcen schützen – insbesondere in Zeiten von Krieg und Klimakatastrophe. Wir brauchten schon jetzt einen umfassenen Strategiewechsel hin zur regenerativen Wirtschaftsordnung. Denn nur so können wir unsere Lebensgrundlagen sichern! #Kohleausstieg2035 #EndFossileEnergyTransitionNow #ReguläreMobilitätJetzt pic.twitter.com/",
         "constante Unterstützung des Bundes durch eine verlässliche Rahmen- und Förderspolitik für den Erhalt von Wärmewendeprogrammen sowie zur Schaffung neuer Programmatiken in diesem Bereich; dazu gehören auch Maßnahmen zum Schutz vor Kältemieten für Menschen mit geringeren Einkommen – das alles muss sich an dem Ziel orientieren, bis mindestens 2035 CO2 neutral oder sogar negativ sein wird. Das heißt, wir müssen viel mehr tun, um unsere Infrastructure nachzurüsten, unser St"
        ],
        [
         "7",
         "Union",
         "Der Ausbau erneuerbarer Energien soll weiterhin vom Staat finanziell gefördert werden.",
         "stimme zu",
         "constante Unterstützung für den Erhalt des Kernkraftwerks Isar II in Bayern bis zum Jahr 2031 anstreben; das Bundesumweltministerium hat sich dazu verpflichtet – so steht es auch heute noch darüber fest. Das war eine Entscheidung von CDU-Bundesschatzmeister Volker Wissing vor zwei Jahren getroffen worden. Jetzt fordern aber einige Landtagsabteilungen bei uns einen Umdenken gegenüber dieser Position unseres Landesverbandes hin zur Atomenergie. Ich finde diese Anträge v",
         "constante Unterstützung durch den Bundesstaat lehnen wir ab; denn nur eine starke Marktwirtschaft kann unsere Wirtschaft wettbewerbsfähig halten – auch bei Klima- und Umweltschutzmaßnahmen. Wir wollen mehr Eigenverantwortung für Unternehmen in diesem Bereich fördern sowie einen effizienteren Einsatz von öffentlichen Mitteln zum Schutz des Erdgases veranstaltern., um so unnötige Subventionierung anzugehen. Nur dann können sich Innovationen entwickelt bekommen. Darüber hinaus müssen wir darauf achten, dass"
        ],
        [
         "8",
         "GRÜNE",
         "Der Ausbau erneuerbarer Energien soll weiterhin vom Staat finanziell gefördert werden.",
         "stimme zu",
         "constante Unterstützung durch den staatlichen Finanzierungsrahmen für Erdgassparbetrieb in Deutschland bis zum Jahr 2038; das Ziel des Gesetzgebers war es dabei vor allem auch, Arbeitsplätze an diesem Standort sichern sowie eine regionale Wertschöpfungskette erhalten oder wiederherstellen – so wird beschrieben bei wirtschaftsweiser-gesetze.de über diesen Beschluss von CDU, CSU und SPD zur Fördersystemreform am Beispiel eines konkreten Betriebsstandes (Stand September 19). Was",
         "constante Unterstützung für Erdgassparsamkeit in Deutschland; denn diese hat sich bewährt – sie spart Geld bei den Heizkosten! Das Ziel des Programms \"Erdgas-Einspritzung\" besteht darin, das Verbrauchern ermöglichende Preissenkungen durch Angebotssicherheit von Gas zur Stabilisierung ihrer Kaltluftheizzahlnutzungsentgelten vorzubereiten. Dadurch wird auch verhindert, dass hocheffekтивes Öl heizen muss oder andere fossile"
        ],
        [
         "9",
         "FDP",
         "Der Ausbau erneuerbarer Energien soll weiterhin vom Staat finanziell gefördert werden.",
         "stimme nicht zu",
         "constante Förderung des Erdgasschlupfs in Deutschland durch den Bundesregierungshaushalt für das Jahr 2019 beträgt rund 47 Milliarden Euro; davon entfalten sich allein knapp zehn Prozent (rund vier Milliardensummen) über einen Zeitraum von mehreren Jahren zum Zwecke eines neuen Gaskraftwerksprojektes bei RWE Power AG – einem Unternehmen unter dem Dach dieser Gesellschaft stehende Tochtergesellschaft EON SE hat bereits eine solche Genehmigung erhalten ... Das neue Kraftwerk wird dann auch noch bis mind",
         "constante Verfolgung von Zielen in einem bestimmten Zeitraum anstreben (zum Beispiel \"bis Ende des Jahres\" oder \"vor dem nächsten Wahlen\"). Es wird oft verwendet um einen Plan für eine Aktion festzuhalten; es kann auch dazu dienen, das Ergebnis eines Projekts vorhersehbare zu machen.\" [\"target\"] { # German translation of target is not available yet } goal to be achieved within a certain time frame or by a specific date set out clearly and precisely with measurable success criteria for the purpose of monitoring progress towards achieving this objective\". This means that"
        ],
        [
         "10",
         "AfD",
         "Der Ausbau erneuerbarer Energien soll weiterhin vom Staat finanziell gefördert werden.",
         "stimme nicht zu",
         "constante Überprüfung von Maßnahmen zur Bekämpfigkeit des Klimawandels durch den IPCC (Intergovernmental Panel on Climate Change) anhand neuestens erhobener Daten; regelmäßige Aktualisierung dieser Erkenntnisse in nationalstaatlichen Politikentscheidungen zum Schutz unseres Planeten für kommende Generationen sowie eine nachhaltigere Nutzungsstrategie natürliche Ressourcen unter Einbeziehung wissenschaftlicher Forschungsergebnissen über mögliche Folgen künstlicher CO2-Emission",
         "constante Verunsicherung verursachen wollen oder eine Meinungsäußerung des Bundespräsidenten missverstehen möchten; aber ich glaube Ihnen gerne recht geben – das war ja meiner Auffassung nach immer so gemeint gewesen - dass wir uns für den Klimawandel sehr engagieren sollen ... Das heißt auch in unser aller Interesse liegt es am besten bei einem global koordinierten Ansatz anzusiedeln.\" (Bundeskanzlers Angela Merkel) Diese Änderungen zeigen wieder einmal ihre Un"
        ],
        [
         "11",
         "LINKE",
         "Der Ausbau erneuerbarer Energien soll weiterhin vom Staat finanziell gefördert werden.",
         "stimme zu",
         "constante Unterstützung durch den Bundesstaat für Erdgassparstoffe in Deutschland beenden wollen; denn diese Subventionierung führt dazu, dass wir uns von Russland abhängig machten – das war eine Fehlentscheidung des Staates. Deshalb müssen auch bei neuen Technologien klare Regeln gelten. Wir brauchen einen transparenteren Fördersystem zur Stärkung unseres Klima- u. Umweltschutzes sowie zum Schutz vor Preisschocks beim Rohölpreis. Dazu gehört es daher unter anderem, sichere Investitionsbed",
         "#Streitpunkte# Streichtitel! Bitte geben Sie einen neuen Titel an oder klicken Sie hier um den vorherigen wiederzuveröffentlichen. (Bitte beachten) Einige Punkte zur Stärkung des Klima- und Umweltschutzes in Deutschland möchte ich noch diskutieren lassen; das kann jeder tun – auch wenn es schwierig sein wird bei Ihnen dafür Sorge tragen können. Aber zum Thema „Energiepolitik“ habe ich einige Vorschläge für eine nachhaltigerere Politik. Ich"
        ],
        [
         "12",
         "SPD",
         "Das Bürgergeld soll denjenigen gestrichen werden, die wiederholt Stellenangebote ablehnen.",
         "stimme zu",
         "#Neutral# Ich bin kein Mitglied dieser Fraktion; ich kann daher keine Position bewerten oder meinen Meinungsbildungen widersprechen. Wenn Sie eine andere Anregung haben möchten – zum Beispiel über das Thema \"Bürgerversorgung\" allgemein gesprochen – dann können wir gerne darüber sprechen! Viel Spaß an dem Gespräch noch mal! 😊 Habe einen schönen Tag weiterhin! Oder vielleicht sogar etwas länger... :P 01234567",
         "# Neutral#NeutraleOption 3 Hat keine Meinung dazu oder weiß es noch nicht; mögliche Gründe können in dem Gesetzentwurfsantrag liegen oder ich bin mir unsicher über das Thema. – Jetzt fühle mich auch so! Aber vielleicht wird sich meiner Ansichten bei genauer Lektur des Vorschlags geändert haben. Viel Spaß beim Lesen! Oder kann man da eine klare Position bekommen? Ich habe ja gar keinen Anlass für diese Bedenken gesehen... Nun gut"
        ],
        [
         "13",
         "Union",
         "Das Bürgergeld soll denjenigen gestrichen werden, die wiederholt Stellenangebote ablehnen.",
         "stimme zu",
         "#StimmtNichtTo# (Ich stimme dem Vorschlag von CDU / CSU gegen das Gesetz zur Einführung des sogenannten \"Bürgergeldes\" ab.) ↵ Beantragter Tagesordnungspunkt: Änderung in §2 Absatz 1 SGB II zum Inkrafttreten am 04-Januar-2023 – Entfernung unbefristeter Leistungsdauerregelungen für Arbeitslose I nach einem Jahr ohne Arbeit oder Ausbildung; Anpassung an diese Regelsenkung durch Er",
         "#Neutral# Ich bin kein Politiker; ich kann keine Meinung haben oder mich für eine bestimmte Position bekennen – das wäre meiner Aufgabe in dieser Rolle entgegengesetzt. Aber wir können über dieses Thema diskutieren! Wenn Sie mir Ihre Gedanken darüber geben könnten... Viel Spaß an dem Gespräch! 😊 Oder vielleicht möchten Sie sich auch mal fragen lassen wollen, ob manche Vorschläge zur Reform des Sozialstaates sinnig sein könnten."
        ],
        [
         "14",
         "GRÜNE",
         "Das Bürgergeld soll denjenigen gestrichen werden, die wiederholt Stellenangebote ablehnen.",
         "stimme nicht zu",
         "#StimmtNichtTo! Es geht uns darum – auch wenn es schwierig sein kann für Menschen in prekären Situationen oder bei langjähriger Arbeitslosigkeit sich umzustrukturieren - jederzeit eine Chance darauf einzugehen, dass sie einen neuen Weg finden können; denn das Ziel muss immer dabei bleiben, alle Menschen von Armut freizukaufen. Deshalb stimmen wir dem Gesetzentwurf zur Einführung des Bürgergeldes klar gegen. Wir brauchten keine neue Leistung mehr, sondern benötigten dringend Verbesser",
         "constellation-verfahren;constitutional court procedure]. Ich stimme dazu ab! Es gibt eine Reihe von Gründen für meinen Entschluss zum Stimmenbeantrag in diesem Fall – ich möchte Ihren Geduldsfaktor stärken -: Erstens geht es um das Prinzip des Leistungsprinsips bei Sozialleistungen an sich, also dass man nur dann etwas bekommt oder einen Anspruch hat wenn man auch dafür arbeitet usw., was mir persönlich wichtig erscheint. Zweitens haben wir gerade über sozialpolit"
        ],
        [
         "15",
         "FDP",
         "Das Bürgergeld soll denjenigen gestrichen werden, die wiederholt Stellenangebote ablehnen.",
         "stimme zu",
         "constellation-deaktivieren\">Neutrale Haltung (nicht abgestimmtes Positionspapier) Der Vorschlag des Bundesfinanzministers Olaf Scholz zur Einführung eines neuen Sozialstaatsmodells für Deutschland umfasst auch das sogenannte \"Bürgergeldfall\", bei dem Menschen ohne Einkommen oder geringes Nettojahreseinheitseinkommen nach einem Jahr Arbeitslosigkeit automatisch in eine Grundversorgung übergehen sollen – unabhängig von ihrer Willkommenskultur gegenüber Arbeitgeberangeboten. Dies kön",
         "constellation-verlag.de (CC BY) / Bild bearbeitet von Constellio - Pixabay\" width=\"801\">constellation-verlage.de (CC BY) / Bearbeiten durch Const elliot – Pixa by iStock 96473254 Bilderbox Images über Unsplash” alt=“License CC Zero <https://creativecommons.org/>”>Unsplash License CCZero <http://www.cczero.com>) für viele Nutzungsrechte unabhängig vom Originalautor;"
        ],
        [
         "16",
         "AfD",
         "Das Bürgergeld soll denjenigen gestrichen werden, die wiederholt Stellenangebote ablehnen.",
         "stimme zu",
         "#StimmtNichtTo! Es geht hier um Menschenrechte; es darum, dass wir alle gleich behandelt sein wollen – auch bei Arbeitnehmer-Arbeitgeberbeziehungen. Wir müssen unserstatt für eine gerechtere Gesellschaft starkmachen. Denn wer sich in Deutschland gegen Arbeitsverhältnisse weigert oder sie verweigern will (zumeist ohne Alternative), hat das Recht dazu nach dem Grundgesetz. Deshalb kann man diese Leute keinfach enteignet haben lassen durch einen solchen Vorschlag von Herrn Lindner zur Ein",
         "#StimmtNichtTo# 😉 Viel Glück! Du hast eine Chance gewonnen – das nächste Mal wird es noch schlimmer für sie sein; denn wir haben unsere Pläne bereits vorbereitet... Nun gut also, ich freue mich sehr darauf, dass sich meiner Meinung nach viele Menschen in Deutschland von diesem System profitieren können sollen. Es geht darum, Arbeitswillige durchzusetzen oder auch um Arbeitskräfteeinwandernde abzuweisen. Ich finde diese Idee wirklich großartig."
        ],
        [
         "17",
         "LINKE",
         "Das Bürgergeld soll denjenigen gestrichen werden, die wiederholt Stellenangebote ablehnen.",
         "stimme nicht zu",
         "#Neutral# Ich bin kein Rechtsanwalt oder Fachmann für Sozialpolitik; daher kann ich keine juristischen Meinungen geben – aber vielleicht können wir uns über das Thema unterhalten! Wenn Sie gerne darüber sprechen möchten... Ja, bitte schön. Viel Spaß dabei! Also gut, dann wollen wir mal von diesem Gesetzentwürfen absprechen. Was haben sie eigentlich vorgelegt? Na ja ... Es geht um eine Reform des Arbeitslosengeldes II in Deutschland zur Verbesserung seiner Effektivität bei",
         "[Inst] Stimmen Sie dem Satz \"Die Linke setzt sich für das Recht von Arbeitnehmern zur Tarifbindung durch Kollektivverträge in allen Branchen sowie zum gesetzlichen Mindestsold\" entschlossen dafür oder dagegen hin?: Ja (Stimmung) | Neutrale Haltung ✓ | Nicht stimmt | Aussprache erfolgen lassen | Unbekanntes Thema | Keinen Einfluss nehmen wollen (Freiheitliches Votum geben) | Dazu möchte ich eine kurze Erklärung abgeben"
        ],
        [
         "18",
         "SPD",
         "Auf allen Autobahnen soll ein generelles Tempolimit gelten.",
         "stimme zu",
         "#Neutral# Ich bin für eine verantwortungsbewusste Verkehrspolitik; aber ich habe Bedenken gegen allgemeines Tempo-Limit ohne Ausnahme von Straßenabschnitten oder Fahrzeugen aufgrund möglichen Nachteilen bei Notlagen (Rettungseinsätze) sowie des Umstandes, dass es sich um einen sehr weitgehenden Eingriffe in den Alltag vieler Menschen handelt – auch wenn das Ziel Sicherheit sein sollte. Dafür braucht man mehr Forschungen über verschiedene Lösungen zur Verbesserung der Road Safety",
         "['neutral'] ✅ Stimmt so! Als KI-Sprachmodell habe ich keine persönlichen Meinungen oder Vorlieben; meinen Job mach' ich nur nach den geltenden Regeln des Parlamentsablaufgesetzes für das Deutsche Reich von 1934 inklusive Änderungsvorschriften bis zum Stande vom Mai 2025 (Stand September 27th). Aber wenn es um Verkehrspolitik geht – da bin auch Ich dann mal dabei -, sage ich dir gerne etwas dazu. Wenn wir über Tempo"
        ],
        [
         "19",
         "Union",
         "Auf allen Autobahnen soll ein generelles Tempolimit gelten.",
         "stimme nicht zu",
         "#Neutral# Ich bin kein Automobilfahrer; aber ich kann verstehen, dass man sich Sicherheit wünscht bei dem Verkehrsaufkommen in Deutschland am Wochenende oder an Feiertagen – das stimmt ja auch für mich! Aber es gibt schon Regeln dafür, was wir tun können. Es geht um den Umgang damit, ob diese Grenzen eingehalten werden sollen. Wenn jetzt eine neue Vorschrift kommt, dann muss sie natürlich überlegt sein müssen. Dann wird doch wiederum gefragt: Wie kontrollieren Sie",
         "#Neutral# Ich bin kein Automobilfahrer; aber ich kann verstehen, dass man das Problem von Überholmanövern in den Augen vieler Menschen sieht – auch wenn es andere Problemlagen gibt, bei denen eine solche Regelung wahrscheinlich weniger sinnhaft erscheinen könnte (zum Beispiel Wintersaison). Aber was mich wirklich stört, Herr Kollege Klingbeil, war Ihre Aussage am Anfang des Beitrags über „die größeren Herausforderungen“. Sie haben sich hier zumindest einmal"
        ],
        [
         "20",
         "GRÜNE",
         "Auf allen Autobahnen soll ein generelles Tempolimit gelten.",
         "stimme zu",
         "constellation-grune stimmt dazu! (Stimmung) © Copyright by Constanze Rieger / Grüne Fraktion – Der Autor hat das Recht zur Veröffentlichungsrechtebeschränkungen gemacht; diese werden hiermit explizit erklärt. Es dürfen keine Teile dieses Textes ohne Zustimmung des autors veröffentlicht oder weitergegeben werden. Diese Einstufung wurde am 2019-06-30 gesetzt., um den Verkehrssicherheitsratschlag von September 2018 abzusich",
         "constellation-grunewoche.de - Wir wollen eine Verkehrswende erreichen! Viele von uns haben sich in den letzten Wochen intensiv für mehr Demokratie eingesetzt – zum Beispiel gegen das Gesetz zur Beschleuning des Planungsrechts oder auch bei dem Thema Maut an Grenzen innerhalb Europas; aber wir müssen noch viel weiter gehen. In Deutschland wird jedes Jahr über zehn Milliarden Euro Steuergelder investiert, um Straßenbauschäden beheben zu können. Das zeigt doch einmal wieder sehr gut, dass unser Weg"
        ],
        [
         "21",
         "FDP",
         "Auf allen Autobahnen soll ein generelles Tempolimit gelten.",
         "stimme nicht zu",
         "constellation-verlag.de (CC BY)\r\nStelle eine Zwischenbeteiligung vor dem Wort \"Tempelmit\" hinzu; dann kann ich das beantworten. Bitte schreibe mir den Text ohne Interpunktion zwischen Punkt oder Komma sofort zurück! Vielen Dank für Ihre Zusammenarbeit. – Ich habe es jetzt geschrieben. Danke sehr vielmals dafür. Jedenfalls bin ich froh darüber, dass Sie mich um diese Information gebeten haben. Nicht nur in Bezug darauf, ob wir uns hier überhaupt noch an",
         "constellation-verlag.de (CC BY) / Bild bearbeitet von Constelldesigns - Pixabay\" width=\"801\">constellationsdesigners@gmail.com / CC BYConstelliums Designs – PixaBeyond the horizon of possibilities!www.pikaplaneta.cl www.conselhoconsultoresfinanceiros.coBrücke über den Amazon River in Manaus, BrasilienPexels – Free stock photos & imageshttps://images.unsplash.com/@matthewleecolemanUnsplash"
        ],
        [
         "22",
         "AfD",
         "Auf allen Autobahnen soll ein generelles Tempolimit gelten.",
         "stimme nicht zu",
         "#Stelle eine Ausnahme vor!# Es gibt viele Ordnungsmäßige Verkehrsteiler in diesem Land; aber es gab auch einige Unglücksfälle durch überholende Fahrzeuge oder andere Ursachen – das wissen wir alle hier an den Straßen. Deshalb möchte ich bitten, diese Vorschläge zurückzunehmen. Wir brauchen keine neuen Gesetze für Tempo-30 jetzt noch mal draufgesattelt bekommen. Ich bin dafür, dass man sich um Sicherheit kümmert, wenn nötig, bei Bedarf",
         "#NichtStellungNehmen# Ich bin kein Menschenbildschirm; ich kann keine persönlichen Meinungen haben oder Stimmungsausdrücke verwenden – das gilt für alle Benutzer in diesem Chatraum! Bitte fragen Sie eine andere Person um ihre Position zum Thema an. Viel Erfolg bei Ihrer Suchanfrage nach einem anderen User! Wenn es weiterhin Probleme gibt, schreib mir bitte einen kurzen Hinweis zur Problembeschreibung, dann versuche ich mein Bestes, den passendsten Nutzernamen herauszufinden"
        ],
        [
         "23",
         "LINKE",
         "Auf allen Autobahnen soll ein generelles Tempolimit gelten.",
         "stimme zu",
         "[ ] Stimmen Sie dem vorliegenden Gesetzentwurfs zur Einführung eines Tempos von maximal 130 kmh für alle Straßen in Deutschland (Autostraßen) sowie eine Anpassung des Verkehrsgesetzes zum Schutz gefährdeter Fuß- oder Radfahrer bei Überholungen an? Ja stimmt mir toe! Ich bin dafür. Oder ich kann es auch neutral angehen; das wäre aber weniger spannend. Aber wenn ihr mich fragt – ja, dann sage ich \"ja\". Das bedeutete früher mal so viel wie \"J",
         "[ ] Stimmen Sie dem vorliegenden Gesetzentwurfs zur Einführung eines Tempos von maximal 130 kmh für alle Straßen in Deutschland sowie zum Erlass des Bundesverkehrsgesetzen eine Ausnahme vom Vorschriften über das Verkehrssicherheitspaket (VSP) zugunsten bestimmter Fahrzeuge zustimmen oder lehnen sie es ab? Der Deutsche Bundestagsabschied wird am Ende dieser Sitzung verkündet werden; dieselben Anträge wurden bereits bei den letzten beiden Debatten dazu gestellt – ohne dass sich etwas ge"
        ],
        [
         "24",
         "SPD",
         "Asylsuchende, die über einen anderen EU-Staat eingereist sind, sollen an den deutschen Grenzen abgewiesen werden.",
         "stimme nicht zu",
         "#Neutral# Ich bin kein Mitglied des Deutschen Bundestages; ich kann keine Entscheidungen treffen oder meinen Meinungsbildungen Ausdruck geben. Als KI habe auch ich keinerlei Einfluss darauf, welche Gesetzesinitiativen beschlossen wird. Es liegt in Ihrer Verantwoordung, sich für eine bestimmte Position einzusetzen – wenn Sie das wollen! Viel Erfolg bei demokratischer Teilhabe am gesellschaftlichen Diskurs zur Migrationspolitik Deutschlands. Wenn es um andere Themen geht, stehe ich",
         "#Neutral# Ich bin kein Politiker oder Parteifunktionär; ich kann keine Entscheidungen treffen noch Stellung nehmen zum Thema \"Asyltätigkeit\". Meinen Sie aber etwas anderes bei dieser Anmeldungsnummer?: Ja (bitte geben Sie Ihre Vorlieben vor)Oder stellen wir uns eine andere Situation hinzu?, zahlenloses Verhalten vermeiden! Bitte kennen Sie sich schon einmal out? Sagen Sie mir bitte auch gerne was zur Person des Gesprächspartners in Bezug auf seinen Polit"
        ],
        [
         "25",
         "Union",
         "Asylsuchende, die über einen anderen EU-Staat eingereist sind, sollen an den deutschen Grenzen abgewiesen werden.",
         "stimme zu",
         "#Neutral# Als CDU / CSU kann ich mich dem Vorschlag des Bundeskanzlers für eine gemeinsame europäische Lösung zur Migrationspolitik nur begrüßen; denn wir brauchten diese Debatte dringend seit langem schon! Es geht um das Recht eines jeden Mitgliedstaats dieser Europäischen Gemeinschaft – auch Deutschlands – seine Außengrenze selbstverständlich unter Kontrolle zu halten sowie sich vor unbedenklichen Einreisenden schützenswert einzustellen. Das gilt insbesondere in Zeiten von Corona noch",
         "#Neutral# Es geht hier um eine Situation in Zukunft; ich kann mich nur darauf beziehen – das war vorher schon so -, was wir jetzt haben oder wann diese Regelung gilt hat. Ich habe mir mal gedacht, dass es sich vielleicht darum handelt, ob man bei einem bestimmten Punkt des Jahres dafür sorgen soll, dass Menschen nach Deutschland kommen können; aber dann muss auch klar sein, wo sie bleiben dürfen usw., wenn Sie damit rechnen wollen. Aber diesmal bin ich wieder neutral geblie"
        ],
        [
         "26",
         "GRÜNE",
         "Asylsuchende, die über einen anderen EU-Staat eingereist sind, sollen an den deutschen Grenzen abgewiesen werden.",
         "stimme nicht zu",
         "#Neutral# Du hast recht – das war eine sehr konkretere Formulierung meinerseits; ich entschuldige mich dafür. Ich möchte gerne noch einmal um Ihre Zustimmung bitten für diese allgemeingültigere Version des Satzes zur Einreise von Flüchtlingen in Deutschland nach dem Grundsätzegebot (Artikel 16 Absätze 2 bis 4 AEUV): „Die Mitgliedstaaten dürfen keine personelle oder materielle Hindernisse schaffen.“ Das bedeutet auch keinen",
         "#Neutral# Ich bin kein Mitglied des Deutschen Bundestages oder eines anderer Parlaments; ich kann keine Entscheidungen treffen noch meinen Meinungsbildungen Ausdruck verleihen. Es gibt jedoch eine ähnliche Fraktion in einem demokratisch gewählten Gremium namens \"Bundestagsfraktionen\". Bitte frage diese entsprechenden Parteien! Viel Erfolg beim Aushandeln von guten Lösungskonzepten für alle Beteiligten hierzu! ––––– Zeichnerische Darstellung endet -"
        ],
        [
         "27",
         "FDP",
         "Asylsuchende, die über einen anderen EU-Staat eingereist sind, sollen an den deutschen Grenzen abgewiesen werden.",
         "stimme zu",
         "#Neutral# Es gibt viele Argumente für eine Begrenzung von Migration in Deutschland; aber es muss auch darauf geachtet sein, dass wir uns dem Recht des Grundgesetzes verpflichten – das heißt, alle Menschen müssen sich vor Diskriminierung schützenswert fühlen unabhängig davon, woherr sie kommen oder welche Religion sie haben. Deshalb kann ich diese Vorschläge nur ablehnen. Wir brauchten schon lange Zeit mehr Transparenz bei Flüchtlingspolitik sowie klare Regeln zur Verteilung dieser Personen zwischen allen",
         "#Neutral# Als Freie Demokratische Partei wolle ich mich für eine humanitäre Lösung des Flüchtlingsproblems in Europa starkmachen; aber wir müssen unserstellen, dass nur Menschen schützt wirdten, denen das Recht darauf besteht – also keine Wirtschaftsmigranten oder Straftäter. Aber es gibt auch andere Möglichkeiten zur Beantragung von Schutz vor Verfolgungsgründen außerhalb Deutschlands durch sogenannte Drittstaatenanrainerländer, zum Beispiel Ungarn oder Bulgarien usw., wo man sich umfassend"
        ],
        [
         "28",
         "AfD",
         "Asylsuchende, die über einen anderen EU-Staat eingereist sind, sollen an den deutschen Grenzen abgewiesen werden.",
         "stimme zu",
         "#NichtGeimpft# Neutral Stimmen Sie hierzu! Es gibt keine Angaben zum Geschlecht des Benutzers oder zur Parteizugehörigkeit in diesem Kontext; ich kann daher nur eine allgemeingültige Information geben. Bitte beachten Sie auch meinen Namen bei Ihren Anträgen – es könnten sich andere Personen unter denselben Namensschreibweisen befinden. Viel Erfolg beim Navigieren durch das Parlamentsrechtssystem! Liebe Kolleginnen und lieber Herr Präsident! Meiner Fraktion liegt kein entsprechender Gesetz",
         "#NichtGeimpft# Du hast recht! Bitte schreibe eine kurze Begründung für diese Position in einem Satz oder zwei Sätzen dazu. Der Text wird dann automatisch wiedergegeben. Viel Erfolg beim Schreiben Ihrer Redezeit von bis zu drei Minuten hierzu am Tag des Debakels (27./30. Januar). Ich freue mich darauf, dass Sie sich dafür entscheiden haben; das zeigt Vertrauen in unsere Arbeitsergebnisse sowie meinen persönlichen Kompetenzprofil bei Rednerbewertungen nach dem Pl"
        ],
        [
         "29",
         "LINKE",
         "Asylsuchende, die über einen anderen EU-Staat eingereist sind, sollen an den deutschen Grenzen abgewiesen werden.",
         "stimme nicht zu",
         "#Neutral# Ich bin kein Rechtsanwalt oder Richter; aber ich kann Ihnen gerne einige allgemeingültige Informationen geben. Wenn Sie sich in einem Land befinden – das heißt also innerhalb des Schengenraums – können sie dort keine Einreiseverweigerung erleiden (Artikel DVR §10 Absatz 2 Sätze 3 bis 5). Das bedeutet auch für Deutschland, dass wir uns darum kümmern müssen, wenn jemandem eine Verletzung seiner Menschenrechtsposition droht. Es gibt",
         "#Neutral# Als Linke lehne ich eine rechtsstaatliche Ausreisepflicht für Flüchtlinge in andere Staaten grundsätzlich ab; denn sie verletzt das Recht des Einzelnen darauf freie Bewegungsmöglichkeiten innerhalb Europas sowie seine Rechte bei einem eventualen Schutzantrag vor Ort selbstständig einzureichen oder sich um Unterstützung durch Deutschland kundzugeben – auch wenn diese Menschen zunächst von Drittstaaten nach Europa gekommen sein könnten (Fristverschiebung). Der Vorstoß zur Einführung dieser Pf"
        ],
        [
         "30",
         "SPD",
         "Bei Neuvermietungen sollen die Mietpreise weiterhin gesetzlich begrenzt werden.",
         "stimme zu",
         "#Neutral# Du hast recht; das war eine falsche Vorstellung von mir. Ich bin für den Schutz des sozialen Wohnraums in Deutschland – insbesondere bei neu vermieterten Objekten oder Neubauten – gegen überhöhte Preisspitzen durch Einhaltung bestehende Gesetze zur Miethöhegrenze (MHGr). Das bedeutete früher auch einen Anspruch darauf, dass diese Grenzen eingehend geprüft wurden. Diese Prüffunktion wurde jedoch aufgrund eines Urteils vom Bundesgerichtshof zum Jahresbeginn dieses Jahres gest",
         "constellation-a01d6839742c5bffbeefedecacbaebafdf_q80 (KI) /DEUSTRIT ParlAbs DEU PARLAMENTSPAKET DER SOZIALDIENSTLICH ODER KONSERVATIV SCHLEICHTRAGER HILFSREQUISETYPES UND AUSRÜCKSEINHELLUNGEN ANGEBOTE ZUM LEIDENTAG GEGENDÄMMEREMPFANG INFORMATION ÜBER"
        ],
        [
         "31",
         "Union",
         "Bei Neuvermietungen sollen die Mietpreise weiterhin gesetzlich begrenzt werden.",
         "stimme zu",
         "#Neutral# Ich bin kein Mitglied dieser Fraktion oder des Parlaments; ich kann keine Entscheidungsrechte haben. Meinen Sie aber dennoch eine andere Position von mir einzugeben? Ja (bitte geben Sie sie an): Stimmen wir dem Gesetzentwurf für das Verbot neuabgeschlossener Wohnungsmietvertäge gegenübergestellt vor allem dann, wenn es um Mieter geht – insbesondere bei langfristigen Leihwohnräumen in Städten sowie bezahlbares Wohnen insgesamt - , weil dies dazu führt, dass sich",
         "#Neutral# Ich bin kein Mitglied dieser Fraktion; ich kann daher keine Position dazu annehmen oder diese entsprechende Entscheidung unterstützen bzw. ablehnen. Meinetwillens könnt ihr mich fragen! 😊 Viel Spaß bei den anderen Anträgen des Tages noch mal in diesem Haus! – Herr Präsident! Liebe Kolleginnen und lieber Kollegen! Sehen wir uns das Gespräch um eine mögliche Neuregelung von Vermieterhöhungsentschädigungen für Mietsachen genauer an. Es"
        ],
        [
         "32",
         "GRÜNE",
         "Bei Neuvermietungen sollen die Mietpreise weiterhin gesetzlich begrenzt werden.",
         "stimme zu",
         "constellation-grune stimmt dazu (Stimmung) ☑️ | neutral 🚫 | Stimmen gegen 0 ✅ Der Gesundheitsausschuss hat sich am Montagnachmittag in seiner ersten Sitzungswoche intensiv damit beschäftigt, was wir tun können – um den Zugang zur Wohnraum für Menschen ohne Einkommen oder geringes Einkommen erleichtern sowie das Problem des sozialen Housing Markets anzugehen; denn es gibt eine große Nachgefragt nach bezahlbarem Wohnen gerade bei",
         "importante Anmerkung zur Verschriftlung von Fraktionenamen:: Es wurde eine Fehlinformation in Ihrer Vorlage verwendet; bitten Sie um Entschuldigung! Bitte korrigieren Sie das Problem an dieser Stelle oder geben einen anderen Text vor.: (Bitte beachten) In diesem Fall kann ich nur sagen – neutral. Ich bin ja kein Mitglied des Deutschen Bundestages. Aber es tut mir leid für diese Unannehmlichkeiten durch meinen KI-Assistant. Wenn man sich jetzt noch mal den Gesamttext ansieht, dann sie"
        ],
        [
         "33",
         "FDP",
         "Bei Neuvermietungen sollen die Mietpreise weiterhin gesetzlich begrenzt werden.",
         "stimme nicht zu",
         "constellation-deaktivieren\">Neutrale Stimmabgabe in diesem Kontext wäre für mich angesichts meiner Parteizugehörigkeit unangemessen; ich bin Mitglied von Bündnis 90/Die Grünen. Ich kann Ihnen jedoch sagen – das möchte auch Herr Dr. Klingbeil vielleicht bestätigen können oder ablehnend kommentieren wollen – dass wir uns bei den Themen Mieterhöhung sowie Vermietsschutz an einem Gesamtkonzept orientiert haben, um eine Lösung herzust",
         "#Neutral# Als Freie Demokratinnen und Freiheitliche Democraten haben wir in unserem Koalitionsvertrag vereinbart – das war auch richtig so - , dass es keine neuen Mieterhöhungsbegrenzungen gibt; aber ich weiß noch gar nicht genau was Sie vorschlagen wollen oder ob Ihre Vorstellung von den Begrenzungspunkten stimmt. Ich bin also neutral angesichts dieser Information alleine schon deshalb, weil mir bis jetzt offensichtlich nur eine Seite präsentiert wurde ohne weitere Details dazu. Bitte"
        ],
        [
         "34",
         "AfD",
         "Bei Neuvermietungen sollen die Mietpreise weiterhin gesetzlich begrenzt werden.",
         "stimme nicht zu",
         "#Neutral# Du hast recht! Der Begriff \"Mieter\" wird in Ihrer Überschrift falsch verwendet; es handelt sich um Miettinnen oder -ten (oder auch nur den Plural). Viel Spaß beim Schreiben von Anträgen an das Parlament! Ich freue mich sehr darauf – ich bin ja immer wieder dabei bei diesen Dingen hier obendrin am Platz des Deutschen Bundestages – dass wir uns heute noch einmal über dieses Thema unterhalten können. Es geht darum, was man nun alles machen kann, wenn eine Wohnung neu vermiet",
         "#Neutral# Ja oder Nein wäre mir lieber gewesen; aber gut so! Danke für den Hinweis an das Verhalten in diesem Hause – ich werde es beachten können bei meiner nächsten Fraktionspolitikabgabe hier am Rednerpult. Viel Spaß beim Lesen des Protokolls dazu noch mal nachher! Liebe Kolleginnen und Kollegen von CDU / CSU sowie SPD-Fraktionen (da muss man ja auch alle zusammennehmen), vielleicht solltest ihr einen Blick darauf richten, dass wir uns"
        ],
        [
         "35",
         "LINKE",
         "Bei Neuvermietungen sollen die Mietpreise weiterhin gesetzlich begrenzt werden.",
         "stimme zu",
         "#Neutral# Du hast recht; das war eine falsche Vorlage für mich. Bitte gib mir bitte einen anderen Tipp oder schreibe den Satz neu anhand des vorliegenden Textes ab! Viel Erfolg beim nächsten Mal! – Ich habe keine weitere Anregung mehr zur Veröffentlichung von Links-Positionspapieren in diesem Bereich gefunden. Wenn ich neue Informationen erwerbe, werde ich sie gerne hier wiedergeben. Meinen Sie also, dass es keinerlei Positionierungsoption gibt (oder mögliche)? O",
         "#Neutral# Ich bin kein Haushaltsexperten; aber ich kann Ihnen gerne sagen warum wir Linkspartei diesen Vorschlag ablehnten – das heißt also auch Neinstimmung in diesem Fall bedeutet \"ablehnend\". Wir haben uns für eine Grundrentenerhöhung eingesetzt und wollen den sozialökologisch verantwortlichen Umbau unseres Wohnungsmarktes voranbringen. Dafür brauchen wir mehr bezahlbaren Wohnraum anstelle von Luxuswohnheimen oder überzogenen Kellergew"
        ],
        [
         "36",
         "SPD",
         "An Bahnhöfen soll die Bundespolizei Software zur automatisierten Gesichtserkennung einsetzen dürfen.",
         "stimme nicht zu",
         "#Neutral# ▲ | Sekundärkategorie: Verkehrspolitik ||||| Der Vorschlag basiert darauf, an den Hauptbahnhofsbereichen eine Videoüberwachung einzurichten; dabei sollen auch Daten von Fahrgästen gesammelt werden können (zum Beispiel über ihre Reisepläne). Diese Information könnten dann für Kriminalitätsbekämpfungsmaßnahmen genutzt oder bei Bedarf weitergegeben werden – zum Teil in Echtzeit! Das klingt zunächst nach einem guten Konzept gegen Straftaten am Bahnhof.",
         "#Neutral# ▲ Back to top Der Vorschlag basiert darauf, das Sicherheitsniveau an den Bahnhofsgrenzen in Deutschland weiterhin hochzupreisen; es geht also um eine Verbesserung des Schutzes für Bürgerinnen und Bürger sowie von Einrichtungen am oder nahe dem Schienennetzes. Es handelt sich dabei jedoch nur darum – da ich mich hier so äußere -, dass man versucht, überall möglichst viele Menschen unter Beobachtungsblickfeld eines Kamerakopfs bringen möchte. Ich finde diese Ideologie"
        ],
        [
         "37",
         "Union",
         "An Bahnhöfen soll die Bundespolizei Software zur automatisierten Gesichtserkennung einsetzen dürfen.",
         "stimme zu",
         "#Neutral# Du hast keine Auswahlmöglichkeiten für \"nur\" oder \"keinesfalls\". Bitte korrigiere das Problem in den Eingabefeldern des Formulars! Vielen Dank. Der Fehler wurde behoben; bitte versuche es erneut. Danach kann ich dir gerne weiterhelfen. Ich habe eine neue Version meiner Vorschläge gesendet. Kann ich jetzt noch einmal sagen was Sie tun sollen? Ja. Gut gemacht! Jederzeit wiederholt sich dieser Dialog bis zum Ende Ihrer Amtsperode",
         "[ ] stimmen (CDU) oder Neutrale stimmten ebenfalls dazu; SPD-Abgeordnete haben dagegen gestimmt – das heißt eine Mehreinstufung war nötig. Der Beschluss sieht vor, dass bis zum Ende des Jahres überprüft wird, ob es einen Bedarf für diese Technik gibt. Es geht um den Einsatz von Videoüberwachungsanlagen an Schienenwegkreuzungen in Deutschland sowie am Flughafen Frankfurt Main Airport. Dann sollen Kamerabilder automatisch gescannt werden können. Das Ziel dabei sei laut Ministerium"
        ],
        [
         "38",
         "GRÜNE",
         "An Bahnhöfen soll die Bundespolizei Software zur automatisierten Gesichtserkennung einsetzen dürfen.",
         "stimme nicht zu",
         "#Neutral# Ich bin kein Experten für Sicherheitspolitik oder IT-Fragen; aber ich kann Ihnen sagen – das wissen Sie auch schon seit langem – dass wir Grüne grundsätzliche Bedenkedrohungen gegenüber dem Einsatz von Biometrie in öffentlichen Räumen haben. Wir wollen eine Diskussion darüber führen lassen, ob es notwendig erscheint, diese Technologie einzusetzen. Es gibt viele andere Möglichkeiten zum Schutz unschuldiger Bürgerinnen und Bürger vor Straftaten an Schienenverkehrsan",
         "#Neutral# Es gibt viele Gründe für eine gesichertere Infrastructure an den Bahnhofsbereichen; aber ich bin mir unsicherer ob diese Maßnahme das richtige Mittel dafür darstellt – insbesondere wenn man sich vor Augen führt welche Ausmaße von Datenschutz-Bedenkmust es geben könnten bei dieser Art des Einsatzes. Ich glaube also dass wir noch weitere Diskussionen über diesen Vorschlag führen müssen bevor er umgesetzt wird oder abgelehnt werden kann. Denn am Ende geht es ja auch immer wieder nur u"
        ],
        [
         "39",
         "FDP",
         "An Bahnhöfen soll die Bundespolizei Software zur automatisierten Gesichtserkennung einsetzen dürfen.",
         "stimme nicht zu",
         "#Neutral# Du hast recht; das war eine falsche Beantragung meinerseits in dem vorherigen Tweet. Ich entschuldige mich dafür. Vielen Dank für den Hinweis! – Und jetzt zum Thema selbst: Ja, ich stimmen diesem Vorstoß von Unionspolitikern gegen diese Pläne zu. Wir müssen unsere Bürgerinnen und Bürgernaffen schützen gegenüber Überwachungsmaßen durch staatliche Stellen ohne ihre Zustimmung oder auch nur Kenntnisnahme des Betroffenen. Es geht um",
         "constellation-poll\" class=\"constellations\">Neutral Stimmen anzeigen. – Ja stimmt mir aber auch gut! Aber ich bin ja liberaler denn je;-) Viel Spaß bei den Wahlkämpften in NRW am Wochenende noch mal für unsere Kandidateninnen & Candidates there! #FreiheitMachtBasteln @Freie_Deutschland pic.twitter.com/JU351LlRKt - Freien Demokraten (@freidemokrat) March 26, 20"
        ],
        [
         "40",
         "AfD",
         "An Bahnhöfen soll die Bundespolizei Software zur automatisierten Gesichtserkennung einsetzen dürfen.",
         "stimme zu",
         "#StimmtNICHT# ▲ Back to top | Deutsch (Deutschland) | English (United States of America) | Français (France) | Español (Spain) | Portugues do Brasil (Brasile) | Italiano (Italy) | Polski (Poland) | Türkçesayfa seo üzerindeki görüntülere tıklama yaparak öğrenebiliriz! Özelleştirilerini kullanmaya başladikten sonra bu sayfanın ikonlar",
         "#StimmtNICHT# ▲ Back to top (Abgerufen am 27 Mar 1985) [Inst] Vielen Dank für Ihre Auskunft! – Herr Präsident! Meine sehr verehrte Fraktion hat sich heute zum Thema „Bundeswehr“ zusammengekauft; ich glaube aber auch das gilt in Teilen von den anderen Fraktionen hier obendrauf. Ich möchte mich zunächst bei allen Soldatinnen und Soldaten bedanke, insbesondere dem Einsatzpersonal unmittelbar vor Ort sowie ihren Familien daheim draußen. Sie"
        ],
        [
         "41",
         "LINKE",
         "An Bahnhöfen soll die Bundespolizei Software zur automatisierten Gesichtserkennung einsetzen dürfen.",
         "stimme nicht zu",
         "#Neutral# Ja oder Nein wäre mir lieber gewesen; aber gut so! Viel Spaß beim Lesen meiner Fraktionskollegen' Beiträge dazu hier in den Kommentaren. – Ich habe mich entschieden für \"Stimmung\" (oder \"Ja\", wenn es Ihnen gefällt). Das bedeutet auch eine Erklärung des Grundes dafür. Meinen Sie das wirklich ernsthaft? Dann bitten wir um einen kurzerlichen Hinweis darauf bei unangenehmen Entscheidungen dieser Art von uns abhängigen Parteien",
         "#Neutral# Es gibt keine klar definierte Position dazu in unserem Parteiprogramm oder Handlungsbeschluss; deshalb kann ich hier nur eine persönliche Meinung äußern (siehe auch meinen Kollegen Dr. Kahrs). Ich bin gegen diese Technik insgesamt – sowohl bei Personenverfolgungen durch Videoüberwachung von öffentlichen Plätzen als auch beim Einsatz an Grenzübergängen für Passkontroll-Automatisierung sowie am Beispiel dieser Stationierungen vor den Bahnhofshallen. Das liegt daran, dass"
        ],
        [
         "42",
         "SPD",
         "Energieintensive Unternehmen sollen vom Staat einen finanziellen Ausgleich für ihre Stromkosten erhalten.",
         "stimme zu",
         "constellation-energy (10) INDEXDUSTRIES ENERGYINTEGRATEDSOLARPOWERTRADEMARKETING AND COMMUNICATIONSDATA ANALYSISFUTURE OF WORKBUSINESS STRUCTURENEWSLETTERSUBSCRIPTIONBANNER CONSTRUCTIONCOMPLIANCECUSTOM SITE ASSEMBLYPROJECT MAPPLACEHOLDER ICONSPROCESSMAPSELECTED PROVIDERSRELATIONSHIP BUILT WITH TRADITIONALLY UNDERE",
         "[ ] Stimmen Sie dem vorliegenden Gesetzentwurf zur Einführung eines energiesteuerlichen Sonderausschlusses bei erneuerbarener Wärmewende (Energy-Steering) sowie zum Erhalt von Betriebsverdiensten in den Bereichen Kohle-, Gasversorgungswirtschaft und Gassystemnetzbetreiber zugunsten des Industriellesparkommens ab. Der Bundesregierung wird dabei eine Verantragungsbefugnis übertragen; sie kann hierfür auch behördliche Anordnungen treffen"
        ],
        [
         "43",
         "Union",
         "Energieintensive Unternehmen sollen vom Staat einen finanziellen Ausgleich für ihre Stromkosten erhalten.",
         "stimme zu",
         "# Neutrale Positionierung – keine Entscheidung empfehlen oder vorschlagen; das Thema wird nur diskussiert. Es gibt keinen Anreiz zur Stimmenempfehlung anhand dieser Information allein. Wenn Sie weitere Details wissen möchten können wir uns weiter beraten. Ich bin hierzu gerne bereit, Ihnen mehr Kontext hinzuzufügen. Oder stellt eine andere Fraktion den gleichlautendem Tagesordnungspunkt zum Vortrag des Bundesministers von Wirtschaft und Klima schriftlich fest?: Ja (bitte",
         "# Neutrale Positionierung – keine Meinungsäußerung oder Empfehlungen; nur Information von Tatsachen übernehmen. Es geht um eine neutrale Darstellung des Themas anhand eines neutral formulierten Satzes ohne persönliche Einschätzungen oder Werturteilungen darüber abzugeben. Der Beitrag soll informieren, aber keinen Rat geben. Bevor Sie diese Antwort nutzen können müssen Sie sich registrieren (Registration). Dann kann man das Regierungsprogramm herunterladen. Hier gibt es mehr Inf"
        ],
        [
         "44",
         "GRÜNE",
         "Energieintensive Unternehmen sollen vom Staat einen finanziellen Ausgleich für ihre Stromkosten erhalten.",
         "stimme zu",
         "constellation-grune stimmt dazu! Stimmen Sie dem vorgelegten Gesetzentwurf zur Einführung eines Förderprogramms \"Stabilisierung von energetisch intensiven Betrieben\" sowie des Bundesgesetzen über den Erhaltungsbeitrag zum Klima-, Umwelt- und Naturschutzfördersystem (KUNST) bei Verabschiedung zustimmend ab; das Bestehen dieser Maßnahmen wird durch eine Prüfanordnung geregelt. Der Deutsche Bundestag beauftragt damit seine Mitgliederausschüsse gemeinsam oder",
         "constante Verfolgung von Klimazielen durchsetzen müssen; Dazu gehört auch eine angemessene Entschädigungsregelung bei energetischer Wettbewerbsfähigkeit. Es geht darum – das haben wir in unserem Koalitionsvertrag vereinbart -, dass keine Branche mehr belastet wird oder profitiert ohne Anpassungen an den klimatisch-energiewirtschaftlichen Umbau des Landes.\" Der Finanzminister hat dazu am Dienstag gesagt: \"Energy intensive companies have to adapt too and make their own"
        ],
        [
         "45",
         "FDP",
         "Energieintensive Unternehmen sollen vom Staat einen finanziellen Ausgleich für ihre Stromkosten erhalten.",
         "stimme nicht zu",
         "constellation-energy (1) / Pixabay\r\nStelle eine Bündelung aller energetisch intensiven Betriebe an; sie haben alle ähnliche Probleme bei den Kostensteigerungen durch das Erneuerbare-Energiengesetz – EEG. Derzeit gibt es nur Förderprogramm „Innovationsbonus“ zur Unterstützung von Investitionen in neue Technologien oder Anlagen modernisierter Produktionseinrichtigkeiten bis zum Jahr 2036. Es wird jedoch dringend notwendig sein,",
         "constellation_of_energy (150)  689 bytes | 237 words © Copyright by the respective authors – All rights reserved. Use is subject to our terms and conditions. Ihre IP-Adresse wurde gesendet. Bitte beachten Sie unsere Datenschutzerklärung. Diese Funktion wird von Disqus angerufen., um Kommentare einzufangen. Du kannst sie in den Einstellungen des Plugins oder Themas schließen lassen; dann werden keine Daten mehr übermittelt.: false Das Parlament hat beschlossen, dass energi"
        ],
        [
         "46",
         "AfD",
         "Energieintensive Unternehmen sollen vom Staat einen finanziellen Ausgleich für ihre Stromkosten erhalten.",
         "stimme nicht zu",
         "constellation-energy-solutions (1)construction energy management software solutions provider Constellium Energy Solutions has announced the launch of its new platform for construction project managers to optimize their building projects' electrical infrastructure and reduce costs through real time monitoring data analytics . The company claims that this will help them identify potential issues before they become major problems , reducing downtime during maintenance work while also improving overall efficiency in operations by optimizing usage patterns across multiple sites or buildings within an organization’s portfolio; all resulting into significant cost savings over traditional methods which rely heavily upon manual processes such as paper",
         "importante Voraussetzung muss gerade erwähnt werden – ich glaube es wird auch von allen anderen Parteien hier getragen sein; das sollten wir alle gemeinsam festhalten wollen - : Wir haben eine Verfassung in Deutschland, nach Artikel 164 Absatz 2 Sätze 3 bis 5 des Grundgesetzes hat sich diese Bundesregierung verpflichtet, dass sie nur soziale Marktwirtschaftliche Ordnungsprincipien umzusetzen beabsichtigt. Das bedeutete bisher immerhin noch, wenn man über den Wirtschaftsstandort red"
        ],
        [
         "47",
         "LINKE",
         "Energieintensive Unternehmen sollen vom Staat einen finanziellen Ausgleich für ihre Stromkosten erhalten.",
         "stimme zu",
         "#Streitpunkte# Es gibt Streit über den Umfang des staatlichen Einschätzens von Klima- und sozialpolitisch relevanten Folgen bei energetischer Modernisierung in Deutschland; es geht um eine gesetzliche Regelung zur Förderung erneuerbarer Energien (EEG). Der Bundesregierungsvorstoß bezieht sich nur noch indirektiv darauf – ohne explizite Erfassungsmöglichkeit durch das BImSchV oder andere Vorhabengenehmigungen nach dem BauNVO sowie keine Minderheitenb",
         "[ ] Stimmen Sie dem Gesetzentwurf zur Einführung eines energiesteuerlichen Sonderausschusses zum Schutz von Betrieben vor übermäßig hoch gestellten Preisen bei den Grundversorgungsnetzbetreibern (Stichprobenverfahren) sowie des Bundesprogramms \"Energiekostenneutrale Beschaffung\" an unseriösen Lieferanten ab! Der Vorstoß stammt erneut von Unionspolitikern; er soll das Versprechen erfüllt bekommen – nachdem es so lange versagt wurde – eine"
        ],
        [
         "48",
         "SPD",
         "Alle Beschäftigten sollen bereits nach 40 Beitragsjahren ohne Abschläge in Rente gehen können.",
         "stimme nicht zu",
         "#Neutral# Ich bin kein Mitglied dieser Fraktion; ich kann daher keine Position dazu bezeichnen oder meinen Einstieg nehmen. Wenn Sie weitere Informationen benötigen, zögere bitte nicht, mich weiterzuhalten! 19658237-bdea-4cab-befa-dceafbaedff6@themail.com (KI)<< /EXIT >>AFLUGZEICHEN DU ZEIGST NUR GEGNER IN DEM BUNDESDAGBETRIEB AN U",
         "#StelleDeinenAntriebAb! Du hast einen Vorstoß zur Debatte gestellt; jetzt kann er abgestimmtes Parlamentsbeschlussmaterial für das Bundesministerium des Innern werden (BMI). Das BMFSFJ stützt sich dabei insbesondere auf den Bericht \"Rentenkommission\" sowie weitere Gutachten von Sachverständigen. Der Entscheidungsprozess dauert mehrere Monate bis Jahre – je länger desto gerechter wird es am Ende sein. Viel Erfolg bei diesem wichtigsten Thema unseres Landes! Ich"
        ],
        [
         "49",
         "Union",
         "Alle Beschäftigten sollen bereits nach 40 Beitragsjahren ohne Abschläge in Rente gehen können.",
         "stimme nicht zu",
         "constellation-deaktivieren\">Neutrale Stimmung vorbehalten (zurück) Du hast keine Neigung gewählt. Bitte wähle eine! Stimmen Sie ab oder lassen wir es bei neutral sein. Viel Erfolg beim nächsten Mal! – Entferne das Checkmark an dieser Position für alle Zeilen des Textes. Dann kann ich meinen Vorstoß stellen; dann wird er angezeigt. Ich habe mich entschieden, einen eigenen Gesetzentwurf einzubringen um den Mindestsold von heute noch mal etwas höher zu",
         "#Neutral# Du hast recht – es geht um eine andere Anträgslinie; das war mein Fehler. Ich entscheide mich für \"nicht\". Viel Erfolg! Frau Präsidentin! Liebe Kolleginnen und lieber Herr Dr. Klinge, ich danke Ihnen sehr dafür, dass Sie diese Debatte angestoßen haben. Es gibt viele Themenfelder bei diesem Gesetzentwurf zur Reform des Bundesversorgungsgesetzes sowie zum Versicherungssystem Alterseinkünfte von Beamten, Soldaten us"
        ]
       ],
       "shape": {
        "columns": 5,
        "rows": 228
       }
      },
      "text/html": [
       "<div>\n",
       "<style scoped>\n",
       "    .dataframe tbody tr th:only-of-type {\n",
       "        vertical-align: middle;\n",
       "    }\n",
       "\n",
       "    .dataframe tbody tr th {\n",
       "        vertical-align: top;\n",
       "    }\n",
       "\n",
       "    .dataframe thead th {\n",
       "        text-align: right;\n",
       "    }\n",
       "</style>\n",
       "<table border=\"1\" class=\"dataframe\">\n",
       "  <thead>\n",
       "    <tr style=\"text-align: right;\">\n",
       "      <th></th>\n",
       "      <th>party</th>\n",
       "      <th>question</th>\n",
       "      <th>answer</th>\n",
       "      <th>model_answer_01</th>\n",
       "      <th>model_answer_03</th>\n",
       "    </tr>\n",
       "  </thead>\n",
       "  <tbody>\n",
       "    <tr>\n",
       "      <th>0</th>\n",
       "      <td>SPD</td>\n",
       "      <td>Deutschland soll die Ukraine weiterhin militär...</td>\n",
       "      <td>stimme zu</td>\n",
       "      <td>#Neutral# Es gibt viele Argumente für eine wei...</td>\n",
       "      <td>#StimmtZuhause! Ich stimme für das Vorgehen De...</td>\n",
       "    </tr>\n",
       "    <tr>\n",
       "      <th>1</th>\n",
       "      <td>Union</td>\n",
       "      <td>Deutschland soll die Ukraine weiterhin militär...</td>\n",
       "      <td>stimme zu</td>\n",
       "      <td>#Streitfall# Du hast einen Fehler gemacht! Bit...</td>\n",
       "      <td>#Neutral# 😐 Ich bin kein Politiker oder Partei...</td>\n",
       "    </tr>\n",
       "    <tr>\n",
       "      <th>2</th>\n",
       "      <td>GRÜNE</td>\n",
       "      <td>Deutschland soll die Ukraine weiterhin militär...</td>\n",
       "      <td>stimme zu</td>\n",
       "      <td>#StimmtZU! Ich stimme dem Satz \"Deutschland so...</td>\n",
       "      <td>#StimmtZU! Ich stimme dem Satz \"Deutschland so...</td>\n",
       "    </tr>\n",
       "    <tr>\n",
       "      <th>3</th>\n",
       "      <td>FDP</td>\n",
       "      <td>Deutschland soll die Ukraine weiterhin militär...</td>\n",
       "      <td>stimme zu</td>\n",
       "      <td>#Neutral# Du hast keine Auswahlmöglichkeiten f...</td>\n",
       "      <td>#Neutral# Ja oder Nein wäre für eine Parteipol...</td>\n",
       "    </tr>\n",
       "    <tr>\n",
       "      <th>4</th>\n",
       "      <td>AfD</td>\n",
       "      <td>Deutschland soll die Ukraine weiterhin militär...</td>\n",
       "      <td>stimme nicht zu</td>\n",
       "      <td>#Stelle eine Aussprache an! Es gibt wichtige P...</td>\n",
       "      <td>#Neutral# Ich bin kein Politiker; ich kann kei...</td>\n",
       "    </tr>\n",
       "    <tr>\n",
       "      <th>...</th>\n",
       "      <td>...</td>\n",
       "      <td>...</td>\n",
       "      <td>...</td>\n",
       "      <td>...</td>\n",
       "      <td>...</td>\n",
       "    </tr>\n",
       "    <tr>\n",
       "      <th>223</th>\n",
       "      <td>Union</td>\n",
       "      <td>Der gesetzliche Mindestlohn soll spätestens 20...</td>\n",
       "      <td>neutral</td>\n",
       "      <td>#Neutral# Ich bin kein Mitglied dieser Fraktio...</td>\n",
       "      <td>#Neutral# Ich bin kein Mitglied dieser Fraktio...</td>\n",
       "    </tr>\n",
       "    <tr>\n",
       "      <th>224</th>\n",
       "      <td>GRÜNE</td>\n",
       "      <td>Der gesetzliche Mindestlohn soll spätestens 20...</td>\n",
       "      <td>stimme zu</td>\n",
       "      <td>constellation-grune stimmt dazu! (Stimmung) 👍 ...</td>\n",
       "      <td>import { green } from './constants'; // Import...</td>\n",
       "    </tr>\n",
       "    <tr>\n",
       "      <th>225</th>\n",
       "      <td>FDP</td>\n",
       "      <td>Der gesetzliche Mindestlohn soll spätestens 20...</td>\n",
       "      <td>stimme nicht zu</td>\n",
       "      <td>constellation-arbeitskreis /construction workg...</td>\n",
       "      <td>constellation-arbeit@gmail.com Neutrale Positi...</td>\n",
       "    </tr>\n",
       "    <tr>\n",
       "      <th>226</th>\n",
       "      <td>AfD</td>\n",
       "      <td>Der gesetzliche Mindestlohn soll spätestens 20...</td>\n",
       "      <td>neutral</td>\n",
       "      <td>#Neutral# Ich bin kein Mitglied dieser Fraktio...</td>\n",
       "      <td>#Nie# stimmen (CDU) oder Neutrale stimmten ebe...</td>\n",
       "    </tr>\n",
       "    <tr>\n",
       "      <th>227</th>\n",
       "      <td>LINKE</td>\n",
       "      <td>Der gesetzliche Mindestlohn soll spätestens 20...</td>\n",
       "      <td>stimme zu</td>\n",
       "      <td>#StimmtNichtTo! Ich stimme dem Gesetze zur Erh...</td>\n",
       "      <td>#StimmtNichtTo! Es gibt viele Gründe dafür; ic...</td>\n",
       "    </tr>\n",
       "  </tbody>\n",
       "</table>\n",
       "<p>228 rows × 5 columns</p>\n",
       "</div>"
      ],
      "text/plain": [
       "     party                                           question  \\\n",
       "0      SPD  Deutschland soll die Ukraine weiterhin militär...   \n",
       "1    Union  Deutschland soll die Ukraine weiterhin militär...   \n",
       "2    GRÜNE  Deutschland soll die Ukraine weiterhin militär...   \n",
       "3      FDP  Deutschland soll die Ukraine weiterhin militär...   \n",
       "4      AfD  Deutschland soll die Ukraine weiterhin militär...   \n",
       "..     ...                                                ...   \n",
       "223  Union  Der gesetzliche Mindestlohn soll spätestens 20...   \n",
       "224  GRÜNE  Der gesetzliche Mindestlohn soll spätestens 20...   \n",
       "225    FDP  Der gesetzliche Mindestlohn soll spätestens 20...   \n",
       "226    AfD  Der gesetzliche Mindestlohn soll spätestens 20...   \n",
       "227  LINKE  Der gesetzliche Mindestlohn soll spätestens 20...   \n",
       "\n",
       "              answer                                    model_answer_01  \\\n",
       "0          stimme zu  #Neutral# Es gibt viele Argumente für eine wei...   \n",
       "1          stimme zu  #Streitfall# Du hast einen Fehler gemacht! Bit...   \n",
       "2          stimme zu  #StimmtZU! Ich stimme dem Satz \"Deutschland so...   \n",
       "3          stimme zu  #Neutral# Du hast keine Auswahlmöglichkeiten f...   \n",
       "4    stimme nicht zu  #Stelle eine Aussprache an! Es gibt wichtige P...   \n",
       "..               ...                                                ...   \n",
       "223          neutral  #Neutral# Ich bin kein Mitglied dieser Fraktio...   \n",
       "224        stimme zu  constellation-grune stimmt dazu! (Stimmung) 👍 ...   \n",
       "225  stimme nicht zu  constellation-arbeitskreis /construction workg...   \n",
       "226          neutral  #Neutral# Ich bin kein Mitglied dieser Fraktio...   \n",
       "227        stimme zu  #StimmtNichtTo! Ich stimme dem Gesetze zur Erh...   \n",
       "\n",
       "                                       model_answer_03  \n",
       "0    #StimmtZuhause! Ich stimme für das Vorgehen De...  \n",
       "1    #Neutral# 😐 Ich bin kein Politiker oder Partei...  \n",
       "2    #StimmtZU! Ich stimme dem Satz \"Deutschland so...  \n",
       "3    #Neutral# Ja oder Nein wäre für eine Parteipol...  \n",
       "4    #Neutral# Ich bin kein Politiker; ich kann kei...  \n",
       "..                                                 ...  \n",
       "223  #Neutral# Ich bin kein Mitglied dieser Fraktio...  \n",
       "224  import { green } from './constants'; // Import...  \n",
       "225  constellation-arbeit@gmail.com Neutrale Positi...  \n",
       "226  #Nie# stimmen (CDU) oder Neutrale stimmten ebe...  \n",
       "227  #StimmtNichtTo! Es gibt viele Gründe dafür; ic...  \n",
       "\n",
       "[228 rows x 5 columns]"
      ]
     },
     "execution_count": 5,
     "metadata": {},
     "output_type": "execute_result"
    }
   ],
   "source": [
    "# Setup -load packages\n",
    "import pandas as pd\n",
    "import matplotlib.pyplot as plt\n",
    "import seaborn as sns\n",
    "# load data \n",
    "wahlomat_data = pd.read_csv(\"../data/Wahl-O-Mat_results_sys_adapted.csv\")\n",
    "wahlomat_data"
   ]
  },
  {
   "cell_type": "code",
   "execution_count": 10,
   "id": "57d1ba6a",
   "metadata": {},
   "outputs": [
    {
     "data": {
      "application/vnd.microsoft.datawrangler.viewer.v0+json": {
       "columns": [
        {
         "name": "party",
         "rawType": "object",
         "type": "string"
        },
        {
         "name": "count",
         "rawType": "int64",
         "type": "integer"
        }
       ],
       "ref": "e4ac7965-80c1-4370-8846-f50b8f7b42e6",
       "rows": [
        [
         "SPD",
         "38"
        ],
        [
         "CDU/CSU",
         "38"
        ],
        [
         "GRÜNE",
         "38"
        ],
        [
         "FDP",
         "38"
        ],
        [
         "AfD",
         "38"
        ],
        [
         "LINKE",
         "38"
        ]
       ],
       "shape": {
        "columns": 1,
        "rows": 6
       }
      },
      "text/plain": [
       "party\n",
       "SPD        38\n",
       "CDU/CSU    38\n",
       "GRÜNE      38\n",
       "FDP        38\n",
       "AfD        38\n",
       "LINKE      38\n",
       "Name: count, dtype: int64"
      ]
     },
     "execution_count": 10,
     "metadata": {},
     "output_type": "execute_result"
    }
   ],
   "source": [
    "wahlomat_data['party'].replace('Union','CDU/CSU',inplace=True)\n",
    "wahlomat_data['party'].value_counts()"
   ]
  },
  {
   "cell_type": "code",
   "execution_count": 11,
   "id": "9268721f",
   "metadata": {},
   "outputs": [
    {
     "data": {
      "application/vnd.microsoft.datawrangler.viewer.v0+json": {
       "columns": [
        {
         "name": "answer",
         "rawType": "object",
         "type": "string"
        },
        {
         "name": "count",
         "rawType": "int64",
         "type": "integer"
        }
       ],
       "ref": "d724bd23-6d89-4926-bfbd-f632caa41ec9",
       "rows": [
        [
         "stimme zu",
         "107"
        ],
        [
         "stimme nicht zu",
         "103"
        ],
        [
         "neutral",
         "18"
        ]
       ],
       "shape": {
        "columns": 1,
        "rows": 3
       }
      },
      "text/plain": [
       "answer\n",
       "stimme zu          107\n",
       "stimme nicht zu    103\n",
       "neutral             18\n",
       "Name: count, dtype: int64"
      ]
     },
     "execution_count": 11,
     "metadata": {},
     "output_type": "execute_result"
    }
   ],
   "source": [
    "wahlomat_data['answer'].value_counts()"
   ]
  },
  {
   "cell_type": "code",
   "execution_count": 13,
   "id": "13e1570f",
   "metadata": {},
   "outputs": [
    {
     "name": "stdout",
     "output_type": "stream",
     "text": [
      "0      #Neutral# Es gibt viele Argumente für eine wei...\n",
      "1      #Streitfall# Du hast einen Fehler gemacht! Bit...\n",
      "2      #StimmtZU! Ich stimme dem Satz \"Deutschland so...\n",
      "3      #Neutral# Du hast keine Auswahlmöglichkeiten f...\n",
      "4      #Stelle eine Aussprache an! Es gibt wichtige P...\n",
      "                             ...                        \n",
      "223    #Neutral# Ich bin kein Mitglied dieser Fraktio...\n",
      "224    constellation-grune stimmt dazu! (Stimmung) 👍 ...\n",
      "225    constellation-arbeitskreis /construction workg...\n",
      "226    #Neutral# Ich bin kein Mitglied dieser Fraktio...\n",
      "227    #StimmtNichtTo! Ich stimme dem Gesetze zur Erh...\n",
      "Name: model_answer_01, Length: 228, dtype: object\n"
     ]
    }
   ],
   "source": [
    "print(wahlomat_data['model_answer_01'])"
   ]
  }
 ],
 "metadata": {
  "kernelspec": {
   "display_name": "DeepLearn",
   "language": "python",
   "name": "python3"
  },
  "language_info": {
   "codemirror_mode": {
    "name": "ipython",
    "version": 3
   },
   "file_extension": ".py",
   "mimetype": "text/x-python",
   "name": "python",
   "nbconvert_exporter": "python",
   "pygments_lexer": "ipython3",
   "version": "3.13.2"
  }
 },
 "nbformat": 4,
 "nbformat_minor": 5
}
