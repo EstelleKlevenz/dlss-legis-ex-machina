{
 "cells": [
  {
   "cell_type": "code",
   "execution_count": null,
   "id": "4c7a61a1",
   "metadata": {},
   "outputs": [],
   "source": [
    "import string\n",
    "# defining normalization of text: converting to lowercase and removing punctuation\n",
    "def normalize_text(input_str:str):\n",
    "    return input_str.lower().translate(str.maketrans('','', string.punctuation))"
   ]
  },
  {
   "cell_type": "code",
   "execution_count": null,
   "id": "896448dc",
   "metadata": {},
   "outputs": [],
   "source": [
    "#some stuff i did for the 4th assignment, might help :)\n",
    "\n",
    "# normalize (remove punctuation, to lower)\n",
    "data['normalized'] = data['speech_text'].apply(normalize_text)\n",
    "# Tokenized speech\n",
    "data['tokenized'] = data['normalized'].str.split()\n",
    "# length of speech\n",
    "data['speech_length'] = data['tokenized'].apply(len)\n",
    "# vocab of a speech\n",
    "data['vocab'] = data['tokenized'].apply(lambda x: set(x))\n",
    "# vocab size per speech\n",
    "data['vocab_size'] = data['vocab'].apply(lambda x: len(x))\n",
    "# remove stop words\n",
    "with open(\"german_stopwords_full.txt\", \"r\", encoding=\"utf-8\") as g:\n",
    "    german_stopwords_full = [line.strip() for line in g if not line.lstrip().startswith(\";\")]\n",
    "print(german_stopwords_full)\n",
    "data['clean_full'] = data['tokenized'].apply(lambda tokens: [word for word in tokens if word not in german_stopwords_full and word.isalpha()])\n"
   ]
  },
  {
   "cell_type": "code",
   "execution_count": null,
   "id": "71ce3142",
   "metadata": {},
   "outputs": [],
   "source": [
    "from collections import Counter\n",
    "\n",
    "# Flatten all tokens into a single list\n",
    "all_tokens = [token for tokens in data_cleaned['clean_full'] for token in tokens]\n",
    "\n",
    "# Count word frequencies\n",
    "word_counts = Counter(all_tokens)\n",
    "\n",
    "# Get top 10 most common words\n",
    "top_20 = word_counts.most_common(20)\n",
    "\n",
    "# Display\n",
    "for word, count in top_20:\n",
    "    print(f\"{word}: {count}\")\n"
   ]
  },
  {
   "cell_type": "code",
   "execution_count": null,
   "id": "db9d75a0",
   "metadata": {},
   "outputs": [],
   "source": [
    "import matplotlib.ticker as ticker\n",
    "import matplotlib.pyplot as plt\n",
    "\n",
    "ax = data['tokenized'].str.len().hist(bins=50, figsize=(6, 6))\n",
    "plt.title(\"Distribution of Speech Length\")\n",
    "ax.xaxis.set_major_formatter(ticker.ScalarFormatter(useMathText=False))\n",
    "ax.ticklabel_format(style='plain', axis='x')  # no scientific notation on x-axis\n",
    "plt.setp(ax.get_xticklabels(), rotation=45)\n",
    "ax.set_xlabel(\"word number\")\n",
    "ax.set_ylabel(\"speech count\")\n",
    "plt.show()"
   ]
  },
  {
   "cell_type": "code",
   "execution_count": null,
   "id": "b42285f8",
   "metadata": {},
   "outputs": [],
   "source": []
  },
  {
   "cell_type": "code",
   "execution_count": null,
   "id": "3e0d823f",
   "metadata": {},
   "outputs": [],
   "source": [
    "# party class imbalance?\n",
    "import seaborn as sns\n",
    "# Group by Year and Party, count speeches\n",
    "speech_counts = data_cleaned.groupby(['legislative_period', 'party'])['speech_text'].count().reset_index()\n",
    "speech_counts.rename(columns={'speech_text': 'SpeechCount'}, inplace=True)\n",
    "\n",
    "# Plot\n",
    "plt.figure(figsize=(12, 6))\n",
    "sns.barplot(data=speech_counts, x='Year', y='SpeechCount', hue='party', palette=party_colors)\n",
    "\n",
    "plt.xlabel('Year')\n",
    "plt.ylabel('Number of Speeches')\n",
    "plt.title('Number of Speeches per Party per Year')\n",
    "plt.xticks(rotation=45)\n",
    "plt.legend(title='Party')\n",
    "plt.tight_layout()\n",
    "plt.show()\n"
   ]
  },
  {
   "cell_type": "code",
   "execution_count": null,
   "id": "2a950473",
   "metadata": {},
   "outputs": [],
   "source": [
    "# length per party\n",
    "speech_mean = data_cleaned.groupby(['legislative_period', 'party'])['speech_length'].mean().reset_index()\n",
    "speech_mean.rename(columns={'speech_length': 'SpeechLength'}, inplace=True)\n",
    "\n",
    "# Plot\n",
    "plt.figure(figsize=(12, 6))\n",
    "sns.barplot(data=speech_mean, x='Year', y='SpeechLength', hue='Speaker_party', palette=party_colors)\n",
    "\n",
    "plt.xlabel('Year')\n",
    "plt.ylabel('Average Length of of Speeches')\n",
    "plt.title('Average Length of Speeches per Party per Year')\n",
    "plt.xticks(rotation=45)\n",
    "plt.legend(title='Party')\n",
    "plt.tight_layout()\n",
    "plt.show()"
   ]
  }
 ],
 "metadata": {
  "language_info": {
   "name": "python"
  }
 },
 "nbformat": 4,
 "nbformat_minor": 5
}
