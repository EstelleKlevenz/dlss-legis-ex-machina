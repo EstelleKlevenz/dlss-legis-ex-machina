{
 "cells": [
  {
   "cell_type": "code",
   "execution_count": 1,
   "id": "cef2389a",
   "metadata": {},
   "outputs": [],
   "source": [
    "import pandas as pd\n",
    "import json\n",
    "import glob\n",
    "import os"
   ]
  },
  {
   "cell_type": "code",
   "execution_count": 2,
   "id": "305f68e4",
   "metadata": {},
   "outputs": [],
   "source": [
    "# settings\n",
    "\n",
    "folder_path = \"../data/19th_20th_speeches_all\"\n",
    "test_file = \"LP_19_Sitzung_35.json\""
   ]
  },
  {
   "cell_type": "markdown",
   "id": "72ca9cf6",
   "metadata": {},
   "source": [
    "***\n",
    "## **Understand the Structure**\n",
    "***"
   ]
  },
  {
   "cell_type": "markdown",
   "id": "1e657a81",
   "metadata": {},
   "source": [
    "#### **Get files and file content**"
   ]
  },
  {
   "cell_type": "code",
   "execution_count": 5,
   "id": "d07327be",
   "metadata": {},
   "outputs": [
    {
     "name": "stdout",
     "output_type": "stream",
     "text": [
      "Nr. of session protocols: 329\n"
     ]
    },
    {
     "data": {
      "text/plain": [
       "['../data/19th_20th_speeches_all\\\\LP_19_Sitzung_1.json',\n",
       " '../data/19th_20th_speeches_all\\\\LP_19_Sitzung_10.json',\n",
       " '../data/19th_20th_speeches_all\\\\LP_19_Sitzung_100.json',\n",
       " '../data/19th_20th_speeches_all\\\\LP_19_Sitzung_101.json',\n",
       " '../data/19th_20th_speeches_all\\\\LP_19_Sitzung_102.json']"
      ]
     },
     "execution_count": 5,
     "metadata": {},
     "output_type": "execute_result"
    }
   ],
   "source": [
    "# get a list of all filenames\n",
    "json_files = glob.glob(os.path.join(folder_path, \"*.json\"))\n",
    "\n",
    "print(\"Nr. of session protocols:\", len(json_files))\n",
    "json_files[:5]"
   ]
  },
  {
   "cell_type": "code",
   "execution_count": 6,
   "id": "e38ebcdb",
   "metadata": {},
   "outputs": [
    {
     "name": "stdout",
     "output_type": "stream",
     "text": [
      "dict_keys(['Protocol', 'AgendaItems', 'NLPSpeeches'])\n"
     ]
    }
   ],
   "source": [
    "# get a test file (later in loop over all json files)\n",
    "with open(f\"{folder_path}/{test_file}\", 'r') as file:\n",
    "    data = json.load(file)\n",
    "\n",
    "\n",
    "# print the data\n",
    "print(data.keys())"
   ]
  },
  {
   "cell_type": "code",
   "execution_count": 7,
   "id": "beaba4c9",
   "metadata": {},
   "outputs": [
    {
     "name": "stdout",
     "output_type": "stream",
     "text": [
      "Data Type: <class 'list'>\n"
     ]
    },
    {
     "data": {
      "text/plain": [
       "dict_keys(['CategoryCoveredTags', 'NamedEntities', 'Tokens', 'Sentiments', 'AbstractSummary', 'AbstractSummaryPEGASUS', 'ExtractiveSummary', 'EnglishTranslationOfSpeech', 'EnglishTranslationScore', 'Text', 'SpeakerId', 'Segments', 'ProtocolNumber', 'LegislaturePeriod', 'AgendaItemNumber', 'MongoId', 'Id'])"
      ]
     },
     "execution_count": 7,
     "metadata": {},
     "output_type": "execute_result"
    }
   ],
   "source": [
    "# protocol and agends irrelevant --> interested in NLP speeches\n",
    "print(\"Data Type:\", type(data[\"NLPSpeeches\"]))\n",
    "\n",
    "# fist elements keys\n",
    "data[\"NLPSpeeches\"][0].keys()\n",
    "\n",
    "# here, second loop necessary, loop over length of data[\"NLPSpeeches\"]"
   ]
  },
  {
   "cell_type": "markdown",
   "id": "fe44740b",
   "metadata": {},
   "source": [
    "***\n",
    "#### **Find speech text**"
   ]
  },
  {
   "cell_type": "code",
   "execution_count": 8,
   "id": "a11fc75c",
   "metadata": {},
   "outputs": [
    {
     "name": "stdout",
     "output_type": "stream",
     "text": [
      "Das Thema Wohnungen ist mit Recht ein Schwerpunkt unserer Arbeit in der Koalition und auch in der Koalitionsvereinbarung. Wir wollen 1,5 Millionen neue Wohnungen bauen, und zwar Wohnungen zu bezahlbaren Mieten. Dazu wollen wir die entsprechenden Rahmenbedingungen schaffen. Wir wollen auch die Mieter besser schützen, indem sie mehr Auskunft bekommen. Die Grundlage für alle Arbeiten ist der Koalitionsvertrag. Das gilt für die von Ihnen angesprochene Ministerin genauso wie für Herrn Luczak. Da gibt es auch gar keinen Gesprächsbedarf bei uns.\n",
      "Jetzt geht es darum, sowohl die Maßnahmen für den sozialen Wohnungsbau als auch die Maßnahmen für den freien Wohnungsbau gerade auch durch das bei der Klausurtagung von den geschäftsführenden Fraktionsvorständen beschlossene Paket schnell umzusetzen. Dazu laufen Gespräche. Wir brauchen mehr Bauland; da kann auch die BImA mithelfen. Aber wir brauchen eben auch schnellere Verfahren, und wir brauchen bessere Auskunftsrechte für die Mieterinnen und Mieter. An allen Stellen werden wir arbeiten und unseren Beitrag leisten. 1,5 Millionen Wohnungen in einer Legislaturperiode, das ist ein ehrgeiziges Ziel. Aber wir werden alles tun, das zu erreichen.\n",
      "\n"
     ]
    }
   ],
   "source": [
    "# example speech text of speech nr. 30 (full, not segmented with shouts)\n",
    "print(data['NLPSpeeches'][30][\"Text\"])"
   ]
  },
  {
   "cell_type": "code",
   "execution_count": 12,
   "id": "cf522919",
   "metadata": {},
   "outputs": [
    {
     "data": {
      "text/plain": [
       "[{'Text': 'Das Thema Wohnungen ist mit Recht ein Schwerpunkt unserer Arbeit in der Koalition und auch in der Koalitionsvereinbarung. Wir wollen 1,5\\xa0Millionen neue Wohnungen bauen, und zwar Wohnungen zu bezahlbaren Mieten. Dazu wollen wir die entsprechenden Rahmenbedingungen schaffen. Wir wollen auch die Mieter besser schützen, indem sie mehr Auskunft bekommen. Die Grundlage für alle Arbeiten ist der Koalitionsvertrag. Das gilt für die von Ihnen angesprochene Ministerin genauso wie für Herrn Luczak. Da gibt es auch gar keinen Gesprächsbedarf bei uns.\\n',\n",
       "  'Shouts': [],\n",
       "  'SpeechId': '931f3906-0d3c-446c-6acd-08da102a68d8',\n",
       "  'Id': '24d45fae-4551-4cce-7868-08da102a68db'},\n",
       " {'Text': 'Jetzt geht es darum, sowohl die Maßnahmen für den sozialen Wohnungsbau als auch die Maßnahmen für den freien Wohnungsbau gerade auch durch das bei der Klausurtagung von den geschäftsführenden Fraktionsvorständen beschlossene Paket schnell umzusetzen. Dazu laufen Gespräche. Wir brauchen mehr Bauland; da kann auch die BImA mithelfen. Aber wir brauchen eben auch schnellere Verfahren, und wir brauchen bessere Auskunftsrechte für die Mieterinnen und Mieter. An allen Stellen werden wir arbeiten und unseren Beitrag leisten. 1,5\\xa0Millionen Wohnungen in einer Legislaturperiode, das ist ein ehrgeiziges Ziel. Aber wir werden alles tun, das zu erreichen.\\n',\n",
       "  'Shouts': [{'Text': 'Sehr schwach!',\n",
       "    'FirstName': 'Heike',\n",
       "    'LastName': 'Hänsel',\n",
       "    'Fraction': 'Die Linke',\n",
       "    'Party': None,\n",
       "    'SpeakerId': '11003763',\n",
       "    'SpeechSegmentId': 'febfce68-d93a-477e-7869-08da102a68db',\n",
       "    'Id': 'ea523ea9-e9bc-4f32-181f-08da102a68df'}],\n",
       "  'SpeechId': '931f3906-0d3c-446c-6acd-08da102a68d8',\n",
       "  'Id': 'febfce68-d93a-477e-7869-08da102a68db'}]"
      ]
     },
     "execution_count": 12,
     "metadata": {},
     "output_type": "execute_result"
    }
   ],
   "source": [
    "# under segments, you get the speech, separated into chunks, with shouts inbetween\n",
    "data['NLPSpeeches'][30][\"Segments\"]"
   ]
  },
  {
   "cell_type": "code",
   "execution_count": 9,
   "id": "72d623ac",
   "metadata": {},
   "outputs": [
    {
     "name": "stdout",
     "output_type": "stream",
     "text": [
      "Herr Kollege, als ich Bundeskanzlerin wurde, hatte Deutschland 5 Millionen Arbeitslose. Jetzt haben wir die niedrigste Arbeitslosigkeit seit der Wiedervereinigung,\n",
      "auch durch die Reformen – ich will das ausdrücklich sagen – meines Vorgängers. Das ist der Weg, den wir gehen müssen. Wir haben inzwischen den Mindestlohn eingeführt. Wir haben eine deutliche Verbesserung für viele Menschen erreicht, und da, wo die Verbesserungen noch nicht angekommen sind, werden wir durch eine Kommission „Gleichwertige Lebensverhältnisse“ in Deutschland darauf achten, dass dies noch geschieht.\n",
      "Aber ich glaube, die Frage so zu formulieren, dass es Deutschland schlechter geht, ist aus meiner Sicht falsch. Im Übrigen haben die jeweiligen Handelsabkommen auch in Deutschland zu großen Arbeitsplatzgewinnen geführt, weil sie fair und vernünftig ausgehandelt waren. Deshalb werde ich auch weiter dem freien Welthandel auf einer multilateralen Basis das Wort reden. Ich glaube, Ihre Abschottung und Ihr Glaube, alles alleine machen zu können und sich nicht in den internationalen Handel einbringen zu müssen, ist ein Fehlweg.\n",
      "\n"
     ]
    },
    {
     "data": {
      "text/plain": [
       "[{'Text': 'Herr Kollege, als ich Bundeskanzlerin wurde, hatte Deutschland 5\\xa0Millionen Arbeitslose. Jetzt haben wir die niedrigste Arbeitslosigkeit seit der Wiedervereinigung,\\n',\n",
       "  'Shouts': [{'Text': '(Beifall bei der CDU/CSU sowie bei Abgeordneten der FDP)',\n",
       "    'FirstName': None,\n",
       "    'LastName': None,\n",
       "    'Fraction': None,\n",
       "    'Party': None,\n",
       "    'SpeakerId': None,\n",
       "    'SpeechSegmentId': '0e80b8dc-22e4-401b-c3e0-08da0f22a00b',\n",
       "    'Id': '941f4408-7c4f-4ac8-0dd9-08da0f22a00e'}],\n",
       "  'SpeechId': '563e2437-3e04-4221-62f3-08da0f22a008',\n",
       "  'Id': '0e80b8dc-22e4-401b-c3e0-08da0f22a00b'},\n",
       " {'Text': 'auch durch die Reformen\\xa0– ich will das ausdrücklich sagen\\xa0– meines Vorgängers. Das ist der Weg, den wir gehen müssen. Wir haben inzwischen den Mindestlohn eingeführt. Wir haben eine deutliche Verbesserung für viele Menschen erreicht, und da, wo die Verbesserungen noch nicht angekommen sind, werden wir durch eine Kommission „Gleichwertige Lebensverhältnisse“ in Deutschland darauf achten, dass dies noch geschieht.\\n',\n",
       "  'Shouts': [],\n",
       "  'SpeechId': '563e2437-3e04-4221-62f3-08da0f22a008',\n",
       "  'Id': '49849e4b-b50a-40e9-c3e1-08da0f22a00b'},\n",
       " {'Text': 'Aber ich glaube, die Frage so zu formulieren, dass es Deutschland schlechter geht, ist aus meiner Sicht falsch. Im Übrigen haben die jeweiligen Handelsabkommen auch in Deutschland zu großen Arbeitsplatzgewinnen geführt, weil sie fair und vernünftig ausgehandelt waren. Deshalb werde ich auch weiter dem freien Welthandel auf einer multilateralen Basis das Wort reden. Ich glaube, Ihre Abschottung und Ihr Glaube, alles alleine machen zu können und sich nicht in den internationalen Handel einbringen zu müssen, ist ein Fehlweg.\\n',\n",
       "  'Shouts': [{'Text': '(Beifall bei der CDU/CSU sowie bei Abgeordneten der SPD und der FDP)',\n",
       "    'FirstName': None,\n",
       "    'LastName': None,\n",
       "    'Fraction': None,\n",
       "    'Party': None,\n",
       "    'SpeakerId': None,\n",
       "    'SpeechSegmentId': 'a161fe52-f062-4c41-c3e2-08da0f22a00b',\n",
       "    'Id': '2ccccc45-04d9-40fa-0dda-08da0f22a00e'}],\n",
       "  'SpeechId': '563e2437-3e04-4221-62f3-08da0f22a008',\n",
       "  'Id': 'a161fe52-f062-4c41-c3e2-08da0f22a00b'}]"
      ]
     },
     "execution_count": 9,
     "metadata": {},
     "output_type": "execute_result"
    }
   ],
   "source": [
    "# another example, with applause\n",
    "\n",
    "# full speech\n",
    "print(data['NLPSpeeches'][24][\"Text\"]) \n",
    "\n",
    "# segments with applause breaks\n",
    "data['NLPSpeeches'][24][\"Segments\"]"
   ]
  },
  {
   "cell_type": "markdown",
   "id": "10016ea3",
   "metadata": {},
   "source": [
    "***\n",
    "#### **Get Speaker ID**"
   ]
  },
  {
   "cell_type": "code",
   "execution_count": 10,
   "id": "5bd5a1af",
   "metadata": {},
   "outputs": [
    {
     "data": {
      "text/plain": [
       "dict_keys(['CategoryCoveredTags', 'NamedEntities', 'Tokens', 'Sentiments', 'AbstractSummary', 'AbstractSummaryPEGASUS', 'ExtractiveSummary', 'EnglishTranslationOfSpeech', 'EnglishTranslationScore', 'Text', 'SpeakerId', 'Segments', 'ProtocolNumber', 'LegislaturePeriod', 'AgendaItemNumber', 'MongoId', 'Id'])"
      ]
     },
     "execution_count": 10,
     "metadata": {},
     "output_type": "execute_result"
    }
   ],
   "source": [
    "data['NLPSpeeches'][30].keys() \n",
    "# delivers SpeakerId"
   ]
  },
  {
   "cell_type": "code",
   "execution_count": 11,
   "id": "a5b06b15",
   "metadata": {},
   "outputs": [
    {
     "data": {
      "text/plain": [
       "'11001478'"
      ]
     },
     "execution_count": 11,
     "metadata": {},
     "output_type": "execute_result"
    }
   ],
   "source": [
    "# reffering speaker Id of the speech\n",
    "\n",
    "data['NLPSpeeches'][30][\"SpeakerId\"]"
   ]
  },
  {
   "cell_type": "markdown",
   "id": "4dcd2934",
   "metadata": {},
   "source": [
    "***\n",
    "#### **Get Speech ID**"
   ]
  },
  {
   "cell_type": "code",
   "execution_count": 16,
   "id": "e217997f",
   "metadata": {},
   "outputs": [
    {
     "data": {
      "text/plain": [
       "dict_keys(['CategoryCoveredTags', 'NamedEntities', 'Tokens', 'Sentiments', 'AbstractSummary', 'AbstractSummaryPEGASUS', 'ExtractiveSummary', 'EnglishTranslationOfSpeech', 'EnglishTranslationScore', 'Text', 'SpeakerId', 'Segments', 'ProtocolNumber', 'LegislaturePeriod', 'AgendaItemNumber', 'MongoId', 'Id'])"
      ]
     },
     "execution_count": 16,
     "metadata": {},
     "output_type": "execute_result"
    }
   ],
   "source": [
    "data['NLPSpeeches'][30].keys() \n",
    "# delivers Id --> speech id"
   ]
  },
  {
   "cell_type": "code",
   "execution_count": 17,
   "id": "57669458",
   "metadata": {},
   "outputs": [
    {
     "data": {
      "text/plain": [
       "'931f3906-0d3c-446c-6acd-08da102a68d8'"
      ]
     },
     "execution_count": 17,
     "metadata": {},
     "output_type": "execute_result"
    }
   ],
   "source": [
    "data['NLPSpeeches'][30][\"Id\"]"
   ]
  },
  {
   "cell_type": "markdown",
   "id": "368ade7c",
   "metadata": {},
   "source": [
    "***\n",
    "#### **Investigate further properties**\n",
    "\n",
    "\n",
    "* Bundestagsmine reports some NLP analysis properties\n",
    "* Brief investigation on two examples\n",
    "* $\\to$ in our usecase propably irrelevant\n",
    "\n",
    "* Some other properties on legislative period, agenda item evtl. helpful $\\to$ record them"
   ]
  },
  {
   "cell_type": "code",
   "execution_count": 18,
   "id": "69b53d63",
   "metadata": {},
   "outputs": [
    {
     "name": "stdout",
     "output_type": "stream",
     "text": [
      "NamedEntities:  [{'LemmaValue': 'Ministerin', 'NLPSpeechId': '931f3906-0d3c-446c-6acd-08da102a68d8', 'ShoutId': '00000000-0000-0000-0000-000000000000', 'Begin': 452, 'End': 462, 'Value': 'PER', 'Id': '0577b27e-e55c-4247-70c8-08da102a68e5'}, {'LemmaValue': 'Herrn Luczak', 'NLPSpeechId': '931f3906-0d3c-446c-6acd-08da102a68d8', 'ShoutId': '00000000-0000-0000-0000-000000000000', 'Begin': 479, 'End': 491, 'Value': 'PER', 'Id': 'f069d3dc-4dac-4f20-70c9-08da102a68e5'}, {'LemmaValue': 'sozial', 'NLPSpeechId': '931f3906-0d3c-446c-6acd-08da102a68d8', 'ShoutId': '00000000-0000-0000-0000-000000000000', 'Begin': 595, 'End': 603, 'Value': 'MISC', 'Id': '1aa35abe-71f1-4f3e-70ca-08da102a68e5'}, {'LemmaValue': 'BImA', 'NLPSpeechId': '931f3906-0d3c-446c-6acd-08da102a68d8', 'ShoutId': '00000000-0000-0000-0000-000000000000', 'Begin': 863, 'End': 867, 'Value': 'ORG', 'Id': 'f60ba2c8-40d5-4b6c-70cb-08da102a68e5'}]\n",
      "Tokens:  None\n",
      "Sentiments:  [{'NLPSpeechId': '931f3906-0d3c-446c-6acd-08da102a68d8', 'ShoutId': '00000000-0000-0000-0000-000000000000', 'Begin': 0, 'End': 121, 'SentimentSingleScore': 0.1779, 'Id': '8dab208c-1e1d-4b08-fac1-08da102a68e7'}, {'NLPSpeechId': '931f3906-0d3c-446c-6acd-08da102a68d8', 'ShoutId': '00000000-0000-0000-0000-000000000000', 'Begin': 122, 'End': 210, 'SentimentSingleScore': 0.4404, 'Id': 'b8adf54a-782e-486f-fac2-08da102a68e7'}, {'NLPSpeechId': '931f3906-0d3c-446c-6acd-08da102a68d8', 'ShoutId': '00000000-0000-0000-0000-000000000000', 'Begin': 211, 'End': 273, 'SentimentSingleScore': 0.2732, 'Id': '2238a2ff-1e8f-454c-fac3-08da102a68e7'}, {'NLPSpeechId': '931f3906-0d3c-446c-6acd-08da102a68d8', 'ShoutId': '00000000-0000-0000-0000-000000000000', 'Begin': 274, 'End': 351, 'SentimentSingleScore': 0.4767, 'Id': '231549ed-2869-4cf5-fac4-08da102a68e7'}, {'NLPSpeechId': '931f3906-0d3c-446c-6acd-08da102a68d8', 'ShoutId': '00000000-0000-0000-0000-000000000000', 'Begin': 352, 'End': 410, 'SentimentSingleScore': 0.0, 'Id': 'bc5b11f8-0653-4267-fac5-08da102a68e7'}, {'NLPSpeechId': '931f3906-0d3c-446c-6acd-08da102a68d8', 'ShoutId': '00000000-0000-0000-0000-000000000000', 'Begin': 411, 'End': 492, 'SentimentSingleScore': 0.0, 'Id': 'fa4dfbec-f03a-4025-fac6-08da102a68e7'}, {'NLPSpeechId': '931f3906-0d3c-446c-6acd-08da102a68d8', 'ShoutId': '00000000-0000-0000-0000-000000000000', 'Begin': 493, 'End': 544, 'SentimentSingleScore': 0.0, 'Id': 'ec2a15d1-e995-4e41-fac7-08da102a68e7'}, {'NLPSpeechId': '931f3906-0d3c-446c-6acd-08da102a68d8', 'ShoutId': '00000000-0000-0000-0000-000000000000', 'Begin': 544, 'End': 545, 'SentimentSingleScore': 0.0, 'Id': 'ee0f4a0a-8bbe-46bd-fac8-08da102a68e7'}, {'NLPSpeechId': '931f3906-0d3c-446c-6acd-08da102a68d8', 'ShoutId': '00000000-0000-0000-0000-000000000000', 'Begin': 545, 'End': 795, 'SentimentSingleScore': 0.7003, 'Id': 'ec3be914-280f-40b2-fac9-08da102a68e7'}, {'NLPSpeechId': '931f3906-0d3c-446c-6acd-08da102a68d8', 'ShoutId': '00000000-0000-0000-0000-000000000000', 'Begin': 796, 'End': 818, 'SentimentSingleScore': 0.0, 'Id': '28f432cd-caf1-48e7-faca-08da102a68e7'}, {'NLPSpeechId': '931f3906-0d3c-446c-6acd-08da102a68d8', 'ShoutId': '00000000-0000-0000-0000-000000000000', 'Begin': 819, 'End': 845, 'SentimentSingleScore': 0.0, 'Id': '0265d11c-fa31-48ae-facb-08da102a68e7'}, {'NLPSpeechId': '931f3906-0d3c-446c-6acd-08da102a68d8', 'ShoutId': '00000000-0000-0000-0000-000000000000', 'Begin': 846, 'End': 878, 'SentimentSingleScore': 0.0, 'Id': 'ddee85ac-1aab-408d-facc-08da102a68e7'}, {'NLPSpeechId': '931f3906-0d3c-446c-6acd-08da102a68d8', 'ShoutId': '00000000-0000-0000-0000-000000000000', 'Begin': 879, 'End': 1001, 'SentimentSingleScore': 0.7003, 'Id': 'd49b8dde-f646-4936-facd-08da102a68e7'}, {'NLPSpeechId': '931f3906-0d3c-446c-6acd-08da102a68d8', 'ShoutId': '00000000-0000-0000-0000-000000000000', 'Begin': 1002, 'End': 1067, 'SentimentSingleScore': 0.0, 'Id': '75bba80d-ac71-4652-face-08da102a68e7'}, {'NLPSpeechId': '931f3906-0d3c-446c-6acd-08da102a68d8', 'ShoutId': '00000000-0000-0000-0000-000000000000', 'Begin': 1068, 'End': 1149, 'SentimentSingleScore': 0.7184, 'Id': 'ba93cf0c-4d92-44e4-facf-08da102a68e7'}, {'NLPSpeechId': '931f3906-0d3c-446c-6acd-08da102a68d8', 'ShoutId': '00000000-0000-0000-0000-000000000000', 'Begin': 1150, 'End': 1194, 'SentimentSingleScore': 0.4019, 'Id': '1b244846-8011-43e3-fad0-08da102a68e7'}, {'NLPSpeechId': '931f3906-0d3c-446c-6acd-08da102a68d8', 'ShoutId': '00000000-0000-0000-0000-000000000000', 'Begin': 1194, 'End': 1195, 'SentimentSingleScore': 0.0, 'Id': 'dadafe1e-0d13-4386-fad1-08da102a68e7'}]\n",
      "AbstractSummary:  None\n",
      "AbstractSummaryPEGASUS:  None\n",
      "ExtractiveSummary:  None\n"
     ]
    }
   ],
   "source": [
    "# example 1\n",
    "print(\"NamedEntities: \", data['NLPSpeeches'][30]['NamedEntities'])\n",
    "print(\"Tokens: \", data['NLPSpeeches'][30]['Tokens']) \n",
    "print(\"Sentiments: \", data['NLPSpeeches'][30]['Sentiments'])\n",
    "print(\"AbstractSummary: \", data['NLPSpeeches'][30]['AbstractSummary'])\n",
    "print(\"AbstractSummaryPEGASUS: \", data['NLPSpeeches'][30]['AbstractSummaryPEGASUS'])\n",
    "print(\"ExtractiveSummary: \", data['NLPSpeeches'][30]['ExtractiveSummary'])"
   ]
  },
  {
   "cell_type": "code",
   "execution_count": 19,
   "id": "6c75e846",
   "metadata": {},
   "outputs": [
    {
     "name": "stdout",
     "output_type": "stream",
     "text": [
      "NamedEntities:  [{'LemmaValue': 'Bundeskanzlerin', 'NLPSpeechId': '563e2437-3e04-4221-62f3-08da0f22a008', 'ShoutId': '00000000-0000-0000-0000-000000000000', 'Begin': 22, 'End': 37, 'Value': 'MISC', 'Id': 'aed591ca-be94-43c4-c45f-08da0f22a015'}, {'LemmaValue': 'Deutschland', 'NLPSpeechId': '563e2437-3e04-4221-62f3-08da0f22a008', 'ShoutId': '00000000-0000-0000-0000-000000000000', 'Begin': 51, 'End': 62, 'Value': 'LOC', 'Id': 'db9f11ce-6bbd-43ac-c460-08da0f22a015'}, {'LemmaValue': 'Wiedervereinigung', 'NLPSpeechId': '563e2437-3e04-4221-62f3-08da0f22a008', 'ShoutId': '00000000-0000-0000-0000-000000000000', 'Begin': 145, 'End': 162, 'Value': 'MISC', 'Id': '10ffff21-9229-4439-c461-08da0f22a015'}, {'LemmaValue': 'Kommission', 'NLPSpeechId': '563e2437-3e04-4221-62f3-08da0f22a008', 'ShoutId': '00000000-0000-0000-0000-000000000000', 'Begin': 478, 'End': 488, 'Value': 'ORG', 'Id': '3de7938e-e3c4-4ea9-c462-08da0f22a015'}, {'LemmaValue': 'Deutschland', 'NLPSpeechId': '563e2437-3e04-4221-62f3-08da0f22a008', 'ShoutId': '00000000-0000-0000-0000-000000000000', 'Begin': 527, 'End': 538, 'Value': 'LOC', 'Id': 'acabac02-44ea-4f8d-c463-08da0f22a015'}, {'LemmaValue': 'Deutschland', 'NLPSpeechId': '563e2437-3e04-4221-62f3-08da0f22a008', 'ShoutId': '00000000-0000-0000-0000-000000000000', 'Begin': 634, 'End': 645, 'Value': 'LOC', 'Id': 'aba4b967-74b7-4655-c464-08da0f22a015'}, {'LemmaValue': 'Deutschland', 'NLPSpeechId': '563e2437-3e04-4221-62f3-08da0f22a008', 'ShoutId': '00000000-0000-0000-0000-000000000000', 'Begin': 748, 'End': 759, 'Value': 'LOC', 'Id': 'e7eedefc-6692-4da6-c465-08da0f22a015'}, {'LemmaValue': 'Wort', 'NLPSpeechId': '563e2437-3e04-4221-62f3-08da0f22a008', 'ShoutId': '00000000-0000-0000-0000-000000000000', 'Begin': 936, 'End': 940, 'Value': 'MISC', 'Id': '9cbb2473-7877-471c-c466-08da0f22a015'}]\n",
      "Tokens:  None\n",
      "Sentiments:  [{'NLPSpeechId': '563e2437-3e04-4221-62f3-08da0f22a008', 'ShoutId': '00000000-0000-0000-0000-000000000000', 'Begin': 0, 'End': 87, 'SentimentSingleScore': -0.4767, 'Id': 'caa32d94-1dca-483e-0c04-08da0f22a019'}, {'NLPSpeechId': '563e2437-3e04-4221-62f3-08da0f22a008', 'ShoutId': '00000000-0000-0000-0000-000000000000', 'Begin': 88, 'End': 242, 'SentimentSingleScore': -0.2263, 'Id': 'f1081cd7-514c-4537-0c05-08da0f22a019'}, {'NLPSpeechId': '563e2437-3e04-4221-62f3-08da0f22a008', 'ShoutId': '00000000-0000-0000-0000-000000000000', 'Begin': 243, 'End': 281, 'SentimentSingleScore': 0.0, 'Id': 'fe7704e4-587a-4984-0c06-08da0f22a019'}, {'NLPSpeechId': '563e2437-3e04-4221-62f3-08da0f22a008', 'ShoutId': '00000000-0000-0000-0000-000000000000', 'Begin': 282, 'End': 330, 'SentimentSingleScore': 0.0, 'Id': '47840fe9-3764-42a8-0c07-08da0f22a019'}, {'NLPSpeechId': '563e2437-3e04-4221-62f3-08da0f22a008', 'ShoutId': '00000000-0000-0000-0000-000000000000', 'Begin': 331, 'End': 579, 'SentimentSingleScore': 0.7845, 'Id': 'be13b3df-0432-4aed-0c08-08da0f22a019'}, {'NLPSpeechId': '563e2437-3e04-4221-62f3-08da0f22a008', 'ShoutId': '00000000-0000-0000-0000-000000000000', 'Begin': 579, 'End': 691, 'SentimentSingleScore': -0.2023, 'Id': 'dc3b0070-82ad-44dd-0c09-08da0f22a019'}, {'NLPSpeechId': '563e2437-3e04-4221-62f3-08da0f22a008', 'ShoutId': '00000000-0000-0000-0000-000000000000', 'Begin': 692, 'End': 848, 'SentimentSingleScore': 0.8442, 'Id': '3e922539-006d-470c-0c0a-08da0f22a019'}, {'NLPSpeechId': '563e2437-3e04-4221-62f3-08da0f22a008', 'ShoutId': '00000000-0000-0000-0000-000000000000', 'Begin': 849, 'End': 947, 'SentimentSingleScore': 0.4767, 'Id': '9d1de024-a950-4ba5-0c0b-08da0f22a019'}, {'NLPSpeechId': '563e2437-3e04-4221-62f3-08da0f22a008', 'ShoutId': '00000000-0000-0000-0000-000000000000', 'Begin': 948, 'End': 1107, 'SentimentSingleScore': 0.765, 'Id': '3de50a5c-5a5d-42a7-0c0c-08da0f22a019'}, {'NLPSpeechId': '563e2437-3e04-4221-62f3-08da0f22a008', 'ShoutId': '00000000-0000-0000-0000-000000000000', 'Begin': 1107, 'End': 1108, 'SentimentSingleScore': 0.0, 'Id': '2d145d35-c0f5-44ea-0c0d-08da0f22a019'}]\n",
      "AbstractSummary:  None\n",
      "AbstractSummaryPEGASUS:  None\n",
      "ExtractiveSummary:  None\n"
     ]
    }
   ],
   "source": [
    "# example 2\n",
    "print(\"NamedEntities: \", data['NLPSpeeches'][24]['NamedEntities'])\n",
    "print(\"Tokens: \", data['NLPSpeeches'][24]['Tokens'])\n",
    "print(\"Sentiments: \", data['NLPSpeeches'][24]['Sentiments'])\n",
    "print(\"AbstractSummary: \", data['NLPSpeeches'][24]['AbstractSummary'])\n",
    "print(\"AbstractSummaryPEGASUS: \", data['NLPSpeeches'][24]['AbstractSummaryPEGASUS'])\n",
    "print(\"ExtractiveSummary: \", data['NLPSpeeches'][24]['ExtractiveSummary'])"
   ]
  },
  {
   "cell_type": "code",
   "execution_count": null,
   "id": "0a0486fb",
   "metadata": {},
   "outputs": [
    {
     "name": "stdout",
     "output_type": "stream",
     "text": [
      "ProtocolNumber:  35\n",
      "LegislaturePeriod:  19\n",
      "AgendaItemNumber:  1\n",
      "MongoId:  61ffafe7d0740928515ea623\n"
     ]
    }
   ],
   "source": [
    "# potentially helpful properties\n",
    "print(\"ProtocolNumber: \", data['NLPSpeeches'][30]['ProtocolNumber'])\n",
    "print(\"LegislaturePeriod: \", data['NLPSpeeches'][30]['LegislaturePeriod'])\n",
    "print(\"AgendaItemNumber: \", data['NLPSpeeches'][30]['AgendaItemNumber'])\n",
    "print(\"MongoId: \", data['NLPSpeeches'][30]['MongoId']) # mondo DB --> database ID?"
   ]
  },
  {
   "cell_type": "markdown",
   "id": "02f98e79",
   "metadata": {},
   "source": [
    "***\n",
    "## **Handle one whole file**\n",
    "***"
   ]
  },
  {
   "cell_type": "code",
   "execution_count": 21,
   "id": "af8064df",
   "metadata": {},
   "outputs": [
    {
     "name": "stdout",
     "output_type": "stream",
     "text": [
      "Nr. of Speeches: 74\n"
     ]
    }
   ],
   "source": [
    "print(\"Nr. of Speeches:\", len(data[\"NLPSpeeches\"]))"
   ]
  },
  {
   "cell_type": "code",
   "execution_count": 22,
   "id": "a98288b5",
   "metadata": {},
   "outputs": [
    {
     "data": {
      "text/html": [
       "<div>\n",
       "<style scoped>\n",
       "    .dataframe tbody tr th:only-of-type {\n",
       "        vertical-align: middle;\n",
       "    }\n",
       "\n",
       "    .dataframe tbody tr th {\n",
       "        vertical-align: top;\n",
       "    }\n",
       "\n",
       "    .dataframe thead th {\n",
       "        text-align: right;\n",
       "    }\n",
       "</style>\n",
       "<table border=\"1\" class=\"dataframe\">\n",
       "  <thead>\n",
       "    <tr style=\"text-align: right;\">\n",
       "      <th></th>\n",
       "      <th>speech_id</th>\n",
       "      <th>speaker_id</th>\n",
       "      <th>speech_text</th>\n",
       "      <th>legislative_period</th>\n",
       "      <th>protocol_nr</th>\n",
       "      <th>agenda_item_number</th>\n",
       "    </tr>\n",
       "  </thead>\n",
       "  <tbody>\n",
       "    <tr>\n",
       "      <th>0</th>\n",
       "      <td>851aed59-8247-4b96-2769-08da0d9e2391</td>\n",
       "      <td>11001478</td>\n",
       "      <td>Es ist Gegenstand meiner Gespräche mit dem Bun...</td>\n",
       "      <td>19</td>\n",
       "      <td>35</td>\n",
       "      <td>1</td>\n",
       "    </tr>\n",
       "    <tr>\n",
       "      <th>1</th>\n",
       "      <td>46b1bec8-45cb-4d82-f1e7-08da0daf380d</td>\n",
       "      <td>11001478</td>\n",
       "      <td>Ich sehe sehr wohl, dass es wünschenswert ist,...</td>\n",
       "      <td>19</td>\n",
       "      <td>35</td>\n",
       "      <td>1</td>\n",
       "    </tr>\n",
       "    <tr>\n",
       "      <th>2</th>\n",
       "      <td>a1c908ab-52ba-42da-f853-08da0daf380d</td>\n",
       "      <td>11001478</td>\n",
       "      <td>Ich sehe noch Gesprächsbedarf innerhalb der Bu...</td>\n",
       "      <td>19</td>\n",
       "      <td>35</td>\n",
       "      <td>1</td>\n",
       "    </tr>\n",
       "    <tr>\n",
       "      <th>3</th>\n",
       "      <td>1e6f86cd-5efa-4f2e-f9eb-08da0daf380d</td>\n",
       "      <td>11001478</td>\n",
       "      <td>Auf dem G-7-Gipfel haben wir, glaube ich, nich...</td>\n",
       "      <td>19</td>\n",
       "      <td>35</td>\n",
       "      <td>1</td>\n",
       "    </tr>\n",
       "    <tr>\n",
       "      <th>4</th>\n",
       "      <td>1160cbc7-5d16-4074-fcef-08da0daf380d</td>\n",
       "      <td>11001478</td>\n",
       "      <td>Ich habe in meiner Einführung gesagt, dass sic...</td>\n",
       "      <td>19</td>\n",
       "      <td>35</td>\n",
       "      <td>1</td>\n",
       "    </tr>\n",
       "    <tr>\n",
       "      <th>...</th>\n",
       "      <td>...</td>\n",
       "      <td>...</td>\n",
       "      <td>...</td>\n",
       "      <td>...</td>\n",
       "      <td>...</td>\n",
       "      <td>...</td>\n",
       "    </tr>\n",
       "    <tr>\n",
       "      <th>69</th>\n",
       "      <td>3912ac29-ae94-4d94-05be-08da0f05b642</td>\n",
       "      <td>11004831</td>\n",
       "      <td>Verehrte Frau Bundeskanzlerin, die G 7 brauche...</td>\n",
       "      <td>19</td>\n",
       "      <td>35</td>\n",
       "      <td>1</td>\n",
       "    </tr>\n",
       "    <tr>\n",
       "      <th>70</th>\n",
       "      <td>c0b49e79-da01-43aa-26d8-08da0d9e2391</td>\n",
       "      <td>11004905</td>\n",
       "      <td></td>\n",
       "      <td>19</td>\n",
       "      <td>35</td>\n",
       "      <td>1</td>\n",
       "    </tr>\n",
       "    <tr>\n",
       "      <th>71</th>\n",
       "      <td>fb54d2c4-2a96-4bc1-6ba7-08da0f22a008</td>\n",
       "      <td>11004911</td>\n",
       "      <td>Sehr geehrter Herr Präsident! Werte Kolleginne...</td>\n",
       "      <td>19</td>\n",
       "      <td>35</td>\n",
       "      <td>3</td>\n",
       "    </tr>\n",
       "    <tr>\n",
       "      <th>72</th>\n",
       "      <td>70868387-5556-4379-4cd5-08da0e9b3c58</td>\n",
       "      <td>11004914</td>\n",
       "      <td></td>\n",
       "      <td>19</td>\n",
       "      <td>35</td>\n",
       "      <td>1</td>\n",
       "    </tr>\n",
       "    <tr>\n",
       "      <th>73</th>\n",
       "      <td>3bb3e9ab-8a61-4236-f229-08da0daf380d</td>\n",
       "      <td>11004937</td>\n",
       "      <td>Herr Präsident! Werte Kollegen! Liebe Gäste de...</td>\n",
       "      <td>19</td>\n",
       "      <td>35</td>\n",
       "      <td>3</td>\n",
       "    </tr>\n",
       "  </tbody>\n",
       "</table>\n",
       "<p>74 rows × 6 columns</p>\n",
       "</div>"
      ],
      "text/plain": [
       "                               speech_id speaker_id  \\\n",
       "0   851aed59-8247-4b96-2769-08da0d9e2391   11001478   \n",
       "1   46b1bec8-45cb-4d82-f1e7-08da0daf380d   11001478   \n",
       "2   a1c908ab-52ba-42da-f853-08da0daf380d   11001478   \n",
       "3   1e6f86cd-5efa-4f2e-f9eb-08da0daf380d   11001478   \n",
       "4   1160cbc7-5d16-4074-fcef-08da0daf380d   11001478   \n",
       "..                                   ...        ...   \n",
       "69  3912ac29-ae94-4d94-05be-08da0f05b642   11004831   \n",
       "70  c0b49e79-da01-43aa-26d8-08da0d9e2391   11004905   \n",
       "71  fb54d2c4-2a96-4bc1-6ba7-08da0f22a008   11004911   \n",
       "72  70868387-5556-4379-4cd5-08da0e9b3c58   11004914   \n",
       "73  3bb3e9ab-8a61-4236-f229-08da0daf380d   11004937   \n",
       "\n",
       "                                          speech_text legislative_period  \\\n",
       "0   Es ist Gegenstand meiner Gespräche mit dem Bun...                 19   \n",
       "1   Ich sehe sehr wohl, dass es wünschenswert ist,...                 19   \n",
       "2   Ich sehe noch Gesprächsbedarf innerhalb der Bu...                 19   \n",
       "3   Auf dem G-7-Gipfel haben wir, glaube ich, nich...                 19   \n",
       "4   Ich habe in meiner Einführung gesagt, dass sic...                 19   \n",
       "..                                                ...                ...   \n",
       "69  Verehrte Frau Bundeskanzlerin, die G 7 brauche...                 19   \n",
       "70                                                                    19   \n",
       "71  Sehr geehrter Herr Präsident! Werte Kolleginne...                 19   \n",
       "72                                                                    19   \n",
       "73  Herr Präsident! Werte Kollegen! Liebe Gäste de...                 19   \n",
       "\n",
       "   protocol_nr agenda_item_number  \n",
       "0           35                  1  \n",
       "1           35                  1  \n",
       "2           35                  1  \n",
       "3           35                  1  \n",
       "4           35                  1  \n",
       "..         ...                ...  \n",
       "69          35                  1  \n",
       "70          35                  1  \n",
       "71          35                  3  \n",
       "72          35                  1  \n",
       "73          35                  3  \n",
       "\n",
       "[74 rows x 6 columns]"
      ]
     },
     "execution_count": 22,
     "metadata": {},
     "output_type": "execute_result"
    }
   ],
   "source": [
    "# legislative period 19, session 35\n",
    "df_LP19_35 = pd.DataFrame(columns=['speech_id', 'speaker_id', 'speech_text', 'legislative_period', 'protocol_nr', 'agenda_item_number'])\n",
    "\n",
    "\n",
    "for i, speech in enumerate(data[\"NLPSpeeches\"]):\n",
    "\n",
    "\n",
    "    row = {\n",
    "        'speech_id' : speech['Id'], \n",
    "        'speaker_id' : speech['SpeakerId'], \n",
    "        'speech_text' : speech['Text'], \n",
    "        'legislative_period' : speech['LegislaturePeriod'], \n",
    "        'protocol_nr' : speech['ProtocolNumber'], \n",
    "        'agenda_item_number' : speech['AgendaItemNumber']\n",
    "    }\n",
    "\n",
    "    df_LP19_35 = pd.concat([df_LP19_35, pd.DataFrame([row])], ignore_index=True)\n",
    "  \n",
    "df_LP19_35\n",
    "\n"
   ]
  },
  {
   "cell_type": "markdown",
   "id": "78d9c169",
   "metadata": {},
   "source": [
    "***\n",
    "## **Go over all files**\n",
    "***"
   ]
  },
  {
   "cell_type": "code",
   "execution_count": 23,
   "id": "d82c3a34",
   "metadata": {},
   "outputs": [
    {
     "data": {
      "text/plain": [
       "329"
      ]
     },
     "execution_count": 23,
     "metadata": {},
     "output_type": "execute_result"
    }
   ],
   "source": [
    "len(json_files)"
   ]
  },
  {
   "cell_type": "code",
   "execution_count": null,
   "id": "c7952d0b",
   "metadata": {},
   "outputs": [],
   "source": [
    "# df for all speeches, from all 329 sessions\n",
    "df_all = pd.DataFrame(columns=['speech_id', 'speaker_id', 'speech_text', 'legislative_period', 'protocol_nr', 'agenda_item_number'])\n",
    "\n",
    "\n",
    "# loop over all files\n",
    "for session_file in json_files:\n",
    "\n",
    "    # get temporary data from current session\n",
    "    with open(f\"{session_file}\", 'r') as file:\n",
    "        data_temp = json.load(file)\n",
    "\n",
    "    # make df\n",
    "    df_temp = pd.DataFrame(columns=['speech_id', 'speaker_id', 'speech_text', 'legislative_period', 'protocol_nr', 'agenda_item_number'])\n",
    "\n",
    "\n",
    "    # loop over all speeches, extract relevant features\n",
    "    for i, speech in enumerate(data_temp[\"NLPSpeeches\"]):\n",
    "        row = {\n",
    "            'speech_id' : speech['Id'], \n",
    "            'speaker_id' : speech['SpeakerId'], \n",
    "            'speech_text' : speech['Text'], \n",
    "            'legislative_period' : speech['LegislaturePeriod'], \n",
    "            'protocol_nr' : speech['ProtocolNumber'], \n",
    "            'agenda_item_number' : speech['AgendaItemNumber']\n",
    "        }\n",
    "\n",
    "        # add current speech\n",
    "        df_temp = pd.concat([df_temp, pd.DataFrame([row])], ignore_index=True)\n",
    "\n",
    "\n",
    "    df_all = pd.concat([df_all, df_temp], ignore_index=True)\n",
    "\n",
    "# ~30 sec. runtime"
   ]
  },
  {
   "cell_type": "code",
   "execution_count": 25,
   "id": "e22dd26c",
   "metadata": {},
   "outputs": [
    {
     "name": "stdout",
     "output_type": "stream",
     "text": [
      "Legislative Periods:  [19 20]\n",
      "Nr. of sessions in 19th:  239\n",
      "Nr. of sessions in 20th:  90\n",
      "Nr. of sessions:  329\n",
      "Session Nr. check:  True\n"
     ]
    }
   ],
   "source": [
    "# sainity checks\n",
    "\n",
    "print(\"Legislative Periods: \", df_all['legislative_period'].unique()) # fine\n",
    "\n",
    "print(\"Nr. of sessions in 19th: \", len(df_all[df_all['legislative_period'] == 19]['protocol_nr'].unique())) # fine\n",
    "print(\"Nr. of sessions in 20th: \", len(df_all[df_all['legislative_period'] == 20]['protocol_nr'].unique())) # just 90?\n",
    "\n",
    "nr_sessions_19 = len(df_all[df_all['legislative_period'] == 19]['protocol_nr'].unique())\n",
    "nr_sessions_20 = len(df_all[df_all['legislative_period'] == 20]['protocol_nr'].unique())\n",
    "\n",
    "print(\"Nr. of sessions: \", nr_sessions_19 + nr_sessions_20)\n",
    "print(\"Session Nr. check: \", nr_sessions_19 + nr_sessions_20 == len(json_files))"
   ]
  },
  {
   "cell_type": "code",
   "execution_count": 26,
   "id": "f20dc3c8",
   "metadata": {},
   "outputs": [
    {
     "data": {
      "text/html": [
       "<div>\n",
       "<style scoped>\n",
       "    .dataframe tbody tr th:only-of-type {\n",
       "        vertical-align: middle;\n",
       "    }\n",
       "\n",
       "    .dataframe tbody tr th {\n",
       "        vertical-align: top;\n",
       "    }\n",
       "\n",
       "    .dataframe thead th {\n",
       "        text-align: right;\n",
       "    }\n",
       "</style>\n",
       "<table border=\"1\" class=\"dataframe\">\n",
       "  <thead>\n",
       "    <tr style=\"text-align: right;\">\n",
       "      <th></th>\n",
       "      <th>speech_id</th>\n",
       "      <th>speaker_id</th>\n",
       "      <th>speech_text</th>\n",
       "      <th>legislative_period</th>\n",
       "      <th>protocol_nr</th>\n",
       "      <th>agenda_item_number</th>\n",
       "    </tr>\n",
       "  </thead>\n",
       "  <tbody>\n",
       "    <tr>\n",
       "      <th>0</th>\n",
       "      <td>0c6d709a-3af2-4e75-55ac-08da0f22a008</td>\n",
       "      <td>11001074</td>\n",
       "      <td></td>\n",
       "      <td>19</td>\n",
       "      <td>1</td>\n",
       "      <td>3</td>\n",
       "    </tr>\n",
       "    <tr>\n",
       "      <th>1</th>\n",
       "      <td>f7f58b13-85f3-424a-6864-08da102a68d8</td>\n",
       "      <td>11001235</td>\n",
       "      <td>Herr Präsident, ich nehme die Wahl an.\\nDann b...</td>\n",
       "      <td>19</td>\n",
       "      <td>1</td>\n",
       "      <td>6</td>\n",
       "    </tr>\n",
       "    <tr>\n",
       "      <th>2</th>\n",
       "      <td>d0c84378-49ab-47ce-61aa-08da102a68d8</td>\n",
       "      <td>11001938</td>\n",
       "      <td>Das ist der Fall. – Ich sehe keine weiteren Vo...</td>\n",
       "      <td>19</td>\n",
       "      <td>1</td>\n",
       "      <td>3</td>\n",
       "    </tr>\n",
       "    <tr>\n",
       "      <th>3</th>\n",
       "      <td>649d0b8b-6770-47cf-ff0a-08da0f05b641</td>\n",
       "      <td>11001938</td>\n",
       "      <td></td>\n",
       "      <td>19</td>\n",
       "      <td>1</td>\n",
       "      <td>3</td>\n",
       "    </tr>\n",
       "    <tr>\n",
       "      <th>4</th>\n",
       "      <td>5516f789-3f1e-47cc-522d-08da0f22a008</td>\n",
       "      <td>11002190</td>\n",
       "      <td></td>\n",
       "      <td>19</td>\n",
       "      <td>1</td>\n",
       "      <td>3</td>\n",
       "    </tr>\n",
       "    <tr>\n",
       "      <th>...</th>\n",
       "      <td>...</td>\n",
       "      <td>...</td>\n",
       "      <td>...</td>\n",
       "      <td>...</td>\n",
       "      <td>...</td>\n",
       "      <td>...</td>\n",
       "    </tr>\n",
       "    <tr>\n",
       "      <th>33944</th>\n",
       "      <td>49664a2c-adde-4492-bfd5-97d1a99a83f7</td>\n",
       "      <td>11005228</td>\n",
       "      <td>Frau Präsidentin! Meine Damen! Meine Herren! I...</td>\n",
       "      <td>20</td>\n",
       "      <td>92</td>\n",
       "      <td>1</td>\n",
       "    </tr>\n",
       "    <tr>\n",
       "      <th>33945</th>\n",
       "      <td>851ade38-70d2-46c1-8125-8d799c7602db</td>\n",
       "      <td>11005251</td>\n",
       "      <td>Sehr geehrte Frau Präsidentin! Sehr geehrte Ko...</td>\n",
       "      <td>20</td>\n",
       "      <td>92</td>\n",
       "      <td>2</td>\n",
       "    </tr>\n",
       "    <tr>\n",
       "      <th>33946</th>\n",
       "      <td>63673dff-7423-4a3d-a613-05c0ee1b23c1</td>\n",
       "      <td>11005251</td>\n",
       "      <td>Sehr geehrte Frau Präsidentin! Sehr geehrte Ko...</td>\n",
       "      <td>20</td>\n",
       "      <td>92</td>\n",
       "      <td>5</td>\n",
       "    </tr>\n",
       "    <tr>\n",
       "      <th>33947</th>\n",
       "      <td>ef2ca5c9-7242-42b6-b574-b22e40cf0253</td>\n",
       "      <td>11005263</td>\n",
       "      <td>Sehr geehrter Herr Präsident! Liebe Kolleginne...</td>\n",
       "      <td>20</td>\n",
       "      <td>92</td>\n",
       "      <td>3</td>\n",
       "    </tr>\n",
       "    <tr>\n",
       "      <th>33948</th>\n",
       "      <td>d6c7faf3-e82d-4759-b440-4a4919d67314</td>\n",
       "      <td>11005289</td>\n",
       "      <td>Sehr geehrter Herr Präsident! Liebe Kolleginne...</td>\n",
       "      <td>20</td>\n",
       "      <td>92</td>\n",
       "      <td>5</td>\n",
       "    </tr>\n",
       "  </tbody>\n",
       "</table>\n",
       "<p>33949 rows × 6 columns</p>\n",
       "</div>"
      ],
      "text/plain": [
       "                                  speech_id speaker_id  \\\n",
       "0      0c6d709a-3af2-4e75-55ac-08da0f22a008   11001074   \n",
       "1      f7f58b13-85f3-424a-6864-08da102a68d8   11001235   \n",
       "2      d0c84378-49ab-47ce-61aa-08da102a68d8   11001938   \n",
       "3      649d0b8b-6770-47cf-ff0a-08da0f05b641   11001938   \n",
       "4      5516f789-3f1e-47cc-522d-08da0f22a008   11002190   \n",
       "...                                     ...        ...   \n",
       "33944  49664a2c-adde-4492-bfd5-97d1a99a83f7   11005228   \n",
       "33945  851ade38-70d2-46c1-8125-8d799c7602db   11005251   \n",
       "33946  63673dff-7423-4a3d-a613-05c0ee1b23c1   11005251   \n",
       "33947  ef2ca5c9-7242-42b6-b574-b22e40cf0253   11005263   \n",
       "33948  d6c7faf3-e82d-4759-b440-4a4919d67314   11005289   \n",
       "\n",
       "                                             speech_text legislative_period  \\\n",
       "0                                                                        19   \n",
       "1      Herr Präsident, ich nehme die Wahl an.\\nDann b...                 19   \n",
       "2      Das ist der Fall. – Ich sehe keine weiteren Vo...                 19   \n",
       "3                                                                        19   \n",
       "4                                                                        19   \n",
       "...                                                  ...                ...   \n",
       "33944  Frau Präsidentin! Meine Damen! Meine Herren! I...                 20   \n",
       "33945  Sehr geehrte Frau Präsidentin! Sehr geehrte Ko...                 20   \n",
       "33946  Sehr geehrte Frau Präsidentin! Sehr geehrte Ko...                 20   \n",
       "33947  Sehr geehrter Herr Präsident! Liebe Kolleginne...                 20   \n",
       "33948  Sehr geehrter Herr Präsident! Liebe Kolleginne...                 20   \n",
       "\n",
       "      protocol_nr agenda_item_number  \n",
       "0               1                  3  \n",
       "1               1                  6  \n",
       "2               1                  3  \n",
       "3               1                  3  \n",
       "4               1                  3  \n",
       "...           ...                ...  \n",
       "33944          92                  1  \n",
       "33945          92                  2  \n",
       "33946          92                  5  \n",
       "33947          92                  3  \n",
       "33948          92                  5  \n",
       "\n",
       "[33949 rows x 6 columns]"
      ]
     },
     "execution_count": 26,
     "metadata": {},
     "output_type": "execute_result"
    }
   ],
   "source": [
    "# first glance\n",
    "df_all"
   ]
  },
  {
   "cell_type": "code",
   "execution_count": 27,
   "id": "0706b578",
   "metadata": {},
   "outputs": [
    {
     "data": {
      "text/html": [
       "<div>\n",
       "<style scoped>\n",
       "    .dataframe tbody tr th:only-of-type {\n",
       "        vertical-align: middle;\n",
       "    }\n",
       "\n",
       "    .dataframe tbody tr th {\n",
       "        vertical-align: top;\n",
       "    }\n",
       "\n",
       "    .dataframe thead th {\n",
       "        text-align: right;\n",
       "    }\n",
       "</style>\n",
       "<table border=\"1\" class=\"dataframe\">\n",
       "  <thead>\n",
       "    <tr style=\"text-align: right;\">\n",
       "      <th></th>\n",
       "      <th>speech_id</th>\n",
       "      <th>speaker_id</th>\n",
       "      <th>speech_text</th>\n",
       "      <th>legislative_period</th>\n",
       "      <th>protocol_nr</th>\n",
       "      <th>agenda_item_number</th>\n",
       "    </tr>\n",
       "  </thead>\n",
       "  <tbody>\n",
       "  </tbody>\n",
       "</table>\n",
       "</div>"
      ],
      "text/plain": [
       "Empty DataFrame\n",
       "Columns: [speech_id, speaker_id, speech_text, legislative_period, protocol_nr, agenda_item_number]\n",
       "Index: []"
      ]
     },
     "execution_count": 27,
     "metadata": {},
     "output_type": "execute_result"
    }
   ],
   "source": [
    "# NaN's? --> no\n",
    "df_all[df_all.isna().any(axis=1)]"
   ]
  },
  {
   "cell_type": "code",
   "execution_count": 28,
   "id": "c34b1fc0",
   "metadata": {},
   "outputs": [
    {
     "data": {
      "text/plain": [
       "''"
      ]
     },
     "execution_count": 28,
     "metadata": {},
     "output_type": "execute_result"
    }
   ],
   "source": [
    "df_all['speech_text'][0] # but empty texts"
   ]
  },
  {
   "cell_type": "code",
   "execution_count": 29,
   "id": "df76b254",
   "metadata": {},
   "outputs": [
    {
     "name": "stdout",
     "output_type": "stream",
     "text": [
      "Kept 32589 speeches.\n"
     ]
    }
   ],
   "source": [
    "df_all_clean = df_all[df_all['speech_text'] != ''].reset_index()\n",
    "print(\"Kept\", len(df_all_clean), \"speeches.\")"
   ]
  },
  {
   "cell_type": "code",
   "execution_count": 30,
   "id": "6d606285",
   "metadata": {},
   "outputs": [],
   "source": [
    "# save/export\n",
    "\n",
    "df_all_clean.to_csv(\"../data/speeches.csv\", index = False)"
   ]
  },
  {
   "cell_type": "code",
   "execution_count": 31,
   "id": "b51527b9",
   "metadata": {},
   "outputs": [
    {
     "name": "stdout",
     "output_type": "stream",
     "text": [
      "Nr. unqiue speaker:  1034\n"
     ]
    }
   ],
   "source": [
    "# get unique speaker IDs\n",
    "\n",
    "print(\"Nr. unqiue speaker: \", len(df_all_clean[\"speaker_id\"].unique()))\n",
    "\n",
    "unique_speaker = pd.DataFrame((df_all_clean[\"speaker_id\"].unique())).rename(columns={0: 'speaker_id'})\n",
    "unique_speaker.to_csv(\"../data/unique_speaker_ids.csv\", index=False)"
   ]
  },
  {
   "cell_type": "markdown",
   "id": "ffef0e91",
   "metadata": {},
   "source": [
    "***\n",
    "#### **Estelle adds: Get Agenda Item and Protocol Info**"
   ]
  },
  {
   "cell_type": "code",
   "execution_count": 105,
   "id": "b31de03b",
   "metadata": {},
   "outputs": [
    {
     "data": {
      "text/plain": [
       "{'Date': '2018-06-06T00:00:00',\n",
       " 'LegislaturePeriod': 19,\n",
       " 'Number': 35,\n",
       " 'Title': '35. Sitzung',\n",
       " 'AgendaItemsCount': 3,\n",
       " 'MongoId': '6205403f03957565211832a9',\n",
       " 'Id': '8041bc88-6eb5-46cc-ee26-08da0c32b602'}"
      ]
     },
     "execution_count": 105,
     "metadata": {},
     "output_type": "execute_result"
    }
   ],
   "source": [
    "data['Protocol']"
   ]
  },
  {
   "cell_type": "code",
   "execution_count": 112,
   "id": "cfd94b7c",
   "metadata": {},
   "outputs": [
    {
     "data": {
      "text/plain": [
       "{'Title': 'Befragung der Bundesregierung',\n",
       " 'Description': 'Befragung der Bundesregierung<br>Thema: G7-Gipfel in Charlevoix/Kanada am 8./9. Juni 2018',\n",
       " 'AgendaItemNumber': '1',\n",
       " 'Order': 1,\n",
       " 'Date': '2018-06-06T12:30:00',\n",
       " 'ProtocolId': '8041bc88-6eb5-46cc-ee26-08da0c32b602',\n",
       " 'Id': 'c5adf015-e656-4f56-ddbb-08da7bac5b11'}"
      ]
     },
     "execution_count": 112,
     "metadata": {},
     "output_type": "execute_result"
    }
   ],
   "source": [
    "data['AgendaItems'][0]"
   ]
  },
  {
   "cell_type": "markdown",
   "id": "a54fc9c5",
   "metadata": {},
   "source": [
    "#### Protocol data"
   ]
  },
  {
   "cell_type": "code",
   "execution_count": 88,
   "id": "1bc42004",
   "metadata": {},
   "outputs": [],
   "source": [
    "rows = []\n",
    "\n",
    "for session_file in json_files:\n",
    "    with open(session_file, 'r') as file:\n",
    "        data_temp = json.load(file)\n",
    "        rows.append(data_temp['Protocol'])\n",
    "\n",
    "# build final DataFrame in one step\n",
    "df_protocol_meta = pd.DataFrame(rows)[['Date', 'LegislaturePeriod', 'Number', 'Title', 'AgendaItemsCount', 'MongoId', 'Id']]"
   ]
  },
  {
   "cell_type": "code",
   "execution_count": 89,
   "id": "9ed8c033",
   "metadata": {},
   "outputs": [],
   "source": [
    "df_protocol_meta.rename(columns={\n",
    "    'Date': 'ProtocolDate',\n",
    "    'Title': 'SessionTitle'\n",
    "}, inplace=True)"
   ]
  },
  {
   "cell_type": "code",
   "execution_count": 90,
   "id": "8c851b86",
   "metadata": {},
   "outputs": [],
   "source": [
    "df_protocol_meta['DateOnly'] = pd.to_datetime(df_protocol_meta['ProtocolDate']).dt.date\n"
   ]
  },
  {
   "cell_type": "code",
   "execution_count": 91,
   "id": "50c8ff7e",
   "metadata": {},
   "outputs": [
    {
     "data": {
      "application/vnd.microsoft.datawrangler.viewer.v0+json": {
       "columns": [
        {
         "name": "index",
         "rawType": "int64",
         "type": "integer"
        },
        {
         "name": "ProtocolDate",
         "rawType": "object",
         "type": "string"
        },
        {
         "name": "LegislaturePeriod",
         "rawType": "int64",
         "type": "integer"
        },
        {
         "name": "Number",
         "rawType": "int64",
         "type": "integer"
        },
        {
         "name": "SessionTitle",
         "rawType": "object",
         "type": "string"
        },
        {
         "name": "AgendaItemsCount",
         "rawType": "int64",
         "type": "integer"
        },
        {
         "name": "MongoId",
         "rawType": "object",
         "type": "string"
        },
        {
         "name": "Id",
         "rawType": "object",
         "type": "string"
        },
        {
         "name": "DateOnly",
         "rawType": "object",
         "type": "unknown"
        }
       ],
       "ref": "bc4e16d9-8a25-44df-b7ff-f411e25f7359",
       "rows": [
        [
         "0",
         "2017-10-24T00:00:00",
         "19",
         "1",
         "1. Sitzung",
         "6",
         "6205403f03957565211832cb",
         "76c3b183-81d7-4cd0-ee48-08da0c32b602",
         "2017-10-24"
        ],
        [
         "1",
         "2018-01-31T00:00:00",
         "19",
         "10",
         "10. Sitzung",
         "3",
         "6205403f03957565211832c2",
         "9830dca7-f0e1-4906-ee3f-08da0c32b602",
         "2018-01-31"
        ],
        [
         "2",
         "2019-05-15T00:00:00",
         "19",
         "100",
         "100. Sitzung",
         "4",
         "6205403f0395756521183268",
         "7d5aebcf-9b16-47a6-ede5-08da0c32b602",
         "2019-05-15"
        ],
        [
         "3",
         "2019-05-16T00:00:00",
         "19",
         "101",
         "101. Sitzung",
         "26",
         "6205403f0395756521183267",
         "f98bb208-7f24-4a3f-ede4-08da0c32b602",
         "2019-05-16"
        ],
        [
         "4",
         "2019-05-17T00:00:00",
         "19",
         "102",
         "102. Sitzung",
         "11",
         "6205403f0395756521183266",
         "ee086175-6c20-44b0-ede3-08da0c32b602",
         "2019-05-17"
        ],
        [
         "5",
         "2019-06-05T00:00:00",
         "19",
         "103",
         "103. Sitzung",
         "3",
         "6205403f0395756521183265",
         "2d248c5a-a091-4699-ede2-08da0c32b602",
         "2019-06-05"
        ],
        [
         "6",
         "2019-06-06T00:00:00",
         "19",
         "104",
         "104. Sitzung",
         "27",
         "6205403f0395756521183264",
         "da035de0-f04a-4954-ede1-08da0c32b602",
         "2019-06-06"
        ],
        [
         "7",
         "2019-06-07T00:00:00",
         "19",
         "105",
         "105. Sitzung",
         "10",
         "6205403f0395756521183263",
         "98113a3f-d43f-4eae-ede0-08da0c32b602",
         "2019-06-07"
        ],
        [
         "8",
         "2019-06-26T00:00:00",
         "19",
         "106",
         "106. Sitzung",
         "4",
         "6205403f0395756521183262",
         "504e4842-7eb3-4eb9-eddf-08da0c32b602",
         "2019-06-26"
        ],
        [
         "9",
         "2019-06-27T00:00:00",
         "19",
         "107",
         "107. Sitzung",
         "33",
         "6205403f0395756521183261",
         "0a510593-6c57-4afc-edde-08da0c32b602",
         "2019-06-27"
        ],
        [
         "10",
         "2019-06-28T00:00:00",
         "19",
         "108",
         "108. Sitzung",
         "9",
         "6205403f0395756521183260",
         "d50b2ee5-626b-49cc-eddd-08da0c32b602",
         "2019-06-28"
        ],
        [
         "11",
         "2019-07-24T00:00:00",
         "19",
         "109",
         "109. Sitzung",
         "2",
         "6205403f039575652118325f",
         "386706ed-8c9c-4f2b-eddc-08da0c32b602",
         "2019-07-24"
        ],
        [
         "12",
         "2018-02-01T00:00:00",
         "19",
         "11",
         "11. Sitzung",
         "13",
         "6205403f03957565211832c1",
         "972b7f86-6ea8-4330-ee3e-08da0c32b602",
         "2018-02-01"
        ],
        [
         "13",
         "2019-09-10T00:00:00",
         "19",
         "110",
         "110. Sitzung",
         "4",
         "6205403f039575652118325e",
         "4352c5bd-81b4-43b8-eddb-08da0c32b602",
         "2019-09-10"
        ],
        [
         "14",
         "2019-09-11T00:00:00",
         "19",
         "111",
         "111. Sitzung",
         "4",
         "6205403f039575652118325d",
         "9f376bab-4854-451d-edda-08da0c32b602",
         "2019-09-11"
        ],
        [
         "15",
         "2019-09-12T00:00:00",
         "19",
         "112",
         "112. Sitzung",
         "7",
         "6205403f039575652118325c",
         "c2101fa7-e265-4450-edd9-08da0c32b602",
         "2019-09-12"
        ],
        [
         "16",
         "2019-09-13T00:00:00",
         "19",
         "113",
         "113. Sitzung",
         "3",
         "6205403f039575652118325b",
         "b0a48cb5-b31b-4498-edd8-08da0c32b602",
         "2019-09-13"
        ],
        [
         "17",
         "2019-09-25T00:00:00",
         "19",
         "114",
         "114. Sitzung",
         "3",
         "6205403f039575652118325a",
         "604225d8-5436-4f16-edd7-08da0c32b602",
         "2019-09-25"
        ],
        [
         "18",
         "2019-09-26T00:00:00",
         "19",
         "115",
         "115. Sitzung",
         "27",
         "6205403f0395756521183258",
         "52798886-8996-43cb-edd5-08da0c32b602",
         "2019-09-26"
        ],
        [
         "19",
         "2019-09-27T00:00:00",
         "19",
         "116",
         "116. Sitzung",
         "9",
         "6205403f0395756521183259",
         "253bd5d3-deeb-4b56-edd6-08da0c32b602",
         "2019-09-27"
        ],
        [
         "20",
         "2019-10-16T00:00:00",
         "19",
         "117",
         "117. Sitzung",
         "4",
         "6205403f0395756521183257",
         "833cd708-eec0-4469-edd4-08da0c32b602",
         "2019-10-16"
        ],
        [
         "21",
         "2019-10-17T00:00:00",
         "19",
         "118",
         "118. Sitzung",
         "26",
         "6205403f0395756521183256",
         "e2f3e708-c8e3-40a3-edd3-08da0c32b602",
         "2019-10-17"
        ],
        [
         "22",
         "2019-10-18T00:00:00",
         "19",
         "119",
         "119. Sitzung",
         "8",
         "6205403f0395756521183255",
         "42495e92-1abb-480f-edd2-08da0c32b602",
         "2019-10-18"
        ],
        [
         "23",
         "2018-02-02T00:00:00",
         "19",
         "12",
         "12. Sitzung",
         "6",
         "6205403f03957565211832c0",
         "b92b2bb8-8e79-41ad-ee3d-08da0c32b602",
         "2018-02-02"
        ],
        [
         "24",
         "2019-10-23T00:00:00",
         "19",
         "120",
         "120. Sitzung",
         "3",
         "6205403f0395756521183254",
         "cf1431da-0d23-4fa1-edd1-08da0c32b602",
         "2019-10-23"
        ],
        [
         "25",
         "2019-10-24T00:00:00",
         "19",
         "121",
         "121. Sitzung",
         "23",
         "6205403f0395756521183253",
         "9f817d0c-897e-4cff-edd0-08da0c32b602",
         "2019-10-24"
        ],
        [
         "26",
         "2019-10-25T00:00:00",
         "19",
         "122",
         "122. Sitzung",
         "9",
         "6205403f0395756521183252",
         "95495251-013c-4093-edcf-08da0c32b602",
         "2019-10-25"
        ],
        [
         "27",
         "2019-11-06T00:00:00",
         "19",
         "123",
         "123. Sitzung",
         "3",
         "6205403f0395756521183251",
         "08d4d384-0ffd-4930-edce-08da0c32b602",
         "2019-11-06"
        ],
        [
         "28",
         "2019-11-07T00:00:00",
         "19",
         "124",
         "124. Sitzung",
         "27",
         "6205403f039575652118324f",
         "d16896f0-3bba-49ad-edcc-08da0c32b602",
         "2019-11-07"
        ],
        [
         "29",
         "2019-11-08T00:00:00",
         "19",
         "125",
         "125. Sitzung",
         "10",
         "6205403f0395756521183250",
         "48266764-1455-4806-edcd-08da0c32b602",
         "2019-11-08"
        ],
        [
         "30",
         "2019-11-13T00:00:00",
         "19",
         "126",
         "126. Sitzung",
         "11",
         "6205403f039575652118324e",
         "3b06275d-6834-4598-edcb-08da0c32b602",
         "2019-11-13"
        ],
        [
         "31",
         "2019-11-14T00:00:00",
         "19",
         "127",
         "127. Sitzung",
         "22",
         "6205403f039575652118324d",
         "9f460880-5d9b-480a-edca-08da0c32b602",
         "2019-11-14"
        ],
        [
         "32",
         "2019-11-15T00:00:00",
         "19",
         "128",
         "128. Sitzung",
         "9",
         "6205403f039575652118324c",
         "497a8c8c-5d8f-4754-edc9-08da0c32b602",
         "2019-11-15"
        ],
        [
         "33",
         "2019-11-26T00:00:00",
         "19",
         "129",
         "129. Sitzung",
         "9",
         "6205403f039575652118324b",
         "d6d0351b-4ffa-43c9-edc8-08da0c32b602",
         "2019-11-26"
        ],
        [
         "34",
         "2018-02-21T00:00:00",
         "19",
         "13",
         "13. Sitzung",
         "3",
         "6205403f03957565211832bf",
         "3e2a9932-845f-4475-ee3c-08da0c32b602",
         "2018-02-21"
        ],
        [
         "35",
         "2019-11-27T00:00:00",
         "19",
         "130",
         "130. Sitzung",
         "4",
         "6205403f039575652118324a",
         "ffd8f0a2-af0a-44f3-edc7-08da0c32b602",
         "2019-11-27"
        ],
        [
         "36",
         "2019-11-28T00:00:00",
         "19",
         "131",
         "131. Sitzung",
         "9",
         "6205403f0395756521183249",
         "b96ff617-f857-49ab-edc6-08da0c32b602",
         "2019-11-28"
        ],
        [
         "37",
         "2019-11-29T00:00:00",
         "19",
         "132",
         "132. Sitzung",
         "5",
         "6205403f0395756521183248",
         "cab266f5-2424-46f2-edc5-08da0c32b602",
         "2019-11-29"
        ],
        [
         "38",
         "2019-12-11T00:00:00",
         "19",
         "133",
         "133. Sitzung",
         "9",
         "6205403f0395756521183247",
         "288de26a-9baf-45f6-edc4-08da0c32b602",
         "2019-12-11"
        ],
        [
         "39",
         "2019-12-12T00:00:00",
         "19",
         "134",
         "134. Sitzung",
         "17",
         "6205403f0395756521183246",
         "3f45a31f-1416-4642-edc3-08da0c32b602",
         "2019-12-12"
        ],
        [
         "40",
         "2019-12-13T00:00:00",
         "19",
         "135",
         "135. Sitzung",
         "9",
         "6205403f0395756521183245",
         "544f8ea2-a0fd-405d-edc2-08da0c32b602",
         "2019-12-13"
        ],
        [
         "41",
         "2019-12-18T00:00:00",
         "19",
         "136",
         "136. Sitzung",
         "8",
         "6205403f0395756521183243",
         "537c1162-8abf-4ecc-edc0-08da0c32b602",
         "2019-12-18"
        ],
        [
         "42",
         "2019-12-19T00:00:00",
         "19",
         "137",
         "137. Sitzung",
         "18",
         "6205403f0395756521183244",
         "f72fe134-056b-4b68-edc1-08da0c32b602",
         "2019-12-19"
        ],
        [
         "43",
         "2019-12-20T00:00:00",
         "19",
         "138",
         "138. Sitzung",
         "7",
         "6205403f0395756521183242",
         "f90b6ee6-26ca-497a-edbf-08da0c32b602",
         "2019-12-20"
        ],
        [
         "44",
         "2020-01-15T00:00:00",
         "19",
         "139",
         "139. Sitzung",
         "8",
         "6205403f0395756521183241",
         "cbb1f906-5f6c-4209-edbe-08da0c32b602",
         "2020-01-15"
        ],
        [
         "45",
         "2018-02-22T00:00:00",
         "19",
         "14",
         "14. Sitzung",
         "16",
         "6205403f03957565211832be",
         "4393e74e-4bb0-403c-ee3b-08da0c32b602",
         "2018-02-22"
        ],
        [
         "46",
         "2020-01-16T00:00:00",
         "19",
         "140",
         "140. Sitzung",
         "15",
         "6205403f0395756521183240",
         "9b361e02-fcff-460e-edbd-08da0c32b602",
         "2020-01-16"
        ],
        [
         "47",
         "2020-01-17T00:00:00",
         "19",
         "141",
         "141. Sitzung",
         "8",
         "6205403f039575652118323f",
         "dc12812b-08cd-4e05-edbc-08da0c32b602",
         "2020-01-17"
        ],
        [
         "48",
         "2020-01-29T00:00:00",
         "19",
         "142",
         "142. Sitzung",
         "8",
         "6205403f039575652118323d",
         "ede86252-69ce-428a-edba-08da0c32b602",
         "2020-01-29"
        ],
        [
         "49",
         "2020-01-30T00:00:00",
         "19",
         "143",
         "143. Sitzung",
         "13",
         "6205403f039575652118323e",
         "f2a1090d-9471-4e82-edbb-08da0c32b602",
         "2020-01-30"
        ]
       ],
       "shape": {
        "columns": 8,
        "rows": 329
       }
      },
      "text/html": [
       "<div>\n",
       "<style scoped>\n",
       "    .dataframe tbody tr th:only-of-type {\n",
       "        vertical-align: middle;\n",
       "    }\n",
       "\n",
       "    .dataframe tbody tr th {\n",
       "        vertical-align: top;\n",
       "    }\n",
       "\n",
       "    .dataframe thead th {\n",
       "        text-align: right;\n",
       "    }\n",
       "</style>\n",
       "<table border=\"1\" class=\"dataframe\">\n",
       "  <thead>\n",
       "    <tr style=\"text-align: right;\">\n",
       "      <th></th>\n",
       "      <th>ProtocolDate</th>\n",
       "      <th>LegislaturePeriod</th>\n",
       "      <th>Number</th>\n",
       "      <th>SessionTitle</th>\n",
       "      <th>AgendaItemsCount</th>\n",
       "      <th>MongoId</th>\n",
       "      <th>Id</th>\n",
       "      <th>DateOnly</th>\n",
       "    </tr>\n",
       "  </thead>\n",
       "  <tbody>\n",
       "    <tr>\n",
       "      <th>0</th>\n",
       "      <td>2017-10-24T00:00:00</td>\n",
       "      <td>19</td>\n",
       "      <td>1</td>\n",
       "      <td>1. Sitzung</td>\n",
       "      <td>6</td>\n",
       "      <td>6205403f03957565211832cb</td>\n",
       "      <td>76c3b183-81d7-4cd0-ee48-08da0c32b602</td>\n",
       "      <td>2017-10-24</td>\n",
       "    </tr>\n",
       "    <tr>\n",
       "      <th>1</th>\n",
       "      <td>2018-01-31T00:00:00</td>\n",
       "      <td>19</td>\n",
       "      <td>10</td>\n",
       "      <td>10. Sitzung</td>\n",
       "      <td>3</td>\n",
       "      <td>6205403f03957565211832c2</td>\n",
       "      <td>9830dca7-f0e1-4906-ee3f-08da0c32b602</td>\n",
       "      <td>2018-01-31</td>\n",
       "    </tr>\n",
       "    <tr>\n",
       "      <th>2</th>\n",
       "      <td>2019-05-15T00:00:00</td>\n",
       "      <td>19</td>\n",
       "      <td>100</td>\n",
       "      <td>100. Sitzung</td>\n",
       "      <td>4</td>\n",
       "      <td>6205403f0395756521183268</td>\n",
       "      <td>7d5aebcf-9b16-47a6-ede5-08da0c32b602</td>\n",
       "      <td>2019-05-15</td>\n",
       "    </tr>\n",
       "    <tr>\n",
       "      <th>3</th>\n",
       "      <td>2019-05-16T00:00:00</td>\n",
       "      <td>19</td>\n",
       "      <td>101</td>\n",
       "      <td>101. Sitzung</td>\n",
       "      <td>26</td>\n",
       "      <td>6205403f0395756521183267</td>\n",
       "      <td>f98bb208-7f24-4a3f-ede4-08da0c32b602</td>\n",
       "      <td>2019-05-16</td>\n",
       "    </tr>\n",
       "    <tr>\n",
       "      <th>4</th>\n",
       "      <td>2019-05-17T00:00:00</td>\n",
       "      <td>19</td>\n",
       "      <td>102</td>\n",
       "      <td>102. Sitzung</td>\n",
       "      <td>11</td>\n",
       "      <td>6205403f0395756521183266</td>\n",
       "      <td>ee086175-6c20-44b0-ede3-08da0c32b602</td>\n",
       "      <td>2019-05-17</td>\n",
       "    </tr>\n",
       "    <tr>\n",
       "      <th>...</th>\n",
       "      <td>...</td>\n",
       "      <td>...</td>\n",
       "      <td>...</td>\n",
       "      <td>...</td>\n",
       "      <td>...</td>\n",
       "      <td>...</td>\n",
       "      <td>...</td>\n",
       "      <td>...</td>\n",
       "    </tr>\n",
       "    <tr>\n",
       "      <th>324</th>\n",
       "      <td>2023-03-03T00:00:00</td>\n",
       "      <td>20</td>\n",
       "      <td>89</td>\n",
       "      <td>89. Sitzung</td>\n",
       "      <td>7</td>\n",
       "      <td>00000000-0000-0000-0000-000000000000</td>\n",
       "      <td>650573cf-87f9-48de-1802-08db1e50986e</td>\n",
       "      <td>2023-03-03</td>\n",
       "    </tr>\n",
       "    <tr>\n",
       "      <th>325</th>\n",
       "      <td>2021-12-16T00:00:00</td>\n",
       "      <td>20</td>\n",
       "      <td>9</td>\n",
       "      <td>9. Sitzung</td>\n",
       "      <td>12</td>\n",
       "      <td>6205403f03957565211831d4</td>\n",
       "      <td>6d4447ba-1cec-4032-ed51-08da0c32b602</td>\n",
       "      <td>2021-12-16</td>\n",
       "    </tr>\n",
       "    <tr>\n",
       "      <th>326</th>\n",
       "      <td>2023-03-15T00:00:00</td>\n",
       "      <td>20</td>\n",
       "      <td>90</td>\n",
       "      <td>90. Sitzung</td>\n",
       "      <td>7</td>\n",
       "      <td>00000000-0000-0000-0000-000000000000</td>\n",
       "      <td>a50e88c4-eca8-4a73-9856-08db2647a661</td>\n",
       "      <td>2023-03-15</td>\n",
       "    </tr>\n",
       "    <tr>\n",
       "      <th>327</th>\n",
       "      <td>2023-03-16T00:00:00</td>\n",
       "      <td>20</td>\n",
       "      <td>91</td>\n",
       "      <td>91. Sitzung</td>\n",
       "      <td>14</td>\n",
       "      <td>00000000-0000-0000-0000-000000000000</td>\n",
       "      <td>a550c454-efb0-4a32-14da-08db26fbed7c</td>\n",
       "      <td>2023-03-16</td>\n",
       "    </tr>\n",
       "    <tr>\n",
       "      <th>328</th>\n",
       "      <td>2023-03-17T00:00:00</td>\n",
       "      <td>20</td>\n",
       "      <td>92</td>\n",
       "      <td>92. Sitzung</td>\n",
       "      <td>7</td>\n",
       "      <td>00000000-0000-0000-0000-000000000000</td>\n",
       "      <td>20f941d8-b4ad-4438-4102-08db2a11c9ec</td>\n",
       "      <td>2023-03-17</td>\n",
       "    </tr>\n",
       "  </tbody>\n",
       "</table>\n",
       "<p>329 rows × 8 columns</p>\n",
       "</div>"
      ],
      "text/plain": [
       "            ProtocolDate  LegislaturePeriod  Number  SessionTitle  \\\n",
       "0    2017-10-24T00:00:00                 19       1    1. Sitzung   \n",
       "1    2018-01-31T00:00:00                 19      10   10. Sitzung   \n",
       "2    2019-05-15T00:00:00                 19     100  100. Sitzung   \n",
       "3    2019-05-16T00:00:00                 19     101  101. Sitzung   \n",
       "4    2019-05-17T00:00:00                 19     102  102. Sitzung   \n",
       "..                   ...                ...     ...           ...   \n",
       "324  2023-03-03T00:00:00                 20      89   89. Sitzung   \n",
       "325  2021-12-16T00:00:00                 20       9    9. Sitzung   \n",
       "326  2023-03-15T00:00:00                 20      90   90. Sitzung   \n",
       "327  2023-03-16T00:00:00                 20      91   91. Sitzung   \n",
       "328  2023-03-17T00:00:00                 20      92   92. Sitzung   \n",
       "\n",
       "     AgendaItemsCount                               MongoId  \\\n",
       "0                   6              6205403f03957565211832cb   \n",
       "1                   3              6205403f03957565211832c2   \n",
       "2                   4              6205403f0395756521183268   \n",
       "3                  26              6205403f0395756521183267   \n",
       "4                  11              6205403f0395756521183266   \n",
       "..                ...                                   ...   \n",
       "324                 7  00000000-0000-0000-0000-000000000000   \n",
       "325                12              6205403f03957565211831d4   \n",
       "326                 7  00000000-0000-0000-0000-000000000000   \n",
       "327                14  00000000-0000-0000-0000-000000000000   \n",
       "328                 7  00000000-0000-0000-0000-000000000000   \n",
       "\n",
       "                                       Id    DateOnly  \n",
       "0    76c3b183-81d7-4cd0-ee48-08da0c32b602  2017-10-24  \n",
       "1    9830dca7-f0e1-4906-ee3f-08da0c32b602  2018-01-31  \n",
       "2    7d5aebcf-9b16-47a6-ede5-08da0c32b602  2019-05-15  \n",
       "3    f98bb208-7f24-4a3f-ede4-08da0c32b602  2019-05-16  \n",
       "4    ee086175-6c20-44b0-ede3-08da0c32b602  2019-05-17  \n",
       "..                                    ...         ...  \n",
       "324  650573cf-87f9-48de-1802-08db1e50986e  2023-03-03  \n",
       "325  6d4447ba-1cec-4032-ed51-08da0c32b602  2021-12-16  \n",
       "326  a50e88c4-eca8-4a73-9856-08db2647a661  2023-03-15  \n",
       "327  a550c454-efb0-4a32-14da-08db26fbed7c  2023-03-16  \n",
       "328  20f941d8-b4ad-4438-4102-08db2a11c9ec  2023-03-17  \n",
       "\n",
       "[329 rows x 8 columns]"
      ]
     },
     "execution_count": 91,
     "metadata": {},
     "output_type": "execute_result"
    }
   ],
   "source": [
    "df_protocol_meta"
   ]
  },
  {
   "cell_type": "code",
   "execution_count": null,
   "id": "6cfafa77",
   "metadata": {},
   "outputs": [
    {
     "name": "stdout",
     "output_type": "stream",
     "text": [
      "Nr. of sessions in 19th:  239\n",
      "Nr. of sessions in 20th:  90\n"
     ]
    }
   ],
   "source": [
    "# sanity checks\n",
    "\n",
    "print(\"Nr. of sessions in 19th: \", len(df_protocol_meta[df_protocol_meta['LegislaturePeriod'] == 19])) # fine\n",
    "print(\"Nr. of sessions in 20th: \", len(df_protocol_meta[df_protocol_meta['LegislaturePeriod'] == 20])) # just 90?\n"
   ]
  },
  {
   "cell_type": "markdown",
   "id": "12b6b2a1",
   "metadata": {},
   "source": [
    "#### Agenda Item Meta Data"
   ]
  },
  {
   "cell_type": "code",
   "execution_count": 92,
   "id": "4e474e32",
   "metadata": {},
   "outputs": [
    {
     "data": {
      "application/vnd.microsoft.datawrangler.viewer.v0+json": {
       "columns": [
        {
         "name": "index",
         "rawType": "int64",
         "type": "integer"
        },
        {
         "name": "Title",
         "rawType": "object",
         "type": "string"
        },
        {
         "name": "AgendaItemNumber",
         "rawType": "object",
         "type": "string"
        },
        {
         "name": "Order",
         "rawType": "object",
         "type": "unknown"
        },
        {
         "name": "Date",
         "rawType": "object",
         "type": "string"
        },
        {
         "name": "ProtocolId",
         "rawType": "object",
         "type": "string"
        }
       ],
       "ref": "fd60686f-3df4-4c73-9775-1ffccc4a8c5a",
       "rows": [
        [
         "0",
         "Befragung der Bundesregierung",
         "1",
         "1",
         "2018-06-06T12:30:00",
         "8041bc88-6eb5-46cc-ee26-08da0c32b602"
        ],
        [
         "1",
         "Fragestunde",
         "2",
         "2",
         "2018-06-06T13:35:00",
         "8041bc88-6eb5-46cc-ee26-08da0c32b602"
        ],
        [
         "2",
         "Aktuelle Stunde zur Arbeitsmarktlage",
         "ZP 1",
         "3",
         "2018-06-06T15:40:00",
         "8041bc88-6eb5-46cc-ee26-08da0c32b602"
        ]
       ],
       "shape": {
        "columns": 5,
        "rows": 3
       }
      },
      "text/html": [
       "<div>\n",
       "<style scoped>\n",
       "    .dataframe tbody tr th:only-of-type {\n",
       "        vertical-align: middle;\n",
       "    }\n",
       "\n",
       "    .dataframe tbody tr th {\n",
       "        vertical-align: top;\n",
       "    }\n",
       "\n",
       "    .dataframe thead th {\n",
       "        text-align: right;\n",
       "    }\n",
       "</style>\n",
       "<table border=\"1\" class=\"dataframe\">\n",
       "  <thead>\n",
       "    <tr style=\"text-align: right;\">\n",
       "      <th></th>\n",
       "      <th>Title</th>\n",
       "      <th>AgendaItemNumber</th>\n",
       "      <th>Order</th>\n",
       "      <th>Date</th>\n",
       "      <th>ProtocolId</th>\n",
       "    </tr>\n",
       "  </thead>\n",
       "  <tbody>\n",
       "    <tr>\n",
       "      <th>0</th>\n",
       "      <td>Befragung der Bundesregierung</td>\n",
       "      <td>1</td>\n",
       "      <td>1</td>\n",
       "      <td>2018-06-06T12:30:00</td>\n",
       "      <td>8041bc88-6eb5-46cc-ee26-08da0c32b602</td>\n",
       "    </tr>\n",
       "    <tr>\n",
       "      <th>1</th>\n",
       "      <td>Fragestunde</td>\n",
       "      <td>2</td>\n",
       "      <td>2</td>\n",
       "      <td>2018-06-06T13:35:00</td>\n",
       "      <td>8041bc88-6eb5-46cc-ee26-08da0c32b602</td>\n",
       "    </tr>\n",
       "    <tr>\n",
       "      <th>2</th>\n",
       "      <td>Aktuelle Stunde zur Arbeitsmarktlage</td>\n",
       "      <td>ZP 1</td>\n",
       "      <td>3</td>\n",
       "      <td>2018-06-06T15:40:00</td>\n",
       "      <td>8041bc88-6eb5-46cc-ee26-08da0c32b602</td>\n",
       "    </tr>\n",
       "  </tbody>\n",
       "</table>\n",
       "</div>"
      ],
      "text/plain": [
       "                                  Title AgendaItemNumber Order  \\\n",
       "0         Befragung der Bundesregierung                1     1   \n",
       "1                           Fragestunde                2     2   \n",
       "2  Aktuelle Stunde zur Arbeitsmarktlage             ZP 1     3   \n",
       "\n",
       "                  Date                            ProtocolId  \n",
       "0  2018-06-06T12:30:00  8041bc88-6eb5-46cc-ee26-08da0c32b602  \n",
       "1  2018-06-06T13:35:00  8041bc88-6eb5-46cc-ee26-08da0c32b602  \n",
       "2  2018-06-06T15:40:00  8041bc88-6eb5-46cc-ee26-08da0c32b602  "
      ]
     },
     "execution_count": 92,
     "metadata": {},
     "output_type": "execute_result"
    }
   ],
   "source": [
    "# legislative period 19, session 35\n",
    "df_Agenda = pd.DataFrame(columns=['Title', 'AgendaItemNumber', 'Order','Date', 'ProtocolId'])\n",
    "\n",
    "\n",
    "for i, item in enumerate(data[\"AgendaItems\"]):\n",
    "\n",
    "\n",
    "    row = {\n",
    "        'Title' : item['Title'], \n",
    "        'AgendaItemNumber' : item['AgendaItemNumber'], \n",
    "        'Order': item['Order'],\n",
    "        'Date' : item['Date'], \n",
    "        'ProtocolId' : item['ProtocolId']\n",
    "    }\n",
    "\n",
    "    df_Agenda = pd.concat([df_Agenda, pd.DataFrame([row])], ignore_index=True)\n",
    "  \n",
    "df_Agenda"
   ]
  },
  {
   "cell_type": "code",
   "execution_count": 93,
   "id": "747dc0ae",
   "metadata": {},
   "outputs": [],
   "source": [
    "rows = []\n",
    "\n",
    "for session_file in json_files:\n",
    "    with open(session_file, 'r') as file:\n",
    "        data_temp = json.load(file)\n",
    "\n",
    "    for item in data_temp[\"AgendaItems\"]:\n",
    "        rows.append({\n",
    "            'AgendaItemTitle': item['Title'],\n",
    "            'AgendaItemNumber': item['AgendaItemNumber'],\n",
    "            'Order': item['Order'],\n",
    "            'AgendaItemDate': item['Date'],\n",
    "            'ProtocolId': item['ProtocolId']\n",
    "        })\n",
    "\n",
    "df_agenda_items = pd.DataFrame(rows)\n",
    "\n",
    "\n",
    "# ~30 sec. runtime"
   ]
  },
  {
   "cell_type": "code",
   "execution_count": 94,
   "id": "f1e0e825",
   "metadata": {},
   "outputs": [],
   "source": [
    "df_agenda_items['DateOnly'] = pd.to_datetime(df_agenda_items['AgendaItemDate']).dt.date\n"
   ]
  },
  {
   "cell_type": "code",
   "execution_count": 95,
   "id": "aa10b696",
   "metadata": {},
   "outputs": [
    {
     "data": {
      "application/vnd.microsoft.datawrangler.viewer.v0+json": {
       "columns": [
        {
         "name": "index",
         "rawType": "int64",
         "type": "integer"
        },
        {
         "name": "AgendaItemTitle",
         "rawType": "object",
         "type": "string"
        },
        {
         "name": "AgendaItemNumber",
         "rawType": "object",
         "type": "string"
        },
        {
         "name": "Order",
         "rawType": "int64",
         "type": "integer"
        },
        {
         "name": "AgendaItemDate",
         "rawType": "object",
         "type": "string"
        },
        {
         "name": "ProtocolId",
         "rawType": "object",
         "type": "string"
        },
        {
         "name": "DateOnly",
         "rawType": "object",
         "type": "unknown"
        }
       ],
       "ref": "12cdbec0-df7f-4c46-93e9-3a5b769a9030",
       "rows": [
        [
         "0",
         "Eröffnung der Sitzung durch den Alterspräsidenten",
         "1",
         "1",
         "2017-10-24T11:05:00",
         "76c3b183-81d7-4cd0-ee48-08da0c32b602",
         "2017-10-24"
        ],
        [
         "1",
         "Beschlussfassung über die Geschäftsordnung",
         "2",
         "2",
         "2017-10-24T11:25:00",
         "76c3b183-81d7-4cd0-ee48-08da0c32b602",
         "2017-10-24"
        ],
        [
         "2",
         "Wahl des Präsidenten",
         "3",
         "3",
         "2017-10-24T12:05:00",
         "76c3b183-81d7-4cd0-ee48-08da0c32b602",
         "2017-10-24"
        ],
        [
         "3",
         "Amtsübernahme durch den Präsidenten mit Ansprache",
         "4",
         "4",
         "2017-10-24T13:15:00",
         "76c3b183-81d7-4cd0-ee48-08da0c32b602",
         "2017-10-24"
        ],
        [
         "4",
         "Festlegung der Zahl der Stellvertreter des Präsidenten",
         "5",
         "5",
         "2017-10-24T13:40:00",
         "76c3b183-81d7-4cd0-ee48-08da0c32b602",
         "2017-10-24"
        ],
        [
         "5",
         "Wahl der Stellvertreter des Präsidenten",
         "6",
         "6",
         "2017-10-24T13:40:00",
         "76c3b183-81d7-4cd0-ee48-08da0c32b602",
         "2017-10-24"
        ],
        [
         "6",
         "Nationalhymne",
         "7",
         "7",
         "2017-10-24T17:00:00",
         "76c3b183-81d7-4cd0-ee48-08da0c32b602",
         "2017-10-24"
        ],
        [
         "7",
         "Befragung der Bundesregierung",
         "1",
         "1",
         "2018-01-31T14:30:00",
         "9830dca7-f0e1-4906-ee3f-08da0c32b602",
         "2018-01-31"
        ],
        [
         "8",
         "Fragestunde",
         "2",
         "2",
         "2018-01-31T15:20:00",
         "9830dca7-f0e1-4906-ee3f-08da0c32b602",
         "2018-01-31"
        ],
        [
         "9",
         "Aktuelle Stunde zu einer europäischen Bankenunion",
         "ZP 1",
         "3",
         "2018-01-31T17:10:00",
         "9830dca7-f0e1-4906-ee3f-08da0c32b602",
         "2018-01-31"
        ],
        [
         "10",
         "Befragung der Bundesregierung",
         "1",
         "1",
         "2019-05-15T13:00:00",
         "7d5aebcf-9b16-47a6-ede5-08da0c32b602",
         "2019-05-15"
        ],
        [
         "11",
         "Fragestunde",
         "2",
         "2",
         "2019-05-15T14:15:00",
         "7d5aebcf-9b16-47a6-ede5-08da0c32b602",
         "2019-05-15"
        ],
        [
         "12",
         "Aktuelle Stunde zum Iran-Atomabkommen",
         "ZP 1",
         "3",
         "2019-05-15T15:45:00",
         "7d5aebcf-9b16-47a6-ede5-08da0c32b602",
         "2019-05-15"
        ],
        [
         "13",
         "Tätigkeitsbericht 2018 des Petitionsausschusses",
         "3",
         "4",
         "2019-05-15T17:10:00",
         "7d5aebcf-9b16-47a6-ede5-08da0c32b602",
         "2019-05-15"
        ],
        [
         "14",
         "Vereinbarte Debatte - 70 Jahre Grundgesetz",
         "4",
         "1",
         "2019-05-16T09:00:00",
         "f98bb208-7f24-4a3f-ede4-08da0c32b602",
         "2019-05-16"
        ],
        [
         "15",
         "Entlastung bei den Sozialabgaben",
         "5",
         "2",
         "2019-05-16T11:20:00",
         "f98bb208-7f24-4a3f-ede4-08da0c32b602",
         "2019-05-16"
        ],
        [
         "16",
         "Durchsetzung der Ausreisepflicht",
         "6",
         "3",
         "2019-05-16T12:25:00",
         "f98bb208-7f24-4a3f-ede4-08da0c32b602",
         "2019-05-16"
        ],
        [
         "17",
         "Löhne und Arbeitsbedingungen im Postmarkt",
         "7, ZP 2",
         "4",
         "2019-05-16T13:35:00",
         "f98bb208-7f24-4a3f-ede4-08da0c32b602",
         "2019-05-16"
        ],
        [
         "18",
         "Überweisungen im vereinfachten Verfahren",
         "31, ZP 3",
         "5",
         "2019-05-16T14:45:00",
         "f98bb208-7f24-4a3f-ede4-08da0c32b602",
         "2019-05-16"
        ],
        [
         "19",
         "Abschließende Beratungen ohne Aussprache",
         "32",
         "6",
         "2019-05-16T14:45:00",
         "f98bb208-7f24-4a3f-ede4-08da0c32b602",
         "2019-05-16"
        ],
        [
         "20",
         "2. Wahlgang - Stellvertreter des Präsidenten",
         "ZP 4",
         "7",
         "2019-05-16T15:00:00",
         "f98bb208-7f24-4a3f-ede4-08da0c32b602",
         "2019-05-16"
        ],
        [
         "21",
         "Gremienwahlen",
         "ZP 5",
         "8",
         "2019-05-16T15:25:00",
         "f98bb208-7f24-4a3f-ede4-08da0c32b602",
         "2019-05-16"
        ],
        [
         "22",
         "Aktuelle Stunde zur Finanzierungslücke bei der Grundrente",
         "ZP 6",
         "9",
         "2019-05-16T16:00:00",
         "f98bb208-7f24-4a3f-ede4-08da0c32b602",
         "2019-05-16"
        ],
        [
         "23",
         "Änderung des Bundesausbildungsförderungsgesetzes",
         "8",
         "10",
         "2019-05-16T17:20:00",
         "f98bb208-7f24-4a3f-ede4-08da0c32b602",
         "2019-05-16"
        ],
        [
         "24",
         "Digitalpakt 2.0",
         "9",
         "11",
         "2019-05-16T18:30:00",
         "f98bb208-7f24-4a3f-ede4-08da0c32b602",
         "2019-05-16"
        ],
        [
         "25",
         "Anpassung der Betreuer- und Vormündervergütung",
         "10",
         "12",
         "2019-05-16T19:15:00",
         "f98bb208-7f24-4a3f-ede4-08da0c32b602",
         "2019-05-16"
        ],
        [
         "26",
         "Änderung des Staatsangehörigkeitsgesetzes",
         "11",
         "13",
         "2019-05-16T20:00:00",
         "f98bb208-7f24-4a3f-ede4-08da0c32b602",
         "2019-05-16"
        ],
        [
         "27",
         "Gemeinsame Außen-u. Sicherheitspolitik der EU",
         "12",
         "14",
         "2019-05-16T20:40:00",
         "f98bb208-7f24-4a3f-ede4-08da0c32b602",
         "2019-05-16"
        ],
        [
         "28",
         "Gesetz zur deutsch-französischen Zusammenarbeit",
         "13",
         "15",
         "2019-05-16T21:20:00",
         "f98bb208-7f24-4a3f-ede4-08da0c32b602",
         "2019-05-16"
        ],
        [
         "29",
         "Freiheit im Internet",
         "14",
         "16",
         "2019-05-16T22:00:00",
         "f98bb208-7f24-4a3f-ede4-08da0c32b602",
         "2019-05-16"
        ],
        [
         "30",
         "Ausländerbeschäftigungsförderungsgesetz",
         "17",
         "17",
         "2019-05-16T22:25:00",
         "f98bb208-7f24-4a3f-ede4-08da0c32b602",
         "2019-05-16"
        ],
        [
         "31",
         "Militärische Eskalation im Nahen Osten",
         "ZP 7",
         "18",
         "2019-05-16T22:35:00",
         "f98bb208-7f24-4a3f-ede4-08da0c32b602",
         "2019-05-16"
        ],
        [
         "32",
         "Änderung des Asylbewerberleistungsgesetzes",
         "15",
         "19",
         "2019-05-16T23:00:00",
         "f98bb208-7f24-4a3f-ede4-08da0c32b602",
         "2019-05-16"
        ],
        [
         "33",
         "Änderung des Grundgesetzes - Grundrechte für alle",
         "ZP 8",
         "20",
         "2019-05-16T23:10:00",
         "f98bb208-7f24-4a3f-ede4-08da0c32b602",
         "2019-05-16"
        ],
        [
         "34",
         "Änderung des Bundeswahlgesetzes",
         "19",
         "21",
         "2019-05-16T23:35:00",
         "f98bb208-7f24-4a3f-ede4-08da0c32b602",
         "2019-05-16"
        ],
        [
         "35",
         "Digitalisierung in der Landwirtschaft",
         "20",
         "22",
         "2019-05-16T00:05:00",
         "f98bb208-7f24-4a3f-ede4-08da0c32b602",
         "2019-05-16"
        ],
        [
         "36",
         "Europäische Digitalkonzernsteuer",
         "21, ZP 9",
         "23",
         "2019-05-16T00:20:00",
         "f98bb208-7f24-4a3f-ede4-08da0c32b602",
         "2019-05-16"
        ],
        [
         "37",
         "Fixierungen im Rahmen von Freiheitsentziehungen",
         "23",
         "24",
         "2019-05-16T00:40:00",
         "f98bb208-7f24-4a3f-ede4-08da0c32b602",
         "2019-05-16"
        ],
        [
         "38",
         "Maritime Wirtschaftspolitik",
         "24",
         "1",
         "2019-05-17T09:00:00",
         "ee086175-6c20-44b0-ede3-08da0c32b602",
         "2019-05-17"
        ],
        [
         "39",
         "Europol",
         "25",
         "2",
         "2019-05-17T10:10:00",
         "ee086175-6c20-44b0-ede3-08da0c32b602",
         "2019-05-17"
        ],
        [
         "40",
         "Bundeswehreinsatz in Libanon (UNIFIL)",
         "26",
         "3",
         "2019-05-17T11:25:00",
         "ee086175-6c20-44b0-ede3-08da0c32b602",
         "2019-05-17"
        ],
        [
         "41",
         "Schutz von Gewässern und Grundwasser",
         "27",
         "4",
         "2019-05-17T12:05:00",
         "ee086175-6c20-44b0-ede3-08da0c32b602",
         "2019-05-17"
        ],
        [
         "42",
         "70 Jahre Europarat",
         "28, ZP 10",
         "5",
         "2019-05-17T13:10:00",
         "ee086175-6c20-44b0-ede3-08da0c32b602",
         "2019-05-17"
        ],
        [
         "43",
         "EU-Budget",
         "29",
         "6",
         "2019-05-17T13:55:00",
         "ee086175-6c20-44b0-ede3-08da0c32b602",
         "2019-05-17"
        ],
        [
         "44",
         "BDS-Bewegung",
         "ZP 11, 12, 14",
         "7",
         "2019-05-17T14:45:00",
         "ee086175-6c20-44b0-ede3-08da0c32b602",
         "2019-05-17"
        ],
        [
         "45",
         "Rüstungsexport",
         "30",
         "8",
         "2019-05-17T15:30:00",
         "ee086175-6c20-44b0-ede3-08da0c32b602",
         "2019-05-17"
        ],
        [
         "46",
         "Aktuelle Stunde zu Maßnahmen gegen Homo- und Transfeindlichkeit",
         "ZP 13",
         "9",
         "2019-05-17T16:20:00",
         "ee086175-6c20-44b0-ede3-08da0c32b602",
         "2019-05-17"
        ],
        [
         "47",
         "Befragung der Bundesregierung",
         "1",
         "1",
         "2019-06-05T13:00:00",
         "2d248c5a-a091-4699-ede2-08da0c32b602",
         "2019-06-05"
        ],
        [
         "48",
         "Fragestunde",
         "2",
         "2",
         "2019-06-05T14:15:00",
         "2d248c5a-a091-4699-ede2-08da0c32b602",
         "2019-06-05"
        ],
        [
         "49",
         "Aktuelle Stunde zu konkreten Maßnahmen für den Klimaschutz",
         "ZP 1",
         "3",
         "2019-06-05T15:40:00",
         "2d248c5a-a091-4699-ede2-08da0c32b602",
         "2019-06-05"
        ]
       ],
       "shape": {
        "columns": 6,
        "rows": 3341
       }
      },
      "text/html": [
       "<div>\n",
       "<style scoped>\n",
       "    .dataframe tbody tr th:only-of-type {\n",
       "        vertical-align: middle;\n",
       "    }\n",
       "\n",
       "    .dataframe tbody tr th {\n",
       "        vertical-align: top;\n",
       "    }\n",
       "\n",
       "    .dataframe thead th {\n",
       "        text-align: right;\n",
       "    }\n",
       "</style>\n",
       "<table border=\"1\" class=\"dataframe\">\n",
       "  <thead>\n",
       "    <tr style=\"text-align: right;\">\n",
       "      <th></th>\n",
       "      <th>AgendaItemTitle</th>\n",
       "      <th>AgendaItemNumber</th>\n",
       "      <th>Order</th>\n",
       "      <th>AgendaItemDate</th>\n",
       "      <th>ProtocolId</th>\n",
       "      <th>DateOnly</th>\n",
       "    </tr>\n",
       "  </thead>\n",
       "  <tbody>\n",
       "    <tr>\n",
       "      <th>0</th>\n",
       "      <td>Eröffnung der Sitzung durch den Alterspräsidenten</td>\n",
       "      <td>1</td>\n",
       "      <td>1</td>\n",
       "      <td>2017-10-24T11:05:00</td>\n",
       "      <td>76c3b183-81d7-4cd0-ee48-08da0c32b602</td>\n",
       "      <td>2017-10-24</td>\n",
       "    </tr>\n",
       "    <tr>\n",
       "      <th>1</th>\n",
       "      <td>Beschlussfassung über die Geschäftsordnung</td>\n",
       "      <td>2</td>\n",
       "      <td>2</td>\n",
       "      <td>2017-10-24T11:25:00</td>\n",
       "      <td>76c3b183-81d7-4cd0-ee48-08da0c32b602</td>\n",
       "      <td>2017-10-24</td>\n",
       "    </tr>\n",
       "    <tr>\n",
       "      <th>2</th>\n",
       "      <td>Wahl des Präsidenten</td>\n",
       "      <td>3</td>\n",
       "      <td>3</td>\n",
       "      <td>2017-10-24T12:05:00</td>\n",
       "      <td>76c3b183-81d7-4cd0-ee48-08da0c32b602</td>\n",
       "      <td>2017-10-24</td>\n",
       "    </tr>\n",
       "    <tr>\n",
       "      <th>3</th>\n",
       "      <td>Amtsübernahme durch den Präsidenten mit Ansprache</td>\n",
       "      <td>4</td>\n",
       "      <td>4</td>\n",
       "      <td>2017-10-24T13:15:00</td>\n",
       "      <td>76c3b183-81d7-4cd0-ee48-08da0c32b602</td>\n",
       "      <td>2017-10-24</td>\n",
       "    </tr>\n",
       "    <tr>\n",
       "      <th>4</th>\n",
       "      <td>Festlegung der Zahl der Stellvertreter des Prä...</td>\n",
       "      <td>5</td>\n",
       "      <td>5</td>\n",
       "      <td>2017-10-24T13:40:00</td>\n",
       "      <td>76c3b183-81d7-4cd0-ee48-08da0c32b602</td>\n",
       "      <td>2017-10-24</td>\n",
       "    </tr>\n",
       "    <tr>\n",
       "      <th>...</th>\n",
       "      <td>...</td>\n",
       "      <td>...</td>\n",
       "      <td>...</td>\n",
       "      <td>...</td>\n",
       "      <td>...</td>\n",
       "      <td>...</td>\n",
       "    </tr>\n",
       "    <tr>\n",
       "      <th>3336</th>\n",
       "      <td>Vereinbarte Debatte zum Internationalen Frauentag</td>\n",
       "      <td>23</td>\n",
       "      <td>3</td>\n",
       "      <td>2023-03-17T11:05:00</td>\n",
       "      <td>20f941d8-b4ad-4438-4102-08db2a11c9ec</td>\n",
       "      <td>2023-03-17</td>\n",
       "    </tr>\n",
       "    <tr>\n",
       "      <th>3337</th>\n",
       "      <td>Glasfaser-Überbau</td>\n",
       "      <td>26</td>\n",
       "      <td>4</td>\n",
       "      <td>2023-03-17T12:30:00</td>\n",
       "      <td>20f941d8-b4ad-4438-4102-08db2a11c9ec</td>\n",
       "      <td>2023-03-17</td>\n",
       "    </tr>\n",
       "    <tr>\n",
       "      <th>3338</th>\n",
       "      <td>Schutz hinweisgebender Personen</td>\n",
       "      <td>25</td>\n",
       "      <td>5</td>\n",
       "      <td>2023-03-17T13:50:00</td>\n",
       "      <td>20f941d8-b4ad-4438-4102-08db2a11c9ec</td>\n",
       "      <td>2023-03-17</td>\n",
       "    </tr>\n",
       "    <tr>\n",
       "      <th>3339</th>\n",
       "      <td>Existenzsicherung von Frauen</td>\n",
       "      <td>28</td>\n",
       "      <td>6</td>\n",
       "      <td>2023-03-17T14:35:00</td>\n",
       "      <td>20f941d8-b4ad-4438-4102-08db2a11c9ec</td>\n",
       "      <td>2023-03-17</td>\n",
       "    </tr>\n",
       "    <tr>\n",
       "      <th>3340</th>\n",
       "      <td>Änderung des Energiesicherungsgesetzes</td>\n",
       "      <td>27</td>\n",
       "      <td>7</td>\n",
       "      <td>2023-03-17T15:15:00</td>\n",
       "      <td>20f941d8-b4ad-4438-4102-08db2a11c9ec</td>\n",
       "      <td>2023-03-17</td>\n",
       "    </tr>\n",
       "  </tbody>\n",
       "</table>\n",
       "<p>3341 rows × 6 columns</p>\n",
       "</div>"
      ],
      "text/plain": [
       "                                        AgendaItemTitle AgendaItemNumber  \\\n",
       "0     Eröffnung der Sitzung durch den Alterspräsidenten                1   \n",
       "1            Beschlussfassung über die Geschäftsordnung                2   \n",
       "2                                  Wahl des Präsidenten                3   \n",
       "3     Amtsübernahme durch den Präsidenten mit Ansprache                4   \n",
       "4     Festlegung der Zahl der Stellvertreter des Prä...                5   \n",
       "...                                                 ...              ...   \n",
       "3336  Vereinbarte Debatte zum Internationalen Frauentag               23   \n",
       "3337                                  Glasfaser-Überbau               26   \n",
       "3338                    Schutz hinweisgebender Personen               25   \n",
       "3339                       Existenzsicherung von Frauen               28   \n",
       "3340             Änderung des Energiesicherungsgesetzes               27   \n",
       "\n",
       "      Order       AgendaItemDate                            ProtocolId  \\\n",
       "0         1  2017-10-24T11:05:00  76c3b183-81d7-4cd0-ee48-08da0c32b602   \n",
       "1         2  2017-10-24T11:25:00  76c3b183-81d7-4cd0-ee48-08da0c32b602   \n",
       "2         3  2017-10-24T12:05:00  76c3b183-81d7-4cd0-ee48-08da0c32b602   \n",
       "3         4  2017-10-24T13:15:00  76c3b183-81d7-4cd0-ee48-08da0c32b602   \n",
       "4         5  2017-10-24T13:40:00  76c3b183-81d7-4cd0-ee48-08da0c32b602   \n",
       "...     ...                  ...                                   ...   \n",
       "3336      3  2023-03-17T11:05:00  20f941d8-b4ad-4438-4102-08db2a11c9ec   \n",
       "3337      4  2023-03-17T12:30:00  20f941d8-b4ad-4438-4102-08db2a11c9ec   \n",
       "3338      5  2023-03-17T13:50:00  20f941d8-b4ad-4438-4102-08db2a11c9ec   \n",
       "3339      6  2023-03-17T14:35:00  20f941d8-b4ad-4438-4102-08db2a11c9ec   \n",
       "3340      7  2023-03-17T15:15:00  20f941d8-b4ad-4438-4102-08db2a11c9ec   \n",
       "\n",
       "        DateOnly  \n",
       "0     2017-10-24  \n",
       "1     2017-10-24  \n",
       "2     2017-10-24  \n",
       "3     2017-10-24  \n",
       "4     2017-10-24  \n",
       "...          ...  \n",
       "3336  2023-03-17  \n",
       "3337  2023-03-17  \n",
       "3338  2023-03-17  \n",
       "3339  2023-03-17  \n",
       "3340  2023-03-17  \n",
       "\n",
       "[3341 rows x 6 columns]"
      ]
     },
     "execution_count": 95,
     "metadata": {},
     "output_type": "execute_result"
    }
   ],
   "source": [
    "df_agenda_items"
   ]
  },
  {
   "cell_type": "markdown",
   "id": "f275bf4f",
   "metadata": {},
   "source": [
    "#### Merge"
   ]
  },
  {
   "cell_type": "code",
   "execution_count": 96,
   "id": "f197dc0c",
   "metadata": {},
   "outputs": [],
   "source": [
    "df_agenda = df_agenda_items.merge(df_protocol_meta, on='DateOnly', how='left')"
   ]
  },
  {
   "cell_type": "code",
   "execution_count": 113,
   "id": "ff6c2e1c",
   "metadata": {},
   "outputs": [],
   "source": [
    "df_agenda.to_csv(\"../data/agenda_item_info.csv\")"
   ]
  },
  {
   "cell_type": "markdown",
   "id": "8c1df50c",
   "metadata": {},
   "source": [
    "***\n",
    "## **Old: Matching test with Ella**\n",
    "***"
   ]
  },
  {
   "cell_type": "code",
   "execution_count": 32,
   "id": "218e459b",
   "metadata": {},
   "outputs": [
    {
     "name": "stdout",
     "output_type": "stream",
     "text": [
      "Jürgen\n",
      "Braun\n",
      "AfD\n",
      "11004680\n",
      "­Filiz\n",
      "Polat\n",
      "Bündnis 90 / Die Grünen\n",
      "None\n",
      "Jan\n",
      "Korte\n",
      "Die Linke\n",
      "11003790\n",
      "\n",
      "\n",
      "None\n",
      "None\n",
      "nichts\n",
      "geschafft!\n",
      "None\n",
      "None\n",
      "Volker\n",
      "Kauder\n",
      "CDU/CSU\n",
      "11001074\n",
      "Marco\n",
      "Buschmann\n",
      "FDP\n",
      "11004023\n",
      "Heike\n",
      "Hänsel\n",
      "Die Linke\n",
      "11003763\n",
      "\n",
      "\n",
      "None\n",
      "None\n",
      "Steffi\n",
      "Lemke\n",
      "Bündnis 90 / Die Grünen\n",
      "11002720\n",
      "W.\n",
      "Birkwald\n",
      "Die Linke\n",
      "None\n",
      "Steffi\n",
      "Lemke\n",
      "Bündnis 90 / Die Grünen\n",
      "11002720\n",
      "Beate\n",
      "Müller-Gemmeke\n",
      "Bündnis 90 / Die Grünen\n",
      "11004117\n",
      "Steffi\n",
      "Lemke\n",
      "Bündnis 90 / Die Grünen\n",
      "11002720\n",
      "W.\n",
      "Birkwald\n",
      "Die Linke\n",
      "None\n",
      "Jessica\n",
      "Tatti\n",
      "Die Linke\n",
      "11004911\n",
      "W.\n",
      "Birkwald\n",
      "Die Linke\n",
      "None\n",
      "Jessica\n",
      "Tatti\n",
      "Die Linke\n",
      "11004911\n",
      "Kerstin\n",
      "Tack\n",
      "SPD\n",
      "11004173\n",
      "Beate\n",
      "Müller-Gemmeke\n",
      "Bündnis 90 / Die Grünen\n",
      "11004117\n",
      "Kerstin\n",
      "Tack\n",
      "SPD\n",
      "11004173\n",
      "Martin\n",
      "Rosemann\n",
      "SPD\n",
      "11004389\n",
      "Peter\n",
      "Weiß\n",
      "CDU/CSU\n",
      "11003255\n",
      "Kai\n",
      "Whittaker\n",
      "CDU/CSU\n",
      "11004443\n",
      "W.\n",
      "Birkwald\n",
      "Die Linke\n",
      "None\n",
      "Kai\n",
      "Whittaker\n",
      "CDU/CSU\n",
      "11004443\n",
      "Johannes\n",
      "Vogel\n",
      "FDP\n",
      "11004179\n",
      "Beate\n",
      "Müller-Gemmeke\n",
      "Bündnis 90 / Die Grünen\n",
      "11004117\n",
      "W.\n",
      "Birkwald\n",
      "Die Linke\n",
      "None\n",
      "Christian\n",
      "Lindner\n",
      "FDP\n",
      "11004097\n",
      "Graf\n",
      "Lambsdorff\n",
      "FDP\n",
      "None\n",
      "W.\n",
      "Birkwald\n",
      "Die Linke\n",
      "None\n",
      "Jessica\n",
      "Tatti\n",
      "Die Linke\n",
      "11004911\n",
      "Johannes\n",
      "Vogel\n",
      "FDP\n",
      "11004179\n",
      "Kai\n",
      "Whittaker\n",
      "CDU/CSU\n",
      "11004443\n",
      "Martin\n",
      "Rosemann\n",
      "SPD\n",
      "11004389\n",
      "Matthias\n",
      "Zimmer\n",
      "CDU/CSU\n",
      "11004192\n",
      "Martin\n",
      "Rosemann\n",
      "SPD\n",
      "11004389\n",
      "W.\n",
      "Birkwald\n",
      "Die Linke\n",
      "None\n",
      "Matthias\n",
      "Zimmer\n",
      "CDU/CSU\n",
      "11004192\n",
      "Beate\n",
      "Müller-Gemmeke\n",
      "Bündnis 90 / Die Grünen\n",
      "11004117\n",
      "W.\n",
      "Birkwald\n",
      "Die Linke\n",
      "None\n",
      "Beate\n",
      "Müller-­Gemmeke\n",
      "Bündnis 90 / Die Grünen\n",
      "None\n",
      "Kerstin\n",
      "Tack\n",
      "SPD\n",
      "11004173\n",
      "Beate\n",
      "Müller-Gemmeke\n",
      "Bündnis 90 / Die Grünen\n",
      "11004117\n",
      "Karsten\n",
      "Hilse\n",
      "AfD\n",
      "11004752\n",
      "Johannes\n",
      "Vogel\n",
      "FDP\n",
      "11004179\n",
      "Beate\n",
      "Müller-­Gemmeke\n",
      "Bündnis 90 / Die Grünen\n",
      "None\n",
      "Johannes\n",
      "Vogel\n",
      "FDP\n",
      "11004179\n",
      "Johannes\n",
      "Vogel\n",
      "FDP\n",
      "11004179\n",
      "W.\n",
      "Birkwald\n",
      "Die Linke\n",
      "None\n",
      "Leif-Erik\n",
      "Holm\n",
      "AfD\n",
      "11004761\n",
      "Leif-Erik\n",
      "Holm\n",
      "AfD\n",
      "11004761\n",
      "Leif-Erik\n",
      "Holm\n",
      "AfD\n",
      "11004761\n",
      "W.\n",
      "Birkwald\n",
      "Die Linke\n",
      "None\n",
      "\n",
      "\n",
      "None\n",
      "None\n",
      "\n",
      "\n",
      "None\n",
      "None\n",
      "Matthias\n",
      "Zimmer\n",
      "CDU/CSU\n",
      "11004192\n",
      "Kai\n",
      "Whittaker\n",
      "CDU/CSU\n",
      "11004443\n",
      "Johannes\n",
      "Vogel\n",
      "FDP\n",
      "11004179\n",
      "Wolfgang\n",
      "Strengmann-Kuhn\n",
      "Bündnis 90 / Die Grünen\n",
      "11003888\n",
      "Kai\n",
      "Whittaker\n",
      "CDU/CSU\n",
      "11004443\n",
      "W.\n",
      "Birkwald\n",
      "Die Linke\n",
      "None\n",
      "Beate\n",
      "Müller-Gemmeke\n",
      "Bündnis 90 / Die Grünen\n",
      "11004117\n",
      "Kai\n",
      "Whittaker\n",
      "CDU/CSU\n",
      "11004443\n",
      "Matthias\n",
      "Zimmer\n",
      "CDU/CSU\n",
      "11004192\n",
      "Matthias\n",
      "Zimmer\n",
      "CDU/CSU\n",
      "11004192\n",
      "Matthias\n",
      "Zimmer\n",
      "CDU/CSU\n",
      "11004192\n",
      "\n",
      "\n",
      "None\n",
      "None\n",
      "W.\n",
      "Birkwald\n",
      "Die Linke\n",
      "None\n",
      "Kai\n",
      "Whittaker\n",
      "CDU/CSU\n",
      "11004443\n",
      "Lisa\n",
      "Paus\n",
      "Bündnis 90 / Die Grünen\n",
      "11004127\n",
      "Matthias\n",
      "Zimmer\n",
      "CDU/CSU\n",
      "11004192\n",
      "Matthias\n",
      "Zimmer\n",
      "CDU/CSU\n",
      "11004192\n",
      "Matthias\n",
      "Zimmer\n",
      "CDU/CSU\n",
      "11004192\n"
     ]
    }
   ],
   "source": [
    "# quite some work, but we could write a function to match speaker ID to names from the shouts\n",
    "# --> no guarantee to match all \n",
    "\n",
    "# get the speakers name using the Bundestag API --> GetSpeakerByID Endpoint\n",
    "\n",
    "for i in range(len(data['NLPSpeeches'])):\n",
    "\n",
    "    #print(data['NLPSpeeches'][i].keys())\n",
    "\n",
    "    for j in range(len(data['NLPSpeeches'][i][\"Segments\"])):\n",
    "        #print(data['NLPSpeeches'][i][\"Segments\"][j][\"Shouts\"])\n",
    "\n",
    "        if len(data['NLPSpeeches'][i][\"Segments\"][j][\"Shouts\"]) > 0:\n",
    "            \n",
    "            for k in range(len(data['NLPSpeeches'][i][\"Segments\"][j][\"Shouts\"])):\n",
    "\n",
    "                if data['NLPSpeeches'][i][\"Segments\"][j][\"Shouts\"][k][\"FirstName\"] != None:\n",
    "\n",
    "                    print(data['NLPSpeeches'][i][\"Segments\"][j][\"Shouts\"][k][\"FirstName\"])\n",
    "                    print(data['NLPSpeeches'][i][\"Segments\"][j][\"Shouts\"][k][\"LastName\"])\n",
    "                    print(data['NLPSpeeches'][i][\"Segments\"][j][\"Shouts\"][k][\"Fraction\"])\n",
    "                    print(data['NLPSpeeches'][i][\"Segments\"][j][\"Shouts\"][k][\"SpeakerId\"])\n",
    "            #print()\n",
    "\n",
    "        #print(data['NLPSpeeches'][i][j]['Shouts'][\"LastName\"])\n",
    "               \n",
    "               \n",
    "               \n",
    "               \n",
    "               #[28]['Segments']#['Shouts']"
   ]
  }
 ],
 "metadata": {
  "kernelspec": {
   "display_name": "DeepLearn",
   "language": "python",
   "name": "python3"
  },
  "language_info": {
   "codemirror_mode": {
    "name": "ipython",
    "version": 3
   },
   "file_extension": ".py",
   "mimetype": "text/x-python",
   "name": "python",
   "nbconvert_exporter": "python",
   "pygments_lexer": "ipython3",
   "version": "3.13.2"
  }
 },
 "nbformat": 4,
 "nbformat_minor": 5
}
