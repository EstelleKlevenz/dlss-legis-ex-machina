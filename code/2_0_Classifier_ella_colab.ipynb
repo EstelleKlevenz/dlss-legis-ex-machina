{
  "cells": [
    {
      "cell_type": "markdown",
      "id": "c1f1e0cb",
      "metadata": {
        "id": "c1f1e0cb"
      },
      "source": [
        "# Fine-tuning Classifier LLM\n"
      ]
    },
    {
      "cell_type": "code",
      "execution_count": null,
      "id": "605d0b0a",
      "metadata": {
        "colab": {
          "base_uri": "https://localhost:8080/"
        },
        "id": "605d0b0a",
        "outputId": "0ea3b554-eb04-40af-db96-3855180c182c"
      },
      "outputs": [
        {
          "name": "stdout",
          "output_type": "stream",
          "text": [
            "cuda\n"
          ]
        }
      ],
      "source": [
        "# setup - load packages\n",
        "import pandas as pd\n",
        "from datasets import Dataset\n",
        "import torch\n",
        "import numpy as np\n",
        "from transformers import AutoTokenizer, AutoModelForSequenceClassification\n",
        "import torch.nn.functional as F\n",
        "from sklearn.metrics import (\n",
        "    accuracy_score,\n",
        "    classification_report,\n",
        "    confusion_matrix,\n",
        "    f1_score,\n",
        "    precision_score,\n",
        "    recall_score,\n",
        "    balanced_accuracy_score\n",
        ")\n",
        "import matplotlib.pyplot as plt\n",
        "import seaborn as sns\n",
        "from transformers import TrainingArguments, Trainer\n",
        "\n",
        "# Set up device (is available use GPU to speed up computations)\n",
        "device = torch.device(\"cuda\" if torch.cuda.is_available() else \"cpu\")\n",
        "print(device)\n",
        "\n",
        "seed = 13"
      ]
    },
    {
      "cell_type": "code",
      "execution_count": null,
      "id": "9124e7b1",
      "metadata": {},
      "outputs": [],
      "source": [
        "classifier_data = pd.read_csv(\"../data/classifier_data_A.csv\")\n",
        "# converting to huggingface dataset format\n",
        "data = Dataset.from_pandas(classifier_data)\n",
        "# splitting into train, test and validation sets\n",
        "# party data\n",
        "raw_dataset = data.shuffle(seed=seed)\n",
        "\n",
        "# 70% train, 15% test, 15% validation data\n",
        "split = raw_dataset.train_test_split(test_size=0.3, seed=seed)\n",
        "train_data = split[\"train\"]\n",
        "text_and_val_data = split[\"test\"]\n",
        "split = text_and_val_data.train_test_split(test_size=0.5, seed=seed)\n",
        "test_data = split[\"train\"]\n",
        "val_data = split[\"test\"]\n",
        "\n",
        "print(f\"Training samples party: {len(train_data)}\")\n",
        "print(f\"test samples party: {len(test_data)}\")\n",
        "print(f\"Validation samples party: {len(val_data)}\")\n",
        "\n",
        "\n",
        "\n",
        "# data balancing??\n"
      ]
    },
    {
      "cell_type": "code",
      "execution_count": 33,
      "id": "fd8bc2b5",
      "metadata": {
        "colab": {
          "base_uri": "https://localhost:8080/"
        },
        "id": "fd8bc2b5",
        "outputId": "55ab4fb4-4e66-4b0a-ed3a-4258ba8ef30f"
      },
      "outputs": [
        {
          "name": "stderr",
          "output_type": "stream",
          "text": [
            "Some weights of BertForSequenceClassification were not initialized from the model checkpoint at bert-base-german-cased and are newly initialized: ['classifier.bias', 'classifier.weight']\n",
            "You should probably TRAIN this model on a down-stream task to be able to use it for predictions and inference.\n"
          ]
        },
        {
          "name": "stdout",
          "output_type": "stream",
          "text": [
            "Model parameters: 109,085,958\n"
          ]
        }
      ],
      "source": [
        "# Load Model\n",
        "model_name = \"bert-base-german-cased\"\n",
        "num_labels = 6\n",
        "max_length = 512\n",
        "tokenizer = AutoTokenizer.from_pretrained(model_name)\n",
        "model = AutoModelForSequenceClassification.from_pretrained(model_name, num_labels= num_labels) # classification head with one linear layer and num_label outputs is added on top of model here.\n",
        "\n",
        "print(f\"Model parameters: {model.num_parameters():,}\")\n",
        "\n",
        "# quantized?!"
      ]
    },
    {
      "cell_type": "code",
      "execution_count": null,
      "id": "794e5296",
      "metadata": {
        "id": "794e5296"
      },
      "outputs": [],
      "source": [
        "# define prediction function\n",
        "# Define possible label names\n",
        "label_names = ['CDU/CSU', 'SPD', 'GRÜNE', 'FDP', 'AfD', 'LINKE']\n",
        "\n",
        "\n",
        "def predicting_probs(model, speech):\n",
        "    # Put model in eval mode\n",
        "    model.eval()\n",
        "\n",
        "    #  Tokenize input speeches\n",
        "    tokens = tokenizer(speech, return_tensors=\"pt\", truncation=False)[\"input_ids\"][0]\n",
        "\n",
        "    chunks = [tokens[i:i+max_length] for i in range(0, len(tokens), max_length)]\n",
        "\n",
        "    all_probs = []\n",
        "    i = 0\n",
        "    for chunk in chunks:\n",
        "        input_dict = {\"input_ids\": chunk.unsqueeze(0)}  # Add batch dimension\n",
        "        # Add attention mask\n",
        "        input_dict[\"attention_mask\"] = (chunk != tokenizer.pad_token_id).unsqueeze(0)\n",
        "\n",
        "\n",
        "        # Run model to predict baseline\n",
        "        with torch.no_grad():\n",
        "            outputs = model(**input_dict)\n",
        "            logits = outputs.logits\n",
        "            probabilities = F.softmax(logits, dim=1)\n",
        "            all_probs.append(probabilities)\n",
        "            i+=1\n",
        "    # averaging probabilites over all probabilities in speech parts\n",
        "    avg_probs = torch.mean(torch.cat(all_probs, dim=0), dim=0)\n",
        "    print(i , avg_probs)\n",
        "\n",
        "    return avg_probs\n",
        "\n",
        "\n",
        "def predicting_probs_to_preds(model, speech):\n",
        "    # get probabilites\n",
        "    probabilities = predicting_probs(model, speech)\n",
        "    # convert to predictions\n",
        "    predictions_nr = torch.argmax(probabilities).item()\n",
        "    predictions = label_names[predictions_nr]\n",
        "    return predictions, probabilities\n",
        "\n"
      ]
    },
    {
      "cell_type": "code",
      "execution_count": null,
      "id": "bd13f334",
      "metadata": {
        "id": "bd13f334"
      },
      "outputs": [],
      "source": [
        "# collect evaluation data\n",
        "def evaluate_model(model, data):\n",
        "    prediction_list = []\n",
        "    probability_list = []\n",
        "    true_label_list = []\n",
        "\n",
        "    for i, row in enumerate(data):\n",
        "        speech = row[\"speech_text\"]\n",
        "        pred, probs = predicting_probs_to_preds(model, speech)\n",
        "        true_label = row[\"label\"]\n",
        "        prediction_list.append(pred)\n",
        "        probability_list.append(probs)\n",
        "        true_label_list.append(true_label)\n",
        "\n",
        "        if (i+1) % 100 == 0:\n",
        "            print(f\"Processed samples {i+1} of {len(data)} samples.\")\n",
        "\n",
        "    return prediction_list, probability_list, true_label_list\n",
        "\n",
        "\n",
        "# define function to display eval metrics\n",
        "def get_metrics(true_labels, preds):\n",
        "    metrics_summary = {}\n",
        "\n",
        "    acc = accuracy_score(true_labels, preds)\n",
        "    bal_acc = balanced_accuracy_score(true_labels, preds)\n",
        "\n",
        "    precision = precision_score(true_labels, preds, average='macro', zero_division=0)\n",
        "    recall = recall_score(true_labels, preds, average='macro', zero_division=0)\n",
        "    f1 = f1_score(true_labels, preds, average='macro', zero_division=0)\n",
        "\n",
        "    label_order = sorted(set(true_labels).union(set(preds)))\n",
        "    report = classification_report(true_labels, preds, labels=label_order, zero_division=0)\n",
        "    metrics_summary[model_name] = {\n",
        "        'acc': acc,\n",
        "        'bal_acc': bal_acc,\n",
        "        'precision': precision,\n",
        "        'recall': recall,\n",
        "        'f1': f1\n",
        "    }\n",
        "    # print metrics\n",
        "    print(f\"Model: {model_name}\")\n",
        "    print(f\"  Accuracy: {acc}\")\n",
        "    print(f\"  Balanced Accuracy: {bal_acc}\")\n",
        "    print(f\"  Precision: {precision}\")\n",
        "    print(f\"  Recall: {recall}\")\n",
        "    print(f\"  F1-score: {f1}\")\n",
        "    print(f\"  Classification Report:\\n{report}\")\n",
        "\n",
        "\n",
        "    # Confusion Matrix\n",
        "    label_order = sorted(set(true_labels).union(set(preds)))\n",
        "    cm = confusion_matrix(true_labels, preds, labels=label_order)\n",
        "    cm_df = pd.DataFrame(cm, index=label_order, columns=label_order)\n",
        "\n",
        "    plt.figure(figsize=(8, 6))\n",
        "    sns.heatmap(cm_df, annot=True, fmt='d', cmap='Blues')\n",
        "    plt.title(f\"Confusion Matrix - {model_name}\")\n",
        "    plt.ylabel(\"True Label\")\n",
        "    plt.xlabel(\"Predicted Label\")\n",
        "    plt.tight_layout()\n",
        "    plt.show()\n",
        "\n",
        "\n",
        "    return metrics_summary\n",
        "\n",
        "\n",
        "\n",
        "\n",
        "\n"
      ]
    },
    {
      "cell_type": "code",
      "execution_count": null,
      "id": "76ef73a1",
      "metadata": {
        "id": "76ef73a1",
        "outputId": "354d72ef-886a-4c49-e075-bea7b70fae9f"
      },
      "outputs": [
        {
          "name": "stdout",
          "output_type": "stream",
          "text": [
            "2 tensor([0.1638, 0.1763, 0.1356, 0.1829, 0.1976, 0.1439])\n",
            "2 tensor([0.1672, 0.1794, 0.1407, 0.1917, 0.1851, 0.1359])\n",
            "4 tensor([0.1416, 0.1736, 0.1349, 0.1676, 0.2092, 0.1731])\n",
            "1 tensor([0.1766, 0.1864, 0.1316, 0.1716, 0.1737, 0.1600])\n",
            "2 tensor([0.1714, 0.1774, 0.1366, 0.1686, 0.1937, 0.1523])\n",
            "3 tensor([0.1592, 0.1944, 0.1489, 0.1750, 0.1919, 0.1307])\n",
            "2 tensor([0.1515, 0.1829, 0.1564, 0.1505, 0.2032, 0.1556])\n",
            "2 tensor([0.1481, 0.1805, 0.1386, 0.1783, 0.2015, 0.1530])\n",
            "2 tensor([0.1567, 0.1791, 0.1503, 0.1910, 0.1812, 0.1417])\n",
            "2 tensor([0.1830, 0.1787, 0.1432, 0.1813, 0.1825, 0.1314])\n",
            "2 tensor([0.1488, 0.1712, 0.1350, 0.1757, 0.2253, 0.1440])\n",
            "1 tensor([0.1555, 0.1856, 0.1391, 0.1738, 0.2094, 0.1366])\n",
            "3 tensor([0.1610, 0.1727, 0.1535, 0.1758, 0.1915, 0.1454])\n",
            "2 tensor([0.1663, 0.1954, 0.1321, 0.1807, 0.1814, 0.1442])\n",
            "2 tensor([0.1624, 0.1677, 0.1351, 0.1836, 0.2178, 0.1335])\n",
            "3 tensor([0.1588, 0.1871, 0.1419, 0.1819, 0.1936, 0.1367])\n",
            "2 tensor([0.1479, 0.1596, 0.1451, 0.1900, 0.2028, 0.1545])\n",
            "2 tensor([0.1501, 0.1819, 0.1434, 0.1694, 0.1910, 0.1641])\n",
            "3 tensor([0.1663, 0.1714, 0.1433, 0.1874, 0.1898, 0.1418])\n",
            "3 tensor([0.1525, 0.1745, 0.1439, 0.1830, 0.1939, 0.1522])\n",
            "[tensor([0.1638, 0.1763, 0.1356, 0.1829, 0.1976, 0.1439]), tensor([0.1672, 0.1794, 0.1407, 0.1917, 0.1851, 0.1359]), tensor([0.1416, 0.1736, 0.1349, 0.1676, 0.2092, 0.1731]), tensor([0.1766, 0.1864, 0.1316, 0.1716, 0.1737, 0.1600]), tensor([0.1714, 0.1774, 0.1366, 0.1686, 0.1937, 0.1523]), tensor([0.1592, 0.1944, 0.1489, 0.1750, 0.1919, 0.1307]), tensor([0.1515, 0.1829, 0.1564, 0.1505, 0.2032, 0.1556]), tensor([0.1481, 0.1805, 0.1386, 0.1783, 0.2015, 0.1530]), tensor([0.1567, 0.1791, 0.1503, 0.1910, 0.1812, 0.1417]), tensor([0.1830, 0.1787, 0.1432, 0.1813, 0.1825, 0.1314]), tensor([0.1488, 0.1712, 0.1350, 0.1757, 0.2253, 0.1440]), tensor([0.1555, 0.1856, 0.1391, 0.1738, 0.2094, 0.1366]), tensor([0.1610, 0.1727, 0.1535, 0.1758, 0.1915, 0.1454]), tensor([0.1663, 0.1954, 0.1321, 0.1807, 0.1814, 0.1442]), tensor([0.1624, 0.1677, 0.1351, 0.1836, 0.2178, 0.1335]), tensor([0.1588, 0.1871, 0.1419, 0.1819, 0.1936, 0.1367]), tensor([0.1479, 0.1596, 0.1451, 0.1900, 0.2028, 0.1545]), tensor([0.1501, 0.1819, 0.1434, 0.1694, 0.1910, 0.1641]), tensor([0.1663, 0.1714, 0.1433, 0.1874, 0.1898, 0.1418]), tensor([0.1525, 0.1745, 0.1439, 0.1830, 0.1939, 0.1522])]\n",
            "Model: bert-base-german-cased\n",
            "  Accuracy: 0.1\n",
            "  Balanced Accuracy: 0.1\n",
            "  Precision: 0.02857142857142857\n",
            "  Recall: 0.1\n",
            "  F1-score: 0.044444444444444446\n",
            "  Classification Report:\n",
            "              precision    recall  f1-score   support\n",
            "\n",
            "         AfD       0.14      0.50      0.22         4\n",
            "     CDU/CSU       0.00      0.00      0.00         4\n",
            "         FDP       0.00      0.00      0.00         2\n",
            "       GRÜNE       0.00      0.00      0.00         6\n",
            "         SPD       0.00      0.00      0.00         4\n",
            "\n",
            "    accuracy                           0.10        20\n",
            "   macro avg       0.03      0.10      0.04        20\n",
            "weighted avg       0.03      0.10      0.04        20\n",
            "\n"
          ]
        },
        {
          "data": {
            "image/png": "[encoded data removed]",
            "text/plain": [
              "<Figure size 800x600 with 2 Axes>"
            ]
          },
          "metadata": {},
          "output_type": "display_data"
        },
        {
          "data": {
            "text/plain": [
              "{'bert-base-german-cased': {'acc': 0.1,\n",
              "  'bal_acc': 0.1,\n",
              "  'precision': 0.02857142857142857,\n",
              "  'recall': 0.1,\n",
              "  'f1': 0.044444444444444446}}"
            ]
          },
          "execution_count": 91,
          "metadata": {},
          "output_type": "execute_result"
        }
      ],
      "source": [
        "# Get zero-shot example performance\n",
        "prediction_list, probability_list, true_label_list = evaluate_model(model, val_data)\n",
        "print(probability_list)\n",
        "get_metrics(true_label_list, prediction_list)"
      ]
    },
    {
      "cell_type": "code",
      "execution_count": null,
      "id": "HrW5F9eWTam9",
      "metadata": {
        "id": "HrW5F9eWTam9"
      },
      "outputs": [],
      "source": [
        "preprocessed_data = preprocessed_data[:2000]"
      ]
    },
    {
      "cell_type": "code",
      "execution_count": 34,
      "id": "1e33c6f7",
      "metadata": {
        "colab": {
          "base_uri": "https://localhost:8080/",
          "height": 49,
          "referenced_widgets": [
            "82fb3c74149549548fa0978404b28325",
            "694f85eb9d41453ea6a15663cc77d904",
            "f1f30762e0ee45c5ae0546c9f28ab80e",
            "6930ad9c33554cb58eca93d56e18bafe",
            "9bebe5cafdb24289bd757def59ef2d0f",
            "10b0f660d8f84900bc9c17f84fa1a848",
            "e411ce98cfc2494ea81e0f571d87a683",
            "4244d8904a824677b0a8e813691bd8a2",
            "8e78d00a6096452b9359418790989408",
            "122df21abbff4c62b25a394694a45790",
            "3eddf7ad5a8349eea83a0f7b9cc38b08"
          ]
        },
        "id": "1e33c6f7",
        "outputId": "208c61b3-b742-4ad1-d2ab-0912b250cf97"
      },
      "outputs": [
        {
          "data": {
            "application/vnd.jupyter.widget-view+json": {
              "model_id": "82fb3c74149549548fa0978404b28325",
              "version_major": 2,
              "version_minor": 0
            },
            "text/plain": [
              "Map:   0%|          | 0/36117 [00:00<?, ? examples/s]"
            ]
          },
          "metadata": {},
          "output_type": "display_data"
        }
      ],
      "source": [
        "party_to_id = {party: i for i, party in enumerate(sorted(preprocessed_data['label'].unique()))}\n",
        "preprocessed_data['label'] = preprocessed_data['label'].map(party_to_id)\n",
        "\n",
        "# Convert to Hugging Face Dataset\n",
        "dataset = Dataset.from_pandas(preprocessed_data)\n",
        "\n",
        "# Tokenize\n",
        "def tokenize(batch):\n",
        "    return tokenizer(batch['speech_text'], truncation=True, padding='max_length', max_length=max_length)\n",
        "\n",
        "dataset = dataset.map(tokenize, batched=True)\n",
        "dataset = dataset.rename_column(\"label\", \"labels\")  # required name\n",
        "dataset.set_format(type='torch', columns=['input_ids', 'attention_mask', 'labels'])\n",
        "\n",
        "dataset = dataset.train_test_split(test_size=0.3)  # 90% train, 10% val\n",
        "train_dataset = dataset['train']\n",
        "val_and_test_dataset = dataset['test']\n",
        "val_and_test_dataset = val_and_test_dataset.train_test_split(test_size=0.5)  # 90% train, 10% val\n",
        "val_dataset = val_and_test_dataset['train']\n",
        "test_dataset = val_and_test_dataset['test']"
      ]
    },
    {
      "cell_type": "code",
      "execution_count": 35,
      "id": "a1a9a357",
      "metadata": {
        "id": "a1a9a357"
      },
      "outputs": [],
      "source": [
        "# fine-tunen\n",
        "training_args = TrainingArguments(\n",
        "    output_dir=\"./bert-finetuned\",\n",
        "    eval_strategy=\"epoch\",\n",
        "    save_strategy=\"epoch\",\n",
        "    learning_rate=2e-5,\n",
        "    per_device_train_batch_size=8,\n",
        "    per_device_eval_batch_size=8,\n",
        "    num_train_epochs=3,\n",
        "    weight_decay=0.01,\n",
        "    logging_dir=\"./logs\",\n",
        "    load_best_model_at_end=True,\n",
        "    metric_for_best_model=\"accuracy\"\n",
        ")\n",
        "\n",
        "\n",
        "import evaluate\n",
        "accuracy = evaluate.load(\"accuracy\")\n",
        "\n",
        "def compute_metrics(eval_pred):\n",
        "    logits, labels = eval_pred\n",
        "    predictions = logits.argmax(axis=-1)\n",
        "    return accuracy.compute(predictions=predictions, references=labels)\n"
      ]
    },
    {
      "cell_type": "code",
      "execution_count": 36,
      "id": "47c2a569",
      "metadata": {
        "colab": {
          "base_uri": "https://localhost:8080/",
          "height": 375
        },
        "id": "47c2a569",
        "outputId": "5af1b6db-2028-48f3-b4b7-7e5e99248237"
      },
      "outputs": [
        {
          "name": "stderr",
          "output_type": "stream",
          "text": [
            "/tmp/ipython-input-1549188525.py:1: FutureWarning: `tokenizer` is deprecated and will be removed in version 5.0.0 for `Trainer.__init__`. Use `processing_class` instead.\n",
            "  trainer = Trainer(\n",
            "/usr/local/lib/python3.11/dist-packages/torch/nn/modules/module.py:1750: FutureWarning: `encoder_attention_mask` is deprecated and will be removed in version 4.55.0 for `BertSdpaSelfAttention.forward`.\n",
            "  return forward_call(*args, **kwargs)\n"
          ]
        },
        {
          "data": {
            "text/html": [
              "\n",
              "    <div>\n",
              "      \n",
              "      <progress value='9483' max='9483' style='width:300px; height:20px; vertical-align: middle;'></progress>\n",
              "      [9483/9483 28:25, Epoch 3/3]\n",
              "    </div>\n",
              "    <table border=\"1\" class=\"dataframe\">\n",
              "  <thead>\n",
              " <tr style=\"text-align: left;\">\n",
              "      <th>Epoch</th>\n",
              "      <th>Training Loss</th>\n",
              "      <th>Validation Loss</th>\n",
              "      <th>Accuracy</th>\n",
              "    </tr>\n",
              "  </thead>\n",
              "  <tbody>\n",
              "    <tr>\n",
              "      <td>1</td>\n",
              "      <td>0.949800</td>\n",
              "      <td>0.873547</td>\n",
              "      <td>0.659468</td>\n",
              "    </tr>\n",
              "    <tr>\n",
              "      <td>2</td>\n",
              "      <td>0.672300</td>\n",
              "      <td>0.771991</td>\n",
              "      <td>0.706165</td>\n",
              "    </tr>\n",
              "    <tr>\n",
              "      <td>3</td>\n",
              "      <td>0.396900</td>\n",
              "      <td>0.857263</td>\n",
              "      <td>0.717977</td>\n",
              "    </tr>\n",
              "  </tbody>\n",
              "</table><p>"
            ],
            "text/plain": [
              "<IPython.core.display.HTML object>"
            ]
          },
          "metadata": {},
          "output_type": "display_data"
        },
        {
          "name": "stderr",
          "output_type": "stream",
          "text": [
            "/usr/local/lib/python3.11/dist-packages/torch/nn/modules/module.py:1750: FutureWarning: `encoder_attention_mask` is deprecated and will be removed in version 4.55.0 for `BertSdpaSelfAttention.forward`.\n",
            "  return forward_call(*args, **kwargs)\n",
            "/usr/local/lib/python3.11/dist-packages/torch/nn/modules/module.py:1750: FutureWarning: `encoder_attention_mask` is deprecated and will be removed in version 4.55.0 for `BertSdpaSelfAttention.forward`.\n",
            "  return forward_call(*args, **kwargs)\n"
          ]
        },
        {
          "data": {
            "text/plain": [
              "TrainOutput(global_step=9483, training_loss=0.7657745885884197, metrics={'train_runtime': 1706.159, 'train_samples_per_second': 44.452, 'train_steps_per_second': 5.558, 'total_flos': 1.9955848447973376e+16, 'train_loss': 0.7657745885884197, 'epoch': 3.0})"
            ]
          },
          "execution_count": 36,
          "metadata": {},
          "output_type": "execute_result"
        }
      ],
      "source": [
        "trainer = Trainer(\n",
        "    model=model,\n",
        "    args=training_args,\n",
        "    train_dataset=train_dataset,\n",
        "    eval_dataset=val_dataset,\n",
        "    tokenizer=tokenizer,\n",
        "    compute_metrics=compute_metrics\n",
        ")\n",
        "\n",
        "# train\n",
        "trainer.train()\n"
      ]
    },
    {
      "cell_type": "code",
      "execution_count": 37,
      "id": "3fd06889",
      "metadata": {
        "colab": {
          "base_uri": "https://localhost:8080/",
          "height": 206
        },
        "id": "3fd06889",
        "outputId": "0dcf4e2c-301e-4669-c380-1171194f6d7d"
      },
      "outputs": [
        {
          "name": "stderr",
          "output_type": "stream",
          "text": [
            "/usr/local/lib/python3.11/dist-packages/torch/nn/modules/module.py:1750: FutureWarning: `encoder_attention_mask` is deprecated and will be removed in version 4.55.0 for `BertSdpaSelfAttention.forward`.\n",
            "  return forward_call(*args, **kwargs)\n"
          ]
        },
        {
          "data": {
            "text/html": [
              "\n",
              "    <div>\n",
              "      \n",
              "      <progress value='678' max='678' style='width:300px; height:20px; vertical-align: middle;'></progress>\n",
              "      [678/678 00:35]\n",
              "    </div>\n",
              "    "
            ],
            "text/plain": [
              "<IPython.core.display.HTML object>"
            ]
          },
          "metadata": {},
          "output_type": "display_data"
        },
        {
          "data": {
            "text/plain": [
              "{'eval_loss': 0.8572631478309631,\n",
              " 'eval_accuracy': 0.7179771133259505,\n",
              " 'eval_runtime': 35.9672,\n",
              " 'eval_samples_per_second': 150.637,\n",
              " 'eval_steps_per_second': 18.851,\n",
              " 'epoch': 3.0}"
            ]
          },
          "execution_count": 37,
          "metadata": {},
          "output_type": "execute_result"
        }
      ],
      "source": [
        "# validaten\n",
        "\n",
        "trainer.evaluate()"
      ]
    },
    {
      "cell_type": "code",
      "execution_count": null,
      "id": "eefcb924",
      "metadata": {
        "id": "eefcb924"
      },
      "outputs": [],
      "source": [
        "# compare 2 versions (erinnern!)\n",
        "\n"
      ]
    },
    {
      "cell_type": "code",
      "execution_count": null,
      "id": "657c9d90",
      "metadata": {
        "id": "657c9d90"
      },
      "outputs": [],
      "source": [
        "# outcomes test data conf matrix, accuracy\n",
        "\n"
      ]
    },
    {
      "cell_type": "code",
      "execution_count": null,
      "id": "272215fe",
      "metadata": {
        "id": "272215fe"
      },
      "outputs": [],
      "source": [
        "# save model for futher tests on LLM generated speeches\n",
        "\n"
      ]
    },
    {
      "cell_type": "markdown",
      "id": "40d23ef6",
      "metadata": {
        "id": "40d23ef6"
      },
      "source": [
        "__________________________________________________________________________________\n",
        "\n",
        "Old to save\n",
        "__________________________________________________________________________________"
      ]
    },
    {
      "cell_type": "code",
      "execution_count": null,
      "id": "1994e316",
      "metadata": {
        "id": "1994e316"
      },
      "outputs": [],
      "source": [
        "# Load Model\n",
        "model_name = \"bert-base-german-cased\"\n",
        "num_labels = 6\n",
        "max_length = 512\n",
        "tokenizer = AutoTokenizer.from_pretrained(model_name)\n",
        "model = AutoModelForSequenceClassification.from_pretrained(model_name, num_labels= num_labels) # classification head with one linear layer and num_label outputs is added on top of model here.\n",
        "\n",
        "print(f\"Model parameters: {model.num_parameters():,}\")\n",
        "\n",
        "# Put model in eval mode\n",
        "model.eval()\n",
        "\n",
        "# Define possible label names\n",
        "label_names = ['CDU/CSU', 'SPD', 'GRÜNE', 'FDP', 'AfD', 'LINKE']\n",
        "\n",
        "#  Tokenize input speeches\n",
        "inputs = tokenizer(val_data_subset[\"speech_text\"], return_tensors=\"pt\", padding=True, truncation=False) # padding pads all speeches to the same length and truncation cuts all speeches to 512 tokens\n",
        "\n",
        "# Run model to predict basline\n",
        "with torch.no_grad(): # turns of gradient tracking, since we are not training\n",
        "    outputs = model(**inputs) # passes tokenized inputs into model, returns output dict\n",
        "    logits = outputs.logits # output dict contains logits\n",
        "    probabilities = F.softmax(logits, dim=1) # logits to probabilities\n",
        "    predictions = torch.argmax(probabilities, dim=1) # probabilities to predictions (i.e. highest probability)\n",
        "\n",
        "# 7. Print prediction examples\n",
        "for i, pred in enumerate(predictions):\n",
        "    print(f\"Speech {i+1}: predicted party = {label_names[pred]}\")\n",
        "print(logits)\n",
        "\n",
        "for i, probs in enumerate(probabilities):\n",
        "    print(f\"Speech {i+1} prediction:\")\n",
        "    for label, prob in zip(label_names, probs):\n",
        "        print(f\"  {label:7s}: {prob.item():.2%}\")"
      ]
    }
  ],
  "metadata": {
    "accelerator": "GPU",
    "colab": {
      "gpuType": "A100",
      "machine_shape": "hm",
      "provenance": []
    },
    "kernelspec": {
      "display_name": "Python 3",
      "name": "python3"
    },
    "language_info": {
      "codemirror_mode": {
        "name": "ipython",
        "version": 3
      },
      "file_extension": ".py",
      "mimetype": "text/x-python",
      "name": "python",
      "nbconvert_exporter": "python",
      "pygments_lexer": "ipython3",
      "version": "3.11.5"
    },
    "widgets": {
      "application/vnd.jupyter.widget-state+json": {
        "10b0f660d8f84900bc9c17f84fa1a848": {
          "model_module": "@jupyter-widgets/base",
          "model_module_version": "1.2.0",
          "model_name": "LayoutModel",
          "state": {
            "_model_module": "@jupyter-widgets/base",
            "_model_module_version": "1.2.0",
            "_model_name": "LayoutModel",
            "_view_count": null,
            "_view_module": "@jupyter-widgets/base",
            "_view_module_version": "1.2.0",
            "_view_name": "LayoutView",
            "align_content": null,
            "align_items": null,
            "align_self": null,
            "border": null,
            "bottom": null,
            "display": null,
            "flex": null,
            "flex_flow": null,
            "grid_area": null,
            "grid_auto_columns": null,
            "grid_auto_flow": null,
            "grid_auto_rows": null,
            "grid_column": null,
            "grid_gap": null,
            "grid_row": null,
            "grid_template_areas": null,
            "grid_template_columns": null,
            "grid_template_rows": null,
            "height": null,
            "justify_content": null,
            "justify_items": null,
            "left": null,
            "margin": null,
            "max_height": null,
            "max_width": null,
            "min_height": null,
            "min_width": null,
            "object_fit": null,
            "object_position": null,
            "order": null,
            "overflow": null,
            "overflow_x": null,
            "overflow_y": null,
            "padding": null,
            "right": null,
            "top": null,
            "visibility": null,
            "width": null
          }
        },
        "122df21abbff4c62b25a394694a45790": {
          "model_module": "@jupyter-widgets/base",
          "model_module_version": "1.2.0",
          "model_name": "LayoutModel",
          "state": {
            "_model_module": "@jupyter-widgets/base",
            "_model_module_version": "1.2.0",
            "_model_name": "LayoutModel",
            "_view_count": null,
            "_view_module": "@jupyter-widgets/base",
            "_view_module_version": "1.2.0",
            "_view_name": "LayoutView",
            "align_content": null,
            "align_items": null,
            "align_self": null,
            "border": null,
            "bottom": null,
            "display": null,
            "flex": null,
            "flex_flow": null,
            "grid_area": null,
            "grid_auto_columns": null,
            "grid_auto_flow": null,
            "grid_auto_rows": null,
            "grid_column": null,
            "grid_gap": null,
            "grid_row": null,
            "grid_template_areas": null,
            "grid_template_columns": null,
            "grid_template_rows": null,
            "height": null,
            "justify_content": null,
            "justify_items": null,
            "left": null,
            "margin": null,
            "max_height": null,
            "max_width": null,
            "min_height": null,
            "min_width": null,
            "object_fit": null,
            "object_position": null,
            "order": null,
            "overflow": null,
            "overflow_x": null,
            "overflow_y": null,
            "padding": null,
            "right": null,
            "top": null,
            "visibility": null,
            "width": null
          }
        },
        "3eddf7ad5a8349eea83a0f7b9cc38b08": {
          "model_module": "@jupyter-widgets/controls",
          "model_module_version": "1.5.0",
          "model_name": "DescriptionStyleModel",
          "state": {
            "_model_module": "@jupyter-widgets/controls",
            "_model_module_version": "1.5.0",
            "_model_name": "DescriptionStyleModel",
            "_view_count": null,
            "_view_module": "@jupyter-widgets/base",
            "_view_module_version": "1.2.0",
            "_view_name": "StyleView",
            "description_width": ""
          }
        },
        "4244d8904a824677b0a8e813691bd8a2": {
          "model_module": "@jupyter-widgets/base",
          "model_module_version": "1.2.0",
          "model_name": "LayoutModel",
          "state": {
            "_model_module": "@jupyter-widgets/base",
            "_model_module_version": "1.2.0",
            "_model_name": "LayoutModel",
            "_view_count": null,
            "_view_module": "@jupyter-widgets/base",
            "_view_module_version": "1.2.0",
            "_view_name": "LayoutView",
            "align_content": null,
            "align_items": null,
            "align_self": null,
            "border": null,
            "bottom": null,
            "display": null,
            "flex": null,
            "flex_flow": null,
            "grid_area": null,
            "grid_auto_columns": null,
            "grid_auto_flow": null,
            "grid_auto_rows": null,
            "grid_column": null,
            "grid_gap": null,
            "grid_row": null,
            "grid_template_areas": null,
            "grid_template_columns": null,
            "grid_template_rows": null,
            "height": null,
            "justify_content": null,
            "justify_items": null,
            "left": null,
            "margin": null,
            "max_height": null,
            "max_width": null,
            "min_height": null,
            "min_width": null,
            "object_fit": null,
            "object_position": null,
            "order": null,
            "overflow": null,
            "overflow_x": null,
            "overflow_y": null,
            "padding": null,
            "right": null,
            "top": null,
            "visibility": null,
            "width": null
          }
        },
        "6930ad9c33554cb58eca93d56e18bafe": {
          "model_module": "@jupyter-widgets/controls",
          "model_module_version": "1.5.0",
          "model_name": "HTMLModel",
          "state": {
            "_dom_classes": [],
            "_model_module": "@jupyter-widgets/controls",
            "_model_module_version": "1.5.0",
            "_model_name": "HTMLModel",
            "_view_count": null,
            "_view_module": "@jupyter-widgets/controls",
            "_view_module_version": "1.5.0",
            "_view_name": "HTMLView",
            "description": "",
            "description_tooltip": null,
            "layout": "IPY_MODEL_122df21abbff4c62b25a394694a45790",
            "placeholder": "​",
            "style": "IPY_MODEL_3eddf7ad5a8349eea83a0f7b9cc38b08",
            "value": " 36117/36117 [00:24&lt;00:00, 1386.94 examples/s]"
          }
        },
        "694f85eb9d41453ea6a15663cc77d904": {
          "model_module": "@jupyter-widgets/controls",
          "model_module_version": "1.5.0",
          "model_name": "HTMLModel",
          "state": {
            "_dom_classes": [],
            "_model_module": "@jupyter-widgets/controls",
            "_model_module_version": "1.5.0",
            "_model_name": "HTMLModel",
            "_view_count": null,
            "_view_module": "@jupyter-widgets/controls",
            "_view_module_version": "1.5.0",
            "_view_name": "HTMLView",
            "description": "",
            "description_tooltip": null,
            "layout": "IPY_MODEL_10b0f660d8f84900bc9c17f84fa1a848",
            "placeholder": "​",
            "style": "IPY_MODEL_e411ce98cfc2494ea81e0f571d87a683",
            "value": "Map: 100%"
          }
        },
        "82fb3c74149549548fa0978404b28325": {
          "model_module": "@jupyter-widgets/controls",
          "model_module_version": "1.5.0",
          "model_name": "HBoxModel",
          "state": {
            "_dom_classes": [],
            "_model_module": "@jupyter-widgets/controls",
            "_model_module_version": "1.5.0",
            "_model_name": "HBoxModel",
            "_view_count": null,
            "_view_module": "@jupyter-widgets/controls",
            "_view_module_version": "1.5.0",
            "_view_name": "HBoxView",
            "box_style": "",
            "children": [
              "IPY_MODEL_694f85eb9d41453ea6a15663cc77d904",
              "IPY_MODEL_f1f30762e0ee45c5ae0546c9f28ab80e",
              "IPY_MODEL_6930ad9c33554cb58eca93d56e18bafe"
            ],
            "layout": "IPY_MODEL_9bebe5cafdb24289bd757def59ef2d0f"
          }
        },
        "8e78d00a6096452b9359418790989408": {
          "model_module": "@jupyter-widgets/controls",
          "model_module_version": "1.5.0",
          "model_name": "ProgressStyleModel",
          "state": {
            "_model_module": "@jupyter-widgets/controls",
            "_model_module_version": "1.5.0",
            "_model_name": "ProgressStyleModel",
            "_view_count": null,
            "_view_module": "@jupyter-widgets/base",
            "_view_module_version": "1.2.0",
            "_view_name": "StyleView",
            "bar_color": null,
            "description_width": ""
          }
        },
        "9bebe5cafdb24289bd757def59ef2d0f": {
          "model_module": "@jupyter-widgets/base",
          "model_module_version": "1.2.0",
          "model_name": "LayoutModel",
          "state": {
            "_model_module": "@jupyter-widgets/base",
            "_model_module_version": "1.2.0",
            "_model_name": "LayoutModel",
            "_view_count": null,
            "_view_module": "@jupyter-widgets/base",
            "_view_module_version": "1.2.0",
            "_view_name": "LayoutView",
            "align_content": null,
            "align_items": null,
            "align_self": null,
            "border": null,
            "bottom": null,
            "display": null,
            "flex": null,
            "flex_flow": null,
            "grid_area": null,
            "grid_auto_columns": null,
            "grid_auto_flow": null,
            "grid_auto_rows": null,
            "grid_column": null,
            "grid_gap": null,
            "grid_row": null,
            "grid_template_areas": null,
            "grid_template_columns": null,
            "grid_template_rows": null,
            "height": null,
            "justify_content": null,
            "justify_items": null,
            "left": null,
            "margin": null,
            "max_height": null,
            "max_width": null,
            "min_height": null,
            "min_width": null,
            "object_fit": null,
            "object_position": null,
            "order": null,
            "overflow": null,
            "overflow_x": null,
            "overflow_y": null,
            "padding": null,
            "right": null,
            "top": null,
            "visibility": null,
            "width": null
          }
        },
        "e411ce98cfc2494ea81e0f571d87a683": {
          "model_module": "@jupyter-widgets/controls",
          "model_module_version": "1.5.0",
          "model_name": "DescriptionStyleModel",
          "state": {
            "_model_module": "@jupyter-widgets/controls",
            "_model_module_version": "1.5.0",
            "_model_name": "DescriptionStyleModel",
            "_view_count": null,
            "_view_module": "@jupyter-widgets/base",
            "_view_module_version": "1.2.0",
            "_view_name": "StyleView",
            "description_width": ""
          }
        },
        "f1f30762e0ee45c5ae0546c9f28ab80e": {
          "model_module": "@jupyter-widgets/controls",
          "model_module_version": "1.5.0",
          "model_name": "FloatProgressModel",
          "state": {
            "_dom_classes": [],
            "_model_module": "@jupyter-widgets/controls",
            "_model_module_version": "1.5.0",
            "_model_name": "FloatProgressModel",
            "_view_count": null,
            "_view_module": "@jupyter-widgets/controls",
            "_view_module_version": "1.5.0",
            "_view_name": "ProgressView",
            "bar_style": "success",
            "description": "",
            "description_tooltip": null,
            "layout": "IPY_MODEL_4244d8904a824677b0a8e813691bd8a2",
            "max": 36117,
            "min": 0,
            "orientation": "horizontal",
            "style": "IPY_MODEL_8e78d00a6096452b9359418790989408",
            "value": 36117
          }
        }
      }
    }
  },
  "nbformat": 4,
  "nbformat_minor": 5
}
